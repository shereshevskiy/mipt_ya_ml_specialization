{
 "cells": [
  {
   "cell_type": "markdown",
   "metadata": {},
   "source": [
    "# Рекомендательные системы"
   ]
  },
  {
   "cell_type": "markdown",
   "metadata": {},
   "source": [
    "## _Описание задачи_"
   ]
  },
  {
   "cell_type": "markdown",
   "metadata": {},
   "source": [
    "Небольшой интернет-магазин попросил вас добавить ранжирование товаров в блок \"Смотрели ранее\" - в нем теперь надо **показывать** не последние просмотренные пользователем товары, а те товары **из просмотренных**, которые он наиболее вероятно **купит**. Качество вашего решения будет оцениваться по количеству покупок в сравнении с прошлым решением в ходе **А/В теста**, т.к. по доходу от продаж **статзначимость будет достигаться _дольше_** из-за разброса цен. Таким образом, ничего заранее не зная про корреляцию оффлайновых и онлайновых метрик качества, в начале проекта вы можете лишь постараться оптимизировать **recall@k** и **precision@k**.\n",
    "\n",
    "Это задание посвящено построению простых бейзлайнов для этой задачи: ранжирование просмотренных товаров по **частоте просмотров** и по **частоте покупок**. Эти бейзлайны, с одной стороны, могут помочь вам **грубо оценить** возможный эффект от ранжирования товаров в блоке - например, чтобы вписать какие-то числа в коммерческое предложение заказчику, а с другой стороны, могут оказаться самым хорошим вариантом, если данных очень мало (недостаточно для обучения даже простых моделей)."
   ]
  },
  {
   "cell_type": "markdown",
   "metadata": {},
   "source": [
    "## _Входные данные_\n",
    "\n",
    "Вам дается **две** выборки с пользовательскими сессиями - **id-шниками просмотренных** и **id-шниками купленных** товаров. Одна выборка будет использоваться **для обучения** (оценки популярностей товаров), а другая - **для теста**.\n",
    "\n",
    "В файлах записаны сессии **по одной в каждой строке**. Формат сессии: **id просмотренных** товаров через \"**,**\" затем идёт \"**;**\" после чего следуют **id купленных товаров** (если такие имеются), разделённые запятой. Например, **1,2,3,4;** или **1,2,3,4;5,6**.\n",
    "\n",
    "Гарантируется, что среди **id** купленных товаров все **различные**."
   ]
  },
  {
   "cell_type": "markdown",
   "metadata": {},
   "source": [
    "## _Важно:_\n",
    "\n",
    "- Сессии, в которых пользователь ничего не купил, исключаем из оценки качества.\n",
    "- Если товар не встречался в обучающей выборке, его популярность равна 0.\n",
    "- Рекомендуем разные товары. И их число должно быть не больше, чем количество различных просмотренных пользователем товаров.\n",
    "- Рекомендаций всегда не больше, чем минимум из двух чисел: количество просмотренных пользователем товаров и **k** в **recall@k** / **precision@k**."
   ]
  },
  {
   "cell_type": "markdown",
   "metadata": {},
   "source": [
    "### Загрузим необходимые библиотеки"
   ]
  },
  {
   "cell_type": "code",
   "execution_count": 1,
   "metadata": {
    "collapsed": true
   },
   "outputs": [],
   "source": [
    "import pandas as pd\n",
    "import numpy as np\n",
    "from tqdm import tqdm_notebook\n",
    "from collections import defaultdict"
   ]
  },
  {
   "cell_type": "markdown",
   "metadata": {},
   "source": [
    "### загрузим данные"
   ]
  },
  {
   "cell_type": "code",
   "execution_count": 2,
   "metadata": {
    "collapsed": true
   },
   "outputs": [],
   "source": [
    "train = pd.read_csv('data/coursera_sessions_train.txt', sep=';', header=None, names=['viewed', 'bought'])\n",
    "test = pd.read_csv('data/coursera_sessions_test.txt', sep=';', header=None, names=['viewed', 'bought'])"
   ]
  },
  {
   "cell_type": "code",
   "execution_count": 3,
   "metadata": {},
   "outputs": [
    {
     "data": {
      "text/html": [
       "<div>\n",
       "<style>\n",
       "    .dataframe thead tr:only-child th {\n",
       "        text-align: right;\n",
       "    }\n",
       "\n",
       "    .dataframe thead th {\n",
       "        text-align: left;\n",
       "    }\n",
       "\n",
       "    .dataframe tbody tr th {\n",
       "        vertical-align: top;\n",
       "    }\n",
       "</style>\n",
       "<table border=\"1\" class=\"dataframe\">\n",
       "  <thead>\n",
       "    <tr style=\"text-align: right;\">\n",
       "      <th></th>\n",
       "      <th>viewed</th>\n",
       "      <th>bought</th>\n",
       "    </tr>\n",
       "  </thead>\n",
       "  <tbody>\n",
       "    <tr>\n",
       "      <th>0</th>\n",
       "      <td>0,1,2,3,4,5</td>\n",
       "      <td>NaN</td>\n",
       "    </tr>\n",
       "    <tr>\n",
       "      <th>1</th>\n",
       "      <td>9,10,11,9,11,12,9,11</td>\n",
       "      <td>NaN</td>\n",
       "    </tr>\n",
       "    <tr>\n",
       "      <th>2</th>\n",
       "      <td>16,17,18,19,20,21</td>\n",
       "      <td>NaN</td>\n",
       "    </tr>\n",
       "    <tr>\n",
       "      <th>3</th>\n",
       "      <td>24,25,26,27,24</td>\n",
       "      <td>NaN</td>\n",
       "    </tr>\n",
       "    <tr>\n",
       "      <th>4</th>\n",
       "      <td>34,35,36,34,37,35,36,37,38,39,38,39</td>\n",
       "      <td>NaN</td>\n",
       "    </tr>\n",
       "    <tr>\n",
       "      <th>5</th>\n",
       "      <td>42</td>\n",
       "      <td>NaN</td>\n",
       "    </tr>\n",
       "    <tr>\n",
       "      <th>6</th>\n",
       "      <td>47,48,49</td>\n",
       "      <td>NaN</td>\n",
       "    </tr>\n",
       "    <tr>\n",
       "      <th>7</th>\n",
       "      <td>59,60,61,62,60,63,64,65,66,61,67,68,67</td>\n",
       "      <td>67,60,63</td>\n",
       "    </tr>\n",
       "    <tr>\n",
       "      <th>8</th>\n",
       "      <td>71,72,73,74</td>\n",
       "      <td>NaN</td>\n",
       "    </tr>\n",
       "    <tr>\n",
       "      <th>9</th>\n",
       "      <td>76,77,78</td>\n",
       "      <td>NaN</td>\n",
       "    </tr>\n",
       "  </tbody>\n",
       "</table>\n",
       "</div>"
      ],
      "text/plain": [
       "                                   viewed    bought\n",
       "0                             0,1,2,3,4,5       NaN\n",
       "1                    9,10,11,9,11,12,9,11       NaN\n",
       "2                       16,17,18,19,20,21       NaN\n",
       "3                          24,25,26,27,24       NaN\n",
       "4     34,35,36,34,37,35,36,37,38,39,38,39       NaN\n",
       "5                                      42       NaN\n",
       "6                                47,48,49       NaN\n",
       "7  59,60,61,62,60,63,64,65,66,61,67,68,67  67,60,63\n",
       "8                             71,72,73,74       NaN\n",
       "9                                76,77,78       NaN"
      ]
     },
     "execution_count": 3,
     "metadata": {},
     "output_type": "execute_result"
    }
   ],
   "source": [
    "train.head(10)"
   ]
  },
  {
   "cell_type": "code",
   "execution_count": 4,
   "metadata": {},
   "outputs": [
    {
     "data": {
      "text/html": [
       "<div>\n",
       "<style>\n",
       "    .dataframe thead tr:only-child th {\n",
       "        text-align: right;\n",
       "    }\n",
       "\n",
       "    .dataframe thead th {\n",
       "        text-align: left;\n",
       "    }\n",
       "\n",
       "    .dataframe tbody tr th {\n",
       "        vertical-align: top;\n",
       "    }\n",
       "</style>\n",
       "<table border=\"1\" class=\"dataframe\">\n",
       "  <thead>\n",
       "    <tr style=\"text-align: right;\">\n",
       "      <th></th>\n",
       "      <th>viewed</th>\n",
       "      <th>bought</th>\n",
       "    </tr>\n",
       "  </thead>\n",
       "  <tbody>\n",
       "    <tr>\n",
       "      <th>0</th>\n",
       "      <td>6,7,8</td>\n",
       "      <td>NaN</td>\n",
       "    </tr>\n",
       "    <tr>\n",
       "      <th>1</th>\n",
       "      <td>13,14,15</td>\n",
       "      <td>NaN</td>\n",
       "    </tr>\n",
       "    <tr>\n",
       "      <th>2</th>\n",
       "      <td>22,23</td>\n",
       "      <td>NaN</td>\n",
       "    </tr>\n",
       "    <tr>\n",
       "      <th>3</th>\n",
       "      <td>28,29,30,31,32,33</td>\n",
       "      <td>NaN</td>\n",
       "    </tr>\n",
       "    <tr>\n",
       "      <th>4</th>\n",
       "      <td>40,41</td>\n",
       "      <td>NaN</td>\n",
       "    </tr>\n",
       "    <tr>\n",
       "      <th>5</th>\n",
       "      <td>43,44,43,45,43,45,43,46</td>\n",
       "      <td>NaN</td>\n",
       "    </tr>\n",
       "    <tr>\n",
       "      <th>6</th>\n",
       "      <td>50,51,47,52,49,53,54,55,56,57,58</td>\n",
       "      <td>NaN</td>\n",
       "    </tr>\n",
       "    <tr>\n",
       "      <th>7</th>\n",
       "      <td>63,68,69,70,66,61,59,61,66,68</td>\n",
       "      <td>66,63</td>\n",
       "    </tr>\n",
       "    <tr>\n",
       "      <th>8</th>\n",
       "      <td>75</td>\n",
       "      <td>NaN</td>\n",
       "    </tr>\n",
       "    <tr>\n",
       "      <th>9</th>\n",
       "      <td>79,80,81,82,83</td>\n",
       "      <td>NaN</td>\n",
       "    </tr>\n",
       "  </tbody>\n",
       "</table>\n",
       "</div>"
      ],
      "text/plain": [
       "                             viewed bought\n",
       "0                             6,7,8    NaN\n",
       "1                          13,14,15    NaN\n",
       "2                             22,23    NaN\n",
       "3                 28,29,30,31,32,33    NaN\n",
       "4                             40,41    NaN\n",
       "5           43,44,43,45,43,45,43,46    NaN\n",
       "6  50,51,47,52,49,53,54,55,56,57,58    NaN\n",
       "7     63,68,69,70,66,61,59,61,66,68  66,63\n",
       "8                                75    NaN\n",
       "9                    79,80,81,82,83    NaN"
      ]
     },
     "execution_count": 4,
     "metadata": {},
     "output_type": "execute_result"
    }
   ],
   "source": [
    "test.head(10)"
   ]
  },
  {
   "cell_type": "code",
   "execution_count": 5,
   "metadata": {},
   "outputs": [
    {
     "name": "stdout",
     "output_type": "stream",
     "text": [
      "<class 'pandas.core.frame.DataFrame'>\n",
      "RangeIndex: 50000 entries, 0 to 49999\n",
      "Data columns (total 2 columns):\n",
      "viewed    50000 non-null object\n",
      "bought    3608 non-null object\n",
      "dtypes: object(2)\n",
      "memory usage: 781.3+ KB\n"
     ]
    }
   ],
   "source": [
    "train.info()"
   ]
  },
  {
   "cell_type": "code",
   "execution_count": 6,
   "metadata": {},
   "outputs": [
    {
     "name": "stdout",
     "output_type": "stream",
     "text": [
      "<class 'pandas.core.frame.DataFrame'>\n",
      "RangeIndex: 50000 entries, 0 to 49999\n",
      "Data columns (total 2 columns):\n",
      "viewed    50000 non-null object\n",
      "bought    3665 non-null object\n",
      "dtypes: object(2)\n",
      "memory usage: 781.3+ KB\n"
     ]
    }
   ],
   "source": [
    "test.info()"
   ]
  },
  {
   "cell_type": "markdown",
   "metadata": {},
   "source": [
    "#### предобработка входных данных"
   ]
  },
  {
   "cell_type": "code",
   "execution_count": 7,
   "metadata": {},
   "outputs": [
    {
     "name": "stdout",
     "output_type": "stream",
     "text": [
      "Wall time: 614 ms\n"
     ]
    }
   ],
   "source": [
    "%%time\n",
    "train = train.applymap(lambda s: s.strip().split(',') if s is not np.nan else np.nan)\n",
    "test = test.applymap(lambda s: s.strip().split(',') if s is not np.nan else np.nan)"
   ]
  },
  {
   "cell_type": "code",
   "execution_count": 8,
   "metadata": {},
   "outputs": [
    {
     "data": {
      "text/html": [
       "<div>\n",
       "<style>\n",
       "    .dataframe thead tr:only-child th {\n",
       "        text-align: right;\n",
       "    }\n",
       "\n",
       "    .dataframe thead th {\n",
       "        text-align: left;\n",
       "    }\n",
       "\n",
       "    .dataframe tbody tr th {\n",
       "        vertical-align: top;\n",
       "    }\n",
       "</style>\n",
       "<table border=\"1\" class=\"dataframe\">\n",
       "  <thead>\n",
       "    <tr style=\"text-align: right;\">\n",
       "      <th></th>\n",
       "      <th>viewed</th>\n",
       "      <th>bought</th>\n",
       "    </tr>\n",
       "  </thead>\n",
       "  <tbody>\n",
       "    <tr>\n",
       "      <th>0</th>\n",
       "      <td>[0, 1, 2, 3, 4, 5]</td>\n",
       "      <td>NaN</td>\n",
       "    </tr>\n",
       "    <tr>\n",
       "      <th>1</th>\n",
       "      <td>[9, 10, 11, 9, 11, 12, 9, 11]</td>\n",
       "      <td>NaN</td>\n",
       "    </tr>\n",
       "    <tr>\n",
       "      <th>2</th>\n",
       "      <td>[16, 17, 18, 19, 20, 21]</td>\n",
       "      <td>NaN</td>\n",
       "    </tr>\n",
       "    <tr>\n",
       "      <th>3</th>\n",
       "      <td>[24, 25, 26, 27, 24]</td>\n",
       "      <td>NaN</td>\n",
       "    </tr>\n",
       "    <tr>\n",
       "      <th>4</th>\n",
       "      <td>[34, 35, 36, 34, 37, 35, 36, 37, 38, 39, 38, 39]</td>\n",
       "      <td>NaN</td>\n",
       "    </tr>\n",
       "    <tr>\n",
       "      <th>5</th>\n",
       "      <td>[42]</td>\n",
       "      <td>NaN</td>\n",
       "    </tr>\n",
       "    <tr>\n",
       "      <th>6</th>\n",
       "      <td>[47, 48, 49]</td>\n",
       "      <td>NaN</td>\n",
       "    </tr>\n",
       "    <tr>\n",
       "      <th>7</th>\n",
       "      <td>[59, 60, 61, 62, 60, 63, 64, 65, 66, 61, 67, 6...</td>\n",
       "      <td>[67, 60, 63]</td>\n",
       "    </tr>\n",
       "    <tr>\n",
       "      <th>8</th>\n",
       "      <td>[71, 72, 73, 74]</td>\n",
       "      <td>NaN</td>\n",
       "    </tr>\n",
       "    <tr>\n",
       "      <th>9</th>\n",
       "      <td>[76, 77, 78]</td>\n",
       "      <td>NaN</td>\n",
       "    </tr>\n",
       "  </tbody>\n",
       "</table>\n",
       "</div>"
      ],
      "text/plain": [
       "                                              viewed        bought\n",
       "0                                 [0, 1, 2, 3, 4, 5]           NaN\n",
       "1                      [9, 10, 11, 9, 11, 12, 9, 11]           NaN\n",
       "2                           [16, 17, 18, 19, 20, 21]           NaN\n",
       "3                               [24, 25, 26, 27, 24]           NaN\n",
       "4   [34, 35, 36, 34, 37, 35, 36, 37, 38, 39, 38, 39]           NaN\n",
       "5                                               [42]           NaN\n",
       "6                                       [47, 48, 49]           NaN\n",
       "7  [59, 60, 61, 62, 60, 63, 64, 65, 66, 61, 67, 6...  [67, 60, 63]\n",
       "8                                   [71, 72, 73, 74]           NaN\n",
       "9                                       [76, 77, 78]           NaN"
      ]
     },
     "execution_count": 8,
     "metadata": {},
     "output_type": "execute_result"
    }
   ],
   "source": [
    "train.head(10)"
   ]
  },
  {
   "cell_type": "code",
   "execution_count": 9,
   "metadata": {},
   "outputs": [
    {
     "data": {
      "text/html": [
       "<div>\n",
       "<style>\n",
       "    .dataframe thead tr:only-child th {\n",
       "        text-align: right;\n",
       "    }\n",
       "\n",
       "    .dataframe thead th {\n",
       "        text-align: left;\n",
       "    }\n",
       "\n",
       "    .dataframe tbody tr th {\n",
       "        vertical-align: top;\n",
       "    }\n",
       "</style>\n",
       "<table border=\"1\" class=\"dataframe\">\n",
       "  <thead>\n",
       "    <tr style=\"text-align: right;\">\n",
       "      <th></th>\n",
       "      <th>viewed</th>\n",
       "      <th>bought</th>\n",
       "    </tr>\n",
       "  </thead>\n",
       "  <tbody>\n",
       "    <tr>\n",
       "      <th>0</th>\n",
       "      <td>[6, 7, 8]</td>\n",
       "      <td>NaN</td>\n",
       "    </tr>\n",
       "    <tr>\n",
       "      <th>1</th>\n",
       "      <td>[13, 14, 15]</td>\n",
       "      <td>NaN</td>\n",
       "    </tr>\n",
       "    <tr>\n",
       "      <th>2</th>\n",
       "      <td>[22, 23]</td>\n",
       "      <td>NaN</td>\n",
       "    </tr>\n",
       "    <tr>\n",
       "      <th>3</th>\n",
       "      <td>[28, 29, 30, 31, 32, 33]</td>\n",
       "      <td>NaN</td>\n",
       "    </tr>\n",
       "    <tr>\n",
       "      <th>4</th>\n",
       "      <td>[40, 41]</td>\n",
       "      <td>NaN</td>\n",
       "    </tr>\n",
       "  </tbody>\n",
       "</table>\n",
       "</div>"
      ],
      "text/plain": [
       "                     viewed bought\n",
       "0                 [6, 7, 8]    NaN\n",
       "1              [13, 14, 15]    NaN\n",
       "2                  [22, 23]    NaN\n",
       "3  [28, 29, 30, 31, 32, 33]    NaN\n",
       "4                  [40, 41]    NaN"
      ]
     },
     "execution_count": 9,
     "metadata": {},
     "output_type": "execute_result"
    }
   ],
   "source": [
    "test.head()"
   ]
  },
  {
   "cell_type": "markdown",
   "metadata": {},
   "source": [
    "## _Задание_\n",
    "### 1.\n",
    "На обучении постройте частоты появления **id** в просмотренных и в купленных (**id** может несколько раз появляться в просмотренных, все появления надо учитывать)"
   ]
  },
  {
   "cell_type": "markdown",
   "metadata": {},
   "source": [
    "Сформируем соответствующую функцию, которая по выборке строит словари частот появления **id** в просмотренных и купленных:"
   ]
  },
  {
   "cell_type": "code",
   "execution_count": 10,
   "metadata": {
    "collapsed": true
   },
   "outputs": [],
   "source": [
    "def freq_dict(data):   \n",
    "   \n",
    "    freq = {} # инициализация словаря словарей\n",
    "    freq['viewed'] = defaultdict(int) # инициализация словаря частот по просмотрам\n",
    "    freq['bought'] = defaultdict(int) # инициализация словаря частот по покупкам\n",
    "    \n",
    "    for i, row in tqdm_notebook(data.iterrows(), total=len(data)):\n",
    "        for col in ['viewed', 'bought']:\n",
    "            if row[col] is not np.nan:\n",
    "                for ID in row[col]:\n",
    "                    freq[col][ID] += 1\n",
    "        \n",
    "    return freq"
   ]
  },
  {
   "cell_type": "markdown",
   "metadata": {},
   "source": [
    "пройдемся по **train** и сформируем **словарь частот** появления **id** в **viewed** и **bought**"
   ]
  },
  {
   "cell_type": "code",
   "execution_count": 11,
   "metadata": {},
   "outputs": [
    {
     "data": {
      "application/vnd.jupyter.widget-view+json": {
       "model_id": "e66832e6a6894fab87ba5ec875720ef1",
       "version_major": 2,
       "version_minor": 0
      },
      "text/plain": [
       "A Jupyter Widget"
      ]
     },
     "metadata": {},
     "output_type": "display_data"
    },
    {
     "name": "stdout",
     "output_type": "stream",
     "text": [
      "\n"
     ]
    }
   ],
   "source": [
    "freq = freq_dict(train)"
   ]
  },
  {
   "cell_type": "code",
   "execution_count": 12,
   "metadata": {},
   "outputs": [
    {
     "data": {
      "text/plain": [
       "(77064, 4479)"
      ]
     },
     "execution_count": 12,
     "metadata": {},
     "output_type": "execute_result"
    }
   ],
   "source": [
    "len(freq['viewed']), len(freq['bought'])"
   ]
  },
  {
   "cell_type": "markdown",
   "metadata": {},
   "source": [
    "### 2.\n",
    "Реализуйте два алгоритма рекомендаций:    "
   ]
  },
  {
   "cell_type": "markdown",
   "metadata": {},
   "source": [
    "- сортировка просмотренных **id** по **популярности** (частота появления в **просмотренных**),\n",
    "- сортировка просмотренных **id** по **покупаемости** (частота появления в **покупках**)."
   ]
  },
  {
   "cell_type": "markdown",
   "metadata": {},
   "source": [
    "Добавим в данные (train и test) колонки с рекомендациями (префикс \"**recomm_**\")"
   ]
  },
  {
   "cell_type": "markdown",
   "metadata": {},
   "source": [
    "Для этого сформируем соответствующую функцию **recommended**  для рекомендаций в текущей сессии."
   ]
  },
  {
   "cell_type": "code",
   "execution_count": 13,
   "metadata": {
    "collapsed": true
   },
   "outputs": [],
   "source": [
    "def recommended(sess, freq, kind, k):\n",
    "    '''\n",
    "    sess - список id для сессии, каждый id - строковый\n",
    "    freq - словарь словарей частот\n",
    "    kind - ключ, с которым в freq создается соответствующий словарь, принимает значения ['viewed', 'bought']\n",
    "    k - число рекомендаций\n",
    "    '''\n",
    "    # сопоставляем список рекомендаций с параметрами, по которым потом сортируем, а именно: частота и момент появления\n",
    "    recomm = [[ID, ((freq[kind][ID] if ID in freq[kind] else 0), sess.index(ID))] for ID in set(sess)]\n",
    "    \n",
    "    # сортируем (по 2м(!) параметрам, причем разнонаправлено, что обеспечивает \"-\")\n",
    "    recomm_sorted = list(map(lambda x: x[0], sorted(recomm, key=lambda x: [-x[1][0], x[1][1]]))) \n",
    "    \n",
    "    # выводим не более k рекомендаций\n",
    "    return recomm_sorted[:k]"
   ]
  },
  {
   "cell_type": "markdown",
   "metadata": {},
   "source": [
    "Теперь добавим в данные (train и test) колонки с **k** рекомендациями (префикс \"**recomm_**\") по 2-м вариантам словарей частот"
   ]
  },
  {
   "cell_type": "code",
   "execution_count": 14,
   "metadata": {},
   "outputs": [
    {
     "name": "stdout",
     "output_type": "stream",
     "text": [
      "Wall time: 6.42 s\n"
     ]
    }
   ],
   "source": [
    "%%time\n",
    "for df in [train, test]:\n",
    "    for k in[1, 5]:\n",
    "        for kind in ['viewed', 'bought']:\n",
    "            df['recomm_' + kind + '_k=' + str(k)] = df['viewed'].apply(lambda sess: recommended(sess, freq, kind, k))        "
   ]
  },
  {
   "cell_type": "code",
   "execution_count": 15,
   "metadata": {},
   "outputs": [
    {
     "data": {
      "text/html": [
       "<div>\n",
       "<style>\n",
       "    .dataframe thead tr:only-child th {\n",
       "        text-align: right;\n",
       "    }\n",
       "\n",
       "    .dataframe thead th {\n",
       "        text-align: left;\n",
       "    }\n",
       "\n",
       "    .dataframe tbody tr th {\n",
       "        vertical-align: top;\n",
       "    }\n",
       "</style>\n",
       "<table border=\"1\" class=\"dataframe\">\n",
       "  <thead>\n",
       "    <tr style=\"text-align: right;\">\n",
       "      <th></th>\n",
       "      <th>viewed</th>\n",
       "      <th>bought</th>\n",
       "      <th>recomm_viewed_k=1</th>\n",
       "      <th>recomm_bought_k=1</th>\n",
       "      <th>recomm_viewed_k=5</th>\n",
       "      <th>recomm_bought_k=5</th>\n",
       "    </tr>\n",
       "  </thead>\n",
       "  <tbody>\n",
       "    <tr>\n",
       "      <th>0</th>\n",
       "      <td>[0, 1, 2, 3, 4, 5]</td>\n",
       "      <td>NaN</td>\n",
       "      <td>[4]</td>\n",
       "      <td>[5]</td>\n",
       "      <td>[4, 2, 3, 0, 1]</td>\n",
       "      <td>[5, 0, 1, 2, 3]</td>\n",
       "    </tr>\n",
       "    <tr>\n",
       "      <th>1</th>\n",
       "      <td>[9, 10, 11, 9, 11, 12, 9, 11]</td>\n",
       "      <td>NaN</td>\n",
       "      <td>[12]</td>\n",
       "      <td>[9]</td>\n",
       "      <td>[12, 9, 10, 11]</td>\n",
       "      <td>[9, 10, 11, 12]</td>\n",
       "    </tr>\n",
       "    <tr>\n",
       "      <th>2</th>\n",
       "      <td>[16, 17, 18, 19, 20, 21]</td>\n",
       "      <td>NaN</td>\n",
       "      <td>[17]</td>\n",
       "      <td>[17]</td>\n",
       "      <td>[17, 20, 16, 19, 18]</td>\n",
       "      <td>[17, 16, 18, 19, 20]</td>\n",
       "    </tr>\n",
       "    <tr>\n",
       "      <th>3</th>\n",
       "      <td>[24, 25, 26, 27, 24]</td>\n",
       "      <td>NaN</td>\n",
       "      <td>[27]</td>\n",
       "      <td>[24]</td>\n",
       "      <td>[27, 24, 26, 25]</td>\n",
       "      <td>[24, 25, 26, 27]</td>\n",
       "    </tr>\n",
       "    <tr>\n",
       "      <th>4</th>\n",
       "      <td>[34, 35, 36, 34, 37, 35, 36, 37, 38, 39, 38, 39]</td>\n",
       "      <td>NaN</td>\n",
       "      <td>[35]</td>\n",
       "      <td>[38]</td>\n",
       "      <td>[35, 34, 36, 37, 38]</td>\n",
       "      <td>[38, 34, 35, 36, 37]</td>\n",
       "    </tr>\n",
       "  </tbody>\n",
       "</table>\n",
       "</div>"
      ],
      "text/plain": [
       "                                             viewed bought recomm_viewed_k=1  \\\n",
       "0                                [0, 1, 2, 3, 4, 5]    NaN               [4]   \n",
       "1                     [9, 10, 11, 9, 11, 12, 9, 11]    NaN              [12]   \n",
       "2                          [16, 17, 18, 19, 20, 21]    NaN              [17]   \n",
       "3                              [24, 25, 26, 27, 24]    NaN              [27]   \n",
       "4  [34, 35, 36, 34, 37, 35, 36, 37, 38, 39, 38, 39]    NaN              [35]   \n",
       "\n",
       "  recomm_bought_k=1     recomm_viewed_k=5     recomm_bought_k=5  \n",
       "0               [5]       [4, 2, 3, 0, 1]       [5, 0, 1, 2, 3]  \n",
       "1               [9]       [12, 9, 10, 11]       [9, 10, 11, 12]  \n",
       "2              [17]  [17, 20, 16, 19, 18]  [17, 16, 18, 19, 20]  \n",
       "3              [24]      [27, 24, 26, 25]      [24, 25, 26, 27]  \n",
       "4              [38]  [35, 34, 36, 37, 38]  [38, 34, 35, 36, 37]  "
      ]
     },
     "execution_count": 15,
     "metadata": {},
     "output_type": "execute_result"
    }
   ],
   "source": [
    "train.head()"
   ]
  },
  {
   "cell_type": "code",
   "execution_count": 16,
   "metadata": {},
   "outputs": [
    {
     "data": {
      "text/html": [
       "<div>\n",
       "<style>\n",
       "    .dataframe thead tr:only-child th {\n",
       "        text-align: right;\n",
       "    }\n",
       "\n",
       "    .dataframe thead th {\n",
       "        text-align: left;\n",
       "    }\n",
       "\n",
       "    .dataframe tbody tr th {\n",
       "        vertical-align: top;\n",
       "    }\n",
       "</style>\n",
       "<table border=\"1\" class=\"dataframe\">\n",
       "  <thead>\n",
       "    <tr style=\"text-align: right;\">\n",
       "      <th></th>\n",
       "      <th>viewed</th>\n",
       "      <th>bought</th>\n",
       "      <th>recomm_viewed_k=1</th>\n",
       "      <th>recomm_bought_k=1</th>\n",
       "      <th>recomm_viewed_k=5</th>\n",
       "      <th>recomm_bought_k=5</th>\n",
       "    </tr>\n",
       "  </thead>\n",
       "  <tbody>\n",
       "    <tr>\n",
       "      <th>0</th>\n",
       "      <td>[6, 7, 8]</td>\n",
       "      <td>NaN</td>\n",
       "      <td>[7]</td>\n",
       "      <td>[8]</td>\n",
       "      <td>[7, 6, 8]</td>\n",
       "      <td>[8, 6, 7]</td>\n",
       "    </tr>\n",
       "    <tr>\n",
       "      <th>1</th>\n",
       "      <td>[13, 14, 15]</td>\n",
       "      <td>NaN</td>\n",
       "      <td>[13]</td>\n",
       "      <td>[13]</td>\n",
       "      <td>[13, 14, 15]</td>\n",
       "      <td>[13, 14, 15]</td>\n",
       "    </tr>\n",
       "    <tr>\n",
       "      <th>2</th>\n",
       "      <td>[22, 23]</td>\n",
       "      <td>NaN</td>\n",
       "      <td>[22]</td>\n",
       "      <td>[22]</td>\n",
       "      <td>[22, 23]</td>\n",
       "      <td>[22, 23]</td>\n",
       "    </tr>\n",
       "    <tr>\n",
       "      <th>3</th>\n",
       "      <td>[28, 29, 30, 31, 32, 33]</td>\n",
       "      <td>NaN</td>\n",
       "      <td>[28]</td>\n",
       "      <td>[28]</td>\n",
       "      <td>[28, 33, 30, 29, 32]</td>\n",
       "      <td>[28, 29, 30, 32, 31]</td>\n",
       "    </tr>\n",
       "    <tr>\n",
       "      <th>4</th>\n",
       "      <td>[40, 41]</td>\n",
       "      <td>NaN</td>\n",
       "      <td>[40]</td>\n",
       "      <td>[40]</td>\n",
       "      <td>[40, 41]</td>\n",
       "      <td>[40, 41]</td>\n",
       "    </tr>\n",
       "  </tbody>\n",
       "</table>\n",
       "</div>"
      ],
      "text/plain": [
       "                     viewed bought recomm_viewed_k=1 recomm_bought_k=1  \\\n",
       "0                 [6, 7, 8]    NaN               [7]               [8]   \n",
       "1              [13, 14, 15]    NaN              [13]              [13]   \n",
       "2                  [22, 23]    NaN              [22]              [22]   \n",
       "3  [28, 29, 30, 31, 32, 33]    NaN              [28]              [28]   \n",
       "4                  [40, 41]    NaN              [40]              [40]   \n",
       "\n",
       "      recomm_viewed_k=5     recomm_bought_k=5  \n",
       "0             [7, 6, 8]             [8, 6, 7]  \n",
       "1          [13, 14, 15]          [13, 14, 15]  \n",
       "2              [22, 23]              [22, 23]  \n",
       "3  [28, 33, 30, 29, 32]  [28, 29, 30, 32, 31]  \n",
       "4              [40, 41]              [40, 41]  "
      ]
     },
     "execution_count": 16,
     "metadata": {},
     "output_type": "execute_result"
    }
   ],
   "source": [
    "test.head()"
   ]
  },
  {
   "cell_type": "markdown",
   "metadata": {},
   "source": [
    "### Более компактный и более быстрый способ создания колонок рекомендаций:"
   ]
  },
  {
   "cell_type": "code",
   "execution_count": 17,
   "metadata": {},
   "outputs": [
    {
     "name": "stdout",
     "output_type": "stream",
     "text": [
      "Wall time: 4.64 s\n"
     ]
    }
   ],
   "source": [
    "%%time\n",
    "for df in [train, test]:\n",
    "    for k in[1, 5]:\n",
    "        for kind in ['viewed', 'bought']:\n",
    "            df['recomm_' + kind + '_k=' + str(k)] = df['viewed']. \\\n",
    "                                    apply(lambda sess: sorted(set(sess), key=lambda ID: (-freq[kind][ID], sess.index(ID)))[:k])\n",
    "\n",
    "# через set() убираем повторяющиеся id и затем сортируем по 2-м ключам. После чего оставляем min(k, len(set(sess)) номеров id"
   ]
  },
  {
   "cell_type": "code",
   "execution_count": 18,
   "metadata": {},
   "outputs": [
    {
     "data": {
      "text/html": [
       "<div>\n",
       "<style>\n",
       "    .dataframe thead tr:only-child th {\n",
       "        text-align: right;\n",
       "    }\n",
       "\n",
       "    .dataframe thead th {\n",
       "        text-align: left;\n",
       "    }\n",
       "\n",
       "    .dataframe tbody tr th {\n",
       "        vertical-align: top;\n",
       "    }\n",
       "</style>\n",
       "<table border=\"1\" class=\"dataframe\">\n",
       "  <thead>\n",
       "    <tr style=\"text-align: right;\">\n",
       "      <th></th>\n",
       "      <th>viewed</th>\n",
       "      <th>bought</th>\n",
       "      <th>recomm_viewed_k=1</th>\n",
       "      <th>recomm_bought_k=1</th>\n",
       "      <th>recomm_viewed_k=5</th>\n",
       "      <th>recomm_bought_k=5</th>\n",
       "    </tr>\n",
       "  </thead>\n",
       "  <tbody>\n",
       "    <tr>\n",
       "      <th>0</th>\n",
       "      <td>[0, 1, 2, 3, 4, 5]</td>\n",
       "      <td>NaN</td>\n",
       "      <td>[4]</td>\n",
       "      <td>[5]</td>\n",
       "      <td>[4, 2, 3, 0, 1]</td>\n",
       "      <td>[5, 0, 1, 2, 3]</td>\n",
       "    </tr>\n",
       "    <tr>\n",
       "      <th>1</th>\n",
       "      <td>[9, 10, 11, 9, 11, 12, 9, 11]</td>\n",
       "      <td>NaN</td>\n",
       "      <td>[12]</td>\n",
       "      <td>[9]</td>\n",
       "      <td>[12, 9, 10, 11]</td>\n",
       "      <td>[9, 10, 11, 12]</td>\n",
       "    </tr>\n",
       "    <tr>\n",
       "      <th>2</th>\n",
       "      <td>[16, 17, 18, 19, 20, 21]</td>\n",
       "      <td>NaN</td>\n",
       "      <td>[17]</td>\n",
       "      <td>[17]</td>\n",
       "      <td>[17, 20, 16, 19, 18]</td>\n",
       "      <td>[17, 16, 18, 19, 20]</td>\n",
       "    </tr>\n",
       "    <tr>\n",
       "      <th>3</th>\n",
       "      <td>[24, 25, 26, 27, 24]</td>\n",
       "      <td>NaN</td>\n",
       "      <td>[27]</td>\n",
       "      <td>[24]</td>\n",
       "      <td>[27, 24, 26, 25]</td>\n",
       "      <td>[24, 25, 26, 27]</td>\n",
       "    </tr>\n",
       "    <tr>\n",
       "      <th>4</th>\n",
       "      <td>[34, 35, 36, 34, 37, 35, 36, 37, 38, 39, 38, 39]</td>\n",
       "      <td>NaN</td>\n",
       "      <td>[35]</td>\n",
       "      <td>[38]</td>\n",
       "      <td>[35, 34, 36, 37, 38]</td>\n",
       "      <td>[38, 34, 35, 36, 37]</td>\n",
       "    </tr>\n",
       "  </tbody>\n",
       "</table>\n",
       "</div>"
      ],
      "text/plain": [
       "                                             viewed bought recomm_viewed_k=1  \\\n",
       "0                                [0, 1, 2, 3, 4, 5]    NaN               [4]   \n",
       "1                     [9, 10, 11, 9, 11, 12, 9, 11]    NaN              [12]   \n",
       "2                          [16, 17, 18, 19, 20, 21]    NaN              [17]   \n",
       "3                              [24, 25, 26, 27, 24]    NaN              [27]   \n",
       "4  [34, 35, 36, 34, 37, 35, 36, 37, 38, 39, 38, 39]    NaN              [35]   \n",
       "\n",
       "  recomm_bought_k=1     recomm_viewed_k=5     recomm_bought_k=5  \n",
       "0               [5]       [4, 2, 3, 0, 1]       [5, 0, 1, 2, 3]  \n",
       "1               [9]       [12, 9, 10, 11]       [9, 10, 11, 12]  \n",
       "2              [17]  [17, 20, 16, 19, 18]  [17, 16, 18, 19, 20]  \n",
       "3              [24]      [27, 24, 26, 25]      [24, 25, 26, 27]  \n",
       "4              [38]  [35, 34, 36, 37, 38]  [38, 34, 35, 36, 37]  "
      ]
     },
     "execution_count": 18,
     "metadata": {},
     "output_type": "execute_result"
    }
   ],
   "source": [
    "train.head()"
   ]
  },
  {
   "cell_type": "markdown",
   "metadata": {},
   "source": [
    "### 3.\n",
    "Для данных алгоритмов выпишите через пробел **AverageRecall@1, AveragePrecision@1, AverageRecall@5, AveragePrecision@5** на обучающей и тестовых выборках, округляя до 2 знака после запятой. Это будут ваши ответы в этом задании. Посмотрите, как они соотносятся друг с другом. Где качество получилось выше? Значимо ли это различие? Обратите внимание на различие качества на обучающей и тестовой выборке в случае рекомендаций по частотам покупки.\n",
    "\n",
    "Если частота одинаковая, то сортировать нужно по возрастанию момента просмотра (чем раньше появился в просмотренных, тем больше приоритет)"
   ]
  },
  {
   "cell_type": "markdown",
   "metadata": {},
   "source": [
    "### _учтем:_\n",
    "\n",
    "- Сессии, в которых пользователь ничего не купил, исключаем из оценки качества.\n",
    "- Если товар не встречался в обучающей выборке, его популярность равна 0.\n",
    "- Рекомендуем разные товары. И их число должно быть не больше, чем количество различных просмотренных пользователем товаров.\n",
    "- Рекомендаций всегда не больше, чем минимум из двух чисел: количество просмотренных пользователем товаров и **k** в **recall@k** / **precision@k**."
   ]
  },
  {
   "cell_type": "markdown",
   "metadata": {},
   "source": [
    "Сессии, в которых пользователь **ничего не купил**, из оценки качества **исключаем**:"
   ]
  },
  {
   "cell_type": "code",
   "execution_count": 19,
   "metadata": {
    "collapsed": true
   },
   "outputs": [],
   "source": [
    "train_buy = train.dropna().copy()\n",
    "test_buy = test.dropna().copy()"
   ]
  },
  {
   "cell_type": "code",
   "execution_count": 20,
   "metadata": {},
   "outputs": [
    {
     "data": {
      "text/html": [
       "<div>\n",
       "<style>\n",
       "    .dataframe thead tr:only-child th {\n",
       "        text-align: right;\n",
       "    }\n",
       "\n",
       "    .dataframe thead th {\n",
       "        text-align: left;\n",
       "    }\n",
       "\n",
       "    .dataframe tbody tr th {\n",
       "        vertical-align: top;\n",
       "    }\n",
       "</style>\n",
       "<table border=\"1\" class=\"dataframe\">\n",
       "  <thead>\n",
       "    <tr style=\"text-align: right;\">\n",
       "      <th></th>\n",
       "      <th>viewed</th>\n",
       "      <th>bought</th>\n",
       "      <th>recomm_viewed_k=1</th>\n",
       "      <th>recomm_bought_k=1</th>\n",
       "      <th>recomm_viewed_k=5</th>\n",
       "      <th>recomm_bought_k=5</th>\n",
       "    </tr>\n",
       "  </thead>\n",
       "  <tbody>\n",
       "    <tr>\n",
       "      <th>7</th>\n",
       "      <td>[59, 60, 61, 62, 60, 63, 64, 65, 66, 61, 67, 6...</td>\n",
       "      <td>[67, 60, 63]</td>\n",
       "      <td>[63]</td>\n",
       "      <td>[60]</td>\n",
       "      <td>[63, 64, 60, 61, 65]</td>\n",
       "      <td>[60, 63, 67, 59, 61]</td>\n",
       "    </tr>\n",
       "    <tr>\n",
       "      <th>10</th>\n",
       "      <td>[84, 85, 86, 87, 88, 89, 84, 90, 91, 92, 93, 86]</td>\n",
       "      <td>[86]</td>\n",
       "      <td>[85]</td>\n",
       "      <td>[86]</td>\n",
       "      <td>[85, 93, 89, 90, 84]</td>\n",
       "      <td>[86, 85, 93, 84, 87]</td>\n",
       "    </tr>\n",
       "    <tr>\n",
       "      <th>19</th>\n",
       "      <td>[138, 198, 199, 127]</td>\n",
       "      <td>[199]</td>\n",
       "      <td>[127]</td>\n",
       "      <td>[138]</td>\n",
       "      <td>[127, 138, 198, 199]</td>\n",
       "      <td>[138, 199, 127, 198]</td>\n",
       "    </tr>\n",
       "    <tr>\n",
       "      <th>30</th>\n",
       "      <td>[303, 304, 305, 306, 307, 308, 309, 310, 311, ...</td>\n",
       "      <td>[303]</td>\n",
       "      <td>[303]</td>\n",
       "      <td>[303]</td>\n",
       "      <td>[303, 306, 304, 307, 309]</td>\n",
       "      <td>[303, 304, 305, 306, 307]</td>\n",
       "    </tr>\n",
       "    <tr>\n",
       "      <th>33</th>\n",
       "      <td>[352, 353, 352]</td>\n",
       "      <td>[352]</td>\n",
       "      <td>[352]</td>\n",
       "      <td>[352]</td>\n",
       "      <td>[352, 353]</td>\n",
       "      <td>[352, 353]</td>\n",
       "    </tr>\n",
       "  </tbody>\n",
       "</table>\n",
       "</div>"
      ],
      "text/plain": [
       "                                               viewed        bought  \\\n",
       "7   [59, 60, 61, 62, 60, 63, 64, 65, 66, 61, 67, 6...  [67, 60, 63]   \n",
       "10   [84, 85, 86, 87, 88, 89, 84, 90, 91, 92, 93, 86]          [86]   \n",
       "19                               [138, 198, 199, 127]         [199]   \n",
       "30  [303, 304, 305, 306, 307, 308, 309, 310, 311, ...         [303]   \n",
       "33                                    [352, 353, 352]         [352]   \n",
       "\n",
       "   recomm_viewed_k=1 recomm_bought_k=1          recomm_viewed_k=5  \\\n",
       "7               [63]              [60]       [63, 64, 60, 61, 65]   \n",
       "10              [85]              [86]       [85, 93, 89, 90, 84]   \n",
       "19             [127]             [138]       [127, 138, 198, 199]   \n",
       "30             [303]             [303]  [303, 306, 304, 307, 309]   \n",
       "33             [352]             [352]                 [352, 353]   \n",
       "\n",
       "            recomm_bought_k=5  \n",
       "7        [60, 63, 67, 59, 61]  \n",
       "10       [86, 85, 93, 84, 87]  \n",
       "19       [138, 199, 127, 198]  \n",
       "30  [303, 304, 305, 306, 307]  \n",
       "33                 [352, 353]  "
      ]
     },
     "execution_count": 20,
     "metadata": {},
     "output_type": "execute_result"
    }
   ],
   "source": [
    "train_buy.head()"
   ]
  },
  {
   "cell_type": "markdown",
   "metadata": {},
   "source": [
    "Считаем соответствующие метрики по сессиям (рядам):"
   ]
  },
  {
   "cell_type": "code",
   "execution_count": 21,
   "metadata": {},
   "outputs": [
    {
     "data": {
      "application/vnd.jupyter.widget-view+json": {
       "model_id": "82c6fa680673445d910bf21bf8ac437f",
       "version_major": 2,
       "version_minor": 0
      },
      "text/plain": [
       "A Jupyter Widget"
      ]
     },
     "metadata": {},
     "output_type": "display_data"
    },
    {
     "name": "stdout",
     "output_type": "stream",
     "text": [
      "\n"
     ]
    },
    {
     "data": {
      "application/vnd.jupyter.widget-view+json": {
       "model_id": "6e58abdabff742aeb21ed871b3819e58",
       "version_major": 2,
       "version_minor": 0
      },
      "text/plain": [
       "A Jupyter Widget"
      ]
     },
     "metadata": {},
     "output_type": "display_data"
    },
    {
     "name": "stdout",
     "output_type": "stream",
     "text": [
      "\n",
      "Wall time: 39.7 s\n"
     ]
    }
   ],
   "source": [
    "%%time\n",
    "for df in [train_buy, test_buy]:\n",
    "    for i, row in tqdm_notebook(df.iterrows(), total=len(df)):\n",
    "        for kind in ['viewed', 'bought']:\n",
    "            for k in[1, 5]:\n",
    "                for score in ['Recall', 'Precision']:\n",
    "                    col = score + '_' + kind + '_at_' + str(k)\n",
    "                    col_rec = 'recomm_' + kind + '_k=' + str(k)\n",
    "                    \n",
    "                    df.loc[i, col] = float(len(set(row['bought']) & set(row[col_rec]))) / \\\n",
    "                                     (k if  score == 'Precision' else len(row['bought']))"
   ]
  },
  {
   "cell_type": "code",
   "execution_count": 22,
   "metadata": {},
   "outputs": [
    {
     "data": {
      "text/html": [
       "<div>\n",
       "<style>\n",
       "    .dataframe thead tr:only-child th {\n",
       "        text-align: right;\n",
       "    }\n",
       "\n",
       "    .dataframe thead th {\n",
       "        text-align: left;\n",
       "    }\n",
       "\n",
       "    .dataframe tbody tr th {\n",
       "        vertical-align: top;\n",
       "    }\n",
       "</style>\n",
       "<table border=\"1\" class=\"dataframe\">\n",
       "  <thead>\n",
       "    <tr style=\"text-align: right;\">\n",
       "      <th></th>\n",
       "      <th>viewed</th>\n",
       "      <th>bought</th>\n",
       "      <th>recomm_viewed_k=1</th>\n",
       "      <th>recomm_bought_k=1</th>\n",
       "      <th>recomm_viewed_k=5</th>\n",
       "      <th>recomm_bought_k=5</th>\n",
       "      <th>Recall_viewed_at_1</th>\n",
       "      <th>Precision_viewed_at_1</th>\n",
       "      <th>Recall_viewed_at_5</th>\n",
       "      <th>Precision_viewed_at_5</th>\n",
       "      <th>Recall_bought_at_1</th>\n",
       "      <th>Precision_bought_at_1</th>\n",
       "      <th>Recall_bought_at_5</th>\n",
       "      <th>Precision_bought_at_5</th>\n",
       "    </tr>\n",
       "  </thead>\n",
       "  <tbody>\n",
       "    <tr>\n",
       "      <th>7</th>\n",
       "      <td>[59, 60, 61, 62, 60, 63, 64, 65, 66, 61, 67, 6...</td>\n",
       "      <td>[67, 60, 63]</td>\n",
       "      <td>[63]</td>\n",
       "      <td>[60]</td>\n",
       "      <td>[63, 64, 60, 61, 65]</td>\n",
       "      <td>[60, 63, 67, 59, 61]</td>\n",
       "      <td>0.333333</td>\n",
       "      <td>1.0</td>\n",
       "      <td>0.666667</td>\n",
       "      <td>0.4</td>\n",
       "      <td>0.333333</td>\n",
       "      <td>1.0</td>\n",
       "      <td>1.0</td>\n",
       "      <td>0.6</td>\n",
       "    </tr>\n",
       "    <tr>\n",
       "      <th>10</th>\n",
       "      <td>[84, 85, 86, 87, 88, 89, 84, 90, 91, 92, 93, 86]</td>\n",
       "      <td>[86]</td>\n",
       "      <td>[85]</td>\n",
       "      <td>[86]</td>\n",
       "      <td>[85, 93, 89, 90, 84]</td>\n",
       "      <td>[86, 85, 93, 84, 87]</td>\n",
       "      <td>0.000000</td>\n",
       "      <td>0.0</td>\n",
       "      <td>0.000000</td>\n",
       "      <td>0.0</td>\n",
       "      <td>1.000000</td>\n",
       "      <td>1.0</td>\n",
       "      <td>1.0</td>\n",
       "      <td>0.2</td>\n",
       "    </tr>\n",
       "    <tr>\n",
       "      <th>19</th>\n",
       "      <td>[138, 198, 199, 127]</td>\n",
       "      <td>[199]</td>\n",
       "      <td>[127]</td>\n",
       "      <td>[138]</td>\n",
       "      <td>[127, 138, 198, 199]</td>\n",
       "      <td>[138, 199, 127, 198]</td>\n",
       "      <td>0.000000</td>\n",
       "      <td>0.0</td>\n",
       "      <td>1.000000</td>\n",
       "      <td>0.2</td>\n",
       "      <td>0.000000</td>\n",
       "      <td>0.0</td>\n",
       "      <td>1.0</td>\n",
       "      <td>0.2</td>\n",
       "    </tr>\n",
       "    <tr>\n",
       "      <th>30</th>\n",
       "      <td>[303, 304, 305, 306, 307, 308, 309, 310, 311, ...</td>\n",
       "      <td>[303]</td>\n",
       "      <td>[303]</td>\n",
       "      <td>[303]</td>\n",
       "      <td>[303, 306, 304, 307, 309]</td>\n",
       "      <td>[303, 304, 305, 306, 307]</td>\n",
       "      <td>1.000000</td>\n",
       "      <td>1.0</td>\n",
       "      <td>1.000000</td>\n",
       "      <td>0.2</td>\n",
       "      <td>1.000000</td>\n",
       "      <td>1.0</td>\n",
       "      <td>1.0</td>\n",
       "      <td>0.2</td>\n",
       "    </tr>\n",
       "    <tr>\n",
       "      <th>33</th>\n",
       "      <td>[352, 353, 352]</td>\n",
       "      <td>[352]</td>\n",
       "      <td>[352]</td>\n",
       "      <td>[352]</td>\n",
       "      <td>[352, 353]</td>\n",
       "      <td>[352, 353]</td>\n",
       "      <td>1.000000</td>\n",
       "      <td>1.0</td>\n",
       "      <td>1.000000</td>\n",
       "      <td>0.2</td>\n",
       "      <td>1.000000</td>\n",
       "      <td>1.0</td>\n",
       "      <td>1.0</td>\n",
       "      <td>0.2</td>\n",
       "    </tr>\n",
       "  </tbody>\n",
       "</table>\n",
       "</div>"
      ],
      "text/plain": [
       "                                               viewed        bought  \\\n",
       "7   [59, 60, 61, 62, 60, 63, 64, 65, 66, 61, 67, 6...  [67, 60, 63]   \n",
       "10   [84, 85, 86, 87, 88, 89, 84, 90, 91, 92, 93, 86]          [86]   \n",
       "19                               [138, 198, 199, 127]         [199]   \n",
       "30  [303, 304, 305, 306, 307, 308, 309, 310, 311, ...         [303]   \n",
       "33                                    [352, 353, 352]         [352]   \n",
       "\n",
       "   recomm_viewed_k=1 recomm_bought_k=1          recomm_viewed_k=5  \\\n",
       "7               [63]              [60]       [63, 64, 60, 61, 65]   \n",
       "10              [85]              [86]       [85, 93, 89, 90, 84]   \n",
       "19             [127]             [138]       [127, 138, 198, 199]   \n",
       "30             [303]             [303]  [303, 306, 304, 307, 309]   \n",
       "33             [352]             [352]                 [352, 353]   \n",
       "\n",
       "            recomm_bought_k=5  Recall_viewed_at_1  Precision_viewed_at_1  \\\n",
       "7        [60, 63, 67, 59, 61]            0.333333                    1.0   \n",
       "10       [86, 85, 93, 84, 87]            0.000000                    0.0   \n",
       "19       [138, 199, 127, 198]            0.000000                    0.0   \n",
       "30  [303, 304, 305, 306, 307]            1.000000                    1.0   \n",
       "33                 [352, 353]            1.000000                    1.0   \n",
       "\n",
       "    Recall_viewed_at_5  Precision_viewed_at_5  Recall_bought_at_1  \\\n",
       "7             0.666667                    0.4            0.333333   \n",
       "10            0.000000                    0.0            1.000000   \n",
       "19            1.000000                    0.2            0.000000   \n",
       "30            1.000000                    0.2            1.000000   \n",
       "33            1.000000                    0.2            1.000000   \n",
       "\n",
       "    Precision_bought_at_1  Recall_bought_at_5  Precision_bought_at_5  \n",
       "7                     1.0                 1.0                    0.6  \n",
       "10                    1.0                 1.0                    0.2  \n",
       "19                    0.0                 1.0                    0.2  \n",
       "30                    1.0                 1.0                    0.2  \n",
       "33                    1.0                 1.0                    0.2  "
      ]
     },
     "execution_count": 22,
     "metadata": {},
     "output_type": "execute_result"
    }
   ],
   "source": [
    "train_buy.head()"
   ]
  },
  {
   "cell_type": "code",
   "execution_count": 23,
   "metadata": {},
   "outputs": [
    {
     "data": {
      "text/html": [
       "<div>\n",
       "<style>\n",
       "    .dataframe thead tr:only-child th {\n",
       "        text-align: right;\n",
       "    }\n",
       "\n",
       "    .dataframe thead th {\n",
       "        text-align: left;\n",
       "    }\n",
       "\n",
       "    .dataframe tbody tr th {\n",
       "        vertical-align: top;\n",
       "    }\n",
       "</style>\n",
       "<table border=\"1\" class=\"dataframe\">\n",
       "  <thead>\n",
       "    <tr style=\"text-align: right;\">\n",
       "      <th></th>\n",
       "      <th>viewed</th>\n",
       "      <th>bought</th>\n",
       "      <th>recomm_viewed_k=1</th>\n",
       "      <th>recomm_bought_k=1</th>\n",
       "      <th>recomm_viewed_k=5</th>\n",
       "      <th>recomm_bought_k=5</th>\n",
       "      <th>Recall_viewed_at_1</th>\n",
       "      <th>Precision_viewed_at_1</th>\n",
       "      <th>Recall_viewed_at_5</th>\n",
       "      <th>Precision_viewed_at_5</th>\n",
       "      <th>Recall_bought_at_1</th>\n",
       "      <th>Precision_bought_at_1</th>\n",
       "      <th>Recall_bought_at_5</th>\n",
       "      <th>Precision_bought_at_5</th>\n",
       "    </tr>\n",
       "  </thead>\n",
       "  <tbody>\n",
       "    <tr>\n",
       "      <th>7</th>\n",
       "      <td>[63, 68, 69, 70, 66, 61, 59, 61, 66, 68]</td>\n",
       "      <td>[66, 63]</td>\n",
       "      <td>[63]</td>\n",
       "      <td>[63]</td>\n",
       "      <td>[63, 68, 66, 61, 59]</td>\n",
       "      <td>[63, 68, 69, 70, 66]</td>\n",
       "      <td>0.5</td>\n",
       "      <td>1.0</td>\n",
       "      <td>1.0</td>\n",
       "      <td>0.4</td>\n",
       "      <td>0.5</td>\n",
       "      <td>1.0</td>\n",
       "      <td>1.0</td>\n",
       "      <td>0.4</td>\n",
       "    </tr>\n",
       "    <tr>\n",
       "      <th>14</th>\n",
       "      <td>[158, 159, 160, 159, 161, 162]</td>\n",
       "      <td>[162]</td>\n",
       "      <td>[158]</td>\n",
       "      <td>[158]</td>\n",
       "      <td>[158, 162, 160, 159, 161]</td>\n",
       "      <td>[158, 162, 160, 159, 161]</td>\n",
       "      <td>0.0</td>\n",
       "      <td>0.0</td>\n",
       "      <td>1.0</td>\n",
       "      <td>0.2</td>\n",
       "      <td>0.0</td>\n",
       "      <td>0.0</td>\n",
       "      <td>1.0</td>\n",
       "      <td>0.2</td>\n",
       "    </tr>\n",
       "    <tr>\n",
       "      <th>19</th>\n",
       "      <td>[200, 201, 202, 203, 204]</td>\n",
       "      <td>[201, 205]</td>\n",
       "      <td>[204]</td>\n",
       "      <td>[204]</td>\n",
       "      <td>[204, 202, 203, 200, 201]</td>\n",
       "      <td>[204, 202, 200, 201, 203]</td>\n",
       "      <td>0.0</td>\n",
       "      <td>0.0</td>\n",
       "      <td>0.5</td>\n",
       "      <td>0.2</td>\n",
       "      <td>0.0</td>\n",
       "      <td>0.0</td>\n",
       "      <td>0.5</td>\n",
       "      <td>0.2</td>\n",
       "    </tr>\n",
       "    <tr>\n",
       "      <th>34</th>\n",
       "      <td>[371, 372, 371]</td>\n",
       "      <td>[371, 373]</td>\n",
       "      <td>[371]</td>\n",
       "      <td>[371]</td>\n",
       "      <td>[371, 372]</td>\n",
       "      <td>[371, 372]</td>\n",
       "      <td>0.5</td>\n",
       "      <td>1.0</td>\n",
       "      <td>0.5</td>\n",
       "      <td>0.2</td>\n",
       "      <td>0.5</td>\n",
       "      <td>1.0</td>\n",
       "      <td>0.5</td>\n",
       "      <td>0.2</td>\n",
       "    </tr>\n",
       "    <tr>\n",
       "      <th>40</th>\n",
       "      <td>[422]</td>\n",
       "      <td>[422]</td>\n",
       "      <td>[422]</td>\n",
       "      <td>[422]</td>\n",
       "      <td>[422]</td>\n",
       "      <td>[422]</td>\n",
       "      <td>1.0</td>\n",
       "      <td>1.0</td>\n",
       "      <td>1.0</td>\n",
       "      <td>0.2</td>\n",
       "      <td>1.0</td>\n",
       "      <td>1.0</td>\n",
       "      <td>1.0</td>\n",
       "      <td>0.2</td>\n",
       "    </tr>\n",
       "  </tbody>\n",
       "</table>\n",
       "</div>"
      ],
      "text/plain": [
       "                                      viewed      bought recomm_viewed_k=1  \\\n",
       "7   [63, 68, 69, 70, 66, 61, 59, 61, 66, 68]    [66, 63]              [63]   \n",
       "14            [158, 159, 160, 159, 161, 162]       [162]             [158]   \n",
       "19                 [200, 201, 202, 203, 204]  [201, 205]             [204]   \n",
       "34                           [371, 372, 371]  [371, 373]             [371]   \n",
       "40                                     [422]       [422]             [422]   \n",
       "\n",
       "   recomm_bought_k=1          recomm_viewed_k=5          recomm_bought_k=5  \\\n",
       "7               [63]       [63, 68, 66, 61, 59]       [63, 68, 69, 70, 66]   \n",
       "14             [158]  [158, 162, 160, 159, 161]  [158, 162, 160, 159, 161]   \n",
       "19             [204]  [204, 202, 203, 200, 201]  [204, 202, 200, 201, 203]   \n",
       "34             [371]                 [371, 372]                 [371, 372]   \n",
       "40             [422]                      [422]                      [422]   \n",
       "\n",
       "    Recall_viewed_at_1  Precision_viewed_at_1  Recall_viewed_at_5  \\\n",
       "7                  0.5                    1.0                 1.0   \n",
       "14                 0.0                    0.0                 1.0   \n",
       "19                 0.0                    0.0                 0.5   \n",
       "34                 0.5                    1.0                 0.5   \n",
       "40                 1.0                    1.0                 1.0   \n",
       "\n",
       "    Precision_viewed_at_5  Recall_bought_at_1  Precision_bought_at_1  \\\n",
       "7                     0.4                 0.5                    1.0   \n",
       "14                    0.2                 0.0                    0.0   \n",
       "19                    0.2                 0.0                    0.0   \n",
       "34                    0.2                 0.5                    1.0   \n",
       "40                    0.2                 1.0                    1.0   \n",
       "\n",
       "    Recall_bought_at_5  Precision_bought_at_5  \n",
       "7                  1.0                    0.4  \n",
       "14                 1.0                    0.2  \n",
       "19                 0.5                    0.2  \n",
       "34                 0.5                    0.2  \n",
       "40                 1.0                    0.2  "
      ]
     },
     "execution_count": 23,
     "metadata": {},
     "output_type": "execute_result"
    }
   ],
   "source": [
    "test_buy.head()"
   ]
  },
  {
   "cell_type": "markdown",
   "metadata": {},
   "source": [
    "Сохраним на всякий случай полученные данные"
   ]
  },
  {
   "cell_type": "code",
   "execution_count": 24,
   "metadata": {
    "collapsed": true
   },
   "outputs": [],
   "source": [
    "train.to_csv('data/train_processed.csv')\n",
    "test.to_csv('data/test_processed.csv')\n",
    "train_buy.to_csv('data/train_buy.csv')\n",
    "test_buy.to_csv('data/test_buy.csv')"
   ]
  },
  {
   "cell_type": "markdown",
   "metadata": {},
   "source": [
    "Посчитаем средние метрики через усреднения соответствующих локальных метрик по всем сессиям"
   ]
  },
  {
   "cell_type": "code",
   "execution_count": 25,
   "metadata": {},
   "outputs": [
    {
     "data": {
      "text/plain": [
       "Recall_viewed_at_1       0.44\n",
       "Precision_viewed_at_1    0.51\n",
       "Recall_viewed_at_5       0.82\n",
       "Precision_viewed_at_5    0.21\n",
       "Recall_bought_at_1       0.69\n",
       "Precision_bought_at_1    0.80\n",
       "Recall_bought_at_5       0.93\n",
       "Precision_bought_at_5    0.25\n",
       "dtype: float64"
      ]
     },
     "execution_count": 25,
     "metadata": {},
     "output_type": "execute_result"
    }
   ],
   "source": [
    "train_metrica = train_buy[['Recall_viewed_at_1', 'Precision_viewed_at_1', 'Recall_viewed_at_5', 'Precision_viewed_at_5', \n",
    "                           'Recall_bought_at_1', 'Precision_bought_at_1', 'Recall_bought_at_5', 'Precision_bought_at_5']] \\\n",
    "                           .mean(axis=0).apply(lambda x: round(x, 2))\n",
    "train_metrica"
   ]
  },
  {
   "cell_type": "code",
   "execution_count": 26,
   "metadata": {},
   "outputs": [
    {
     "data": {
      "text/plain": [
       "Recall_viewed_at_1       0.42\n",
       "Precision_viewed_at_1    0.48\n",
       "Recall_viewed_at_5       0.80\n",
       "Precision_viewed_at_5    0.20\n",
       "Recall_bought_at_1       0.46\n",
       "Precision_bought_at_1    0.53\n",
       "Recall_bought_at_5       0.82\n",
       "Precision_bought_at_5    0.21\n",
       "dtype: float64"
      ]
     },
     "execution_count": 26,
     "metadata": {},
     "output_type": "execute_result"
    }
   ],
   "source": [
    "test_metrica = test_buy[['Recall_viewed_at_1', 'Precision_viewed_at_1', 'Recall_viewed_at_5', 'Precision_viewed_at_5', \n",
    "                         'Recall_bought_at_1', 'Precision_bought_at_1', 'Recall_bought_at_5', 'Precision_bought_at_5']] \\\n",
    "                         .mean(axis=0).apply(lambda x: round(x, 2))\n",
    "test_metrica"
   ]
  },
  {
   "cell_type": "markdown",
   "metadata": {},
   "source": [
    "Запишем ответы"
   ]
  },
  {
   "cell_type": "code",
   "execution_count": 27,
   "metadata": {
    "collapsed": true
   },
   "outputs": [],
   "source": [
    "with open('answers/viewed_popularity_train.txt', 'w') as file:\n",
    "    file.write(' '.join(np.array(train_metrica).astype(str)[:4]))\n",
    "\n",
    "with open('answers/viewed_popularity_test.txt', 'w') as file:\n",
    "    file.write(' '.join(np.array(test_metrica).astype(str)[:4]))\n",
    "\n",
    "with open('answers/bought_popularity_train.txt', 'w') as file:\n",
    "    file.write(' '.join(np.array(train_metrica).astype(str)[4:]))\n",
    "\n",
    "with open('answers/bought_popularity_test.txt', 'w') as file:\n",
    "    file.write(' '.join(np.array(test_metrica).astype(str)[4:]))"
   ]
  },
  {
   "cell_type": "markdown",
   "metadata": {},
   "source": [
    "_**Дополнительные вопросы**_\n",
    "\n",
    "1. Обратите внимание, что при сортировке по покупаемости возникает много товаров с одинаковым рангом - это означает, что значение метрик будет зависеть от того, как мы будем сортировать товары с одинаковым рангом. Попробуйте убедиться, что при изменении сортировки таких товаров **recall@k** меняется. Подумайте, как оценить минимальное и максимальное значение **recall@k** в зависимости от правила сортировки.\n",
    "\n",
    "\n",
    "2. Мы обучаемся и тестируемся на полных сессиях (в которых есть все просмотренные за сессию товары). Подумайте, почему полученная нами оценка качества рекомендаций в этом случае несколько завышена."
   ]
  }
 ],
 "metadata": {
  "kernelspec": {
   "display_name": "Python 3",
   "language": "python",
   "name": "python3"
  },
  "language_info": {
   "codemirror_mode": {
    "name": "ipython",
    "version": 3
   },
   "file_extension": ".py",
   "mimetype": "text/x-python",
   "name": "python",
   "nbconvert_exporter": "python",
   "pygments_lexer": "ipython3",
   "version": "3.6.3"
  }
 },
 "nbformat": 4,
 "nbformat_minor": 2
}
