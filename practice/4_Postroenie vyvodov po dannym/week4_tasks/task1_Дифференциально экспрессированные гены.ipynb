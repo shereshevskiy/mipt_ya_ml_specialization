{
 "cells": [
  {
   "cell_type": "markdown",
   "metadata": {},
   "source": [
    "# Обнаружение статистически значимых отличий в уровнях экспрессии генов больных раком"
   ]
  },
  {
   "cell_type": "markdown",
   "metadata": {},
   "source": [
    "Это задание поможет вам лучше разобраться в методах множественной проверки гипотез и позволит применить ваши знания на данных из реального биологического исследования."
   ]
  },
  {
   "cell_type": "markdown",
   "metadata": {},
   "source": [
    "## В этом задании вы:\n",
    "\n",
    "- вспомните, что такое t-критерий Стьюдента и для чего он применяется\n",
    "- сможете применить технику множественной проверки гипотез и увидеть собственными глазами, как она работает на реальных данных\n",
    "- почувствуете разницу в результатах применения различных методов поправки на множественную проверку"
   ]
  },
  {
   "cell_type": "markdown",
   "metadata": {},
   "source": [
    "## Основные библиотеки и используемые методы:\n",
    "\n",
    "Библиотека scipy и основные статистические функции:http://docs.scipy.org/doc/scipy/reference/stats.html#statistical-functions\n",
    "\n",
    "Библиотека statmodels для методов коррекции при множественном сравнении:\n",
    "\n",
    "http://statsmodels.sourceforge.net/devel/stats.html\n",
    "\n",
    "Статья, в которой рассматриваются примеры использования statsmodels для множественной проверки гипотез:\n",
    "\n",
    "http://jpktd.blogspot.ru/2013/04/multiple-testing-p-value-corrections-in.html"
   ]
  },
  {
   "cell_type": "markdown",
   "metadata": {},
   "source": [
    "## Описание используемых данных\n",
    "\n",
    "Данные для этой задачи взяты из исследования, проведенного в Stanford School of Medicine. В исследовании была предпринята попытка выявить набор генов, которые позволили бы более точно диагностировать возникновение рака груди на самых ранних стадиях.\n",
    "\n",
    "В эксперименте принимали участие 24 человек, у которых не было рака груди (normal), 25 человек, у которых это заболевание было диагностировано на ранней стадии (early neoplasia), и 23 человека с сильно выраженными симптомами (cancer).\n",
    "<img src=\"img/task1_img1.png\">"
   ]
  },
  {
   "cell_type": "markdown",
   "metadata": {
    "collapsed": true
   },
   "source": [
    "Ученые провели секвенирование биологического материала испытуемых, чтобы понять, какие из этих генов наиболее активны в клетках больных людей.\n",
    "\n",
    "Секвенирование — это определение степени активности генов в анализируемом образце с помощью подсчёта количества соответствующей каждому гену РНК.\n",
    "\n",
    "В данных для этого задания вы найдете именно эту количественную меру активности каждого из 15748 генов у каждого из 72 человек, принимавших участие в эксперименте.\n",
    "\n",
    "Вам нужно будет определить те гены, активность которых у людей в разных стадиях заболевания отличается статистически значимо.\n",
    "\n",
    "Кроме того, вам нужно будет оценить не только статистическую, но и практическую значимость этих результатов, которая часто используется в подобных исследованиях.\n",
    "\n",
    "Диагноз человека содержится в столбце под названием \"Diagnosis\"."
   ]
  },
  {
   "cell_type": "markdown",
   "metadata": {},
   "source": [
    "Практическая значимость изменения\n",
    "\n",
    "Цель исследований — найти гены, средняя экспрессия которых отличается не только статистически значимо, но и достаточно сильно. В экспрессионных исследованиях для этого часто используется метрика, которая называется **fold change** (кратность изменения). Определяется она следующим образом:\n",
    "\n",
    "<img src=\"img/task1_img2.png\">\n",
    "где C,T — средние значения экспрессии гена в control и treatment группах соответственно. По сути, **fold change** показывает, во сколько раз отличаются средние двух выборок."
   ]
  },
  {
   "cell_type": "markdown",
   "metadata": {},
   "source": [
    "## Инструкции к решению задачи\n",
    "\n",
    "Задание состоит из **трёх** частей. Если не сказано обратное, то уровень значимости нужно принять равным 0.05."
   ]
  },
  {
   "cell_type": "markdown",
   "metadata": {},
   "source": [
    "### Часть 1: применение t-критерия Стьюдента\n",
    "\n",
    "В первой части вам нужно будет применить критерий Стьюдента для проверки гипотезы о равенстве средних в двух независимых выборках. Применить критерий для каждого гена нужно будет дважды:\n",
    "\n",
    "1. для групп **normal (control)** и **early neoplasia (treatment)**\n",
    "2. для групп **early neoplasia (control)** и **cancer (treatment)**\n",
    "\n",
    "В качестве ответа в этой части задания необходимо указать количество статистически значимых отличий, которые вы нашли с помощью t-критерия Стьюдента, то есть число генов, у которых p-value этого теста оказался меньше, чем уровень значимости."
   ]
  },
  {
   "cell_type": "code",
   "execution_count": 9,
   "metadata": {
    "collapsed": true
   },
   "outputs": [],
   "source": [
    "import numpy as np\n",
    "import pandas as pd\n",
    "import scipy\n",
    "from statsmodels.stats.weightstats import *"
   ]
  },
  {
   "cell_type": "code",
   "execution_count": 7,
   "metadata": {
    "collapsed": true
   },
   "outputs": [],
   "source": [
    "import matplotlib.pyplot as plt\n",
    "%matplotlib inline"
   ]
  },
  {
   "cell_type": "code",
   "execution_count": 40,
   "metadata": {
    "collapsed": false
   },
   "outputs": [],
   "source": [
    "def to_write_ansver(ans, question_num):\n",
    "    '''\n",
    "    Запись ответа ans в файл с номером question_num\n",
    "    '''\n",
    "    with open('ansvers/task1_ans_{}.txt'.format(question_num), 'w') as f:\n",
    "        f.write(str(ans))"
   ]
  },
  {
   "cell_type": "code",
   "execution_count": 2,
   "metadata": {
    "collapsed": true
   },
   "outputs": [],
   "source": [
    "data = pd.read_csv('data/gene_high_throughput_sequencing.csv')"
   ]
  },
  {
   "cell_type": "code",
   "execution_count": 3,
   "metadata": {
    "collapsed": false
   },
   "outputs": [
    {
     "data": {
      "text/html": [
       "<div>\n",
       "<table border=\"1\" class=\"dataframe\">\n",
       "  <thead>\n",
       "    <tr style=\"text-align: right;\">\n",
       "      <th></th>\n",
       "      <th>Patient_id</th>\n",
       "      <th>Diagnosis</th>\n",
       "      <th>LOC643837</th>\n",
       "      <th>LOC100130417</th>\n",
       "      <th>SAMD11</th>\n",
       "      <th>NOC2L</th>\n",
       "      <th>KLHL17</th>\n",
       "      <th>PLEKHN1</th>\n",
       "      <th>C1orf170</th>\n",
       "      <th>HES4</th>\n",
       "      <th>...</th>\n",
       "      <th>CLIC2</th>\n",
       "      <th>RPS4Y1</th>\n",
       "      <th>ZFY</th>\n",
       "      <th>PRKY</th>\n",
       "      <th>USP9Y</th>\n",
       "      <th>DDX3Y</th>\n",
       "      <th>CD24</th>\n",
       "      <th>CYorf15B</th>\n",
       "      <th>KDM5D</th>\n",
       "      <th>EIF1AY</th>\n",
       "    </tr>\n",
       "  </thead>\n",
       "  <tbody>\n",
       "    <tr>\n",
       "      <th>0</th>\n",
       "      <td>STT5425_Breast_001_normal</td>\n",
       "      <td>normal</td>\n",
       "      <td>1.257614</td>\n",
       "      <td>2.408148</td>\n",
       "      <td>13.368622</td>\n",
       "      <td>9.494779</td>\n",
       "      <td>20.880435</td>\n",
       "      <td>12.722017</td>\n",
       "      <td>9.494779</td>\n",
       "      <td>54.349694</td>\n",
       "      <td>...</td>\n",
       "      <td>4.761250</td>\n",
       "      <td>1.257614</td>\n",
       "      <td>1.257614</td>\n",
       "      <td>1.257614</td>\n",
       "      <td>1.257614</td>\n",
       "      <td>1.257614</td>\n",
       "      <td>23.268694</td>\n",
       "      <td>1.257614</td>\n",
       "      <td>1.257614</td>\n",
       "      <td>1.257614</td>\n",
       "    </tr>\n",
       "    <tr>\n",
       "      <th>1</th>\n",
       "      <td>STT5427_Breast_023_normal</td>\n",
       "      <td>normal</td>\n",
       "      <td>4.567931</td>\n",
       "      <td>16.602734</td>\n",
       "      <td>42.477752</td>\n",
       "      <td>25.562376</td>\n",
       "      <td>23.221137</td>\n",
       "      <td>11.622386</td>\n",
       "      <td>14.330573</td>\n",
       "      <td>72.445474</td>\n",
       "      <td>...</td>\n",
       "      <td>6.871902</td>\n",
       "      <td>1.815112</td>\n",
       "      <td>1.815112</td>\n",
       "      <td>1.815112</td>\n",
       "      <td>1.815112</td>\n",
       "      <td>1.815112</td>\n",
       "      <td>10.427023</td>\n",
       "      <td>1.815112</td>\n",
       "      <td>1.815112</td>\n",
       "      <td>1.815112</td>\n",
       "    </tr>\n",
       "    <tr>\n",
       "      <th>2</th>\n",
       "      <td>STT5430_Breast_002_normal</td>\n",
       "      <td>normal</td>\n",
       "      <td>2.077597</td>\n",
       "      <td>3.978294</td>\n",
       "      <td>12.863214</td>\n",
       "      <td>13.728915</td>\n",
       "      <td>14.543176</td>\n",
       "      <td>14.141907</td>\n",
       "      <td>6.232790</td>\n",
       "      <td>57.011005</td>\n",
       "      <td>...</td>\n",
       "      <td>7.096343</td>\n",
       "      <td>2.077597</td>\n",
       "      <td>2.077597</td>\n",
       "      <td>2.077597</td>\n",
       "      <td>2.077597</td>\n",
       "      <td>2.077597</td>\n",
       "      <td>22.344226</td>\n",
       "      <td>2.077597</td>\n",
       "      <td>2.077597</td>\n",
       "      <td>2.077597</td>\n",
       "    </tr>\n",
       "    <tr>\n",
       "      <th>3</th>\n",
       "      <td>STT5439_Breast_003_normal</td>\n",
       "      <td>normal</td>\n",
       "      <td>2.066576</td>\n",
       "      <td>8.520713</td>\n",
       "      <td>14.466035</td>\n",
       "      <td>7.823932</td>\n",
       "      <td>8.520713</td>\n",
       "      <td>2.066576</td>\n",
       "      <td>10.870009</td>\n",
       "      <td>53.292034</td>\n",
       "      <td>...</td>\n",
       "      <td>5.200770</td>\n",
       "      <td>2.066576</td>\n",
       "      <td>2.066576</td>\n",
       "      <td>2.066576</td>\n",
       "      <td>2.066576</td>\n",
       "      <td>2.066576</td>\n",
       "      <td>49.295538</td>\n",
       "      <td>2.066576</td>\n",
       "      <td>2.066576</td>\n",
       "      <td>2.066576</td>\n",
       "    </tr>\n",
       "    <tr>\n",
       "      <th>4</th>\n",
       "      <td>STT5441_Breast_004_normal</td>\n",
       "      <td>normal</td>\n",
       "      <td>2.613616</td>\n",
       "      <td>3.434965</td>\n",
       "      <td>12.682222</td>\n",
       "      <td>10.543189</td>\n",
       "      <td>26.688686</td>\n",
       "      <td>12.484822</td>\n",
       "      <td>1.364917</td>\n",
       "      <td>67.140393</td>\n",
       "      <td>...</td>\n",
       "      <td>11.227770</td>\n",
       "      <td>1.364917</td>\n",
       "      <td>1.364917</td>\n",
       "      <td>1.364917</td>\n",
       "      <td>1.364917</td>\n",
       "      <td>1.364917</td>\n",
       "      <td>23.627911</td>\n",
       "      <td>1.364917</td>\n",
       "      <td>1.364917</td>\n",
       "      <td>1.364917</td>\n",
       "    </tr>\n",
       "  </tbody>\n",
       "</table>\n",
       "<p>5 rows × 15750 columns</p>\n",
       "</div>"
      ],
      "text/plain": [
       "                  Patient_id Diagnosis  LOC643837  LOC100130417     SAMD11  \\\n",
       "0  STT5425_Breast_001_normal    normal   1.257614      2.408148  13.368622   \n",
       "1  STT5427_Breast_023_normal    normal   4.567931     16.602734  42.477752   \n",
       "2  STT5430_Breast_002_normal    normal   2.077597      3.978294  12.863214   \n",
       "3  STT5439_Breast_003_normal    normal   2.066576      8.520713  14.466035   \n",
       "4  STT5441_Breast_004_normal    normal   2.613616      3.434965  12.682222   \n",
       "\n",
       "       NOC2L     KLHL17    PLEKHN1   C1orf170       HES4    ...         CLIC2  \\\n",
       "0   9.494779  20.880435  12.722017   9.494779  54.349694    ...      4.761250   \n",
       "1  25.562376  23.221137  11.622386  14.330573  72.445474    ...      6.871902   \n",
       "2  13.728915  14.543176  14.141907   6.232790  57.011005    ...      7.096343   \n",
       "3   7.823932   8.520713   2.066576  10.870009  53.292034    ...      5.200770   \n",
       "4  10.543189  26.688686  12.484822   1.364917  67.140393    ...     11.227770   \n",
       "\n",
       "     RPS4Y1       ZFY      PRKY     USP9Y     DDX3Y       CD24  CYorf15B  \\\n",
       "0  1.257614  1.257614  1.257614  1.257614  1.257614  23.268694  1.257614   \n",
       "1  1.815112  1.815112  1.815112  1.815112  1.815112  10.427023  1.815112   \n",
       "2  2.077597  2.077597  2.077597  2.077597  2.077597  22.344226  2.077597   \n",
       "3  2.066576  2.066576  2.066576  2.066576  2.066576  49.295538  2.066576   \n",
       "4  1.364917  1.364917  1.364917  1.364917  1.364917  23.627911  1.364917   \n",
       "\n",
       "      KDM5D    EIF1AY  \n",
       "0  1.257614  1.257614  \n",
       "1  1.815112  1.815112  \n",
       "2  2.077597  2.077597  \n",
       "3  2.066576  2.066576  \n",
       "4  1.364917  1.364917  \n",
       "\n",
       "[5 rows x 15750 columns]"
      ]
     },
     "execution_count": 3,
     "metadata": {},
     "output_type": "execute_result"
    }
   ],
   "source": [
    "data.head()"
   ]
  },
  {
   "cell_type": "code",
   "execution_count": 4,
   "metadata": {
    "collapsed": false
   },
   "outputs": [
    {
     "data": {
      "text/plain": [
       "(72, 15750)"
      ]
     },
     "execution_count": 4,
     "metadata": {},
     "output_type": "execute_result"
    }
   ],
   "source": [
    "data.shape"
   ]
  },
  {
   "cell_type": "code",
   "execution_count": 6,
   "metadata": {
    "collapsed": false
   },
   "outputs": [
    {
     "data": {
      "text/plain": [
       "early neoplasia    25\n",
       "normal             24\n",
       "cancer             23\n",
       "Name: Diagnosis, dtype: int64"
      ]
     },
     "execution_count": 6,
     "metadata": {},
     "output_type": "execute_result"
    }
   ],
   "source": [
    "data['Diagnosis'].value_counts()"
   ]
  },
  {
   "cell_type": "markdown",
   "metadata": {
    "collapsed": true
   },
   "source": [
    "проверим нормальность 'LOC643837' в группах `normal` и `early neoplasia` визуально через Ку-ку график"
   ]
  },
  {
   "cell_type": "code",
   "execution_count": 16,
   "metadata": {
    "collapsed": false
   },
   "outputs": [
    {
     "data": {
      "image/png": "[encoded data removed]",
      "text/plain": [
       "<matplotlib.figure.Figure at 0xe616400>"
      ]
     },
     "metadata": {},
     "output_type": "display_data"
    }
   ],
   "source": [
    "plt.figure(figsize=(12,8))\n",
    "plt.subplot(2,2,1)\n",
    "stats.probplot(data['LOC643837'][data['Diagnosis'] == 'normal'], dist=\"norm\", plot=plt)\n",
    "plt.subplot(2,2,2)\n",
    "stats.probplot(data['LOC643837'][data['Diagnosis'] == 'early neoplasia'], dist=\"norm\", plot=plt)\n",
    "plt.show()"
   ]
  },
  {
   "cell_type": "code",
   "execution_count": 43,
   "metadata": {
    "collapsed": false
   },
   "outputs": [
    {
     "data": {
      "text/plain": [
       "1575"
      ]
     },
     "execution_count": 43,
     "metadata": {},
     "output_type": "execute_result"
    }
   ],
   "source": [
    "pv_norm_early = np.array([scipy.stats.ttest_ind(data[gene][data['Diagnosis'] == 'normal'], \n",
    "                                                data[gene][data['Diagnosis'] == 'early neoplasia'], equal_var = False).pvalue \n",
    "                          for gene in data.drop(['Patient_id', 'Diagnosis'], axis=1).columns])\n",
    "\n",
    "n_diff_1 = (pv_norm_early < 0.05).sum()\n",
    "n_diff_1"
   ]
  },
  {
   "cell_type": "code",
   "execution_count": 44,
   "metadata": {
    "collapsed": false
   },
   "outputs": [
    {
     "data": {
      "text/plain": [
       "3490"
      ]
     },
     "execution_count": 44,
     "metadata": {},
     "output_type": "execute_result"
    }
   ],
   "source": [
    "pv_early_cancer = np.array([scipy.stats.ttest_ind(data[gene][data['Diagnosis'] == 'early neoplasia'], \n",
    "                                                data[gene][data['Diagnosis'] == 'cancer'], equal_var = False).pvalue \n",
    "                          for gene in data.drop(['Patient_id', 'Diagnosis'], axis=1).columns])\n",
    "\n",
    "n_diff_2 = (pv_early_cancer < 0.05).sum()\n",
    "n_diff_2"
   ]
  },
  {
   "cell_type": "code",
   "execution_count": 45,
   "metadata": {
    "collapsed": false
   },
   "outputs": [],
   "source": [
    "to_write_ansver(n_diff_1, 1.1)\n",
    "to_write_ansver(n_diff_2, 1.2)"
   ]
  },
  {
   "cell_type": "markdown",
   "metadata": {},
   "source": [
    "### Часть 2: поправка методом Холма\n",
    "\n",
    "Для этой части задания вам понадобится модуль **multitest** из statsmodels.\n",
    "\n",
    "`import statsmodels.stats.multitest as smm`\n",
    "\n",
    "В этой части задания нужно будет применить поправку Холма для получившихся двух наборов достигаемых уровней значимости из предыдущей части. Обратите внимание, что поскольку вы будете делать поправку для каждого из двух наборов p-value отдельно, то проблема, связанная с множественной проверкой останется.\n",
    "\n",
    "Для того, чтобы ее устранить, достаточно воспользоваться поправкой Бонферрони, то есть использовать уровень значимости 0.05 / 2 вместо 0.05 для дальнейшего уточнения значений p-value c помощью метода Холма.\n",
    "\n",
    "В качестве ответа к этому заданию требуется ввести количество значимых отличий в каждой группе после того, как произведена коррекция Холма-Бонферрони. Причем это число нужно ввести с учетом практической значимости: посчитайте для каждого значимого изменения fold change и выпишите в ответ число таких значимых изменений, абсолютное значение fold change которых больше, чем 1.5.\n",
    "\n",
    "**Обратите внимание, что**\n",
    "\n",
    "- применять поправку на множественную проверку нужно **ко всем значениям достигаемых уровней значимости, а не только для тех, которые меньше значения уровня доверия.**\n",
    "- при использовании поправки на уровне значимости 0.025 **меняются значения достигаемого уровня значимости, но не меняется значение уровня доверия **(то есть для отбора значимых изменений скорректированные значения уровня значимости нужно сравнивать с порогом 0.025, а не 0.05)!"
   ]
  },
  {
   "cell_type": "code",
   "execution_count": 41,
   "metadata": {
    "collapsed": true
   },
   "outputs": [],
   "source": [
    "import statsmodels.stats.multitest as smm"
   ]
  },
  {
   "cell_type": "markdown",
   "metadata": {},
   "source": [
    "Сделаем Датафрейм, где будем считать и куда будем складывать ответы"
   ]
  },
  {
   "cell_type": "code",
   "execution_count": 49,
   "metadata": {
    "collapsed": true
   },
   "outputs": [],
   "source": [
    "data_pv = pd.DataFrame(data.drop(['Patient_id', 'Diagnosis'], axis=1).columns, columns=['Genes'] )"
   ]
  },
  {
   "cell_type": "code",
   "execution_count": 48,
   "metadata": {
    "collapsed": false
   },
   "outputs": [],
   "source": [
    "reject, p_corrected, a1, a2 = smm.multipletests(pv_norm_early, alpha=0.05/2, method='holm')"
   ]
  },
  {
   "cell_type": "code",
   "execution_count": 51,
   "metadata": {
    "collapsed": true
   },
   "outputs": [],
   "source": [
    "data_pv['pv_norm_early'] = pv_norm_early\n",
    "data_pv['pv_norm_early_CORR'] = p_corrected\n",
    "data_pv['pv_norm_early_reject'] = reject"
   ]
  },
  {
   "cell_type": "code",
   "execution_count": 52,
   "metadata": {
    "collapsed": false
   },
   "outputs": [
    {
     "data": {
      "text/html": [
       "<div>\n",
       "<table border=\"1\" class=\"dataframe\">\n",
       "  <thead>\n",
       "    <tr style=\"text-align: right;\">\n",
       "      <th></th>\n",
       "      <th>Genes</th>\n",
       "      <th>pv_norm_early</th>\n",
       "      <th>pv_norm_early_CORR</th>\n",
       "      <th>pv_norm_early_reject</th>\n",
       "    </tr>\n",
       "  </thead>\n",
       "  <tbody>\n",
       "    <tr>\n",
       "      <th>0</th>\n",
       "      <td>LOC643837</td>\n",
       "      <td>0.690766</td>\n",
       "      <td>1.000000</td>\n",
       "      <td>False</td>\n",
       "    </tr>\n",
       "    <tr>\n",
       "      <th>1</th>\n",
       "      <td>LOC100130417</td>\n",
       "      <td>0.000032</td>\n",
       "      <td>0.500174</td>\n",
       "      <td>False</td>\n",
       "    </tr>\n",
       "    <tr>\n",
       "      <th>2</th>\n",
       "      <td>SAMD11</td>\n",
       "      <td>0.060273</td>\n",
       "      <td>1.000000</td>\n",
       "      <td>False</td>\n",
       "    </tr>\n",
       "    <tr>\n",
       "      <th>3</th>\n",
       "      <td>NOC2L</td>\n",
       "      <td>0.826429</td>\n",
       "      <td>1.000000</td>\n",
       "      <td>False</td>\n",
       "    </tr>\n",
       "    <tr>\n",
       "      <th>4</th>\n",
       "      <td>KLHL17</td>\n",
       "      <td>0.049876</td>\n",
       "      <td>1.000000</td>\n",
       "      <td>False</td>\n",
       "    </tr>\n",
       "  </tbody>\n",
       "</table>\n",
       "</div>"
      ],
      "text/plain": [
       "          Genes  pv_norm_early  pv_norm_early_CORR pv_norm_early_reject\n",
       "0     LOC643837       0.690766            1.000000                False\n",
       "1  LOC100130417       0.000032            0.500174                False\n",
       "2        SAMD11       0.060273            1.000000                False\n",
       "3         NOC2L       0.826429            1.000000                False\n",
       "4        KLHL17       0.049876            1.000000                False"
      ]
     },
     "execution_count": 52,
     "metadata": {},
     "output_type": "execute_result"
    }
   ],
   "source": [
    "data_pv.head()"
   ]
  },
  {
   "cell_type": "markdown",
   "metadata": {},
   "source": [
    "Вычислим список генов, по которым равенство средних отвергнуто с учетом новых вводных, то есть с учетом поправок Бенфероони-Холма"
   ]
  },
  {
   "cell_type": "code",
   "execution_count": 58,
   "metadata": {
    "collapsed": false
   },
   "outputs": [
    {
     "data": {
      "text/plain": [
       "7244     PCSK4\n",
       "9820    EEF1A2\n",
       "Name: Genes, dtype: object"
      ]
     },
     "execution_count": 58,
     "metadata": {},
     "output_type": "execute_result"
    }
   ],
   "source": [
    "list_reject = data_pv['Genes'][data_pv['pv_norm_early_reject']]\n",
    "list_reject"
   ]
  },
  {
   "cell_type": "code",
   "execution_count": 65,
   "metadata": {
    "collapsed": true
   },
   "outputs": [],
   "source": [
    "# см. пояснения в инструкции к заданию\n",
    "def fold_change(C, T):\n",
    "    return T / C if T > C else -(C / T)"
   ]
  },
  {
   "cell_type": "markdown",
   "metadata": {},
   "source": [
    "Сгруппируем по исследуемым группам ('Diagnosis') и посчитаем средние для всех генов по каждой из групп"
   ]
  },
  {
   "cell_type": "code",
   "execution_count": 79,
   "metadata": {
    "collapsed": false
   },
   "outputs": [
    {
     "data": {
      "text/html": [
       "<div>\n",
       "<table border=\"1\" class=\"dataframe\">\n",
       "  <thead>\n",
       "    <tr style=\"text-align: right;\">\n",
       "      <th></th>\n",
       "      <th>LOC643837</th>\n",
       "      <th>LOC100130417</th>\n",
       "      <th>SAMD11</th>\n",
       "      <th>NOC2L</th>\n",
       "      <th>KLHL17</th>\n",
       "      <th>PLEKHN1</th>\n",
       "      <th>C1orf170</th>\n",
       "      <th>HES4</th>\n",
       "      <th>ISG15</th>\n",
       "      <th>AGRN</th>\n",
       "      <th>...</th>\n",
       "      <th>CLIC2</th>\n",
       "      <th>RPS4Y1</th>\n",
       "      <th>ZFY</th>\n",
       "      <th>PRKY</th>\n",
       "      <th>USP9Y</th>\n",
       "      <th>DDX3Y</th>\n",
       "      <th>CD24</th>\n",
       "      <th>CYorf15B</th>\n",
       "      <th>KDM5D</th>\n",
       "      <th>EIF1AY</th>\n",
       "    </tr>\n",
       "    <tr>\n",
       "      <th>Diagnosis</th>\n",
       "      <th></th>\n",
       "      <th></th>\n",
       "      <th></th>\n",
       "      <th></th>\n",
       "      <th></th>\n",
       "      <th></th>\n",
       "      <th></th>\n",
       "      <th></th>\n",
       "      <th></th>\n",
       "      <th></th>\n",
       "      <th></th>\n",
       "      <th></th>\n",
       "      <th></th>\n",
       "      <th></th>\n",
       "      <th></th>\n",
       "      <th></th>\n",
       "      <th></th>\n",
       "      <th></th>\n",
       "      <th></th>\n",
       "      <th></th>\n",
       "      <th></th>\n",
       "    </tr>\n",
       "  </thead>\n",
       "  <tbody>\n",
       "    <tr>\n",
       "      <th>cancer</th>\n",
       "      <td>2.186060</td>\n",
       "      <td>8.190456</td>\n",
       "      <td>23.692614</td>\n",
       "      <td>16.468034</td>\n",
       "      <td>25.035813</td>\n",
       "      <td>13.870940</td>\n",
       "      <td>9.677439</td>\n",
       "      <td>67.162763</td>\n",
       "      <td>91.706112</td>\n",
       "      <td>73.359613</td>\n",
       "      <td>...</td>\n",
       "      <td>4.684026</td>\n",
       "      <td>2.539207</td>\n",
       "      <td>2.168508</td>\n",
       "      <td>2.669397</td>\n",
       "      <td>1.871647</td>\n",
       "      <td>2.292908</td>\n",
       "      <td>15.752268</td>\n",
       "      <td>2.157294</td>\n",
       "      <td>2.776173</td>\n",
       "      <td>1.985272</td>\n",
       "    </tr>\n",
       "    <tr>\n",
       "      <th>early neoplasia</th>\n",
       "      <td>2.510894</td>\n",
       "      <td>8.721781</td>\n",
       "      <td>18.531325</td>\n",
       "      <td>15.071854</td>\n",
       "      <td>24.152469</td>\n",
       "      <td>10.793160</td>\n",
       "      <td>9.009031</td>\n",
       "      <td>64.670644</td>\n",
       "      <td>37.296084</td>\n",
       "      <td>75.707467</td>\n",
       "      <td>...</td>\n",
       "      <td>5.720618</td>\n",
       "      <td>1.956668</td>\n",
       "      <td>2.075279</td>\n",
       "      <td>2.057353</td>\n",
       "      <td>1.794432</td>\n",
       "      <td>1.961449</td>\n",
       "      <td>17.567902</td>\n",
       "      <td>1.760707</td>\n",
       "      <td>2.151549</td>\n",
       "      <td>1.727730</td>\n",
       "    </tr>\n",
       "    <tr>\n",
       "      <th>normal</th>\n",
       "      <td>2.681277</td>\n",
       "      <td>4.368497</td>\n",
       "      <td>15.159566</td>\n",
       "      <td>15.374351</td>\n",
       "      <td>21.459886</td>\n",
       "      <td>9.374537</td>\n",
       "      <td>8.105567</td>\n",
       "      <td>58.080871</td>\n",
       "      <td>34.983861</td>\n",
       "      <td>62.870812</td>\n",
       "      <td>...</td>\n",
       "      <td>6.242498</td>\n",
       "      <td>2.104486</td>\n",
       "      <td>1.662368</td>\n",
       "      <td>1.842830</td>\n",
       "      <td>1.525062</td>\n",
       "      <td>1.701654</td>\n",
       "      <td>17.106405</td>\n",
       "      <td>1.576004</td>\n",
       "      <td>1.960442</td>\n",
       "      <td>1.568210</td>\n",
       "    </tr>\n",
       "  </tbody>\n",
       "</table>\n",
       "<p>3 rows × 15748 columns</p>\n",
       "</div>"
      ],
      "text/plain": [
       "                 LOC643837  LOC100130417     SAMD11      NOC2L     KLHL17  \\\n",
       "Diagnosis                                                                   \n",
       "cancer            2.186060      8.190456  23.692614  16.468034  25.035813   \n",
       "early neoplasia   2.510894      8.721781  18.531325  15.071854  24.152469   \n",
       "normal            2.681277      4.368497  15.159566  15.374351  21.459886   \n",
       "\n",
       "                   PLEKHN1  C1orf170       HES4      ISG15       AGRN  \\\n",
       "Diagnosis                                                               \n",
       "cancer           13.870940  9.677439  67.162763  91.706112  73.359613   \n",
       "early neoplasia  10.793160  9.009031  64.670644  37.296084  75.707467   \n",
       "normal            9.374537  8.105567  58.080871  34.983861  62.870812   \n",
       "\n",
       "                   ...        CLIC2    RPS4Y1       ZFY      PRKY     USP9Y  \\\n",
       "Diagnosis          ...                                                        \n",
       "cancer             ...     4.684026  2.539207  2.168508  2.669397  1.871647   \n",
       "early neoplasia    ...     5.720618  1.956668  2.075279  2.057353  1.794432   \n",
       "normal             ...     6.242498  2.104486  1.662368  1.842830  1.525062   \n",
       "\n",
       "                    DDX3Y       CD24  CYorf15B     KDM5D    EIF1AY  \n",
       "Diagnosis                                                           \n",
       "cancer           2.292908  15.752268  2.157294  2.776173  1.985272  \n",
       "early neoplasia  1.961449  17.567902  1.760707  2.151549  1.727730  \n",
       "normal           1.701654  17.106405  1.576004  1.960442  1.568210  \n",
       "\n",
       "[3 rows x 15748 columns]"
      ]
     },
     "execution_count": 79,
     "metadata": {},
     "output_type": "execute_result"
    }
   ],
   "source": [
    "groupby = data.groupby(by='Diagnosis').mean()\n",
    "groupby"
   ]
  },
  {
   "cell_type": "markdown",
   "metadata": {},
   "source": [
    "Дополним критерий значимостью отличий (модуль `fold change` > 1.5) и посчитаем количество генов, для которых это выполняется. Запишем ответ"
   ]
  },
  {
   "cell_type": "code",
   "execution_count": 77,
   "metadata": {
    "collapsed": false
   },
   "outputs": [
    {
     "data": {
      "text/plain": [
       "2"
      ]
     },
     "execution_count": 77,
     "metadata": {},
     "output_type": "execute_result"
    }
   ],
   "source": [
    "C, T = 'normal', 'early neoplasia'\n",
    "n_significant_diff_1 = (np.array([abs(fold_change(groupby.loc[C, gene], groupby.loc[T, gene])) \n",
    "                                  for gene in list_reject]) > 1.5).sum()\n",
    "n_significant_diff_1"
   ]
  },
  {
   "cell_type": "code",
   "execution_count": 78,
   "metadata": {
    "collapsed": true
   },
   "outputs": [],
   "source": [
    "to_write_ansver(n_significant_diff_1, 2.1)"
   ]
  },
  {
   "cell_type": "markdown",
   "metadata": {},
   "source": [
    "**Проделаем все то же самое для групп `early neoplasia` и `cancer`**"
   ]
  },
  {
   "cell_type": "code",
   "execution_count": 81,
   "metadata": {
    "collapsed": false
   },
   "outputs": [
    {
     "data": {
      "text/plain": [
       "77"
      ]
     },
     "execution_count": 81,
     "metadata": {},
     "output_type": "execute_result"
    }
   ],
   "source": [
    "reject, p_corrected, a1, a2 = smm.multipletests(pv_early_cancer, alpha=0.05/2, method='holm')\n",
    "data_pv['pv_early_cancer_reject'] = reject\n",
    "list_reject = data_pv['Genes'][data_pv['pv_early_cancer_reject']]\n",
    "\n",
    "C, T = 'early neoplasia', 'cancer'\n",
    "n_significant_diff_2 = (np.array([abs(fold_change(groupby.loc[C, gene], groupby.loc[T, gene])) \n",
    "                                  for gene in list_reject]) > 1.5).sum()\n",
    "\n",
    "to_write_ansver(n_significant_diff_2, 2.2)\n",
    "n_significant_diff_2"
   ]
  },
  {
   "cell_type": "markdown",
   "metadata": {},
   "source": [
    "## Часть 3: поправка методом Бенджамини-Хохберга\n",
    "\n",
    "Данная часть задания аналогична второй части за исключением того, что нужно будет использовать метод Бенджамини-Хохберга.\n",
    "\n",
    "Обратите внимание, что методы коррекции, которые контролируют FDR, допускает больше ошибок первого рода и имеют большую мощность, чем методы, контролирующие FWER. Большая мощность означает, что эти методы будут совершать меньше ошибок второго рода (то есть будут лучше улавливать отклонения от **$H_0$**, когда они есть, и будут чаще отклонять **$H_0$**, когда отличий нет).\n",
    "\n",
    "В качестве ответа к этому заданию требуется ввести количество значимых отличий в каждой группе после того, как произведена коррекция Бенджамини-Хохберга, причем так же, как и во второй части, считать только такие отличия, у которых `abs(fold change) > 1.5`.\n",
    "\n",
    "_P.S. Вспомните, какое значение имеет уровень значимости α в каждой из поправок: Холма и Бенджамини-Хохберга. Одинаковый ли смысл имеет уровень значимости в каждой из поправок?_"
   ]
  },
  {
   "cell_type": "code",
   "execution_count": 85,
   "metadata": {
    "collapsed": false
   },
   "outputs": [
    {
     "data": {
      "text/plain": [
       "4"
      ]
     },
     "execution_count": 85,
     "metadata": {},
     "output_type": "execute_result"
    }
   ],
   "source": [
    "reject, p_corrected, a1, a2 = smm.multipletests(pv_norm_early, alpha=0.05/2, method='fdr_bh')\n",
    "data_pv['pv_norm_early_fdr_bh_reject'] = reject\n",
    "list_reject = data_pv['Genes'][data_pv['pv_norm_early_fdr_bh_reject']]\n",
    "\n",
    "C, T = 'normal', 'early neoplasia'\n",
    "n_significant_diff_fdr_bh_1 = (np.array([abs(fold_change(groupby.loc[C, gene], groupby.loc[T, gene])) \n",
    "                                  for gene in list_reject]) > 1.5).sum()\n",
    "\n",
    "to_write_ansver(n_significant_diff_fdr_bh_1, 3.1)\n",
    "n_significant_diff_fdr_bh_1"
   ]
  },
  {
   "cell_type": "code",
   "execution_count": 86,
   "metadata": {
    "collapsed": false
   },
   "outputs": [
    {
     "data": {
      "text/plain": [
       "524"
      ]
     },
     "execution_count": 86,
     "metadata": {},
     "output_type": "execute_result"
    }
   ],
   "source": [
    "reject, p_corrected, a1, a2 = smm.multipletests(pv_early_cancer, alpha=0.05/2, method='fdr_bh')\n",
    "data_pv['pv_early_cancer_fdr_bh_reject'] = reject\n",
    "list_reject = data_pv['Genes'][data_pv['pv_early_cancer_fdr_bh_reject']]\n",
    "\n",
    "C, T = 'early neoplasia', 'cancer'\n",
    "n_significant_diff_fdr_bh_2 = (np.array([abs(fold_change(groupby.loc[C, gene], groupby.loc[T, gene])) \n",
    "                                  for gene in list_reject]) > 1.5).sum()\n",
    "\n",
    "to_write_ansver(n_significant_diff_fdr_bh_2, 3.2)\n",
    "n_significant_diff_fdr_bh_2"
   ]
  }
 ],
 "metadata": {
  "kernelspec": {
   "display_name": "Python 2",
   "language": "python",
   "name": "python2"
  },
  "language_info": {
   "codemirror_mode": {
    "name": "ipython",
    "version": 2
   },
   "file_extension": ".py",
   "mimetype": "text/x-python",
   "name": "python",
   "nbconvert_exporter": "python",
   "pygments_lexer": "ipython2",
   "version": "2.7.13"
  }
 },
 "nbformat": 4,
 "nbformat_minor": 2
}
