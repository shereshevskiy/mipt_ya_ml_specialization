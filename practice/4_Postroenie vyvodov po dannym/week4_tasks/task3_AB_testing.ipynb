{
 "cells": [
  {
   "cell_type": "markdown",
   "metadata": {},
   "source": [
    "# Анализ результатов АБ-теста\n",
    "### Тест, 7 вопросов"
   ]
  },
  {
   "cell_type": "markdown",
   "metadata": {},
   "source": [
    "## 1. В данном задании вам нужно будет\n",
    "\n",
    "- проанализировать АБ тест, проведенный на реальных пользователях Яндекса\n",
    "- подтвердить или опровергнуть наличие изменений в пользовательском поведении между контрольной (control) и тестовой (exp) группами\n",
    "- определить характер этих изменений и практическую значимость вводимого изменения\n",
    "- понять, какая из пользовательских групп более всего проигрывает / выигрывает от тестируемого изменения (локализовать изменение)\n",
    "### Описание данных:   \n",
    "\n",
    "\n",
    "- `userID`: уникальный идентификатор пользователя\n",
    "- `browser`: браузер, который использовал userID\n",
    "- `slot`: в каком статусе пользователь участвовал в исследовании (exp = видел измененную страницу, control = видел неизменную страницу)\n",
    "- `n_clicks`: количество кликов, которые пользоваль совершил за n_queries\n",
    "- `n_queries`: количество запросов, который совершил userID, пользуясь браузером browser\n",
    "- `n_nonclk_queries`: количество запросов пользователя, в которых им не было совершено ни одного клика\n",
    "\n",
    "Обращаем ваше внимание, что не все люди используют только один браузер, поэтому в столбце `userID` есть повторяющиеся идентификаторы. В предлагаемых данных уникальным является сочетание `userID` и `browser`.\n",
    "\n",
    "Файл данных:   \n",
    "<a href=\"https://d3c33hcgiwev3.cloudfront.net/_e5da3bbe4a9b1bdbfe17c402d05cbe63_ab_browser_test.csv?Expires=1512000000&Signature=XS7Tyd7fhp8-ThEstocRUNQz6hazP7CQwpj8m73cZ-yOibpXheVDssED9~8dqelDM~9NAhx9IWUsiJYU1Aog7xE4DGIEY3jN-BjhUdy9LDe5ZSI4q4YB2bIJOOdvi5S4ie1xLqnyGFcQbL2hOkal7C4SqOB5lTG61hD31U0h5Iw_&Key-Pair-Id=APKAJLTNE6QMUY6HBC5A\">**ab_browser_test.csv**</a>\n",
    "\n",
    "Основная метрика, на которой мы сосредоточимся в этой работе, — это количество пользовательских кликов на `web`-странице в зависимости от тестируемого изменения этой страницы.\n",
    "\n",
    "Посчитайте, насколько в группе exp больше пользовательских кликов по сравнению с группой control в процентах от числа кликов в контрольной группе.\n",
    "\n",
    "Полученный процент округлите до третьего знака после точки."
   ]
  },
  {
   "cell_type": "code",
   "execution_count": 1,
   "metadata": {
    "collapsed": true
   },
   "outputs": [],
   "source": [
    "import numpy as np\n",
    "import pandas as pd\n",
    "import seaborn as sns\n",
    "\n",
    "%matplotlib inline\n",
    "import matplotlib.pyplot as plt"
   ]
  },
  {
   "cell_type": "code",
   "execution_count": 2,
   "metadata": {
    "collapsed": true
   },
   "outputs": [],
   "source": [
    "import scipy\n",
    "from statsmodels.stats.weightstats import *"
   ]
  },
  {
   "cell_type": "code",
   "execution_count": 56,
   "metadata": {
    "collapsed": true
   },
   "outputs": [],
   "source": [
    "from statsmodels.sandbox.stats.multicomp import multipletests"
   ]
  },
  {
   "cell_type": "code",
   "execution_count": 3,
   "metadata": {
    "collapsed": false
   },
   "outputs": [
    {
     "name": "stdout",
     "output_type": "stream",
     "text": [
      "Populating the interactive namespace from numpy and matplotlib\n"
     ]
    }
   ],
   "source": [
    "%pylab inline"
   ]
  },
  {
   "cell_type": "code",
   "execution_count": 4,
   "metadata": {
    "collapsed": true
   },
   "outputs": [],
   "source": [
    "data = pd.read_csv('data/ab_browser_test.csv')"
   ]
  },
  {
   "cell_type": "code",
   "execution_count": 5,
   "metadata": {
    "collapsed": false
   },
   "outputs": [
    {
     "data": {
      "text/html": [
       "<div>\n",
       "<table border=\"1\" class=\"dataframe\">\n",
       "  <thead>\n",
       "    <tr style=\"text-align: right;\">\n",
       "      <th></th>\n",
       "      <th>userID</th>\n",
       "      <th>browser</th>\n",
       "      <th>slot</th>\n",
       "      <th>n_clicks</th>\n",
       "      <th>n_queries</th>\n",
       "      <th>n_nonclk_queries</th>\n",
       "    </tr>\n",
       "  </thead>\n",
       "  <tbody>\n",
       "    <tr>\n",
       "      <th>0</th>\n",
       "      <td>1</td>\n",
       "      <td>Browser #2</td>\n",
       "      <td>exp</td>\n",
       "      <td>23</td>\n",
       "      <td>32</td>\n",
       "      <td>19</td>\n",
       "    </tr>\n",
       "    <tr>\n",
       "      <th>1</th>\n",
       "      <td>3</td>\n",
       "      <td>Browser #4</td>\n",
       "      <td>exp</td>\n",
       "      <td>3</td>\n",
       "      <td>4</td>\n",
       "      <td>2</td>\n",
       "    </tr>\n",
       "    <tr>\n",
       "      <th>2</th>\n",
       "      <td>5</td>\n",
       "      <td>Browser #4</td>\n",
       "      <td>exp</td>\n",
       "      <td>29</td>\n",
       "      <td>35</td>\n",
       "      <td>16</td>\n",
       "    </tr>\n",
       "    <tr>\n",
       "      <th>3</th>\n",
       "      <td>6</td>\n",
       "      <td>Browser #4</td>\n",
       "      <td>control</td>\n",
       "      <td>12</td>\n",
       "      <td>6</td>\n",
       "      <td>0</td>\n",
       "    </tr>\n",
       "    <tr>\n",
       "      <th>4</th>\n",
       "      <td>7</td>\n",
       "      <td>Browser #4</td>\n",
       "      <td>exp</td>\n",
       "      <td>54</td>\n",
       "      <td>68</td>\n",
       "      <td>30</td>\n",
       "    </tr>\n",
       "  </tbody>\n",
       "</table>\n",
       "</div>"
      ],
      "text/plain": [
       "   userID     browser     slot  n_clicks  n_queries  n_nonclk_queries\n",
       "0       1  Browser #2      exp        23         32                19\n",
       "1       3  Browser #4      exp         3          4                 2\n",
       "2       5  Browser #4      exp        29         35                16\n",
       "3       6  Browser #4  control        12          6                 0\n",
       "4       7  Browser #4      exp        54         68                30"
      ]
     },
     "execution_count": 5,
     "metadata": {},
     "output_type": "execute_result"
    }
   ],
   "source": [
    "data.head()"
   ]
  },
  {
   "cell_type": "code",
   "execution_count": 6,
   "metadata": {
    "collapsed": false
   },
   "outputs": [
    {
     "data": {
      "text/plain": [
       "(566134, 6)"
      ]
     },
     "execution_count": 6,
     "metadata": {},
     "output_type": "execute_result"
    }
   ],
   "source": [
    "data.shape"
   ]
  },
  {
   "cell_type": "code",
   "execution_count": 7,
   "metadata": {
    "collapsed": false
   },
   "outputs": [
    {
     "name": "stdout",
     "output_type": "stream",
     "text": [
      "<class 'pandas.core.frame.DataFrame'>\n",
      "RangeIndex: 566134 entries, 0 to 566133\n",
      "Data columns (total 6 columns):\n",
      "userID              566134 non-null int64\n",
      "browser             566134 non-null object\n",
      "slot                566134 non-null object\n",
      "n_clicks            566134 non-null int64\n",
      "n_queries           566134 non-null int64\n",
      "n_nonclk_queries    566134 non-null int64\n",
      "dtypes: int64(4), object(2)\n",
      "memory usage: 25.9+ MB\n"
     ]
    }
   ],
   "source": [
    "data.info()"
   ]
  },
  {
   "cell_type": "code",
   "execution_count": 8,
   "metadata": {
    "collapsed": false
   },
   "outputs": [
    {
     "data": {
      "text/html": [
       "<div>\n",
       "<table border=\"1\" class=\"dataframe\">\n",
       "  <thead>\n",
       "    <tr style=\"text-align: right;\">\n",
       "      <th></th>\n",
       "      <th>userID</th>\n",
       "      <th>n_clicks</th>\n",
       "      <th>n_queries</th>\n",
       "      <th>n_nonclk_queries</th>\n",
       "    </tr>\n",
       "  </thead>\n",
       "  <tbody>\n",
       "    <tr>\n",
       "      <th>count</th>\n",
       "      <td>566134.000000</td>\n",
       "      <td>566134.000000</td>\n",
       "      <td>566134.000000</td>\n",
       "      <td>566134.000000</td>\n",
       "    </tr>\n",
       "    <tr>\n",
       "      <th>mean</th>\n",
       "      <td>301377.214027</td>\n",
       "      <td>11.431658</td>\n",
       "      <td>10.720524</td>\n",
       "      <td>4.703987</td>\n",
       "    </tr>\n",
       "    <tr>\n",
       "      <th>std</th>\n",
       "      <td>175526.333101</td>\n",
       "      <td>20.251494</td>\n",
       "      <td>16.262827</td>\n",
       "      <td>8.109958</td>\n",
       "    </tr>\n",
       "    <tr>\n",
       "      <th>min</th>\n",
       "      <td>1.000000</td>\n",
       "      <td>0.000000</td>\n",
       "      <td>1.000000</td>\n",
       "      <td>0.000000</td>\n",
       "    </tr>\n",
       "    <tr>\n",
       "      <th>25%</th>\n",
       "      <td>148627.250000</td>\n",
       "      <td>1.000000</td>\n",
       "      <td>2.000000</td>\n",
       "      <td>1.000000</td>\n",
       "    </tr>\n",
       "    <tr>\n",
       "      <th>50%</th>\n",
       "      <td>299362.500000</td>\n",
       "      <td>4.000000</td>\n",
       "      <td>5.000000</td>\n",
       "      <td>2.000000</td>\n",
       "    </tr>\n",
       "    <tr>\n",
       "      <th>75%</th>\n",
       "      <td>455698.750000</td>\n",
       "      <td>13.000000</td>\n",
       "      <td>13.000000</td>\n",
       "      <td>6.000000</td>\n",
       "    </tr>\n",
       "    <tr>\n",
       "      <th>max</th>\n",
       "      <td>603137.000000</td>\n",
       "      <td>863.000000</td>\n",
       "      <td>665.000000</td>\n",
       "      <td>581.000000</td>\n",
       "    </tr>\n",
       "  </tbody>\n",
       "</table>\n",
       "</div>"
      ],
      "text/plain": [
       "              userID       n_clicks      n_queries  n_nonclk_queries\n",
       "count  566134.000000  566134.000000  566134.000000     566134.000000\n",
       "mean   301377.214027      11.431658      10.720524          4.703987\n",
       "std    175526.333101      20.251494      16.262827          8.109958\n",
       "min         1.000000       0.000000       1.000000          0.000000\n",
       "25%    148627.250000       1.000000       2.000000          1.000000\n",
       "50%    299362.500000       4.000000       5.000000          2.000000\n",
       "75%    455698.750000      13.000000      13.000000          6.000000\n",
       "max    603137.000000     863.000000     665.000000        581.000000"
      ]
     },
     "execution_count": 8,
     "metadata": {},
     "output_type": "execute_result"
    }
   ],
   "source": [
    "data.describe()"
   ]
  },
  {
   "cell_type": "code",
   "execution_count": 9,
   "metadata": {
    "collapsed": false
   },
   "outputs": [
    {
     "data": {
      "text/plain": [
       "control    284554\n",
       "exp        281580\n",
       "Name: slot, dtype: int64"
      ]
     },
     "execution_count": 9,
     "metadata": {},
     "output_type": "execute_result"
    }
   ],
   "source": [
    "data['slot'].value_counts()"
   ]
  },
  {
   "cell_type": "markdown",
   "metadata": {},
   "source": [
    "Посчитайте, насколько в группе exp больше пользовательских кликов по сравнению с группой control в процентах от числа кликов в контрольной группе.   \n",
    "Полученный процент округлите до третьего знака после точки."
   ]
  },
  {
   "cell_type": "markdown",
   "metadata": {},
   "source": [
    "Подготовим данные для анализа:"
   ]
  },
  {
   "cell_type": "code",
   "execution_count": 10,
   "metadata": {
    "collapsed": true
   },
   "outputs": [],
   "source": [
    "n_clicks_exp = data['n_clicks'][data['slot'] == 'exp'].values\n",
    "n_clicks_control = data['n_clicks'][data['slot'] == 'control'].values"
   ]
  },
  {
   "cell_type": "code",
   "execution_count": 11,
   "metadata": {
    "collapsed": false
   },
   "outputs": [
    {
     "data": {
      "text/plain": [
       "1.614"
      ]
     },
     "execution_count": 11,
     "metadata": {},
     "output_type": "execute_result"
    }
   ],
   "source": [
    "round(float(n_clicks_exp.sum() - n_clicks_control.sum()) / n_clicks_control.sum() * 100, 3)"
   ]
  },
  {
   "cell_type": "markdown",
   "metadata": {},
   "source": [
    "## 2. Давайте попробуем посмотреть более внимательно на разницу между двумя группами (control и exp) относительно количества пользовательских кликов.\n",
    "\n",
    "Для этого постройте с помощью бутстрепа 95% доверительный интервал для средних значений и медиан количества кликов в каждой из двух групп. Отметьте все верные утверждения.   \n",
    "\n",
    "- 95% доверительный интервал для разности средних содержит ноль, похоже, средние существенно не отличаются\n",
    "\n",
    "- **95% доверительный интервал для разности средних не содержит ноль, похоже, средние отличаются статистически значимо - [+]**\n",
    "\n",
    "- 95% доверительный интервал для разности медиан содержит ноль, похоже, медианы существенно не отличаются\n",
    "\n",
    "- Применение bootstrap на выборках такого большого размера неправомерно, потому что bootstrap делает псведо7выборки с возвращениями, а с ростом объема исходной выборки псведовыборки с возвращениями становятся более похожими на псведовыборки без возвращения.\n",
    "\n",
    "- **95% доверительный интервал для разности медиан не содержит ноль, похоже, медианы отличаются статистически значимо - [+]**"
   ]
  },
  {
   "cell_type": "code",
   "execution_count": 12,
   "metadata": {
    "collapsed": true
   },
   "outputs": [],
   "source": [
    "def get_bootstrap_samples(data, n_samples):\n",
    "    '''\n",
    "    Возвращает бутстрап выборки из данных\n",
    "    '''\n",
    "    indices = np.random.randint(0, len(data), (n_samples, len(data)))\n",
    "    samples = data[indices]\n",
    "    return samples"
   ]
  },
  {
   "cell_type": "code",
   "execution_count": 13,
   "metadata": {
    "collapsed": true
   },
   "outputs": [],
   "source": [
    "def stat_intervals(stat, alpha):\n",
    "    '''\n",
    "    Возвращает границы (100-alpha)-процентного интервала для статистики stat\n",
    "    '''\n",
    "    boundaries = np.percentile(stat, [100 * alpha / 2., 100 * (1 - alpha / 2.)])\n",
    "    return boundaries"
   ]
  },
  {
   "cell_type": "code",
   "execution_count": 14,
   "metadata": {
    "collapsed": false
   },
   "outputs": [
    {
     "name": "stdout",
     "output_type": "stream",
     "text": [
      "95% confidence interval for the median difference of the clicks: [ 1.  1.]\n",
      "Wall time: 22.4 s\n"
     ]
    }
   ],
   "source": [
    "%%time\n",
    "np.random.seed(17)\n",
    "\n",
    "n_clicks_exp_median_scores = map(np.median, get_bootstrap_samples(n_clicks_exp, 1000))\n",
    "n_clicks_control_median_scores = map(np.median, get_bootstrap_samples(n_clicks_control, 1000))\n",
    "\n",
    "delta_median_scores = map(lambda x: x[1] - x[0], zip(n_clicks_control_median_scores, n_clicks_exp_median_scores))\n",
    "\n",
    "print \"95% confidence interval for the median difference of the clicks:\",  stat_intervals(delta_median_scores, 0.05)"
   ]
  },
  {
   "cell_type": "code",
   "execution_count": 15,
   "metadata": {
    "collapsed": false
   },
   "outputs": [
    {
     "name": "stdout",
     "output_type": "stream",
     "text": [
      "95% confidence interval for the mean difference of the clicks: [ 0.19449192  0.41183562]\n",
      "Wall time: 16.3 s\n"
     ]
    }
   ],
   "source": [
    "%%time\n",
    "np.random.seed(17)\n",
    "\n",
    "n_clicks_exp_mean_scores = map(np.mean, get_bootstrap_samples(n_clicks_exp, 1000))\n",
    "n_clicks_control_mean_scores = map(np.mean, get_bootstrap_samples(n_clicks_control, 1000))\n",
    "\n",
    "delta_mean_scores = map(lambda x: x[1] - x[0], zip(n_clicks_control_mean_scores, n_clicks_exp_mean_scores))\n",
    "\n",
    "print \"95% confidence interval for the mean difference of the clicks:\",  stat_intervals(delta_mean_scores, 0.05)"
   ]
  },
  {
   "cell_type": "markdown",
   "metadata": {},
   "source": [
    "## 3. Поскольку данных достаточно много (порядка полумиллиона уникальных пользователей), отличие в несколько процентов может быть не только практически значимым, но и значимым статистически. Последнее утверждение нуждается в дополнительной проверке.\n",
    "\n",
    "Посмотрите на выданные вам данные и выберите все верные варианты ответа относительно проверки гипотезы о равенстве среднего количества кликов в группах.\n",
    "\n",
    "- Все ответы неверны - **[+]**\n",
    "\n",
    "- Для проверки гипотезы о равенстве средних категорически нельзя использовать t-критерий Стьюдента ни при каком размере выборки, потому что количество кликов, которые мы исследуем, больше походят на распределение Пуассона, которое **сильно** отличается от нормального.\n",
    "\n",
    "- Для проверки гипотезы о равенстве средних в данной задаче можно использовать только параметрические критерии, потому что непараметрические, как известно, с увеличением размера выборки могут давать непредсказуемые результаты в силу случайности в определении их нулевого распределения.\n",
    "\n",
    "- Используя центральную предельную теорему, мы можем заключить, что с ростом объема выборки любое исследуемое распределение, становится похожим на нормальное, а значит, учитывая большой объем нашей выборки, оптимальным критерием в нашей задаче будет z-критерий.\n",
    "\n",
    "- Гипотезу о равенстве средних между двумя выборками можно проверить с помощью построения доверительного интервала для среднего объединенной выборки, потому что в силу большого объема выборки этот интервал будет очень точным, и мы сможем надежно оценить необходимый доверительный интервал"
   ]
  },
  {
   "cell_type": "markdown",
   "metadata": {},
   "source": [
    "Посмотрим на нормальность распределений - с помощью Q-Q графика и критерия Шапиро-Вилка."
   ]
  },
  {
   "cell_type": "code",
   "execution_count": 16,
   "metadata": {
    "collapsed": false
   },
   "outputs": [
    {
     "data": {
      "image/png": "[encoded data removed]",
      "text/plain": [
       "<matplotlib.figure.Figure at 0xc125160>"
      ]
     },
     "metadata": {},
     "output_type": "display_data"
    }
   ],
   "source": [
    "pylab.figure(figsize=(12,8))\n",
    "pylab.subplot(2,2,1)\n",
    "stats.probplot(n_clicks_exp, dist=\"norm\", plot=pylab)\n",
    "pylab.subplot(2,2,2)\n",
    "stats.probplot(n_clicks_control, dist=\"norm\", plot=pylab)[1][2]\n",
    "pylab.show()"
   ]
  },
  {
   "cell_type": "markdown",
   "metadata": {},
   "source": [
    "Критерий Шапиро-Уилка:\n",
    "\n",
    " $H_0\\colon$ n_clicks распредлены нормально\n",
    " \n",
    " $H_1\\colon$ не нормально."
   ]
  },
  {
   "cell_type": "code",
   "execution_count": 17,
   "metadata": {
    "collapsed": false
   },
   "outputs": [
    {
     "name": "stdout",
     "output_type": "stream",
     "text": [
      "Shapiro-Wilk normality test, W-statistic: 0.545878, p-value: 0.000000\n",
      "Shapiro-Wilk normality test, W-statistic: 0.537250, p-value: 0.000000\n"
     ]
    },
    {
     "name": "stderr",
     "output_type": "stream",
     "text": [
      "C:\\ProgramData\\Anaconda2\\lib\\site-packages\\scipy\\stats\\morestats.py:1330: UserWarning: p-value may not be accurate for N > 5000.\n",
      "  warnings.warn(\"p-value may not be accurate for N > 5000.\")\n"
     ]
    }
   ],
   "source": [
    "print (\"Shapiro-Wilk normality test, W-statistic: %f, p-value: %f\" % stats.shapiro(n_clicks_exp))\n",
    "print (\"Shapiro-Wilk normality test, W-statistic: %f, p-value: %f\" % stats.shapiro(n_clicks_control))"
   ]
  },
  {
   "cell_type": "markdown",
   "metadata": {},
   "source": [
    "ВЫВОД:   \n",
    "клики распределены не нормально, критерий Стьюдента не применим"
   ]
  },
  {
   "cell_type": "markdown",
   "metadata": {},
   "source": [
    "## 4. t-критерий Стьюдента имеет множество достоинств, и потому его достаточно часто применяют в AB экспериментах. Иногда его применение может быть необоснованно из-за сильной скошенности распределения данных."
   ]
  },
  {
   "cell_type": "markdown",
   "metadata": {},
   "source": [
    "1) Получите из данных n_boot_samples псевдовыборок."
   ]
  },
  {
   "cell_type": "code",
   "execution_count": 18,
   "metadata": {
    "collapsed": true
   },
   "outputs": [],
   "source": [
    "np.random.seed(0)\n",
    "n_boot_samples = 500\n",
    "\n",
    "control_bootstrap_samples = get_bootstrap_samples(n_clicks_control, \n",
    "                                                  n_boot_samples) # Получите из данных n_boot_samples псевдовыборок"
   ]
  },
  {
   "cell_type": "markdown",
   "metadata": {},
   "source": [
    "2) По каждой из этих выборок посчитайте среднее и сумму квадратов отклонения от выборочного среднего (control_boot_chi_squared)"
   ]
  },
  {
   "cell_type": "code",
   "execution_count": 19,
   "metadata": {
    "collapsed": false
   },
   "outputs": [],
   "source": [
    "means = control_bootstrap_samples.mean(axis=1) # посчитайте среднее\n",
    "control_boot_chi_squared = control_bootstrap_samples.std(axis=1) # посчитайте сумму квадратов отклонения от выборочного среднего"
   ]
  },
  {
   "cell_type": "markdown",
   "metadata": {},
   "source": [
    "3) Для получившегося вектора средних значений из n_boot_samples постройте q-q plot с помощью scipy.stats.probplot для нормального распределения"
   ]
  },
  {
   "cell_type": "code",
   "execution_count": 20,
   "metadata": {
    "collapsed": false
   },
   "outputs": [
    {
     "data": {
      "image/png": "[encoded data removed]",
      "text/plain": [
       "<matplotlib.figure.Figure at 0xc852860>"
      ]
     },
     "metadata": {},
     "output_type": "display_data"
    }
   ],
   "source": [
    "R_mean = scipy.stats.probplot(means, dist=\"norm\", plot=plt)[1][2]"
   ]
  },
  {
   "cell_type": "code",
   "execution_count": 21,
   "metadata": {
    "collapsed": false
   },
   "outputs": [
    {
     "data": {
      "text/plain": [
       "0.99595377420820397"
      ]
     },
     "execution_count": 21,
     "metadata": {},
     "output_type": "execute_result"
    }
   ],
   "source": [
    "R_mean**2"
   ]
  },
  {
   "cell_type": "markdown",
   "metadata": {},
   "source": [
    "4) Для получившегося вектора сумм квадратов отклонения от выборочного среднего постройте qq-plot с помощью scipy.stats.probplot для хи-квадрат распределения с помощью команды"
   ]
  },
  {
   "cell_type": "code",
   "execution_count": 23,
   "metadata": {
    "collapsed": false
   },
   "outputs": [
    {
     "data": {
      "image/png": "[encoded data removed]",
      "text/plain": [
       "<matplotlib.figure.Figure at 0xc4fd4a8>"
      ]
     },
     "metadata": {},
     "output_type": "display_data"
    }
   ],
   "source": [
    "n = len(control_boot_chi_squared)\n",
    "R_std = scipy.stats.probplot(control_boot_chi_squared, dist=\"chi2\", sparams=(n-1), plot=plt)[1][2]"
   ]
  },
  {
   "cell_type": "code",
   "execution_count": 24,
   "metadata": {
    "collapsed": false
   },
   "outputs": [
    {
     "data": {
      "text/plain": [
       "0.99728203019688166"
      ]
     },
     "execution_count": 24,
     "metadata": {},
     "output_type": "execute_result"
    }
   ],
   "source": [
    "R_std**2"
   ]
  },
  {
   "cell_type": "code",
   "execution_count": 25,
   "metadata": {
    "collapsed": false
   },
   "outputs": [
    {
     "data": {
      "text/plain": [
       "((array([ 409.75447609,  417.6076492 ,  422.06789456,  425.24996033,\n",
       "          427.75458277,  429.83540071,  431.6244473 ,  433.19958802,\n",
       "          434.61075771,  435.89197548,  437.06750372,  438.15527962,\n",
       "          439.16895419,  440.11916758,  441.0143809 ,  441.86143812,\n",
       "          442.66595697,  443.43260794,  444.16531782,  444.86742108,\n",
       "          445.54177438,  446.19084464,  446.81677748,  447.42145127,\n",
       "          448.00652022,  448.57344901,  449.12354099,  449.6579613 ,\n",
       "          450.17775596,  450.68386771,  451.17714938,  451.65837504,\n",
       "          452.12824958,  452.58741674,  453.03646615,  453.47593922,\n",
       "          453.90633437,  454.32811152,  454.74169597,  455.14748186,\n",
       "          455.54583518,  455.93709642,  456.3215829 ,  456.69959087,\n",
       "          457.07139736,  457.43726183,  457.79742761,  458.1521233 ,\n",
       "          458.50156388,  458.84595184,  459.1854781 ,  459.52032292,\n",
       "          459.85065667,  460.17664058,  460.49842735,  460.81616179,\n",
       "          461.12998133,  461.44001656,  461.74639164,  462.04922476,\n",
       "          462.3486285 ,  462.64471019,  462.93757225,  463.22731247,\n",
       "          463.51402431,  463.79779714,  464.07871649,  464.35686427,\n",
       "          464.63231897,  464.90515586,  465.17544715,  465.44326219,\n",
       "          465.70866759,  465.97172738,  466.23250314,  466.49105414,\n",
       "          466.74743742,  467.00170797,  467.25391874,  467.50412083,\n",
       "          467.75236352,  467.99869437,  468.24315933,  468.48580276,\n",
       "          468.72666756,  468.9657952 ,  469.20322579,  469.43899817,\n",
       "          469.67314992,  469.90571743,  470.13673598,  470.36623974,\n",
       "          470.59426187,  470.82083452,  471.04598887,  471.26975521,\n",
       "          471.49216293,  471.71324059,  471.93301594,  472.15151593,\n",
       "          472.36876679,  472.58479402,  472.79962241,  473.01327612,\n",
       "          473.22577862,  473.43715282,  473.64742098,  473.85660482,\n",
       "          474.06472549,  474.27180363,  474.47785934,  474.68291223,\n",
       "          474.88698145,  475.09008566,  475.29224309,  475.49347153,\n",
       "          475.69378836,  475.89321056,  476.09175471,  476.28943702,\n",
       "          476.48627333,  476.68227913,  476.87746958,  477.07185948,\n",
       "          477.26546334,  477.45829534,  477.65036938,  477.84169905,\n",
       "          478.03229766,  478.22217826,  478.41135362,  478.59983627,\n",
       "          478.78763846,  478.97477223,  479.16124937,  479.34708144,\n",
       "          479.5322798 ,  479.71685555,  479.90081964,  480.08418277,\n",
       "          480.26695546,  480.44914804,  480.63077065,  480.81183327,\n",
       "          480.99234567,  481.17231747,  481.35175812,  481.53067691,\n",
       "          481.70908297,  481.88698529,  482.06439268,  482.24131385,\n",
       "          482.41775732,  482.59373152,  482.76924472,  482.94430506,\n",
       "          483.11892057,  483.29309913,  483.46684854,  483.64017644,\n",
       "          483.81309039,  483.98559783,  484.15770608,  484.32942237,\n",
       "          484.50075382,  484.67170745,  484.8422902 ,  485.01250889,\n",
       "          485.18237027,  485.35188099,  485.5210476 ,  485.68987659,\n",
       "          485.85837436,  486.02654722,  486.1944014 ,  486.36194308,\n",
       "          486.52917832,  486.69611315,  486.86275351,  487.02910527,\n",
       "          487.19517424,  487.36096615,  487.52648669,  487.69174147,\n",
       "          487.85673604,  488.02147589,  488.18596648,  488.35021316,\n",
       "          488.51422128,  488.67799611,  488.84154287,  489.00486673,\n",
       "          489.16797282,  489.33086621,  489.49355193,  489.65603496,\n",
       "          489.81832026,  489.98041271,  490.14231717,  490.30403846,\n",
       "          490.46558136,  490.62695061,  490.78815091,  490.94918693,\n",
       "          491.1100633 ,  491.27078462,  491.43135545,  491.59178034,\n",
       "          491.75206378,  491.91221026,  492.07222421,  492.23211006,\n",
       "          492.39187219,  492.55151498,  492.71104276,  492.87045985,\n",
       "          493.02977055,  493.18897913,  493.34808983,  493.50710688,\n",
       "          493.6660345 ,  493.82487688,  493.98363818,  494.14232257,\n",
       "          494.30093417,  494.45947713,  494.61795553,  494.77637348,\n",
       "          494.93473505,  495.09304432,  495.25130533,  495.40952214,\n",
       "          495.56769878,  495.72583927,  495.88394762,  496.04202785,\n",
       "          496.20008395,  496.35811992,  496.51613974,  496.67414739,\n",
       "          496.83214685,  496.9901421 ,  497.1481371 ,  497.30613582,\n",
       "          497.46414222,  497.62216027,  497.78019393,  497.93824716,\n",
       "          498.09632394,  498.25442821,  498.41256396,  498.57073516,\n",
       "          498.72894577,  498.88719979,  499.04550118,  499.20385395,\n",
       "          499.36226209,  499.52072961,  499.67926051,  499.83785882,\n",
       "          499.99652857,  500.15527379,  500.31409855,  500.47300689,\n",
       "          500.6320029 ,  500.79109066,  500.95027428,  501.10955787,\n",
       "          501.26894556,  501.4284415 ,  501.58804986,  501.74777481,\n",
       "          501.90762055,  502.06759131,  502.22769132,  502.38792485,\n",
       "          502.54829617,  502.7088096 ,  502.86946945,  503.03028007,\n",
       "          503.19124585,  503.35237119,  503.51366051,  503.67511828,\n",
       "          503.83674897,  503.99855711,  504.16054723,  504.32272391,\n",
       "          504.48509177,  504.64765544,  504.8104196 ,  504.97338897,\n",
       "          505.13656828,  505.29996234,  505.46357595,  505.62741399,\n",
       "          505.79148136,  505.955783  ,  506.12032391,  506.28510912,\n",
       "          506.4501437 ,  506.61543279,  506.78098155,  506.94679522,\n",
       "          507.11287906,  507.27923839,  507.4458786 ,  507.61280512,\n",
       "          507.78002343,  507.94753908,  508.11535769,  508.2834849 ,\n",
       "          508.45192645,  508.62068813,  508.78977579,  508.95919536,\n",
       "          509.12895283,  509.29905425,  509.46950577,  509.64031358,\n",
       "          509.81148398,  509.98302331,  510.15493802,  510.32723463,\n",
       "          510.49991974,  510.67300005,  510.84648233,  511.02037346,\n",
       "          511.19468038,  511.36941017,  511.54456996,  511.72016701,\n",
       "          511.89620869,  512.07270243,  512.24965583,  512.42707654,\n",
       "          512.60497236,  512.7833512 ,  512.96222108,  513.14159016,\n",
       "          513.32146669,  513.50185909,  513.68277589,  513.86422576,\n",
       "          514.0462175 ,  514.22876007,  514.41186257,  514.59553423,\n",
       "          514.77978447,  514.96462286,  515.1500591 ,  515.33610309,\n",
       "          515.52276491,  515.71005479,  515.89798315,  516.0865606 ,\n",
       "          516.27579795,  516.4657062 ,  516.65629654,  516.8475804 ,\n",
       "          517.03956939,  517.23227537,  517.42571041,  517.61988681,\n",
       "          517.81481714,  518.01051419,  518.20699101,  518.40426091,\n",
       "          518.6023375 ,  518.80123463,  519.00096646,  519.20154744,\n",
       "          519.40299233,  519.6053162 ,  519.80853445,  520.01266282,\n",
       "          520.21771737,  520.42371455,  520.63067116,  520.83860438,\n",
       "          521.04753181,  521.25747141,  521.4684416 ,  521.68046121,\n",
       "          521.89354953,  522.10772631,  522.32301178,  522.53942666,\n",
       "          522.7569922 ,  522.97573016,  523.19566287,  523.41681322,\n",
       "          523.63920469,  523.86286137,  524.08780801,  524.31406997,\n",
       "          524.54167335,  524.77064492,  525.0010122 ,  525.23280347,\n",
       "          525.46604781,  525.70077513,  525.93701619,  526.17480264,\n",
       "          526.41416707,  526.65514303,  526.89776509,  527.14206885,\n",
       "          527.38809102,  527.63586946,  527.88544319,  528.13685249,\n",
       "          528.39013894,  528.64534548,  528.90251646,  529.16169769,\n",
       "          529.42293658,  529.68628211,  529.95178499,  530.21949771,\n",
       "          530.48947461,  530.76177201,  531.03644828,  531.31356394,\n",
       "          531.5931818 ,  531.87536703,  532.16018736,  532.44771312,\n",
       "          532.73801745,  533.03117645,  533.3272693 ,  533.62637848,\n",
       "          533.92858993,  534.23399326,  534.54268197,  534.85475367,\n",
       "          535.17031035,  535.48945862,  535.81231003,  536.13898137,\n",
       "          536.469595  ,  536.80427924,  537.14316874,  537.48640494,\n",
       "          537.83413651,  538.18651989,  538.54371983,  538.90591001,\n",
       "          539.27327369,  539.64600445,  540.024307  ,  540.40839804,\n",
       "          540.79850724,  541.19487833,  541.59777025,  542.00745848,\n",
       "          542.4242365 ,  542.84841741,  543.28033575,  543.72034952,\n",
       "          544.16884245,  544.62622658,  545.09294513,  545.56947578,\n",
       "          546.05633439,  546.55407919,  547.06331567,  547.58470212,\n",
       "          548.11895597,  548.66686128,  549.22927728,  549.80714846,\n",
       "          550.40151635,  551.01353345,  551.6444798 ,  552.29578272,\n",
       "          552.96904058,  553.66605164,  554.3888492 ,  555.13974497,\n",
       "          555.92138291,  556.73680693,  557.58954684,  558.48372886,\n",
       "          559.42421968,  560.41681721,  561.46850732,  562.58781651,\n",
       "          563.7853068 ,  565.0742885 ,  566.4718777 ,  568.00062101,\n",
       "          569.6910998 ,  571.58632494,  573.74964871,  576.28025333,\n",
       "          579.34711248,  583.27672236,  588.8483932 ,  598.84337406]),\n",
       "  array([ 19.77509601,  19.81076857,  19.88279318,  19.92103752,\n",
       "          19.93896792,  19.94248293,  19.95119625,  19.95374184,\n",
       "          19.96301404,  19.9656584 ,  19.97112569,  19.97569061,\n",
       "          19.9795405 ,  19.98011399,  19.98277765,  19.98600306,\n",
       "          19.98676234,  19.99569715,  20.00297228,  20.00812022,\n",
       "          20.00920806,  20.00977379,  20.0137021 ,  20.01405836,\n",
       "          20.01790611,  20.01819301,  20.02445119,  20.03607036,\n",
       "          20.04165086,  20.0449274 ,  20.04670062,  20.04707031,\n",
       "          20.04902909,  20.05119944,  20.05279148,  20.0532915 ,\n",
       "          20.05364102,  20.05378931,  20.05682412,  20.05778198,\n",
       "          20.05869428,  20.05957544,  20.06040696,  20.06090801,\n",
       "          20.06498391,  20.07140868,  20.07619274,  20.07711198,\n",
       "          20.07746261,  20.07749947,  20.07889065,  20.07941876,\n",
       "          20.07983293,  20.08034478,  20.08268765,  20.08355395,\n",
       "          20.08792648,  20.08976955,  20.08987978,  20.09054017,\n",
       "          20.09101986,  20.09129991,  20.09321214,  20.09428866,\n",
       "          20.098726  ,  20.09945828,  20.10010283,  20.10471046,\n",
       "          20.10665681,  20.1076698 ,  20.10901293,  20.11116887,\n",
       "          20.11127393,  20.11175424,  20.11342988,  20.1155194 ,\n",
       "          20.11561267,  20.11993413,  20.12345795,  20.13019389,\n",
       "          20.13123333,  20.13134731,  20.13227903,  20.13305326,\n",
       "          20.13369564,  20.13412295,  20.1367791 ,  20.1373357 ,\n",
       "          20.1376582 ,  20.13873068,  20.1388416 ,  20.13973026,\n",
       "          20.14442014,  20.14624056,  20.14653802,  20.14814663,\n",
       "          20.15342835,  20.15405249,  20.15418969,  20.1547025 ,\n",
       "          20.15662846,  20.15913028,  20.16064796,  20.16143953,\n",
       "          20.16257146,  20.16308503,  20.16337391,  20.16366858,\n",
       "          20.16545487,  20.16554755,  20.16614525,  20.16782377,\n",
       "          20.16924306,  20.16967924,  20.17127685,  20.1712769 ,\n",
       "          20.17289849,  20.17333031,  20.17377856,  20.17515094,\n",
       "          20.1771616 ,  20.1772198 ,  20.17952894,  20.17992271,\n",
       "          20.18047328,  20.18283861,  20.18332685,  20.18409875,\n",
       "          20.18471703,  20.18474107,  20.18571008,  20.1863533 ,\n",
       "          20.1888139 ,  20.1909362 ,  20.19097741,  20.19198983,\n",
       "          20.19387083,  20.19533885,  20.19566001,  20.19597958,\n",
       "          20.19823935,  20.19984665,  20.19992695,  20.20020252,\n",
       "          20.20028349,  20.20233565,  20.20343584,  20.20480503,\n",
       "          20.20512422,  20.2051492 ,  20.20598551,  20.20695457,\n",
       "          20.20715877,  20.20731166,  20.20782319,  20.20794879,\n",
       "          20.20824864,  20.20940989,  20.20968316,  20.20996616,\n",
       "          20.21004342,  20.21041174,  20.21111158,  20.21258619,\n",
       "          20.21326609,  20.21448792,  20.2160027 ,  20.21605197,\n",
       "          20.21623955,  20.2166719 ,  20.21701878,  20.21935889,\n",
       "          20.22003535,  20.22098961,  20.22307652,  20.22372004,\n",
       "          20.22574994,  20.22823514,  20.22844975,  20.22903877,\n",
       "          20.22904857,  20.23144016,  20.23317672,  20.23335493,\n",
       "          20.23481066,  20.23493415,  20.23516381,  20.23582311,\n",
       "          20.23655135,  20.23686178,  20.23687998,  20.23769179,\n",
       "          20.23798882,  20.23873052,  20.23887567,  20.2406897 ,\n",
       "          20.24088672,  20.24114777,  20.24153384,  20.24205931,\n",
       "          20.24333773,  20.24603519,  20.248075  ,  20.24836632,\n",
       "          20.24844768,  20.24882744,  20.25040408,  20.25411946,\n",
       "          20.25630906,  20.25701704,  20.25720672,  20.25768439,\n",
       "          20.25771695,  20.25773479,  20.25818003,  20.25895831,\n",
       "          20.26046634,  20.2609672 ,  20.26177572,  20.26387196,\n",
       "          20.26466944,  20.26470558,  20.26528478,  20.26568861,\n",
       "          20.26570133,  20.26613184,  20.26651116,  20.2665213 ,\n",
       "          20.26860385,  20.27024826,  20.27233838,  20.27341841,\n",
       "          20.27417121,  20.27426609,  20.27480083,  20.27597378,\n",
       "          20.27603724,  20.27767855,  20.27866697,  20.2799179 ,\n",
       "          20.28057725,  20.28106888,  20.28111095,  20.28135785,\n",
       "          20.28183913,  20.2820507 ,  20.28549719,  20.28556525,\n",
       "          20.28608795,  20.28688191,  20.2871998 ,  20.28722176,\n",
       "          20.28861362,  20.28895686,  20.28995203,  20.2902365 ,\n",
       "          20.29034938,  20.29300596,  20.29307247,  20.29354422,\n",
       "          20.29594388,  20.29600422,  20.29654612,  20.29659691,\n",
       "          20.29681732,  20.29695686,  20.29790246,  20.29810547,\n",
       "          20.29881358,  20.30371784,  20.30563997,  20.30776693,\n",
       "          20.3088033 ,  20.3093053 ,  20.31034638,  20.31077009,\n",
       "          20.3122302 ,  20.31302178,  20.31312505,  20.3138725 ,\n",
       "          20.31443919,  20.31625894,  20.31784007,  20.31959955,\n",
       "          20.31971826,  20.32043398,  20.32078904,  20.32126362,\n",
       "          20.32305525,  20.32325826,  20.32358217,  20.32424429,\n",
       "          20.32552792,  20.32620142,  20.3266174 ,  20.32707711,\n",
       "          20.32766029,  20.3292002 ,  20.32953013,  20.32991866,\n",
       "          20.33019173,  20.33053675,  20.33432338,  20.33596848,\n",
       "          20.33740219,  20.33800967,  20.3387601 ,  20.33902684,\n",
       "          20.33970209,  20.34005854,  20.34138693,  20.3426493 ,\n",
       "          20.34283845,  20.34371807,  20.34442484,  20.34449351,\n",
       "          20.3461051 ,  20.34662514,  20.34664518,  20.34862035,\n",
       "          20.34886024,  20.34925517,  20.34944048,  20.35070621,\n",
       "          20.35115684,  20.35147108,  20.35263975,  20.35417671,\n",
       "          20.35471965,  20.35529492,  20.35680139,  20.35681744,\n",
       "          20.35749751,  20.35862996,  20.35960003,  20.3631591 ,\n",
       "          20.36380236,  20.36432545,  20.36519285,  20.36851945,\n",
       "          20.36878536,  20.3689003 ,  20.36922871,  20.36935487,\n",
       "          20.36983079,  20.37015908,  20.37020423,  20.37112945,\n",
       "          20.37213566,  20.37281776,  20.3765544 ,  20.37673043,\n",
       "          20.37697384,  20.37810273,  20.38004043,  20.38058872,\n",
       "          20.38148205,  20.38162308,  20.38170726,  20.3835467 ,\n",
       "          20.38367153,  20.38506411,  20.38600874,  20.38614207,\n",
       "          20.38707588,  20.38759279,  20.3876122 ,  20.38831962,\n",
       "          20.38871732,  20.39148099,  20.39155738,  20.39205468,\n",
       "          20.39237684,  20.39354095,  20.39376405,  20.39446068,\n",
       "          20.39548775,  20.39637199,  20.39736439,  20.39900035,\n",
       "          20.39972795,  20.3999088 ,  20.40117056,  20.40154434,\n",
       "          20.40308099,  20.40374383,  20.40474639,  20.40546694,\n",
       "          20.40621806,  20.40628921,  20.40662124,  20.40728111,\n",
       "          20.40891287,  20.41053075,  20.41152451,  20.41250217,\n",
       "          20.41260815,  20.41322745,  20.41418408,  20.41481171,\n",
       "          20.41548906,  20.4156381 ,  20.41620622,  20.41637192,\n",
       "          20.41696955,  20.41711547,  20.41784478,  20.41826407,\n",
       "          20.42015244,  20.4218702 ,  20.42295668,  20.42349827,\n",
       "          20.4235746 ,  20.42496548,  20.42537965,  20.42699534,\n",
       "          20.42742363,  20.42755826,  20.4278925 ,  20.42912582,\n",
       "          20.43147065,  20.43810845,  20.43983924,  20.44061149,\n",
       "          20.44197495,  20.44297371,  20.442976  ,  20.44347618,\n",
       "          20.44478168,  20.44510299,  20.44538328,  20.4455037 ,\n",
       "          20.44722967,  20.45133027,  20.45162879,  20.45297243,\n",
       "          20.45811998,  20.45839823,  20.46260859,  20.46330423,\n",
       "          20.46389227,  20.46877051,  20.47319106,  20.4740264 ,\n",
       "          20.47528665,  20.47929791,  20.48055768,  20.48214962,\n",
       "          20.48880597,  20.49016   ,  20.49028662,  20.49434828,\n",
       "          20.49580613,  20.49942067,  20.5007505 ,  20.50533823,\n",
       "          20.50578341,  20.50623617,  20.50695871,  20.50882855,\n",
       "          20.51401388,  20.51639372,  20.5176233 ,  20.51966341,\n",
       "          20.52008759,  20.52049161,  20.52145684,  20.53014208,\n",
       "          20.53186381,  20.53644728,  20.53989646,  20.54204173,\n",
       "          20.54728452,  20.54787826,  20.54831294,  20.5513894 ,\n",
       "          20.55145684,  20.58069666,  20.58629053,  20.58753181,\n",
       "          20.59405525,  20.59666027,  20.60685012,  20.60918147,\n",
       "          20.60958349,  20.61504003,  20.62723687,  20.63750196,\n",
       "          20.64208717,  20.64471124,  20.65355784,  20.6552789 ,\n",
       "          20.65572179,  20.66185167,  20.66627972,  20.67844764,\n",
       "          20.71636923,  20.7478853 ,  20.77157406,  20.84787824])),\n",
       " (0.0051453440132435916, 17.720360138346056, 0.99864009042140989))"
      ]
     },
     "execution_count": 25,
     "metadata": {},
     "output_type": "execute_result"
    },
    {
     "data": {
      "image/png": "[encoded data removed]",
      "text/plain": [
       "<matplotlib.figure.Figure at 0xc5366d8>"
      ]
     },
     "metadata": {},
     "output_type": "display_data"
    }
   ],
   "source": [
    "scipy.stats.probplot(control_boot_chi_squared, dist=\"chi2\", sparams=(n-1), plot=plt)"
   ]
  },
  {
   "cell_type": "code",
   "execution_count": 26,
   "metadata": {
    "collapsed": false
   },
   "outputs": [
    {
     "name": "stdout",
     "output_type": "stream",
     "text": [
      "Help on function probplot in module scipy.stats.morestats:\n",
      "\n",
      "probplot(x, sparams=(), dist='norm', fit=True, plot=None, rvalue=False)\n",
      "    Calculate quantiles for a probability plot, and optionally show the plot.\n",
      "    \n",
      "    Generates a probability plot of sample data against the quantiles of a\n",
      "    specified theoretical distribution (the normal distribution by default).\n",
      "    `probplot` optionally calculates a best-fit line for the data and plots the\n",
      "    results using Matplotlib or a given plot function.\n",
      "    \n",
      "    Parameters\n",
      "    ----------\n",
      "    x : array_like\n",
      "        Sample/response data from which `probplot` creates the plot.\n",
      "    sparams : tuple, optional\n",
      "        Distribution-specific shape parameters (shape parameters plus location\n",
      "        and scale).\n",
      "    dist : str or stats.distributions instance, optional\n",
      "        Distribution or distribution function name. The default is 'norm' for a\n",
      "        normal probability plot.  Objects that look enough like a\n",
      "        stats.distributions instance (i.e. they have a ``ppf`` method) are also\n",
      "        accepted.\n",
      "    fit : bool, optional\n",
      "        Fit a least-squares regression (best-fit) line to the sample data if\n",
      "        True (default).\n",
      "    plot : object, optional\n",
      "        If given, plots the quantiles and least squares fit.\n",
      "        `plot` is an object that has to have methods \"plot\" and \"text\".\n",
      "        The `matplotlib.pyplot` module or a Matplotlib Axes object can be used,\n",
      "        or a custom object with the same methods.\n",
      "        Default is None, which means that no plot is created.\n",
      "    \n",
      "    Returns\n",
      "    -------\n",
      "    (osm, osr) : tuple of ndarrays\n",
      "        Tuple of theoretical quantiles (osm, or order statistic medians) and\n",
      "        ordered responses (osr).  `osr` is simply sorted input `x`.\n",
      "        For details on how `osm` is calculated see the Notes section.\n",
      "    (slope, intercept, r) : tuple of floats, optional\n",
      "        Tuple  containing the result of the least-squares fit, if that is\n",
      "        performed by `probplot`. `r` is the square root of the coefficient of\n",
      "        determination.  If ``fit=False`` and ``plot=None``, this tuple is not\n",
      "        returned.\n",
      "    \n",
      "    Notes\n",
      "    -----\n",
      "    Even if `plot` is given, the figure is not shown or saved by `probplot`;\n",
      "    ``plt.show()`` or ``plt.savefig('figname.png')`` should be used after\n",
      "    calling `probplot`.\n",
      "    \n",
      "    `probplot` generates a probability plot, which should not be confused with\n",
      "    a Q-Q or a P-P plot.  Statsmodels has more extensive functionality of this\n",
      "    type, see ``statsmodels.api.ProbPlot``.\n",
      "    \n",
      "    The formula used for the theoretical quantiles (horizontal axis of the\n",
      "    probability plot) is Filliben's estimate::\n",
      "    \n",
      "        quantiles = dist.ppf(val), for\n",
      "    \n",
      "                0.5**(1/n),                  for i = n\n",
      "          val = (i - 0.3175) / (n + 0.365),  for i = 2, ..., n-1\n",
      "                1 - 0.5**(1/n),              for i = 1\n",
      "    \n",
      "    where ``i`` indicates the i-th ordered value and ``n`` is the total number\n",
      "    of values.\n",
      "    \n",
      "    Examples\n",
      "    --------\n",
      "    >>> from scipy import stats\n",
      "    >>> import matplotlib.pyplot as plt\n",
      "    >>> nsample = 100\n",
      "    >>> np.random.seed(7654321)\n",
      "    \n",
      "    A t distribution with small degrees of freedom:\n",
      "    \n",
      "    >>> ax1 = plt.subplot(221)\n",
      "    >>> x = stats.t.rvs(3, size=nsample)\n",
      "    >>> res = stats.probplot(x, plot=plt)\n",
      "    \n",
      "    A t distribution with larger degrees of freedom:\n",
      "    \n",
      "    >>> ax2 = plt.subplot(222)\n",
      "    >>> x = stats.t.rvs(25, size=nsample)\n",
      "    >>> res = stats.probplot(x, plot=plt)\n",
      "    \n",
      "    A mixture of two normal distributions with broadcasting:\n",
      "    \n",
      "    >>> ax3 = plt.subplot(223)\n",
      "    >>> x = stats.norm.rvs(loc=[0,5], scale=[1,1.5],\n",
      "    ...                    size=(nsample//2,2)).ravel()\n",
      "    >>> res = stats.probplot(x, plot=plt)\n",
      "    \n",
      "    A standard normal distribution:\n",
      "    \n",
      "    >>> ax4 = plt.subplot(224)\n",
      "    >>> x = stats.norm.rvs(loc=0, scale=1, size=nsample)\n",
      "    >>> res = stats.probplot(x, plot=plt)\n",
      "    \n",
      "    Produce a new figure with a loggamma distribution, using the ``dist`` and\n",
      "    ``sparams`` keywords:\n",
      "    \n",
      "    >>> fig = plt.figure()\n",
      "    >>> ax = fig.add_subplot(111)\n",
      "    >>> x = stats.loggamma.rvs(c=2.5, size=500)\n",
      "    >>> res = stats.probplot(x, dist=stats.loggamma, sparams=(2.5,), plot=ax)\n",
      "    >>> ax.set_title(\"Probplot for loggamma dist with shape parameter 2.5\")\n",
      "    \n",
      "    Show the results with Matplotlib:\n",
      "    \n",
      "    >>> plt.show()\n",
      "\n"
     ]
    }
   ],
   "source": [
    "help(stats.probplot)"
   ]
  },
  {
   "cell_type": "markdown",
   "metadata": {},
   "source": [
    "## 5. Одним из возможных аналогов t-критерия, которым можно воспрользоваться, является тест Манна-Уитни. \n",
    "На достаточно обширном классе распределений он является асимптотически более эффективным, чем t-критерий, и при этом не требует параметрических предположений о характере распределения."
   ]
  },
  {
   "cell_type": "markdown",
   "metadata": {},
   "source": [
    "Разделите выборку на две части, соответствующие control и exp группам. Преобразуйте данные к виду, чтобы каждому пользователю соответствовало суммарное значение его кликов. "
   ]
  },
  {
   "cell_type": "code",
   "execution_count": 35,
   "metadata": {
    "collapsed": false
   },
   "outputs": [
    {
     "name": "stdout",
     "output_type": "stream",
     "text": [
      "Wall time: 346 ms\n"
     ]
    }
   ],
   "source": [
    "%%time\n",
    "n_clicks_userID_exp = data[data['slot'] == 'exp'].groupby(by='userID').sum()['n_clicks']\n",
    "n_clicks_userID_control = data[data['slot'] == 'control'].groupby(by='userID').sum()['n_clicks']"
   ]
  },
  {
   "cell_type": "markdown",
   "metadata": {
    "collapsed": true
   },
   "source": [
    "С помощью критерия Манна-Уитни проверьте гипотезу о равенстве средних. Что можно сказать о получившемся значении достигаемого уровня значимости ?"
   ]
  },
  {
   "cell_type": "markdown",
   "metadata": {},
   "source": [
    "### Ранговый критерий Манна-Уитни\n",
    "$H_0\\colon F_{X_1}(x) = F_{X_2}(x)$\n",
    "\n",
    "$H_1\\colon F_{X_1}(x) = F_{X_2}(x + \\Delta), \\Delta\\neq 0$"
   ]
  },
  {
   "cell_type": "code",
   "execution_count": 55,
   "metadata": {
    "collapsed": false
   },
   "outputs": [
    {
     "data": {
      "text/plain": [
       "MannwhitneyuResult(statistic=38901259929.0, pvalue=4.3471471887604393e-75)"
      ]
     },
     "execution_count": 55,
     "metadata": {},
     "output_type": "execute_result"
    }
   ],
   "source": [
    "stats.mannwhitneyu(n_clicks_userID_exp, n_clicks_userID_control)"
   ]
  },
  {
   "cell_type": "markdown",
   "metadata": {},
   "source": [
    "## 6. Проверьте, для какого из браузеров наиболее сильно выражено отличие между количеством кликов в контрольной и экспериментальной группах."
   ]
  },
  {
   "cell_type": "markdown",
   "metadata": {},
   "source": [
    "Пройдемся по срезам. Посчитаем pvalue для критерия Манна-Уитни между control и exp группами"
   ]
  },
  {
   "cell_type": "code",
   "execution_count": 62,
   "metadata": {
    "collapsed": false
   },
   "outputs": [
    {
     "name": "stderr",
     "output_type": "stream",
     "text": [
      "C:\\ProgramData\\Anaconda2\\lib\\site-packages\\ipykernel\\__main__.py:3: UserWarning: Boolean Series key will be reindexed to match DataFrame index.\n",
      "  app.launch_new_instance()\n",
      "C:\\ProgramData\\Anaconda2\\lib\\site-packages\\ipykernel\\__main__.py:4: UserWarning: Boolean Series key will be reindexed to match DataFrame index.\n"
     ]
    },
    {
     "data": {
      "text/plain": [
       "{'Browser #14': 0.0,\n",
       " 'Browser #17': 0.037400601430108017,\n",
       " 'Browser #2': 0.027243860419724101,\n",
       " 'Browser #20': 0.45366656388735377,\n",
       " 'Browser #22': 0.25740551522100319,\n",
       " 'Browser #4': 0.40760617658454984}"
      ]
     },
     "execution_count": 62,
     "metadata": {},
     "output_type": "execute_result"
    }
   ],
   "source": [
    "mannwhitneyu = {}\n",
    "for browser in data['browser'].unique():\n",
    "    n_clicks_browser_exp = data[data['slot'] == 'exp'][data['browser'] == browser]['n_clicks'].values\n",
    "    n_clicks_browser_control = data[data['slot'] == 'control'][data['browser'] == browser]['n_clicks'].values\n",
    "    pvalue = stats.mannwhitneyu(n_clicks_browser_exp, n_clicks_browser_control).pvalue\n",
    "    mannwhitneyu[browser] = pvalue\n",
    "\n",
    "mannwhitneyu"
   ]
  },
  {
   "cell_type": "markdown",
   "metadata": {},
   "source": [
    "Сделайте поправку Холма-Бонферрони (= \"метод Холма) на множественную проверку с $\\alpha = 0.05$"
   ]
  },
  {
   "cell_type": "code",
   "execution_count": 79,
   "metadata": {
    "collapsed": false
   },
   "outputs": [
    {
     "data": {
      "text/plain": [
       "(array([False, False, False, False, False,  True], dtype=bool),\n",
       " array([ 0.1362193 ,  0.81521235,  0.77221655,  0.81521235,  0.14960241,  0.        ]),\n",
       " 0.008512444610847103,\n",
       " 0.008333333333333333)"
      ]
     },
     "execution_count": 79,
     "metadata": {},
     "output_type": "execute_result"
    }
   ],
   "source": [
    "multipletests(mannwhitneyu.values(),  alpha = 0.05, method = 'holm')"
   ]
  },
  {
   "cell_type": "markdown",
   "metadata": {},
   "source": [
    "Посчитаем незначимые отличия"
   ]
  },
  {
   "cell_type": "code",
   "execution_count": 94,
   "metadata": {
    "collapsed": false
   },
   "outputs": [
    {
     "data": {
      "text/plain": [
       "5"
      ]
     },
     "execution_count": 94,
     "metadata": {},
     "output_type": "execute_result"
    }
   ],
   "source": [
    "# считаем через отрицание, поскольку в нулевом массиве проверяется, наоборот, значимые отличия\n",
    "answer_6 = (~multipletests(mannwhitneyu.values(),  alpha = 0.05, method = 'holm')[0]).sum() \n",
    "answer_6"
   ]
  },
  {
   "cell_type": "markdown",
   "metadata": {},
   "source": [
    "## 7. Для каждого браузера в каждой из двух групп (control и exp) посчитайте долю запросов, в которых пользователь не кликнул ни разу. Это можно сделать, поделив сумму значений n_nonclk_queries на сумму значений n_queries. Умножив это значение на 100, получим процент некликнутых запросов, который можно легче проинтерпретировать."
   ]
  },
  {
   "cell_type": "code",
   "execution_count": 90,
   "metadata": {
    "collapsed": false
   },
   "outputs": [
    {
     "name": "stderr",
     "output_type": "stream",
     "text": [
      "C:\\ProgramData\\Anaconda2\\lib\\site-packages\\ipykernel\\__main__.py:9: UserWarning: Boolean Series key will be reindexed to match DataFrame index.\n"
     ]
    }
   ],
   "source": [
    "proportion = {}\n",
    "\n",
    "for group in ['exp', 'control']:\n",
    "    proportion[group] = {}\n",
    "    for browser in data['browser'].unique():\n",
    "        proportion[group][browser] = round(float(data[data['slot'] == group][data['browser'] == browser]['n_nonclk_queries']\n",
    "                                                 .values.sum()) / \\\n",
    "                                            data[data['slot'] == group][data['browser'] == browser]['n_clicks']\n",
    "                                            .values.sum() * 100)"
   ]
  },
  {
   "cell_type": "code",
   "execution_count": 91,
   "metadata": {
    "collapsed": false
   },
   "outputs": [
    {
     "data": {
      "text/plain": [
       "{'control': {'Browser #14': 78.0,\n",
       "  'Browser #17': 28.0,\n",
       "  'Browser #2': 46.0,\n",
       "  'Browser #20': 35.0,\n",
       "  'Browser #22': 36.0,\n",
       "  'Browser #4': 47.0},\n",
       " 'exp': {'Browser #14': 42.0,\n",
       "  'Browser #17': 29.0,\n",
       "  'Browser #2': 44.0,\n",
       "  'Browser #20': 33.0,\n",
       "  'Browser #22': 34.0,\n",
       "  'Browser #4': 43.0}}"
      ]
     },
     "execution_count": 91,
     "metadata": {},
     "output_type": "execute_result"
    }
   ],
   "source": [
    "proportion"
   ]
  },
  {
   "cell_type": "markdown",
   "metadata": {},
   "source": [
    "Для наглядности представим в виде разности долей (**delta**) некликнутых запросов в двух группах (exp и control) по каждому браузеру:"
   ]
  },
  {
   "cell_type": "code",
   "execution_count": 92,
   "metadata": {
    "collapsed": false
   },
   "outputs": [
    {
     "data": {
      "text/plain": [
       "{'Browser #14': -36.0,\n",
       " 'Browser #17': 1.0,\n",
       " 'Browser #2': -2.0,\n",
       " 'Browser #20': -2.0,\n",
       " 'Browser #22': -2.0,\n",
       " 'Browser #4': -4.0}"
      ]
     },
     "execution_count": 92,
     "metadata": {},
     "output_type": "execute_result"
    }
   ],
   "source": [
    "delta = {browser:proportion['exp'][browser] - proportion['control'][browser] for browser in data['browser'].unique()}\n",
    "delta"
   ]
  },
  {
   "cell_type": "code",
   "execution_count": null,
   "metadata": {
    "collapsed": true
   },
   "outputs": [],
   "source": []
  }
 ],
 "metadata": {
  "kernelspec": {
   "display_name": "Python 2",
   "language": "python",
   "name": "python2"
  },
  "language_info": {
   "codemirror_mode": {
    "name": "ipython",
    "version": 2
   },
   "file_extension": ".py",
   "mimetype": "text/x-python",
   "name": "python",
   "nbconvert_exporter": "python",
   "pygments_lexer": "ipython2",
   "version": "2.7.13"
  }
 },
 "nbformat": 4,
 "nbformat_minor": 2
}
