{
 "cells": [
  {
   "cell_type": "code",
   "execution_count": 8,
   "metadata": {
    "collapsed": false,
    "scrolled": false
   },
   "outputs": [
    {
     "name": "stdout",
     "output_type": "stream",
     "text": [
      "коэффициенты функции [  4.59456885e+00  -1.62318892e+00   2.99967183e-01  -1.94942764e-02\n",
      "   3.64029493e-04]\n"
     ]
    },
    {
     "data": {
      "image/png": "[encoded data removed]",
      "text/plain": [
       "<matplotlib.figure.Figure at 0x8398668>"
      ]
     },
     "metadata": {},
     "output_type": "display_data"
    }
   ],
   "source": [
    "import numpy as np\n",
    "def f(x): # формируем функцию\n",
    "    return np.sin(x/5.) * np.exp(x/10.) + 5 * np.exp(-x/2.)\n",
    "\n",
    "# In[2]:\n",
    "\n",
    "x0 = np.array([1, 4, 10, 20, 30])\n",
    "n = len(x0)\n",
    "b = f(x0)\n",
    "#print n, b\n",
    "\n",
    "# In[22]:\n",
    "\n",
    "v = np.arange(n)\n",
    "a = x0.reshape(n, 1) ** v # формируем матрицу А\n",
    "#print x0.reshape(4, 1), v\n",
    "#print a\n",
    "\n",
    "# In[4]:\n",
    "\n",
    "from scipy import linalg\n",
    "w = linalg.solve(a, b)\n",
    "print 'коэффициенты функции', w\n",
    "\n",
    "# In[8]:\n",
    "\n",
    "%matplotlib inline\n",
    "import matplotlib.pyplot as plt\n",
    "x = np.arange(1, 30, 0.1)\n",
    "\n",
    "y = f(x)\n",
    "\n",
    "m = v.reshape(n,1)\n",
    "y_int = w.dot(x ** m) # собрали интерполяционную функцию\n",
    "\n",
    "plt.plot(x, y, '-', x, y_int, '--g')\n",
    "plt.show()\n"
   ]
  },
  {
   "cell_type": "code",
   "execution_count": null,
   "metadata": {
    "collapsed": true
   },
   "outputs": [],
   "source": []
  }
 ],
 "metadata": {
  "kernelspec": {
   "display_name": "Python 2",
   "language": "python",
   "name": "python2"
  },
  "language_info": {
   "codemirror_mode": {
    "name": "ipython",
    "version": 2
   },
   "file_extension": ".py",
   "mimetype": "text/x-python",
   "name": "python",
   "nbconvert_exporter": "python",
   "pygments_lexer": "ipython2",
   "version": "2.7.13"
  }
 },
 "nbformat": 4,
 "nbformat_minor": 2
}
