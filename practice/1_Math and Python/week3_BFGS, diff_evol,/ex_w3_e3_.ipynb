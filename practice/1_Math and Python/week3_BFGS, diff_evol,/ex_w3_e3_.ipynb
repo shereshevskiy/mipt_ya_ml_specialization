{
 "cells": [
  {
   "cell_type": "code",
   "execution_count": 1,
   "metadata": {
    "collapsed": false
   },
   "outputs": [
    {
     "data": {
      "image/png": "[encoded data removed]",
      "text/plain": [
       "<matplotlib.figure.Figure at 0x64128d0>"
      ]
     },
     "metadata": {},
     "output_type": "display_data"
    }
   ],
   "source": [
    "import math\n",
    "import numpy as np\n",
    "def f(x): # формируем функцию\n",
    "    return math.sin(x/5.) * math.exp(x/10.) + 5 * math.exp(-x/2.)\n",
    "#def h(x): # формируем функцию\n",
    "#    return int(math.sin(x/5.) * math.exp(x/10.) + 5 * math.exp(-x/2.))\n",
    "def h(x):\n",
    "    return int(f(x))\n",
    "%matplotlib inline\n",
    "import matplotlib.pyplot as plt\n",
    "x = np.arange(1, 30, 0.1)\n",
    "y = []\n",
    "y_int = []\n",
    "for xx in range(len(x)):\n",
    "    y_int = y_int + [h(x[xx])]\n",
    "    y = y + [f(x[xx])]\n",
    "#y = np.zeros(len(x))\n",
    "#for xx in range(len(x)):\n",
    "#    y[xx] = h(x[xx])\n",
    "plt.plot(x, y, '-g', x, y_int, '-r')\n",
    "plt.show()"
   ]
  },
  {
   "cell_type": "code",
   "execution_count": 6,
   "metadata": {
    "collapsed": false
   },
   "outputs": [
    {
     "name": "stdout",
     "output_type": "stream",
     "text": [
      "      fun: -5\n",
      " hess_inv: array([[1]])\n",
      "      jac: array([ 0.])\n",
      "  message: 'Optimization terminated successfully.'\n",
      "     nfev: 3\n",
      "      nit: 0\n",
      "     njev: 1\n",
      "   status: 0\n",
      "  success: True\n",
      "        x: array([ 30.])\n"
     ]
    }
   ],
   "source": [
    "from scipy import optimize\n",
    "res = optimize.minimize(h, 30, method='BFGS')\n",
    "print res"
   ]
  },
  {
   "cell_type": "code",
   "execution_count": 3,
   "metadata": {
    "collapsed": false
   },
   "outputs": [
    {
     "name": "stdout",
     "output_type": "stream",
     "text": [
      "     fun: -11.0\n",
      " message: 'Optimization terminated successfully.'\n",
      "    nfev: 92\n",
      "     nit: 5\n",
      " success: True\n",
      "       x: array([ 25.98713712])\n"
     ]
    }
   ],
   "source": [
    "res = optimize.differential_evolution(h, [(1, 30)])\n",
    "print res"
   ]
  },
  {
   "cell_type": "code",
   "execution_count": 4,
   "metadata": {
    "collapsed": false
   },
   "outputs": [
    {
     "data": {
      "text/plain": [
       "-5"
      ]
     },
     "execution_count": 4,
     "metadata": {},
     "output_type": "execute_result"
    }
   ],
   "source": [
    "h(30)"
   ]
  },
  {
   "cell_type": "code",
   "execution_count": null,
   "metadata": {
    "collapsed": true
   },
   "outputs": [],
   "source": []
  }
 ],
 "metadata": {
  "kernelspec": {
   "display_name": "Python 2",
   "language": "python",
   "name": "python2"
  },
  "language_info": {
   "codemirror_mode": {
    "name": "ipython",
    "version": 2
   },
   "file_extension": ".py",
   "mimetype": "text/x-python",
   "name": "python",
   "nbconvert_exporter": "python",
   "pygments_lexer": "ipython2",
   "version": "2.7.13"
  }
 },
 "nbformat": 4,
 "nbformat_minor": 2
}
