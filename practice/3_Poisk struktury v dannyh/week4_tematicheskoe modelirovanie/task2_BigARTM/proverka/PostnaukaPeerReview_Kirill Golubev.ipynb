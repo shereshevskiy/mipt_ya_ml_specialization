{
 "cells": [
  {
   "cell_type": "markdown",
   "metadata": {},
   "source": [
    "# Тематическая модель [Постнауки](http://postnauka.ru)\n",
    "## Peer Review (optional)"
   ]
  },
  {
   "cell_type": "markdown",
   "metadata": {},
   "source": [
    "В этом задании мы применим аппарат тематического моделирования к коллекции текстовых записей видеолекций, скачанных с сайта Постнаука. Мы будем визуализировать модель и создавать прототип тематического навигатора по коллекции. В коллекции 1728 документов, размер словаря - 38467 слов. Слова лемматизированы, то есть приведены к начальной форме, с помощью программы [mystem](https://tech.yandex.ru/mystem/), коллекция сохранена в [формате vowpal wabbit](http://docs.bigartm.org/en/latest/formats.html). В каждой строке до первой черты записана информация о документе (ссылка на страницу с лекцией), после первой черты следует описание документа. Используются две модальности - текстовая (\"text\") и модальность авторов (\"author\"); у каждого документа один автор."
   ]
  },
  {
   "cell_type": "markdown",
   "metadata": {},
   "source": [
    "Для выполнения задания понадобится библиотека [BigARTM](http://docs.bigartm.org). В демонстрации показан пример использования библиотеки версии 0.7.4, на сайте предлагается скачивать версию 0.8.0. В новой версии изменены принципы работы со словарями: они вынесены в отдельный класс (пример в [Release Notes](http://docs.bigartm.org/en/stable/release_notes/python.html)). Строить модель и извлекать ее параметры нужно так же, как показано в демонстрации. Вы можете использовать [предыдущий релиз](http://bigartm.readthedocs.io/en/v0.7.6/download.html) или [новый релиз](http://docs.bigartm.org/en/latest/download.html) на ваше усмотрение.\n",
    "\n",
    "Спецификации всех функций вы можете смотреть на странице [Python API](http://bigartm.readthedocs.io/en/stable/python_interface.html)."
   ]
  },
  {
   "cell_type": "code",
   "execution_count": 1,
   "metadata": {
    "collapsed": true
   },
   "outputs": [],
   "source": [
    "import artm"
   ]
  },
  {
   "cell_type": "code",
   "execution_count": 2,
   "metadata": {
    "collapsed": true
   },
   "outputs": [],
   "source": [
    "from matplotlib import pyplot as plt\n",
    "import seaborn\n",
    "%matplotlib inline\n",
    "seaborn.set_style(\"whitegrid\", {'axes.grid' : False})"
   ]
  },
  {
   "cell_type": "code",
   "execution_count": 3,
   "metadata": {
    "collapsed": true
   },
   "outputs": [],
   "source": [
    "import numpy as np\n",
    "import pandas as pd"
   ]
  },
  {
   "cell_type": "markdown",
   "metadata": {},
   "source": [
    "##### Считывание данных"
   ]
  },
  {
   "cell_type": "markdown",
   "metadata": {},
   "source": [
    "Создайте объект класса artm.BatchVectorizer, который будет ссылаться на директорию с пакетами данных (батчами). Чтобы библиотека могла преобразовать текстовый файл в батчи, создайте пустую директорию и укажите ее название в параметре target_folder. Размер батча для небольших коллекций (как наша) не важен, вы можете указать любой."
   ]
  },
  {
   "cell_type": "code",
   "execution_count": 4,
   "metadata": {
    "collapsed": true
   },
   "outputs": [],
   "source": [
    "# Ваш код\n",
    "\n",
    "batch_vectorizer = artm.BatchVectorizer(data_path=\"lectures.txt\", \n",
    "                                        data_format=\"vowpal_wabbit\", \n",
    "                                        target_folder=\"postnauka_batches\", \n",
    "                                        batch_size=100)"
   ]
  },
  {
   "cell_type": "markdown",
   "metadata": {},
   "source": [
    "##### Инициализация модели"
   ]
  },
  {
   "cell_type": "markdown",
   "metadata": {},
   "source": [
    "Создайте объект класса artm.Model с 30 темами, именами тем, указанными ниже и единичными весами обеих модальностей. Количество тем выбрано не очень большим, чтобы вам было удобнее работать с темами. На этой коллекции можно строить и большее число тем, тогда они будут более узко специализированы."
   ]
  },
  {
   "cell_type": "code",
   "execution_count": 5,
   "metadata": {
    "collapsed": true
   },
   "outputs": [],
   "source": [
    "T = 30   # количество тем\n",
    "\n",
    "# Ваш код\n",
    "model_artm = artm.ARTM(num_topics=T, \n",
    "                       topic_names=[\"sbj\"+str(i) for i in range(T-1)]+[\"bcg\"], \n",
    "                       class_ids={\"text\":1 , \"author\":1}, \n",
    "                       num_document_passes=1, \n",
    "                       reuse_theta=True, \n",
    "                       cache_theta=True, \n",
    "                       seed=-1)"
   ]
  },
  {
   "cell_type": "markdown",
   "metadata": {},
   "source": [
    "Мы будем строить 29 предметных тем и одну фоновую. \n",
    "\n",
    "Соберите словарь с помощью метода gather_dictionary и инициализируйте модель, указав random_seed=1. Обязательно укажите свое название словаря, оно понадобится при добавлении регуляризаторов."
   ]
  },
  {
   "cell_type": "code",
   "execution_count": 6,
   "metadata": {
    "collapsed": false
   },
   "outputs": [],
   "source": [
    "# Ваш код\n",
    "np.random.seed(1)\n",
    "\n",
    "dictionary = artm.Dictionary('dictionary')\n",
    "dictionary.gather(batch_vectorizer.data_path)\n",
    "\n",
    "model_artm.initialize('dictionary')"
   ]
  },
  {
   "cell_type": "markdown",
   "metadata": {},
   "source": [
    "##### Добавление score"
   ]
  },
  {
   "cell_type": "markdown",
   "metadata": {},
   "source": [
    "Создайте два измерителя качества artm.TopTokensScore - по одному для каждой модальности; количество токенов 15. Названия для score придумайте самостоятельно."
   ]
  },
  {
   "cell_type": "code",
   "execution_count": 7,
   "metadata": {
    "collapsed": false
   },
   "outputs": [],
   "source": [
    "# Ваш код\n",
    "\n",
    "model_artm.scores.add(artm.TopTokensScore(name=\"score_text\", num_tokens=15, class_id='text'))\n",
    "model_artm.scores.add(artm.TopTokensScore(name=\"score_author\", num_tokens=15, class_id='author'))"
   ]
  },
  {
   "cell_type": "markdown",
   "metadata": {},
   "source": [
    "##### Построение модели"
   ]
  },
  {
   "cell_type": "markdown",
   "metadata": {},
   "source": [
    "Мы будем строить модель в два этапа: сначала добавим сглаживающий регуляризатор фоновой темы и настроим параметры модели, затем - добавим разреживающий регуляризатор предметрых тем и выполним еще несколько итераций. Так мы сможем получить наиболее чистые от фоновых слов предметные темы. Сглаживающий и разреживающий регуляризаторы задаются одним и тем же классом artm.SmoothSparsePhiRegularizer: если коэффициент tau положительный, то регуляризатор будет сглаживающий, если отрицательный - разреживающий.\n",
    "\n",
    "Если вы хотите подробнее разобраться, как выполняется регуляризация тематической модели в BigARTM, вы можете прочитать [статью](https://s3-eu-west-1.amazonaws.com/artm/voron-potap14artm-rus.pdf), раздел 4."
   ]
  },
  {
   "cell_type": "markdown",
   "metadata": {},
   "source": [
    "Добавьте сглаживающий регуляризатор с коэффициентом tau = 1e5, указав название своего словаря в dictionary, модальность текста в class_ids и тему \"bcg\" в topic_names."
   ]
  },
  {
   "cell_type": "code",
   "execution_count": 8,
   "metadata": {
    "collapsed": true
   },
   "outputs": [],
   "source": [
    "# Ваш код\n",
    "model_artm.regularizers.add(artm.SmoothSparsePhiRegularizer(name='Reg', \n",
    "                                                            tau=1e5, \n",
    "                                                            dictionary=dictionary, \n",
    "                                                            class_ids=['text'], \n",
    "                                                            topic_names='bcg'))"
   ]
  },
  {
   "cell_type": "markdown",
   "metadata": {},
   "source": [
    "Выполните 30 итераций по коллекции (num_collection_passes), количество внутренних итераций установите равным 1. Используйте метод fit_offline модели."
   ]
  },
  {
   "cell_type": "code",
   "execution_count": 9,
   "metadata": {
    "collapsed": true
   },
   "outputs": [],
   "source": [
    "# Ваш код\n",
    "model_artm.fit_offline(batch_vectorizer=batch_vectorizer, num_collection_passes=30)"
   ]
  },
  {
   "cell_type": "markdown",
   "metadata": {},
   "source": [
    "Добавьте разреживающий регуляризатор с коэффициентом tau=-1e5, указав название своего словаря, модальность текста в class_ids и все темы \"sbjX\" в topic_names."
   ]
  },
  {
   "cell_type": "code",
   "execution_count": 10,
   "metadata": {
    "collapsed": false
   },
   "outputs": [],
   "source": [
    "# Ваш код\n",
    "model_artm.regularizers.add(artm.SmoothSparsePhiRegularizer(name='NewReg', \n",
    "                                                            tau=-1e5, \n",
    "                                                            dictionary=dictionary, \n",
    "                                                            class_ids=['text'], \n",
    "                                                            topic_names=[\"sbj\"+str(i) for i in range(T-1)]))"
   ]
  },
  {
   "cell_type": "markdown",
   "metadata": {},
   "source": [
    "Выполните еще 15 проходов по коллекции."
   ]
  },
  {
   "cell_type": "code",
   "execution_count": 11,
   "metadata": {
    "collapsed": true
   },
   "outputs": [],
   "source": [
    "# Ваш код\n",
    "model_artm.fit_offline(batch_vectorizer=batch_vectorizer, num_collection_passes=15)"
   ]
  },
  {
   "cell_type": "markdown",
   "metadata": {},
   "source": [
    "##### Интерпретация тем"
   ]
  },
  {
   "cell_type": "markdown",
   "metadata": {},
   "source": [
    "Используя созданные score, выведите топы слов и топы авторов в темах. Удобнее всего выводить топ слов каждой темы с новой строки, указывая название темы в начале строки, и аналогично с авторами."
   ]
  },
  {
   "cell_type": "code",
   "execution_count": 12,
   "metadata": {
    "collapsed": false
   },
   "outputs": [
    {
     "name": "stdout",
     "output_type": "stream",
     "text": [
      "sbj0:  церковь власть русь средневековый император святой римский сага князь папа король александр византийский церковный рим \n",
      "sbj1:  планета земля атмосфера солнце солнечный белый газ карлик образовываться вокруг звезда спутник вода поверхность кислород \n",
      "sbj2:  система состояние трудность двигаться частота поведение искусственный точность относительность движение переход тест час самка самец \n",
      "sbj3:  культура понятие культурный восприятие сознание феномен личность ощущение воспринимать чувство переживание повседневный этика лосев глобальный \n",
      "sbj4:  право литература литературный искусство юрист должник собственность обязательство римский владение произведение писатель юридический собственник исполнение \n",
      "sbj5:  материал структура молекула свойство углерод применение вещество полимер поверхность кристалл металл электронный алмаз углеродный твердый \n",
      "sbj6:  фильм книга автор кино театр жанр кинематограф анекдот тема документ пьеса культовый академия герой екатерина \n",
      "sbj7:  смерть ритуал террор государь правитель обряд идеология служба конвент символический диктатура монтаньяр баратынский подданный биоэтика \n",
      "sbj8:  метод химический соединение реакция химия органический давление лекарство синтез разработка продукт натрий концентрация природный химик \n",
      "sbj9:  частица энергия квантовый поле физика взаимодействие атом магнитный электрон теория кварк симметрия фотон элементарный нейтрино \n",
      "sbj10:  война россия советский русский власть российский германия мировой реформа историк петр немецкий против гражданский военный \n",
      "sbj11:  ребенок семья возраст взрослый сон мать родитель кровь старение катастрофа конфликт диабет травма стресс сосуд \n",
      "sbj12:  растение ткань орган опухоль рак иммунный озеро сердце мышца нейронный вода инженерия птица активация печень \n",
      "sbj13:  территория христианский империя восток народ древний письменность христианство государство памятник цивилизация китай северный восточный китайский \n",
      "sbj14:  звезда галактика масса вселенная черный свет волна дыра скорость излучение объект вещество расстояние телескоп скопление \n",
      "sbj15:  задача информация память данные решение компьютер психология мышление внимание когнитивный анализ психологический психолог ошибка компьютерный \n",
      "sbj16:  раса африка остров америка станислав южный монголоид индия дробышевский нос сенсор штамм индеец территориальный европеоид \n",
      "sbj17:  политический философия государство общество философский философ партия правовой суд платон мысль враг шмитт политика дух \n",
      "sbj18:  слово текст русский словарь предложение значение глагол корпус категория грамматика лингвистика конструкция падеж синтаксический устный \n",
      "sbj19:  революция французский свобода франция роман национальный король нация аргумент актер париж конституция творчество монархия костюм \n",
      "sbj20:  город сеть робот технология городской интернет компания пользователь музей медиа горожанин библиотека метро управление цифровой \n",
      "sbj21:  болезнь заболевание пациент лечение врач медицина боль женщина препарат медицинский операция мужчина диагностика больной нарушение \n",
      "sbj22:  социальный знание социология социологический дисциплина познание перевод социолог описание обучение коммуникация виктор машинный научный высказывание \n",
      "sbj23:  микроорганизм матрица алгоритм эмоция схема вычислительный эмоциональный микроб программный глубина интеллект фольклор машина хищник микробный \n",
      "sbj24:  исторический бог традиция царь миф греческий представление религия имя мифология эпоха душа религиозный египет андрей \n",
      "sbj25:  язык лингвист языковой гласный английский согласный лингвистический говор звук диалект филологический компилятор германский программирование жест \n",
      "sbj26:  страна экономический экономика политика сталин идентичность коллективный кризис общественный праздник принятие выбор ценность прошлое ресурс \n",
      "sbj27:  клетка ген днк организм белок мозг биологический животное генетический нейрон геном бактерия рнк мутация молекулярный \n",
      "sbj28:  температура университет сверхпроводимость сверхпроводник профессор сверхпроводящий железо заимствование гумбольдт магнит кельвин булгарский электроника жидкий сопротивление \n",
      "bcg:  быть что это который этот как они мочь такой очень для человек или тот один \n"
     ]
    }
   ],
   "source": [
    "# Ваш код\n",
    "key_words = []\n",
    "for topic_name in model_artm.topic_names:\n",
    "    print(topic_name + ': ', end=' ')\n",
    "    tokens = model_artm.score_tracker[\"score_text\"].last_tokens\n",
    "    for word in tokens[topic_name]:    \n",
    "        print(word, end=' ')\n",
    "    key_words.append(word)\n",
    "    print()"
   ]
  },
  {
   "cell_type": "code",
   "execution_count": 13,
   "metadata": {
    "collapsed": false
   },
   "outputs": [
    {
     "name": "stdout",
     "output_type": "stream",
     "text": [
      "sbj0:  Александр_Марей Фёдор_Успенский Татьяна_Бобровникова Павел_Уваров Игорь_Данилевский Алексей_Юдин Ольга_Вайнштейн Елена_Уханова Ольга_Брилева Владимир_Петрухин Елена_Браун Григорий_Бондаренко Раиса_Кирсанова Екатерина_Болтунова Ольга_Тогоева \n",
      "sbj1:  Сергей_Попов Кирилл_Еськов Дмитрий_Вибе Дмитрий_Титов Валерий_Сулейманов Зоригто_Намсараев Сергей_Наугольных Александр_Марков Наталья_Новикова Александр_Слободкин Роман_Рафиков Елизавета_Ривкина Сергей_Писарев Дмитрий_Лось Юлия_Краус \n",
      "sbj2:  Елена_Брызгалина Михаил_Пантелеев Александр_Поддьяков Владимир_Мележик Эмиль_Ахмедов Даниэль_Сельва Виталий_Пальчиков Михаил_Фейгельман Антон_Суворов Василий_Климов Юджин_Ползик Алексей_Желтиков Владимир_Редько Илья_Щуров Георгий_Шляпников \n",
      "sbj3:  Сергей_Арутюнов Алексей_Руткевич Владимир_Миронов Пётр_Турчин Татьяна_Смоктунович Андрей_Лосев Константин_Анохин Кирилл_Разлогов Дмитрий_Иванов Фёдор_Гиренок Александр_Кислов Павел_Степанцов Павел_Умрюхин Светлана_Кузнецова Андрей_Лукашов \n",
      "sbj4:  Дмитрий_Дождев Олег_Лекманов Наталья_Смолянская Денис_Новак Сергей_Зенкин Андрей_Кофман Виктор_Цетлин Александр_Парфенов Дмитрий_Дорохов Марина_Бутовская Дмитрий_Полдников Евгений_Рогожин Мария_Штейнман Алиса_Вячеславова Татьяна_Гусарова \n",
      "sbj5:  Артем_Оганов Дмитрий_Паращук Алексей_Акимов Валентин_Крапошин Дмитрий_Гольберг Евгений_Гудилин Владимир_Шалаев Алексей_Хохлов Дмитрий_Клинов Виктор_Зайченко Владимир_Комлев Сергей_Никитов Андрей_Головин Эрик_Мазур Виктор_Задков \n",
      "sbj6:  Александр_Павлов Павел_Руднев Ян_Левченко Ольга_Эдельман Алексей_Бартошевич Мария_Неклюдова Владимир_Кантор Петр_Дружинин Наталья_Харламенкова Ольга_Вайнштейн Екатерина_Щербакова Анатолий_Гершман Анна_Рогожина Михаил_Маяцкий Александр_Гофман \n",
      "sbj7:  Михаил_Бойцов Анна_Соколова Александр_Гофман Игорь_Чубаров Арсений_Хитров Дмитрий_Рогозин Алина_Бодрова Галина_Зверева Пол_Грегори Олег_Ауров Дмитрий_Бовыкин Мария_Майофис Владимир_Емельянов Михаил_Алексеевский Елена_Брызгалина \n",
      "sbj8:  Валерий_Фокин Валентин_Ненайденко Алла_Ножевникова Виктория_Битюкова Александр_Апт Иван_Сорокин Александр_Беленький Алексей_Малашенко Сергей_Майоров Константин_Мирошников Сергей_Румянцев Пётр_Образцов Олег_Мельник Дмитрий_Бак Владимир_Польшаков \n",
      "sbj9:  Дмитрий_Казаков Эмиль_Ахмедов Михаил_Данилов Виктор_Брагута Павел_Пахлов Наталья_Берлофф Сергей_Демокритов Лев_Дудко Игорь_Волобуев Сергей_Троицкий Алексей_Рубцов Эдуард_Боос Кит_Моффат Анатолий_Лиходед Андрей_Семенов \n",
      "sbj10:  Илья_Женин Кирилл_Соловьев Борис_Морозов Кирилл_Кочегаров Александр_Лаврентьев Ирина_Бёме Олег_Будницкий Александр_Каменский Игорь_Курукин Алексей_Киличенков Илья_Виньковецкий Людмила_Новикова Сергей_Соколовский Варвара_Добровольская Ольга_Тогоева \n",
      "sbj11:  Катерина_Поливанова Мария_Падун Юрий_Яшков Ольга_Исупова Мария_Медникова Владимир_Ковальзон Эмери_Браун Джеральд_де_Хаан Дмитрий_Жуков Наталья_Харламенкова Александр_Жаворонков Наталья_Кисельникова Алексей_Москалев Дэвид_С._Джонс Михаил_Полуэктов \n",
      "sbj12:  Михаил_Бурцев Филипп_Хайтович Егор_Задереев Константин_Агладзе Дмитрий_Громов Андрей_Цатурян Мария_Добровольская Сергей_Яковенко Алишер_Тураев Александр_Петренко Филлип_Шарп Рудольф_Йениш Михаил_Киселев Варвара_Веденина Иван_Воробьев \n",
      "sbj13:  Алексей_Муравьёв Дмитрий_Беляев Марк_Ульянов Дмитрий_Худяков Сергей_Серёгичев Наталья_Зубаревич Андрей_Виноградов Владимир_Каганский Олег_Ауров Александр_Высоковский Галина_Ершова Дмитрий_Арзютов Нина_Сумбатова Анна_Дыбо Анна_Рогожина \n",
      "sbj14:  Сергей_Попов Анатолий_Засов Алексей_Расторгуев Ольга_Сильченко Владимир_Сурдин Михаил_Ревнивцев Олег_Верходанов Дмитрий_Горбунов Андрей_Савельев-Трофимов Алексей_Старобинский Владимир_Белотелов Валерий_Рубаков Дмитрий_Вибе Ильдар_Габитов Антон_Бирюков \n",
      "sbj15:  Павел_Балабан Владимир_Спиридонов Игорь_Уточкин Александр_Войскунский Ольга_Сварник Иван_Луковников Станислав_Клименко Антон_Чижов Ксения_Паниди Наталья_Кисельникова Александр_Каплан Сет_Ллойд Александр_Львовский Кьянг_Ку Сергей_Шишкин \n",
      "sbj16:  Станислав_Дробышевский Виталий_Кушниров Александр_Шацкий Евгений_Рогожин Митчел_Резник Алиса_Вячеславова Владимир_Муронец Вера_Мильчина Раиса_Кирсанова Георгий_Базыкин Андрей_Летаров Александр_Воеводский Константин_Лукьянов Леонид_Иомдин Михаил_Эльдаров \n",
      "sbj17:  Алексей_Козырев Иван_Болдырев Владимир_Малахов Дина_Гусейнова Александр_Павлов Петр_Резвых Павел_Соколов Василий_Жарков Дмитрий_Балалыкин Валентина_Харитонова Руслан_Хестанов Александр_Воеводский Николай_Плотников Анна_Севортьян Юрий_Рогулёв \n",
      "sbj18:  Александр_Пиперски Светлана_Евграфова Дмитрий_Добровольский Борис_Иомдин Анатолий_Баранов Надежда_Онипенко Петр_Аркадьев Алексей_Шмелев Леонид_Иомдин Андрей_Кибрик Владимир_Плунгян Вера_Подлесская Екатерина_Протасова Екатерина_Лютикова Анастасия_Лопухина \n",
      "sbj19:  Дмитрий_Бовыкин Андрей_Зорин Борис_Колоницкий Раиса_Кирсанова Вера_Мильчина Мария_Майофис Алексей_Миллер Дина_Гусейнова Александр_Дмитриев Максим_Демин Мария_Неклюдова Марина_Новикова-Грунд Илья_Иткин Светлана_Баньковская Михаил_Алексеевский \n",
      "sbj20:  Александр_Сафонов Алексей_Лебедев Оксана_Запорожец Александр_Тормасов Екатерина_Ларионова Екатерина_Лапина-Кратасюк Руслан_Смелянский Евгений_Магид Лев_Беклемишев Джанмарко_Веруджио Деметрис_Зейналипур Сергей_Карабасов Дарья_Радченко Евгений_Хоров Сергей_Ландо \n",
      "sbj21:  Петр_Федичев Ярослав_Ашихмин Алексей_Алексеев Константин_Анохин Вера_Ижевская Александр_Васильев Алексей_Чжао Елена_Брызгалина Александр_Габибов Инга_Полетаева Юрий_Вайнер Станислав_Полонский Павел_Тищенко Елена_Голубева Наталья_Савва \n",
      "sbj22:  Виктор_Вахштайн Дмитрий_Ветров Светлана_Бурлак Светлана_Баньковская Сезар_Идальго Александр_Дьяконов Дэвид_Вайнберг Джозеф_Браун Владик_Аветисов Леонид_Иомдин Мира_Бергельсон Aльберт_Давлетшин Александр_Филиппов Андрей_Кибрик Джеффри_Шнапп \n",
      "sbj23:  Елизавета_Бонч-Осмоловская Дмитрий_Рогозин Иван_Оселедец Елена_Гороховская Николай_Пименов Александр_Жданов Владимир_Кузнецов Станислав_Протасов Александр_Жаворонков Илья_Щуров Максим_Таланов Игорь_Петров Сергей_Гашков Александр_Шень Сергей_Зыков \n",
      "sbj24:  Гасан_Гусейнов Олег_Воскобойников Ивар_Максутов Ольга_Артёмова Мария_Штейнман Владимир_Емельянов Владимир_Бобровников Леонид_Григорьев Иван_Ладынин Галина_Зеленина Аскольд_Иванчик Мира_Бергельсон Алексей_Юдин Ирина_Савельева Ахмет_Ярлыкапов \n",
      "sbj25:  Владимир_Плунгян Игорь_Исаев Кирилл_Бабаев Андрей_Кибрик Илья_Иткин Георгий_Старостин Владимир_Беликов Григорий_Крейдлин Евгений_Зуев Максим_Кронгауз Екатерина_Лямина Андрей_Кофман Яков_Тестелец Дмитрий_Дагаев Альберт_Насибулин \n",
      "sbj26:  Фуад_Алескеров Олег_Хлевнюк Алексей_Белянин Ольга_Малинова Сергей_Афонцев Сергей_Бобылев Владимир_Гимпельсон Сергей_Гуриев Виктор_Полтерович Сергей_Пекарский Александр_Аузан Ольга_Гулевич Василий_Ключарев Леонард_Полищук Рауль_Гайнетдинов \n",
      "sbj27:  Евгений_Шеваль Константин_Северинов Максим_Франк-Каменецкий Сергей_Киселев Антон_Буздин Сергей_Саложин Сергей_Науменко Светлана_Боринская Алексей_Кондрашов Андрей_Летаров Евгений_Куликов Владимир_Муронец Антон_Бернс Мария_Шутова Питер_Лэнсдорп \n",
      "sbj28:  Михаил_Киселев Илья_Шкредов Наталья_Ростиславлева Владимир_Пудалов Елена_Вишленкова Евгений_Николаев Анна_Дыбо Алексей_Рубцов Евгений_Антипов Дмитрий_Лось Алексей_Орлов Алексей_Касьян Николай_Мощевитин Герберт_Хупперт Мел_Сигел \n",
      "bcg:  Мария_Фаликман Михаил_Соколов Виталий_Куренной Сергей_Неклюдов Кирилл_Мартынов Михаил_Гельфанд Кирилл_Титаев ПостНаука Александр_Филиппов Михаил_Алексеевский Михаил_Маяцкий Алексей_Маслов Александр_Доброхотов Алексей_Миллер Николай_Дронин \n"
     ]
    }
   ],
   "source": [
    "for topic_name in model_artm.topic_names:\n",
    "    print(topic_name + ': ', end=' ')\n",
    "    tokens = model_artm.score_tracker[\"score_author\"].last_tokens\n",
    "    for word in tokens[topic_name]:    \n",
    "        print(word, end=' ')\n",
    "    print()"
   ]
  },
  {
   "cell_type": "markdown",
   "metadata": {},
   "source": [
    "В последней теме \"bcg\" должны находиться общеупотребительные слова.\n",
    "\n",
    "Важный шаг в работе с тематической моделью, когда речь идет о визуализации или создании тематического навигатора, это именование тем. Понять, о чем каждая тема, можно по списку ее топовых слов. Например, тему\n",
    "    \n",
    "    частица взаимодействие физика кварк симметрия элементарный нейтрино стандартный материя протон бозон заряд масса ускоритель слабый\n",
    "    \n",
    "можно назвать \"Физика элементарных частиц\". \n",
    "\n",
    "Дайте названия 29 предметным темам. Если вы не знаете, как назвать тему, назовите ее первым встретившимся в ней существительным, хотя при таком подходе навигатор будет менее информативным. Из названий тем составьте список из 29 строк и запишите го в переменную sbj_topic_labels. В переменной topic_labels будут храниться названия всех тем, включая фоновую."
   ]
  },
  {
   "cell_type": "code",
   "execution_count": 14,
   "metadata": {
    "collapsed": true
   },
   "outputs": [],
   "source": [
    "sbj_topic_labels = key_words   # запишите названия тем в список\n",
    "topic_labels = sbj_topic_labels + [\"Фоновая тема\"]"
   ]
  },
  {
   "cell_type": "markdown",
   "metadata": {},
   "source": [
    "##### Анализ тем"
   ]
  },
  {
   "cell_type": "markdown",
   "metadata": {},
   "source": [
    "Далее мы будем работать с распределениями тем в документах (матрица $\\Theta$) и авторов в темах (одна из двух матриц $\\Phi$, соответствующая модальности авторов). \n",
    "Создайте переменные, содержащие две этих матрицы, с помощью методов get_phi и get_theta модели. Назовите переменные theta и phi_a. Выведите формы обеих матриц, чтобы понять, по каким осям стоят темы."
   ]
  },
  {
   "cell_type": "code",
   "execution_count": 15,
   "metadata": {
    "collapsed": false
   },
   "outputs": [
    {
     "name": "stdout",
     "output_type": "stream",
     "text": [
      "(30, 1728)\n",
      "(539, 30)\n"
     ]
    }
   ],
   "source": [
    "model_artm.theta_columns_naming = \"title\" # включает именование столбцов Theta их названиями-ссылками, а не внутренними id \n",
    "# Ваш код\n",
    "theta = model_artm.get_theta()\n",
    "phi_a = model_artm.get_phi(class_ids=\"author\")\n",
    "print(theta.shape)\n",
    "print(phi_a.shape)"
   ]
  },
  {
   "cell_type": "markdown",
   "metadata": {},
   "source": [
    "Визуализируем фрагмент матрицы $\\Theta$ - первые 100 документов (это наиболее простой способ визуально оценить, как темы распределяются в документах). С помощью метода seaborn.heatmap выведите фрагмент theta как изображение. Рекомендация: создайте фигуру pyplot размера (20, 10)."
   ]
  },
  {
   "cell_type": "code",
   "execution_count": 16,
   "metadata": {
    "collapsed": false
   },
   "outputs": [
    {
     "name": "stderr",
     "output_type": "stream",
     "text": [
      "/Users/mbp_kirill/anaconda3/lib/python3.5/site-packages/seaborn/matrix.py:143: DeprecationWarning: elementwise == comparison failed; this will raise an error in the future.\n",
      "  if xticklabels == []:\n"
     ]
    },
    {
     "data": {
      "image/png": "[encoded data removed]",
      "text/plain": [
       "<matplotlib.figure.Figure at 0x116eed748>"
      ]
     },
     "metadata": {},
     "output_type": "display_data"
    }
   ],
   "source": [
    "# Ваш код\n",
    "plt.figure(figsize=(20,10))\n",
    "seaborn.heatmap(theta[theta.columns[:100]])\n",
    "plt.show()"
   ]
  },
  {
   "cell_type": "markdown",
   "metadata": {},
   "source": [
    "Вы должны увидеть, что фоновая тема имеет большую вероятность в почти каждом документе, и это логично. Кроме того, есть еще одна тема, которая чаще других встречается в документах. Судя по всему, это тема содержит много слов по науку в целом, а каждый документ (видео) в нашей коллекции связан с наукой. Можно (необязательно) дать этой теме название \"Наука\".\n",
    "\n",
    "Помимо этих двух тем, фоновой и общенаучной, каждый документ характеризуется малым числом других тем."
   ]
  },
  {
   "cell_type": "markdown",
   "metadata": {},
   "source": [
    "Оценим $p(t)$ - долю каждой темы во всей коллекции. По формуле полной вероятности вычислять эти величины нужно как\n",
    "$p(t) = \\sum_d p(t|d) p(d)$. Согласно вероятностной модели, $p(d)$ пропорционально длине документа d. Поступим проще: будем полагать, что все документы равновероятны. Тогда оценить $p(t)$ можно, просуммировав $p(t|d)$ по всем документам, а затем разделив полученный вектор на его сумму. \n",
    "\n",
    "Создайте переменную-датафрейм с T строками, индексированными названиями тем, и 1 столбцом, содержащим оценки $p(t)$. Выведите датафрейм на печать."
   ]
  },
  {
   "cell_type": "code",
   "execution_count": 17,
   "metadata": {
    "collapsed": false
   },
   "outputs": [
    {
     "name": "stdout",
     "output_type": "stream",
     "text": [
      "                     pt\n",
      "европеоид      0.004229\n",
      "биоэтика       0.004614\n",
      "сопротивление  0.005717\n",
      "костюм         0.005982\n",
      "екатерина      0.006314\n",
      "сосуд          0.006418\n",
      "микробный      0.006735\n",
      "печень         0.007680\n",
      "самец          0.008056\n",
      "цифровой       0.008098\n",
      "исполнение     0.008410\n",
      "нарушение      0.008547\n",
      "устный         0.008965\n",
      "жест           0.009213\n",
      "высказывание   0.009907\n",
      "твердый        0.010261\n",
      "ресурс         0.010656\n",
      "рим            0.011114\n",
      "кислород       0.011563\n",
      "компьютерный   0.011954\n",
      "глобальный     0.012852\n",
      "химик          0.013165\n",
      "китайский      0.014020\n",
      "военный        0.014651\n",
      "дух            0.015158\n",
      "андрей         0.015320\n",
      "скопление      0.018484\n",
      "нейтрино       0.021004\n",
      "молекулярный   0.023717\n",
      "один           0.687197\n"
     ]
    }
   ],
   "source": [
    "# Ваш код\n",
    "pt = pd.DataFrame({'pt': (theta.sum(axis=1) / theta.sum(axis=1).sum()).as_matrix()} , index=topic_labels[:-1])\n",
    "print(pt.sort_values(by='pt'))"
   ]
  },
  {
   "cell_type": "markdown",
   "metadata": {},
   "source": [
    "Найдите 5 самых распространенных и 3 наименее освещенных темы в коллекции (наибольшие и наименьшие $p(t)$ соответственно), не считая фоновую и общенаучную. Укажите названия, которые вы дали этим темам."
   ]
  },
  {
   "cell_type": "raw",
   "metadata": {},
   "source": [
    "Ваш ответ:\n",
    "5 тем с max p(t): один, молекулярный, нейтрино, скопление, андрей\n",
    "3 темы с min p(t): европеоид, биоэтика, сопротивление"
   ]
  },
  {
   "cell_type": "markdown",
   "metadata": {},
   "source": [
    "Визуализируйте матрицу $\\Phi$ модальности авторов в виде изображения. Рекомендация: установите yticklabels=False в heatmap."
   ]
  },
  {
   "cell_type": "code",
   "execution_count": 18,
   "metadata": {
    "collapsed": false
   },
   "outputs": [
    {
     "name": "stderr",
     "output_type": "stream",
     "text": [
      "/Users/mbp_kirill/anaconda3/lib/python3.5/site-packages/seaborn/matrix.py:143: DeprecationWarning: elementwise == comparison failed; this will raise an error in the future.\n",
      "  if xticklabels == []:\n"
     ]
    },
    {
     "data": {
      "image/png": "[encoded data removed]",
      "text/plain": [
       "<matplotlib.figure.Figure at 0x116eed160>"
      ]
     },
     "metadata": {},
     "output_type": "display_data"
    }
   ],
   "source": [
    "# Ваш код\n",
    "plt.figure(figsize=(20,10))\n",
    "seaborn.heatmap(phi_a, yticklabels=False)\n",
    "plt.show()"
   ]
  },
  {
   "cell_type": "markdown",
   "metadata": {},
   "source": [
    "Каждой теме соответствует не очень большое число авторов - матрица достаточно разреженная. Кроме того, некоторые темы имеют доминирующего автора $a$, имеющего большую вероятность $p(a|t)$ - этот автор записал больше всего лекций по теме. "
   ]
  },
  {
   "cell_type": "markdown",
   "metadata": {},
   "source": [
    "Будем считать, что автор $a$ значим в теме, если $p(a|t) > 0.01$. Для каждого автора посчитайте, в скольких темах он значим. Найдите авторов-рекордсменов, которые значимы (а значит, читали лекции) в >= 3 темах."
   ]
  },
  {
   "cell_type": "code",
   "execution_count": 19,
   "metadata": {
    "collapsed": false
   },
   "outputs": [
    {
     "name": "stdout",
     "output_type": "stream",
     "text": [
      "Дэвид_Гросс              1\n",
      "Роман_Рафиков            1\n",
      "Владимир_Спиридонов      1\n",
      "Сергей_Кетов             1\n",
      "Даниэль_Сельва           1\n",
      "Владик_Аветисов          1\n",
      "Александр_Четверин       1\n",
      "Владимир_Польшаков       1\n",
      "Антон_Суворов            1\n",
      "Алексей_Бартошевич       1\n",
      "Сергей_Науменко          1\n",
      "Алексей_Орлов            1\n",
      "Михаил_Гельфанд          1\n",
      "Дэвид_Вайнберг           1\n",
      "Ольга_Исупова            1\n",
      "Олег_Верходанов          1\n",
      "Антон_Бернс              1\n",
      "Наталья_Берлофф          1\n",
      "Мартин_Вейс              1\n",
      "Алексей_Белянин          1\n",
      "Алексей_Касьян           1\n",
      "Хопи_Хукстра             1\n",
      "Мария_Шутова             1\n",
      "Николай_Мощевитин        1\n",
      "Александра_Скрипченко    1\n",
      "Яков_Тестелец            1\n",
      "Александр_Войскунский    1\n",
      "Евгений_Гудилин          1\n",
      "Фёдор_Успенский          1\n",
      "Павел_Лушников           1\n",
      "                        ..\n",
      "Фуад_Алескеров           2\n",
      "Нина_Сумбатова           2\n",
      "Олег_Ауров               2\n",
      "Валерий_Рубаков          2\n",
      "Варвара_Добровольская    2\n",
      "Алексей_Юдин             2\n",
      "Максим_Демин             2\n",
      "Владимир_Каганский       2\n",
      "Владимир_Емельянов       2\n",
      "Михаил_Алексеевский      2\n",
      "Сергей_Попов             2\n",
      "Екатерина_Лямина         2\n",
      "Вера_Мильчина            2\n",
      "Мария_Фаликман           2\n",
      "Александр_Павлов         2\n",
      "Владимир_Редько          2\n",
      "Григорий_Кабатянский     2\n",
      "Михаил_Киселев           2\n",
      "Наталья_Харламенкова     2\n",
      "Дмитрий_Рогозин          2\n",
      "Андрей_Цатурян           2\n",
      "Алексей_Желтиков         2\n",
      "Анастасия_Лопухина       2\n",
      "Александр_Габибов        2\n",
      "Дмитрий_Лось             3\n",
      "Ольга_Вайнштейн          3\n",
      "Алина_Бодрова            3\n",
      "Шринивас_Шридхар         3\n",
      "Елена_Брызгалина         3\n",
      "Владимир_Белотелов       3\n",
      "Length: 512, dtype: int64\n"
     ]
    }
   ],
   "source": [
    "a_cnts = phi_a[phi_a > 0.01].dropna(how='all').count(axis=1, numeric_only=True)\n",
    "print(a_cnts.sort_values())"
   ]
  },
  {
   "cell_type": "raw",
   "metadata": {},
   "source": [
    "Ваш ответ:\n",
    "авторы, значимые в не менее чем 3 темах: Ольга_Вайнштейн, Дмитрий_Лось, Алина_Бодрова, Владимир_Белотелов, Елена_Брызгалина, Шринивас_Шридхар"
   ]
  },
  {
   "cell_type": "markdown",
   "metadata": {},
   "source": [
    "Большинство авторов значимы в 1 теме, что логично."
   ]
  },
  {
   "cell_type": "markdown",
   "metadata": {},
   "source": [
    "##### Построение тематической карты авторов"
   ]
  },
  {
   "cell_type": "markdown",
   "metadata": {},
   "source": [
    "По сути, в матрице $\\Phi$, соответствующей модальности авторов, записаны тематические кластеры авторов. Для любого автора мы можем составить его тематический круг - авторов, разбирающихся в той же теме, что и данный. Интересующиеся слушатели могут попробовать выполнить эту процедуру для ученых, читающих лекции на Постнауке, которых они знают (например, на Постнауке есть лекции с К. В. Воронцовым - лектором текущего модуля :)\n",
    "\n",
    "Составим карту близости авторов по тематике их исследований. Для этого применим метод понижения размерности MDS к тематическим профилям авторов.\n",
    "\n",
    "Чтобы получить тематический профиль автора, распределение $p(t|a)$, нужно воспользоваться формулой Байеса: \n",
    "$p(t|a) = \\frac {p(a|t) p(t)} {\\sum_t' p(a|t') p(t')}$. Все необходимые для этого величины у вас есть и записаны в переменных phi и pt. \n",
    "\n",
    "Передайте матрицу тематических профилей авторов, записанных по строкам, в метод MDS с n_components=2. Используйте косинусную метрику (она хорошо подходит для поиска расстояний между векторами, имеющими фиксированную сумму компонент)."
   ]
  },
  {
   "cell_type": "code",
   "execution_count": 20,
   "metadata": {
    "collapsed": true
   },
   "outputs": [],
   "source": [
    "from sklearn.manifold import MDS\n",
    "from sklearn.metrics import pairwise_distances"
   ]
  },
  {
   "cell_type": "code",
   "execution_count": 21,
   "metadata": {
    "collapsed": false
   },
   "outputs": [
    {
     "data": {
      "text/plain": [
       "MDS(dissimilarity='precomputed', eps=0.001, max_iter=300, metric=True,\n",
       "  n_components=2, n_init=4, n_jobs=1, random_state=None, verbose=0)"
      ]
     },
     "execution_count": 21,
     "metadata": {},
     "output_type": "execute_result"
    }
   ],
   "source": [
    "# Ваш код\n",
    "pta = np.zeros(phi_a.shape)\n",
    "total = 0\n",
    "for i in range(phi_a.shape[0]):\n",
    "    for j in range(phi_a.shape[1]):\n",
    "        total += phi_a.iloc[i,j] * pt.iloc[j]\n",
    "for i in range(phi_a.shape[0]):\n",
    "    for j in range(phi_a.shape[1]):\n",
    "        pta[i,j] = (phi_a.iloc[i,j] * pt.iloc[j]) / total\n",
    "        \n",
    "model = MDS(dissimilarity=\"precomputed\", n_components=2)\n",
    "model.fit(pairwise_distances(pta, metric='cosine'))"
   ]
  },
  {
   "cell_type": "markdown",
   "metadata": {},
   "source": [
    "Визуализируйте найденные двумерные представления с помощью функции scatter. "
   ]
  },
  {
   "cell_type": "code",
   "execution_count": 22,
   "metadata": {
    "collapsed": false
   },
   "outputs": [
    {
     "data": {
      "text/plain": [
       "<matplotlib.collections.PathCollection at 0x115161b38>"
      ]
     },
     "execution_count": 22,
     "metadata": {},
     "output_type": "execute_result"
    },
    {
     "data": {
      "image/png": "[encoded data removed]",
      "text/plain": [
       "<matplotlib.figure.Figure at 0x1150ef1d0>"
      ]
     },
     "metadata": {},
     "output_type": "display_data"
    }
   ],
   "source": [
    "# Ваш код\n",
    "plt.scatter(model.embedding_[:,0],model.embedding_[:,1])"
   ]
  },
  {
   "cell_type": "markdown",
   "metadata": {},
   "source": [
    "Должно получиться, что некоторые грппы авторов формируют сгустки, которые можно считать тематическими группами авторов.\n",
    "\n",
    "Раскрасим точки следующим образом: для каждого автора выберем наиболее вероятную для него тему ($\\max_t p(t|a)$), и каждой теме сопоставим цвет. Кроме того, добавим на карту имена и фамилии авторов, это можно сделать в цикле по всем точкам с помощью функции plt.annotate, указывая метку точки первым аргументом и ее координаты в аргументе xy. Рекомендуется сделать размер изображения большим, тогда маркеры точек тоже придется увеличить (s=100 в plt.scatter). Изобразите карту авторов и сохраните в pdf-файл с помощью функции plt.savefig. \n",
    "\n",
    "Метки авторов будут пересекаться. Будет очень хорошо, если вы найдете способ, как этого можно избежать."
   ]
  },
  {
   "cell_type": "code",
   "execution_count": null,
   "metadata": {
    "collapsed": false
   },
   "outputs": [],
   "source": [
    "import matplotlib.cm as cm\n",
    "colors = cm.rainbow(np.linspace(0, 1, T)) # цвета для тем\n",
    "# Ваш код\n",
    "\n",
    "plt.figure(figsize=(15, 15))\n",
    "plt.scatter(model.embedding_[:,0],model.embedding_[:,1], c=colors[np.argmax(pta, axis=1)] , s = 100)\n",
    "for i in range(model.embedding_.shape[0]):\n",
    "    plt.annotate(phi_a.index[i], (model.embedding_[i,0], model.embedding_[i,1]))\n",
    "    \n",
    "plt.savefig('postnauka.pdf', format='pdf')"
   ]
  },
  {
   "cell_type": "markdown",
   "metadata": {},
   "source": [
    "##### Создание простого тематического навигатора по Постнауке"
   ]
  },
  {
   "cell_type": "markdown",
   "metadata": {},
   "source": [
    "Наш тематический навигатор будет для каждой темы показывать ее список слов, а также список релевантных теме документов. \n",
    "\n",
    "Нам понадобятся распределения $p(d|t)$. По формуле Байеса $p(d|t) = \\frac{p(t|d)p(d)}{\\sum_{d'}p(t|d')p(d')}$, но поскольку мы считаем документы равновероятными, достаточно разделить каждую строку $\\Theta$ на ее сумму, чтобы оценить распределение. \n",
    "\n",
    "Отсортируйте матрицу $p(d|t)$ по убыванию $p(d|t)$ в каждой теме (то есть построчно). Нам понадобятся индексы наиболее вероятных документов в каждой теме, поэтому используйте функцию argmax."
   ]
  },
  {
   "cell_type": "code",
   "execution_count": null,
   "metadata": {
    "collapsed": false
   },
   "outputs": [],
   "source": [
    "# Ваш код\n",
    "doc = theta / np.sum(theta)\n",
    "doc_ind = (np.array(doc)).argsort(axis = 1)"
   ]
  },
  {
   "cell_type": "markdown",
   "metadata": {},
   "source": [
    "Создавать навигатор мы будем прямо в jupiter notebook: это возможно благодаря тому факту, что при печати ссылки она автоматически превращается в гиперссылку."
   ]
  },
  {
   "cell_type": "code",
   "execution_count": null,
   "metadata": {
    "collapsed": false
   },
   "outputs": [],
   "source": [
    "print(\"http://yandex.ru\")   # получится кликабельная ссылка"
   ]
  },
  {
   "cell_type": "markdown",
   "metadata": {},
   "source": [
    "Кроме того, подключив модуль [ipython.core.display](https://ipython.org/ipython-doc/2/api/generated/IPython.core.display.html), можно использовать html-разметку в выводе. Например:"
   ]
  },
  {
   "cell_type": "code",
   "execution_count": null,
   "metadata": {
    "collapsed": false
   },
   "outputs": [],
   "source": [
    "from IPython.core.display import display, HTML\n",
    "display(HTML(u\"<h1>Заголовок</h1>\"))   # также <h2>, <h3>\n",
    "display(HTML(u\"<ul><li>Пункт 1</li><li>Пункт 2</li></ul>\"))\n",
    "display(HTML(u'<font color=\"green\">Зеленый!</font>'))\n",
    "display(HTML(u'<a href=\"http://yandex.ru\">Еще один вариант вывода ссылки</a>'))"
   ]
  },
  {
   "cell_type": "markdown",
   "metadata": {},
   "source": [
    "В цикле для каждой темы выведите ее заголовок, в следующей строке - топ-10 слов темы, затем в виде списка ссылки на 10 наиболее релевантных (по $p(d|t)$) теме документов. Используйте html-разметку. Творчество приветствуется :)"
   ]
  },
  {
   "cell_type": "code",
   "execution_count": null,
   "metadata": {
    "collapsed": false
   },
   "outputs": [],
   "source": [
    "# Ваш код\n",
    "for i in range(len(model_artm.topic_names)):\n",
    "    topic_name = model_artm.topic_names[i]\n",
    "    display(HTML(\"<h1>\" + topic_labels[i] + \"</h1>\"))\n",
    "    tokens = model_artm.score_tracker[\"score_text\"].last_tokens\n",
    "    for j in range(0,10):\n",
    "        display(HTML('<font color=\"green\">' + tokens[topic_name][j] + '</font>'))\n",
    "    for k in range(1,11):\n",
    "        print(doc.columns[doc_ind[i][-k]])"
   ]
  },
  {
   "cell_type": "markdown",
   "metadata": {},
   "source": [
    "##### Заключение"
   ]
  },
  {
   "cell_type": "markdown",
   "metadata": {},
   "source": [
    "В этом Peer Review мы познакомились с базовыми возможностями библиотеки BigARTM и с методами визуализации тематических моделей. Визуализация тематических моделей - это широкая и активно развивающаяся область научных исследований. Мы рассмотрели только самые простые приемы. Желающие могут попробовать применить [Serendip](http://vep.cs.wisc.edu/serendip/#serendipHero), разработанный в  University of Wisconsin-Madison, к построенной модели. Эта библиотека позволяет максимально полно охарактеризовать темы и написана для языка python. \n",
    "\n",
    "Сделав задание, вы можете выбрать в навигаторе наиболее интересную для вас тему и посмотреть видеолекции :) На Постнауке очень много интересных материалов. "
   ]
  }
 ],
 "metadata": {
  "anaconda-cloud": {},
  "kernelspec": {
   "display_name": "Python 2",
   "language": "python",
   "name": "python2"
  },
  "language_info": {
   "codemirror_mode": {
    "name": "ipython",
    "version": 2
   },
   "file_extension": ".py",
   "mimetype": "text/x-python",
   "name": "python",
   "nbconvert_exporter": "python",
   "pygments_lexer": "ipython2",
   "version": "2.7.13"
  }
 },
 "nbformat": 4,
 "nbformat_minor": 0
}
