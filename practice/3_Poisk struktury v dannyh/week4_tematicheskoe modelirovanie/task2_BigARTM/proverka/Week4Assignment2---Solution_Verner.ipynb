{
 "cells": [
  {
   "cell_type": "markdown",
   "metadata": {},
   "source": [
    "# Тематическая модель [Постнауки](http://postnauka.ru)\n",
    "## Peer Review (optional)"
   ]
  },
  {
   "cell_type": "markdown",
   "metadata": {},
   "source": [
    "В этом задании мы применим аппарат тематического моделирования к коллекции текстовых записей видеолекций, скачанных с сайта Постнаука. Мы будем визуализировать модель и создавать прототип тематического навигатора по коллекции. В коллекции 1728 документов, размер словаря - 38467 слов. Слова лемматизированы, то есть приведены к начальной форме, с помощью программы [mystem](https://tech.yandex.ru/mystem/), коллекция сохранена в [формате vowpal wabbit](http://docs.bigartm.org/en/latest/formats.html). В каждой строке до первой черты записана информация о документе (ссылка на страницу с лекцией), после первой черты следует описание документа. Используются две модальности - текстовая (\"text\") и модальность авторов (\"author\"); у каждого документа один автор."
   ]
  },
  {
   "cell_type": "markdown",
   "metadata": {},
   "source": [
    "Для выполнения задания понадобится библиотека [BigARTM](http://docs.bigartm.org). В демонстрации показан пример использования библиотеки версии 0.7.4, на сайте предлагается скачивать версию 0.8.0. В новой версии изменены принципы работы со словарями: они вынесены в отдельный класс (пример в [Release Notes](http://docs.bigartm.org/en/stable/release_notes/python.html)). Строить модель и извлекать ее параметры нужно так же, как показано в демонстрации. Вы можете использовать [предыдущий релиз](http://bigartm.readthedocs.io/en/v0.7.6/download.html) или [новый релиз](http://docs.bigartm.org/en/latest/download.html) на ваше усмотрение.\n",
    "\n",
    "Спецификации всех функций вы можете смотреть на странице [Python API](http://bigartm.readthedocs.io/en/stable/api_references/python_interface/artm_model.html)."
   ]
  },
  {
   "cell_type": "code",
   "execution_count": 1,
   "metadata": {
    "collapsed": true
   },
   "outputs": [],
   "source": [
    "import artm"
   ]
  },
  {
   "cell_type": "code",
   "execution_count": 2,
   "metadata": {
    "collapsed": true
   },
   "outputs": [],
   "source": [
    "from matplotlib import pyplot as plt\n",
    "import seaborn\n",
    "%matplotlib inline\n",
    "seaborn.set_style(\"whitegrid\", {'axes.grid' : False})"
   ]
  },
  {
   "cell_type": "code",
   "execution_count": 3,
   "metadata": {
    "collapsed": true
   },
   "outputs": [],
   "source": [
    "import numpy as np\n",
    "import pandas as pd"
   ]
  },
  {
   "cell_type": "markdown",
   "metadata": {},
   "source": [
    "##### Считывание данных"
   ]
  },
  {
   "cell_type": "markdown",
   "metadata": {},
   "source": [
    "Создайте объект класса artm.BatchVectorizer, который будет ссылаться на директорию с пакетами данных (батчами). Чтобы библиотека могла преобразовать текстовый файл в батчи, создайте пустую директорию и укажите ее название в параметре target_folder. Размер батча для небольших коллекций (как наша) не важен, вы можете указать любой."
   ]
  },
  {
   "cell_type": "code",
   "execution_count": 4,
   "metadata": {
    "collapsed": true
   },
   "outputs": [],
   "source": [
    "# Ваш код\n",
    "batch_vectorizer = artm.BatchVectorizer(data_path=\"lectures.txt\", \n",
    "                                        data_format=\"vowpal_wabbit\", \n",
    "                                        target_folder=\"lectures_batches\", \n",
    "                                        batch_size=100)"
   ]
  },
  {
   "cell_type": "raw",
   "metadata": {},
   "source": [
    "# для повторного считывания\n",
    "batch_vectorizer = artm.BatchVectorizer(data_path='lectures_batches', data_format='batches')"
   ]
  },
  {
   "cell_type": "markdown",
   "metadata": {},
   "source": [
    "##### Инициализация модели"
   ]
  },
  {
   "cell_type": "markdown",
   "metadata": {},
   "source": [
    "Создайте объект класса artm.Model с 30 темами, именами тем, указанными ниже и единичными весами обеих модальностей. Количество тем выбрано не очень большим, чтобы вам было удобнее работать с темами. На этой коллекции можно строить и большее число тем, тогда они будут более узко специализированы."
   ]
  },
  {
   "cell_type": "code",
   "execution_count": 5,
   "metadata": {
    "collapsed": true
   },
   "outputs": [],
   "source": [
    "T = 30   # количество тем\n",
    "topic_names=[\"sbj\"+str(i) for i in range(T-1)]+[\"bcg\"]\n",
    "# Ваш код\n",
    "model_artm = artm.ARTM(num_topics=T, \n",
    "                       topic_names=topic_names, \n",
    "                       class_ids={\"text\":1, \"author\":1},\n",
    "                       num_document_passes=1, \n",
    "                       reuse_theta=True, \n",
    "                       cache_theta=True, \n",
    "                       seed=1)\n",
    "# число после названия модальностей - это их веса"
   ]
  },
  {
   "cell_type": "code",
   "execution_count": 6,
   "metadata": {
    "collapsed": false
   },
   "outputs": [
    {
     "name": "stdout",
     "output_type": "stream",
     "text": [
      "artm.ARTM(num_topics=30, num_tokens=None, class_ids=['text', 'author'])\n"
     ]
    }
   ],
   "source": [
    "print(model_artm)"
   ]
  },
  {
   "cell_type": "markdown",
   "metadata": {},
   "source": [
    "Мы будем строить 29 предметных тем и одну фоновую. \n",
    "\n",
    "Соберите словарь с помощью метода gather_dictionary и инициализируйте модель, указав random_seed=1. Обязательно укажите свое название словаря, оно понадобится при добавлении регуляризаторов."
   ]
  },
  {
   "cell_type": "code",
   "execution_count": 7,
   "metadata": {
    "collapsed": true
   },
   "outputs": [],
   "source": [
    "# Ваш код\n",
    "#np.random.seed(1)  #похоже, это не очень нужно, уже учтено в предыдущем\n",
    "dictionary = artm.Dictionary('dictionary')\n",
    "dictionary.gather(batch_vectorizer.data_path)\n",
    "model_artm.initialize('dictionary')"
   ]
  },
  {
   "cell_type": "markdown",
   "metadata": {},
   "source": [
    "##### Добавление score"
   ]
  },
  {
   "cell_type": "markdown",
   "metadata": {},
   "source": [
    "Создайте два измерителя качества artm.TopTokensScore - по одному для каждой модальности; количество токенов 15. Названия для score придумайте самостоятельно."
   ]
  },
  {
   "cell_type": "code",
   "execution_count": 8,
   "metadata": {
    "collapsed": true
   },
   "outputs": [],
   "source": [
    "# Ваш код\n",
    "model_artm.scores.add(artm.TopTokensScore(name=\"top_words_text\", num_tokens=15, class_id=\"text\"))\n",
    "model_artm.scores.add(artm.TopTokensScore(name=\"top_words_author\", num_tokens=15, class_id=\"author\"))"
   ]
  },
  {
   "cell_type": "markdown",
   "metadata": {},
   "source": [
    "##### Построение модели"
   ]
  },
  {
   "cell_type": "markdown",
   "metadata": {},
   "source": [
    "Мы будем строить модель в два этапа: сначала добавим сглаживающий регуляризатор фоновой темы и настроим параметры модели, затем - добавим разреживающий регуляризатор предметрых тем и выполним еще несколько итераций. Так мы сможем получить наиболее чистые от фоновых слов предметные темы. Сглаживающий и разреживающий регуляризаторы задаются одним и тем же классом artm.SmoothSparsePhiRegularizer: если коэффициент tau положительный, то регуляризатор будет сглаживающий, если отрицательный - разреживающий.\n",
    "\n",
    "Если вы хотите подробнее разобраться, как выполняется регуляризация тематической модели в BigARTM, вы можете прочитать [статью](https://s3-eu-west-1.amazonaws.com/artm/voron-potap14artm-rus.pdf), раздел 4."
   ]
  },
  {
   "cell_type": "markdown",
   "metadata": {},
   "source": [
    "Добавьте сглаживающий регуляризатор с коэффициентом tau = 1e5, указав название своего словаря в dictionary, модальность текста в class_ids и тему \"bcg\" в topic_names."
   ]
  },
  {
   "cell_type": "code",
   "execution_count": 9,
   "metadata": {
    "collapsed": true
   },
   "outputs": [],
   "source": [
    "# Ваш код\n",
    "model_artm.regularizers.add(\n",
    "    artm.SmoothSparsePhiRegularizer(\n",
    "        name='SmoothPhi', \n",
    "        tau=1e5, \n",
    "        dictionary=dictionary, \n",
    "        class_ids=[\"text\"], \n",
    "        topic_names=\"bcg\"), \n",
    "    overwrite=True)"
   ]
  },
  {
   "cell_type": "markdown",
   "metadata": {},
   "source": [
    "Выполните 30 итераций по коллекции (num_collection_passes), количество внутренних итераций установите равным 1. Используйте метод fit_offline модели."
   ]
  },
  {
   "cell_type": "code",
   "execution_count": 10,
   "metadata": {
    "collapsed": false
   },
   "outputs": [
    {
     "name": "stdout",
     "output_type": "stream",
     "text": [
      "Wall time: 25.3 s\n"
     ]
    }
   ],
   "source": [
    "%%time\n",
    "# Ваш код\n",
    "model_artm.fit_offline(batch_vectorizer=batch_vectorizer, num_collection_passes=30)"
   ]
  },
  {
   "cell_type": "markdown",
   "metadata": {},
   "source": [
    "Добавьте разреживающий регуляризатор с коэффициентом tau=-1e5, указав название своего словаря, модальность текста в class_ids и все темы \"sbjX\" в topic_names."
   ]
  },
  {
   "cell_type": "code",
   "execution_count": 11,
   "metadata": {
    "collapsed": true
   },
   "outputs": [],
   "source": [
    "# Ваш код\n",
    "model_artm.regularizers.add(\n",
    "    artm.SmoothSparsePhiRegularizer(\n",
    "        name='SparsePhi', \n",
    "        tau=-1e5, \n",
    "        dictionary=dictionary, \n",
    "        class_ids=[\"text\"], \n",
    "        topic_names=topic_names[:-1]), \n",
    "    overwrite=True)"
   ]
  },
  {
   "cell_type": "markdown",
   "metadata": {},
   "source": [
    "Выполните еще 15 проходов по коллекции."
   ]
  },
  {
   "cell_type": "code",
   "execution_count": 12,
   "metadata": {
    "collapsed": false
   },
   "outputs": [
    {
     "name": "stdout",
     "output_type": "stream",
     "text": [
      "Wall time: 14.5 s\n"
     ]
    }
   ],
   "source": [
    "%%time\n",
    "# Ваш код\n",
    "model_artm.fit_offline(batch_vectorizer=batch_vectorizer, num_collection_passes=15)"
   ]
  },
  {
   "cell_type": "markdown",
   "metadata": {},
   "source": [
    "##### Интерпретация тем"
   ]
  },
  {
   "cell_type": "markdown",
   "metadata": {},
   "source": [
    "Используя созданные score, выведите топы слов и топы авторов в темах. Удобнее всего выводить топ слов каждой темы с новой строки, указывая название темы в начале строки, и аналогично с авторами."
   ]
  },
  {
   "cell_type": "code",
   "execution_count": 13,
   "metadata": {
    "collapsed": false
   },
   "outputs": [
    {
     "name": "stdout",
     "output_type": "stream",
     "text": [
      "sbj0: \n",
      "частица взаимодействие физика кварк симметрия элементарный нейтрино стандартный материя протон бозон заряд масса ускоритель слабый\n",
      "Дмитрий_Казаков Михаил_Данилов Сергей_Майоров Виктор_Брагута Павел_Пахлов Игорь_Волобуев Валерий_Рубаков Сергей_Троицкий Лев_Дудко Лев_Беклемишев Анатолий_Лиходед Эдуард_Боос Дэвид_Гросс Сергей_Гашков Жан-Арыс_Джилкибаев\n",
      "\n",
      "sbj1: \n",
      "материал температура структура вещество химический соединение свойство поверхность химия давление углерод сверхпроводимость металл применение полимер\n",
      "Артем_Оганов Валерий_Фокин Дмитрий_Паращук Валентин_Ненайденко Евгений_Гудилин Владимир_Пудалов Дмитрий_Гольберг Валентин_Крапошин Иван_Сорокин Наталья_Берлофф Дмитрий_Клинов Сергей_Морозов Евгений_Антипов Вадим_Бражкин Владимир_Комлев\n",
      "\n",
      "sbj2: \n",
      "политический государство политика царь партия власть правитель враг сага кризис ритуал шмитт государь средневековый египетский\n",
      "Алексей_Юдин Михаил_Бойцов Дина_Гусейнова Иван_Ладынин Андрей_Лукашов Татьяна_Смоктунович Зоригто_Намсараев Владимир_Малахов Кирилл_Мартынов Руслан_Хестанов Ольга_Тогоева Фёдор_Успенский Юрий_Рогулёв Владимир_Кузнецов Александр_Филиппов\n",
      "\n",
      "sbj3: \n",
      "знание университет образование школа предмет восприятие познание факультет аргумент студент логика кафедра прикладной концепт гумбольдт\n",
      "Виктор_Вахштайн Наталья_Ростиславлева Татьяна_Клячко Григорий_Крейдлин Максим_Демин Дмитрий_Балалыкин Сергей_Зенкин Алексей_Котов Татьяна_Котова Илья_Иткин Александр_Пиперски Елена_Брызгалина Алексей_Руткевич Мария_Фаликман Борис_Миркин\n",
      "\n",
      "sbj4: \n",
      "мозг ребенок нейрон мышление предложение категория взрослый чтение лицо синтаксический синтаксис устный обезьяна детство словосочетание\n",
      "Филипп_Хайтович Ольга_Сварник Александр_Каплан Надежда_Онипенко Мария_Майофис Катерина_Поливанова Владимир_Спиридонов Наталья_Спасская Александр_Лазуткин Вера_Подлесская Екатерина_Лютикова Жанна_Резникова Екатерина_Болтунова Мария_Полински Ирина_Секерина\n",
      "\n",
      "sbj5: \n",
      "бог миф греческий герой море мифология грек мифологический гусейнов персонаж шумерский гасан божество сущность генеалогия\n",
      "Гасан_Гусейнов Кирилл_Еськов Владимир_Емельянов Андрей_Иванцов Аскольд_Иванчик Андрей_Журавлев Григорий_Бондаренко Ольга_Тогоева Светлана_Евграфова Олег_Ауров Алексей_Козырев Александр_Воеводский Борис_Морозов Мария_Неклюдова Мария_Медникова\n",
      "\n",
      "sbj6: \n",
      "русский город текст городской перевод корпус гласный документ говор москва пьеса горожанин немецкий древнерусский метро\n",
      "Игорь_Исаев Борис_Морозов Александр_Пиперски Дмитрий_Добровольский Леонид_Иомдин Алексей_Бартошевич Ольга_Брилева Оксана_Запорожец Павел_Руднев Владимир_Кантор Илья_Виньковецкий Анастасия_Лопухина Екатерина_Ларионова Анатолий_Гершман Александр_Ватлин\n",
      "\n",
      "sbj7: \n",
      "трудность раса праздник шаман америка станислав африка тест нос монголоид дробышевский шаманский индеец сакральный задание\n",
      "Станислав_Дробышевский Александр_Поддьяков Михаил_Пантелеев Дмитрий_Жуков Валентина_Харитонова Екатерина_Ларионова Елена_Браун Мария_Медникова Григорий_Юдин Марк_Харрисон Варвара_Веденина Дмитрий_Беляев Наталья_Харламенкова Михаил_Соколов Андрей_Летаров\n",
      "\n",
      "sbj8: \n",
      "право римский правовой юрист суд юридический сон должник собственность обязательство закон владение собственник имущество исполнение\n",
      "Дмитрий_Дождев Александр_Марей Татьяна_Бобровникова Денис_Новак Дмитрий_Полдников Алексей_Шмелев Владимир_Ковальзон Михаил_Полуэктов Андрей_Глазовский Фёдор_Успенский Ольга_Вайнштейн Виктор_Задков Сергей_Неклюдов Мира_Бергельсон ПостНаука\n",
      "\n",
      "sbj9: \n",
      "болезнь заболевание пациент лечение медицина врач боль препарат медицинский иммунный операция озеро сердце диагностика нарушение\n",
      "Егор_Задереев Алексей_Алексеев Ярослав_Ашихмин Александр_Васильев Вера_Ижевская Юрий_Яшков Сергей_Румянцев Инга_Полетаева Петр_Федичев Станислав_Клименко Марина_Корсакова-Крейн Марина_Бутовская Александр_Петренко Павел_Умрюхин Рауль_Гайнетдинов\n",
      "\n",
      "sbj10: \n",
      "животное робот растение вода организм микроорганизм нервный рецептор биологический эволюция мембрана метан кислород мышца микроб\n",
      "Елизавета_Бонч-Осмоловская Дмитрий_Лось Алла_Ножевникова Александр_Марков Владимир_Муронец Дмитрий_Громов Светлана_Дедыш Николай_Пименов Светлана_Боринская Сергей_Наугольных Евгений_Магид Виктор_Цетлин Дмитрий_Сорокин Алексей_Северцов Мария_Добровольская\n",
      "\n",
      "sbj11: \n",
      "память информация когнитивный зрительный процесс запоминать психолог линзовидный воспроизводить картинка храниться мария кора хранение катастрофа\n",
      "Константин_Анохин Павел_Балабан Игорь_Уточкин Сергей_Соколовский Мира_Бергельсон Рафаэль_Арутюнян Максим_Таланов Евгений_Николаев Андрей_Коротаев Виктор_Мурогов Мария_Фаликман Галина_Зеленина Алексей_Созинов Александр_Мукасьян Ави_Лёб\n",
      "\n",
      "sbj12: \n",
      "империя германия историк церковь государственный русь святой военный российский великий князь немецкий война нация андрей\n",
      "Илья_Женин Фёдор_Успенский Игорь_Данилевский Кирилл_Кочегаров Сергей_Серёгичев Елена_Уханова Александр_Лаврентьев Андрей_Виноградов Владимир_Петрухин Ольга_Эдельман Алексей_Малашенко Екатерина_Лямина Александр_Воеводский Андрей_Кофман Ахмет_Ярлыкапов\n",
      "\n",
      "sbj13: \n",
      "наука социальный рассказывать общество понятие исторический кандидат история социология каков культурный сегодня научный сообщество современный\n",
      "Виктор_Вахштайн Виталий_Куренной Елена_Брызгалина Дмитрий_Рогозин Александр_Гофман Ольга_Артёмова Александр_Жаворонков Павел_Руднев Ольга_Малинова Сергей_Гуриев Наталья_Смолянская Сергей_Афонцев Виктор_Полтерович Владимир_Бобровников Ирина_Савельева\n",
      "\n",
      "sbj14: \n",
      "галактика планета земля звезда черный дыра масса газ атмосфера диск солнечный солнце космический расстояние скопление\n",
      "Сергей_Попов Алексей_Расторгуев Ольга_Сильченко Дмитрий_Вибе Анатолий_Засов Владимир_Сурдин Дмитрий_Титов Алексей_Старобинский Александр_Шацкий Наталья_Новикова Роман_Рафиков Сергей_Писарев Александр_Слободкин Валерий_Рубаков Сергей_Таскаев\n",
      "\n",
      "sbj15: \n",
      "решение экономический экономика деньги компания принятие ценность международный выбор ресурс рынок экономист безопасность эффективность доверие\n",
      "Фуад_Алескеров Алексей_Белянин Александр_Аузан Владимир_Гимпельсон Алексей_Кондрашов Александр_Тормасов Василий_Ключарев Антон_Суворов Ксения_Паниди Джу_Йонг_Ли Эрик_Мэскин Сергей_Зыков Константин_Воронцов Анна_Севортьян Григорий_Юдин\n",
      "\n",
      "sbj16: \n",
      "человек поведение психология психологический эмоция конфликт мужчина коллективный эмоциональный способность женщина ощущение родитель психический идентичность\n",
      "Михаил_Соколов Наталья_Харламенкова Мария_Падун Ольга_Гулевич Наталья_Кисельникова Махзарин_Банаджи Владимир_Спиридонов Александр_Войскунский Арсений_Хитров Татьяна_Котова Максим_Киселев Дмитрий_Куракин Ольга_Исупова Екатерина_Щербакова Александр_Жданов\n",
      "\n",
      "sbj17: \n",
      "задача данные компьютер сеть программа компьютерный алгоритм интеллект интернет искусственный ошибка обучение вычислительный пользователь разработка\n",
      "Михаил_Бурцев Александр_Беленький Александр_Сафонов Илья_Шкредов Станислав_Протасов Дмитрий_Ветров Даниэль_Сельва Макс_Тегмарк Сезар_Идальго Григорий_Кабатянский Михаил_Киселев Петр_Дружинин Лайман_Пейдж Мэтью_Басс Арчил_Балахванцев\n",
      "\n",
      "sbj18: \n",
      "территория словарь восток древний письменность народ китай северный памятник восточный китайский южный письмо население регион\n",
      "Дмитрий_Беляев Кирилл_Бабаев Георгий_Старостин Марк_Ульянов Анна_Дыбо Дмитрий_Худяков Алексей_Лебедев Сергей_Арутюнов Леонид_Григорьев Борис_Иомдин Евгений_Рогожин Галина_Зеленина Александр_Мещеряков Светлана_Кузнецова Галина_Ершова\n",
      "\n",
      "sbj19: \n",
      "клетка ген днк белок организм молекула генетический геном бактерия рнк мутация молекулярный ткань биологический вирус\n",
      "Евгений_Шеваль Константин_Северинов Максим_Франк-Каменецкий Антон_Буздин Сергей_Киселев Петр_Федичев Андрей_Летаров Сергей_Науменко Александр_Апт Иван_Воробьев Евгений_Куликов Александр_Габибов Роман_Ефремов Сергей_Саложин Ричард_Янг\n",
      "\n",
      "sbj20: \n",
      "энергия квантовый поле магнитный атом электрон свет волна эффект фотон измерение оптический физико-математический ток частота\n",
      "Владимир_Белотелов Алексей_Рубцов Алексей_Акимов Михаил_Киселев Владимир_Мележик Юджин_Ползик Андрей_Савельев-Трофимов Руслан_Смелянский Сергей_Демокритов Пётр_Турчин Владимир_Шалаев Алексей_Желтиков Александр_Львовский Владимир_Кузнецов Виталий_Пальчиков\n",
      "\n",
      "sbj21: \n",
      "культура философия философский философ автор женщина произведение платон роман писать религиозный идеология жанр мысль поэт\n",
      "Алексей_Козырев Иван_Болдырев Сергей_Неклюдов Александр_Павлов Александр_Доброхотов Александра_Архипова Петр_Резвых Алексей_Руткевич Мария_Неклюдова Дина_Гусейнова Дмитрий_Иванов Андрей_Кофман Катерина_Поливанова Ольга_Вайнштейн Сергей_Зенкин\n",
      "\n",
      "sbj22: \n",
      "революция власть король французский реформа петр франция против сталин император народ крестьянин террор диктатура смерть\n",
      "Александр_Марей Дмитрий_Бовыкин Павел_Уваров Кирилл_Соловьев Алина_Бодрова Олег_Мельник Игорь_Курукин Олег_Хлевнюк Дмитрий_Дагаев Екатерина_Лямина Ольга_Вайнштейн Илья_Иткин Борис_Колоницкий Алексей_Руткевич Илья_Кукулин\n",
      "\n",
      "sbj23: \n",
      "советский россия война мировой гражданский песня союз обряд екатерина самка ссср самец эмиграция большевик армия\n",
      "Олег_Будницкий Вера_Мильчина Ирина_Бёме Анна_Соколова Варвара_Веденина Борис_Колоницкий Людмила_Новикова Илья_Кукулин Михаил_Бойцов Архат_Абжанов Пол_Грегори Марк_Харрисон Эдуард_Пройдаков Олег_Ауров Андрей_Журавлев\n",
      "\n",
      "sbj24: \n",
      "язык христианский литературный литература лингвист христианство глагол филологический лингвистика языковой грамматика христианин арабский падеж английский\n",
      "Алексей_Муравьёв Владимир_Плунгян Олег_Воскобойников Андрей_Кибрик Мария_Штейнман Олег_Лекманов Владимир_Беликов Петр_Аркадьев Светлана_Бурлак Максим_Кронгауз Нина_Сумбатова Илья_Иткин Варвара_Добровольская Евгений_Зуев Ирина_Левонтина\n",
      "\n",
      "sbj25: \n",
      "теория пространство математический описывать уравнение матрица теоретический математика описание эйнштейн относительность линейный параметр механика геометрия\n",
      "Эмиль_Ахмедов Илья_Щуров Алексей_Семихатов Андрей_Лосев Иван_Оселедец Павел_Лушников Владимир_Редько Армен_Сергеев Владимир_Каганский Елена_Гороховская Игорь_Петров Сергей_Нечаев Виктор_Авдеев Сергей_Ландо Александра_Скрипченко\n",
      "\n",
      "sbj26: \n",
      "внимание костюм коллективизация фразеологизм скелет сочетание банк термоэлектрический порнография финансовый фрейм воображение актер долг чувствительность\n",
      "Раиса_Кирсанова Сергей_Пекарский Сергей_Бобылев Александр_Дьяконов Светлана_Евграфова Алексей_Чжао Андрей_Журавлев Андрей_Шевельков Денис_Загарин Игорь_Чубаров Григорий_Крейдлин Александр_Пиперски Жанна_Резникова Борис_Миркин Мария_Фаликман\n",
      "\n",
      "sbj27: \n",
      "звезда вселенная объект излучение белый нейтронный карлик спектр вещество телескоп измерять рентгеновский небо реликтовый сверхновый\n",
      "Сергей_Попов Анатолий_Засов Валерий_Сулейманов Михаил_Ревнивцев Дмитрий_Горбунов Олег_Верходанов Виктория_Битюкова Сергей_Блинников Александр_Потехин Антон_Бирюков Эрик_Мазур Алексей_Шмелев Сергей_Шишкин Мел_Сигел Уолтер_Льюин\n",
      "\n",
      "sbj28: \n",
      "фильм роль свобода кино кинематограф культовый академия академический профессор бердяев отделение классика актер играть вечный\n",
      "Александр_Павлов Ивар_Максутов Светлана_Баньковская Павел_Соколов Николай_Плотников Юлия_Краус Елизавета_Ривкина Михаил_Эпштейн Александр_Парфенов Антон_Бернс Мария_Шутова Екатерина_Щербакова Елена_Вишленкова Владимир_Каганский Александр_Шварцбург\n",
      "\n",
      "bcg: \n",
      "быть что это который этот как они мочь такой очень для или тот один весь\n",
      "Мария_Фаликман Гасан_Гусейнов Михаил_Гельфанд Кирилл_Титаев ПостНаука Олег_Хлевнюк Кирилл_Мартынов Михаил_Алексеевский Александр_Филиппов Михаил_Маяцкий Дмитрий_Беляев Сергей_Неклюдов Алексей_Миллер Алексей_Маслов Андрей_Зорин\n",
      "\n"
     ]
    }
   ],
   "source": [
    "# Ваш код\n",
    "for topic_name in model_artm.topic_names:\n",
    "    print (topic_name + ': ',)\n",
    "    tokens_text = model_artm.score_tracker[\"top_words_text\"].last_tokens\n",
    "    tokens_author = model_artm.score_tracker[\"top_words_author\"].last_tokens\n",
    "    print (\" \".join(tokens_text[topic_name]))\n",
    "    print (\" \".join(tokens_author[topic_name]))\n",
    "    print()"
   ]
  },
  {
   "cell_type": "markdown",
   "metadata": {},
   "source": [
    "В последней теме \"bcg\" должны находиться общеупотребительные слова.\n",
    "\n",
    "Важный шаг в работе с тематической моделью, когда речь идет о визуализации или создании тематического навигатора, это именование тем. Понять, о чем каждая тема, можно по списку ее топовых слов. Например, тему\n",
    "    \n",
    "    частица взаимодействие физика кварк симметрия элементарный нейтрино стандартный материя протон бозон заряд масса ускоритель слабый\n",
    "    \n",
    "можно назвать \"Физика элементарных частиц\". \n",
    "\n",
    "Дайте названия 29 предметным темам. Если вы не знаете, как назвать тему, назовите ее первым встретившимся в ней существительным, хотя при таком подходе навигатор будет менее информативным. Из названий тем составьте список из 29 строк и запишите его в переменную sbj_topic_labels. В переменной topic_labels будут храниться названия всех тем, включая фоновую."
   ]
  },
  {
   "cell_type": "code",
   "execution_count": 14,
   "metadata": {
    "collapsed": true
   },
   "outputs": [],
   "source": [
    "sbj_topic_labels = [\n",
    "   u\"физика элементарных частиц\",\n",
    "   u\"материаловедение\", \n",
    "   u\"политика\", \n",
    "   u\"университет\", \n",
    "   u\"мозг\", \n",
    "   u\"мифы\", \n",
    "   u\"текстология\", \n",
    "   u\"расы\", \n",
    "   u\"право\", \n",
    "   u\"медицина\", \n",
    "   u\"эволюция\", \n",
    "   u\"память\", \n",
    "   u\"история\", \n",
    "   u\"обществоведение\", \n",
    "   u\"астрофизика\", \n",
    "   u\"экономика\", \n",
    "   u\"психология\", \n",
    "   u\"кибернетика\", \n",
    "   u\"востоковедение\", \n",
    "   u\"генетика\", \n",
    "   u\"квантовая динамика\", \n",
    "   u\"философия\", \n",
    "   u\"французская революция\", \n",
    "   u\"история России\", \n",
    "   u\"лингвистика\", \n",
    "   u\"теория относительности\", \n",
    "   u\"киноискусство\", \n",
    "   u\"астрономия\", \n",
    "   u\"кино\"\n",
    "]\n",
    "# запишите названия тем в список\n",
    "topic_labels = sbj_topic_labels + [u\"Фоновая тема\"]"
   ]
  },
  {
   "cell_type": "markdown",
   "metadata": {},
   "source": [
    "##### Анализ тем"
   ]
  },
  {
   "cell_type": "markdown",
   "metadata": {},
   "source": [
    "Далее мы будем работать с распределениями тем в документах (матрица $\\Theta$) и авторов в темах (одна из двух матриц $\\Phi$, соответствующая модальности авторов). \n",
    "Создайте переменные, содержащие две этих матрицы, с помощью методов get_phi и get_theta модели. Назовите переменные theta и phi_a. Выведите формы обеих матриц, чтобы понять, по каким осям стоят темы."
   ]
  },
  {
   "cell_type": "code",
   "execution_count": 15,
   "metadata": {
    "collapsed": false
   },
   "outputs": [
    {
     "name": "stdout",
     "output_type": "stream",
     "text": [
      "(30, 1728) (539, 30)\n"
     ]
    }
   ],
   "source": [
    "model_artm.theta_columns_naming = \"title\" # включает именование столбцов Theta их названиями-ссылками, а не внутренними id \n",
    "# Ваш код\n",
    "\n",
    "theta = model_artm.get_theta()\n",
    "phi_a = model_artm.get_phi(class_ids=[\"author\"])\n",
    "\n",
    "print (theta.shape, phi_a.shape)"
   ]
  },
  {
   "cell_type": "markdown",
   "metadata": {},
   "source": [
    "Визуализируем фрагмент матрицы $\\Theta$ - первые 100 документов (это наиболее простой способ визуально оценить, как темы распределяются в документах). С помощью метода seaborn.heatmap выведите фрагмент theta как изображение. Рекомендация: создайте фигуру pyplot размера (20, 10)."
   ]
  },
  {
   "cell_type": "code",
   "execution_count": 16,
   "metadata": {
    "collapsed": false
   },
   "outputs": [
    {
     "name": "stderr",
     "output_type": "stream",
     "text": [
      "D:\\Dev\\Anaconda3\\lib\\site-packages\\seaborn\\matrix.py:143: DeprecationWarning: elementwise == comparison failed; this will raise an error in the future.\n",
      "  if xticklabels == []:\n"
     ]
    },
    {
     "data": {
      "text/plain": [
       "<matplotlib.axes._subplots.AxesSubplot at 0x2876250a3c8>"
      ]
     },
     "execution_count": 16,
     "metadata": {},
     "output_type": "execute_result"
    },
    {
     "data": {
      "image/png": "[encoded data removed]",
      "text/plain": [
       "<matplotlib.figure.Figure at 0x28761d4d898>"
      ]
     },
     "metadata": {},
     "output_type": "display_data"
    }
   ],
   "source": [
    "# Ваш код\n",
    "plt.figure(figsize=(20, 10))\n",
    "seaborn.heatmap(theta.iloc[:,:100])"
   ]
  },
  {
   "cell_type": "markdown",
   "metadata": {},
   "source": [
    "Вы должны увидеть, что фоновая тема имеет большую вероятность в почти каждом документе, и это логично. Кроме того, есть еще одна тема, которая чаще других встречается в документах. Судя по всему, это тема содержит много слов по науку в целом, а каждый документ (видео) в нашей коллекции связан с наукой. Можно (необязательно) дать этой теме название \"Наука\".\n",
    "\n",
    "Помимо этих двух тем, фоновой и общенаучной, каждый документ характеризуется малым числом других тем."
   ]
  },
  {
   "cell_type": "markdown",
   "metadata": {},
   "source": [
    "Оценим $p(t)$ - долю каждой темы во всей коллекции. По формуле полной вероятности вычислять эти величины нужно как\n",
    "$p(t) = \\sum_d p(t|d) p(d)$. Согласно вероятностной модели, $p(d)$ пропорционально длине документа d. Поступим проще: будем полагать, что все документы равновероятны. Тогда оценить $p(t)$ можно, просуммировав $p(t|d)$ по всем документам, а затем разделив полученный вектор на его сумму. \n",
    "\n",
    "Создайте переменную-датафрейм с T строками, индексированными названиями тем, и 1 столбцом, содержащим оценки $p(t)$. Выведите датафрейм на печать."
   ]
  },
  {
   "cell_type": "code",
   "execution_count": 17,
   "metadata": {
    "collapsed": true
   },
   "outputs": [],
   "source": [
    "# Ваш код\n",
    "pt = pd.DataFrame(theta.sum(axis=1).values / (theta.sum(axis=1).sum()), index=topic_labels, columns=['pt'])"
   ]
  },
  {
   "cell_type": "markdown",
   "metadata": {},
   "source": [
    "ПРИМЕЧАНИЕ: в следующих 2-х ячейках маленькое исследование относительно расчета $p(d)$"
   ]
  },
  {
   "cell_type": "code",
   "execution_count": 18,
   "metadata": {
    "collapsed": false
   },
   "outputs": [
    {
     "data": {
      "text/plain": [
       "1728"
      ]
     },
     "execution_count": 18,
     "metadata": {},
     "output_type": "execute_result"
    }
   ],
   "source": [
    "theta.shape[1]"
   ]
  },
  {
   "cell_type": "code",
   "execution_count": 19,
   "metadata": {
    "collapsed": false
   },
   "outputs": [
    {
     "data": {
      "text/plain": [
       "1728.0"
      ]
     },
     "execution_count": 19,
     "metadata": {},
     "output_type": "execute_result"
    }
   ],
   "source": [
    "theta.sum(axis=1).sum()"
   ]
  },
  {
   "cell_type": "code",
   "execution_count": 20,
   "metadata": {
    "collapsed": false
   },
   "outputs": [
    {
     "data": {
      "text/html": [
       "<div>\n",
       "<style>\n",
       "    .dataframe thead tr:only-child th {\n",
       "        text-align: right;\n",
       "    }\n",
       "\n",
       "    .dataframe thead th {\n",
       "        text-align: left;\n",
       "    }\n",
       "\n",
       "    .dataframe tbody tr th {\n",
       "        vertical-align: top;\n",
       "    }\n",
       "</style>\n",
       "<table border=\"1\" class=\"dataframe\">\n",
       "  <thead>\n",
       "    <tr style=\"text-align: right;\">\n",
       "      <th></th>\n",
       "      <th>pt</th>\n",
       "    </tr>\n",
       "  </thead>\n",
       "  <tbody>\n",
       "    <tr>\n",
       "      <th>физика элементарных частиц</th>\n",
       "      <td>0.009686</td>\n",
       "    </tr>\n",
       "    <tr>\n",
       "      <th>материаловедение</th>\n",
       "      <td>0.014893</td>\n",
       "    </tr>\n",
       "    <tr>\n",
       "      <th>политика</th>\n",
       "      <td>0.009873</td>\n",
       "    </tr>\n",
       "    <tr>\n",
       "      <th>университет</th>\n",
       "      <td>0.006383</td>\n",
       "    </tr>\n",
       "    <tr>\n",
       "      <th>мозг</th>\n",
       "      <td>0.006586</td>\n",
       "    </tr>\n",
       "    <tr>\n",
       "      <th>мифы</th>\n",
       "      <td>0.006362</td>\n",
       "    </tr>\n",
       "    <tr>\n",
       "      <th>текстология</th>\n",
       "      <td>0.007619</td>\n",
       "    </tr>\n",
       "    <tr>\n",
       "      <th>расы</th>\n",
       "      <td>0.004716</td>\n",
       "    </tr>\n",
       "    <tr>\n",
       "      <th>право</th>\n",
       "      <td>0.008080</td>\n",
       "    </tr>\n",
       "    <tr>\n",
       "      <th>медицина</th>\n",
       "      <td>0.010677</td>\n",
       "    </tr>\n",
       "    <tr>\n",
       "      <th>эволюция</th>\n",
       "      <td>0.015114</td>\n",
       "    </tr>\n",
       "    <tr>\n",
       "      <th>память</th>\n",
       "      <td>0.005467</td>\n",
       "    </tr>\n",
       "    <tr>\n",
       "      <th>история</th>\n",
       "      <td>0.014789</td>\n",
       "    </tr>\n",
       "    <tr>\n",
       "      <th>обществоведение</th>\n",
       "      <td>0.049598</td>\n",
       "    </tr>\n",
       "    <tr>\n",
       "      <th>астрофизика</th>\n",
       "      <td>0.015007</td>\n",
       "    </tr>\n",
       "    <tr>\n",
       "      <th>экономика</th>\n",
       "      <td>0.008713</td>\n",
       "    </tr>\n",
       "    <tr>\n",
       "      <th>психология</th>\n",
       "      <td>0.010782</td>\n",
       "    </tr>\n",
       "    <tr>\n",
       "      <th>кибернетика</th>\n",
       "      <td>0.009540</td>\n",
       "    </tr>\n",
       "    <tr>\n",
       "      <th>востоковедение</th>\n",
       "      <td>0.014706</td>\n",
       "    </tr>\n",
       "    <tr>\n",
       "      <th>генетика</th>\n",
       "      <td>0.021599</td>\n",
       "    </tr>\n",
       "    <tr>\n",
       "      <th>квантовая динамика</th>\n",
       "      <td>0.016723</td>\n",
       "    </tr>\n",
       "    <tr>\n",
       "      <th>философия</th>\n",
       "      <td>0.014667</td>\n",
       "    </tr>\n",
       "    <tr>\n",
       "      <th>французская революция</th>\n",
       "      <td>0.008557</td>\n",
       "    </tr>\n",
       "    <tr>\n",
       "      <th>история России</th>\n",
       "      <td>0.006300</td>\n",
       "    </tr>\n",
       "    <tr>\n",
       "      <th>лингвистика</th>\n",
       "      <td>0.015168</td>\n",
       "    </tr>\n",
       "    <tr>\n",
       "      <th>теория относительности</th>\n",
       "      <td>0.009505</td>\n",
       "    </tr>\n",
       "    <tr>\n",
       "      <th>киноискусство</th>\n",
       "      <td>0.003070</td>\n",
       "    </tr>\n",
       "    <tr>\n",
       "      <th>астрономия</th>\n",
       "      <td>0.007977</td>\n",
       "    </tr>\n",
       "    <tr>\n",
       "      <th>кино</th>\n",
       "      <td>0.006562</td>\n",
       "    </tr>\n",
       "    <tr>\n",
       "      <th>Фоновая тема</th>\n",
       "      <td>0.661282</td>\n",
       "    </tr>\n",
       "  </tbody>\n",
       "</table>\n",
       "</div>"
      ],
      "text/plain": [
       "                                  pt\n",
       "физика элементарных частиц  0.009686\n",
       "материаловедение            0.014893\n",
       "политика                    0.009873\n",
       "университет                 0.006383\n",
       "мозг                        0.006586\n",
       "мифы                        0.006362\n",
       "текстология                 0.007619\n",
       "расы                        0.004716\n",
       "право                       0.008080\n",
       "медицина                    0.010677\n",
       "эволюция                    0.015114\n",
       "память                      0.005467\n",
       "история                     0.014789\n",
       "обществоведение             0.049598\n",
       "астрофизика                 0.015007\n",
       "экономика                   0.008713\n",
       "психология                  0.010782\n",
       "кибернетика                 0.009540\n",
       "востоковедение              0.014706\n",
       "генетика                    0.021599\n",
       "квантовая динамика          0.016723\n",
       "философия                   0.014667\n",
       "французская революция       0.008557\n",
       "история России              0.006300\n",
       "лингвистика                 0.015168\n",
       "теория относительности      0.009505\n",
       "киноискусство               0.003070\n",
       "астрономия                  0.007977\n",
       "кино                        0.006562\n",
       "Фоновая тема                0.661282"
      ]
     },
     "execution_count": 20,
     "metadata": {},
     "output_type": "execute_result"
    }
   ],
   "source": [
    "pt"
   ]
  },
  {
   "cell_type": "markdown",
   "metadata": {},
   "source": [
    "Найдите 5 самых распространенных и 3 наименее освещенных темы в коллекции (наибольшие и наименьшие $p(t)$ соответственно), не считая фоновую и общенаучную. Укажите названия, которые вы дали этим темам."
   ]
  },
  {
   "cell_type": "code",
   "execution_count": 21,
   "metadata": {
    "collapsed": false
   },
   "outputs": [
    {
     "data": {
      "text/html": [
       "<div>\n",
       "<style>\n",
       "    .dataframe thead tr:only-child th {\n",
       "        text-align: right;\n",
       "    }\n",
       "\n",
       "    .dataframe thead th {\n",
       "        text-align: left;\n",
       "    }\n",
       "\n",
       "    .dataframe tbody tr th {\n",
       "        vertical-align: top;\n",
       "    }\n",
       "</style>\n",
       "<table border=\"1\" class=\"dataframe\">\n",
       "  <thead>\n",
       "    <tr style=\"text-align: right;\">\n",
       "      <th></th>\n",
       "      <th>pt</th>\n",
       "    </tr>\n",
       "  </thead>\n",
       "  <tbody>\n",
       "    <tr>\n",
       "      <th>киноискусство</th>\n",
       "      <td>0.003070</td>\n",
       "    </tr>\n",
       "    <tr>\n",
       "      <th>расы</th>\n",
       "      <td>0.004716</td>\n",
       "    </tr>\n",
       "    <tr>\n",
       "      <th>память</th>\n",
       "      <td>0.005467</td>\n",
       "    </tr>\n",
       "    <tr>\n",
       "      <th>история России</th>\n",
       "      <td>0.006300</td>\n",
       "    </tr>\n",
       "    <tr>\n",
       "      <th>мифы</th>\n",
       "      <td>0.006362</td>\n",
       "    </tr>\n",
       "    <tr>\n",
       "      <th>университет</th>\n",
       "      <td>0.006383</td>\n",
       "    </tr>\n",
       "    <tr>\n",
       "      <th>кино</th>\n",
       "      <td>0.006562</td>\n",
       "    </tr>\n",
       "    <tr>\n",
       "      <th>мозг</th>\n",
       "      <td>0.006586</td>\n",
       "    </tr>\n",
       "    <tr>\n",
       "      <th>текстология</th>\n",
       "      <td>0.007619</td>\n",
       "    </tr>\n",
       "    <tr>\n",
       "      <th>астрономия</th>\n",
       "      <td>0.007977</td>\n",
       "    </tr>\n",
       "    <tr>\n",
       "      <th>право</th>\n",
       "      <td>0.008080</td>\n",
       "    </tr>\n",
       "    <tr>\n",
       "      <th>французская революция</th>\n",
       "      <td>0.008557</td>\n",
       "    </tr>\n",
       "    <tr>\n",
       "      <th>экономика</th>\n",
       "      <td>0.008713</td>\n",
       "    </tr>\n",
       "    <tr>\n",
       "      <th>теория относительности</th>\n",
       "      <td>0.009505</td>\n",
       "    </tr>\n",
       "    <tr>\n",
       "      <th>кибернетика</th>\n",
       "      <td>0.009540</td>\n",
       "    </tr>\n",
       "    <tr>\n",
       "      <th>физика элементарных частиц</th>\n",
       "      <td>0.009686</td>\n",
       "    </tr>\n",
       "    <tr>\n",
       "      <th>политика</th>\n",
       "      <td>0.009873</td>\n",
       "    </tr>\n",
       "    <tr>\n",
       "      <th>медицина</th>\n",
       "      <td>0.010677</td>\n",
       "    </tr>\n",
       "    <tr>\n",
       "      <th>психология</th>\n",
       "      <td>0.010782</td>\n",
       "    </tr>\n",
       "    <tr>\n",
       "      <th>философия</th>\n",
       "      <td>0.014667</td>\n",
       "    </tr>\n",
       "    <tr>\n",
       "      <th>востоковедение</th>\n",
       "      <td>0.014706</td>\n",
       "    </tr>\n",
       "    <tr>\n",
       "      <th>история</th>\n",
       "      <td>0.014789</td>\n",
       "    </tr>\n",
       "    <tr>\n",
       "      <th>материаловедение</th>\n",
       "      <td>0.014893</td>\n",
       "    </tr>\n",
       "    <tr>\n",
       "      <th>астрофизика</th>\n",
       "      <td>0.015007</td>\n",
       "    </tr>\n",
       "    <tr>\n",
       "      <th>эволюция</th>\n",
       "      <td>0.015114</td>\n",
       "    </tr>\n",
       "    <tr>\n",
       "      <th>лингвистика</th>\n",
       "      <td>0.015168</td>\n",
       "    </tr>\n",
       "    <tr>\n",
       "      <th>квантовая динамика</th>\n",
       "      <td>0.016723</td>\n",
       "    </tr>\n",
       "    <tr>\n",
       "      <th>генетика</th>\n",
       "      <td>0.021599</td>\n",
       "    </tr>\n",
       "    <tr>\n",
       "      <th>обществоведение</th>\n",
       "      <td>0.049598</td>\n",
       "    </tr>\n",
       "    <tr>\n",
       "      <th>Фоновая тема</th>\n",
       "      <td>0.661282</td>\n",
       "    </tr>\n",
       "  </tbody>\n",
       "</table>\n",
       "</div>"
      ],
      "text/plain": [
       "                                  pt\n",
       "киноискусство               0.003070\n",
       "расы                        0.004716\n",
       "память                      0.005467\n",
       "история России              0.006300\n",
       "мифы                        0.006362\n",
       "университет                 0.006383\n",
       "кино                        0.006562\n",
       "мозг                        0.006586\n",
       "текстология                 0.007619\n",
       "астрономия                  0.007977\n",
       "право                       0.008080\n",
       "французская революция       0.008557\n",
       "экономика                   0.008713\n",
       "теория относительности      0.009505\n",
       "кибернетика                 0.009540\n",
       "физика элементарных частиц  0.009686\n",
       "политика                    0.009873\n",
       "медицина                    0.010677\n",
       "психология                  0.010782\n",
       "философия                   0.014667\n",
       "востоковедение              0.014706\n",
       "история                     0.014789\n",
       "материаловедение            0.014893\n",
       "астрофизика                 0.015007\n",
       "эволюция                    0.015114\n",
       "лингвистика                 0.015168\n",
       "квантовая динамика          0.016723\n",
       "генетика                    0.021599\n",
       "обществоведение             0.049598\n",
       "Фоновая тема                0.661282"
      ]
     },
     "execution_count": 21,
     "metadata": {},
     "output_type": "execute_result"
    }
   ],
   "source": [
    "pt.sort_values('pt')"
   ]
  },
  {
   "cell_type": "raw",
   "metadata": {},
   "source": [
    "Ваш ответ:\n",
    "5 тем с max p(t): \n",
    "история\t0.018371\n",
    "квантовая динамика\t0.018863\n",
    "философия\t0.019473\n",
    "генетика\t0.023841\n",
    "обществоведение\t0.058126\n",
    "\n",
    "3 темы с min p(t):\n",
    "киноискусство\t0.004685\n",
    "расы\t0.006454\n",
    "память\t0.006826"
   ]
  },
  {
   "cell_type": "markdown",
   "metadata": {},
   "source": [
    "Визуализируйте матрицу $\\Phi$ модальности авторов в виде изображения. Рекомендация: установите yticklabels=False в heatmap."
   ]
  },
  {
   "cell_type": "code",
   "execution_count": 22,
   "metadata": {
    "collapsed": false
   },
   "outputs": [
    {
     "name": "stderr",
     "output_type": "stream",
     "text": [
      "D:\\Dev\\Anaconda3\\lib\\site-packages\\seaborn\\matrix.py:143: DeprecationWarning: elementwise == comparison failed; this will raise an error in the future.\n",
      "  if xticklabels == []:\n"
     ]
    },
    {
     "data": {
      "text/plain": [
       "<matplotlib.axes._subplots.AxesSubplot at 0x2875987dfd0>"
      ]
     },
     "execution_count": 22,
     "metadata": {},
     "output_type": "execute_result"
    },
    {
     "data": {
      "image/png": "[encoded data removed]",
      "text/plain": [
       "<matplotlib.figure.Figure at 0x28761d4d7b8>"
      ]
     },
     "metadata": {},
     "output_type": "display_data"
    }
   ],
   "source": [
    "# Ваш код\n",
    "plt.figure(figsize=(20, 10))\n",
    "seaborn.heatmap(phi_a, yticklabels=False)"
   ]
  },
  {
   "cell_type": "markdown",
   "metadata": {},
   "source": [
    "Каждой теме соответствует не очень большое число авторов - матрица достаточно разреженная. Кроме того, некоторые темы имеют доминирующего автора $a$, имеющего большую вероятность $p(a|t)$ - этот автор записал больше всего лекций по теме. "
   ]
  },
  {
   "cell_type": "markdown",
   "metadata": {},
   "source": [
    "Будем считать, что автор $a$ значим в теме, если $p(a|t) > 0.01$. Для каждого автора посчитайте, в скольких темах он значим. Найдите авторов-рекордсменов, которые значимы (а значит, читали лекции) в >= 3 темах."
   ]
  },
  {
   "cell_type": "code",
   "execution_count": 23,
   "metadata": {
    "collapsed": false
   },
   "outputs": [
    {
     "data": {
      "text/plain": [
       "Фёдор_Успенский       4\n",
       "Александр_Пиперски    4\n",
       "Илья_Иткин            4\n",
       "Олег_Ауров            3\n",
       "Ольга_Вайнштейн       3\n",
       "Андрей_Журавлев       3\n",
       "dtype: int64"
      ]
     },
     "execution_count": 23,
     "metadata": {},
     "output_type": "execute_result"
    }
   ],
   "source": [
    "num_theme = (phi_a > 0.01).sum(axis=1).sort_values(ascending=False)\n",
    "num_theme[num_theme >= 3]"
   ]
  },
  {
   "cell_type": "raw",
   "metadata": {},
   "source": [
    "Ваш ответ:\n",
    "авторы, значимые в не менее чем 3 темах:\n",
    "Фёдор_Успенский       4\n",
    "Александр_Пиперски    4\n",
    "Илья_Иткин            4\n",
    "Олег_Ауров            3\n",
    "Ольга_Вайнштейн       3\n",
    "Андрей_Журавлев       3"
   ]
  },
  {
   "cell_type": "markdown",
   "metadata": {},
   "source": [
    "Большинство авторов значимы в 1 теме, что логично."
   ]
  },
  {
   "cell_type": "markdown",
   "metadata": {},
   "source": [
    "##### Построение тематической карты авторов"
   ]
  },
  {
   "cell_type": "markdown",
   "metadata": {},
   "source": [
    "По сути, в матрице $\\Phi$, соответствующей модальности авторов, записаны тематические кластеры авторов. Для любого автора мы можем составить его тематический круг - авторов, разбирающихся в той же теме, что и данный. Интересующиеся слушатели могут попробовать выполнить эту процедуру для ученых, читающих лекции на Постнауке, которых они знают (например, на Постнауке есть лекции с К. В. Воронцовым - лектором текущего модуля :)\n",
    "\n",
    "Составим карту близости авторов по тематике их исследований. Для этого применим метод понижения размерности MDS к тематическим профилям авторов.\n",
    "\n",
    "Чтобы получить тематический профиль автора, распределение $p(t|a)$, нужно воспользоваться формулой Байеса: \n",
    "$p(t|a) = \\frac {p(a|t) p(t)} {\\sum_t' p(a|t') p(t')}$. Все необходимые для этого величины у вас есть и записаны в переменных phi и pt. \n",
    "\n",
    "Передайте матрицу тематических профилей авторов, записанных по строкам, в метод MDS с n_components=2. Используйте косинусную метрику (она хорошо подходит для поиска расстояний между векторами, имеющими фиксированную сумму компонент)."
   ]
  },
  {
   "cell_type": "code",
   "execution_count": 24,
   "metadata": {
    "collapsed": true
   },
   "outputs": [],
   "source": [
    "from sklearn.manifold import MDS\n",
    "from sklearn.metrics import pairwise_distances"
   ]
  },
  {
   "cell_type": "code",
   "execution_count": 25,
   "metadata": {
    "collapsed": true
   },
   "outputs": [],
   "source": [
    "# Ваш код\n",
    "p_a = phi_a.values.dot(pt)\n",
    "p_ta = (phi_a.values.T * pt.values) / p_a.T"
   ]
  },
  {
   "cell_type": "code",
   "execution_count": 26,
   "metadata": {
    "collapsed": false
   },
   "outputs": [
    {
     "data": {
      "text/plain": [
       "(30, 539)"
      ]
     },
     "execution_count": 26,
     "metadata": {},
     "output_type": "execute_result"
    }
   ],
   "source": [
    "p_ta.shape"
   ]
  },
  {
   "cell_type": "code",
   "execution_count": 27,
   "metadata": {
    "collapsed": true
   },
   "outputs": [],
   "source": [
    "MDS_metod = MDS(dissimilarity=\"precomputed\", random_state=321)\n",
    "p_taT_pair_cos = pairwise_distances(p_ta[:-1, :].T, metric=\"cosine\")\n",
    "MDS_transformed_cos = MDS_metod.fit_transform(p_taT_pair_cos)"
   ]
  },
  {
   "cell_type": "code",
   "execution_count": 28,
   "metadata": {
    "collapsed": true
   },
   "outputs": [],
   "source": [
    "#MDS_transformed_cos[:5]"
   ]
  },
  {
   "cell_type": "markdown",
   "metadata": {},
   "source": [
    "Визуализируйте найденные двумерные представления с помощью функции scatter. "
   ]
  },
  {
   "cell_type": "code",
   "execution_count": 29,
   "metadata": {
    "collapsed": false
   },
   "outputs": [
    {
     "data": {
      "text/plain": [
       "<matplotlib.collections.PathCollection at 0x28759885128>"
      ]
     },
     "execution_count": 29,
     "metadata": {},
     "output_type": "execute_result"
    },
    {
     "data": {
      "image/png": "[encoded data removed]",
      "text/plain": [
       "<matplotlib.figure.Figure at 0x2875fc8b828>"
      ]
     },
     "metadata": {},
     "output_type": "display_data"
    }
   ],
   "source": [
    "# Ваш код\n",
    "plt.scatter(MDS_transformed_cos[:, 0],\n",
    "            MDS_transformed_cos[:, 1], c='g', alpha=0.5)"
   ]
  },
  {
   "cell_type": "markdown",
   "metadata": {},
   "source": [
    "Должно получиться, что некоторые грппы авторов формируют сгустки, которые можно считать тематическими группами авторов.\n",
    "\n",
    "Раскрасим точки следующим образом: для каждого автора выберем наиболее вероятную для него тему ($\\max_t p(t|a)$), и каждой теме сопоставим цвет. Кроме того, добавим на карту имена и фамилии авторов, это можно сделать в цикле по всем точкам с помощью функции plt.annotate, указывая метку точки первым аргументом и ее координаты в аргументе xy. Рекомендуется сделать размер изображения большим, тогда маркеры точек тоже придется увеличить (s=100 в plt.scatter). Изобразите карту авторов и сохраните в pdf-файл с помощью функции plt.savefig. \n",
    "\n",
    "Метки авторов будут пересекаться. Будет очень хорошо, если вы найдете способ, как этого можно избежать."
   ]
  },
  {
   "cell_type": "code",
   "execution_count": 43,
   "metadata": {
    "collapsed": false
   },
   "outputs": [
    {
     "data": {
      "image/png": "[encoded data removed]",
      "text/plain": [
       "<matplotlib.figure.Figure at 0x2876171f550>"
      ]
     },
     "metadata": {},
     "output_type": "display_data"
    }
   ],
   "source": [
    "import matplotlib.cm as cm\n",
    "colors = cm.rainbow(np.linspace(0, 1, T-1)) # цвета для тем\n",
    "# Ваш код\n",
    "max_t_pta = p_ta[:-1, :].argmax(axis=0) # вычисляем номер наиболее вероятной темы для автора\n",
    "plt.figure(figsize=(20, 10))\n",
    "for y, c in enumerate(colors):\n",
    "    plt.scatter(MDS_transformed_cos[max_t_pta==y][:, 0],\n",
    "            MDS_transformed_cos[max_t_pta==y][:, 1], c=c, s=100, alpha=0.5, label=topic_labels[y])\n",
    "    plt.legend()"
   ]
  },
  {
   "cell_type": "code",
   "execution_count": 44,
   "metadata": {
    "collapsed": false
   },
   "outputs": [
    {
     "data": {
      "text/plain": [
       "<matplotlib.figure.Figure at 0x2875fc75748>"
      ]
     },
     "metadata": {},
     "output_type": "display_data"
    }
   ],
   "source": [
    "plt.savefig('Authors Map.pdf')"
   ]
  },
  {
   "cell_type": "markdown",
   "metadata": {},
   "source": [
    "##### Создание простого тематического навигатора по Постнауке"
   ]
  },
  {
   "cell_type": "markdown",
   "metadata": {},
   "source": [
    "Наш тематический навигатор будет для каждой темы показывать ее список слов, а также список релевантных теме документов. \n",
    "\n",
    "Нам понадобятся распределения $p(d|t)$. По формуле Байеса $p(d|t) = \\frac{p(t|d)p(d)}{\\sum_{d'}p(t|d')p(d')}$, но поскольку мы считаем документы равновероятными, достаточно разделить каждую строку $\\Theta$ на ее сумму, чтобы оценить распределение. \n",
    "\n",
    "Отсортируйте матрицу $p(d|t)$ по убыванию $p(d|t)$ в каждой теме (то есть построчно). Нам понадобятся индексы наиболее вероятных документов в каждой теме, поэтому используйте функцию argmax."
   ]
  },
  {
   "cell_type": "code",
   "execution_count": 32,
   "metadata": {
    "collapsed": true
   },
   "outputs": [],
   "source": [
    "p_dt = theta / theta.sum(axis=0)"
   ]
  },
  {
   "cell_type": "code",
   "execution_count": 33,
   "metadata": {
    "collapsed": false
   },
   "outputs": [
    {
     "data": {
      "text/plain": [
       "(30, 1728)"
      ]
     },
     "execution_count": 33,
     "metadata": {},
     "output_type": "execute_result"
    }
   ],
   "source": [
    "p_dt.shape"
   ]
  },
  {
   "cell_type": "code",
   "execution_count": 34,
   "metadata": {
    "collapsed": true
   },
   "outputs": [],
   "source": [
    "index = np.argsort(p_dt, axis=1).values"
   ]
  },
  {
   "cell_type": "markdown",
   "metadata": {},
   "source": [
    "Создавать навигатор мы будем прямо в jupiter notebook: это возможно благодаря тому факту, что при печати ссылки она автоматически превращается в гиперссылку."
   ]
  },
  {
   "cell_type": "code",
   "execution_count": 36,
   "metadata": {
    "collapsed": false
   },
   "outputs": [
    {
     "name": "stdout",
     "output_type": "stream",
     "text": [
      "http://yandex.ru\n"
     ]
    }
   ],
   "source": [
    "print(\"http://yandex.ru\")   # получится кликабельная ссылка"
   ]
  },
  {
   "cell_type": "markdown",
   "metadata": {},
   "source": [
    "Кроме того, подключив модуль [ipython.core.display](https://ipython.org/ipython-doc/2/api/generated/IPython.core.display.html), можно использовать html-разметку в выводе. Например:"
   ]
  },
  {
   "cell_type": "code",
   "execution_count": 37,
   "metadata": {
    "collapsed": false
   },
   "outputs": [
    {
     "data": {
      "text/html": [
       "<h1>Заголовок</h1>"
      ],
      "text/plain": [
       "<IPython.core.display.HTML object>"
      ]
     },
     "metadata": {},
     "output_type": "display_data"
    },
    {
     "data": {
      "text/html": [
       "<ul><li>Пункт 1</li><li>Пункт 2</li></ul>"
      ],
      "text/plain": [
       "<IPython.core.display.HTML object>"
      ]
     },
     "metadata": {},
     "output_type": "display_data"
    },
    {
     "data": {
      "text/html": [
       "<font color=\"green\">Зеленый!</font>"
      ],
      "text/plain": [
       "<IPython.core.display.HTML object>"
      ]
     },
     "metadata": {},
     "output_type": "display_data"
    },
    {
     "data": {
      "text/html": [
       "<a href=\"http://yandex.ru\">Еще один вариант вывода ссылки</a>"
      ],
      "text/plain": [
       "<IPython.core.display.HTML object>"
      ]
     },
     "metadata": {},
     "output_type": "display_data"
    },
    {
     "data": {
      "text/html": [
       "<ul><li><a href=\"http://yandex.ru\">http://yandex.ru</a></li></ul>"
      ],
      "text/plain": [
       "<IPython.core.display.HTML object>"
      ]
     },
     "metadata": {},
     "output_type": "display_data"
    }
   ],
   "source": [
    "from IPython.core.display import display, HTML\n",
    "display(HTML(u'<h1>Заголовок</h1>'))   # также <h2>, <h3>\n",
    "display(HTML(u\"<ul><li>Пункт 1</li><li>Пункт 2</li></ul>\"))\n",
    "display(HTML(u'<font color=\"green\">Зеленый!</font>'))\n",
    "display(HTML(u'<a href=\"http://yandex.ru\">Еще один вариант вывода ссылки</a>'))\n",
    "display(HTML(u'<ul><li><a href=\"http://yandex.ru\">http://yandex.ru</a></li></ul>'))"
   ]
  },
  {
   "cell_type": "markdown",
   "metadata": {},
   "source": [
    "В цикле для каждой темы выведите ее заголовок, в следующей строке - топ-10 слов темы, затем в виде списка ссылки на 10 наиболее релевантных (по $p(d|t)$) теме документов. Используйте html-разметку. Творчество приветствуется :)"
   ]
  },
  {
   "cell_type": "code",
   "execution_count": 38,
   "metadata": {
    "collapsed": false
   },
   "outputs": [
    {
     "data": {
      "text/html": [
       "<h1>физика элементарных частиц</h1>"
      ],
      "text/plain": [
       "<IPython.core.display.HTML object>"
      ]
     },
     "metadata": {},
     "output_type": "display_data"
    },
    {
     "data": {
      "text/html": [
       "<font color=\"green\">частица взаимодействие физика кварк симметрия элементарный нейтрино стандартный материя протон бозон заряд масса ускоритель слабый</font>"
      ],
      "text/plain": [
       "<IPython.core.display.HTML object>"
      ]
     },
     "metadata": {},
     "output_type": "display_data"
    },
    {
     "data": {
      "text/html": [
       "<ul><li><a href=\"http://postnauka.ru/video/13043\">http://postnauka.ru/video/13043</a></li><li><a href=\"http://postnauka.ru/video/18870\">http://postnauka.ru/video/18870</a></li><li><a href=\"http://postnauka.ru/video/18873\">http://postnauka.ru/video/18873</a></li><li><a href=\"http://postnauka.ru/video/47950\">http://postnauka.ru/video/47950</a></li><li><a href=\"http://postnauka.ru/video/2945\">http://postnauka.ru/video/2945</a></li><li><a href=\"http://postnauka.ru/video/11634\">http://postnauka.ru/video/11634</a></li><li><a href=\"http://postnauka.ru/video/1894\">http://postnauka.ru/video/1894</a></li><li><a href=\"http://postnauka.ru/video/47175\">http://postnauka.ru/video/47175</a></li><li><a href=\"http://postnauka.ru/video/14282\">http://postnauka.ru/video/14282</a></li><li><a href=\"http://postnauka.ru/video/478\">http://postnauka.ru/video/478</a></li></ul>"
      ],
      "text/plain": [
       "<IPython.core.display.HTML object>"
      ]
     },
     "metadata": {},
     "output_type": "display_data"
    },
    {
     "data": {
      "text/html": [
       "<h1>материаловедение</h1>"
      ],
      "text/plain": [
       "<IPython.core.display.HTML object>"
      ]
     },
     "metadata": {},
     "output_type": "display_data"
    },
    {
     "data": {
      "text/html": [
       "<font color=\"green\">материал температура структура вещество химический соединение свойство поверхность химия давление углерод сверхпроводимость металл применение полимер</font>"
      ],
      "text/plain": [
       "<IPython.core.display.HTML object>"
      ]
     },
     "metadata": {},
     "output_type": "display_data"
    },
    {
     "data": {
      "text/html": [
       "<ul><li><a href=\"http://postnauka.ru/video/31182\">http://postnauka.ru/video/31182</a></li><li><a href=\"http://postnauka.ru/video/13700\">http://postnauka.ru/video/13700</a></li><li><a href=\"http://postnauka.ru/video/57995\">http://postnauka.ru/video/57995</a></li><li><a href=\"http://postnauka.ru/video/18048\">http://postnauka.ru/video/18048</a></li><li><a href=\"http://postnauka.ru/video/41686\">http://postnauka.ru/video/41686</a></li><li><a href=\"http://postnauka.ru/video/13544\">http://postnauka.ru/video/13544</a></li><li><a href=\"http://postnauka.ru/video/51490\">http://postnauka.ru/video/51490</a></li><li><a href=\"http://postnauka.ru/video/50340\">http://postnauka.ru/video/50340</a></li><li><a href=\"http://postnauka.ru/video/46379\">http://postnauka.ru/video/46379</a></li><li><a href=\"http://postnauka.ru/video/56295\">http://postnauka.ru/video/56295</a></li></ul>"
      ],
      "text/plain": [
       "<IPython.core.display.HTML object>"
      ]
     },
     "metadata": {},
     "output_type": "display_data"
    },
    {
     "data": {
      "text/html": [
       "<h1>политика</h1>"
      ],
      "text/plain": [
       "<IPython.core.display.HTML object>"
      ]
     },
     "metadata": {},
     "output_type": "display_data"
    },
    {
     "data": {
      "text/html": [
       "<font color=\"green\">политический государство политика царь партия власть правитель враг сага кризис ритуал шмитт государь средневековый египетский</font>"
      ],
      "text/plain": [
       "<IPython.core.display.HTML object>"
      ]
     },
     "metadata": {},
     "output_type": "display_data"
    },
    {
     "data": {
      "text/html": [
       "<ul><li><a href=\"http://postnauka.ru/video/5517\">http://postnauka.ru/video/5517</a></li><li><a href=\"http://postnauka.ru/video/5179\">http://postnauka.ru/video/5179</a></li><li><a href=\"http://postnauka.ru/video/32906\">http://postnauka.ru/video/32906</a></li><li><a href=\"http://postnauka.ru/video/13538\">http://postnauka.ru/video/13538</a></li><li><a href=\"http://postnauka.ru/video/52941\">http://postnauka.ru/video/52941</a></li><li><a href=\"http://postnauka.ru/video/32882\">http://postnauka.ru/video/32882</a></li><li><a href=\"http://postnauka.ru/video/56304\">http://postnauka.ru/video/56304</a></li><li><a href=\"http://postnauka.ru/video/12083\">http://postnauka.ru/video/12083</a></li><li><a href=\"http://postnauka.ru/video/59199\">http://postnauka.ru/video/59199</a></li><li><a href=\"http://postnauka.ru/video/53228\">http://postnauka.ru/video/53228</a></li></ul>"
      ],
      "text/plain": [
       "<IPython.core.display.HTML object>"
      ]
     },
     "metadata": {},
     "output_type": "display_data"
    },
    {
     "data": {
      "text/html": [
       "<h1>университет</h1>"
      ],
      "text/plain": [
       "<IPython.core.display.HTML object>"
      ]
     },
     "metadata": {},
     "output_type": "display_data"
    },
    {
     "data": {
      "text/html": [
       "<font color=\"green\">знание университет образование школа предмет восприятие познание факультет аргумент студент логика кафедра прикладной концепт гумбольдт</font>"
      ],
      "text/plain": [
       "<IPython.core.display.HTML object>"
      ]
     },
     "metadata": {},
     "output_type": "display_data"
    },
    {
     "data": {
      "text/html": [
       "<ul><li><a href=\"http://postnauka.ru/video/2973\">http://postnauka.ru/video/2973</a></li><li><a href=\"http://postnauka.ru/video/31198\">http://postnauka.ru/video/31198</a></li><li><a href=\"http://postnauka.ru/video/19570\">http://postnauka.ru/video/19570</a></li><li><a href=\"http://postnauka.ru/video/35038\">http://postnauka.ru/video/35038</a></li><li><a href=\"http://postnauka.ru/video/55533\">http://postnauka.ru/video/55533</a></li><li><a href=\"http://postnauka.ru/video/49445\">http://postnauka.ru/video/49445</a></li><li><a href=\"http://postnauka.ru/video/40889\">http://postnauka.ru/video/40889</a></li><li><a href=\"http://postnauka.ru/video/55217\">http://postnauka.ru/video/55217</a></li><li><a href=\"http://postnauka.ru/video/50406\">http://postnauka.ru/video/50406</a></li><li><a href=\"http://postnauka.ru/video/3603\">http://postnauka.ru/video/3603</a></li></ul>"
      ],
      "text/plain": [
       "<IPython.core.display.HTML object>"
      ]
     },
     "metadata": {},
     "output_type": "display_data"
    },
    {
     "data": {
      "text/html": [
       "<h1>мозг</h1>"
      ],
      "text/plain": [
       "<IPython.core.display.HTML object>"
      ]
     },
     "metadata": {},
     "output_type": "display_data"
    },
    {
     "data": {
      "text/html": [
       "<font color=\"green\">мозг ребенок нейрон мышление предложение категория взрослый чтение лицо синтаксический синтаксис устный обезьяна детство словосочетание</font>"
      ],
      "text/plain": [
       "<IPython.core.display.HTML object>"
      ]
     },
     "metadata": {},
     "output_type": "display_data"
    },
    {
     "data": {
      "text/html": [
       "<ul><li><a href=\"http://postnauka.ru/video/50793\">http://postnauka.ru/video/50793</a></li><li><a href=\"http://postnauka.ru/video/55068\">http://postnauka.ru/video/55068</a></li><li><a href=\"http://postnauka.ru/video/12521\">http://postnauka.ru/video/12521</a></li><li><a href=\"http://postnauka.ru/video/47548\">http://postnauka.ru/video/47548</a></li><li><a href=\"http://postnauka.ru/video/26207\">http://postnauka.ru/video/26207</a></li><li><a href=\"http://postnauka.ru/video/5178\">http://postnauka.ru/video/5178</a></li><li><a href=\"http://postnauka.ru/video/25891\">http://postnauka.ru/video/25891</a></li><li><a href=\"http://postnauka.ru/video/27965\">http://postnauka.ru/video/27965</a></li><li><a href=\"http://postnauka.ru/video/36350\">http://postnauka.ru/video/36350</a></li><li><a href=\"http://postnauka.ru/video/7767\">http://postnauka.ru/video/7767</a></li></ul>"
      ],
      "text/plain": [
       "<IPython.core.display.HTML object>"
      ]
     },
     "metadata": {},
     "output_type": "display_data"
    },
    {
     "data": {
      "text/html": [
       "<h1>мифы</h1>"
      ],
      "text/plain": [
       "<IPython.core.display.HTML object>"
      ]
     },
     "metadata": {},
     "output_type": "display_data"
    },
    {
     "data": {
      "text/html": [
       "<font color=\"green\">бог миф греческий герой море мифология грек мифологический гусейнов персонаж шумерский гасан божество сущность генеалогия</font>"
      ],
      "text/plain": [
       "<IPython.core.display.HTML object>"
      ]
     },
     "metadata": {},
     "output_type": "display_data"
    },
    {
     "data": {
      "text/html": [
       "<ul><li><a href=\"http://postnauka.ru/video/43664\">http://postnauka.ru/video/43664</a></li><li><a href=\"http://postnauka.ru/video/5181\">http://postnauka.ru/video/5181</a></li><li><a href=\"http://postnauka.ru/video/27831\">http://postnauka.ru/video/27831</a></li><li><a href=\"http://postnauka.ru/video/42796\">http://postnauka.ru/video/42796</a></li><li><a href=\"http://postnauka.ru/video/31990\">http://postnauka.ru/video/31990</a></li><li><a href=\"http://postnauka.ru/video/21637\">http://postnauka.ru/video/21637</a></li><li><a href=\"http://postnauka.ru/video/46427\">http://postnauka.ru/video/46427</a></li><li><a href=\"http://postnauka.ru/video/12527\">http://postnauka.ru/video/12527</a></li><li><a href=\"http://postnauka.ru/video/36716\">http://postnauka.ru/video/36716</a></li><li><a href=\"http://postnauka.ru/video/47300\">http://postnauka.ru/video/47300</a></li></ul>"
      ],
      "text/plain": [
       "<IPython.core.display.HTML object>"
      ]
     },
     "metadata": {},
     "output_type": "display_data"
    },
    {
     "data": {
      "text/html": [
       "<h1>текстология</h1>"
      ],
      "text/plain": [
       "<IPython.core.display.HTML object>"
      ]
     },
     "metadata": {},
     "output_type": "display_data"
    },
    {
     "data": {
      "text/html": [
       "<font color=\"green\">русский город текст городской перевод корпус гласный документ говор москва пьеса горожанин немецкий древнерусский метро</font>"
      ],
      "text/plain": [
       "<IPython.core.display.HTML object>"
      ]
     },
     "metadata": {},
     "output_type": "display_data"
    },
    {
     "data": {
      "text/html": [
       "<ul><li><a href=\"http://postnauka.ru/video/13156\">http://postnauka.ru/video/13156</a></li><li><a href=\"http://postnauka.ru/video/51171\">http://postnauka.ru/video/51171</a></li><li><a href=\"http://postnauka.ru/video/8964\">http://postnauka.ru/video/8964</a></li><li><a href=\"http://postnauka.ru/video/24279\">http://postnauka.ru/video/24279</a></li><li><a href=\"http://postnauka.ru/video/48112\">http://postnauka.ru/video/48112</a></li><li><a href=\"http://postnauka.ru/video/24945\">http://postnauka.ru/video/24945</a></li><li><a href=\"http://postnauka.ru/video/47301\">http://postnauka.ru/video/47301</a></li><li><a href=\"http://postnauka.ru/video/57318\">http://postnauka.ru/video/57318</a></li><li><a href=\"http://postnauka.ru/video/23470\">http://postnauka.ru/video/23470</a></li><li><a href=\"http://postnauka.ru/video/10773\">http://postnauka.ru/video/10773</a></li></ul>"
      ],
      "text/plain": [
       "<IPython.core.display.HTML object>"
      ]
     },
     "metadata": {},
     "output_type": "display_data"
    },
    {
     "data": {
      "text/html": [
       "<h1>расы</h1>"
      ],
      "text/plain": [
       "<IPython.core.display.HTML object>"
      ]
     },
     "metadata": {},
     "output_type": "display_data"
    },
    {
     "data": {
      "text/html": [
       "<font color=\"green\">трудность раса праздник шаман америка станислав африка тест нос монголоид дробышевский шаманский индеец сакральный задание</font>"
      ],
      "text/plain": [
       "<IPython.core.display.HTML object>"
      ]
     },
     "metadata": {},
     "output_type": "display_data"
    },
    {
     "data": {
      "text/html": [
       "<ul><li><a href=\"http://postnauka.ru/video/31707\">http://postnauka.ru/video/31707</a></li><li><a href=\"http://postnauka.ru/video/37732\">http://postnauka.ru/video/37732</a></li><li><a href=\"http://postnauka.ru/video/32898\">http://postnauka.ru/video/32898</a></li><li><a href=\"http://postnauka.ru/video/35150\">http://postnauka.ru/video/35150</a></li><li><a href=\"http://postnauka.ru/video/42707\">http://postnauka.ru/video/42707</a></li><li><a href=\"http://postnauka.ru/video/15341\">http://postnauka.ru/video/15341</a></li><li><a href=\"http://postnauka.ru/video/42735\">http://postnauka.ru/video/42735</a></li><li><a href=\"http://postnauka.ru/video/17397\">http://postnauka.ru/video/17397</a></li><li><a href=\"http://postnauka.ru/video/31675\">http://postnauka.ru/video/31675</a></li><li><a href=\"http://postnauka.ru/video/40880\">http://postnauka.ru/video/40880</a></li></ul>"
      ],
      "text/plain": [
       "<IPython.core.display.HTML object>"
      ]
     },
     "metadata": {},
     "output_type": "display_data"
    },
    {
     "data": {
      "text/html": [
       "<h1>право</h1>"
      ],
      "text/plain": [
       "<IPython.core.display.HTML object>"
      ]
     },
     "metadata": {},
     "output_type": "display_data"
    },
    {
     "data": {
      "text/html": [
       "<font color=\"green\">право римский правовой юрист суд юридический сон должник собственность обязательство закон владение собственник имущество исполнение</font>"
      ],
      "text/plain": [
       "<IPython.core.display.HTML object>"
      ]
     },
     "metadata": {},
     "output_type": "display_data"
    },
    {
     "data": {
      "text/html": [
       "<ul><li><a href=\"http://postnauka.ru/video/9299\">http://postnauka.ru/video/9299</a></li><li><a href=\"http://postnauka.ru/video/38009\">http://postnauka.ru/video/38009</a></li><li><a href=\"http://postnauka.ru/video/34414\">http://postnauka.ru/video/34414</a></li><li><a href=\"http://postnauka.ru/video/49455\">http://postnauka.ru/video/49455</a></li><li><a href=\"http://postnauka.ru/video/17912\">http://postnauka.ru/video/17912</a></li><li><a href=\"http://postnauka.ru/video/16822\">http://postnauka.ru/video/16822</a></li><li><a href=\"http://postnauka.ru/video/42221\">http://postnauka.ru/video/42221</a></li><li><a href=\"http://postnauka.ru/video/31688\">http://postnauka.ru/video/31688</a></li><li><a href=\"http://postnauka.ru/video/31666\">http://postnauka.ru/video/31666</a></li><li><a href=\"http://postnauka.ru/video/17875\">http://postnauka.ru/video/17875</a></li></ul>"
      ],
      "text/plain": [
       "<IPython.core.display.HTML object>"
      ]
     },
     "metadata": {},
     "output_type": "display_data"
    },
    {
     "data": {
      "text/html": [
       "<h1>медицина</h1>"
      ],
      "text/plain": [
       "<IPython.core.display.HTML object>"
      ]
     },
     "metadata": {},
     "output_type": "display_data"
    },
    {
     "data": {
      "text/html": [
       "<font color=\"green\">болезнь заболевание пациент лечение медицина врач боль препарат медицинский иммунный операция озеро сердце диагностика нарушение</font>"
      ],
      "text/plain": [
       "<IPython.core.display.HTML object>"
      ]
     },
     "metadata": {},
     "output_type": "display_data"
    },
    {
     "data": {
      "text/html": [
       "<ul><li><a href=\"http://postnauka.ru/video/13746\">http://postnauka.ru/video/13746</a></li><li><a href=\"http://postnauka.ru/video/532\">http://postnauka.ru/video/532</a></li><li><a href=\"http://postnauka.ru/video/7753\">http://postnauka.ru/video/7753</a></li><li><a href=\"http://postnauka.ru/video/11361\">http://postnauka.ru/video/11361</a></li><li><a href=\"http://postnauka.ru/video/12974\">http://postnauka.ru/video/12974</a></li><li><a href=\"http://postnauka.ru/video/2541\">http://postnauka.ru/video/2541</a></li><li><a href=\"http://postnauka.ru/video/49206\">http://postnauka.ru/video/49206</a></li><li><a href=\"http://postnauka.ru/video/11850\">http://postnauka.ru/video/11850</a></li><li><a href=\"http://postnauka.ru/video/45961\">http://postnauka.ru/video/45961</a></li><li><a href=\"http://postnauka.ru/video/51384\">http://postnauka.ru/video/51384</a></li></ul>"
      ],
      "text/plain": [
       "<IPython.core.display.HTML object>"
      ]
     },
     "metadata": {},
     "output_type": "display_data"
    },
    {
     "data": {
      "text/html": [
       "<h1>эволюция</h1>"
      ],
      "text/plain": [
       "<IPython.core.display.HTML object>"
      ]
     },
     "metadata": {},
     "output_type": "display_data"
    },
    {
     "data": {
      "text/html": [
       "<font color=\"green\">животное робот растение вода организм микроорганизм нервный рецептор биологический эволюция мембрана метан кислород мышца микроб</font>"
      ],
      "text/plain": [
       "<IPython.core.display.HTML object>"
      ]
     },
     "metadata": {},
     "output_type": "display_data"
    },
    {
     "data": {
      "text/html": [
       "<ul><li><a href=\"http://postnauka.ru/video/9861\">http://postnauka.ru/video/9861</a></li><li><a href=\"http://postnauka.ru/video/30673\">http://postnauka.ru/video/30673</a></li><li><a href=\"http://postnauka.ru/video/8953\">http://postnauka.ru/video/8953</a></li><li><a href=\"http://postnauka.ru/video/2531\">http://postnauka.ru/video/2531</a></li><li><a href=\"http://postnauka.ru/video/32635\">http://postnauka.ru/video/32635</a></li><li><a href=\"http://postnauka.ru/video/7113\">http://postnauka.ru/video/7113</a></li><li><a href=\"http://postnauka.ru/video/19071\">http://postnauka.ru/video/19071</a></li><li><a href=\"http://postnauka.ru/video/25889\">http://postnauka.ru/video/25889</a></li><li><a href=\"http://postnauka.ru/video/49437\">http://postnauka.ru/video/49437</a></li><li><a href=\"http://postnauka.ru/video/10786\">http://postnauka.ru/video/10786</a></li></ul>"
      ],
      "text/plain": [
       "<IPython.core.display.HTML object>"
      ]
     },
     "metadata": {},
     "output_type": "display_data"
    },
    {
     "data": {
      "text/html": [
       "<h1>память</h1>"
      ],
      "text/plain": [
       "<IPython.core.display.HTML object>"
      ]
     },
     "metadata": {},
     "output_type": "display_data"
    },
    {
     "data": {
      "text/html": [
       "<font color=\"green\">память информация когнитивный зрительный процесс запоминать психолог линзовидный воспроизводить картинка храниться мария кора хранение катастрофа</font>"
      ],
      "text/plain": [
       "<IPython.core.display.HTML object>"
      ]
     },
     "metadata": {},
     "output_type": "display_data"
    },
    {
     "data": {
      "text/html": [
       "<ul><li><a href=\"http://postnauka.ru/video/9997\">http://postnauka.ru/video/9997</a></li><li><a href=\"http://postnauka.ru/video/56052\">http://postnauka.ru/video/56052</a></li><li><a href=\"http://postnauka.ru/video/54916\">http://postnauka.ru/video/54916</a></li><li><a href=\"http://postnauka.ru/video/57336\">http://postnauka.ru/video/57336</a></li><li><a href=\"http://postnauka.ru/video/37979\">http://postnauka.ru/video/37979</a></li><li><a href=\"http://postnauka.ru/video/27845\">http://postnauka.ru/video/27845</a></li><li><a href=\"http://postnauka.ru/video/38507\">http://postnauka.ru/video/38507</a></li><li><a href=\"http://postnauka.ru/video/3645\">http://postnauka.ru/video/3645</a></li><li><a href=\"http://postnauka.ru/video/17421\">http://postnauka.ru/video/17421</a></li><li><a href=\"http://postnauka.ru/video/23079\">http://postnauka.ru/video/23079</a></li></ul>"
      ],
      "text/plain": [
       "<IPython.core.display.HTML object>"
      ]
     },
     "metadata": {},
     "output_type": "display_data"
    },
    {
     "data": {
      "text/html": [
       "<h1>история</h1>"
      ],
      "text/plain": [
       "<IPython.core.display.HTML object>"
      ]
     },
     "metadata": {},
     "output_type": "display_data"
    },
    {
     "data": {
      "text/html": [
       "<font color=\"green\">империя германия историк церковь государственный русь святой военный российский великий князь немецкий война нация андрей</font>"
      ],
      "text/plain": [
       "<IPython.core.display.HTML object>"
      ]
     },
     "metadata": {},
     "output_type": "display_data"
    },
    {
     "data": {
      "text/html": [
       "<ul><li><a href=\"http://postnauka.ru/video/24034\">http://postnauka.ru/video/24034</a></li><li><a href=\"http://postnauka.ru/video/3348\">http://postnauka.ru/video/3348</a></li><li><a href=\"http://postnauka.ru/video/24039\">http://postnauka.ru/video/24039</a></li><li><a href=\"http://postnauka.ru/video/32637\">http://postnauka.ru/video/32637</a></li><li><a href=\"http://postnauka.ru/video/19574\">http://postnauka.ru/video/19574</a></li><li><a href=\"http://postnauka.ru/video/23900\">http://postnauka.ru/video/23900</a></li><li><a href=\"http://postnauka.ru/video/35041\">http://postnauka.ru/video/35041</a></li><li><a href=\"http://postnauka.ru/video/50668\">http://postnauka.ru/video/50668</a></li><li><a href=\"http://postnauka.ru/video/31183\">http://postnauka.ru/video/31183</a></li><li><a href=\"http://postnauka.ru/video/34936\">http://postnauka.ru/video/34936</a></li></ul>"
      ],
      "text/plain": [
       "<IPython.core.display.HTML object>"
      ]
     },
     "metadata": {},
     "output_type": "display_data"
    },
    {
     "data": {
      "text/html": [
       "<h1>обществоведение</h1>"
      ],
      "text/plain": [
       "<IPython.core.display.HTML object>"
      ]
     },
     "metadata": {},
     "output_type": "display_data"
    },
    {
     "data": {
      "text/html": [
       "<font color=\"green\">наука социальный рассказывать общество понятие исторический кандидат история социология каков культурный сегодня научный сообщество современный</font>"
      ],
      "text/plain": [
       "<IPython.core.display.HTML object>"
      ]
     },
     "metadata": {},
     "output_type": "display_data"
    },
    {
     "data": {
      "text/html": [
       "<ul><li><a href=\"http://postnauka.ru/video/10783\">http://postnauka.ru/video/10783</a></li><li><a href=\"http://postnauka.ru/video/10749\">http://postnauka.ru/video/10749</a></li><li><a href=\"http://postnauka.ru/video/9148\">http://postnauka.ru/video/9148</a></li><li><a href=\"http://postnauka.ru/video/7778\">http://postnauka.ru/video/7778</a></li><li><a href=\"http://postnauka.ru/video/9870\">http://postnauka.ru/video/9870</a></li><li><a href=\"http://postnauka.ru/video/17491\">http://postnauka.ru/video/17491</a></li><li><a href=\"http://postnauka.ru/video/5878\">http://postnauka.ru/video/5878</a></li><li><a href=\"http://postnauka.ru/video/3417\">http://postnauka.ru/video/3417</a></li><li><a href=\"http://postnauka.ru/video/6380\">http://postnauka.ru/video/6380</a></li><li><a href=\"http://postnauka.ru/video/7541\">http://postnauka.ru/video/7541</a></li></ul>"
      ],
      "text/plain": [
       "<IPython.core.display.HTML object>"
      ]
     },
     "metadata": {},
     "output_type": "display_data"
    },
    {
     "data": {
      "text/html": [
       "<h1>астрофизика</h1>"
      ],
      "text/plain": [
       "<IPython.core.display.HTML object>"
      ]
     },
     "metadata": {},
     "output_type": "display_data"
    },
    {
     "data": {
      "text/html": [
       "<font color=\"green\">галактика планета земля звезда черный дыра масса газ атмосфера диск солнечный солнце космический расстояние скопление</font>"
      ],
      "text/plain": [
       "<IPython.core.display.HTML object>"
      ]
     },
     "metadata": {},
     "output_type": "display_data"
    },
    {
     "data": {
      "text/html": [
       "<ul><li><a href=\"http://postnauka.ru/video/2971\">http://postnauka.ru/video/2971</a></li><li><a href=\"http://postnauka.ru/video/9835\">http://postnauka.ru/video/9835</a></li><li><a href=\"http://postnauka.ru/video/31193\">http://postnauka.ru/video/31193</a></li><li><a href=\"http://postnauka.ru/video/57338\">http://postnauka.ru/video/57338</a></li><li><a href=\"http://postnauka.ru/video/31695\">http://postnauka.ru/video/31695</a></li><li><a href=\"http://postnauka.ru/video/36249\">http://postnauka.ru/video/36249</a></li><li><a href=\"http://postnauka.ru/video/3604\">http://postnauka.ru/video/3604</a></li><li><a href=\"http://postnauka.ru/video/3423\">http://postnauka.ru/video/3423</a></li><li><a href=\"http://postnauka.ru/video/58744\">http://postnauka.ru/video/58744</a></li><li><a href=\"http://postnauka.ru/video/45644\">http://postnauka.ru/video/45644</a></li></ul>"
      ],
      "text/plain": [
       "<IPython.core.display.HTML object>"
      ]
     },
     "metadata": {},
     "output_type": "display_data"
    },
    {
     "data": {
      "text/html": [
       "<h1>экономика</h1>"
      ],
      "text/plain": [
       "<IPython.core.display.HTML object>"
      ]
     },
     "metadata": {},
     "output_type": "display_data"
    },
    {
     "data": {
      "text/html": [
       "<font color=\"green\">решение экономический экономика деньги компания принятие ценность международный выбор ресурс рынок экономист безопасность эффективность доверие</font>"
      ],
      "text/plain": [
       "<IPython.core.display.HTML object>"
      ]
     },
     "metadata": {},
     "output_type": "display_data"
    },
    {
     "data": {
      "text/html": [
       "<ul><li><a href=\"http://postnauka.ru/video/53415\">http://postnauka.ru/video/53415</a></li><li><a href=\"http://postnauka.ru/video/5465\">http://postnauka.ru/video/5465</a></li><li><a href=\"http://postnauka.ru/video/13152\">http://postnauka.ru/video/13152</a></li><li><a href=\"http://postnauka.ru/video/24286\">http://postnauka.ru/video/24286</a></li><li><a href=\"http://postnauka.ru/video/27823\">http://postnauka.ru/video/27823</a></li><li><a href=\"http://postnauka.ru/video/28278\">http://postnauka.ru/video/28278</a></li><li><a href=\"http://postnauka.ru/video/51488\">http://postnauka.ru/video/51488</a></li><li><a href=\"http://postnauka.ru/video/26119\">http://postnauka.ru/video/26119</a></li><li><a href=\"http://postnauka.ru/video/14280\">http://postnauka.ru/video/14280</a></li><li><a href=\"http://postnauka.ru/video/43679\">http://postnauka.ru/video/43679</a></li></ul>"
      ],
      "text/plain": [
       "<IPython.core.display.HTML object>"
      ]
     },
     "metadata": {},
     "output_type": "display_data"
    },
    {
     "data": {
      "text/html": [
       "<h1>психология</h1>"
      ],
      "text/plain": [
       "<IPython.core.display.HTML object>"
      ]
     },
     "metadata": {},
     "output_type": "display_data"
    },
    {
     "data": {
      "text/html": [
       "<font color=\"green\">человек поведение психология психологический эмоция конфликт мужчина коллективный эмоциональный способность женщина ощущение родитель психический идентичность</font>"
      ],
      "text/plain": [
       "<IPython.core.display.HTML object>"
      ]
     },
     "metadata": {},
     "output_type": "display_data"
    },
    {
     "data": {
      "text/html": [
       "<ul><li><a href=\"http://postnauka.ru/video/22892\">http://postnauka.ru/video/22892</a></li><li><a href=\"http://postnauka.ru/video/22883\">http://postnauka.ru/video/22883</a></li><li><a href=\"http://postnauka.ru/video/26223\">http://postnauka.ru/video/26223</a></li><li><a href=\"http://postnauka.ru/video/21643\">http://postnauka.ru/video/21643</a></li><li><a href=\"http://postnauka.ru/video/9865\">http://postnauka.ru/video/9865</a></li><li><a href=\"http://postnauka.ru/video/40866\">http://postnauka.ru/video/40866</a></li><li><a href=\"http://postnauka.ru/video/9729\">http://postnauka.ru/video/9729</a></li><li><a href=\"http://postnauka.ru/video/16191\">http://postnauka.ru/video/16191</a></li><li><a href=\"http://postnauka.ru/video/21661\">http://postnauka.ru/video/21661</a></li><li><a href=\"http://postnauka.ru/video/2946\">http://postnauka.ru/video/2946</a></li></ul>"
      ],
      "text/plain": [
       "<IPython.core.display.HTML object>"
      ]
     },
     "metadata": {},
     "output_type": "display_data"
    },
    {
     "data": {
      "text/html": [
       "<h1>кибернетика</h1>"
      ],
      "text/plain": [
       "<IPython.core.display.HTML object>"
      ]
     },
     "metadata": {},
     "output_type": "display_data"
    },
    {
     "data": {
      "text/html": [
       "<font color=\"green\">задача данные компьютер сеть программа компьютерный алгоритм интеллект интернет искусственный ошибка обучение вычислительный пользователь разработка</font>"
      ],
      "text/plain": [
       "<IPython.core.display.HTML object>"
      ]
     },
     "metadata": {},
     "output_type": "display_data"
    },
    {
     "data": {
      "text/html": [
       "<ul><li><a href=\"http://postnauka.ru/video/32901\">http://postnauka.ru/video/32901</a></li><li><a href=\"http://postnauka.ru/video/24306\">http://postnauka.ru/video/24306</a></li><li><a href=\"http://postnauka.ru/video/8313\">http://postnauka.ru/video/8313</a></li><li><a href=\"http://postnauka.ru/video/33885\">http://postnauka.ru/video/33885</a></li><li><a href=\"http://postnauka.ru/video/55303\">http://postnauka.ru/video/55303</a></li><li><a href=\"http://postnauka.ru/video/47810\">http://postnauka.ru/video/47810</a></li><li><a href=\"http://postnauka.ru/video/12172\">http://postnauka.ru/video/12172</a></li><li><a href=\"http://postnauka.ru/video/9998\">http://postnauka.ru/video/9998</a></li><li><a href=\"http://postnauka.ru/video/45717\">http://postnauka.ru/video/45717</a></li><li><a href=\"http://postnauka.ru/video/13155\">http://postnauka.ru/video/13155</a></li></ul>"
      ],
      "text/plain": [
       "<IPython.core.display.HTML object>"
      ]
     },
     "metadata": {},
     "output_type": "display_data"
    },
    {
     "data": {
      "text/html": [
       "<h1>востоковедение</h1>"
      ],
      "text/plain": [
       "<IPython.core.display.HTML object>"
      ]
     },
     "metadata": {},
     "output_type": "display_data"
    },
    {
     "data": {
      "text/html": [
       "<font color=\"green\">территория словарь восток древний письменность народ китай северный памятник восточный китайский южный письмо население регион</font>"
      ],
      "text/plain": [
       "<IPython.core.display.HTML object>"
      ]
     },
     "metadata": {},
     "output_type": "display_data"
    },
    {
     "data": {
      "text/html": [
       "<ul><li><a href=\"http://postnauka.ru/video/53171\">http://postnauka.ru/video/53171</a></li><li><a href=\"http://postnauka.ru/video/5891\">http://postnauka.ru/video/5891</a></li><li><a href=\"http://postnauka.ru/video/59201\">http://postnauka.ru/video/59201</a></li><li><a href=\"http://postnauka.ru/video/2527\">http://postnauka.ru/video/2527</a></li><li><a href=\"http://postnauka.ru/video/12515\">http://postnauka.ru/video/12515</a></li><li><a href=\"http://postnauka.ru/video/17041\">http://postnauka.ru/video/17041</a></li><li><a href=\"http://postnauka.ru/video/51380\">http://postnauka.ru/video/51380</a></li><li><a href=\"http://postnauka.ru/video/25290\">http://postnauka.ru/video/25290</a></li><li><a href=\"http://postnauka.ru/video/52958\">http://postnauka.ru/video/52958</a></li><li><a href=\"http://postnauka.ru/video/56302\">http://postnauka.ru/video/56302</a></li></ul>"
      ],
      "text/plain": [
       "<IPython.core.display.HTML object>"
      ]
     },
     "metadata": {},
     "output_type": "display_data"
    },
    {
     "data": {
      "text/html": [
       "<h1>генетика</h1>"
      ],
      "text/plain": [
       "<IPython.core.display.HTML object>"
      ]
     },
     "metadata": {},
     "output_type": "display_data"
    },
    {
     "data": {
      "text/html": [
       "<font color=\"green\">клетка ген днк белок организм молекула генетический геном бактерия рнк мутация молекулярный ткань биологический вирус</font>"
      ],
      "text/plain": [
       "<IPython.core.display.HTML object>"
      ]
     },
     "metadata": {},
     "output_type": "display_data"
    },
    {
     "data": {
      "text/html": [
       "<ul><li><a href=\"http://postnauka.ru/video/5390\">http://postnauka.ru/video/5390</a></li><li><a href=\"http://postnauka.ru/video/10475\">http://postnauka.ru/video/10475</a></li><li><a href=\"http://postnauka.ru/video/17051\">http://postnauka.ru/video/17051</a></li><li><a href=\"http://postnauka.ru/video/27434\">http://postnauka.ru/video/27434</a></li><li><a href=\"http://postnauka.ru/video/32881\">http://postnauka.ru/video/32881</a></li><li><a href=\"http://postnauka.ru/video/35461\">http://postnauka.ru/video/35461</a></li><li><a href=\"http://postnauka.ru/video/35051\">http://postnauka.ru/video/35051</a></li><li><a href=\"http://postnauka.ru/video/5915\">http://postnauka.ru/video/5915</a></li><li><a href=\"http://postnauka.ru/video/16156\">http://postnauka.ru/video/16156</a></li><li><a href=\"http://postnauka.ru/video/11628\">http://postnauka.ru/video/11628</a></li></ul>"
      ],
      "text/plain": [
       "<IPython.core.display.HTML object>"
      ]
     },
     "metadata": {},
     "output_type": "display_data"
    },
    {
     "data": {
      "text/html": [
       "<h1>квантовая динамика</h1>"
      ],
      "text/plain": [
       "<IPython.core.display.HTML object>"
      ]
     },
     "metadata": {},
     "output_type": "display_data"
    },
    {
     "data": {
      "text/html": [
       "<font color=\"green\">энергия квантовый поле магнитный атом электрон свет волна эффект фотон измерение оптический физико-математический ток частота</font>"
      ],
      "text/plain": [
       "<IPython.core.display.HTML object>"
      ]
     },
     "metadata": {},
     "output_type": "display_data"
    },
    {
     "data": {
      "text/html": [
       "<ul><li><a href=\"http://postnauka.ru/video/19457\">http://postnauka.ru/video/19457</a></li><li><a href=\"http://postnauka.ru/video/21662\">http://postnauka.ru/video/21662</a></li><li><a href=\"http://postnauka.ru/video/25875\">http://postnauka.ru/video/25875</a></li><li><a href=\"http://postnauka.ru/video/24434\">http://postnauka.ru/video/24434</a></li><li><a href=\"http://postnauka.ru/video/19509\">http://postnauka.ru/video/19509</a></li><li><a href=\"http://postnauka.ru/video/51174\">http://postnauka.ru/video/51174</a></li><li><a href=\"http://postnauka.ru/video/3381\">http://postnauka.ru/video/3381</a></li><li><a href=\"http://postnauka.ru/video/23335\">http://postnauka.ru/video/23335</a></li><li><a href=\"http://postnauka.ru/video/26609\">http://postnauka.ru/video/26609</a></li><li><a href=\"http://postnauka.ru/video/18221\">http://postnauka.ru/video/18221</a></li></ul>"
      ],
      "text/plain": [
       "<IPython.core.display.HTML object>"
      ]
     },
     "metadata": {},
     "output_type": "display_data"
    },
    {
     "data": {
      "text/html": [
       "<h1>философия</h1>"
      ],
      "text/plain": [
       "<IPython.core.display.HTML object>"
      ]
     },
     "metadata": {},
     "output_type": "display_data"
    },
    {
     "data": {
      "text/html": [
       "<font color=\"green\">культура философия философский философ автор женщина произведение платон роман писать религиозный идеология жанр мысль поэт</font>"
      ],
      "text/plain": [
       "<IPython.core.display.HTML object>"
      ]
     },
     "metadata": {},
     "output_type": "display_data"
    },
    {
     "data": {
      "text/html": [
       "<ul><li><a href=\"http://postnauka.ru/video/2529\">http://postnauka.ru/video/2529</a></li><li><a href=\"http://postnauka.ru/video/12738\">http://postnauka.ru/video/12738</a></li><li><a href=\"http://postnauka.ru/video/7764\">http://postnauka.ru/video/7764</a></li><li><a href=\"http://postnauka.ru/video/9728\">http://postnauka.ru/video/9728</a></li><li><a href=\"http://postnauka.ru/video/53513\">http://postnauka.ru/video/53513</a></li><li><a href=\"http://postnauka.ru/video/23834\">http://postnauka.ru/video/23834</a></li><li><a href=\"http://postnauka.ru/video/32664\">http://postnauka.ru/video/32664</a></li><li><a href=\"http://postnauka.ru/video/7068\">http://postnauka.ru/video/7068</a></li><li><a href=\"http://postnauka.ru/video/46317\">http://postnauka.ru/video/46317</a></li><li><a href=\"http://postnauka.ru/video/37965\">http://postnauka.ru/video/37965</a></li></ul>"
      ],
      "text/plain": [
       "<IPython.core.display.HTML object>"
      ]
     },
     "metadata": {},
     "output_type": "display_data"
    },
    {
     "data": {
      "text/html": [
       "<h1>французская революция</h1>"
      ],
      "text/plain": [
       "<IPython.core.display.HTML object>"
      ]
     },
     "metadata": {},
     "output_type": "display_data"
    },
    {
     "data": {
      "text/html": [
       "<font color=\"green\">революция власть король французский реформа петр франция против сталин император народ крестьянин террор диктатура смерть</font>"
      ],
      "text/plain": [
       "<IPython.core.display.HTML object>"
      ]
     },
     "metadata": {},
     "output_type": "display_data"
    },
    {
     "data": {
      "text/html": [
       "<ul><li><a href=\"http://postnauka.ru/video/53577\">http://postnauka.ru/video/53577</a></li><li><a href=\"http://postnauka.ru/video/48492\">http://postnauka.ru/video/48492</a></li><li><a href=\"http://postnauka.ru/video/54175\">http://postnauka.ru/video/54175</a></li><li><a href=\"http://postnauka.ru/video/47823\">http://postnauka.ru/video/47823</a></li><li><a href=\"http://postnauka.ru/video/1893\">http://postnauka.ru/video/1893</a></li><li><a href=\"http://postnauka.ru/video/25882\">http://postnauka.ru/video/25882</a></li><li><a href=\"http://postnauka.ru/video/42993\">http://postnauka.ru/video/42993</a></li><li><a href=\"http://postnauka.ru/video/58542\">http://postnauka.ru/video/58542</a></li><li><a href=\"http://postnauka.ru/video/23161\">http://postnauka.ru/video/23161</a></li><li><a href=\"http://postnauka.ru/video/42996\">http://postnauka.ru/video/42996</a></li></ul>"
      ],
      "text/plain": [
       "<IPython.core.display.HTML object>"
      ]
     },
     "metadata": {},
     "output_type": "display_data"
    },
    {
     "data": {
      "text/html": [
       "<h1>история России</h1>"
      ],
      "text/plain": [
       "<IPython.core.display.HTML object>"
      ]
     },
     "metadata": {},
     "output_type": "display_data"
    },
    {
     "data": {
      "text/html": [
       "<font color=\"green\">советский россия война мировой гражданский песня союз обряд екатерина самка ссср самец эмиграция большевик армия</font>"
      ],
      "text/plain": [
       "<IPython.core.display.HTML object>"
      ]
     },
     "metadata": {},
     "output_type": "display_data"
    },
    {
     "data": {
      "text/html": [
       "<ul><li><a href=\"http://postnauka.ru/video/34413\">http://postnauka.ru/video/34413</a></li><li><a href=\"http://postnauka.ru/video/30261\">http://postnauka.ru/video/30261</a></li><li><a href=\"http://postnauka.ru/video/46939\">http://postnauka.ru/video/46939</a></li><li><a href=\"http://postnauka.ru/video/52936\">http://postnauka.ru/video/52936</a></li><li><a href=\"http://postnauka.ru/video/57259\">http://postnauka.ru/video/57259</a></li><li><a href=\"http://postnauka.ru/video/41680\">http://postnauka.ru/video/41680</a></li><li><a href=\"http://postnauka.ru/video/25890\">http://postnauka.ru/video/25890</a></li><li><a href=\"http://postnauka.ru/video/55219\">http://postnauka.ru/video/55219</a></li><li><a href=\"http://postnauka.ru/video/25906\">http://postnauka.ru/video/25906</a></li><li><a href=\"http://postnauka.ru/video/47816\">http://postnauka.ru/video/47816</a></li></ul>"
      ],
      "text/plain": [
       "<IPython.core.display.HTML object>"
      ]
     },
     "metadata": {},
     "output_type": "display_data"
    },
    {
     "data": {
      "text/html": [
       "<h1>лингвистика</h1>"
      ],
      "text/plain": [
       "<IPython.core.display.HTML object>"
      ]
     },
     "metadata": {},
     "output_type": "display_data"
    },
    {
     "data": {
      "text/html": [
       "<font color=\"green\">язык христианский литературный литература лингвист христианство глагол филологический лингвистика языковой грамматика христианин арабский падеж английский</font>"
      ],
      "text/plain": [
       "<IPython.core.display.HTML object>"
      ]
     },
     "metadata": {},
     "output_type": "display_data"
    },
    {
     "data": {
      "text/html": [
       "<ul><li><a href=\"http://postnauka.ru/video/7755\">http://postnauka.ru/video/7755</a></li><li><a href=\"http://postnauka.ru/video/13041\">http://postnauka.ru/video/13041</a></li><li><a href=\"http://postnauka.ru/video/10473\">http://postnauka.ru/video/10473</a></li><li><a href=\"http://postnauka.ru/video/55301\">http://postnauka.ru/video/55301</a></li><li><a href=\"http://postnauka.ru/video/52778\">http://postnauka.ru/video/52778</a></li><li><a href=\"http://postnauka.ru/video/3387\">http://postnauka.ru/video/3387</a></li><li><a href=\"http://postnauka.ru/video/6720\">http://postnauka.ru/video/6720</a></li><li><a href=\"http://postnauka.ru/video/14297\">http://postnauka.ru/video/14297</a></li><li><a href=\"http://postnauka.ru/video/53169\">http://postnauka.ru/video/53169</a></li><li><a href=\"http://postnauka.ru/video/49203\">http://postnauka.ru/video/49203</a></li></ul>"
      ],
      "text/plain": [
       "<IPython.core.display.HTML object>"
      ]
     },
     "metadata": {},
     "output_type": "display_data"
    },
    {
     "data": {
      "text/html": [
       "<h1>теория относительности</h1>"
      ],
      "text/plain": [
       "<IPython.core.display.HTML object>"
      ]
     },
     "metadata": {},
     "output_type": "display_data"
    },
    {
     "data": {
      "text/html": [
       "<font color=\"green\">теория пространство математический описывать уравнение матрица теоретический математика описание эйнштейн относительность линейный параметр механика геометрия</font>"
      ],
      "text/plain": [
       "<IPython.core.display.HTML object>"
      ]
     },
     "metadata": {},
     "output_type": "display_data"
    },
    {
     "data": {
      "text/html": [
       "<ul><li><a href=\"http://postnauka.ru/video/3388\">http://postnauka.ru/video/3388</a></li><li><a href=\"http://postnauka.ru/video/36804\">http://postnauka.ru/video/36804</a></li><li><a href=\"http://postnauka.ru/video/57128\">http://postnauka.ru/video/57128</a></li><li><a href=\"http://postnauka.ru/video/55069\">http://postnauka.ru/video/55069</a></li><li><a href=\"http://postnauka.ru/video/18085\">http://postnauka.ru/video/18085</a></li><li><a href=\"http://postnauka.ru/video/18086\">http://postnauka.ru/video/18086</a></li><li><a href=\"http://postnauka.ru/video/19456\">http://postnauka.ru/video/19456</a></li><li><a href=\"http://postnauka.ru/video/51371\">http://postnauka.ru/video/51371</a></li><li><a href=\"http://postnauka.ru/video/34416\">http://postnauka.ru/video/34416</a></li><li><a href=\"http://postnauka.ru/video/25278\">http://postnauka.ru/video/25278</a></li></ul>"
      ],
      "text/plain": [
       "<IPython.core.display.HTML object>"
      ]
     },
     "metadata": {},
     "output_type": "display_data"
    },
    {
     "data": {
      "text/html": [
       "<h1>киноискусство</h1>"
      ],
      "text/plain": [
       "<IPython.core.display.HTML object>"
      ]
     },
     "metadata": {},
     "output_type": "display_data"
    },
    {
     "data": {
      "text/html": [
       "<font color=\"green\">внимание костюм коллективизация фразеологизм скелет сочетание банк термоэлектрический порнография финансовый фрейм воображение актер долг чувствительность</font>"
      ],
      "text/plain": [
       "<IPython.core.display.HTML object>"
      ]
     },
     "metadata": {},
     "output_type": "display_data"
    },
    {
     "data": {
      "text/html": [
       "<ul><li><a href=\"http://postnauka.ru/video/9389\">http://postnauka.ru/video/9389</a></li><li><a href=\"http://postnauka.ru/video/31684\">http://postnauka.ru/video/31684</a></li><li><a href=\"http://postnauka.ru/video/43843\">http://postnauka.ru/video/43843</a></li><li><a href=\"http://postnauka.ru/video/49866\">http://postnauka.ru/video/49866</a></li><li><a href=\"http://postnauka.ru/video/40004\">http://postnauka.ru/video/40004</a></li><li><a href=\"http://postnauka.ru/video/37978\">http://postnauka.ru/video/37978</a></li><li><a href=\"http://postnauka.ru/video/36242\">http://postnauka.ru/video/36242</a></li><li><a href=\"http://postnauka.ru/video/57127\">http://postnauka.ru/video/57127</a></li><li><a href=\"http://postnauka.ru/video/30601\">http://postnauka.ru/video/30601</a></li><li><a href=\"http://postnauka.ru/video/26616\">http://postnauka.ru/video/26616</a></li></ul>"
      ],
      "text/plain": [
       "<IPython.core.display.HTML object>"
      ]
     },
     "metadata": {},
     "output_type": "display_data"
    },
    {
     "data": {
      "text/html": [
       "<h1>астрономия</h1>"
      ],
      "text/plain": [
       "<IPython.core.display.HTML object>"
      ]
     },
     "metadata": {},
     "output_type": "display_data"
    },
    {
     "data": {
      "text/html": [
       "<font color=\"green\">звезда вселенная объект излучение белый нейтронный карлик спектр вещество телескоп измерять рентгеновский небо реликтовый сверхновый</font>"
      ],
      "text/plain": [
       "<IPython.core.display.HTML object>"
      ]
     },
     "metadata": {},
     "output_type": "display_data"
    },
    {
     "data": {
      "text/html": [
       "<ul><li><a href=\"http://postnauka.ru/video/53693\">http://postnauka.ru/video/53693</a></li><li><a href=\"http://postnauka.ru/video/6673\">http://postnauka.ru/video/6673</a></li><li><a href=\"http://postnauka.ru/video/30015\">http://postnauka.ru/video/30015</a></li><li><a href=\"http://postnauka.ru/video/59202\">http://postnauka.ru/video/59202</a></li><li><a href=\"http://postnauka.ru/video/23969\">http://postnauka.ru/video/23969</a></li><li><a href=\"http://postnauka.ru/video/49447\">http://postnauka.ru/video/49447</a></li><li><a href=\"http://postnauka.ru/video/10756\">http://postnauka.ru/video/10756</a></li><li><a href=\"http://postnauka.ru/video/12372\">http://postnauka.ru/video/12372</a></li><li><a href=\"http://postnauka.ru/video/38007\">http://postnauka.ru/video/38007</a></li><li><a href=\"http://postnauka.ru/video/23500\">http://postnauka.ru/video/23500</a></li></ul>"
      ],
      "text/plain": [
       "<IPython.core.display.HTML object>"
      ]
     },
     "metadata": {},
     "output_type": "display_data"
    },
    {
     "data": {
      "text/html": [
       "<h1>кино</h1>"
      ],
      "text/plain": [
       "<IPython.core.display.HTML object>"
      ]
     },
     "metadata": {},
     "output_type": "display_data"
    },
    {
     "data": {
      "text/html": [
       "<font color=\"green\">фильм роль свобода кино кинематограф культовый академия академический профессор бердяев отделение классика актер играть вечный</font>"
      ],
      "text/plain": [
       "<IPython.core.display.HTML object>"
      ]
     },
     "metadata": {},
     "output_type": "display_data"
    },
    {
     "data": {
      "text/html": [
       "<ul><li><a href=\"http://postnauka.ru/video/5396\">http://postnauka.ru/video/5396</a></li><li><a href=\"http://postnauka.ru/video/9429\">http://postnauka.ru/video/9429</a></li><li><a href=\"http://postnauka.ru/video/10779\">http://postnauka.ru/video/10779</a></li><li><a href=\"http://postnauka.ru/video/39723\">http://postnauka.ru/video/39723</a></li><li><a href=\"http://postnauka.ru/video/11246\">http://postnauka.ru/video/11246</a></li><li><a href=\"http://postnauka.ru/video/8623\">http://postnauka.ru/video/8623</a></li><li><a href=\"http://postnauka.ru/video/7074\">http://postnauka.ru/video/7074</a></li><li><a href=\"http://postnauka.ru/video/57126\">http://postnauka.ru/video/57126</a></li><li><a href=\"http://postnauka.ru/video/19436\">http://postnauka.ru/video/19436</a></li><li><a href=\"http://postnauka.ru/video/45548\">http://postnauka.ru/video/45548</a></li></ul>"
      ],
      "text/plain": [
       "<IPython.core.display.HTML object>"
      ]
     },
     "metadata": {},
     "output_type": "display_data"
    },
    {
     "data": {
      "text/html": [
       "<h1>Фоновая тема</h1>"
      ],
      "text/plain": [
       "<IPython.core.display.HTML object>"
      ]
     },
     "metadata": {},
     "output_type": "display_data"
    },
    {
     "data": {
      "text/html": [
       "<font color=\"green\">быть что это который этот как они мочь такой очень для или тот один весь</font>"
      ],
      "text/plain": [
       "<IPython.core.display.HTML object>"
      ]
     },
     "metadata": {},
     "output_type": "display_data"
    },
    {
     "data": {
      "text/html": [
       "<ul><li><a href=\"http://postnauka.ru/video/51365\">http://postnauka.ru/video/51365</a></li><li><a href=\"http://postnauka.ru/video/49851\">http://postnauka.ru/video/49851</a></li><li><a href=\"http://postnauka.ru/video/42436\">http://postnauka.ru/video/42436</a></li><li><a href=\"http://postnauka.ru/video/54112\">http://postnauka.ru/video/54112</a></li><li><a href=\"http://postnauka.ru/video/58752\">http://postnauka.ru/video/58752</a></li><li><a href=\"http://postnauka.ru/video/54668\">http://postnauka.ru/video/54668</a></li><li><a href=\"http://postnauka.ru/video/41678\">http://postnauka.ru/video/41678</a></li><li><a href=\"http://postnauka.ru/video/46943\">http://postnauka.ru/video/46943</a></li><li><a href=\"http://postnauka.ru/video/51494\">http://postnauka.ru/video/51494</a></li><li><a href=\"http://postnauka.ru/video/36857\">http://postnauka.ru/video/36857</a></li></ul>"
      ],
      "text/plain": [
       "<IPython.core.display.HTML object>"
      ]
     },
     "metadata": {},
     "output_type": "display_data"
    }
   ],
   "source": [
    "# Ваш код\n",
    "\n",
    "for i, topic_name in enumerate(model_artm.topic_names):\n",
    "    display(HTML(u\"<h1>{}</h1>\".format(topic_labels[i])))   # также <h2>, <h3>\n",
    "    display(HTML(u'<font color=\"green\">{}</font>'.format(\" \".join(tokens_text[topic_name]))))\n",
    "    linklist = ['<li><a href=\"{}\">{}</a></li>'.format(p_dt.columns[index[i, ind]], p_dt.columns[index[i, ind]]) \n",
    "                for ind in range(-1, -11, -1)]\n",
    "    display(HTML(u\"<ul>{}</ul>\".format(\"\".join(linklist))))"
   ]
  },
  {
   "cell_type": "markdown",
   "metadata": {},
   "source": [
    "##### Заключение"
   ]
  },
  {
   "cell_type": "markdown",
   "metadata": {},
   "source": [
    "В этом Peer Review мы познакомились с базовыми возможностями библиотеки BigARTM и с методами визуализации тематических моделей. Визуализация тематических моделей - это широкая и активно развивающаяся область научных исследований. Мы рассмотрели только самые простые приемы. Желающие могут попробовать применить [Serendip](http://vep.cs.wisc.edu/serendip/#serendipHero), разработанный в  University of Wisconsin-Madison, к построенной модели. Эта библиотека позволяет максимально полно охарактеризовать темы и написана для языка python. \n",
    "\n",
    "Сделав задание, вы можете выбрать в навигаторе наиболее интересную для вас тему и посмотреть видеолекции :) На Постнауке очень много интересных материалов. "
   ]
  }
 ],
 "metadata": {
  "kernelspec": {
   "display_name": "Python 2",
   "language": "python",
   "name": "python2"
  },
  "language_info": {
   "codemirror_mode": {
    "name": "ipython",
    "version": 2
   },
   "file_extension": ".py",
   "mimetype": "text/x-python",
   "name": "python",
   "nbconvert_exporter": "python",
   "pygments_lexer": "ipython2",
   "version": "2.7.13"
  }
 },
 "nbformat": 4,
 "nbformat_minor": 1
}
