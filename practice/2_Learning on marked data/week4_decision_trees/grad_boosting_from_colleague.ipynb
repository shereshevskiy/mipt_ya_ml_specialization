{
 "cells": [
  {
   "cell_type": "markdown",
   "metadata": {},
   "source": [
    "# Градиентный бустинг своими руками\n",
    "\n",
    "**Внимание:** в тексте задания произошли изменения - поменялось число деревьев (теперь 50), правило изменения величины шага в задании 3 и добавился параметр `random_state` у решающего дерева. Правильные ответы не поменялись, но теперь их проще получить. Также исправлена опечатка в функции `gbm_predict`.\n",
    "\n",
    "В этом задании будет использоваться датасет `boston` из `sklearn.datasets`. Оставьте последние 25% объектов для контроля качества, разделив `X` и `y` на `X_train`, `y_train` и `X_test`, `y_test`.\n",
    "\n",
    "Целью задания будет реализовать простой вариант градиентного бустинга над регрессионными деревьями для случая квадратичной функции потерь."
   ]
  },
  {
   "cell_type": "code",
   "execution_count": 196,
   "metadata": {
    "collapsed": false
   },
   "outputs": [
    {
     "name": "stdout",
     "output_type": "stream",
     "text": [
      "Populating the interactive namespace from numpy and matplotlib\n"
     ]
    }
   ],
   "source": [
    "from sklearn import cross_validation, datasets, metrics, tree, ensemble, model_selection, linear_model\n",
    "import numpy as np\n",
    "%pylab inline\n"
   ]
  },
  {
   "cell_type": "code",
   "execution_count": 10,
   "metadata": {
    "collapsed": false
   },
   "outputs": [],
   "source": [
    "boston = datasets.load_boston()"
   ]
  },
  {
   "cell_type": "code",
   "execution_count": 13,
   "metadata": {
    "collapsed": false
   },
   "outputs": [
    {
     "data": {
      "text/plain": [
       "((506L, 13L), (506L,))"
      ]
     },
     "execution_count": 13,
     "metadata": {},
     "output_type": "execute_result"
    }
   ],
   "source": [
    "boston.data.shape, boston.target.shape"
   ]
  },
  {
   "cell_type": "code",
   "execution_count": 198,
   "metadata": {
    "collapsed": false
   },
   "outputs": [
    {
     "data": {
      "text/plain": [
       "507.72736083988212"
      ]
     },
     "execution_count": 198,
     "metadata": {},
     "output_type": "execute_result"
    }
   ],
   "source": [
    "(np.mean(boston.target) ** 2)"
   ]
  },
  {
   "cell_type": "code",
   "execution_count": 215,
   "metadata": {
    "collapsed": true
   },
   "outputs": [],
   "source": [
    "X_train, y_train = boston.data[:378], boston.target[:378]\n",
    "X_test, y_test = boston.data[378:], boston.target[378:]\n"
   ]
  },
  {
   "cell_type": "code",
   "execution_count": 118,
   "metadata": {
    "collapsed": false
   },
   "outputs": [
    {
     "data": {
      "text/plain": [
       "((378L, 13L), (378L,), (128L, 13L), (128L,))"
      ]
     },
     "execution_count": 118,
     "metadata": {},
     "output_type": "execute_result"
    }
   ],
   "source": [
    "X_train.shape, y_train.shape, X_test.shape, y_test.shape"
   ]
  },
  {
   "cell_type": "markdown",
   "metadata": {},
   "source": [
    "## Задание 1\n",
    "\n",
    "Как вы уже знаете из лекций, **бустинг** - это метод построения композиций базовых алгоритмов с помощью последовательного добавления к текущей композиции нового алгоритма с некоторым коэффициентом. \n",
    "\n",
    "Градиентный бустинг обучает каждый новый алгоритм так, чтобы он приближал антиградиент ошибки по ответам композиции на обучающей выборке. Аналогично минимизации функций методом градиентного спуска, в градиентном бустинге мы подправляем композицию, изменяя алгоритм в направлении антиградиента ошибки.\n",
    "\n",
    "Воспользуйтесь формулой из лекций, задающей ответы на обучающей выборке, на которые нужно обучать новый алгоритм (фактически это лишь чуть более подробно расписанный градиент от ошибки), и получите частный ее случай, если функция потерь `L` - квадрат отклонения ответа композиции `a(x)` от правильного ответа `y` на данном `x`.\n",
    "\n",
    "Если вы давно не считали производную самостоятельно, вам поможет таблица производных элементарных функций (которую несложно найти в интернете) и правило дифференцирования сложной функции. После дифференцирования квадрата у вас возникнет множитель 2 — т.к. нам все равно предстоит выбирать коэффициент, с которым будет добавлен новый базовый алгоритм, проигноируйте этот множитель при дальнейшем построении алгоритма."
   ]
  },
  {
   "cell_type": "code",
   "execution_count": 175,
   "metadata": {
    "collapsed": true
   },
   "outputs": [],
   "source": [
    "#определил ниже"
   ]
  },
  {
   "cell_type": "markdown",
   "metadata": {},
   "source": [
    "## Задание 2\n",
    "\n",
    "Заведите массив для объектов `DecisionTreeRegressor` (будем их использовать в качестве базовых алгоритмов) и для вещественных чисел (это будут коэффициенты перед базовыми алгоритмами). \n",
    "\n",
    "В цикле от обучите последовательно 50 решающих деревьев с параметрами `max_depth=5` и `random_state=42` (остальные параметры - по умолчанию). В бустинге зачастую используются сотни и тысячи деревьев, но мы ограничимся 50, чтобы алгоритм работал быстрее, и его было проще отлаживать (т.к. цель задания разобраться, как работает метод). Каждое дерево должно обучаться на одном и том же множестве объектов, но ответы, которые учится прогнозировать дерево, будут меняться в соответствие с полученным в задании 1 правилом. \n",
    "\n",
    "Попробуйте для начала всегда брать коэффициент равным 0.9. Обычно оправдано выбирать коэффициент значительно меньшим - порядка 0.05 или 0.1, но т.к. в нашем учебном примере на стандартном датасете будет всего 50 деревьев, возьмем для начала шаг побольше.\n",
    "\n",
    "В процессе реализации обучения вам потребуется функция, которая будет вычислять прогноз построенной на данный момент композиции деревьев на выборке `X`:\n",
    "\n",
    "```\n",
    "def gbm_predict(X):\n",
    "    return [sum([coeff * algo.predict([x])[0] for algo, coeff in zip(base_algorithms_list, coefficients_list)]) for x in X]\n",
    "(считаем, что base_algorithms_list - список с базовыми алгоритмами, coefficients_list - список с коэффициентами перед алгоритмами)\n",
    "```\n",
    "\n",
    "Эта же функция поможет вам получить прогноз на контрольной выборке и оценить качество работы вашего алгоритма с помощью `mean_squared_error` в `sklearn.metrics`. \n",
    "\n",
    "Возведите результат в степень 0.5, чтобы получить `RMSE`. Полученное значение `RMSE` — **ответ в пункте 2**."
   ]
  },
  {
   "cell_type": "code",
   "execution_count": 176,
   "metadata": {
    "collapsed": false
   },
   "outputs": [],
   "source": [
    "#передаем старые предсказания и значения, к которым нужно приблизить\n",
    "def new_target(old_target, target):\n",
    "    return target - old_target\n",
    "#Задаем массив, куда будем добавлять новые базовые алгоритмы, определяем в нем 0 шаг и обучаем его\n",
    "base_algorithms_list = [tree.DecisionTreeRegressor(max_depth = 5, random_state=42)]\n",
    "base_algorithms_list[0].fit(X_train, y_train)\n",
    "#Задаем массив, куда будем добавлять коээфициенты базовых алгоритмов для композиции и добавляем туда коэфф для 0-шага\n",
    "coefficients_list = [0.9]\n",
    "#Определяем функцию, которая считает предсказание на выборке по композиции алгоритмов с заданными весами\n",
    "def gbm_predict(X):\n",
    "    return [sum([coeff * algo.predict([x]) for algo, coeff in zip(base_algorithms_list, coefficients_list)]) for x in X]\n",
    "\n",
    "#Строим композицию алгоритмов\n",
    "for i in xrange(1,50):\n",
    "    n_targets = new_target(gbm_predict(X_train), y_train)\n",
    "    base_algorithms_list.append(tree.DecisionTreeRegressor(max_depth = 5, random_state=42))\n",
    "    base_algorithms_list[i].fit(X_train, n_targets)\n",
    "    coefficients_list.append(0.9)"
   ]
  },
  {
   "cell_type": "code",
   "execution_count": 178,
   "metadata": {
    "collapsed": false
   },
   "outputs": [
    {
     "name": "stdout",
     "output_type": "stream",
     "text": [
      "5.62379323525\n"
     ]
    }
   ],
   "source": [
    "print np.sqrt(metrics.mean_squared_error(y_test, gbm_predict(X_test)))\n",
    "with open(\"gboost_answer2.txt\", \"w\") as file:\n",
    "        file.write(str(np.sqrt(metrics.mean_squared_error(y_test, gbm_predict(X_test)))))"
   ]
  },
  {
   "cell_type": "markdown",
   "metadata": {},
   "source": [
    "## Задание 3\n",
    "\n",
    "Вас может также беспокоить, что двигаясь с постоянным шагом, вблизи минимума ошибки ответы на обучающей выборке меняются слишком резко, перескакивая через минимум. \n",
    "\n",
    "Попробуйте уменьшать вес перед каждым алгоритмом с каждой следующей итерацией по формуле `0.9 / (1.0 + i)`, где `i` - номер итерации (от 0 до 49). Используйте качество работы алгоритма как **ответ в пункте 3**. \n",
    "\n",
    "В реальности часто применяется следующая стратегия выбора шага: как только выбран алгоритм, подберем коэффициент перед ним численным методом оптимизации таким образом, чтобы отклонение от правильных ответов было минимальным. Мы не будем предлагать вам реализовать это для выполнения задания, но рекомендуем попробовать разобраться с такой стратегией и реализовать ее при случае для себя."
   ]
  },
  {
   "cell_type": "code",
   "execution_count": 179,
   "metadata": {
    "collapsed": true
   },
   "outputs": [],
   "source": [
    "#Задаем массив, куда будем добавлять новые базовые алгоритмы, определяем в нем 0 шаг и обучаем его\n",
    "base_algorithms_list = [tree.DecisionTreeRegressor(max_depth = 5, random_state=42)]\n",
    "base_algorithms_list[0].fit(X_train, y_train)\n",
    "#Задаем массив, куда будем добавлять коээфициенты базовых алгоритмов для композиции и добавляем туда коэфф для 0-шага\n",
    "coefficients_list = [0.9]\n",
    "#Определяем функцию, которая считает предсказание на выборке по композиции алгоритмов с заданными весами\n",
    "def gbm_predict(X):\n",
    "    return [sum([coeff * algo.predict([x]) for algo, coeff in zip(base_algorithms_list, coefficients_list)]) for x in X]\n",
    "\n",
    "#Строим композицию алгоритмов\n",
    "for i in xrange(1,50):\n",
    "    n_targets = new_target(gbm_predict(X_train), y_train)\n",
    "    base_algorithms_list.append(tree.DecisionTreeRegressor(max_depth = 5, random_state=42))\n",
    "    base_algorithms_list[i].fit(X_train, n_targets)\n",
    "    coefficients_list.append(0.9 / (i+1))"
   ]
  },
  {
   "cell_type": "code",
   "execution_count": 180,
   "metadata": {
    "collapsed": false
   },
   "outputs": [
    {
     "name": "stdout",
     "output_type": "stream",
     "text": [
      "5.30489347052\n"
     ]
    }
   ],
   "source": [
    "print np.sqrt(metrics.mean_squared_error(y_test, gbm_predict(X_test)))\n",
    "with open(\"gboost_answer3.txt\", \"w\") as file:\n",
    "        file.write(str(np.sqrt(metrics.mean_squared_error(y_test, gbm_predict(X_test)))))"
   ]
  },
  {
   "cell_type": "markdown",
   "metadata": {},
   "source": [
    "## Задание 4\n",
    "\n",
    "Реализованный вами метод - градиентный бустинг над деревьями - очень популярен в машинном обучении. Он представлен как в самой библиотеке `sklearn`, так и в сторонней библиотеке `XGBoost`, которая имеет свой питоновский интерфейс. На практике `XGBoost` работает заметно лучше `GradientBoostingRegressor` из `sklearn`, но для этого задания вы можете использовать любую реализацию. \n",
    "\n",
    "Исследуйте, переобучается ли градиентный бустинг с ростом числа итераций (и подумайте, почему), а также с ростом глубины деревьев. На основе наблюдений выпишите через пробел номера правильных из приведенных ниже утверждений в порядке возрастания номера (это будет **ответ в п.4**):\n",
    "\n",
    "    1. С увеличением числа деревьев, начиная с некоторого момента, качество работы градиентного бустинга не меняется существенно.\n",
    "\n",
    "    2. С увеличением числа деревьев, начиная с некоторого момента, градиентный бустинг начинает переобучаться.\n",
    "\n",
    "    3. С ростом глубины деревьев, начиная с некоторого момента, качество работы градиентного бустинга на тестовой выборке начинает ухудшаться.\n",
    "\n",
    "    4. С ростом глубины деревьев, начиная с некоторого момента, качество работы градиентного бустинга перестает существенно изменяться"
   ]
  },
  {
   "cell_type": "code",
   "execution_count": 181,
   "metadata": {
    "collapsed": true
   },
   "outputs": [],
   "source": [
    "#Задаем массивы, где будем накапливать mean_squared_error на обучающей и тестовой выборке в зависимости от глубины дерева\n",
    "train_error = []\n",
    "test_error = []\n",
    "#Задаем цикл для глубины обучающих деревьев от 5 до 15 с шагом 1.\n",
    "for depth in xrange (5, 16):\n",
    "    #Задаем массив, куда будем добавлять новые базовые алгоритмы, определяем в нем 0 шаг и обучаем его\n",
    "    base_algorithms_list = [tree.DecisionTreeRegressor(max_depth = depth, random_state=42)]\n",
    "    base_algorithms_list[0].fit(X_train, y_train)\n",
    "    #Задаем массив, куда будем добавлять коээфициенты базовых алгоритмов для композиции и добавляем туда коэфф для 0-шага\n",
    "    coefficients_list = [0.9]\n",
    "    #Строим композицию алгоритмов\n",
    "    for i in xrange(1,50):\n",
    "        n_targets = new_target(gbm_predict(X_train), y_train)\n",
    "        base_algorithms_list.append(tree.DecisionTreeRegressor(max_depth = depth, random_state=42))\n",
    "        base_algorithms_list[i].fit(X_train, n_targets)\n",
    "        coefficients_list.append(0.9 / (i+1))\n",
    "    train_error.append(np.sqrt(metrics.mean_squared_error(y_train, gbm_predict(X_train))))\n",
    "    test_error.append(np.sqrt(metrics.mean_squared_error(y_test, gbm_predict(X_test))))"
   ]
  },
  {
   "cell_type": "code",
   "execution_count": 185,
   "metadata": {
    "collapsed": false
   },
   "outputs": [
    {
     "data": {
      "text/plain": [
       "<matplotlib.legend.Legend at 0xb17a588>"
      ]
     },
     "execution_count": 185,
     "metadata": {},
     "output_type": "execute_result"
    },
    {
     "data": {
      "image/png": "[encoded data removed]",
      "text/plain": [
       "<matplotlib.figure.Figure at 0xb1ef0f0>"
      ]
     },
     "metadata": {},
     "output_type": "display_data"
    }
   ],
   "source": [
    "pylab.grid(True)\n",
    "pylab.plot(range(5,16), train_error, 'g', label = 'train', marker='o')\n",
    "pylab.plot(range(5,16), test_error, 'r', label = 'test', marker='o')\n",
    "pylab.legend(loc='center right')"
   ]
  },
  {
   "cell_type": "code",
   "execution_count": 190,
   "metadata": {
    "collapsed": false
   },
   "outputs": [
    {
     "name": "stdout",
     "output_type": "stream",
     "text": [
      "Wall time: 46.7 s\n"
     ]
    }
   ],
   "source": [
    "%%time\n",
    "#Задаем массивы, где будем накапливать mean_squared_error на обучающей и тестовой выборке в зависимости от кол-ва алгоритмов\n",
    "train_error = []\n",
    "test_error = []\n",
    "#Задаем цикл для кол-ва алгоритмов от 5 до 30\n",
    "for iter in xrange (5, 50, 5):\n",
    "    #Задаем массив, куда будем добавлять новые базовые алгоритмы, определяем в нем 0 шаг и обучаем его\n",
    "    base_algorithms_list = [tree.DecisionTreeRegressor(max_depth = 5, random_state=42)]\n",
    "    base_algorithms_list[0].fit(X_train, y_train)\n",
    "    #Задаем массив, куда будем добавлять коээфициенты базовых алгоритмов для композиции и добавляем туда коэфф для 0-шага\n",
    "    coefficients_list = [0.9]\n",
    "    #Строим композицию алгоритмов\n",
    "    for i in xrange(1,iter):\n",
    "        n_targets = new_target(gbm_predict(X_train), y_train)\n",
    "        base_algorithms_list.append(tree.DecisionTreeRegressor(max_depth = 5, random_state=42))\n",
    "        base_algorithms_list[i].fit(X_train, n_targets)\n",
    "        coefficients_list.append(0.9 / (i+1))\n",
    "    train_error.append(np.sqrt(metrics.mean_squared_error(y_train, gbm_predict(X_train))))\n",
    "    test_error.append(np.sqrt(metrics.mean_squared_error(y_test, gbm_predict(X_test))))"
   ]
  },
  {
   "cell_type": "code",
   "execution_count": 191,
   "metadata": {
    "collapsed": false
   },
   "outputs": [
    {
     "data": {
      "text/plain": [
       "<matplotlib.legend.Legend at 0xa1f1b70>"
      ]
     },
     "execution_count": 191,
     "metadata": {},
     "output_type": "execute_result"
    },
    {
     "data": {
      "image/png": "[encoded data removed]",
      "text/plain": [
       "<matplotlib.figure.Figure at 0xb7928d0>"
      ]
     },
     "metadata": {},
     "output_type": "display_data"
    }
   ],
   "source": [
    "pylab.grid(True)\n",
    "pylab.plot(range(5,50,5), train_error, 'g', label = 'train', marker='o')\n",
    "pylab.plot(range(5,50,5), test_error, 'r', label = 'test', marker='o')\n",
    "pylab.legend(loc='center right')"
   ]
  },
  {
   "cell_type": "code",
   "execution_count": 193,
   "metadata": {
    "collapsed": true
   },
   "outputs": [],
   "source": [
    "with open(\"gboost_answer4.txt\", \"w\") as file:\n",
    "        file.write('2 3')"
   ]
  },
  {
   "cell_type": "markdown",
   "metadata": {},
   "source": [
    "## Задание 5\n",
    "\n",
    "Сравните получаемое с помощью градиентного бустинга качество с качеством работы линейной регрессии. \n",
    "\n",
    "Для этого обучите `LinearRegression` из `sklearn.linear_model` (с параметрами по умолчанию) на обучающей выборке и оцените для прогнозов полученного алгоритма на тестовой выборке `RMSE`. Полученное качество - ответ в **пункте 5**. \n",
    "\n",
    "В данном примере качество работы простой модели должно было оказаться хуже, но не стоит забывать, что так бывает не всегда. В заданиях к этому курсу вы еще встретите пример обратной ситуации."
   ]
  },
  {
   "cell_type": "code",
   "execution_count": 216,
   "metadata": {
    "collapsed": false
   },
   "outputs": [
    {
     "name": "stdout",
     "output_type": "stream",
     "text": [
      "9.62411301741\n"
     ]
    }
   ],
   "source": [
    "LinearRegressor = linear_model.LinearRegression()\n",
    "LinearRegressor.fit(X_train, y_train)\n",
    "print np.sqrt(metrics.mean_squared_error(y_test, LinearRegressor.predict(X_test)))\n",
    "with open(\"gboost_answer5.txt\", \"w\") as file:\n",
    "        file.write(str(np.sqrt(metrics.mean_squared_error(y_test, LinearRegressor.predict(X_test)))))"
   ]
  }
 ],
 "metadata": {
  "kernelspec": {
   "display_name": "Python 2",
   "language": "python",
   "name": "python2"
  },
  "language_info": {
   "codemirror_mode": {
    "name": "ipython",
    "version": 2
   },
   "file_extension": ".py",
   "mimetype": "text/x-python",
   "name": "python",
   "nbconvert_exporter": "python",
   "pygments_lexer": "ipython2",
   "version": "2.7.13"
  }
 },
 "nbformat": 4,
 "nbformat_minor": 0
}
