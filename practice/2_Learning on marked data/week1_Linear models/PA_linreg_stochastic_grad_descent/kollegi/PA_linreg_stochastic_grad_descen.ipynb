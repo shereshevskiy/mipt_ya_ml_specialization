{
 "cells": [
  {
   "cell_type": "markdown",
   "metadata": {},
   "source": [
    "# Линейная регрессия и стохастический градиентный спуск"
   ]
  },
  {
   "cell_type": "markdown",
   "metadata": {},
   "source": [
    "Задание основано на материалах лекций по линейной регрессии и градиентному спуску. Вы будете прогнозировать выручку компании в зависимости от уровня ее инвестиций в рекламу по TV, в газетах и по радио."
   ]
  },
  {
   "cell_type": "markdown",
   "metadata": {},
   "source": [
    "## Вы научитесь:\n",
    "- решать задачу восстановления линейной регрессии\n",
    "- реализовывать стохастический градиентный спуск для ее настройки\n",
    "- решать задачу линейной регрессии аналитически"
   ]
  },
  {
   "cell_type": "markdown",
   "metadata": {},
   "source": [
    "## Введение\n",
    "Линейная регрессия - один из наиболее хорошо изученных методов машинного обучения, позволяющий прогнозировать значения количественного признака в виде линейной комбинации прочих признаков с параметрами - весами модели. Оптимальные (в смысле минимальности некоторого функционала ошибки) параметры линейной регрессии можно найти аналитически с помощью нормального уравнения или численно с помощью методов оптимизации.  "
   ]
  },
  {
   "cell_type": "markdown",
   "metadata": {},
   "source": [
    "Линейная регрессия использует простой функционал качества - среднеквадратичную ошибку. Мы будем работать с выборкой, содержащей 3 признака. Для настройки параметров (весов) модели решается следующая задача:\n",
    "$$\\Large \\frac{1}{\\ell}\\sum_{i=1}^\\ell{{((w_0 + w_1x_{i1} + w_2x_{i2} +  w_3x_{i3}) - y_i)}^2} \\rightarrow \\min_{w_0, w_1, w_2, w_3},$$\n",
    "где $x_{i1}, x_{i2}, x_{i3}$ - значения признаков $i$-го объекта, $y_i$ - значение целевого признака $i$-го объекта, $\\ell$ - число объектов в обучающей выборке."
   ]
  },
  {
   "cell_type": "markdown",
   "metadata": {},
   "source": [
    "## Градиентный спуск\n",
    "Параметры $w_0, w_1, w_2, w_3$, по которым минимизируется среднеквадратичная ошибка, можно находить численно с помощью градиентного спуска.\n",
    "Градиентный шаг для весов будет выглядеть следующим образом:\n",
    "$$\\Large w_0 \\leftarrow w_0 - \\frac{2\\eta}{\\ell} \\sum_{i=1}^\\ell{{((w_0 + w_1x_{i1} + w_2x_{i2} +  w_3x_{i3}) - y_i)}}$$\n",
    "$$\\Large w_j \\leftarrow w_j - \\frac{2\\eta}{\\ell} \\sum_{i=1}^\\ell{{x_{ij}((w_0 + w_1x_{i1} + w_2x_{i2} +  w_3x_{i3}) - y_i)}},\\ j \\in \\{1,2,3\\}$$\n",
    "Здесь $\\eta$ - параметр, шаг градиентного спуска."
   ]
  },
  {
   "cell_type": "markdown",
   "metadata": {},
   "source": [
    "## Стохастический градиентный спуск\n",
    "Проблема градиентного спуска, описанного выше, в том, что на больших выборках считать на каждом шаге градиент по всем имеющимся данным может быть очень вычислительно сложно. \n",
    "В стохастическом варианте градиентного спуска поправки для весов вычисляются только с учетом одного случайно взятого объекта обучающей выборки:\n",
    "$$\\Large w_0 \\leftarrow w_0 - \\frac{2\\eta}{\\ell} {((w_0 + w_1x_{k1} + w_2x_{k2} +  w_3x_{k3}) - y_k)}$$\n",
    "$$\\Large w_j \\leftarrow w_j - \\frac{2\\eta}{\\ell} {x_{kj}((w_0 + w_1x_{k1} + w_2x_{k2} +  w_3x_{k3}) - y_k)},\\ j \\in \\{1,2,3\\},$$\n",
    "где $k$ - случайный индекс, $k \\in \\{1, \\ldots, \\ell\\}$."
   ]
  },
  {
   "cell_type": "markdown",
   "metadata": {},
   "source": [
    "## Нормальное уравнение \n",
    "Нахождение вектора оптимальных весов $w$ может быть сделано и аналитически.\n",
    "Мы хотим найти такой вектор весов $w$, чтобы вектор $y$, приближающий целевой признак, получался умножением матрицы $X$ (состоящей из всех признаков объектов обучающей выборки, кроме целевого) на вектор весов $w$. То есть, чтобы выполнялось матричное уравнение:\n",
    "$$\\Large y = Xw$$\n",
    "Домножением слева на $X^T$ получаем:\n",
    "$$\\Large X^Ty = X^TXw$$\n",
    "Это хорошо, поскольку теперь матрица $X^TX$ - квадратная, и можно найти решение (вектор $w$) в виде:\n",
    "$$\\Large w = {(X^TX)}^{-1}X^Ty$$\n",
    "Матрица ${(X^TX)}^{-1}X^T$ - [*псевдообратная*](https://ru.wikipedia.org/wiki/Псевдообратная_матрица) для матрицы $X$. В NumPy такую матрицу можно вычислить с помощью функции [numpy.linalg.pinv](http://docs.scipy.org/doc/numpy-1.10.0/reference/generated/numpy.linalg.pinv.html).\n",
    "\n",
    "Однако, нахождение псевдообратной матрицы - операция вычислительно сложная и нестабильная в случае малого определителя матрицы $X$ (проблема мультиколлинеарности). \n",
    "На практике лучше находить вектор весов $w$ решением матричного уравнения \n",
    "$$\\Large X^TXw = X^Ty$$Это может быть сделано с помощью функции [numpy.linalg.solve](http://docs.scipy.org/doc/numpy-1.10.1/reference/generated/numpy.linalg.solve.html).\n",
    "\n",
    "Но все же на практике для больших матриц $X$ быстрее работает градиентный спуск, особенно его стохастическая версия."
   ]
  },
  {
   "cell_type": "markdown",
   "metadata": {},
   "source": [
    "## Инструкции по выполнению"
   ]
  },
  {
   "cell_type": "markdown",
   "metadata": {},
   "source": [
    "В начале напишем простую функцию для записи ответов в текстовый файл. Ответами будут числа, полученные в ходе решения этого задания, округленные до 3 знаков после запятой. Полученные файлы после выполнения задания надо отправить в форму на странице задания на Coursera.org."
   ]
  },
  {
   "cell_type": "code",
   "execution_count": 1,
   "metadata": {
    "collapsed": true
   },
   "outputs": [],
   "source": [
    "def write_answer_to_file(answer, filename):\n",
    "    with open(filename, 'w') as f_out:\n",
    "        f_out.write(str(round(answer, 3)))"
   ]
  },
  {
   "cell_type": "markdown",
   "metadata": {},
   "source": [
    "**1. Загрузите данные из файла *advertising.csv* в объект pandas DataFrame. [Источник данных](http://www-bcf.usc.edu/~gareth/ISL/data.html).**"
   ]
  },
  {
   "cell_type": "code",
   "execution_count": 2,
   "metadata": {
    "collapsed": false
   },
   "outputs": [],
   "source": [
    "import pandas as pd\n",
    "import numpy as np\n",
    "adver_data = pd.read_csv('advertising.csv')"
   ]
  },
  {
   "cell_type": "markdown",
   "metadata": {
    "collapsed": true
   },
   "source": [
    "**Посмотрите на первые 5 записей и на статистику признаков в этом наборе данных.**"
   ]
  },
  {
   "cell_type": "code",
   "execution_count": 3,
   "metadata": {
    "collapsed": false
   },
   "outputs": [
    {
     "data": {
      "text/html": [
       "<div>\n",
       "<table border=\"1\" class=\"dataframe\">\n",
       "  <thead>\n",
       "    <tr style=\"text-align: right;\">\n",
       "      <th></th>\n",
       "      <th>TV</th>\n",
       "      <th>Radio</th>\n",
       "      <th>Newspaper</th>\n",
       "      <th>Sales</th>\n",
       "      <th>Unnamed: 4</th>\n",
       "    </tr>\n",
       "  </thead>\n",
       "  <tbody>\n",
       "    <tr>\n",
       "      <th>0</th>\n",
       "      <td>1</td>\n",
       "      <td>230.1</td>\n",
       "      <td>37.8</td>\n",
       "      <td>69.2</td>\n",
       "      <td>22.1</td>\n",
       "    </tr>\n",
       "    <tr>\n",
       "      <th>1</th>\n",
       "      <td>2</td>\n",
       "      <td>44.5</td>\n",
       "      <td>39.3</td>\n",
       "      <td>45.1</td>\n",
       "      <td>10.4</td>\n",
       "    </tr>\n",
       "    <tr>\n",
       "      <th>2</th>\n",
       "      <td>3</td>\n",
       "      <td>17.2</td>\n",
       "      <td>45.9</td>\n",
       "      <td>69.3</td>\n",
       "      <td>9.3</td>\n",
       "    </tr>\n",
       "    <tr>\n",
       "      <th>3</th>\n",
       "      <td>4</td>\n",
       "      <td>151.5</td>\n",
       "      <td>41.3</td>\n",
       "      <td>58.5</td>\n",
       "      <td>18.5</td>\n",
       "    </tr>\n",
       "    <tr>\n",
       "      <th>4</th>\n",
       "      <td>5</td>\n",
       "      <td>180.8</td>\n",
       "      <td>10.8</td>\n",
       "      <td>58.4</td>\n",
       "      <td>12.9</td>\n",
       "    </tr>\n",
       "    <tr>\n",
       "      <th>5</th>\n",
       "      <td>6</td>\n",
       "      <td>8.7</td>\n",
       "      <td>48.9</td>\n",
       "      <td>75.0</td>\n",
       "      <td>7.2</td>\n",
       "    </tr>\n",
       "  </tbody>\n",
       "</table>\n",
       "</div>"
      ],
      "text/plain": [
       "   TV  Radio  Newspaper  Sales  Unnamed: 4\n",
       "0   1  230.1       37.8   69.2        22.1\n",
       "1   2   44.5       39.3   45.1        10.4\n",
       "2   3   17.2       45.9   69.3         9.3\n",
       "3   4  151.5       41.3   58.5        18.5\n",
       "4   5  180.8       10.8   58.4        12.9\n",
       "5   6    8.7       48.9   75.0         7.2"
      ]
     },
     "execution_count": 3,
     "metadata": {},
     "output_type": "execute_result"
    }
   ],
   "source": [
    "# Ваш код здесь\n",
    "adver_data.head(6)"
   ]
  },
  {
   "cell_type": "code",
   "execution_count": 4,
   "metadata": {
    "collapsed": false
   },
   "outputs": [
    {
     "data": {
      "text/html": [
       "<div>\n",
       "<table border=\"1\" class=\"dataframe\">\n",
       "  <thead>\n",
       "    <tr style=\"text-align: right;\">\n",
       "      <th></th>\n",
       "      <th>Ind</th>\n",
       "      <th>TV</th>\n",
       "      <th>Radio</th>\n",
       "      <th>Newspaper</th>\n",
       "      <th>Sales</th>\n",
       "    </tr>\n",
       "  </thead>\n",
       "  <tbody>\n",
       "    <tr>\n",
       "      <th>0</th>\n",
       "      <td>1</td>\n",
       "      <td>230.1</td>\n",
       "      <td>37.8</td>\n",
       "      <td>69.2</td>\n",
       "      <td>22.1</td>\n",
       "    </tr>\n",
       "    <tr>\n",
       "      <th>1</th>\n",
       "      <td>2</td>\n",
       "      <td>44.5</td>\n",
       "      <td>39.3</td>\n",
       "      <td>45.1</td>\n",
       "      <td>10.4</td>\n",
       "    </tr>\n",
       "    <tr>\n",
       "      <th>2</th>\n",
       "      <td>3</td>\n",
       "      <td>17.2</td>\n",
       "      <td>45.9</td>\n",
       "      <td>69.3</td>\n",
       "      <td>9.3</td>\n",
       "    </tr>\n",
       "    <tr>\n",
       "      <th>3</th>\n",
       "      <td>4</td>\n",
       "      <td>151.5</td>\n",
       "      <td>41.3</td>\n",
       "      <td>58.5</td>\n",
       "      <td>18.5</td>\n",
       "    </tr>\n",
       "    <tr>\n",
       "      <th>4</th>\n",
       "      <td>5</td>\n",
       "      <td>180.8</td>\n",
       "      <td>10.8</td>\n",
       "      <td>58.4</td>\n",
       "      <td>12.9</td>\n",
       "    </tr>\n",
       "    <tr>\n",
       "      <th>5</th>\n",
       "      <td>6</td>\n",
       "      <td>8.7</td>\n",
       "      <td>48.9</td>\n",
       "      <td>75.0</td>\n",
       "      <td>7.2</td>\n",
       "    </tr>\n",
       "  </tbody>\n",
       "</table>\n",
       "</div>"
      ],
      "text/plain": [
       "   Ind     TV  Radio  Newspaper  Sales\n",
       "0    1  230.1   37.8       69.2   22.1\n",
       "1    2   44.5   39.3       45.1   10.4\n",
       "2    3   17.2   45.9       69.3    9.3\n",
       "3    4  151.5   41.3       58.5   18.5\n",
       "4    5  180.8   10.8       58.4   12.9\n",
       "5    6    8.7   48.9       75.0    7.2"
      ]
     },
     "execution_count": 4,
     "metadata": {},
     "output_type": "execute_result"
    }
   ],
   "source": [
    "# Ваш код здесь\n",
    "# Файл \"неправильно\" скачался - со сдвигом колонок, поютому вынужден исправить\n",
    "adver_data.info \n",
    "adver_data = adver_data.rename(columns = {'TV':'Ind', 'Radio' : 'TV', 'Newspaper' : 'Radio', 'Sales':'Newspaper', \n",
    "                                          'Unnamed: 4':'Sales' })\n",
    "adver_data.head(6)"
   ]
  },
  {
   "cell_type": "markdown",
   "metadata": {},
   "source": [
    "**Создайте массивы NumPy *X* из столбцов TV, Radio и Newspaper и *y* - из столбца Sales. Используйте атрибут *values* объекта pandas DataFrame.**"
   ]
  },
  {
   "cell_type": "code",
   "execution_count": 5,
   "metadata": {
    "collapsed": false
   },
   "outputs": [],
   "source": [
    "X = pd.DataFrame(adver_data, columns = ['TV', 'Radio', 'Newspaper'])# Ваш код здесь\n",
    "\n",
    "y = pd.DataFrame(adver_data, columns = ['Sales']) # Ваш код здесь\n"
   ]
  },
  {
   "cell_type": "markdown",
   "metadata": {},
   "source": [
    "**Отмасштабируйте столбцы матрицы *X*, вычтя из каждого значения среднее по соответствующему столбцу и поделив результат на стандартное отклонение. Для определенности, используйте методы mean и std векторов NumPy (реализация std в Pandas может отличаться). Обратите внимание, что в numpy вызов функции .mean() без параметров возвращает среднее по всем элементам массива, а не по столбцам, как в pandas. Чтобы произвести вычисление по столбцам, необходимо указать параметр axis.**"
   ]
  },
  {
   "cell_type": "code",
   "execution_count": 6,
   "metadata": {
    "collapsed": false
   },
   "outputs": [
    {
     "name": "stdout",
     "output_type": "stream",
     "text": [
      "TV           147.0425\n",
      "Radio         23.2640\n",
      "Newspaper     30.5540\n",
      "dtype: float64\n",
      "TV           85.639332\n",
      "Radio        14.809646\n",
      "Newspaper    21.724106\n",
      "dtype: float64\n",
      "X:  \n",
      "      TV  Radio  Newspaper\n",
      "0  230.1   37.8       69.2\n",
      "1   44.5   39.3       45.1\n",
      "2   17.2   45.9       69.3\n",
      "3  151.5   41.3       58.5\n",
      "4  180.8   10.8       58.4\n",
      "\"New\" X:   \n",
      "         TV     Radio  Newspaper\n",
      "0  0.969852  0.981522   1.778945\n",
      "1 -1.197376  1.082808   0.669579\n",
      "2 -1.516155  1.528463   1.783549\n",
      "3  0.052050  1.217855   1.286405\n",
      "4  0.394182 -0.841614   1.281802\n"
     ]
    }
   ],
   "source": [
    "# Ваш код здесь\n",
    "means, stds = np.mean(X, axis=0), np.std(X, axis=0)\n",
    "print means\n",
    "print stds\n",
    "print 'X:  '\n",
    "print X.head()\n",
    "col = ['TV','Radio','Newspaper']\n",
    "for i in range (3):\n",
    "    X[col[i]] = (X[col[i]] - means[i])/stds[i]  \n",
    "# Наверное три раза написать такую строчку было бы эффективнее,но в общем случае данный код компактнее\n",
    "print '\"New\" X:   '\n",
    "print X.head()\n"
   ]
  },
  {
   "cell_type": "markdown",
   "metadata": {},
   "source": [
    "**Добавьте к матрице *X* столбец из единиц, используя методы *hstack*, *ones* и *reshape* библиотеки NumPy. Вектор из единиц нужен для того, чтобы не обрабатывать отдельно коэффициент $w_0$ линейной регрессии.**"
   ]
  },
  {
   "cell_type": "code",
   "execution_count": 7,
   "metadata": {
    "collapsed": false
   },
   "outputs": [
    {
     "name": "stdout",
     "output_type": "stream",
     "text": [
      "[[ 1.          0.11160176 -1.39530685 -1.02439198]\n",
      " [ 1.          0.83440049 -1.20624088 -0.14518434]\n",
      " [ 1.         -1.06075676 -1.18598381 -0.03931117]\n",
      " [ 1.          1.64127273  1.33264499  1.89862818]\n",
      " [ 1.          1.24659427 -0.13261627 -0.02550162]\n",
      " [ 1.          0.67676264  1.47444446 -0.50423249]\n",
      " [ 1.         -0.08807285 -1.42906863 -0.18200979]\n",
      " [ 1.          0.51445404  0.36705807 -0.56867702]\n",
      " [ 1.          1.62258973 -0.63229062 -1.23613832]\n",
      " [ 1.         -1.49863967 -0.75383303 -0.32931159]\n",
      " [ 1.         -1.25576062  1.20435022 -1.13947151]\n",
      " [ 1.         -0.83539302 -0.84161366 -1.13026515]\n",
      " [ 1.         -1.51615499 -1.29402151  0.04814928]\n",
      " [ 1.          0.23070591  1.26512143 -1.2407415 ]\n",
      " [ 1.          0.0310313   0.83297064 -1.13026515]\n",
      " [ 1.         -1.27094056 -1.32103093 -0.771217  ]\n",
      " [ 1.         -0.61703541 -1.24000266 -1.03359834]\n",
      " [ 1.          0.34981006 -0.942899   -1.11185242]\n",
      " [ 1.          1.59456522  1.26512143  1.64085003]]\n"
     ]
    }
   ],
   "source": [
    "import numpy as np\n",
    "# print X.head() \n",
    "a = X.shape\n",
    "b = np.ones((X.shape[0]))\n",
    "d = b.reshape(X.shape[0],1)\n",
    "#print d\n",
    "X = np.hstack((d,X))\n",
    "print X[180:199,:]\n",
    "\n",
    "# Ваш код здесь"
   ]
  },
  {
   "cell_type": "markdown",
   "metadata": {},
   "source": [
    "**2. Реализуйте функцию *mserror* - среднеквадратичную ошибку прогноза. Она принимает два аргумента - объекты Series *y* (значения целевого признака) и *y\\_pred* (предсказанные значения). Не используйте в этой функции циклы - тогда она будет вычислительно неэффективной.**"
   ]
  },
  {
   "cell_type": "code",
   "execution_count": 8,
   "metadata": {
    "collapsed": false
   },
   "outputs": [
    {
     "name": "stdout",
     "output_type": "stream",
     "text": [
      "2.2371625\n",
      "16.0\n"
     ]
    }
   ],
   "source": [
    "def mserror(y_fact, y_pred):\n",
    "    if len(y_fact) == len(y_pred):\n",
    "        s, s_pred = pd.Series(y_fact), pd.Series(y_pred)\n",
    "        c = (s-s_pred)*(s-s_pred)\n",
    "        return c.sum()/float(len(y_fact)) \n",
    "    else:\n",
    "        return \"Lenght Error\"\n",
    "\n",
    "# Проверка работы на примерe: вектор-столбец у с самим собой, увеличенным на 10 процентов. Результат - вектор столбец \n",
    "\n",
    "print mserror(y['Sales'], y['Sales']*1.1)\n",
    "# А это показывает, что функция работает и со строками (списками):\n",
    "print mserror ([1,1,1,1,1,1,1,1,1,1,1,1,1,1,1,1], [5,5,5,5,5,5,5,5,5,5,5,5,5,5,5,5])\n",
    "# Ваш код здесь"
   ]
  },
  {
   "cell_type": "markdown",
   "metadata": {},
   "source": [
    "**Какова среднеквадратичная ошибка прогноза значений Sales, если всегда предсказывать медианное значение Sales по исходной выборке? Запишите ответ в файл '1.txt'.**"
   ]
  },
  {
   "cell_type": "code",
   "execution_count": 9,
   "metadata": {
    "collapsed": false
   },
   "outputs": [
    {
     "name": "stdout",
     "output_type": "stream",
     "text": [
      "28.34575\n"
     ]
    },
    {
     "data": {
      "text/plain": [
       "False"
      ]
     },
     "execution_count": 9,
     "metadata": {},
     "output_type": "execute_result"
    }
   ],
   "source": [
    "# Если я правильно понимаю задание y_pred - это вектор, состоящий из одинаковых членов, равных медиане вектора y\n",
    "e = np.median(y)\n",
    "e = np.ones (len(y))*e\n",
    "answer1 = mserror (y['Sales'], e) # Ваш код здесь\n",
    "print answer1\n",
    "write_answer_to_file(answer1, '1.txt')\n",
    "import math\n",
    "math.isnan(y['Sales'][2])"
   ]
  },
  {
   "cell_type": "markdown",
   "metadata": {},
   "source": [
    "**3. Реализуйте функцию *normal_equation*, которая по заданным матрицам (массивам NumPy) *X* и *y* вычисляет вектор весов $w$ согласно нормальному уравнению линейной регрессии.**"
   ]
  },
  {
   "cell_type": "code",
   "execution_count": 10,
   "metadata": {
    "collapsed": false
   },
   "outputs": [
    {
     "name": "stdout",
     "output_type": "stream",
     "text": [
      "The best line\n",
      "[ 14.0225       3.91925365   2.79206274  -0.02253861]\n"
     ]
    }
   ],
   "source": [
    "# Ваш код здесь\n",
    "y = np.array(y)\n",
    "def normal_equation(dat, answ):\n",
    "    answ,dat = np.array(answ), np.array(dat)\n",
    "    #print answ\n",
    "    a = np.linalg.pinv(dat)\n",
    "    c = np.array (a.dot(answ))\n",
    "    return c[:,0]\n",
    "\n",
    "print 'The best line'\n",
    "norm_eq_weights = normal_equation(X, y)\n",
    "print(norm_eq_weights)\n",
    "\n",
    "# Функция np.multiply у меня никак не заработала.\n",
    "# На самом деле при определении функции правильно было бы заранее проверить размерности матриц, но я этого не сделал\n"
   ]
  },
  {
   "cell_type": "markdown",
   "metadata": {},
   "source": [
    "**Какие продажи предсказываются линейной моделью с весами, найденными с помощью нормального уравнения, в случае средних инвестиций в рекламу по ТВ, радио и в газетах? (то есть при нулевых значениях масштабированных признаков TV, Radio и Newspaper). Запишите ответ в файл '2.txt'.**"
   ]
  },
  {
   "cell_type": "code",
   "execution_count": 11,
   "metadata": {
    "collapsed": false
   },
   "outputs": [
    {
     "name": "stdout",
     "output_type": "stream",
     "text": [
      "14.0225\n"
     ]
    }
   ],
   "source": [
    "answer2 = normal_equation(X, y) [0]  # поскольку  остальные члены линейной комбинации - нули, остается только свободный член\n",
    "# Ваш код здесь\n",
    "print(answer2)\n",
    "write_answer_to_file(answer2, '2.txt')"
   ]
  },
  {
   "cell_type": "markdown",
   "metadata": {},
   "source": [
    "**4. Напишите функцию *linear_prediction*, которая принимает на вход матрицу *X* и вектор весов линейной модели *w*, а возвращает вектор прогнозов в виде линейной комбинации столбцов матрицы *X* с весами *w*.**"
   ]
  },
  {
   "cell_type": "code",
   "execution_count": 12,
   "metadata": {
    "collapsed": false
   },
   "outputs": [
    {
     "name": "stdout",
     "output_type": "stream",
     "text": [
      "Пресказание для оптимального вектора: \n",
      "[ 14.0225       3.91925365   2.79206274  -0.02253861]\n",
      "[ 20.52397441  12.33785482  12.30767078  17.59782951  13.18867186\n",
      "  12.47834763  11.72975995  12.12295317   3.72734086  12.55084872\n",
      "   7.0322992   17.28512918  10.57712073   8.82630048  18.43436638\n",
      "  20.81929952  12.82365674  23.22495716   9.95168206  14.16607293\n",
      "  18.10076728  14.7405382    6.4891503   16.5459329    8.14651887\n",
      "  15.6100386   14.98951429  17.05167344  19.41053803   9.14402389\n",
      "  21.6339338   11.3460929    7.63888314  18.86426829   7.57483051\n",
      "  17.00682618  23.40590052  15.62347779   9.90868103  20.44761039\n",
      "  16.37766467  17.2959832   21.59580326  13.96385684   8.88787996\n",
      "  15.16152314   8.87338673  21.7226299   16.26362018   8.1681656\n",
      "  12.63121132   9.33981296  20.66297563  19.94469957  20.37443008\n",
      "  21.2926106    8.52771254  12.77458802  21.89805198  18.13348698\n",
      "   5.74215558  22.89067208  16.78426073  13.21069202  16.97773556\n",
      "   7.84904532   9.01603163  12.0370073   18.97657924  21.10891244\n",
      "  17.77949782  10.62693815  10.36684881   9.90298206  17.32931197\n",
      "  11.85832174   4.47758904  13.81190223   8.81331353   9.67530328\n",
      "  11.44592364  14.64794093  10.17840799  14.42184212  20.78136464\n",
      "  15.18140789  11.59870739  15.59378475  11.71127101  16.92225511\n",
      "   9.99922965   4.49631598  19.15639616  21.22757378  10.48212385\n",
      "  16.31492112  12.63571716  15.33707782  24.11860723  16.94035021\n",
      "  13.87595844  23.24248685  17.64409385  14.76221142  20.30110878\n",
      "  17.93641467   6.12602215   7.10850249   3.58725841  19.69293106\n",
      "  14.7598741   21.14027498  13.88060985  16.40377623  15.30509593\n",
      "  12.91968895  11.97874744   6.5707774   15.56609348   6.82006767\n",
      "  14.41010605   7.83807642  13.6264571   15.0827909   19.45441306\n",
      "   9.12734958  10.57717411   6.599669    22.25549161   7.88410649\n",
      "  10.4276871   15.57779819   8.44915012  19.26692307  11.8368039\n",
      "  14.00141385  11.45348627  20.85125198   9.76842795  19.67547632\n",
      "   9.48964097  18.39902932  19.24986927   8.76480262  10.09133403\n",
      "   9.70853872  15.29422368  23.26086103  12.26335941   9.8272711\n",
      "  18.36720534  10.0095377   16.3600003   18.22390132  15.50161696\n",
      "   5.3075589   15.38485192  10.0143112   10.38419866  12.39914823\n",
      "  14.21383298  13.55914568  14.94678206  17.35163608  11.0682946\n",
      "  14.22372138  10.82439531  13.36324677  17.1861428   17.9415563\n",
      "   7.39497997  14.35827373   7.60769238  11.97093887  13.74435742\n",
      "  24.78687031  19.9793727   12.1620464   16.01099722  12.38455495\n",
      "  10.5871997   13.92809918   6.55467     24.13310013  18.53852096\n",
      "  20.80301059   9.69137313  17.07644223  18.64430648   6.05162411\n",
      "  12.4891591    8.42401933   4.46622956  18.48695797  16.49530044\n",
      "   5.37034248   8.16531236  12.78592082  23.76732149  15.17319554]\n",
      "Пример, который легко проверить: \n",
      "[ 6 12 18 30]\n"
     ]
    }
   ],
   "source": [
    "def linear_prediction(dat, w):\n",
    "    \n",
    "    return dat.dot(w)\n",
    "\n",
    "# Для примера получим вектор-строку прогнозов для случая, когда w - это решение нормального уравнения (т.е. оптимальный прогноз)\n",
    "print  u'Пресказание для оптимального вектора: '\n",
    "print normal_equation(X, y)\n",
    "print linear_prediction(X, normal_equation(X, y)) \n",
    "\n",
    "# а также применим функцию к примеру, на котором ее легко проверить\n",
    "a = np.array([[1,1,1],[2,2,2],[3,3,3],[4,5,6]])\n",
    "b = [2,2,2]\n",
    "print  u'Пример, который легко проверить: '\n",
    "print linear_prediction(a,b)\n",
    "\n",
    "#print  linear_prediction(X, [ -1.42225979e+39,  -7.82411383e+41,   7.04174736e+39, -2.45154901e+40]) \n",
    "\n",
    "# Приходится транспонировать матрицу, поскольку у меня был столбец\n",
    "    # Ваш код здесь"
   ]
  },
  {
   "cell_type": "markdown",
   "metadata": {},
   "source": [
    "**Какова среднеквадратичная ошибка прогноза значений Sales в виде линейной модели с весами, найденными с помощью нормального уравнения? Запишите ответ в файл '3.txt'.**"
   ]
  },
  {
   "cell_type": "code",
   "execution_count": 13,
   "metadata": {
    "collapsed": false
   },
   "outputs": [
    {
     "name": "stdout",
     "output_type": "stream",
     "text": [
      "2.78412631451\n"
     ]
    }
   ],
   "source": [
    "# Ваш код здесь\n",
    "\n",
    "answer3 = mserror(y[:,0], linear_prediction(X, normal_equation(X, y)))\n",
    "print answer3\n",
    "write_answer_to_file(answer3, '3.txt')"
   ]
  },
  {
   "cell_type": "markdown",
   "metadata": {},
   "source": [
    "**5. Напишите функцию *stochastic_gradient_step*, реализующую шаг стохастического градиентного спуска для линейной регрессии. Функция должна принимать матрицу *X*, вектора *y* и *w*, число *train_ind* - индекс объекта обучающей выборки (строки матрицы *X*), по которому считается изменение весов, а также число *$\\eta$* (eta) - шаг градиентного спуска (по умолчанию *eta*=0.01). Результатом будет вектор обновленных весов. Наша реализация функции будет явно написана для данных с 3 признаками, но несложно модифицировать для любого числа признаков, можете это сделать.**"
   ]
  },
  {
   "cell_type": "code",
   "execution_count": 14,
   "metadata": {
    "collapsed": false
   },
   "outputs": [
    {
     "name": "stdout",
     "output_type": "stream",
     "text": [
      "[ 0.00104    -0.00124527  0.00112612  0.00069636]\n",
      "[ 14.0226576    3.91940651   2.79221743  -0.02225824]\n"
     ]
    }
   ],
   "source": [
    "# Ваш код здесь\n",
    "def stochastic_gradient_step(iks, igrek, w, train_ind, eta=0.01):\n",
    "    dif = 2*(w[0]+w[1]*iks[train_ind,1] + w[2]*iks[train_ind,2] +w[3]*iks[train_ind,3] -  np.array(igrek)[train_ind,0])/len(igrek)\n",
    "    grad0 = dif\n",
    "    grad1 = dif*iks[train_ind,1]\n",
    "    grad2 = dif*iks[train_ind,2]\n",
    "    grad3 = dif*iks[train_ind,3]\n",
    "    #print 'grad =  ', eta *grad0, eta *grad1,eta *grad2, eta *grad3\n",
    "    return  w - eta * np.array([grad0, grad1, grad2, grad3])\n",
    "\n",
    "\n",
    "print stochastic_gradient_step(X, y, [0,0,0,0], 1 )\n",
    "print stochastic_gradient_step(X, y, normal_equation(X, y), 0, eta=0.01)"
   ]
  },
  {
   "cell_type": "markdown",
   "metadata": {},
   "source": [
    "**6. Напишите функцию *stochastic_gradient_descent*, реализующую стохастический градиентный спуск для линейной регрессии. Функция принимает на вход следующие аргументы:**\n",
    "- X - матрица, соответствующая обучающей выборке\n",
    "- y - вектор значений целевого признака\n",
    "- w_init - вектор начальных весов модели\n",
    "- eta - шаг градиентного спуска (по умолчанию 0.01)\n",
    "- max_iter - максимальное число итераций градиентного спуска (по умолчанию 10000)\n",
    "- max_weight_dist - максимальное евклидово расстояние между векторами весов на соседних итерациях градиентного спуска,\n",
    "при котором алгоритм прекращает работу (по умолчанию 1e-8)\n",
    "- seed - число, используемое для воспроизводимости сгенерированных псевдослучайных чисел (по умолчанию 42)\n",
    "- verbose - флаг печати информации (например, для отладки, по умолчанию False)\n",
    "\n",
    "**На каждой итерации в вектор (список) должно записываться текущее значение среднеквадратичной ошибки. Функция должна возвращать вектор весов $w$, а также вектор (список) ошибок.**"
   ]
  },
  {
   "cell_type": "code",
   "execution_count": 15,
   "metadata": {
    "collapsed": false
   },
   "outputs": [
    {
     "name": "stdout",
     "output_type": "stream",
     "text": [
      "Iterations ended on step  10000\n"
     ]
    },
    {
     "data": {
      "text/plain": [
       "[array([ 8.842743  ,  2.48883009,  1.71429214,  0.43255158]),\n",
       " array([ 223.71625   ,  223.665389  ,  223.63640485, ...,   32.7954661 ,\n",
       "          32.79492837,   32.79016507])]"
      ]
     },
     "execution_count": 15,
     "metadata": {},
     "output_type": "execute_result"
    }
   ],
   "source": [
    "def stochastic_gradient_descent(iks, igrek, w_init, eta=1e-2, max_iter=1e4,min_weight_dist=1e-8, seed=42, verbose=False):\n",
    "    # Инициализируем расстояние между векторами весов на соседних\n",
    "    # итерациях большим числом. \n",
    "    weight_dist = np.inf\n",
    "    # Инициализируем вектор весов\n",
    "    w = w_init\n",
    "    # Сюда будем записывать ошибки на каждой итерации\n",
    "    errors = []\n",
    "    distance = []\n",
    "    y_forec = []\n",
    "    # Счетчик итераций\n",
    "    iter_num = 0\n",
    "    # Будем порождать псевдослучайные числа \n",
    "    # (номер объекта, который будет менять веса), а для воспроизводимости\n",
    "    # этой последовательности псевдослучайных чисел используем seed.\n",
    "    np.random.seed(seed)\n",
    "        \n",
    "    # Основной цикл\n",
    "    while weight_dist > min_weight_dist and iter_num < max_iter:\n",
    "        # порождаем псевдослучайный \n",
    "        # индекс объекта обучающей выборки\n",
    "        random_ind = np.random.randint(X.shape[0])\n",
    "        new_w = stochastic_gradient_step(iks, igrek, w, random_ind, eta=0.01)\n",
    "        iter_num = iter_num +1\n",
    "        weight_dist = ((new_w[0] - w[0])**2 + (new_w[1] - w[1])**2 + (new_w[2] - w[2])**2 + (new_w[3] - w[3])**2)**(1.0/2)\n",
    "        #distance = np.append(distance, weight_dist)\n",
    "        forecast = linear_prediction(iks, w)\n",
    "        w = new_w \n",
    "        #print forecast\n",
    "        #y_forec = np.append (y_forec, forecast)\n",
    "        error = mserror(y[:,0], forecast)\n",
    "        #if iter_num <= 10:\n",
    "            #print iter_num, random_ind, w, weight_dist, error,\"\\n\" \n",
    "        errors = np.append(errors,error)\n",
    "        if weight_dist < min_weight_dist:\n",
    "            print 'Halt because the distance is rather small'\n",
    "            return [w, errors]\n",
    "            exit()\n",
    "        if iter_num == max_iter:\n",
    "            print 'Iterations ended on step ', iter_num\n",
    "            return [w,  errors]\n",
    "            exit()\n",
    "    return [w,errors]\n",
    "iks, igrek, w_init = X, y, [0,0,0,0]\n",
    "stochastic_gradient_descent(iks, igrek, w_init, eta=1e-2, max_iter=1e4, min_weight_dist=1e-8, seed=42, verbose=False)"
   ]
  },
  {
   "cell_type": "markdown",
   "metadata": {},
   "source": [
    " **Запустите $10^5$ итераций стохастического градиентного спуска. Укажите вектор начальных весов *w_init*, состоящий из нулей. Оставьте параметры  *eta* и *seed* равными их значениям по умолчанию (*eta*=0.01, *seed*=42 - это важно для проверки ответов).**"
   ]
  },
  {
   "cell_type": "code",
   "execution_count": 16,
   "metadata": {
    "collapsed": false
   },
   "outputs": [
    {
     "name": "stdout",
     "output_type": "stream",
     "text": [
      "Halt because the distance is rather small\n",
      "[  1.40190566e+01   3.91069256e+00   2.78209808e+00  -8.10462217e-03]\n",
      "[ 223.71625     223.665389    223.63640485 ...,    2.78441008    2.7844108\n",
      "    2.78441259]\n",
      "Wall time: 38.6 s\n"
     ]
    }
   ],
   "source": [
    "%%time\n",
    "example = [stochastic_gradient_descent(X, y, [0,0,0,0], eta=1e-2, max_iter=1e5, min_weight_dist=1e-8, seed=42, verbose=False)]\n",
    "stoch_grad_desc_weights = example[0][0]     \n",
    "print stoch_grad_desc_weights\n",
    "stoch_errors_by_iter = example[0][1] \n",
    "print stoch_errors_by_iter\n",
    "# Ваш код здесь"
   ]
  },
  {
   "cell_type": "markdown",
   "metadata": {},
   "source": [
    "**Посмотрим, чему равна ошибка на первых 50 итерациях стохастического градиентного спуска. Видим, что ошибка не обязательно уменьшается на каждой итерации.**"
   ]
  },
  {
   "cell_type": "code",
   "execution_count": 17,
   "metadata": {
    "collapsed": false
   },
   "outputs": [
    {
     "name": "stdout",
     "output_type": "stream",
     "text": [
      "Populating the interactive namespace from numpy and matplotlib\n"
     ]
    },
    {
     "name": "stderr",
     "output_type": "stream",
     "text": [
      "D:\\Anaconda\\lib\\site-packages\\IPython\\core\\magics\\pylab.py:161: UserWarning: pylab import has clobbered these variables: ['e']\n",
      "`%matplotlib` prevents importing * from pylab and numpy\n",
      "  \"\\n`%matplotlib` prevents importing * from pylab and numpy\"\n"
     ]
    },
    {
     "data": {
      "text/plain": [
       "<matplotlib.text.Text at 0xb2a6470>"
      ]
     },
     "execution_count": 17,
     "metadata": {},
     "output_type": "execute_result"
    },
    {
     "data": {
      "image/png": "[encoded data removed]",
      "text/plain": [
       "<matplotlib.figure.Figure at 0x8ebc470>"
      ]
     },
     "metadata": {},
     "output_type": "display_data"
    }
   ],
   "source": [
    "%pylab inline\n",
    "plot(range(50), stoch_errors_by_iter[:50])\n",
    "#print stoch_errors_by_iter\n",
    "xlabel('Iteration number')\n",
    "ylabel('MSE')"
   ]
  },
  {
   "cell_type": "markdown",
   "metadata": {},
   "source": [
    "**Теперь посмотрим на зависимость ошибки от номера итерации для $10^5$ итераций стохастического градиентного спуска. Видим, что алгоритм сходится.**"
   ]
  },
  {
   "cell_type": "code",
   "execution_count": 18,
   "metadata": {
    "collapsed": false
   },
   "outputs": [
    {
     "name": "stdout",
     "output_type": "stream",
     "text": [
      "Populating the interactive namespace from numpy and matplotlib\n"
     ]
    },
    {
     "data": {
      "text/plain": [
       "<matplotlib.text.Text at 0xb296208>"
      ]
     },
     "execution_count": 18,
     "metadata": {},
     "output_type": "execute_result"
    },
    {
     "data": {
      "image/png": "[encoded data removed]",
      "text/plain": [
       "<matplotlib.figure.Figure at 0x8e86da0>"
      ]
     },
     "metadata": {},
     "output_type": "display_data"
    }
   ],
   "source": [
    "%pylab inline\n",
    "plot(range(len(stoch_errors_by_iter)), stoch_errors_by_iter)\n",
    "xlabel('Iteration number', fontsize =14)\n",
    "ylabel('MSE',fontsize =14 )"
   ]
  },
  {
   "cell_type": "markdown",
   "metadata": {},
   "source": [
    "**Посмотрим на вектор весов, к которому сошелся метод.**"
   ]
  },
  {
   "cell_type": "code",
   "execution_count": 19,
   "metadata": {
    "collapsed": false
   },
   "outputs": [
    {
     "data": {
      "text/plain": [
       "array([  1.40190566e+01,   3.91069256e+00,   2.78209808e+00,\n",
       "        -8.10462217e-03])"
      ]
     },
     "execution_count": 19,
     "metadata": {},
     "output_type": "execute_result"
    }
   ],
   "source": [
    "stoch_grad_desc_weights"
   ]
  },
  {
   "cell_type": "markdown",
   "metadata": {},
   "source": [
    "**Посмотрим на среднеквадратичную ошибку на последней итерации.**"
   ]
  },
  {
   "cell_type": "code",
   "execution_count": 23,
   "metadata": {
    "collapsed": false
   },
   "outputs": [
    {
     "name": "stdout",
     "output_type": "stream",
     "text": [
      "2.78441258835\n"
     ]
    }
   ],
   "source": [
    "print stoch_errors_by_iter[-1] #stoch_errors_by_iter[-1]"
   ]
  },
  {
   "cell_type": "markdown",
   "metadata": {},
   "source": [
    "**Какова среднеквадратичная ошибка прогноза значений Sales в виде линейной модели с весами, найденными с помощью градиентного спуска? Запишите ответ в файл '4.txt'.**"
   ]
  },
  {
   "cell_type": "code",
   "execution_count": 21,
   "metadata": {
    "collapsed": false
   },
   "outputs": [
    {
     "name": "stdout",
     "output_type": "stream",
     "text": [
      "2.78441258841\n"
     ]
    }
   ],
   "source": [
    "answer4 = mserror (y[:,0], linear_prediction(X, stoch_grad_desc_weights))\n",
    "# print stoch_errors_by_iter\n",
    "#answer5 = np.min (stoch_errors_by_iter)\n",
    "print answer4\n",
    "# print answer5\n",
    "write_answer_to_file(answer4, '4.txt')"
   ]
  },
  {
   "cell_type": "markdown",
   "metadata": {},
   "source": [
    "**Ответами к заданию будут текстовые файлы, полученные в ходе этого решения. Обратите внимание, что отправленные файлы не должны содержать пустую строку в конце. Данный нюанс является ограничением платформы Coursera. Мы работаем над исправлением этого ограничения.**"
   ]
  }
 ],
 "metadata": {
  "kernelspec": {
   "display_name": "Python 2",
   "language": "python",
   "name": "python2"
  },
  "language_info": {
   "codemirror_mode": {
    "name": "ipython",
    "version": 2
   },
   "file_extension": ".py",
   "mimetype": "text/x-python",
   "name": "python",
   "nbconvert_exporter": "python",
   "pygments_lexer": "ipython2",
   "version": "2.7.13"
  }
 },
 "nbformat": 4,
 "nbformat_minor": 0
}
