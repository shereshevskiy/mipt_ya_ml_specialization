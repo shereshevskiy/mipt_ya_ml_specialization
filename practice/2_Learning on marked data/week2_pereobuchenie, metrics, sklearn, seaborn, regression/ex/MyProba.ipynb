{
 "cells": [
  {
   "cell_type": "code",
   "execution_count": 1,
   "metadata": {
    "collapsed": true
   },
   "outputs": [],
   "source": [
    "import pandas as pd\n",
    "import numpy as np\n",
    "from matplotlib import pyplot as plt\n",
    "%matplotlib inline"
   ]
  },
  {
   "cell_type": "code",
   "execution_count": 2,
   "metadata": {
    "collapsed": false
   },
   "outputs": [
    {
     "name": "stdout",
     "output_type": "stream",
     "text": [
      "0 [0, 0]\n",
      "1 [0, 1]\n",
      "2 [0, 2]\n",
      "3 [0, 3]\n",
      "4 [1, 0]\n",
      "5 [1, 1]\n",
      "6 [1, 2]\n",
      "7 [1, 3]\n",
      "8 [2, 0]\n",
      "9 [2, 1]\n",
      "10 [2, 2]\n",
      "11 [2, 3]\n"
     ]
    }
   ],
   "source": [
    "# пояснения к subplot-осям (или положение подрисунка)\n",
    "for idx in range(12):\n",
    "    print idx, [idx / 4, idx % 4]\n",
    "# соответственно, ax=axes[idx / 4, idx % 4] вычисляет и задает координаты положения подрисунка"
   ]
  },
  {
   "cell_type": "code",
   "execution_count": 8,
   "metadata": {
    "collapsed": false
   },
   "outputs": [
    {
     "data": {
      "text/plain": [
       "{'a': [100, 200], 'b': [100, 200]}"
      ]
     },
     "execution_count": 8,
     "metadata": {},
     "output_type": "execute_result"
    }
   ],
   "source": [
    "d = dict.fromkeys(['a', 'b'],[100, 200])\n",
    "d"
   ]
  },
  {
   "cell_type": "code",
   "execution_count": 9,
   "metadata": {
    "collapsed": false
   },
   "outputs": [
    {
     "data": {
      "text/plain": [
       "[(1, 4), (2, 5), (3, 6)]"
      ]
     },
     "execution_count": 9,
     "metadata": {},
     "output_type": "execute_result"
    }
   ],
   "source": [
    "a = [1,2,3]\n",
    "b = [4,5,6]\n",
    "zip(a,b)"
   ]
  },
  {
   "cell_type": "code",
   "execution_count": null,
   "metadata": {
    "collapsed": true
   },
   "outputs": [],
   "source": []
  }
 ],
 "metadata": {
  "kernelspec": {
   "display_name": "Python 2",
   "language": "python",
   "name": "python2"
  },
  "language_info": {
   "codemirror_mode": {
    "name": "ipython",
    "version": 2
   },
   "file_extension": ".py",
   "mimetype": "text/x-python",
   "name": "python",
   "nbconvert_exporter": "python",
   "pygments_lexer": "ipython2",
   "version": "2.7.13"
  }
 },
 "nbformat": 4,
 "nbformat_minor": 2
}
