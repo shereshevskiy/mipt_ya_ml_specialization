{
 "cells": [
  {
   "cell_type": "markdown",
   "metadata": {},
   "source": [
    "#### Course 6 Анализ тональности отзывов\n",
    "#### Week 4 Демонстрация работы алгоритма\n",
    "##### Теперь, когда у вас уже получается делать неплохие решения задачи сентимент-анализа, пора научиться собирать для вашего алгоритма интерактивную демонстрацию в виде простенькой веб-странички, чтобы на него могли посмотреть в действии не только те, кто может запустить ipython notebook."
   ]
  },
  {
   "cell_type": "markdown",
   "metadata": {},
   "source": [
    "Инструкция по выполнению\n",
    "\n",
    "Часто оказывается полезно представить результаты вашей работы в виде интерактивной демонстрации, в которую можно будет вводить какие-то данные и получать результат работы вашей модели. В этом задании вам предлагается реализовать такую демонстрацию для вашего алгоритма анализа тональности отзывов на фильмы, используя flask.\n",
    "\n",
    "Даже если вы никогда не сталкивались с веб-программированием и flask'ом - познакомиться с ним совершенно не сложно. Сделать первые шаги вам поможет прекрасный Викиучебник по Flask: https://ru.wikibooks.org/wiki/Flask\n",
    "\n",
    "Разработку демки для вашей задачи существенно упростит архив кода для аналогичной демки в аттаче (с которым все равно проще разбираться после основ Flask): https://d3c33hcgiwev3.cloudfront.net/_0e0ae42bba09a7b92c3c0493a0423dd6_simple_demo.zip?Expires=1523404800&Signature=TjoSeam9eVWYJCSfkVGiduaRgEZzwaG7u6BvR-IS1QG9DV3jVZEzWG6nM8wK61yn-7t5hWg6RyEZkxVxWxnjMCgoE0qJ97NWso5Gf35~ahZGSwH8v83QxQpthq3mw8dI9QEqeJ3JOV86PYFzdWclGpkNDmS4F3YslTi-IXBEfXY_&Key-Pair-Id=APKAJLTNE6QMUY6HBC5A\n",
    "\n",
    "В процессе вы столкнетесь с необходимостью сохранять в файл и загружать питоновский объект - обученный классификатор. Для этого вам пригодится библиотека pickle."
   ]
  },
  {
   "cell_type": "markdown",
   "metadata": {},
   "source": [
    "#### Импортируем отзывы:"
   ]
  },
  {
   "cell_type": "code",
   "execution_count": 1,
   "metadata": {},
   "outputs": [],
   "source": [
    "import nltk"
   ]
  },
  {
   "cell_type": "code",
   "execution_count": 2,
   "metadata": {},
   "outputs": [
    {
     "name": "stdout",
     "output_type": "stream",
     "text": [
      "showing info https://raw.githubusercontent.com/nltk/nltk_data/gh-pages/index.xml\n"
     ]
    },
    {
     "data": {
      "text/plain": [
       "True"
      ]
     },
     "execution_count": 2,
     "metadata": {},
     "output_type": "execute_result"
    }
   ],
   "source": [
    "nltk.download()"
   ]
  },
  {
   "cell_type": "code",
   "execution_count": 1,
   "metadata": {},
   "outputs": [],
   "source": [
    "from nltk.corpus import movie_reviews"
   ]
  },
  {
   "cell_type": "code",
   "execution_count": 2,
   "metadata": {},
   "outputs": [],
   "source": [
    "import numpy as np\n",
    "import pandas as pd\n",
    "from sklearn.feature_extraction.text import CountVectorizer, TfidfVectorizer\n",
    "from sklearn.linear_model import LogisticRegression, SGDClassifier\n",
    "from sklearn.svm import LinearSVC\n",
    "from sklearn.model_selection import cross_val_score, GridSearchCV\n",
    "from sklearn.pipeline import Pipeline"
   ]
  },
  {
   "cell_type": "markdown",
   "metadata": {},
   "source": [
    "#### Создаем списки файлов содержащих нег. и поз. отзывы:"
   ]
  },
  {
   "cell_type": "code",
   "execution_count": 3,
   "metadata": {},
   "outputs": [
    {
     "data": {
      "text/plain": [
       "u'after bloody clashes and independence won , lumumba refused to pander to the belgians , who continued a condescending and paternalistic relationship with the congo . their officers , particularly general janssens ( rudi delhem ) in the force publique , the congo \\' s army , caused rebellions , undermining lumumba , who was outraged at the rape and murder of belgian nationals . with unrest building , moise tshombe ( pascal nzonzi ) and the province of katanga , which contained 70 percent of the country \\' s resources , proclaimed secession . lumumba replaced janssens , making mobutu a colonel , and went on a pacification tour with congolese president joseph kasa vubu ( maka kotto ) , but it was too late . \\' when you want to drown a dog , you say it has rabies , \\' prophesies lumumba of his own fate . peck and bonitzer do an exemplary job telling a complicated tale with a myriad of players , although they frequently succumb to cliche , particularly regarding lumumba \\' s private life . peck \\' s script illuminates bantu sayings like \\' the hand that gives , rules \\' when lumumba uses it with the american ambassador . peck \\' s direction is less assured , with many scenes unfortunately playing like standard television fare . he \\' s served well , though , by his casting of ebouaney in the title role . ebouaney is dynamic , radiating his character \\' s fierce passion for his people and his country . lumumba \\' s intelligence and ability to strategize , even as he \\' s cornered by insurmountable odds , are given life by ebouaney . peck \\' s subject and lead actor elevate his film above its mediocre production . \" lumumba \" is a story that deserves to be told and ebouaney \\' s performance makes the tragedy personally felt .'"
      ]
     },
     "execution_count": 3,
     "metadata": {},
     "output_type": "execute_result"
    }
   ],
   "source": [
    "negids = movie_reviews.fileids('neg')\n",
    "posids = movie_reviews.fileids('pos')\n",
    "\" \".join(movie_reviews.words(fileids=posids[8])) # Test NEGATIVE review"
   ]
  },
  {
   "cell_type": "code",
   "execution_count": 4,
   "metadata": {},
   "outputs": [
    {
     "data": {
      "text/plain": [
       "(1000, 1000)"
      ]
     },
     "execution_count": 4,
     "metadata": {},
     "output_type": "execute_result"
    }
   ],
   "source": [
    "negfeats = [\" \".join(movie_reviews.words(fileids=[f])) for f in negids] # Тексты целиком\n",
    "posfeats = [\" \".join(movie_reviews.words(fileids=[f])) for f in posids]\n",
    "len(negfeats), len(posfeats)"
   ]
  },
  {
   "cell_type": "code",
   "execution_count": 5,
   "metadata": {},
   "outputs": [],
   "source": [
    "texts = negfeats + posfeats\n",
    "labels = [0] * len(negfeats) + [1] * len(posfeats)"
   ]
  },
  {
   "cell_type": "code",
   "execution_count": 11,
   "metadata": {},
   "outputs": [
    {
     "name": "stdout",
     "output_type": "stream",
     "text": [
      "Pipeline(memory=None,\n",
      "     steps=[('vectorizer', CountVectorizer(analyzer='word', binary=False, decode_error=u'strict',\n",
      "        dtype=<type 'numpy.int64'>, encoding=u'utf-8', input=u'content',\n",
      "        lowercase=True, max_df=1.0, max_features=None, min_df=1,\n",
      "        ngram_range=(1, 2), preprocessor=None, stop_words=None,\n",
      "     ...ty='l2', random_state=None, solver='liblinear', tol=0.0001,\n",
      "          verbose=0, warm_start=False))])\n",
      "(array([0.81137725, 0.84684685, 0.85435435]), 0.8375261489033944)\n"
     ]
    }
   ],
   "source": [
    "clf_pipeline = Pipeline( [(\"vectorizer\", CountVectorizer(ngram_range=(1, 2), analyzer='word')), \n",
    "                          (\"classifier\", LogisticRegression())] )\n",
    "clf_pipeline.fit(texts, labels)\n",
    "print (clf_pipeline)\n",
    "auc1 = cross_val_score(clf_pipeline, texts, labels) #scoring='roc_auc'\n",
    "print (auc1, auc1.mean())"
   ]
  },
  {
   "cell_type": "code",
   "execution_count": 9,
   "metadata": {},
   "outputs": [],
   "source": [
    "import pickle"
   ]
  },
  {
   "cell_type": "code",
   "execution_count": 13,
   "metadata": {},
   "outputs": [],
   "source": [
    "with open('corpora_movie_reviews.pkl', 'wb') as f: \n",
    "    pickle.dump(clf_pipeline, f, protocol=2)   "
   ]
  },
  {
   "cell_type": "code",
   "execution_count": null,
   "metadata": {},
   "outputs": [],
   "source": []
  },
  {
   "cell_type": "code",
   "execution_count": null,
   "metadata": {},
   "outputs": [],
   "source": [
    "#Для тестирования"
   ]
  },
  {
   "cell_type": "code",
   "execution_count": 76,
   "metadata": {
    "collapsed": true
   },
   "outputs": [],
   "source": [
    "with open('corpora_movie_reviews.pkl', 'rb') as f: \n",
    "    clf_pipeline = pickle.load(f)"
   ]
  },
  {
   "cell_type": "code",
   "execution_count": 7,
   "metadata": {},
   "outputs": [
    {
     "name": "stdout",
     "output_type": "stream",
     "text": [
      "2000\n"
     ]
    }
   ],
   "source": [
    "labels_test = clf_pipeline.predict(texts)\n",
    "print (sum(labels == labels_test))"
   ]
  },
  {
   "cell_type": "code",
   "execution_count": 12,
   "metadata": {},
   "outputs": [
    {
     "name": "stdout",
     "output_type": "stream",
     "text": [
      "[0 0]\n"
     ]
    }
   ],
   "source": [
    "print (clf_pipeline.predict([\"Amazing film! I will advice it to all my friends. Genious\",\n",
    "                           \"Awful film! The man who advised me to watch it is really crazy idiot.\"]))"
   ]
  }
 ],
 "metadata": {
  "kernelspec": {
   "display_name": "Python 2",
   "language": "python",
   "name": "python2"
  },
  "language_info": {
   "codemirror_mode": {
    "name": "ipython",
    "version": 2
   },
   "file_extension": ".py",
   "mimetype": "text/x-python",
   "name": "python",
   "nbconvert_exporter": "python",
   "pygments_lexer": "ipython2",
   "version": "2.7.14"
  }
 },
 "nbformat": 4,
 "nbformat_minor": 2
}
