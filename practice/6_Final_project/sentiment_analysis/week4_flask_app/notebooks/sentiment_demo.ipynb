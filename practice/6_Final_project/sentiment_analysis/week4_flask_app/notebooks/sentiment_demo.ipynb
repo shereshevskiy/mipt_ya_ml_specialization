{
 "cells": [
  {
   "cell_type": "code",
   "execution_count": 1,
   "metadata": {
    "collapsed": true
   },
   "outputs": [],
   "source": [
    "__author__ = 'dmitry_sh'\n",
    "from sklearn.externals import joblib\n",
    "\n",
    "\n",
    "class SentimentClassifier(object):\n",
    "    def __init__(self):\n",
    "        self.model = joblib.load(\"../data/model.jbl\")\n",
    "        self.vectorizer = joblib.load(\"../data/vectorizer.jbl\")\n",
    "        self.classes_dict = {0: \"negative\", 1: \"positive\", -1: \"prediction error\"}\n",
    "\n",
    "    @staticmethod\n",
    "    def get_probability_words(probability):\n",
    "        if probability < 0.55:\n",
    "            return \"neutral or uncertain\"\n",
    "        if probability < 0.7:\n",
    "            return \"probably\"\n",
    "        if probability > 0.95:\n",
    "            return \"certain\"\n",
    "        else:\n",
    "            return \"\"\n",
    "\n",
    "    def predict_text(self, text):\n",
    "        try:\n",
    "            vectorized = self.vectorizer.transform([text])\n",
    "            return self.model.predict(vectorized)[0],\\\n",
    "                   self.model.predict_proba(vectorized)[0].max()\n",
    "        except:\n",
    "            print (\"prediction error\")\n",
    "            return -1, 0.8\n",
    "\n",
    "    def predict_list(self, list_of_texts):\n",
    "        try:\n",
    "            vectorized = self.vectorizer.transform(list_of_texts)\n",
    "            return self.model.predict(vectorized),\\\n",
    "                   self.model.predict_proba(vectorized)\n",
    "        except:\n",
    "            print ('prediction error')\n",
    "            return None\n",
    "\n",
    "    def get_prediction_message(self, text):\n",
    "        prediction = self.predict_text(text)\n",
    "        class_prediction = prediction[0]\n",
    "        prediction_probability = prediction[1]\n",
    "        return self.get_probability_words(prediction_probability) + \" \" + self.classes_dict[class_prediction]"
   ]
  },
  {
   "cell_type": "code",
   "execution_count": 50,
   "metadata": {},
   "outputs": [
    {
     "name": "stdout",
     "output_type": "stream",
     "text": [
      "Preparing classifier\n"
     ]
    },
    {
     "name": "stderr",
     "output_type": "stream",
     "text": [
      " * Running on http://0.0.0.0:80/ (Press CTRL+C to quit)\n"
     ]
    },
    {
     "name": "stdout",
     "output_type": "stream",
     "text": [
      "Classifier is ready\n",
      "11.583807229995728 seconds\n"
     ]
    },
    {
     "name": "stderr",
     "output_type": "stream",
     "text": [
      "127.0.0.1 - - [09/Mar/2018 13:31:16] \"POST /sentiment-demo HTTP/1.1\" 200 -\n"
     ]
    },
    {
     "name": "stdout",
     "output_type": "stream",
     "text": [
      "хороший фильм\n",
      "probably negative\n"
     ]
    },
    {
     "name": "stderr",
     "output_type": "stream",
     "text": [
      "127.0.0.1 - - [09/Mar/2018 13:31:18] \"POST /sentiment-demo HTTP/1.1\" 200 -\n"
     ]
    },
    {
     "name": "stdout",
     "output_type": "stream",
     "text": [
      "хороший фильм\n",
      "probably negative\n"
     ]
    },
    {
     "name": "stderr",
     "output_type": "stream",
     "text": [
      "127.0.0.1 - - [09/Mar/2018 13:31:32] \"POST /sentiment-demo HTTP/1.1\" 200 -\n"
     ]
    },
    {
     "name": "stdout",
     "output_type": "stream",
     "text": [
      "хороший фильм\n",
      "probably negative\n"
     ]
    },
    {
     "name": "stderr",
     "output_type": "stream",
     "text": [
      "127.0.0.1 - - [09/Mar/2018 13:31:49] \"POST /sentiment-demo HTTP/1.1\" 200 -\n"
     ]
    },
    {
     "name": "stdout",
     "output_type": "stream",
     "text": [
      "очень хороший фильм\n",
      "probably negative\n"
     ]
    },
    {
     "name": "stderr",
     "output_type": "stream",
     "text": [
      "127.0.0.1 - - [09/Mar/2018 13:31:52] \"POST /sentiment-demo HTTP/1.1\" 200 -\n"
     ]
    },
    {
     "name": "stdout",
     "output_type": "stream",
     "text": [
      "очень хороший фильм\n",
      "probably negative\n"
     ]
    },
    {
     "name": "stderr",
     "output_type": "stream",
     "text": [
      "127.0.0.1 - - [09/Mar/2018 13:40:08] \"GET /mobilereview-demo HTTP/1.1\" 404 -\n",
      "127.0.0.1 - - [09/Mar/2018 13:40:19] \"GET /mobilereview-demo HTTP/1.1\" 404 -\n"
     ]
    }
   ],
   "source": [
    "__author__ = 'dmitry_sh'\n",
    "#from sentiment_classifier import SentimentClassifier\n",
    "from codecs import open\n",
    "import time\n",
    "from flask import Flask, render_template, request\n",
    "app = Flask(__name__)\n",
    "\n",
    "print(\"Preparing classifier\")\n",
    "start_time = time.time()\n",
    "classifier = SentimentClassifier()\n",
    "print (\"Classifier is ready\")\n",
    "print (time.time() - start_time, \"seconds\")\n",
    "\n",
    "@app.route(\"/sentiment-demo\", methods=[\"POST\", \"GET\"])\n",
    "def index_page(text=\"\", prediction_message=\"\"):\n",
    "    if request.method == \"POST\":\n",
    "        text = request.form[\"text\"]\n",
    "        logfile = open(\"ydf_demo_logs.txt\", \"a\", \"utf-8\")\n",
    "        print(text)\n",
    "        print(\"<response>\", file=logfile)\n",
    "        print(\"<date_time>\" + time.strftime('[%d/%m/%Y %H:%M:%S]') + \"</date_time>\", file=logfile)\n",
    "        print(\"<text>\", file=logfile)\n",
    "        print(text, file=logfile)\n",
    "        print(\"</text>\", file=logfile)\n",
    "        prediction_message = classifier.get_prediction_message(text)\n",
    "        print('ОЦЕНКА:', prediction_message, '\\n------------------')\n",
    "        print(\"<prediction_message>\" + prediction_message, \"</prediction_message>\" + file=logfile)\n",
    "        print(\"</response>\", file=logfile)\n",
    "        logfile.close()\n",
    "        \n",
    "    return render_template('hello.html', text=text, prediction_message=prediction_message)\n",
    "\n",
    "\n",
    "if __name__ == \"__main__\":\n",
    "    app.run(host='0.0.0.0', port=80, debug=False)\n",
    "    #app.run()"
   ]
  },
  {
   "cell_type": "code",
   "execution_count": 80,
   "metadata": {},
   "outputs": [
    {
     "data": {
      "text/plain": [
       "'[11/Mar/2018 11:29:37]'"
      ]
     },
     "execution_count": 80,
     "metadata": {},
     "output_type": "execute_result"
    }
   ],
   "source": [
    "time.strftime('[%d/%b/%Y %H:%M:%S]')"
   ]
  },
  {
   "cell_type": "code",
   "execution_count": 79,
   "metadata": {},
   "outputs": [
    {
     "data": {
      "text/plain": [
       "'Sun Mar 11 11:18:16 2018'"
      ]
     },
     "execution_count": 79,
     "metadata": {},
     "output_type": "execute_result"
    }
   ],
   "source": [
    "time.strftime('%c')"
   ]
  },
  {
   "cell_type": "code",
   "execution_count": 6,
   "metadata": {},
   "outputs": [
    {
     "data": {
      "text/plain": [
       "'__main__'"
      ]
     },
     "execution_count": 6,
     "metadata": {},
     "output_type": "execute_result"
    }
   ],
   "source": [
    "__name__"
   ]
  },
  {
   "cell_type": "code",
   "execution_count": null,
   "metadata": {
    "collapsed": true
   },
   "outputs": [],
   "source": []
  }
 ],
 "metadata": {
  "kernelspec": {
   "display_name": "Python 3",
   "language": "python",
   "name": "python3"
  },
  "language_info": {
   "codemirror_mode": {
    "name": "ipython",
    "version": 3
   },
   "file_extension": ".py",
   "mimetype": "text/x-python",
   "name": "python",
   "nbconvert_exporter": "python",
   "pygments_lexer": "ipython3",
   "version": "3.6.3"
  }
 },
 "nbformat": 4,
 "nbformat_minor": 2
}
