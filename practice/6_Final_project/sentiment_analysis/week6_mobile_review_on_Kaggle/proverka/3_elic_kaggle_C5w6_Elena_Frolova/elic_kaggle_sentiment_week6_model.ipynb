{
 "cells": [
  {
   "cell_type": "code",
   "execution_count": 1,
   "metadata": {
    "collapsed": true
   },
   "outputs": [],
   "source": [
    "from sklearn.model_selection import cross_val_score\n",
    "import numpy as np\n",
    "import pandas as pd\n",
    "import re\n",
    "\n",
    "\n",
    "from sklearn.feature_extraction.text import CountVectorizer, TfidfVectorizer\n",
    "\n",
    "from sklearn.svm import LinearSVC\n",
    "from sklearn.linear_model import LogisticRegression, SGDClassifier\n",
    "from sklearn.naive_bayes import MultinomialNB\n",
    "from sklearn.ensemble import RandomForestClassifier\n",
    "from sklearn.dummy import DummyClassifier"
   ]
  },
  {
   "cell_type": "code",
   "execution_count": 2,
   "metadata": {
    "collapsed": true
   },
   "outputs": [],
   "source": [
    "from sklearn import metrics"
   ]
  },
  {
   "cell_type": "code",
   "execution_count": 3,
   "metadata": {
    "collapsed": true
   },
   "outputs": [],
   "source": [
    "import pymorphy2"
   ]
  },
  {
   "cell_type": "code",
   "execution_count": 107,
   "metadata": {
    "collapsed": true
   },
   "outputs": [],
   "source": [
    "fname = 'comments.csv'"
   ]
  },
  {
   "cell_type": "markdown",
   "metadata": {},
   "source": [
    "### Структура файлов"
   ]
  },
  {
   "cell_type": "code",
   "execution_count": 108,
   "metadata": {},
   "outputs": [
    {
     "data": {
      "text/html": [
       "<div>\n",
       "<table border=\"1\" class=\"dataframe\">\n",
       "  <thead>\n",
       "    <tr style=\"text-align: right;\">\n",
       "      <th></th>\n",
       "      <th>grade</th>\n",
       "      <th>comment</th>\n",
       "    </tr>\n",
       "  </thead>\n",
       "  <tbody>\n",
       "    <tr>\n",
       "      <th>0</th>\n",
       "      <td>1</td>\n",
       "      <td>На момент покупки производителем были заявлены...</td>\n",
       "    </tr>\n",
       "    <tr>\n",
       "      <th>1</th>\n",
       "      <td>2</td>\n",
       "      <td>Купил этот продукт и на 3день отказал сенсор. ...</td>\n",
       "    </tr>\n",
       "    <tr>\n",
       "      <th>2</th>\n",
       "      <td>4</td>\n",
       "      <td>Полное барахло.</td>\n",
       "    </tr>\n",
       "    <tr>\n",
       "      <th>3</th>\n",
       "      <td>2</td>\n",
       "      <td>В понедельник отдам в сервис по гарантии. Посм...</td>\n",
       "    </tr>\n",
       "    <tr>\n",
       "      <th>4</th>\n",
       "      <td>3</td>\n",
       "      <td>Пользуюсь уже с полгода, за такие деньги более...</td>\n",
       "    </tr>\n",
       "    <tr>\n",
       "      <th>5</th>\n",
       "      <td>4</td>\n",
       "      <td>Конечно сразу обращает на себя внимание компле...</td>\n",
       "    </tr>\n",
       "    <tr>\n",
       "      <th>6</th>\n",
       "      <td>4</td>\n",
       "      <td>Купила этот телефон в ноябре месяце. Очень нра...</td>\n",
       "    </tr>\n",
       "    <tr>\n",
       "      <th>7</th>\n",
       "      <td>4</td>\n",
       "      <td>Отличная модель, пользуюсь телефоном уже 4 год...</td>\n",
       "    </tr>\n",
       "    <tr>\n",
       "      <th>8</th>\n",
       "      <td>1</td>\n",
       "      <td>Маркой Леново остался  не доволен, и больше ее...</td>\n",
       "    </tr>\n",
       "    <tr>\n",
       "      <th>9</th>\n",
       "      <td>4</td>\n",
       "      <td>Смартфончик просто класс. Брал его взамен моем...</td>\n",
       "    </tr>\n",
       "  </tbody>\n",
       "</table>\n",
       "</div>"
      ],
      "text/plain": [
       "   grade                                            comment\n",
       "0      1  На момент покупки производителем были заявлены...\n",
       "1      2  Купил этот продукт и на 3день отказал сенсор. ...\n",
       "2      4                                    Полное барахло.\n",
       "3      2  В понедельник отдам в сервис по гарантии. Посм...\n",
       "4      3  Пользуюсь уже с полгода, за такие деньги более...\n",
       "5      4  Конечно сразу обращает на себя внимание компле...\n",
       "6      4  Купила этот телефон в ноябре месяце. Очень нра...\n",
       "7      4  Отличная модель, пользуюсь телефоном уже 4 год...\n",
       "8      1  Маркой Леново остался  не доволен, и больше ее...\n",
       "9      4  Смартфончик просто класс. Брал его взамен моем..."
      ]
     },
     "execution_count": 108,
     "metadata": {},
     "output_type": "execute_result"
    }
   ],
   "source": [
    "df = pd.read_csv(fname, sep='\\t', header = 0, names = ['grade', 'comment'])\n",
    "df.head(10)"
   ]
  },
  {
   "cell_type": "code",
   "execution_count": 110,
   "metadata": {},
   "outputs": [
    {
     "data": {
      "text/html": [
       "<div>\n",
       "<table border=\"1\" class=\"dataframe\">\n",
       "  <thead>\n",
       "    <tr style=\"text-align: right;\">\n",
       "      <th></th>\n",
       "      <th>grade</th>\n",
       "      <th>comment</th>\n",
       "    </tr>\n",
       "  </thead>\n",
       "  <tbody>\n",
       "    <tr>\n",
       "      <th>13</th>\n",
       "      <td>1</td>\n",
       "      <td>NaN</td>\n",
       "    </tr>\n",
       "    <tr>\n",
       "      <th>14</th>\n",
       "      <td>1</td>\n",
       "      <td>NaN</td>\n",
       "    </tr>\n",
       "    <tr>\n",
       "      <th>47</th>\n",
       "      <td>0</td>\n",
       "      <td>NaN</td>\n",
       "    </tr>\n",
       "    <tr>\n",
       "      <th>51</th>\n",
       "      <td>0</td>\n",
       "      <td>NaN</td>\n",
       "    </tr>\n",
       "    <tr>\n",
       "      <th>54</th>\n",
       "      <td>3</td>\n",
       "      <td>NaN</td>\n",
       "    </tr>\n",
       "  </tbody>\n",
       "</table>\n",
       "</div>"
      ],
      "text/plain": [
       "    grade comment\n",
       "13      1     NaN\n",
       "14      1     NaN\n",
       "47      0     NaN\n",
       "51      0     NaN\n",
       "54      3     NaN"
      ]
     },
     "execution_count": 110,
     "metadata": {},
     "output_type": "execute_result"
    }
   ],
   "source": [
    "df[df['comment'].isnull()].head()"
   ]
  },
  {
   "cell_type": "code",
   "execution_count": 111,
   "metadata": {},
   "outputs": [
    {
     "name": "stdout",
     "output_type": "stream",
     "text": [
      "(33740, 2)\n",
      "(31337, 2)\n"
     ]
    }
   ],
   "source": [
    "# удалим строки с отсутствующими значениями\n",
    "print df.shape\n",
    "df = df.dropna(axis=0, how='any')\n",
    "print df.shape"
   ]
  },
  {
   "cell_type": "code",
   "execution_count": 112,
   "metadata": {},
   "outputs": [
    {
     "data": {
      "text/html": [
       "<div>\n",
       "<table border=\"1\" class=\"dataframe\">\n",
       "  <thead>\n",
       "    <tr style=\"text-align: right;\">\n",
       "      <th></th>\n",
       "      <th>grade</th>\n",
       "      <th>comment</th>\n",
       "    </tr>\n",
       "  </thead>\n",
       "  <tbody>\n",
       "    <tr>\n",
       "      <th>0</th>\n",
       "      <td>1</td>\n",
       "      <td>На момент покупки производителем были заявлены...</td>\n",
       "    </tr>\n",
       "    <tr>\n",
       "      <th>1</th>\n",
       "      <td>2</td>\n",
       "      <td>Купил этот продукт и на 3день отказал сенсор. ...</td>\n",
       "    </tr>\n",
       "    <tr>\n",
       "      <th>2</th>\n",
       "      <td>4</td>\n",
       "      <td>Полное барахло.</td>\n",
       "    </tr>\n",
       "    <tr>\n",
       "      <th>3</th>\n",
       "      <td>2</td>\n",
       "      <td>В понедельник отдам в сервис по гарантии. Посм...</td>\n",
       "    </tr>\n",
       "    <tr>\n",
       "      <th>4</th>\n",
       "      <td>3</td>\n",
       "      <td>Пользуюсь уже с полгода, за такие деньги более...</td>\n",
       "    </tr>\n",
       "  </tbody>\n",
       "</table>\n",
       "</div>"
      ],
      "text/plain": [
       "   grade                                            comment\n",
       "0      1  На момент покупки производителем были заявлены...\n",
       "1      2  Купил этот продукт и на 3день отказал сенсор. ...\n",
       "2      4                                    Полное барахло.\n",
       "3      2  В понедельник отдам в сервис по гарантии. Посм...\n",
       "4      3  Пользуюсь уже с полгода, за такие деньги более..."
      ]
     },
     "execution_count": 112,
     "metadata": {},
     "output_type": "execute_result"
    }
   ],
   "source": [
    "df.head(5)"
   ]
  },
  {
   "cell_type": "code",
   "execution_count": 113,
   "metadata": {
    "collapsed": true
   },
   "outputs": [],
   "source": [
    "# раз заметили странное значение, можно и удалить\n",
    "df.drop(df.index[2], inplace=True)"
   ]
  },
  {
   "cell_type": "code",
   "execution_count": 114,
   "metadata": {},
   "outputs": [
    {
     "name": "stdout",
     "output_type": "stream",
     "text": [
      "Маркой Леново остался  не доволен, и больше ее никогда не куплю. 1\n"
     ]
    }
   ],
   "source": [
    "print df.comment[8], df.grade[8]"
   ]
  },
  {
   "cell_type": "markdown",
   "metadata": {},
   "source": [
    "### Читаем файлы, подготавливаем тексты"
   ]
  },
  {
   "cell_type": "code",
   "execution_count": 11,
   "metadata": {
    "collapsed": true
   },
   "outputs": [],
   "source": [
    "import random\n",
    "\n",
    "def some(x, n):\n",
    "    return x.ix[random.sample(x.index, n)]"
   ]
  },
  {
   "cell_type": "code",
   "execution_count": 65,
   "metadata": {
    "collapsed": true
   },
   "outputs": [],
   "source": [
    "n1 = list(df.comment[df['grade'] == 1])\n",
    "n2 = list(df.comment[df['grade'] == 2])\n",
    "p3 = list(some(df.comment[df['grade'] == 3],len(n2)))\n",
    "p4 = list(some(df.comment[df['grade'] == 4],len(n1)+len(n2))) #балансируем выборку"
   ]
  },
  {
   "cell_type": "code",
   "execution_count": 66,
   "metadata": {},
   "outputs": [],
   "source": [
    "negative = n1+n2 # для увеличения объема обучающей выборки\n",
    "                 # используем в качестве негативных градации 1(ужасно) и 2(плохо)"
   ]
  },
  {
   "cell_type": "code",
   "execution_count": 67,
   "metadata": {},
   "outputs": [],
   "source": [
    "positive = p4 # идея использовать 3 и 4 в качестве положительных оказалась плохой"
   ]
  },
  {
   "cell_type": "code",
   "execution_count": 68,
   "metadata": {},
   "outputs": [
    {
     "name": "stdout",
     "output_type": "stream",
     "text": [
      "4764 4764\n"
     ]
    }
   ],
   "source": [
    "print len(negative), len(positive)"
   ]
  },
  {
   "cell_type": "code",
   "execution_count": 93,
   "metadata": {},
   "outputs": [
    {
     "name": "stdout",
     "output_type": "stream",
     "text": [
      "ну тут много понаписали что гааавно не то не сё да стекло хрупковато на новое стоит всего 2400 плюс замена 500  всего делов  я лично юзаю 4 месяца доволен  и связь нормальная просто любую модель смартфона уронив на пол да тем более кафель не всегда можно вообще собрать то мой лично подол в пруд и провел там неменее минуты достал отключил высушил и все работает дальше\n",
      "_____\n",
      "На момент покупки производителем были заявлены неплохие характеристики аппарата при низкой его стоимости (4400р.), на что я и соблазнился. В итоге смартфон быстро сдох, но потраченных денег жалко, поэтому теперь приходится бегать по ремонтам, чтобы либо сделали, либо деньги вернули.Вам это надо? К покупке не рекомендую.\n",
      "_________________________\n",
      "Перешел с самсунга А5(2016),тоже неплохой аппарат,но Nova как глоток свежего воздуха.Покупал у официалов,были подарки,внешний аккумулятор на 13000а/ч ,запасной шнурок и слфипалка.Доставка бесплатна.\n",
      "_____\n",
      "Маркой Леново остался  не доволен, и больше ее никогда не куплю.\n",
      "_________________________\n",
      "Возвращается понятие \\\"качественный Китай\\\", просто тестируйте в магазине перед покупкой на предмет люфта и скорости акселометра а также работу приложений.\n",
      "_____\n",
      "купил себе любимому, ибо Леново - именитая уже марка от узкоглазых собратьев. после первого падения отказал вибрик. Меню и интерфейс - неудобные до ужаса! Фотки паршивые. програмка распознавания штрих кодов вобще с такой камерой не видит ничего. Корпус хрупкий - стекло уже разбито (за 4 месяца в пользовании). Запчастей конечно же - БОЛТ. Батарея с 20% до нуля разряжается со скоростью секундомера. короче, долго можно обс__рать его, но покупал ради вайбера, скайпа и фронтальной камеры. вердикт - деньги на ветер.У меня много телефонов было от орехоколов до айфонов. Из опыта скажу: ресект НТС за простоту, надежность и удобство! Девушке за те же деньги полгода назад купил ТЕХЕТ. За те же деньги - преимущества во всем!! Вот вам и Китаёзы. удачного выбора.\n",
      "_________________________\n",
      "ОнеПлюс Оне, лучший смартфон на сегодняшний день. Те, кто говорят что у них отваливается сеть, глючат жесты, быстро разряжается акб или плохая камера, просто не умеют пользоваться смартфоном. Этот смарт не подойдёт тем, кто не любит копаться в настройках и прошивать свой смарт. Ставим цианоген ласт версии, шьём модем от колор ОС, рутируем устройство. Через титаниум бекап удаляем весь лишний софт. Выставляем в конфиденциальности  разрешения для каждого приложения под себя. Что бы сеть никогда не отваливаллась (естественно после прошивки модема) набираем *#*#4636#*#* первый пункт, далее идём в самый низ странички и выбираем там пункт ЛТЕ/GSM/CDMA (auto). Всё ваша сеть никогда не будет отваливаться. Телефон очень функционален (аналога ему не существует). Ставим снап камеру, настраиваем, и вот вам отличнейшие снимки.\n",
      "_____\n",
      "Не советую НИКОМУ\n",
      "_________________________\n",
      "На самом деле очень неплохой телефон, за свои деньги.\n",
      "_____\n",
      "Купил, и через полчаса вставил сим-карту, там что-то щелкнулось и она намертво застряла. Никак вытащить не мог, стал доставать ее иголкой, расцарапал весь телефон, но симкарту так и не вытащил. Неужели так сложно было сделать в этом телефоне Micro SIM, а не древний век. Вообщем пришлось заплатить 1000 чтобы мне вытащили эту сим-карту, мне ее вытащили, а разъем для нее не работает. Кошмар. Сам телефон тормозит, лагает, камера никакая. Ужасная модель, лучше бы за эти деньги кнопочный купил бы или китайский.\n",
      "_________________________\n",
      "Минусы не существенны, плюсы их бьют.По всем параметрам бьёт устройства в данной ценовой категории.Лучший выбор и лучший смартфон, которым я владел.\n",
      "_____\n",
      "Вообщем, за год использования, постоянные глюки, то с ровного места разряд батареи с 30 до 0 %, примерно за минуту. Глючный тач, нажимающийся сам по себе, сброс звонков, как входящих, так и исходящих, через 1-2 сек, после набора номера или входящего звонка. По итогу через год вообще завис на заставке. С lenovo\\'й видимо распрощаюсь, как с брендом. P/S/ Реанимировал перепрошивкой, все глюки уходят максимум на один- два месяца, затем снова помирает на заставке, по итогу приходится перепрошивать постоянно. Леново как бренд, давай до свидания...\n",
      "_________________________\n"
     ]
    }
   ],
   "source": [
    "# выведем примеры\n",
    "for i in range (0,6):\n",
    "    print positive[i]\n",
    "    print '_' * 5\n",
    "    print negative[i]\n",
    "    print '_' * 25"
   ]
  },
  {
   "cell_type": "code",
   "execution_count": 71,
   "metadata": {},
   "outputs": [],
   "source": [
    "X = negative+positive\n",
    "Y = [0 for x in range(len(negative))] + [1 for x in range(len(positive))]"
   ]
  },
  {
   "cell_type": "code",
   "execution_count": 72,
   "metadata": {},
   "outputs": [
    {
     "name": "stdout",
     "output_type": "stream",
     "text": [
      "9528 9528 4764\n"
     ]
    }
   ],
   "source": [
    "print len(X), len(Y), sum(Y)"
   ]
  },
  {
   "cell_type": "code",
   "execution_count": 73,
   "metadata": {
    "collapsed": true
   },
   "outputs": [],
   "source": [
    "from sklearn.model_selection import train_test_split\n",
    "X_train, X_test, y_train, y_test = train_test_split(X, Y,\n",
    "                                                    stratify=Y, \n",
    "                                                    test_size=0.25)"
   ]
  },
  {
   "cell_type": "markdown",
   "metadata": {},
   "source": [
    "### Составляем словарь"
   ]
  },
  {
   "cell_type": "markdown",
   "metadata": {},
   "source": [
    "### Pymorphy2 - лемматизация"
   ]
  },
  {
   "cell_type": "code",
   "execution_count": 26,
   "metadata": {
    "collapsed": true
   },
   "outputs": [],
   "source": [
    "morph = pymorphy2.MorphAnalyzer()"
   ]
  },
  {
   "cell_type": "code",
   "execution_count": 94,
   "metadata": {
    "collapsed": true
   },
   "outputs": [],
   "source": [
    "def text_to_words(text):\n",
    "    t = text\n",
    "    template = re.compile(u'([A-Za-zА-Яа-яёЁ]+)') # первый этап сохранения пунктуации в словаре\n",
    "    t2 = template.split(t)\n",
    "    #t1 = [value for value in t2 if value != ' ']\n",
    "    t1 = [morph.parse(value)[0].normal_form for value in t2 if value != ' ']\n",
    "    return ' '.join(t1)"
   ]
  },
  {
   "cell_type": "code",
   "execution_count": 76,
   "metadata": {},
   "outputs": [
    {
     "name": "stdout",
     "output_type": "stream",
     "text": [
      "CPU times: user 4min 22s, sys: 3.98 s, total: 4min 26s\n",
      "Wall time: 4min 24s\n"
     ]
    }
   ],
   "source": [
    "%%time\n",
    "X_pm = [text_to_words(x.decode('utf8')) for x in X]"
   ]
  },
  {
   "cell_type": "code",
   "execution_count": 77,
   "metadata": {},
   "outputs": [],
   "source": [
    "from sklearn.model_selection import train_test_split\n",
    "X_train_pm, X_test_pm, y_train, y_test = train_test_split(X_pm, Y,\n",
    "                                                    stratify=Y, \n",
    "                                                    test_size=0.25)"
   ]
  },
  {
   "cell_type": "code",
   "execution_count": 78,
   "metadata": {},
   "outputs": [
    {
     "name": "stdout",
     "output_type": "stream",
     "text": [
      "20.10.16  купить .25.10.16  перестать работать микрофон от слово совсем .  в разговорный динамика эхо .  пробовать везде . ещё возникнуть сложность с возврат , но тут большой вопрос к магазин .  в мыть город сервис нет . покупать в подарок .  очень расстроить соня . из комментарий видно что проблема с микрофон у многий .  поэтому это заводский сырой недочёт .\n"
     ]
    }
   ],
   "source": [
    "print X_test_pm[0]"
   ]
  },
  {
   "cell_type": "markdown",
   "metadata": {},
   "source": [
    "### Векторизация"
   ]
  },
  {
   "cell_type": "markdown",
   "metadata": {},
   "source": [
    "#### Vectirizer (pymorphy)"
   ]
  },
  {
   "cell_type": "code",
   "execution_count": 79,
   "metadata": {
    "collapsed": true
   },
   "outputs": [],
   "source": [
    "def my_tokenizer(s):\n",
    "    return s.split() # второй этап сохранения пунктуации в словаре"
   ]
  },
  {
   "cell_type": "code",
   "execution_count": 80,
   "metadata": {
    "collapsed": true
   },
   "outputs": [],
   "source": [
    "count_vectorizer = CountVectorizer(analyzer = \"word\",   \\\n",
    "                             tokenizer = my_tokenizer,    \\\n",
    "                             #preprocessor = pr, \\\n",
    "                             #stop_words = stop_words,   \\\n",
    "                             stop_words = None,   \\\n",
    "                             #max_df = .3,        \\\n",
    "                             #min_df = .001,        \\\n",
    "                             #ngram_range=(1,3),   \\\n",
    "                             max_features = 15000\n",
    "                            ) "
   ]
  },
  {
   "cell_type": "code",
   "execution_count": 81,
   "metadata": {
    "collapsed": true
   },
   "outputs": [],
   "source": [
    "tfidf_vectorizer = TfidfVectorizer(\n",
    "                             # sublinear_tf = True, \\\n",
    "                             tokenizer = my_tokenizer,    \\\n",
    "                             ngram_range=(1,3), \\\n",
    "                             max_features = 15000\n",
    "                            )"
   ]
  },
  {
   "cell_type": "code",
   "execution_count": 82,
   "metadata": {},
   "outputs": [
    {
     "name": "stdout",
     "output_type": "stream",
     "text": [
      "(7146, 15000)\n",
      "(2382, 15000)\n"
     ]
    }
   ],
   "source": [
    "#vect = vectorizer.fit(X_pm)\n",
    "vect = tfidf_vectorizer.fit(X_pm)\n",
    "#vect = count_vectorizer.fit(X_pm)\n",
    "\n",
    "train_data_features = vect.transform(X_train_pm).toarray()\n",
    "test_data_features = vect.transform(X_test_pm).toarray()\n",
    "\n",
    "print train_data_features.shape\n",
    "print test_data_features.shape"
   ]
  },
  {
   "cell_type": "code",
   "execution_count": 95,
   "metadata": {},
   "outputs": [
    {
     "name": "stdout",
     "output_type": "stream",
     "text": [
      ";•\n",
      ". дело в\n",
      "\\\" самсунг\n",
      "перезагрузка и\n",
      "quick\n",
      "китайщина\n",
      "состояние ,\n",
      "до 8\n",
      "gprs\n",
      "по телефон ,\n",
      "с\n",
      "я\n",
      "на\n",
      "-\n",
      "телефон\n",
      "в\n",
      "и\n",
      "не\n",
      ".\n",
      ",\n"
     ]
    }
   ],
   "source": [
    "#Можно вывести самые высоко- и низко- частотные слова\n",
    "vocab = vect.get_feature_names()\n",
    "dist = np.sum(train_data_features, axis=0)\n",
    "li = zip(vocab, dist)\n",
    "li.sort(key=lambda x: x[1])\n",
    "for i in li[0:10] + li[-10:]:\n",
    "#for i in li[0:100]:\n",
    "    print i[0]"
   ]
  },
  {
   "cell_type": "code",
   "execution_count": 96,
   "metadata": {},
   "outputs": [
    {
     "name": "stdout",
     "output_type": "stream",
     "text": [
      "0.85362500705\n",
      "0.862574962871\n",
      "0.864538567105\n",
      "0.867615569718\n"
     ]
    }
   ],
   "source": [
    "# test\n",
    "TRAIN = train_data_features\n",
    "cv = 6\n",
    "print cross_val_score(SGDClassifier(), TRAIN, y_train, scoring='accuracy', cv = cv).mean()\n",
    "print cross_val_score(LogisticRegression(), TRAIN, y_train, scoring='accuracy', cv = cv).mean()\n",
    "print cross_val_score(MultinomialNB(), TRAIN, y_train, scoring='accuracy', cv = cv).mean()\n",
    "print cross_val_score(LinearSVC(), TRAIN, y_train, scoring='accuracy', cv = cv).mean()"
   ]
  },
  {
   "cell_type": "markdown",
   "metadata": {},
   "source": [
    "#### Ответ для pymorphy"
   ]
  },
  {
   "cell_type": "code",
   "execution_count": 85,
   "metadata": {},
   "outputs": [
    {
     "data": {
      "text/plain": [
       "0.88455079764903444"
      ]
     },
     "execution_count": 85,
     "metadata": {},
     "output_type": "execute_result"
    }
   ],
   "source": [
    "# для отложенной выборки:\n",
    "regressor = MultinomialNB()\n",
    "#regressor = LinearSVC()\n",
    "#regressor = LogisticRegression()#(class_weight='balanced')\n",
    "u = regressor.fit(train_data_features,y_train)\n",
    "z = regressor.predict(test_data_features)\n",
    "\n",
    "metrics.accuracy_score(y_test, z)"
   ]
  },
  {
   "cell_type": "markdown",
   "metadata": {},
   "source": [
    "### Результат"
   ]
  },
  {
   "cell_type": "code",
   "execution_count": 87,
   "metadata": {},
   "outputs": [],
   "source": [
    "reviews = pd.read_csv('test1.csv', sep='\\t', header = 0, names =  ['id','r'])"
   ]
  },
  {
   "cell_type": "code",
   "execution_count": 88,
   "metadata": {},
   "outputs": [],
   "source": [
    "result = list(reviews['r'])"
   ]
  },
  {
   "cell_type": "code",
   "execution_count": 90,
   "metadata": {},
   "outputs": [],
   "source": [
    "res_pm = [text_to_words(x.decode('utf8')) for x in result]"
   ]
  },
  {
   "cell_type": "code",
   "execution_count": 91,
   "metadata": {},
   "outputs": [
    {
     "name": "stdout",
     "output_type": "stream",
     "text": [
      "(100, 15000)\n"
     ]
    }
   ],
   "source": [
    "result_data_features = vect.transform(res_pm).toarray()\n",
    "print result_data_features.shape\n",
    "r5 = regressor.predict(result_data_features)"
   ]
  },
  {
   "cell_type": "code",
   "execution_count": 92,
   "metadata": {},
   "outputs": [
    {
     "data": {
      "text/plain": [
       "array([1, 1, 0, 0, 1, 1, 1, 1, 0, 1, 0, 0, 1, 1, 1, 1, 1, 0, 1, 1, 1, 1, 0,\n",
       "       1, 1, 0, 1, 1, 0, 1, 0, 1, 0, 1, 0, 1, 1, 1, 1, 0, 1, 1, 1, 0, 0, 1,\n",
       "       1, 1, 0, 0, 0, 0, 0, 1, 0, 1, 1, 1, 1, 1, 1, 1, 0, 0, 0, 0, 0, 0, 1,\n",
       "       1, 1, 0, 0, 0, 0, 1, 0, 0, 0, 1, 0, 1, 0, 0, 1, 1, 1, 1, 0, 0, 1, 1,\n",
       "       0, 1, 0, 0, 1, 0, 1, 1])"
      ]
     },
     "execution_count": 92,
     "metadata": {},
     "output_type": "execute_result"
    }
   ],
   "source": [
    "r5"
   ]
  },
  {
   "cell_type": "code",
   "execution_count": 97,
   "metadata": {},
   "outputs": [],
   "source": [
    "columns = ['comment', 'result']\n",
    "diff_df = pd.DataFrame(result) "
   ]
  },
  {
   "cell_type": "code",
   "execution_count": 98,
   "metadata": {
    "collapsed": true
   },
   "outputs": [],
   "source": [
    "diff_df['result'] = r5"
   ]
  },
  {
   "cell_type": "code",
   "execution_count": 100,
   "metadata": {},
   "outputs": [],
   "source": [
    "# подстраиваемся под формат ответа\n",
    "diff_df['res2'] = diff_df['result'] \n",
    "diff_df.loc[diff_df.result ==0,['res2']] = 'neg'\n",
    "diff_df.loc[diff_df.result ==1,['res2']] = 'pos'"
   ]
  },
  {
   "cell_type": "code",
   "execution_count": 115,
   "metadata": {
    "collapsed": true
   },
   "outputs": [],
   "source": [
    "res_df = pd.DataFrame(diff_df,columns = ['res2'])\n",
    "res_df = df.rename(index=str, columns={\"res2\": \"y\"})\n",
    "res_df.to_csv('answer4.csv', index_label='Id')"
   ]
  },
  {
   "cell_type": "code",
   "execution_count": 102,
   "metadata": {},
   "outputs": [
    {
     "data": {
      "text/html": [
       "<div>\n",
       "<table border=\"1\" class=\"dataframe\">\n",
       "  <thead>\n",
       "    <tr style=\"text-align: right;\">\n",
       "      <th></th>\n",
       "      <th>0</th>\n",
       "      <th>result</th>\n",
       "      <th>res2</th>\n",
       "    </tr>\n",
       "  </thead>\n",
       "  <tbody>\n",
       "    <tr>\n",
       "      <th>0</th>\n",
       "      <td>Ужасно слабый аккумулятор, это основной минус ...</td>\n",
       "      <td>1</td>\n",
       "      <td>pos</td>\n",
       "    </tr>\n",
       "    <tr>\n",
       "      <th>1</th>\n",
       "      <td>ценанадежность-неубиваемостьдолго держит батар...</td>\n",
       "      <td>1</td>\n",
       "      <td>pos</td>\n",
       "    </tr>\n",
       "    <tr>\n",
       "      <th>2</th>\n",
       "      <td>подробнее в комментариях  К сожалению, факт по...</td>\n",
       "      <td>0</td>\n",
       "      <td>neg</td>\n",
       "    </tr>\n",
       "    <tr>\n",
       "      <th>3</th>\n",
       "      <td>я любительница громкой музыки. Тише телефона у...</td>\n",
       "      <td>0</td>\n",
       "      <td>neg</td>\n",
       "    </tr>\n",
       "    <tr>\n",
       "      <th>4</th>\n",
       "      <td>Дата выпуска - 2011 г, емкость - 1430 mAh, тех...</td>\n",
       "      <td>1</td>\n",
       "      <td>pos</td>\n",
       "    </tr>\n",
       "    <tr>\n",
       "      <th>5</th>\n",
       "      <td>- Удобная Клавиатура и русская раскладка - 2 с...</td>\n",
       "      <td>1</td>\n",
       "      <td>pos</td>\n",
       "    </tr>\n",
       "    <tr>\n",
       "      <th>6</th>\n",
       "      <td>Супер телефон! 1.QWERTY!!! Это самый лучший ег...</td>\n",
       "      <td>1</td>\n",
       "      <td>pos</td>\n",
       "    </tr>\n",
       "    <tr>\n",
       "      <th>7</th>\n",
       "      <td>- толщина (помещается даже в брюки) - аккумуля...</td>\n",
       "      <td>1</td>\n",
       "      <td>pos</td>\n",
       "    </tr>\n",
       "    <tr>\n",
       "      <th>8</th>\n",
       "      <td>Аккумулятор ужасен! Хватает буквально на неско...</td>\n",
       "      <td>0</td>\n",
       "      <td>neg</td>\n",
       "    </tr>\n",
       "    <tr>\n",
       "      <th>9</th>\n",
       "      <td>1 удобный.клавеатура просто класс быстро пишеш...</td>\n",
       "      <td>1</td>\n",
       "      <td>pos</td>\n",
       "    </tr>\n",
       "    <tr>\n",
       "      <th>10</th>\n",
       "      <td>Метттлленнныййй-ммеееттлленный. Ну что это так...</td>\n",
       "      <td>0</td>\n",
       "      <td>neg</td>\n",
       "    </tr>\n",
       "    <tr>\n",
       "      <th>11</th>\n",
       "      <td>- Цена - Камера - Удобное переключение между S...</td>\n",
       "      <td>0</td>\n",
       "      <td>neg</td>\n",
       "    </tr>\n",
       "    <tr>\n",
       "      <th>12</th>\n",
       "      <td>- Зарядка! Держит просто обалденно! Хватает на...</td>\n",
       "      <td>1</td>\n",
       "      <td>pos</td>\n",
       "    </tr>\n",
       "    <tr>\n",
       "      <th>13</th>\n",
       "      <td>Звук , 2 sim, удобная удобная qwerty клавиатур...</td>\n",
       "      <td>1</td>\n",
       "      <td>pos</td>\n",
       "    </tr>\n",
       "    <tr>\n",
       "      <th>14</th>\n",
       "      <td>1)2 симки!!! 2)Внешний дизайн телефона 3)Удобн...</td>\n",
       "      <td>1</td>\n",
       "      <td>pos</td>\n",
       "    </tr>\n",
       "    <tr>\n",
       "      <th>15</th>\n",
       "      <td>2 сим. Дизайн (много цветов корпуса существует...</td>\n",
       "      <td>1</td>\n",
       "      <td>pos</td>\n",
       "    </tr>\n",
       "    <tr>\n",
       "      <th>16</th>\n",
       "      <td>1.Кверти-клава 2.Две сим-карты 3.Громкий динам...</td>\n",
       "      <td>1</td>\n",
       "      <td>pos</td>\n",
       "    </tr>\n",
       "    <tr>\n",
       "      <th>17</th>\n",
       "      <td>Качество, глюки операционки.  Покупала как тол...</td>\n",
       "      <td>0</td>\n",
       "      <td>neg</td>\n",
       "    </tr>\n",
       "    <tr>\n",
       "      <th>18</th>\n",
       "      <td>Дизайн, 2 симки, камера  Сломался мой филька V...</td>\n",
       "      <td>1</td>\n",
       "      <td>pos</td>\n",
       "    </tr>\n",
       "    <tr>\n",
       "      <th>19</th>\n",
       "      <td>цена батарея внешний вид стандартный разъем дл...</td>\n",
       "      <td>1</td>\n",
       "      <td>pos</td>\n",
       "    </tr>\n",
       "    <tr>\n",
       "      <th>20</th>\n",
       "      <td>клавиатура, батарея, две сим карты, удобное ме...</td>\n",
       "      <td>1</td>\n",
       "      <td>pos</td>\n",
       "    </tr>\n",
       "    <tr>\n",
       "      <th>21</th>\n",
       "      <td>Тормозит, сборка ужасная, всё скрипит и люфтит...</td>\n",
       "      <td>1</td>\n",
       "      <td>pos</td>\n",
       "    </tr>\n",
       "    <tr>\n",
       "      <th>22</th>\n",
       "      <td>Встроенная память, не очень хорошая камера.  В...</td>\n",
       "      <td>0</td>\n",
       "      <td>neg</td>\n",
       "    </tr>\n",
       "    <tr>\n",
       "      <th>23</th>\n",
       "      <td>1. отличный дизайн 2. батарею держит 4 дня 3. ...</td>\n",
       "      <td>1</td>\n",
       "      <td>pos</td>\n",
       "    </tr>\n",
       "    <tr>\n",
       "      <th>24</th>\n",
       "      <td>1 удобно держать в руке  2 не фонит(многие пис...</td>\n",
       "      <td>1</td>\n",
       "      <td>pos</td>\n",
       "    </tr>\n",
       "    <tr>\n",
       "      <th>25</th>\n",
       "      <td>плохой сенсор,игры тупят,программы плохо работ...</td>\n",
       "      <td>0</td>\n",
       "      <td>neg</td>\n",
       "    </tr>\n",
       "    <tr>\n",
       "      <th>26</th>\n",
       "      <td>Купила телефон на земену нокии 5130. Сначала д...</td>\n",
       "      <td>1</td>\n",
       "      <td>pos</td>\n",
       "    </tr>\n",
       "    <tr>\n",
       "      <th>27</th>\n",
       "      <td>Qwerty клавиатура. Очень долго держит заряд - ...</td>\n",
       "      <td>1</td>\n",
       "      <td>pos</td>\n",
       "    </tr>\n",
       "    <tr>\n",
       "      <th>28</th>\n",
       "      <td>- МИЗЕРНОЕ количество внутренней памяти (что о...</td>\n",
       "      <td>0</td>\n",
       "      <td>neg</td>\n",
       "    </tr>\n",
       "    <tr>\n",
       "      <th>29</th>\n",
       "      <td>- 2 sim - qwerty / йцукен - долгая батарея - п...</td>\n",
       "      <td>1</td>\n",
       "      <td>pos</td>\n",
       "    </tr>\n",
       "    <tr>\n",
       "      <th>...</th>\n",
       "      <td>...</td>\n",
       "      <td>...</td>\n",
       "      <td>...</td>\n",
       "    </tr>\n",
       "    <tr>\n",
       "      <th>70</th>\n",
       "      <td>1) большой дисплей 2) приемлемая цена 3) более...</td>\n",
       "      <td>1</td>\n",
       "      <td>pos</td>\n",
       "    </tr>\n",
       "    <tr>\n",
       "      <th>71</th>\n",
       "      <td>Китаец он и есть китаец , только этот более бр...</td>\n",
       "      <td>0</td>\n",
       "      <td>neg</td>\n",
       "    </tr>\n",
       "    <tr>\n",
       "      <th>72</th>\n",
       "      <td>- Плохие динамики. Мало того, что модель сама ...</td>\n",
       "      <td>0</td>\n",
       "      <td>neg</td>\n",
       "    </tr>\n",
       "    <tr>\n",
       "      <th>73</th>\n",
       "      <td>время работы от батареи очень мало, скудный вы...</td>\n",
       "      <td>0</td>\n",
       "      <td>neg</td>\n",
       "    </tr>\n",
       "    <tr>\n",
       "      <th>74</th>\n",
       "      <td>Слабый процессор и батарея. Как результат, мед...</td>\n",
       "      <td>0</td>\n",
       "      <td>neg</td>\n",
       "    </tr>\n",
       "    <tr>\n",
       "      <th>75</th>\n",
       "      <td>цена,стиль,качество,звук,клавиатура(ну для мен...</td>\n",
       "      <td>1</td>\n",
       "      <td>pos</td>\n",
       "    </tr>\n",
       "    <tr>\n",
       "      <th>76</th>\n",
       "      <td>- висит - батарея через 1,5 года сдыхает, сейч...</td>\n",
       "      <td>0</td>\n",
       "      <td>neg</td>\n",
       "    </tr>\n",
       "    <tr>\n",
       "      <th>77</th>\n",
       "      <td>После двух недель использования полезла резино...</td>\n",
       "      <td>0</td>\n",
       "      <td>neg</td>\n",
       "    </tr>\n",
       "    <tr>\n",
       "      <th>78</th>\n",
       "      <td>Windows shop ужасен, Несъёмная батарея, мини с...</td>\n",
       "      <td>0</td>\n",
       "      <td>neg</td>\n",
       "    </tr>\n",
       "    <tr>\n",
       "      <th>79</th>\n",
       "      <td>очень мало памяти - не хватает ни на что, стар...</td>\n",
       "      <td>1</td>\n",
       "      <td>pos</td>\n",
       "    </tr>\n",
       "    <tr>\n",
       "      <th>80</th>\n",
       "      <td>Самопроизвольно закрывает приложения и перезаг...</td>\n",
       "      <td>0</td>\n",
       "      <td>neg</td>\n",
       "    </tr>\n",
       "    <tr>\n",
       "      <th>81</th>\n",
       "      <td>Rачество сборки, крепкий, тугой нажим клавиш, ...</td>\n",
       "      <td>1</td>\n",
       "      <td>pos</td>\n",
       "    </tr>\n",
       "    <tr>\n",
       "      <th>82</th>\n",
       "      <td>оо, да. недостатки:D с чего бы начать.. тупой ...</td>\n",
       "      <td>0</td>\n",
       "      <td>neg</td>\n",
       "    </tr>\n",
       "    <tr>\n",
       "      <th>83</th>\n",
       "      <td>Память!!!!  До этого пару месяцев назад оставл...</td>\n",
       "      <td>0</td>\n",
       "      <td>neg</td>\n",
       "    </tr>\n",
       "    <tr>\n",
       "      <th>84</th>\n",
       "      <td>1) Низкая цена 2) QWERTY клавиатура (когда 2 с...</td>\n",
       "      <td>1</td>\n",
       "      <td>pos</td>\n",
       "    </tr>\n",
       "    <tr>\n",
       "      <th>85</th>\n",
       "      <td>- WP8; - Система занимает почти все место в 4г...</td>\n",
       "      <td>1</td>\n",
       "      <td>pos</td>\n",
       "    </tr>\n",
       "    <tr>\n",
       "      <th>86</th>\n",
       "      <td>+ Удобная qwerty клавиатура + Неплохой экран +...</td>\n",
       "      <td>1</td>\n",
       "      <td>pos</td>\n",
       "    </tr>\n",
       "    <tr>\n",
       "      <th>87</th>\n",
       "      <td>Мощный аккумулятор, множество функций, есть да...</td>\n",
       "      <td>1</td>\n",
       "      <td>pos</td>\n",
       "    </tr>\n",
       "    <tr>\n",
       "      <th>88</th>\n",
       "      <td>Windows 8. Из за этой системы очень быстро зап...</td>\n",
       "      <td>0</td>\n",
       "      <td>neg</td>\n",
       "    </tr>\n",
       "    <tr>\n",
       "      <th>89</th>\n",
       "      <td>ПАМЯТЬ! ПАМЯТЬ! Очень мало памяти! Доходило до...</td>\n",
       "      <td>0</td>\n",
       "      <td>neg</td>\n",
       "    </tr>\n",
       "    <tr>\n",
       "      <th>90</th>\n",
       "      <td>1) Красивый дизайн телефона 2) Большой ассорти...</td>\n",
       "      <td>1</td>\n",
       "      <td>pos</td>\n",
       "    </tr>\n",
       "    <tr>\n",
       "      <th>91</th>\n",
       "      <td>Всегда хотела телефон с qwerty клавиатурой. Ку...</td>\n",
       "      <td>1</td>\n",
       "      <td>pos</td>\n",
       "    </tr>\n",
       "    <tr>\n",
       "      <th>92</th>\n",
       "      <td>КАТАСТРОФИЧЕСКИ не хватает внутренней памяти. ...</td>\n",
       "      <td>0</td>\n",
       "      <td>neg</td>\n",
       "    </tr>\n",
       "    <tr>\n",
       "      <th>93</th>\n",
       "      <td>1. Цена. 2. Качество сборки. 3. QWERTY-клавиат...</td>\n",
       "      <td>1</td>\n",
       "      <td>pos</td>\n",
       "    </tr>\n",
       "    <tr>\n",
       "      <th>94</th>\n",
       "      <td>почти все, что есть в этом телефоне  Честно го...</td>\n",
       "      <td>0</td>\n",
       "      <td>neg</td>\n",
       "    </tr>\n",
       "    <tr>\n",
       "      <th>95</th>\n",
       "      <td>Нет передней камеры, внутренняя память очень м...</td>\n",
       "      <td>0</td>\n",
       "      <td>neg</td>\n",
       "    </tr>\n",
       "    <tr>\n",
       "      <th>96</th>\n",
       "      <td>Звук при прослушивание музыки хороший,не глючи...</td>\n",
       "      <td>1</td>\n",
       "      <td>pos</td>\n",
       "    </tr>\n",
       "    <tr>\n",
       "      <th>97</th>\n",
       "      <td>Очень маленькая память забита вшитыми и соверш...</td>\n",
       "      <td>0</td>\n",
       "      <td>neg</td>\n",
       "    </tr>\n",
       "    <tr>\n",
       "      <th>98</th>\n",
       "      <td>Удобный корпус,стандартное меню нокиа,камера д...</td>\n",
       "      <td>1</td>\n",
       "      <td>pos</td>\n",
       "    </tr>\n",
       "    <tr>\n",
       "      <th>99</th>\n",
       "      <td>ПО, камера, отсутствие выбора приложение, нево...</td>\n",
       "      <td>1</td>\n",
       "      <td>pos</td>\n",
       "    </tr>\n",
       "  </tbody>\n",
       "</table>\n",
       "<p>100 rows × 3 columns</p>\n",
       "</div>"
      ],
      "text/plain": [
       "                                                    0  result res2\n",
       "0   Ужасно слабый аккумулятор, это основной минус ...       1  pos\n",
       "1   ценанадежность-неубиваемостьдолго держит батар...       1  pos\n",
       "2   подробнее в комментариях  К сожалению, факт по...       0  neg\n",
       "3   я любительница громкой музыки. Тише телефона у...       0  neg\n",
       "4   Дата выпуска - 2011 г, емкость - 1430 mAh, тех...       1  pos\n",
       "5   - Удобная Клавиатура и русская раскладка - 2 с...       1  pos\n",
       "6   Супер телефон! 1.QWERTY!!! Это самый лучший ег...       1  pos\n",
       "7   - толщина (помещается даже в брюки) - аккумуля...       1  pos\n",
       "8   Аккумулятор ужасен! Хватает буквально на неско...       0  neg\n",
       "9   1 удобный.клавеатура просто класс быстро пишеш...       1  pos\n",
       "10  Метттлленнныййй-ммеееттлленный. Ну что это так...       0  neg\n",
       "11  - Цена - Камера - Удобное переключение между S...       0  neg\n",
       "12  - Зарядка! Держит просто обалденно! Хватает на...       1  pos\n",
       "13  Звук , 2 sim, удобная удобная qwerty клавиатур...       1  pos\n",
       "14  1)2 симки!!! 2)Внешний дизайн телефона 3)Удобн...       1  pos\n",
       "15  2 сим. Дизайн (много цветов корпуса существует...       1  pos\n",
       "16  1.Кверти-клава 2.Две сим-карты 3.Громкий динам...       1  pos\n",
       "17  Качество, глюки операционки.  Покупала как тол...       0  neg\n",
       "18  Дизайн, 2 симки, камера  Сломался мой филька V...       1  pos\n",
       "19  цена батарея внешний вид стандартный разъем дл...       1  pos\n",
       "20  клавиатура, батарея, две сим карты, удобное ме...       1  pos\n",
       "21  Тормозит, сборка ужасная, всё скрипит и люфтит...       1  pos\n",
       "22  Встроенная память, не очень хорошая камера.  В...       0  neg\n",
       "23  1. отличный дизайн 2. батарею держит 4 дня 3. ...       1  pos\n",
       "24  1 удобно держать в руке  2 не фонит(многие пис...       1  pos\n",
       "25  плохой сенсор,игры тупят,программы плохо работ...       0  neg\n",
       "26  Купила телефон на земену нокии 5130. Сначала д...       1  pos\n",
       "27  Qwerty клавиатура. Очень долго держит заряд - ...       1  pos\n",
       "28  - МИЗЕРНОЕ количество внутренней памяти (что о...       0  neg\n",
       "29  - 2 sim - qwerty / йцукен - долгая батарея - п...       1  pos\n",
       "..                                                ...     ...  ...\n",
       "70  1) большой дисплей 2) приемлемая цена 3) более...       1  pos\n",
       "71  Китаец он и есть китаец , только этот более бр...       0  neg\n",
       "72  - Плохие динамики. Мало того, что модель сама ...       0  neg\n",
       "73  время работы от батареи очень мало, скудный вы...       0  neg\n",
       "74  Слабый процессор и батарея. Как результат, мед...       0  neg\n",
       "75  цена,стиль,качество,звук,клавиатура(ну для мен...       1  pos\n",
       "76  - висит - батарея через 1,5 года сдыхает, сейч...       0  neg\n",
       "77  После двух недель использования полезла резино...       0  neg\n",
       "78  Windows shop ужасен, Несъёмная батарея, мини с...       0  neg\n",
       "79  очень мало памяти - не хватает ни на что, стар...       1  pos\n",
       "80  Самопроизвольно закрывает приложения и перезаг...       0  neg\n",
       "81  Rачество сборки, крепкий, тугой нажим клавиш, ...       1  pos\n",
       "82  оо, да. недостатки:D с чего бы начать.. тупой ...       0  neg\n",
       "83  Память!!!!  До этого пару месяцев назад оставл...       0  neg\n",
       "84  1) Низкая цена 2) QWERTY клавиатура (когда 2 с...       1  pos\n",
       "85  - WP8; - Система занимает почти все место в 4г...       1  pos\n",
       "86  + Удобная qwerty клавиатура + Неплохой экран +...       1  pos\n",
       "87  Мощный аккумулятор, множество функций, есть да...       1  pos\n",
       "88  Windows 8. Из за этой системы очень быстро зап...       0  neg\n",
       "89  ПАМЯТЬ! ПАМЯТЬ! Очень мало памяти! Доходило до...       0  neg\n",
       "90  1) Красивый дизайн телефона 2) Большой ассорти...       1  pos\n",
       "91  Всегда хотела телефон с qwerty клавиатурой. Ку...       1  pos\n",
       "92  КАТАСТРОФИЧЕСКИ не хватает внутренней памяти. ...       0  neg\n",
       "93  1. Цена. 2. Качество сборки. 3. QWERTY-клавиат...       1  pos\n",
       "94  почти все, что есть в этом телефоне  Честно го...       0  neg\n",
       "95  Нет передней камеры, внутренняя память очень м...       0  neg\n",
       "96  Звук при прослушивание музыки хороший,не глючи...       1  pos\n",
       "97  Очень маленькая память забита вшитыми и соверш...       0  neg\n",
       "98  Удобный корпус,стандартное меню нокиа,камера д...       1  pos\n",
       "99  ПО, камера, отсутствие выбора приложение, нево...       1  pos\n",
       "\n",
       "[100 rows x 3 columns]"
      ]
     },
     "execution_count": 102,
     "metadata": {},
     "output_type": "execute_result"
    }
   ],
   "source": [
    "diff_df"
   ]
  }
 ],
 "metadata": {
  "anaconda-cloud": {},
  "kernelspec": {
   "display_name": "Python 3",
   "language": "python",
   "name": "python3"
  },
  "language_info": {
   "codemirror_mode": {
    "name": "ipython",
    "version": 3
   },
   "file_extension": ".py",
   "mimetype": "text/x-python",
   "name": "python",
   "nbconvert_exporter": "python",
   "pygments_lexer": "ipython3",
   "version": "3.6.3"
  }
 },
 "nbformat": 4,
 "nbformat_minor": 1
}
