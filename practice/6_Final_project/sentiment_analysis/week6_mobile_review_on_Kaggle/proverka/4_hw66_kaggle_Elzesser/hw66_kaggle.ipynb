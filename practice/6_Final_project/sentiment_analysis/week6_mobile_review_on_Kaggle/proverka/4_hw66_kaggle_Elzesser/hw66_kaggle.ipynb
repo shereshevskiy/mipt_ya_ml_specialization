{
 "cells": [
  {
   "cell_type": "code",
   "execution_count": 99,
   "metadata": {
    "collapsed": true
   },
   "outputs": [],
   "source": [
    "import pandas as pd\n",
    "import bs4"
   ]
  },
  {
   "cell_type": "code",
   "execution_count": 100,
   "metadata": {
    "collapsed": true
   },
   "outputs": [],
   "source": [
    "#загружаем тестовую выборку\n",
    "with open('test_kaggle.csv', 'r') as f:\n",
    "    data2 = f.read()\n",
    "columns = ['mes']\n",
    "test_review=pd.DataFrame(columns=columns)\n",
    "for r in bs4.BeautifulSoup(data2, 'lxml').find_all('review'):\n",
    "    a=r.text\n",
    "    new_line = {'mes':a}\n",
    "    test_review=test_review.append(new_line, ignore_index=True)"
   ]
  },
  {
   "cell_type": "code",
   "execution_count": 101,
   "metadata": {
    "collapsed": true
   },
   "outputs": [],
   "source": [
    "#загружаем обучающую выборку (отзывы про телефоны с сайта torg.mail.ru)\n",
    "data_rew=pd.read_csv('review_hw66.txt', sep='\\t')"
   ]
  },
  {
   "cell_type": "code",
   "execution_count": 102,
   "metadata": {},
   "outputs": [
    {
     "data": {
      "text/html": [
       "<div>\n",
       "<style>\n",
       "    .dataframe thead tr:only-child th {\n",
       "        text-align: right;\n",
       "    }\n",
       "\n",
       "    .dataframe thead th {\n",
       "        text-align: left;\n",
       "    }\n",
       "\n",
       "    .dataframe tbody tr th {\n",
       "        vertical-align: top;\n",
       "    }\n",
       "</style>\n",
       "<table border=\"1\" class=\"dataframe\">\n",
       "  <thead>\n",
       "    <tr style=\"text-align: right;\">\n",
       "      <th></th>\n",
       "      <th>Unnamed: 0</th>\n",
       "      <th>mes</th>\n",
       "      <th>rating</th>\n",
       "    </tr>\n",
       "  </thead>\n",
       "  <tbody>\n",
       "    <tr>\n",
       "      <th>0</th>\n",
       "      <td>0</td>\n",
       "      <td>Купил аппарат в ДНС. На вид крепкий, водонепро...</td>\n",
       "      <td>0</td>\n",
       "    </tr>\n",
       "    <tr>\n",
       "      <th>1</th>\n",
       "      <td>1</td>\n",
       "      <td>Мой третий LG.Честно не повезло. Грешу на сбор...</td>\n",
       "      <td>0</td>\n",
       "    </tr>\n",
       "    <tr>\n",
       "      <th>2</th>\n",
       "      <td>2</td>\n",
       "      <td>Аппарат, из-за которого решил больше не покупа...</td>\n",
       "      <td>0</td>\n",
       "    </tr>\n",
       "    <tr>\n",
       "      <th>3</th>\n",
       "      <td>3</td>\n",
       "      <td>при захлопывании задней крышки телефон зависае...</td>\n",
       "      <td>0</td>\n",
       "    </tr>\n",
       "    <tr>\n",
       "      <th>4</th>\n",
       "      <td>4</td>\n",
       "      <td>Месяц разочарования пользования этим смартом, ...</td>\n",
       "      <td>0</td>\n",
       "    </tr>\n",
       "  </tbody>\n",
       "</table>\n",
       "</div>"
      ],
      "text/plain": [
       "   Unnamed: 0                                                mes  rating\n",
       "0           0  Купил аппарат в ДНС. На вид крепкий, водонепро...       0\n",
       "1           1  Мой третий LG.Честно не повезло. Грешу на сбор...       0\n",
       "2           2  Аппарат, из-за которого решил больше не покупа...       0\n",
       "3           3  при захлопывании задней крышки телефон зависае...       0\n",
       "4           4  Месяц разочарования пользования этим смартом, ...       0"
      ]
     },
     "execution_count": 102,
     "metadata": {},
     "output_type": "execute_result"
    }
   ],
   "source": [
    "data_rew.head()"
   ]
  },
  {
   "cell_type": "code",
   "execution_count": 103,
   "metadata": {
    "collapsed": true
   },
   "outputs": [],
   "source": [
    "from sklearn.cross_validation import StratifiedKFold, cross_val_score\n",
    "from sklearn.pipeline import Pipeline\n",
    "from sklearn.feature_extraction.text import CountVectorizer, TfidfTransformer\n",
    "from sklearn import naive_bayes\n",
    "from sklearn.grid_search import GridSearchCV"
   ]
  },
  {
   "cell_type": "code",
   "execution_count": 104,
   "metadata": {},
   "outputs": [
    {
     "data": {
      "text/html": [
       "<div>\n",
       "<style>\n",
       "    .dataframe thead tr:only-child th {\n",
       "        text-align: right;\n",
       "    }\n",
       "\n",
       "    .dataframe thead th {\n",
       "        text-align: left;\n",
       "    }\n",
       "\n",
       "    .dataframe tbody tr th {\n",
       "        vertical-align: top;\n",
       "    }\n",
       "</style>\n",
       "<table border=\"1\" class=\"dataframe\">\n",
       "  <thead>\n",
       "    <tr>\n",
       "      <th></th>\n",
       "      <th colspan=\"8\" halign=\"left\">Unnamed: 0</th>\n",
       "    </tr>\n",
       "    <tr>\n",
       "      <th></th>\n",
       "      <th>count</th>\n",
       "      <th>mean</th>\n",
       "      <th>std</th>\n",
       "      <th>min</th>\n",
       "      <th>25%</th>\n",
       "      <th>50%</th>\n",
       "      <th>75%</th>\n",
       "      <th>max</th>\n",
       "    </tr>\n",
       "    <tr>\n",
       "      <th>rating</th>\n",
       "      <th></th>\n",
       "      <th></th>\n",
       "      <th></th>\n",
       "      <th></th>\n",
       "      <th></th>\n",
       "      <th></th>\n",
       "      <th></th>\n",
       "      <th></th>\n",
       "    </tr>\n",
       "  </thead>\n",
       "  <tbody>\n",
       "    <tr>\n",
       "      <th>0</th>\n",
       "      <td>3010.0</td>\n",
       "      <td>10971.834219</td>\n",
       "      <td>15619.985793</td>\n",
       "      <td>0.0</td>\n",
       "      <td>1892.25</td>\n",
       "      <td>3133.0</td>\n",
       "      <td>16178.00</td>\n",
       "      <td>93313.0</td>\n",
       "    </tr>\n",
       "    <tr>\n",
       "      <th>1</th>\n",
       "      <td>5430.0</td>\n",
       "      <td>18438.990792</td>\n",
       "      <td>23323.933408</td>\n",
       "      <td>717.0</td>\n",
       "      <td>4228.50</td>\n",
       "      <td>8149.5</td>\n",
       "      <td>21491.75</td>\n",
       "      <td>97437.0</td>\n",
       "    </tr>\n",
       "  </tbody>\n",
       "</table>\n",
       "</div>"
      ],
      "text/plain": [
       "       Unnamed: 0                                                      \\\n",
       "            count          mean           std    min      25%     50%   \n",
       "rating                                                                  \n",
       "0          3010.0  10971.834219  15619.985793    0.0  1892.25  3133.0   \n",
       "1          5430.0  18438.990792  23323.933408  717.0  4228.50  8149.5   \n",
       "\n",
       "                           \n",
       "             75%      max  \n",
       "rating                     \n",
       "0       16178.00  93313.0  \n",
       "1       21491.75  97437.0  "
      ]
     },
     "execution_count": 104,
     "metadata": {},
     "output_type": "execute_result"
    }
   ],
   "source": [
    "data_rew.groupby('rating').describe()"
   ]
  },
  {
   "cell_type": "code",
   "execution_count": 105,
   "metadata": {
    "collapsed": true
   },
   "outputs": [],
   "source": [
    "#добавим еще плохих\n",
    "a1=data_rew[data_rew.rating==1]\n",
    "a0=data_rew[data_rew.rating==0]\n",
    "a00=data_rew[data_rew.rating==0][:2000]\n",
    "\n",
    "frames1 = [a0, a1,a00]\n",
    "a0a1 = pd.concat(frames1).reset_index(drop=True)"
   ]
  },
  {
   "cell_type": "code",
   "execution_count": 106,
   "metadata": {},
   "outputs": [
    {
     "name": "stdout",
     "output_type": "stream",
     "text": [
      "10440 100 10540\n"
     ]
    }
   ],
   "source": [
    "#обучающий и тестовый набор\n",
    "msg_train = a0a1['mes']\n",
    "msg_test = test_review['mes']\n",
    "label_train = a0a1['rating']\n",
    "\n",
    "print len(msg_train), len(msg_test), len(msg_train) + len(msg_test)"
   ]
  },
  {
   "cell_type": "code",
   "execution_count": 107,
   "metadata": {
    "collapsed": true
   },
   "outputs": [],
   "source": [
    "#собираем пайплайн\n",
    "pipeline = Pipeline([\n",
    "    ('bow', CountVectorizer(max_df=0.8,min_df=3)), \n",
    "    ('tfidf', TfidfTransformer()),\n",
    "    ('classifier', naive_bayes.BernoulliNB()),\n",
    "])"
   ]
  },
  {
   "cell_type": "code",
   "execution_count": 108,
   "metadata": {
    "collapsed": true
   },
   "outputs": [],
   "source": [
    "#выбираем параметры, которые будем перебирать \n",
    "param = {\n",
    "    'tfidf__norm':('l1', 'l2', None),\n",
    "    'tfidf__use_idf': (True, False),\n",
    "    'bow__ngram_range': [ (1, 2),(1, 3)],\n",
    "            }\n",
    "\n",
    "grid_BernoulliNB = GridSearchCV(\n",
    "    pipeline,  \n",
    "    param_grid=param,  \n",
    "    refit=True,  #сразу подставим лучший вариант\n",
    "    scoring='accuracy',  \n",
    "    cv=StratifiedKFold(label_train, n_folds=5),  \n",
    ")"
   ]
  },
  {
   "cell_type": "code",
   "execution_count": 109,
   "metadata": {},
   "outputs": [
    {
     "name": "stdout",
     "output_type": "stream",
     "text": [
      "Wall time: 2min 31s\n"
     ]
    }
   ],
   "source": [
    "#ищем лучшую комбинацию\n",
    "%time BernoulliNB_detector = grid_BernoulliNB.fit(list(msg_train), list(label_train))"
   ]
  },
  {
   "cell_type": "code",
   "execution_count": 110,
   "metadata": {
    "collapsed": true
   },
   "outputs": [],
   "source": [
    "#предсказываем для тестовой выборки заказчика\n",
    "test_predict=BernoulliNB_detector.predict(test_review['mes'])"
   ]
  },
  {
   "cell_type": "code",
   "execution_count": 111,
   "metadata": {
    "collapsed": true
   },
   "outputs": [],
   "source": [
    "#танцы с бубном, чтобы соответствовать формату\n",
    "df_file = pd.DataFrame(test_predict, index=test_review.index, columns=['y'])"
   ]
  },
  {
   "cell_type": "code",
   "execution_count": 112,
   "metadata": {
    "collapsed": true
   },
   "outputs": [],
   "source": [
    "df_file.index.names = ['id']"
   ]
  },
  {
   "cell_type": "code",
   "execution_count": 113,
   "metadata": {
    "collapsed": true
   },
   "outputs": [],
   "source": [
    "i=0\n",
    "while i <100:\n",
    "    if df_file['y'][i]==0:\n",
    "        df_file.loc[i,'y'] = 'neg'\n",
    "    else: df_file.loc[i,'y'] = 'pos'\n",
    "    i=i+1"
   ]
  },
  {
   "cell_type": "code",
   "execution_count": 114,
   "metadata": {
    "collapsed": true
   },
   "outputs": [],
   "source": [
    "#пишем в файл\n",
    "df_file.to_csv('66.csv')"
   ]
  },
  {
   "cell_type": "code",
   "execution_count": null,
   "metadata": {
    "collapsed": true
   },
   "outputs": [],
   "source": []
  }
 ],
 "metadata": {
  "kernelspec": {
   "display_name": "Python 3",
   "language": "python",
   "name": "python3"
  },
  "language_info": {
   "codemirror_mode": {
    "name": "ipython",
    "version": 3
   },
   "file_extension": ".py",
   "mimetype": "text/x-python",
   "name": "python",
   "nbconvert_exporter": "python",
   "pygments_lexer": "ipython3",
   "version": "3.6.3"
  }
 },
 "nbformat": 4,
 "nbformat_minor": 2
}
