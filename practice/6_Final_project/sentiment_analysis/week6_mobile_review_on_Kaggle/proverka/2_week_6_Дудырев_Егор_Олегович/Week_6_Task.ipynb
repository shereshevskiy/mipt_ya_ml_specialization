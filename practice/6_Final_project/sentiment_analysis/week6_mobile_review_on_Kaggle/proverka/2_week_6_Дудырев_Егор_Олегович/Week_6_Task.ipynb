{
 "cells": [
  {
   "cell_type": "code",
   "execution_count": 1,
   "metadata": {
    "collapsed": true
   },
   "outputs": [],
   "source": [
    "import pandas as pd\n",
    "import numpy as np"
   ]
  },
  {
   "cell_type": "markdown",
   "metadata": {},
   "source": [
    "# Загрузка данных"
   ]
  },
  {
   "cell_type": "markdown",
   "metadata": {},
   "source": [
    "## Тестовые данные"
   ]
  },
  {
   "cell_type": "markdown",
   "metadata": {},
   "source": [
    "Тестовые данные для kaggle были предварительно обработаны и помещены в формат pandas.DataFrame. В прошлом соревновании точность предсказаний модели на кросс валидации отличалась от итогового результата kaggle, поэтому, чтобы не работать вслепую, я их разметил (столбец \"y_ideal\"). Впрочем, как показала работа, похоже даже я сам не могу точно определить какой отзыв положительный, а какой - отрицательный)"
   ]
  },
  {
   "cell_type": "code",
   "execution_count": 2,
   "metadata": {},
   "outputs": [
    {
     "data": {
      "text/html": [
       "<div>\n",
       "<style>\n",
       "    .dataframe thead tr:only-child th {\n",
       "        text-align: right;\n",
       "    }\n",
       "\n",
       "    .dataframe thead th {\n",
       "        text-align: left;\n",
       "    }\n",
       "\n",
       "    .dataframe tbody tr th {\n",
       "        vertical-align: top;\n",
       "    }\n",
       "</style>\n",
       "<table border=\"1\" class=\"dataframe\">\n",
       "  <thead>\n",
       "    <tr style=\"text-align: right;\">\n",
       "      <th></th>\n",
       "      <th>text</th>\n",
       "      <th>y_ideal</th>\n",
       "    </tr>\n",
       "  </thead>\n",
       "  <tbody>\n",
       "    <tr>\n",
       "      <th>0</th>\n",
       "      <td>Ужасно слабый аккумулятор, это основной минус ...</td>\n",
       "      <td>0</td>\n",
       "    </tr>\n",
       "    <tr>\n",
       "      <th>1</th>\n",
       "      <td>ценанадежность-неубиваемостьдолго держит батар...</td>\n",
       "      <td>1</td>\n",
       "    </tr>\n",
       "    <tr>\n",
       "      <th>2</th>\n",
       "      <td>подробнее в комментариях\\nК сожалению, факт по...</td>\n",
       "      <td>0</td>\n",
       "    </tr>\n",
       "    <tr>\n",
       "      <th>3</th>\n",
       "      <td>я любительница громкой музыки. Тише телефона у...</td>\n",
       "      <td>0</td>\n",
       "    </tr>\n",
       "    <tr>\n",
       "      <th>4</th>\n",
       "      <td>Дата выпуска - 2011 г, емкость - 1430 mAh, тех...</td>\n",
       "      <td>1</td>\n",
       "    </tr>\n",
       "  </tbody>\n",
       "</table>\n",
       "</div>"
      ],
      "text/plain": [
       "                                                text  y_ideal\n",
       "0  Ужасно слабый аккумулятор, это основной минус ...        0\n",
       "1  ценанадежность-неубиваемостьдолго держит батар...        1\n",
       "2  подробнее в комментариях\\nК сожалению, факт по...        0\n",
       "3  я любительница громкой музыки. Тише телефона у...        0\n",
       "4  Дата выпуска - 2011 г, емкость - 1430 mAh, тех...        1"
      ]
     },
     "execution_count": 2,
     "metadata": {},
     "output_type": "execute_result"
    }
   ],
   "source": [
    "ktest_ds = pd.read_csv('test_ds.csv', encoding='UTF-8', index_col=0)\n",
    "ktest_ds.head()"
   ]
  },
  {
   "cell_type": "markdown",
   "metadata": {},
   "source": [
    "## Парсинг сайтов"
   ]
  },
  {
   "cell_type": "code",
   "execution_count": 3,
   "metadata": {
    "collapsed": true
   },
   "outputs": [],
   "source": [
    "import requests\n",
    "import bs4\n",
    "import csv\n",
    "import os"
   ]
  },
  {
   "cell_type": "markdown",
   "metadata": {},
   "source": [
    "В тестовом датасете упоминались сотовые телефоны с qwerty клавиатурой. Поиск выдал мне страничку на torg.mail.ru. К тому же, этот сайт совсем не сопротивляется парсингу."
   ]
  },
  {
   "cell_type": "code",
   "execution_count": 4,
   "metadata": {
    "collapsed": true
   },
   "outputs": [],
   "source": [
    "def parse_torgmailru(url, num=None):\n",
    "    # Очищаем файл для логирования\n",
    "    writer = csv.writer(open('torgmailru_parsed.csv','w'))\n",
    "    \n",
    "    ind = 0\n",
    "    while True:\n",
    "        ind += 1\n",
    "        print 'at', ind\n",
    "        \n",
    "        if ind == num:\n",
    "            print 'Stopping at {}'.format(ind)\n",
    "            break\n",
    "        \n",
    "        cur_url = '{}/?page={}'.format(url, ind)\n",
    "        req = requests.get(cur_url)\n",
    "        if req.status_code != 200:\n",
    "            raise Exception('Cant get url {} Status code {}'.format(cur_url, req.status_code))\n",
    "            \n",
    "        parser = bs4.BeautifulSoup(req.text, 'lxml')\n",
    "        items = parser.find_all('div', attrs={'class':'review-item__body'})\n",
    "        \n",
    "        if items==[]:\n",
    "            break\n",
    "        \n",
    "        for item in items:\n",
    "            text = ''\n",
    "            paragraphs = item.find_all('p',attrs={'class':'review-item__paragraph'})\n",
    "            \n",
    "            for p in paragraphs:\n",
    "                if p.find('a', attrs={'class':'more'}):\n",
    "                    text += p.find('a', attrs={'class':'more'}).attrs['full-text']\n",
    "                else:\n",
    "                    text += p.find('span',attrs={'class':'js-more-text'}).text\n",
    "            text = text.encode('UTF-8')    \n",
    "                \n",
    "            rat = item.find('span', attrs={'class':'review-item__rating-counter'}).text.replace(',','.')\n",
    "            writer.writerow([text,rat])\n",
    "        del writer    "
   ]
  },
  {
   "cell_type": "code",
   "execution_count": 5,
   "metadata": {
    "collapsed": true
   },
   "outputs": [],
   "source": [
    "#parse_torgmailru('https://torg.mail.ru/review/goods/844/')"
   ]
  },
  {
   "cell_type": "code",
   "execution_count": 6,
   "metadata": {},
   "outputs": [
    {
     "data": {
      "text/html": [
       "<div>\n",
       "<style>\n",
       "    .dataframe thead tr:only-child th {\n",
       "        text-align: right;\n",
       "    }\n",
       "\n",
       "    .dataframe thead th {\n",
       "        text-align: left;\n",
       "    }\n",
       "\n",
       "    .dataframe tbody tr th {\n",
       "        vertical-align: top;\n",
       "    }\n",
       "</style>\n",
       "<table border=\"1\" class=\"dataframe\">\n",
       "  <thead>\n",
       "    <tr style=\"text-align: right;\">\n",
       "      <th></th>\n",
       "      <th>text</th>\n",
       "      <th>rating</th>\n",
       "    </tr>\n",
       "  </thead>\n",
       "  <tbody>\n",
       "    <tr>\n",
       "      <th>0</th>\n",
       "      <td>Это был первый мой смарт. Его я выбирал тщател...</td>\n",
       "      <td>5.0</td>\n",
       "    </tr>\n",
       "    <tr>\n",
       "      <th>1</th>\n",
       "      <td>Всегда был предан самсунгу, отдал за него 19 0...</td>\n",
       "      <td>3.0</td>\n",
       "    </tr>\n",
       "    <tr>\n",
       "      <th>2</th>\n",
       "      <td>сенсор здох через 5 лет после покупки . если п...</td>\n",
       "      <td>4.5</td>\n",
       "    </tr>\n",
       "    <tr>\n",
       "      <th>3</th>\n",
       "      <td>Телефон отличный! Мощная батарея! По началу за...</td>\n",
       "      <td>5.0</td>\n",
       "    </tr>\n",
       "    <tr>\n",
       "      <th>4</th>\n",
       "      <td>Китай есть Китай.  Разъём для зарядки заменили...</td>\n",
       "      <td>2.0</td>\n",
       "    </tr>\n",
       "  </tbody>\n",
       "</table>\n",
       "</div>"
      ],
      "text/plain": [
       "                                                text  rating\n",
       "0  Это был первый мой смарт. Его я выбирал тщател...     5.0\n",
       "1  Всегда был предан самсунгу, отдал за него 19 0...     3.0\n",
       "2  сенсор здох через 5 лет после покупки . если п...     4.5\n",
       "3  Телефон отличный! Мощная батарея! По началу за...     5.0\n",
       "4  Китай есть Китай.  Разъём для зарядки заменили...     2.0"
      ]
     },
     "execution_count": 6,
     "metadata": {},
     "output_type": "execute_result"
    }
   ],
   "source": [
    "torgmail_ds = pd.read_csv('torgmailru_parsed.csv', header=None, names=['text','rating'])\n",
    "torgmail_ds = torgmail_ds.drop_duplicates()\n",
    "torgmail_ds.head()"
   ]
  },
  {
   "cell_type": "code",
   "execution_count": 7,
   "metadata": {},
   "outputs": [
    {
     "data": {
      "text/plain": [
       "((14009, 2), (1692, 2))"
      ]
     },
     "execution_count": 7,
     "metadata": {},
     "output_type": "execute_result"
    }
   ],
   "source": [
    "torgmail_ds[torgmail_ds['rating']>=4.0].shape, torgmail_ds[torgmail_ds['rating']<3.0].shape"
   ]
  },
  {
   "cell_type": "markdown",
   "metadata": {},
   "source": [
    "Положительных отзывов намного больше, чем отрицательных. Попробуем распарсить ещё сайты."
   ]
  },
  {
   "cell_type": "code",
   "execution_count": 8,
   "metadata": {
    "collapsed": true
   },
   "outputs": [],
   "source": [
    "def parse_nanegative():\n",
    "    # Очищаем файл для логирования\n",
    "    writer = csv.writer(open('nanegative_parsed.csv','w'))\n",
    "    \n",
    "    for page in tqdm_notebook(range(1,34+1)):\n",
    "        url = 'https://nanegative.ru/search?q=телефон&page={}'.format(page)\n",
    "        req = requests.get(url)\n",
    "    \n",
    "        if req.status_code != 200:\n",
    "            raise Exception('Cant get url {} Status code {}'.format(url, req.status_code))\n",
    "    \n",
    "        parser = bs4.BeautifulSoup(req.text, 'lxml')\n",
    "        \n",
    "        list_boxes = parser.find_all('div',attrs={'class':'find-list-box'})\n",
    "        for lb in list_boxes:\n",
    "            url1 = 'https://nanegative.ru'+lb.a.attrs['href']\n",
    "            req1 = requests.get(url1)\n",
    "            if req1.status_code != 200:\n",
    "                raise Exception('Cant get url {} Status code {}'.format(url1, req1.status_code))\n",
    "            \n",
    "            parser = bs4.BeautifulSoup(req1.text, 'lxml')\n",
    "            \n",
    "            rev_boxes = parser.find_all('div',attrs={'class':'reviewers-box'})\n",
    "            for rb in rev_boxes:\n",
    "                pro = rb.find('td',attrs={'itemprop':'pro'}).text\n",
    "                contra = rb.find('td',attrs={'itemprop':'contra'}).text\n",
    "                rev = rb.find('td',attrs={'itemprop':'reviewBody'}).text\n",
    "                review = \" \".join([pro, contra, rev])\n",
    "                review = review.encode('UTF-8')    \n",
    "                rating = float(rb.find('span',attrs={'itemprop':'ratingValue'}).text)\n",
    "                \n",
    "                \n",
    "                writer.writerow([review,rating])\n",
    "    del writer    "
   ]
  },
  {
   "cell_type": "code",
   "execution_count": 9,
   "metadata": {
    "collapsed": true
   },
   "outputs": [],
   "source": [
    "#parse_nanegative()"
   ]
  },
  {
   "cell_type": "code",
   "execution_count": 10,
   "metadata": {},
   "outputs": [
    {
     "data": {
      "text/html": [
       "<div>\n",
       "<style>\n",
       "    .dataframe thead tr:only-child th {\n",
       "        text-align: right;\n",
       "    }\n",
       "\n",
       "    .dataframe thead th {\n",
       "        text-align: left;\n",
       "    }\n",
       "\n",
       "    .dataframe tbody tr th {\n",
       "        vertical-align: top;\n",
       "    }\n",
       "</style>\n",
       "<table border=\"1\" class=\"dataframe\">\n",
       "  <thead>\n",
       "    <tr style=\"text-align: right;\">\n",
       "      <th></th>\n",
       "      <th>text</th>\n",
       "      <th>rating</th>\n",
       "    </tr>\n",
       "  </thead>\n",
       "  <tbody>\n",
       "    <tr>\n",
       "      <th>0</th>\n",
       "      <td>как звонилка в норме ..фото для себя норма не ...</td>\n",
       "      <td>3.0</td>\n",
       "    </tr>\n",
       "    <tr>\n",
       "      <th>1</th>\n",
       "      <td>Приятная на ощупь крышка, прочный Батарея, нет...</td>\n",
       "      <td>3.0</td>\n",
       "    </tr>\n",
       "    <tr>\n",
       "      <th>2</th>\n",
       "      <td>Проходила с ним уже почти полтора года. Понача...</td>\n",
       "      <td>3.0</td>\n",
       "    </tr>\n",
       "    <tr>\n",
       "      <th>3</th>\n",
       "      <td>ни чего 1 тачскрин плохо работает через пол го...</td>\n",
       "      <td>1.0</td>\n",
       "    </tr>\n",
       "    <tr>\n",
       "      <th>4</th>\n",
       "      <td>Дешевый, красивый, легкий. Телефон полностью н...</td>\n",
       "      <td>2.0</td>\n",
       "    </tr>\n",
       "  </tbody>\n",
       "</table>\n",
       "</div>"
      ],
      "text/plain": [
       "                                                text  rating\n",
       "0  как звонилка в норме ..фото для себя норма не ...     3.0\n",
       "1  Приятная на ощупь крышка, прочный Батарея, нет...     3.0\n",
       "2  Проходила с ним уже почти полтора года. Понача...     3.0\n",
       "3  ни чего 1 тачскрин плохо работает через пол го...     1.0\n",
       "4  Дешевый, красивый, легкий. Телефон полностью н...     2.0"
      ]
     },
     "execution_count": 10,
     "metadata": {},
     "output_type": "execute_result"
    }
   ],
   "source": [
    "naneg_ds = pd.read_csv('nanegative_parsed.csv',header=None,names=['text','rating'])\n",
    "naneg_ds = naneg_ds.drop_duplicates()\n",
    "naneg_ds.head()"
   ]
  },
  {
   "cell_type": "code",
   "execution_count": 11,
   "metadata": {
    "collapsed": true
   },
   "outputs": [],
   "source": [
    "from sklearn.utils import shuffle"
   ]
  },
  {
   "cell_type": "code",
   "execution_count": 12,
   "metadata": {},
   "outputs": [
    {
     "data": {
      "text/plain": [
       "(20358, 2)"
      ]
     },
     "execution_count": 12,
     "metadata": {},
     "output_type": "execute_result"
    }
   ],
   "source": [
    "train_ds = torgmail_ds.append(naneg_ds)\n",
    "train_ds = shuffle(train_ds)\n",
    "train_ds.shape"
   ]
  },
  {
   "cell_type": "code",
   "execution_count": 13,
   "metadata": {},
   "outputs": [
    {
     "data": {
      "text/plain": [
       "((14009, 2), (3117, 2))"
      ]
     },
     "execution_count": 13,
     "metadata": {},
     "output_type": "execute_result"
    }
   ],
   "source": [
    "train_ds[train_ds['rating']>=4.0].shape, train_ds[train_ds['rating']<3.0].shape"
   ]
  },
  {
   "cell_type": "markdown",
   "metadata": {},
   "source": [
    "Ситуация не сильно улучшилась, хотя отрицательных отзывов стало больше."
   ]
  },
  {
   "cell_type": "markdown",
   "metadata": {},
   "source": [
    "Так у меня не получилось совершенно точно классифицировать отзывы из предложенной тестовой выборки, создадим ещё одну тестовую выборку с известными оценками тональности на которой будем оценивать качество."
   ]
  },
  {
   "cell_type": "code",
   "execution_count": 14,
   "metadata": {},
   "outputs": [
    {
     "name": "stdout",
     "output_type": "stream",
     "text": [
      "(100, 2)\n"
     ]
    },
    {
     "data": {
      "text/html": [
       "<div>\n",
       "<style>\n",
       "    .dataframe thead tr:only-child th {\n",
       "        text-align: right;\n",
       "    }\n",
       "\n",
       "    .dataframe thead th {\n",
       "        text-align: left;\n",
       "    }\n",
       "\n",
       "    .dataframe tbody tr th {\n",
       "        vertical-align: top;\n",
       "    }\n",
       "</style>\n",
       "<table border=\"1\" class=\"dataframe\">\n",
       "  <thead>\n",
       "    <tr style=\"text-align: right;\">\n",
       "      <th></th>\n",
       "      <th>text</th>\n",
       "      <th>rating</th>\n",
       "    </tr>\n",
       "  </thead>\n",
       "  <tbody>\n",
       "    <tr>\n",
       "      <th>0</th>\n",
       "      <td>За 3 месяца использования нареканий нет. \\t\\t\\...</td>\n",
       "      <td>1</td>\n",
       "    </tr>\n",
       "    <tr>\n",
       "      <th>1</th>\n",
       "      <td>классный телефон!с радостью пользуюсь. недорог...</td>\n",
       "      <td>0</td>\n",
       "    </tr>\n",
       "    <tr>\n",
       "      <th>2</th>\n",
       "      <td>Вся техника у нас служит долго, вот и старый т...</td>\n",
       "      <td>1</td>\n",
       "    </tr>\n",
       "    <tr>\n",
       "      <th>3</th>\n",
       "      <td>Nokia Lumia 635 - один из самых лучших телефон...</td>\n",
       "      <td>0</td>\n",
       "    </tr>\n",
       "    <tr>\n",
       "      <th>4</th>\n",
       "      <td>Стильный дизайн, удобный, хорошая вспышка, гро...</td>\n",
       "      <td>0</td>\n",
       "    </tr>\n",
       "  </tbody>\n",
       "</table>\n",
       "</div>"
      ],
      "text/plain": [
       "                                                text  rating\n",
       "0  За 3 месяца использования нареканий нет. \\t\\t\\...       1\n",
       "1  классный телефон!с радостью пользуюсь. недорог...       0\n",
       "2  Вся техника у нас служит долго, вот и старый т...       1\n",
       "3  Nokia Lumia 635 - один из самых лучших телефон...       0\n",
       "4  Стильный дизайн, удобный, хорошая вспышка, гро...       0"
      ]
     },
     "execution_count": 14,
     "metadata": {},
     "output_type": "execute_result"
    }
   ],
   "source": [
    "test_ds = train_ds[train_ds['rating']>=5.0][:50]\n",
    "test_ds = test_ds.append(train_ds[train_ds['rating']<2.0][:50])\n",
    "train_ds = train_ds.drop(labels=test_ds.index)\n",
    "test_ds = shuffle(test_ds)\n",
    "test_ds.index = range(test_ds.shape[0])\n",
    "test_ds['rating'] = [1 if r>=5.0 else 0 for r in test_ds['rating']]\n",
    "print test_ds.shape\n",
    "test_ds.head()"
   ]
  },
  {
   "cell_type": "code",
   "execution_count": 15,
   "metadata": {},
   "outputs": [
    {
     "data": {
      "text/plain": [
       "((20229, 2), (100, 2))"
      ]
     },
     "execution_count": 15,
     "metadata": {},
     "output_type": "execute_result"
    }
   ],
   "source": [
    "train_ds.shape, test_ds.shape"
   ]
  },
  {
   "cell_type": "markdown",
   "metadata": {},
   "source": [
    "# Подготовка данных"
   ]
  },
  {
   "cell_type": "code",
   "execution_count": 16,
   "metadata": {
    "collapsed": true
   },
   "outputs": [],
   "source": [
    "def cleanse_ds(ds, x_key=None, no_numbers=False):\n",
    "    if not x_key:\n",
    "        x_key = ds.keys()[0]\n",
    "    \n",
    "    for idx, row in ds.iterrows():\n",
    "        text = row['text']\n",
    "        if type(text) is str:\n",
    "            text = text.decode('UTF-8')\n",
    "        text = text.lower()\n",
    "        text = text.replace(u'не ', u'не')\n",
    "        text = text.replace(u'\\t',u' ')\n",
    "        text = text.replace(u'\\n',u' ')\n",
    "        text = text.replace(u'<br>',u' ')\n",
    "        text = text.replace(u'\\r',u' ')\n",
    "        if no_numbers:\n",
    "            text = \"\".join([c for c in text if not c.isnumeric()])\n",
    "        ds.at[idx, 'text'] = text\n",
    "    return ds"
   ]
  },
  {
   "cell_type": "code",
   "execution_count": 17,
   "metadata": {
    "collapsed": true
   },
   "outputs": [],
   "source": [
    "def mapping(rating, up=4.0, bottom = 3.0):\n",
    "    if rating >= up: return 1\n",
    "    if rating <  bottom: return 0\n",
    "    return np.nan\n",
    "\n",
    "def map_ds(ds, y_key=None, up=4.0, bottom = 3.0):\n",
    "    if not y_key:\n",
    "        y_key = ds.keys()[1]\n",
    "        \n",
    "    ds[y_key] = map(lambda x: mapping(x, up=up, bottom=bottom),ds[y_key])\n",
    "    ds = ds.dropna()\n",
    "    ds[y_key] = map(int, ds[y_key])\n",
    "    ds.index = range(ds.shape[0])\n",
    "    return ds"
   ]
  },
  {
   "cell_type": "markdown",
   "metadata": {},
   "source": [
    "Неочевидно, где находится порог между положительными отзывами и отрицательными. Создадим два датасета: в одном учитываются только отзывы с оценками 1 и 5, во втором - с оценками меньше 3 и больше 4."
   ]
  },
  {
   "cell_type": "code",
   "execution_count": 18,
   "metadata": {},
   "outputs": [
    {
     "name": "stdout",
     "output_type": "stream",
     "text": [
      "(9344, 2)\n"
     ]
    },
    {
     "name": "stderr",
     "output_type": "stream",
     "text": [
      "/home/egor/anaconda2/lib/python2.7/site-packages/ipykernel_launcher.py:12: SettingWithCopyWarning: \n",
      "A value is trying to be set on a copy of a slice from a DataFrame.\n",
      "Try using .loc[row_indexer,col_indexer] = value instead\n",
      "\n",
      "See the caveats in the documentation: http://pandas.pydata.org/pandas-docs/stable/indexing.html#indexing-view-versus-copy\n",
      "  if sys.path[0] == '':\n"
     ]
    }
   ],
   "source": [
    "cleansed_ds25 = cleanse_ds(train_ds.copy())\n",
    "cleansed_ds25 = map_ds(cleansed_ds25, up=5.0, bottom=2.0)\n",
    "cleansed_ds25 = cleansed_ds25.drop_duplicates()\n",
    "print cleansed_ds25.shape"
   ]
  },
  {
   "cell_type": "code",
   "execution_count": 19,
   "metadata": {},
   "outputs": [
    {
     "name": "stdout",
     "output_type": "stream",
     "text": [
      "(16812, 2)\n"
     ]
    },
    {
     "name": "stderr",
     "output_type": "stream",
     "text": [
      "/home/egor/anaconda2/lib/python2.7/site-packages/ipykernel_launcher.py:12: SettingWithCopyWarning: \n",
      "A value is trying to be set on a copy of a slice from a DataFrame.\n",
      "Try using .loc[row_indexer,col_indexer] = value instead\n",
      "\n",
      "See the caveats in the documentation: http://pandas.pydata.org/pandas-docs/stable/indexing.html#indexing-view-versus-copy\n",
      "  if sys.path[0] == '':\n"
     ]
    }
   ],
   "source": [
    "cleansed_ds34 = cleanse_ds(train_ds.copy())\n",
    "cleansed_ds34 = map_ds(cleansed_ds34, up=4.0, bottom=3.0)\n",
    "cleansed_ds34 = cleansed_ds34.drop_duplicates()\n",
    "print cleansed_ds34.shape"
   ]
  },
  {
   "cell_type": "markdown",
   "metadata": {},
   "source": [
    "Тестовые выборки тоже необходимо преобразовать."
   ]
  },
  {
   "cell_type": "code",
   "execution_count": 20,
   "metadata": {},
   "outputs": [
    {
     "data": {
      "text/html": [
       "<div>\n",
       "<style>\n",
       "    .dataframe thead tr:only-child th {\n",
       "        text-align: right;\n",
       "    }\n",
       "\n",
       "    .dataframe thead th {\n",
       "        text-align: left;\n",
       "    }\n",
       "\n",
       "    .dataframe tbody tr th {\n",
       "        vertical-align: top;\n",
       "    }\n",
       "</style>\n",
       "<table border=\"1\" class=\"dataframe\">\n",
       "  <thead>\n",
       "    <tr style=\"text-align: right;\">\n",
       "      <th></th>\n",
       "      <th>text</th>\n",
       "      <th>rating</th>\n",
       "    </tr>\n",
       "  </thead>\n",
       "  <tbody>\n",
       "    <tr>\n",
       "      <th>0</th>\n",
       "      <td>за 3 месяца использования нареканий нет.      ...</td>\n",
       "      <td>1</td>\n",
       "    </tr>\n",
       "    <tr>\n",
       "      <th>1</th>\n",
       "      <td>классный телефон!с радостью пользуюсь. недорог...</td>\n",
       "      <td>0</td>\n",
       "    </tr>\n",
       "    <tr>\n",
       "      <th>2</th>\n",
       "      <td>вся техника у нас служит долго, вот и старый т...</td>\n",
       "      <td>1</td>\n",
       "    </tr>\n",
       "    <tr>\n",
       "      <th>3</th>\n",
       "      <td>nokia lumia 635 - один из самых лучших телефон...</td>\n",
       "      <td>0</td>\n",
       "    </tr>\n",
       "    <tr>\n",
       "      <th>4</th>\n",
       "      <td>стильный дизайн, удобный, хорошая вспышка, гро...</td>\n",
       "      <td>0</td>\n",
       "    </tr>\n",
       "  </tbody>\n",
       "</table>\n",
       "</div>"
      ],
      "text/plain": [
       "                                                text  rating\n",
       "0  за 3 месяца использования нареканий нет.      ...       1\n",
       "1  классный телефон!с радостью пользуюсь. недорог...       0\n",
       "2  вся техника у нас служит долго, вот и старый т...       1\n",
       "3  nokia lumia 635 - один из самых лучших телефон...       0\n",
       "4  стильный дизайн, удобный, хорошая вспышка, гро...       0"
      ]
     },
     "execution_count": 20,
     "metadata": {},
     "output_type": "execute_result"
    }
   ],
   "source": [
    "cleansed_test = cleanse_ds(test_ds.copy())\n",
    "cleansed_test.head()"
   ]
  },
  {
   "cell_type": "code",
   "execution_count": 21,
   "metadata": {},
   "outputs": [
    {
     "data": {
      "text/html": [
       "<div>\n",
       "<style>\n",
       "    .dataframe thead tr:only-child th {\n",
       "        text-align: right;\n",
       "    }\n",
       "\n",
       "    .dataframe thead th {\n",
       "        text-align: left;\n",
       "    }\n",
       "\n",
       "    .dataframe tbody tr th {\n",
       "        vertical-align: top;\n",
       "    }\n",
       "</style>\n",
       "<table border=\"1\" class=\"dataframe\">\n",
       "  <thead>\n",
       "    <tr style=\"text-align: right;\">\n",
       "      <th></th>\n",
       "      <th>text</th>\n",
       "      <th>y_ideal</th>\n",
       "    </tr>\n",
       "  </thead>\n",
       "  <tbody>\n",
       "    <tr>\n",
       "      <th>0</th>\n",
       "      <td>ужасно слабый аккумулятор, это основной минус ...</td>\n",
       "      <td>0</td>\n",
       "    </tr>\n",
       "    <tr>\n",
       "      <th>1</th>\n",
       "      <td>ценанадежность-неубиваемостьдолго держит батар...</td>\n",
       "      <td>1</td>\n",
       "    </tr>\n",
       "    <tr>\n",
       "      <th>2</th>\n",
       "      <td>подробнее в комментариях к сожалению, факт пол...</td>\n",
       "      <td>0</td>\n",
       "    </tr>\n",
       "    <tr>\n",
       "      <th>3</th>\n",
       "      <td>я любительница громкой музыки. тише телефона у...</td>\n",
       "      <td>0</td>\n",
       "    </tr>\n",
       "    <tr>\n",
       "      <th>4</th>\n",
       "      <td>дата выпуска - 2011 г, емкость - 1430 mah, тех...</td>\n",
       "      <td>1</td>\n",
       "    </tr>\n",
       "  </tbody>\n",
       "</table>\n",
       "</div>"
      ],
      "text/plain": [
       "                                                text  y_ideal\n",
       "0  ужасно слабый аккумулятор, это основной минус ...        0\n",
       "1  ценанадежность-неубиваемостьдолго держит батар...        1\n",
       "2  подробнее в комментариях к сожалению, факт пол...        0\n",
       "3  я любительница громкой музыки. тише телефона у...        0\n",
       "4  дата выпуска - 2011 г, емкость - 1430 mah, тех...        1"
      ]
     },
     "execution_count": 21,
     "metadata": {},
     "output_type": "execute_result"
    }
   ],
   "source": [
    "cleansed_ktest = cleanse_ds(ktest_ds.copy())\n",
    "cleansed_ktest.head()"
   ]
  },
  {
   "cell_type": "markdown",
   "metadata": {},
   "source": [
    "Так как выборки несбалансированы, уменьшим количество положительных отзывов. "
   ]
  },
  {
   "cell_type": "code",
   "execution_count": 22,
   "metadata": {
    "collapsed": true
   },
   "outputs": [],
   "source": [
    "def downgrade_ds(ds):\n",
    "    y_key = ds.keys()[1]\n",
    "    downgraded = ds[ds[y_key]==1][:ds.shape[0]-sum(ds[y_key])] # Selecting 1's\n",
    "    downgraded = downgraded.append(ds[ds[y_key]==0]) # Selecting 0's\n",
    "    downgraded = shuffle(downgraded)\n",
    "    return downgraded"
   ]
  },
  {
   "cell_type": "code",
   "execution_count": 23,
   "metadata": {},
   "outputs": [
    {
     "name": "stdout",
     "output_type": "stream",
     "text": [
      "(9344, 2) (3144, 2)\n"
     ]
    }
   ],
   "source": [
    "downgraded_ds25 = downgrade_ds(cleansed_ds25)\n",
    "print cleansed_ds25.shape, downgraded_ds25.shape"
   ]
  },
  {
   "cell_type": "code",
   "execution_count": 24,
   "metadata": {},
   "outputs": [
    {
     "name": "stdout",
     "output_type": "stream",
     "text": [
      "(16812, 2) (5744, 2)\n"
     ]
    }
   ],
   "source": [
    "downgraded_ds34 = downgrade_ds(cleansed_ds34)\n",
    "print cleansed_ds34.shape, downgraded_ds34.shape"
   ]
  },
  {
   "cell_type": "markdown",
   "metadata": {},
   "source": [
    "# Построение модели"
   ]
  },
  {
   "cell_type": "code",
   "execution_count": 25,
   "metadata": {},
   "outputs": [
    {
     "name": "stderr",
     "output_type": "stream",
     "text": [
      "/home/egor/anaconda2/lib/python2.7/site-packages/sklearn/cross_validation.py:41: DeprecationWarning: This module was deprecated in version 0.18 in favor of the model_selection module into which all the refactored classes and functions are moved. Also note that the interface of the new CV iterators are different from that of this module. This module will be removed in 0.20.\n",
      "  \"This module will be removed in 0.20.\", DeprecationWarning)\n"
     ]
    }
   ],
   "source": [
    "from sklearn.model_selection import train_test_split\n",
    "from sklearn.metrics import accuracy_score\n",
    "from sklearn.cross_validation import cross_val_score\n",
    "from sklearn.linear_model import SGDClassifier, LogisticRegression\n",
    "from sklearn.svm import LinearSVC\n",
    "from sklearn.feature_extraction.text import TfidfVectorizer\n",
    "from sklearn.pipeline import Pipeline, make_pipeline\n",
    "from nltk.corpus import stopwords"
   ]
  },
  {
   "cell_type": "markdown",
   "metadata": {},
   "source": [
    "Напишем функции для удобной проверки пайплайнов и для записи результатов в файл."
   ]
  },
  {
   "cell_type": "code",
   "execution_count": 26,
   "metadata": {
    "collapsed": true
   },
   "outputs": [],
   "source": [
    "def check_pipe(pipe, ds, cv=3):\n",
    "    X,y = ds['text'], ds['rating']\n",
    "    cvs = cross_val_score(pipe, X, y, cv=cv)\n",
    "    print 'cross val:', cvs, cvs.mean()\n",
    "    pipe.fit(X,y)\n",
    "    print 'acc test :',accuracy_score(cleansed_test['rating'], pipe.predict(cleansed_test['text']))\n",
    "    print 'acc ktest:',accuracy_score(cleansed_ktest['y_ideal'], pipe.predict(cleansed_ktest['text']))"
   ]
  },
  {
   "cell_type": "code",
   "execution_count": 27,
   "metadata": {
    "collapsed": true
   },
   "outputs": [],
   "source": [
    "def predict_test(pipe, ds, cv=3, fname='result1.csv'):\n",
    "    X,y = ds['text'], ds['rating']\n",
    "    cvs = cross_val_score(pipe, X, y, cv=cv)\n",
    "    print 'cross val:', cvs, cvs.mean()\n",
    "    pipe.fit(X,y)\n",
    "    cleansed_ktest['y1'] = pipe.predict(cleansed_ktest['text'])\n",
    "    print 'acc test :',accuracy_score(cleansed_test['rating'], pipe.predict(cleansed_test['text']))\n",
    "    print 'acc ktest:',accuracy_score(cleansed_ktest['y_ideal'], cleansed_ktest['y1'])\n",
    "    cleansed_ktest['y'] = ['pos' if x==1 else 'neg' for x in cleansed_ktest['y1']]\n",
    "    cleansed_ktest['y'].to_csv(fname,header=True,index_label='Id')"
   ]
  },
  {
   "cell_type": "markdown",
   "metadata": {},
   "source": [
    "В прошлом соревновании лучше всего себя показали пайплайны с классификатором LinearSVC и TfIdf векторизатором с символьными n-граммами. При этом, n-граммы включали в себя комбинации из как можно большего количества символов.\n",
    "\n",
    "Каждый пайплайн проверим на обоих датасетах."
   ]
  },
  {
   "cell_type": "code",
   "execution_count": 28,
   "metadata": {},
   "outputs": [
    {
     "name": "stdout",
     "output_type": "stream",
     "text": [
      "downgraded_ds25\n",
      "cross val: [ 0.72232824  0.72900763  0.73664122] 0.729325699746\n",
      "acc test : 0.85\n",
      "acc ktest: 0.92\n",
      "downgraded_ds34\n",
      "cross val: [ 0.71816284  0.71421108  0.69592476] 0.709432893473\n",
      "acc test : 0.85\n",
      "acc ktest: 0.9\n"
     ]
    }
   ],
   "source": [
    "pipe = make_pipeline(TfidfVectorizer(ngram_range=(1,4), analyzer='char'), LinearSVC())\n",
    "print 'downgraded_ds25'\n",
    "check_pipe(pipe, downgraded_ds25)\n",
    "print 'downgraded_ds34'\n",
    "check_pipe(pipe, downgraded_ds34)"
   ]
  },
  {
   "cell_type": "code",
   "execution_count": 29,
   "metadata": {},
   "outputs": [
    {
     "name": "stdout",
     "output_type": "stream",
     "text": [
      "downgraded_ds25\n",
      "cross val: [ 0.72328244  0.73187023  0.73759542] 0.730916030534\n",
      "acc test : 0.87\n",
      "acc ktest: 0.92\n",
      "downgraded_ds34\n",
      "cross val: [ 0.72181628  0.71421108  0.6922675 ] 0.709431620939\n",
      "acc test : 0.87\n",
      "acc ktest: 0.9\n"
     ]
    }
   ],
   "source": [
    "pipe = make_pipeline(TfidfVectorizer(ngram_range=(1,5), analyzer='char'), LinearSVC())\n",
    "print 'downgraded_ds25'\n",
    "check_pipe(pipe, downgraded_ds25)\n",
    "print 'downgraded_ds34'\n",
    "check_pipe(pipe, downgraded_ds34)"
   ]
  },
  {
   "cell_type": "code",
   "execution_count": 30,
   "metadata": {},
   "outputs": [
    {
     "name": "stdout",
     "output_type": "stream",
     "text": [
      "downgraded_ds25\n",
      "cross val: [ 0.72900763  0.73568702  0.74045802] 0.735050890585\n",
      "acc test : 0.86\n",
      "acc ktest: 0.92\n",
      "downgraded_ds34\n",
      "cross val: [ 0.72077244  0.71421108  0.6922675 ] 0.709083673827\n",
      "acc test : 0.88\n",
      "acc ktest: 0.91\n"
     ]
    }
   ],
   "source": [
    "pipe = make_pipeline(TfidfVectorizer(ngram_range=(1,6), analyzer='char'), LinearSVC())\n",
    "print 'downgraded_ds25'\n",
    "check_pipe(pipe, downgraded_ds25)\n",
    "print 'downgraded_ds34'\n",
    "check_pipe(pipe, downgraded_ds34)"
   ]
  },
  {
   "cell_type": "code",
   "execution_count": 31,
   "metadata": {},
   "outputs": [
    {
     "name": "stdout",
     "output_type": "stream",
     "text": [
      "downgraded_ds25\n",
      "cross val: [ 0.72232824  0.73187023  0.74236641] 0.732188295165\n",
      "acc test : 0.87\n",
      "acc ktest: 0.92\n",
      "downgraded_ds34\n",
      "cross val: [ 0.71764092  0.71421108  0.69331243] 0.708388143184\n",
      "acc test : 0.88\n",
      "acc ktest: 0.92\n"
     ]
    }
   ],
   "source": [
    "pipe = make_pipeline(TfidfVectorizer(ngram_range=(1,7), analyzer='char'), LinearSVC())\n",
    "print 'downgraded_ds25'\n",
    "check_pipe(pipe, downgraded_ds25)\n",
    "print 'downgraded_ds34'\n",
    "check_pipe(pipe, downgraded_ds34)"
   ]
  },
  {
   "cell_type": "code",
   "execution_count": 32,
   "metadata": {},
   "outputs": [
    {
     "name": "stdout",
     "output_type": "stream",
     "text": [
      "downgraded_ds25\n",
      "cross val: [ 0.71183206  0.72232824  0.7471374 ] 0.727099236641\n",
      "acc test : 0.87\n",
      "acc ktest: 0.91\n",
      "downgraded_ds34\n",
      "cross val: [ 0.71659708  0.71682341  0.69487983] 0.709433438845\n",
      "acc test : 0.89\n",
      "acc ktest: 0.94\n"
     ]
    }
   ],
   "source": [
    "pipe = make_pipeline(TfidfVectorizer(ngram_range=(1,8), analyzer='char'), LinearSVC())\n",
    "print 'downgraded_ds25'\n",
    "check_pipe(pipe, downgraded_ds25)\n",
    "print 'downgraded_ds34'\n",
    "check_pipe(pipe, downgraded_ds34)"
   ]
  },
  {
   "cell_type": "markdown",
   "metadata": {},
   "source": [
    "Почему результаты кросс валидации и тестировочных выборок различаются на 10%? Возможно, это из-за объёма выборок. Чем больше количество классифицируемых текстов, тем больше вероятность ошибиться. Хотя, казалось бы, что система везде должна давать примерно одинаковый результат."
   ]
  },
  {
   "cell_type": "code",
   "execution_count": 33,
   "metadata": {},
   "outputs": [
    {
     "data": {
      "text/plain": [
       "((3144, 2), (5744, 2), (100, 2), (100, 2))"
      ]
     },
     "execution_count": 33,
     "metadata": {},
     "output_type": "execute_result"
    }
   ],
   "source": [
    "downgraded_ds25.shape, downgraded_ds34.shape, test_ds.shape, ktest_ds.shape"
   ]
  },
  {
   "cell_type": "markdown",
   "metadata": {},
   "source": [
    "Возьмём лучшие пайплайны и отправим их на проверку."
   ]
  },
  {
   "cell_type": "code",
   "execution_count": 34,
   "metadata": {},
   "outputs": [
    {
     "name": "stdout",
     "output_type": "stream",
     "text": [
      "cross val: [ 0.71764092  0.71421108  0.69331243] 0.708388143184\n",
      "acc test : 0.88\n",
      "acc ktest: 0.92\n"
     ]
    }
   ],
   "source": [
    "pipe = make_pipeline(TfidfVectorizer(ngram_range=(1,7),analyzer='char'),LinearSVC())\n",
    "predict_test(pipe, downgraded_ds34, fname='result2.csv')"
   ]
  },
  {
   "cell_type": "code",
   "execution_count": 35,
   "metadata": {},
   "outputs": [
    {
     "name": "stdout",
     "output_type": "stream",
     "text": [
      "cross val: [ 0.71183206  0.72232824  0.7471374 ] 0.727099236641\n",
      "acc test : 0.87\n",
      "acc ktest: 0.91\n"
     ]
    }
   ],
   "source": [
    "pipe = make_pipeline(TfidfVectorizer(ngram_range=(1,8),analyzer='char'),LinearSVC())\n",
    "predict_test(pipe, downgraded_ds25, fname='result3.csv')"
   ]
  },
  {
   "cell_type": "code",
   "execution_count": 36,
   "metadata": {},
   "outputs": [
    {
     "name": "stdout",
     "output_type": "stream",
     "text": [
      "cross val: [ 0.71659708  0.71682341  0.69487983] 0.709433438845\n",
      "acc test : 0.89\n",
      "acc ktest: 0.94\n"
     ]
    }
   ],
   "source": [
    "pipe = make_pipeline(TfidfVectorizer(ngram_range=(1,8),analyzer='char'),LinearSVC())\n",
    "predict_test(pipe, downgraded_ds34, fname='result4.csv')"
   ]
  },
  {
   "cell_type": "code",
   "execution_count": 37,
   "metadata": {},
   "outputs": [
    {
     "name": "stdout",
     "output_type": "stream",
     "text": [
      "cross val: [ 0.72077244  0.71421108  0.69487983] 0.70995445056\n",
      "acc test : 0.87\n",
      "acc ktest: 0.94\n"
     ]
    }
   ],
   "source": [
    "pipe = make_pipeline(TfidfVectorizer(ngram_range=(1,9),analyzer='char'),LinearSVC())\n",
    "predict_test(pipe, downgraded_ds34, fname='result5.csv')"
   ]
  },
  {
   "cell_type": "markdown",
   "metadata": {},
   "source": [
    "\n",
    "# Результат kaggle"
   ]
  },
  {
   "attachments": {
    "image.png": {
     "image/png": "[encoded data removed]"
    }
   },
   "cell_type": "markdown",
   "metadata": {},
   "source": [
    "Результат получен при отправке файла results2.csv\n",
    "\n",
    "![image.png](attachment:image.png)"
   ]
  }
 ],
 "metadata": {
  "kernelspec": {
   "display_name": "Python 3",
   "language": "python",
   "name": "python3"
  },
  "language_info": {
   "codemirror_mode": {
    "name": "ipython",
    "version": 3
   },
   "file_extension": ".py",
   "mimetype": "text/x-python",
   "name": "python",
   "nbconvert_exporter": "python",
   "pygments_lexer": "ipython3",
   "version": "3.6.3"
  }
 },
 "nbformat": 4,
 "nbformat_minor": 2
}
