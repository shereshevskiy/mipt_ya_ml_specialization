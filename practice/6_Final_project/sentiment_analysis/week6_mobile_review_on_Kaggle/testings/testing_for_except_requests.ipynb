{
 "cells": [
  {
   "cell_type": "code",
   "execution_count": 2,
   "metadata": {
    "collapsed": true
   },
   "outputs": [],
   "source": [
    "import requests"
   ]
  },
  {
   "cell_type": "code",
   "execution_count": 6,
   "metadata": {},
   "outputs": [
    {
     "name": "stdout",
     "output_type": "stream",
     "text": [
      "ERROR: 404 Client Error: NOT FOUND for url: http://httpbin.org/status/404\n"
     ]
    }
   ],
   "source": [
    "bad_r = requests.get('http://httpbin.org/status/404')\n",
    "try:\n",
    "    bad_r.raise_for_status()\n",
    "except requests.exceptions.HTTPError as e:\n",
    "    print('ERROR: %s' % e)"
   ]
  },
  {
   "cell_type": "code",
   "execution_count": 89,
   "metadata": {},
   "outputs": [
    {
     "name": "stdout",
     "output_type": "stream",
     "text": [
      "ERROR: 443 Client Error: UNKNOWN for url: http://httpbin.org/status/443\n",
      "5\n",
      "7\n"
     ]
    },
    {
     "data": {
      "text/plain": [
       "10"
      ]
     },
     "execution_count": 89,
     "metadata": {},
     "output_type": "execute_result"
    }
   ],
   "source": [
    "def fun(url):\n",
    "    bad_r = requests.get(url)\n",
    "    try:\n",
    "        bad_r.raise_for_status()\n",
    "    except requests.exceptions.HTTPError as e:\n",
    "        print('ERROR: %s' % e)\n",
    "        print(5)\n",
    "    print(7)\n",
    "    a = 10\n",
    "    return a\n",
    "fun('http://httpbin.org/status/443')"
   ]
  },
  {
   "cell_type": "code",
   "execution_count": 111,
   "metadata": {},
   "outputs": [
    {
     "name": "stdout",
     "output_type": "stream",
     "text": [
      "ERROR: 404 Client Error: NOT FOUND for url: http://httpbin.org/status/404\n",
      "5\n",
      "7\n",
      "text: \n"
     ]
    },
    {
     "data": {
      "text/plain": [
       "10"
      ]
     },
     "execution_count": 111,
     "metadata": {},
     "output_type": "execute_result"
    }
   ],
   "source": [
    "def fun(url):\n",
    "    bad_r = requests.get(url)\n",
    "    try:\n",
    "#         bad_r.status_code == 404\n",
    "        bad_r.raise_for_status()\n",
    "    except requests.exceptions.HTTPError as e:\n",
    "        print('ERROR: %s' % e)\n",
    "        print(5)\n",
    "    print(7)\n",
    "    print('text:', bad_r.text)\n",
    "    a = 10\n",
    "    return a\n",
    "fun('http://httpbin.org/status/404')"
   ]
  },
  {
   "cell_type": "code",
   "execution_count": 116,
   "metadata": {},
   "outputs": [
    {
     "name": "stdout",
     "output_type": "stream",
     "text": [
      "ERROR: 404 Client Error: NOT FOUND for url: http://httpbin.org/status/404\n",
      "5\n"
     ]
    }
   ],
   "source": [
    "try:\n",
    "    bad_r = requests.get('http://httpbin.org/status/404')\n",
    "    bad_r.raise_for_status()\n",
    "except Exception as e:\n",
    "    print('ERROR: %s' % e)\n",
    "    \n",
    "print(5)"
   ]
  },
  {
   "cell_type": "code",
   "execution_count": 5,
   "metadata": {},
   "outputs": [
    {
     "name": "stdout",
     "output_type": "stream",
     "text": [
      "ERROR: 404 Client Error: NOT FOUND for url: http://httpbin.org/status/404\n",
      "5\n"
     ]
    }
   ],
   "source": [
    "try:\n",
    "    bad_r = requests.get('http://httpbin.org/status/404')\n",
    "    bad_r.raise_for_status()\n",
    "except Exception as e:\n",
    "    print('ERROR: %s' % e)\n",
    "    \n",
    "print(5)"
   ]
  },
  {
   "cell_type": "code",
   "execution_count": 5,
   "metadata": {},
   "outputs": [
    {
     "name": "stdout",
     "output_type": "stream",
     "text": [
      "ERROR: 404 Client Error: NOT FOUND for url: http://httpbin.org/status/404\n",
      "5\n"
     ]
    }
   ],
   "source": [
    "try:\n",
    "    bad_r = requests.get('http://httpbin.org/status/404')\n",
    "    bad_r.raise_for_status()\n",
    "except Exception as e:\n",
    "    print('ERROR: %s' % e)\n",
    "    \n",
    "print(5)"
   ]
  },
  {
   "cell_type": "code",
   "execution_count": 74,
   "metadata": {},
   "outputs": [
    {
     "name": "stdout",
     "output_type": "stream",
     "text": [
      "404\n"
     ]
    },
    {
     "ename": "Exception",
     "evalue": "Can't get url http://httpbin.org/status/404 Status code 404",
     "output_type": "error",
     "traceback": [
      "\u001b[1;31m---------------------------------------------------------------------------\u001b[0m",
      "\u001b[1;31mException\u001b[0m                                 Traceback (most recent call last)",
      "\u001b[1;32m<ipython-input-74-e2bc7cd7a08b>\u001b[0m in \u001b[0;36m<module>\u001b[1;34m()\u001b[0m\n\u001b[0;32m      5\u001b[0m \u001b[0mprint\u001b[0m\u001b[1;33m(\u001b[0m\u001b[0mbad_r\u001b[0m\u001b[1;33m.\u001b[0m\u001b[0mstatus_code\u001b[0m\u001b[1;33m)\u001b[0m\u001b[1;33m\u001b[0m\u001b[0m\n\u001b[0;32m      6\u001b[0m \u001b[1;32mif\u001b[0m \u001b[0mbad_r\u001b[0m\u001b[1;33m.\u001b[0m\u001b[0mstatus_code\u001b[0m \u001b[1;33m!=\u001b[0m \u001b[1;36m200\u001b[0m\u001b[1;33m:\u001b[0m\u001b[1;33m\u001b[0m\u001b[0m\n\u001b[1;32m----> 7\u001b[1;33m     \u001b[1;32mraise\u001b[0m \u001b[0mException\u001b[0m\u001b[1;33m(\u001b[0m\u001b[1;34m\"Can't get url {} Status code {}\"\u001b[0m\u001b[1;33m.\u001b[0m\u001b[0mformat\u001b[0m\u001b[1;33m(\u001b[0m\u001b[0mcur_url\u001b[0m\u001b[1;33m,\u001b[0m \u001b[0mbad_r\u001b[0m\u001b[1;33m.\u001b[0m\u001b[0mstatus_code\u001b[0m\u001b[1;33m)\u001b[0m\u001b[1;33m)\u001b[0m\u001b[1;33m\u001b[0m\u001b[0m\n\u001b[0m",
      "\u001b[1;31mException\u001b[0m: Can't get url http://httpbin.org/status/404 Status code 404"
     ]
    }
   ],
   "source": [
    "cur_url = 'http://httpbin.org/status/404'\n",
    "bad_r = requests.get(cur_url)\n",
    "\n",
    "# bad_r.raise_for_status()\n",
    "print(bad_r.status_code)\n",
    "if bad_r.status_code != 200:\n",
    "    raise Exception(\"Can't get url {} Status code {}\".format(cur_url, bad_r.status_code))"
   ]
  },
  {
   "cell_type": "code",
   "execution_count": 15,
   "metadata": {},
   "outputs": [
    {
     "name": "stdout",
     "output_type": "stream",
     "text": [
      "404\n",
      "ERROR: Can't get url http://httpbin.org/status/404 Status code 404\n",
      "Все хорошо\n"
     ]
    }
   ],
   "source": [
    "cur_url = 'http://httpbin.org/status/404'\n",
    "bad_r = requests.get(cur_url)\n",
    "\n",
    "# bad_r.raise_for_status()\n",
    "print(bad_r.status_code)\n",
    "try:\n",
    "    if bad_r.status_code != 200:\n",
    "        raise Exception(\"Can't get url {} Status code {}\".format(cur_url, bad_r.status_code))\n",
    "except Exception as e:\n",
    "    print('ERROR: %s' % e)\n",
    "\n",
    "print('Все хорошо')"
   ]
  },
  {
   "cell_type": "code",
   "execution_count": null,
   "metadata": {
    "collapsed": true
   },
   "outputs": [],
   "source": []
  }
 ],
 "metadata": {
  "kernelspec": {
   "display_name": "Python 3",
   "language": "python",
   "name": "python3"
  },
  "language_info": {
   "codemirror_mode": {
    "name": "ipython",
    "version": 3
   },
   "file_extension": ".py",
   "mimetype": "text/x-python",
   "name": "python",
   "nbconvert_exporter": "python",
   "pygments_lexer": "ipython3",
   "version": "3.6.3"
  }
 },
 "nbformat": 4,
 "nbformat_minor": 2
}
