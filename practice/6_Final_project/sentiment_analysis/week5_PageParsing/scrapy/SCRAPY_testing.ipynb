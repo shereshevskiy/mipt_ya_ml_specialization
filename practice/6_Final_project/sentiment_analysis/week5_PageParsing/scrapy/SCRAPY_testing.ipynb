{
 "cells": [
  {
   "cell_type": "markdown",
   "metadata": {},
   "source": [
    "# <center>WEB SCRAPING С ПОМОЩЬЮ SCRAPY"
   ]
  },
  {
   "cell_type": "markdown",
   "metadata": {},
   "source": [
    "По материалам статьи [WEB SCRAPING С ПОМОЩЬЮ SCRAPY И PYTHON 3](https://www.8host.com/blog/web-scraping-s-pomoshhyu-scrapy-i-python-3/)"
   ]
  },
  {
   "cell_type": "code",
   "execution_count": 1,
   "metadata": {
    "collapsed": true
   },
   "outputs": [],
   "source": [
    "path = 'C:\\\\Users\\dsher\\OneDrive\\Documents\\!_SkillsEvolution\\ML\\mipt_ya_ml_spec\\practice\\\\6_Final_project\\sentiment_analysis\\week5_PageParsing\\scrapy'.replace('\\\\', '/')"
   ]
  },
  {
   "cell_type": "code",
   "execution_count": 4,
   "metadata": {},
   "outputs": [
    {
     "data": {
      "text/plain": [
       "'C:/Users/dsher/OneDrive/Documents/!_SkillsEvolution/ML/mipt_ya_ml_spec/practice/6_Final_project/sentiment_analysis/week5_PageParsing'"
      ]
     },
     "execution_count": 4,
     "metadata": {},
     "output_type": "execute_result"
    }
   ],
   "source": [
    "path"
   ]
  },
  {
   "cell_type": "code",
   "execution_count": 6,
   "metadata": {},
   "outputs": [
    {
     "name": "stderr",
     "output_type": "stream",
     "text": [
      "2018-03-03 19:50:56 [scrapy.utils.log] INFO: Scrapy 1.5.0 started (bot: scrapybot)\n",
      "2018-03-03 19:50:56 [scrapy.utils.log] INFO: Versions: lxml 4.1.0.0, libxml2 2.9.5, cssselect 1.0.3, parsel 1.2.0, w3lib 1.18.0, Twisted 17.5.0, Python 3.6.3 |Anaconda custom (64-bit)| (default, Oct 15 2017, 03:27:45) [MSC v.1900 64 bit (AMD64)], pyOpenSSL 17.2.0 (OpenSSL 1.0.2n  7 Dec 2017), cryptography 2.0.3, Platform Windows-10-10.0.16299-SP0\n",
      "2018-03-03 19:50:56 [scrapy.crawler] INFO: Overridden settings: {'SPIDER_LOADER_WARN_ONLY': True}\n",
      "2018-03-03 19:50:57 [scrapy.middleware] INFO: Enabled extensions:\n",
      "['scrapy.extensions.corestats.CoreStats',\n",
      " 'scrapy.extensions.telnet.TelnetConsole',\n",
      " 'scrapy.extensions.logstats.LogStats']\n",
      "2018-03-03 19:50:57 [scrapy.middleware] INFO: Enabled downloader middlewares:\n",
      "['scrapy.downloadermiddlewares.httpauth.HttpAuthMiddleware',\n",
      " 'scrapy.downloadermiddlewares.downloadtimeout.DownloadTimeoutMiddleware',\n",
      " 'scrapy.downloadermiddlewares.defaultheaders.DefaultHeadersMiddleware',\n",
      " 'scrapy.downloadermiddlewares.useragent.UserAgentMiddleware',\n",
      " 'scrapy.downloadermiddlewares.retry.RetryMiddleware',\n",
      " 'scrapy.downloadermiddlewares.redirect.MetaRefreshMiddleware',\n",
      " 'scrapy.downloadermiddlewares.httpcompression.HttpCompressionMiddleware',\n",
      " 'scrapy.downloadermiddlewares.redirect.RedirectMiddleware',\n",
      " 'scrapy.downloadermiddlewares.cookies.CookiesMiddleware',\n",
      " 'scrapy.downloadermiddlewares.httpproxy.HttpProxyMiddleware',\n",
      " 'scrapy.downloadermiddlewares.stats.DownloaderStats']\n",
      "2018-03-03 19:50:57 [scrapy.middleware] INFO: Enabled spider middlewares:\n",
      "['scrapy.spidermiddlewares.httperror.HttpErrorMiddleware',\n",
      " 'scrapy.spidermiddlewares.offsite.OffsiteMiddleware',\n",
      " 'scrapy.spidermiddlewares.referer.RefererMiddleware',\n",
      " 'scrapy.spidermiddlewares.urllength.UrlLengthMiddleware',\n",
      " 'scrapy.spidermiddlewares.depth.DepthMiddleware']\n",
      "2018-03-03 19:50:57 [scrapy.middleware] INFO: Enabled item pipelines:\n",
      "[]\n",
      "2018-03-03 19:50:57 [scrapy.core.engine] INFO: Spider opened\n",
      "2018-03-03 19:50:57 [scrapy.extensions.logstats] INFO: Crawled 0 pages (at 0 pages/min), scraped 0 items (at 0 items/min)\n",
      "2018-03-03 19:50:57 [scrapy.extensions.telnet] DEBUG: Telnet console listening on 127.0.0.1:6023\n",
      "2018-03-03 19:50:59 [scrapy.core.engine] DEBUG: Crawled (200) <GET https://torg.mail.ru/review/goods/mobilephones/> (referer: None)\n",
      "2018-03-03 19:50:59 [scrapy.core.engine] INFO: Closing spider (finished)\n",
      "2018-03-03 19:50:59 [scrapy.statscollectors] INFO: Dumping Scrapy stats:\n",
      "{'downloader/request_bytes': 237,\n",
      " 'downloader/request_count': 1,\n",
      " 'downloader/request_method_count/GET': 1,\n",
      " 'downloader/response_bytes': 80027,\n",
      " 'downloader/response_count': 1,\n",
      " 'downloader/response_status_count/200': 1,\n",
      " 'finish_reason': 'finished',\n",
      " 'finish_time': datetime.datetime(2018, 3, 3, 16, 50, 59, 552475),\n",
      " 'log_count/DEBUG': 2,\n",
      " 'log_count/INFO': 7,\n",
      " 'response_received_count': 1,\n",
      " 'scheduler/dequeued': 1,\n",
      " 'scheduler/dequeued/memory': 1,\n",
      " 'scheduler/enqueued': 1,\n",
      " 'scheduler/enqueued/memory': 1,\n",
      " 'start_time': datetime.datetime(2018, 3, 3, 16, 50, 57, 961229)}\n",
      "2018-03-03 19:50:59 [scrapy.core.engine] INFO: Spider closed (finished)\n"
     ]
    }
   ],
   "source": [
    "!scrapy runspider $path/scraper1.py"
   ]
  },
  {
   "cell_type": "code",
   "execution_count": 1,
   "metadata": {
    "collapsed": true
   },
   "outputs": [],
   "source": [
    "import scrapy\n",
    "import csv\n",
    "import pandas as pd\n",
    "import numpy as np\n",
    "import requests\n",
    "import bs4\n",
    "from tqdm import tqdm_notebook\n",
    "from functools import reduce"
   ]
  },
  {
   "cell_type": "code",
   "execution_count": 11,
   "metadata": {
    "collapsed": true
   },
   "outputs": [],
   "source": [
    "class TorgmailSpider(scrapy.Spider):\n",
    "    name = \"brickset_spider\"\n",
    "    start_urls = ['https://torg.mail.ru/review/goods/mobilephones/']\n",
    "    def parse_page(self, url):\n",
    "        request = requests.get(url)\n",
    "        # если возникает ошибка (страница не найдена (404) или запрос прерван (443) или еще что-то)\n",
    "        # то генерируется исключение и печатается сообщение об этом, но код не прерывается, а выполняется дальше\n",
    "        # в \"тексте\" при этом генерируется пустота (?) и записывается она как NaN (его потом надо будет отфильтровать)\n",
    "        try:\n",
    "            request.raise_for_status()\n",
    "    #     except Exception as e:\n",
    "        except requests.exceptions.HTTPError as e:\n",
    "            print('ERROR: %s' % e)\n",
    "\n",
    "        text = request.text\n",
    "        parser = bs4.BeautifulSoup(text, 'lxml')\n",
    "        # парсим страницу\n",
    "        page_reviews = [(item.find('a', attrs={'class':'more'}).attrs['full-text'] \n",
    "                         if item.find('a', attrs={'class':'more'}) else \n",
    "                         item.find('p', attrs={'class':\"review-item__paragraph\"}).text, \n",
    "                         float(item.find('span', attrs={'class':\"review-item__rating-counter\"}).text.replace(',', '.')))\n",
    "                        for item in  parser.find_all('div', attrs={'class':'review-item'})]\n",
    "        \n",
    "#         NEXT_PAGE_SELECTOR = '.next a ::attr(href)'\n",
    "#         next_page = response.css(NEXT_PAGE_SELECTOR).extract_first() \n",
    "# #         parser.find('ul', attrs={'class':'pager-list js-pager'})\n",
    "#         if next_page:\n",
    "#             yield scrapy.Request(\n",
    "#             response.urljoin(next_page),\n",
    "#             callback=self.parse_page\n",
    "        \n",
    "        return page_reviews"
   ]
  },
  {
   "cell_type": "code",
   "execution_count": 12,
   "metadata": {
    "collapsed": true
   },
   "outputs": [],
   "source": [
    "spyder = BrickSetSpider()"
   ]
  },
  {
   "cell_type": "code",
   "execution_count": 13,
   "metadata": {
    "collapsed": true
   },
   "outputs": [],
   "source": [
    "resp = spyder.parse_page('https://torg.mail.ru/review/goods/mobilephones/')"
   ]
  },
  {
   "cell_type": "code",
   "execution_count": 14,
   "metadata": {
    "scrolled": true
   },
   "outputs": [
    {
     "data": {
      "text/plain": [
       "[('тихий звонок и музыка - может после купания (прыгнул за ребенком в озеро с тел)<br />\\r\\nраза 4 вис... пришлось отключать батарею... может вирусы пытались взять тел под управление а он не дался<br />\\r\\nне могу очистить оперативную память, благо сам себя чистит и сообщает очистил мол 4.74 оперативной памяти',\n",
       "  5.0),\n",
       " ('\\nОдин из лучших телефонов на настоящее время! Очень быстрый и стильный! Хорошая камера! А главное ,батарея очень долгая и конечно цена!\\t\\t\\t\\t\\t\\t\\t\\t\\t\\t\\t\\t',\n",
       "  5.0),\n",
       " ('Ужасная камера, отвратительная просто. Звук громкости, тихий очень. Подсветки на клавишах нет. Индикатора пропущенных вызовов нет. Не стоит таких денег, как на витрине. Хуже китайцев. А, но да за марку самсунг денег же содрать нужно. Фуфло полное. Кто думает его покупать. Сначала хорошенько все посмотрите и подумайте. Удачи!!!',\n",
       "  2.0),\n",
       " ('Тормозит страшно. Самостоятельно обновляется при включении Wi-Fi, несмотря на то что функция отключена как таковая. Стекло, которое поставляется вместе с телефоном слабо реагирует на нажатие, чувствительность низкая. После обновления (самостоятельного) с Андроид 6 до 7, вообще практически перестал реагировать на нажатие, а если и среагирует (о чудо), то тут же как бы сам нажимается опять и все надо начинать сначала. Сервис центр нарушений почему то не выявил. Короче валяется в  шкафу, в коробке. Бесполезно потраченные деньги.',\n",
       "  1.0),\n",
       " ('\\nТелефон прелесть! Качество отменное: ни одного сбоя, сеть всегда есть, а самое интересное то, что на сегодняшний день (февраль 2018г) аккумулятор (фирменный, LG) чувствует себя вполне здоровым, и это на 13-м году его жизни! \\r\\nМолодцы корейцы!\\t\\t\\t\\t\\t\\t\\t\\t\\t\\t\\t\\t',\n",
       "  5.0),\n",
       " ('\\nОчень хороший телефон, пользуюсь третий месяц.\\t\\t\\t\\t\\t\\t\\t\\t\\t\\t\\t\\t',\n",
       "  5.0),\n",
       " ('Айфон спорный аппарат. Начну с недостатков. Аккумулятор в нем ерунда. Не то как он его держит- а 1400- сам объем. Ну, понятно что аппарат 2011 года (что по нему не скажешь). При 10% заряда и ниже- просто отключается. Андроиды могут работать на 1 % заряда почти сутки- без использования.И до часа (+-)-в- использовании.Связь. Не знаю как у кого. Было проверено- Билайн- Кселл- ловит плохо. Это беда многих айфонов- слышала- читала. Тяжеловат по мне. 140 гр ощущается как все 160..Айклауд. Это полезная вещь -безусловно. Для внутренней платформы.Пользования услугами. Сервисом. И от кражи... НО- я точно знаю хозяев, которые продают свои заблокированные кирпичи- не важно- помнят они пароль или нет. Именно поэтому я -боюсь его создавать.Греется. При звонках, или когда ищет сеть- оператора.<br />\\r\\nА теперь о плюсах. Производительный. Это безусловно лучший гаджет в работе. Плавный. Оптимизированный. Телефон 2011 года не ощущается старым. Все в нем работает на ура.Retina- лучший экран, который я видела. Для глаз.Удобный- в работе. хотя экран я бы хотела больше по размеру. Только нужные приложения. Нет в нем лишнего- хлама. От которого глаза разбегаются как во многих- андроидах. Красавец! Чем дольше я им пользуюсь, тем больше понимаю что \"подсела\" на него. И мне трудно будет найти ему замену, хотя он- капризный аппарат. В связи. В настройках.<br />\\r\\n В общем... я аппарат конечно, рекомендую. НО- его нужно настроить. За ним нужно ухаживать. Мне изначально попался аппарат уже- видавший виды. И снаружи- и внутри. любая техника любит- ухода. Ну и- если вы хотите иметь айфон- вам придется смириться с его- \"капризами\"- то он ловит сеть то не- ловит, например. Греется- об этом сказала выше.<br />\\r\\nВ общем- есть в нем и минусы и плюсы, как в любом продукте. Но красавец, зараза! Трудно потом от него отказаться.',\n",
       "  5.0),\n",
       " ('\\nПробыл 4 года,батарея стала держать максимум три часа постоянного использования и что-то с камерой случилось(а ведь она одно из лучшего что есть в телефоне)...По хорошей цене не нашла подобного качества камеры...Буду брать опять...\\t\\t\\t\\t\\t\\t\\t\\t\\t\\t\\t\\t',\n",
       "  4.0),\n",
       " ('\\nЗа эти деньги лучше не найти!!!!!!Купил спонтанно так*как  Грессо за 90000 т Сломался в очередной раз.\\t\\t\\t\\t\\t\\t\\t\\t\\t\\t\\t\\t',\n",
       "  5.0),\n",
       " ('\\nдрянь а не смартфон батарея быстро садится  нужно два раза нажимать на ответ не прошло и двух лет как индикаторы самого смартфона и батареи сменили цвет на красный хотя в воде он не был села громкость звонившего  вообщем не советую\\t\\t\\t\\t\\t\\t\\t\\t\\t\\t\\t\\t',\n",
       "  1.0),\n",
       " ('Отличный телефон! купила когда только появился, у иже будет 5 лет  в мае активного пользования. сейчас батарея пришла в негодность, садится на глазах, начал зависать, покупка новой батареи не спасла ситуацию, может батарейка хреновая, хотя вроде оригинал. в общем срочно нужно решать вопрос с телефоном....хотела бы такой же,',\n",
       "  4.5),\n",
       " ('\\nОтличный аппарат 4 год работает мне лично лучше и не надо\\t\\t\\t\\t\\t\\t\\t\\t\\t\\t\\t\\t',\n",
       "  5.0),\n",
       " ('\\nПервый Сони, из тех что юзал, с такой живучей батареей... Металлический корпус и сканер отпечатка в кнопке питания тоже порадовали... Ну а экран и камера - классика.\\t\\t\\t\\t\\t\\t\\t\\t\\t\\t\\t\\t',\n",
       "  5.0),\n",
       " ('1. Опера не открывает ссылки на сайтах (большинстве), вылетает на ту же страницу, изменяя масштаб!!!<br />\\r\\n2. Календарь не приспособлен для напоминания о днях рождений- ВСЕГО 25 напоминаний можно забить!!!!!!! Ужас!!!<br />\\r\\n3. Фонарик- да зачем он!! Вот фотовспышку бы!!!<br />\\r\\n4. Через ПО компании Нокиа не подключается к ПК никак.... есть только выбор: зарядка или доступ к карте памяти!!!<br />\\r\\n5. Заряда хватает на сутки... если говорить- 6 часов!!!<br />\\r\\n6. Фото низкого качества!!<br />\\r\\n7. Клавиши (правая и курсор) не настраиваются под пользователя!!! Только левая!!!',\n",
       "  1.0),\n",
       " ('Взял по вроде не плохим параметрам: батарея, камера, 4G, 1ГБ  оперативки. До этого имел опыт эксплуатации девайсов марки престижио и в принципе был хорошего мнения о них. Но этот аппарат совсем меня как то растроил всем, чем только можно. Да аккум держит подольше моего прежнего алкателя, но не сильно, хотя 5000мАч против 2000мАч должен как минимум раза в 2 держать заряда дольше, все приложения да и любые действия на аппарате происходят с такой задержкой...., что кажется тут максимум андроид 2 стоит не больше. Ну и пожалуй самый главный косяк, это слабый микрофон-(собеседник плохо слышит)',\n",
       "  3.0),\n",
       " ('В режиме ожидания разряд идёт примерно 3-4% в час.То есть максимум - 33 часа.Откуда они взяли 657 часов в режиме ожидания? В режиме работы 15 часов тоже нет.Мне полного заряда хватило на 7,5 часов (разговор,игры,режим ожидания) . Соблазнился заявленными хорошими характеристиками и купил.Теперь жалею ! Знал бы - не купил бы...',\n",
       "  2.0),\n",
       " ('\\nКупила какой хотела. Но очень часто тормозит, не возможно куда-то войти. Очень часто даже не загорается экран, когда мне звонят. На ночь всегда его отключаю, днем тоже приходится, как говорят, чтобы перезарядить. Радости особой не испытываю. А ведь он не очень дешев.\\t\\t\\t\\t\\t\\t\\t\\t\\t\\t\\t\\t',\n",
       "  3.0),\n",
       " ('Отзыв для тех, кто рассматривает покупку Samsung Galaxy S7- не рекомендую. Этот смартфон купила на замену Explay X-tremer (который работает уже более 4-х лет без всяких нареканий, 4-5 раз падал и ничего! не сбоев, ни трещин, просто чуть поцарапался). По функционалу особых различий между смартфонами нет или они незначительны, большая разница только в качестве камеры. Samsung Galaxy S7 купила скорей из-за яркого внешнего вида и мощной рекламы. Как только прошел гарантийный срок, в один прекрасный момент телефон завис и больше не включился. Диагностика показала, что необходима замена материнской платы, стоимость 22 600, новый Galaxy S7 сейчас стоит 27 000, а покупала я его на начале продаж за 49 900. Обращалась к производителю, но Samsung не признал этот недостаток существенным и в ремонте отказал. Изучая форумы по данной проблеме, столкнулась с тем, что поломка материнской платы в этих телефонах случается очень часто, практически это массовая проблема, которую Samsung не признает. Так что собираюсь отстаивать свои права через независимую экспертизу и суд. А Вы подумайте- готовы ли Вы выложить кругленькую сумму за возможность использовать смартфон чуть более года, а потом остаться с куском железа.',\n",
       "  1.0),\n",
       " ('\\nЧто ж...Нокиа есть нокиа.Симбиан меня лично не разочаровал.Системка старенькая конечно,но не дохлая.Фото на высоте,видео тоже.знакомые не верили что он так может.У одного Айфон 6-в сравнение не идёт.На нокиа картинка сочнее и чётче.Корпус алюминиевый,держа в руке чувствуешь что мужик)))\\t\\t\\t\\t\\t\\t\\t\\t\\t\\t\\t\\t',\n",
       "  5.0),\n",
       " ('\\nприобрел в 2014 году. я его и ранял и в воде он побывал но до сих пор работает\\t\\t\\t\\t\\t\\t\\t\\t\\t\\t\\t\\t',\n",
       "  5.0)]"
      ]
     },
     "execution_count": 14,
     "metadata": {},
     "output_type": "execute_result"
    }
   ],
   "source": [
    "resp"
   ]
  },
  {
   "cell_type": "code",
   "execution_count": 16,
   "metadata": {
    "collapsed": true
   },
   "outputs": [],
   "source": [
    "url = 'https://torg.mail.ru/review/goods/mobilephones/'\n",
    "request = requests.get(url)\n",
    "text = request.text\n",
    "parser = bs4.BeautifulSoup(text, 'lxml')"
   ]
  },
  {
   "cell_type": "code",
   "execution_count": 17,
   "metadata": {
    "collapsed": true
   },
   "outputs": [],
   "source": [
    "url_list_texts = parser.find('ul', attrs={'class':'pager-list js-pager'})"
   ]
  },
  {
   "cell_type": "code",
   "execution_count": 20,
   "metadata": {},
   "outputs": [
    {
     "data": {
      "text/plain": [
       "<ul class=\"pager-list js-pager\"><!--\n",
       "--><li class=\"pager-list__item\"><a class=\"pager-list__page pager-list__page_active js-ustat_link js-ustat_link_link\" href=\"/review/goods/mobilephones/\" page=\"\">1</a></li><!--\n",
       "--><li class=\"pager-list__item\"><a class=\"pager-list__page js-ustat_link js-ustat_link_link\" href=\"/review/goods/mobilephones/?page=2\" page=\"2\" rel=\"next\">2</a></li><!--\n",
       "--><li class=\"pager-list__item\"><a class=\"pager-list__page js-ustat_link js-ustat_link_link\" href=\"/review/goods/mobilephones/?page=3\" page=\"3\">3</a></li><!--\n",
       "--><li class=\"pager-list__item\"><a class=\"pager-list__page js-ustat_link js-ustat_link_link\" href=\"/review/goods/mobilephones/?page=4\" page=\"4\">4</a></li><!--\n",
       "--><li class=\"pager-list__item\"><a class=\"pager-list__page js-ustat_link js-ustat_link_link\" href=\"/review/goods/mobilephones/?page=5\" page=\"5\">5</a></li><!--\n",
       "--><li class=\"pager-list__item\"><a class=\"pager-list__page js-ustat_link js-ustat_link_link\" href=\"/review/goods/mobilephones/?page=6\" page=\"6\">6</a></li><!--\n",
       "--><li class=\"pager-list__item\"><a class=\"pager-list__page js-ustat_link js-ustat_link_link\" href=\"/review/goods/mobilephones/?page=7\" page=\"7\">7</a></li><!--\n",
       "--><li class=\"pager-list__item\"><a class=\"pager-list__page js-ustat_link js-ustat_link_link\" href=\"/review/goods/mobilephones/?page=8\" page=\"8\">8</a></li><!--\n",
       "--><li class=\"pager-list__item\"><a class=\"pager-list__page js-ustat_link js-ustat_link_link\" href=\"/review/goods/mobilephones/?page=9\" page=\"9\">9</a></li><!--\n",
       "--><li class=\"pager-list__item\"><a class=\"pager-list__page js-ustat_link js-ustat_link_link\" href=\"/review/goods/mobilephones/?page=10\" page=\"10\">10</a></li><!--\n",
       "--><li class=\"pager-list__item\"><a class=\"pager-list__page pager-list__page_arrow js-ustat_link js-ustat_link_next\" href=\"/review/goods/mobilephones/?page=2\" page=\"2\" rel=\"next\" title=\"Следующая страница\">→</a></li><!--\n",
       "--></ul>"
      ]
     },
     "execution_count": 20,
     "metadata": {},
     "output_type": "execute_result"
    }
   ],
   "source": [
    "url_list_texts"
   ]
  },
  {
   "cell_type": "code",
   "execution_count": 32,
   "metadata": {},
   "outputs": [
    {
     "name": "stdout",
     "output_type": "stream",
     "text": [
      "/review/goods/mobilephones/\n",
      "/review/goods/mobilephones/?page=2\n",
      "/review/goods/mobilephones/?page=3\n",
      "/review/goods/mobilephones/?page=4\n",
      "/review/goods/mobilephones/?page=5\n",
      "/review/goods/mobilephones/?page=6\n",
      "/review/goods/mobilephones/?page=7\n",
      "/review/goods/mobilephones/?page=8\n",
      "/review/goods/mobilephones/?page=9\n",
      "/review/goods/mobilephones/?page=10\n",
      "/review/goods/mobilephones/?page=2\n"
     ]
    }
   ],
   "source": [
    "for text in url_list_texts.find_all('a'):\n",
    "    print(text.attrs['href'])"
   ]
  },
  {
   "cell_type": "code",
   "execution_count": 41,
   "metadata": {},
   "outputs": [
    {
     "data": {
      "text/plain": [
       "{'class': ['pager-list__page', 'js-ustat_link', 'js-ustat_link_link'],\n",
       " 'href': '/review/goods/mobilephones/?page=2',\n",
       " 'page': '2',\n",
       " 'rel': ['next']}"
      ]
     },
     "execution_count": 41,
     "metadata": {},
     "output_type": "execute_result"
    }
   ],
   "source": [
    "t_1 = url_list_texts.find_all('a')[1]\n",
    "t_1.attrs"
   ]
  },
  {
   "cell_type": "code",
   "execution_count": 61,
   "metadata": {},
   "outputs": [
    {
     "data": {
      "text/plain": [
       "<a class=\"pager-list__page pager-list__page_active js-ustat_link js-ustat_link_link\" href=\"/review/goods/mobilephones/\" page=\"\">1</a>"
      ]
     },
     "execution_count": 61,
     "metadata": {},
     "output_type": "execute_result"
    }
   ],
   "source": [
    "url_list_texts.find('li').find('a')"
   ]
  },
  {
   "cell_type": "code",
   "execution_count": 48,
   "metadata": {},
   "outputs": [
    {
     "data": {
      "text/plain": [
       "'/review/goods/mobilephones/?page=2'"
      ]
     },
     "execution_count": 48,
     "metadata": {},
     "output_type": "execute_result"
    }
   ],
   "source": [
    "next_page = url_list_texts.find('a', attrs={'rel':'next'}).attrs['href']\n",
    "next_page"
   ]
  },
  {
   "cell_type": "code",
   "execution_count": 83,
   "metadata": {},
   "outputs": [
    {
     "data": {
      "text/plain": [
       "'https://torg.mail.ru/review/goods/mobilephones/?page=126'"
      ]
     },
     "execution_count": 83,
     "metadata": {},
     "output_type": "execute_result"
    }
   ],
   "source": [
    "url = 'https://torg.mail.ru/review/goods/mobilephones/?page=125'\n",
    "request = requests.get(url)\n",
    "text = request.text\n",
    "parser = bs4.BeautifulSoup(text, 'lxml')\n",
    "next_page = 'https://torg.mail.ru' + parser.find('ul', attrs={'class':'pager-list js-pager'}).find('a', attrs={'rel':'next'}).attrs['href']\n",
    "next_page"
   ]
  },
  {
   "cell_type": "code",
   "execution_count": 50,
   "metadata": {},
   "outputs": [
    {
     "ename": "AttributeError",
     "evalue": "'str' object has no attribute 'urljoin'",
     "output_type": "error",
     "traceback": [
      "\u001b[1;31m---------------------------------------------------------------------------\u001b[0m",
      "\u001b[1;31mAttributeError\u001b[0m                            Traceback (most recent call last)",
      "\u001b[1;32m<ipython-input-50-c5af05fcc83c>\u001b[0m in \u001b[0;36m<module>\u001b[1;34m()\u001b[0m\n\u001b[0;32m      1\u001b[0m \u001b[0mresponse\u001b[0m  \u001b[1;33m=\u001b[0m \u001b[1;34m'a'\u001b[0m\u001b[1;33m\u001b[0m\u001b[0m\n\u001b[1;32m----> 2\u001b[1;33m \u001b[0mresponse\u001b[0m\u001b[1;33m.\u001b[0m\u001b[0murljoin\u001b[0m\u001b[1;33m(\u001b[0m\u001b[0mnext_page\u001b[0m\u001b[1;33m)\u001b[0m\u001b[1;33m\u001b[0m\u001b[0m\n\u001b[0m",
      "\u001b[1;31mAttributeError\u001b[0m: 'str' object has no attribute 'urljoin'"
     ]
    }
   ],
   "source": [
    "response  = 'a'\n",
    "response.urljoin(next_page)"
   ]
  },
  {
   "cell_type": "code",
   "execution_count": 52,
   "metadata": {},
   "outputs": [
    {
     "ename": "AttributeError",
     "evalue": "'str' object has no attribute 'urljoin'",
     "output_type": "error",
     "traceback": [
      "\u001b[1;31m---------------------------------------------------------------------------\u001b[0m",
      "\u001b[1;31mAttributeError\u001b[0m                            Traceback (most recent call last)",
      "\u001b[1;32m<ipython-input-52-45018139c4c0>\u001b[0m in \u001b[0;36m<module>\u001b[1;34m()\u001b[0m\n\u001b[1;32m----> 1\u001b[1;33m \u001b[0mscrapy\u001b[0m\u001b[1;33m.\u001b[0m\u001b[0mRequest\u001b[0m\u001b[1;33m(\u001b[0m\u001b[0mresponse\u001b[0m\u001b[1;33m.\u001b[0m\u001b[0murljoin\u001b[0m\u001b[1;33m(\u001b[0m\u001b[0mnext_page\u001b[0m\u001b[1;33m)\u001b[0m\u001b[1;33m)\u001b[0m\u001b[1;33m\u001b[0m\u001b[0m\n\u001b[0m",
      "\u001b[1;31mAttributeError\u001b[0m: 'str' object has no attribute 'urljoin'"
     ]
    }
   ],
   "source": [
    "scrapy.Request(response.urljoin(next_page))"
   ]
  },
  {
   "cell_type": "code",
   "execution_count": 66,
   "metadata": {
    "collapsed": true
   },
   "outputs": [],
   "source": [
    "url = 'https://torg.mail.ru/review/goods/mobilephones/'\n",
    "request = requests.get(url)\n",
    "text = request.text\n",
    "parser = bs4.BeautifulSoup(text, 'lxml')"
   ]
  },
  {
   "cell_type": "code",
   "execution_count": 68,
   "metadata": {},
   "outputs": [
    {
     "data": {
      "text/plain": [
       "<urllib3.response.HTTPResponse at 0x17baf25b400>"
      ]
     },
     "execution_count": 68,
     "metadata": {},
     "output_type": "execute_result"
    }
   ],
   "source": [
    "request."
   ]
  },
  {
   "cell_type": "code",
   "execution_count": 70,
   "metadata": {
    "collapsed": true
   },
   "outputs": [],
   "source": [
    "t = scrapy.Request(url)"
   ]
  },
  {
   "cell_type": "code",
   "execution_count": 78,
   "metadata": {},
   "outputs": [
    {
     "data": {
      "text/plain": [
       "{}"
      ]
     },
     "execution_count": 78,
     "metadata": {},
     "output_type": "execute_result"
    }
   ],
   "source": [
    "t.cookies"
   ]
  },
  {
   "cell_type": "code",
   "execution_count": null,
   "metadata": {
    "collapsed": true
   },
   "outputs": [],
   "source": []
  },
  {
   "cell_type": "code",
   "execution_count": 11,
   "metadata": {
    "collapsed": true
   },
   "outputs": [],
   "source": [
    "class TorgmailSpider(scrapy.Spider):\n",
    "    name = \"torgmail_spider\"\n",
    "    start_urls = ['https://torg.mail.ru/review/goods/mobilephones/']\n",
    "    def parse_page(self, url):\n",
    "        request = requests.get(url)\n",
    "        # если возникает ошибка (страница не найдена (404) или запрос прерван (443) или еще что-то)\n",
    "        # то генерируется исключение и печатается сообщение об этом, но код не прерывается, а выполняется дальше\n",
    "        # в \"тексте\" при этом генерируется пустота (?) и записывается она как NaN (его потом надо будет отфильтровать)\n",
    "        try:\n",
    "            request.raise_for_status()\n",
    "    #     except Exception as e:\n",
    "        except requests.exceptions.HTTPError as e:\n",
    "            print('ERROR: %s' % e)\n",
    "\n",
    "        text = request.text\n",
    "        parser = bs4.BeautifulSoup(text, 'lxml')\n",
    "        # парсим страницу\n",
    "        page_reviews = [(item.find('a', attrs={'class':'more'}).attrs['full-text'] \n",
    "                         if item.find('a', attrs={'class':'more'}) else \n",
    "                         item.find('p', attrs={'class':\"review-item__paragraph\"}).text, \n",
    "                         float(item.find('span', attrs={'class':\"review-item__rating-counter\"}).text.replace(',', '.')))\n",
    "                        for item in  parser.find_all('div', attrs={'class':'review-item'})]\n",
    "        \n",
    "#         NEXT_PAGE_SELECTOR = '.next a ::attr(href)'\n",
    "#         next_page = response.css(NEXT_PAGE_SELECTOR).extract_first() \n",
    "# #         parser.find('ul', attrs={'class':'pager-list js-pager'})\n",
    "#         if next_page:\n",
    "#             yield scrapy.Request(\n",
    "#             response.urljoin(next_page),\n",
    "#             callback=self.parse_page\n",
    "        \n",
    "        return page_reviews"
   ]
  },
  {
   "cell_type": "code",
   "execution_count": 2,
   "metadata": {
    "collapsed": true
   },
   "outputs": [],
   "source": [
    "import csv\n",
    "from tqdm import tqdm_notebook\n",
    "\n",
    "# class TorgmailSpider(scrapy.Spider):\n",
    "class TorgmailSpider():\n",
    "    '''\n",
    "    start_url - начальный адрес\n",
    "    site - узел, с которого мы парсим данные\n",
    "    Методы:\n",
    "    .parse() - метод для парсинга\n",
    "    '''\n",
    "    \n",
    "    name = \"torgmail_spider\"\n",
    "    def __init__(self) :\n",
    "        self.start_url = 'https://torg.mail.ru/review/goods/mobilephones/'\n",
    "        self.site = 'https://torg.mail.ru'\n",
    "    \n",
    "    def parse_page(self, url, path_and_filename):\n",
    "        with open(path_and_filename, 'a') as csvfile:\n",
    "            csvwriter = csv.writer(csvfile, delimiter='\\t')\n",
    "\n",
    "    #             # если возникает ошибка (страница не найдена (404) или запрос прерван (443) или еще что-то)\n",
    "    #             # то генерируется исключение и печатается сообщение об этом, но код не прерывается, а выполняется дальше\n",
    "    #             # в \"тексте\" при этом генерируется пустота (?) и записывается она как NaN (его потом надо будет отфильтровать)\n",
    "            try:                              # обрабатываем возможные исключения\n",
    "                request = requests.get(url)\n",
    "                request.raise_for_status()\n",
    "            except requests.exceptions.HTTPError as err:\n",
    "#                     print('Oops. HTTP Error occured. Response is: {content} for url {url}'\n",
    "#                           .format(content=err.response, url=url))\n",
    "    #                 print('Response is: {content}'.format(content=err.response.content))\n",
    "                print('Oops. HTTP Error occured: %s' % err)\n",
    "            except requests.exceptions.ConnectionError as err1:\n",
    "    #                 print('ERROR: %s' % err1.args[0])\n",
    "                print('Oops. Connection Error occured. Response is: {content} for url {url}'.format(content=err1.response, \n",
    "                                                                                                    url=url))\n",
    "            except requests.exceptions.RequestException as err2:\n",
    "    #                 print('ERROR: %s' % err2.args[0])\n",
    "                print('Oops. RequestException Error occured. Response is: {content} for url {url}'.format(content=err2.response, \n",
    "                                                                                                    url=url))\n",
    "            else:\n",
    "                text = request.text\n",
    "                parser = bs4.BeautifulSoup(text, 'lxml')    \n",
    "\n",
    "                for item in  parser.find_all('div', attrs={'class':'review-item'}):\n",
    "\n",
    "\n",
    "                    review = item.find('a', attrs={'class':'more'}).attrs['full-text'] \\\n",
    "                                    if item.find('a', attrs={'class':'more'}) \\\n",
    "                                    else item.find('p', attrs={'class':\"review-item__paragraph\"}).text\n",
    "                    rating = float(item.find('span', attrs={'class':\"review-item__rating-counter\"}).text.replace(',', '.'))\n",
    "\n",
    "                    try:\n",
    "                        csvwriter.writerow([review, rating])\n",
    "                    except Exception as err3:\n",
    "                        print('Oops. Exception Error occured for url {url}. Response is: {content}'.format(url=url, \n",
    "                                                                                                           content=err3))    \n",
    "\n",
    "            # формируем новую ссылку для \"переползания\" туда \"паука\"\n",
    "            next_page = self.site + \\\n",
    "                         parser.find('ul', attrs={'class':'pager-list js-pager'}).find('a', attrs={'rel':'next'}).attrs['href']\n",
    "            if next_page:\n",
    "                return next_page\n",
    "            else:\n",
    "                return False\n",
    "\n",
    "    \n",
    "    def parse(self, num_pages=3, path_and_filename='data/tmp.csv'):\n",
    "        '''\n",
    "        num_pages - число страниц для парсинга\n",
    "        path_and_filename - куда сохраняем спарсенные данные\n",
    "        '''\n",
    "        with open(path_and_filename, 'w+') as csvfile:\n",
    "            csvwriter = csv.writer(csvfile, delimiter='\\t')\n",
    "            csvwriter.writerow(['review', 'rating']) # пишем заголовки колонок\n",
    "            \n",
    "            next_page = self.start_url\n",
    "            for n in tqdm_notebook(range(num_pages), total=num_pages):\n",
    "                next_page = self.parse_page(next_page, path_and_filename)\n",
    "                if not next_page:\n",
    "                    break"
   ]
  },
  {
   "cell_type": "code",
   "execution_count": 3,
   "metadata": {},
   "outputs": [
    {
     "data": {
      "application/vnd.jupyter.widget-view+json": {
       "model_id": "4254623e01f6457393b741afc2ab8717",
       "version_major": 2,
       "version_minor": 0
      },
      "text/plain": [
       "A Jupyter Widget"
      ]
     },
     "metadata": {},
     "output_type": "display_data"
    },
    {
     "name": "stdout",
     "output_type": "stream",
     "text": [
      "\n",
      "Wall time: 6.39 s\n"
     ]
    }
   ],
   "source": [
    "%%time\n",
    "torgmailSpider = TorgmailSpider()\n",
    "torgmailSpider.parse()"
   ]
  },
  {
   "cell_type": "code",
   "execution_count": 4,
   "metadata": {},
   "outputs": [
    {
     "name": "stdout",
     "output_type": "stream",
     "text": [
      "(62, 2)\n"
     ]
    },
    {
     "data": {
      "text/html": [
       "<div>\n",
       "<style>\n",
       "    .dataframe thead tr:only-child th {\n",
       "        text-align: right;\n",
       "    }\n",
       "\n",
       "    .dataframe thead th {\n",
       "        text-align: left;\n",
       "    }\n",
       "\n",
       "    .dataframe tbody tr th {\n",
       "        vertical-align: top;\n",
       "    }\n",
       "</style>\n",
       "<table border=\"1\" class=\"dataframe\">\n",
       "  <thead>\n",
       "    <tr style=\"text-align: right;\">\n",
       "      <th></th>\n",
       "      <th>review</th>\n",
       "      <th>rating</th>\n",
       "    </tr>\n",
       "  </thead>\n",
       "  <tbody>\n",
       "    <tr>\n",
       "      <th>0</th>\n",
       "      <td>музыка - может после купания (прыгнул за ребен...</td>\n",
       "      <td>NaN</td>\n",
       "    </tr>\n",
       "    <tr>\n",
       "      <th>1</th>\n",
       "      <td>раза 4 вис... пришлось отключать батарею... мо...</td>\n",
       "      <td>NaN</td>\n",
       "    </tr>\n",
       "    <tr>\n",
       "      <th>2</th>\n",
       "      <td>не могу очистить оперативную память, благо сам...</td>\n",
       "      <td>5.0</td>\n",
       "    </tr>\n",
       "    <tr>\n",
       "      <th>3</th>\n",
       "      <td>\\r\\nОдин из лучших телефонов на настоящее врем...</td>\n",
       "      <td>5.0</td>\n",
       "    </tr>\n",
       "    <tr>\n",
       "      <th>4</th>\n",
       "      <td>Ужасная камера, отвратительная просто. Звук гр...</td>\n",
       "      <td>2.0</td>\n",
       "    </tr>\n",
       "    <tr>\n",
       "      <th>5</th>\n",
       "      <td>Тормозит страшно. Самостоятельно обновляется п...</td>\n",
       "      <td>1.0</td>\n",
       "    </tr>\n",
       "    <tr>\n",
       "      <th>6</th>\n",
       "      <td>\\r\\nТелефон прелесть! Качество отменное: ни од...</td>\n",
       "      <td>5.0</td>\n",
       "    </tr>\n",
       "    <tr>\n",
       "      <th>7</th>\n",
       "      <td>\\r\\nОчень хороший телефон, пользуюсь третий ме...</td>\n",
       "      <td>5.0</td>\n",
       "    </tr>\n",
       "    <tr>\n",
       "      <th>8</th>\n",
       "      <td>Айфон спорный аппарат. Начну с недостатков. Ак...</td>\n",
       "      <td>5.0</td>\n",
       "    </tr>\n",
       "    <tr>\n",
       "      <th>9</th>\n",
       "      <td>\\r\\nПробыл 4 года,батарея стала держать максим...</td>\n",
       "      <td>4.0</td>\n",
       "    </tr>\n",
       "  </tbody>\n",
       "</table>\n",
       "</div>"
      ],
      "text/plain": [
       "                                              review  rating\n",
       "0  музыка - может после купания (прыгнул за ребен...     NaN\n",
       "1  раза 4 вис... пришлось отключать батарею... мо...     NaN\n",
       "2  не могу очистить оперативную память, благо сам...     5.0\n",
       "3  \\r\\nОдин из лучших телефонов на настоящее врем...     5.0\n",
       "4  Ужасная камера, отвратительная просто. Звук гр...     2.0\n",
       "5  Тормозит страшно. Самостоятельно обновляется п...     1.0\n",
       "6  \\r\\nТелефон прелесть! Качество отменное: ни од...     5.0\n",
       "7  \\r\\nОчень хороший телефон, пользуюсь третий ме...     5.0\n",
       "8  Айфон спорный аппарат. Начну с недостатков. Ак...     5.0\n",
       "9  \\r\\nПробыл 4 года,батарея стала держать максим...     4.0"
      ]
     },
     "execution_count": 4,
     "metadata": {},
     "output_type": "execute_result"
    }
   ],
   "source": [
    "tmp_df_by_csv = pd.read_csv('data/tmp.csv', sep='\\t', index_col=None, header=0, encoding='cp1251')\n",
    "\n",
    "print(tmp_df_by_csv.shape)\n",
    "tmp_df_by_csv.head(10)"
   ]
  },
  {
   "cell_type": "code",
   "execution_count": null,
   "metadata": {
    "collapsed": true
   },
   "outputs": [],
   "source": []
  }
 ],
 "metadata": {
  "kernelspec": {
   "display_name": "Python 3",
   "language": "python",
   "name": "python3"
  },
  "language_info": {
   "codemirror_mode": {
    "name": "ipython",
    "version": 3
   },
   "file_extension": ".py",
   "mimetype": "text/x-python",
   "name": "python",
   "nbconvert_exporter": "python",
   "pygments_lexer": "ipython3",
   "version": "3.6.3"
  },
  "widgets": {
   "application/vnd.jupyter.widget-state+json": {
    "state": {
     "042f2c50e9334b8e99b371eabfb3dd42": {
      "model_module": "@jupyter-widgets/controls",
      "model_module_version": "1.0.0",
      "model_name": "IntProgressModel",
      "state": {
       "bar_style": "success",
       "layout": "IPY_MODEL_d88d46f987a044148569be94a53dd075",
       "max": 3,
       "style": "IPY_MODEL_3040ae54540a44d08436597034743133",
       "value": 3
      }
     },
     "0442c81e979e4415b9381bb3bc7d2b3c": {
      "model_module": "@jupyter-widgets/controls",
      "model_module_version": "1.0.0",
      "model_name": "HTMLModel",
      "state": {
       "layout": "IPY_MODEL_9812a5cfa6f74802a25a7438a35f950c",
       "style": "IPY_MODEL_5b908db719d24ea7837035d8ffacfb38",
       "value": "100% 4/4 [00:07&lt;00:00,  1.87s/it]"
      }
     },
     "062b6305f56943668c86dc73bca6dac1": {
      "model_module": "@jupyter-widgets/base",
      "model_module_version": "1.0.0",
      "model_name": "LayoutModel",
      "state": {}
     },
     "0805604ec5984f3fbd1a462099e49fcc": {
      "model_module": "@jupyter-widgets/controls",
      "model_module_version": "1.0.0",
      "model_name": "HTMLModel",
      "state": {
       "layout": "IPY_MODEL_a9918d2f85674506b78ef06a07af9a21",
       "style": "IPY_MODEL_b62b5050c4b741a1b37f702fa231d5e2",
       "value": "100% 3/3 [00:07&lt;00:00,  2.39s/it]"
      }
     },
     "0cb43b339cf64892a2ecb60c9b44bfe1": {
      "model_module": "@jupyter-widgets/base",
      "model_module_version": "1.0.0",
      "model_name": "LayoutModel",
      "state": {}
     },
     "0dfd280d4f3847a99c63e4db44d4a229": {
      "model_module": "@jupyter-widgets/controls",
      "model_module_version": "1.0.0",
      "model_name": "DescriptionStyleModel",
      "state": {
       "description_width": ""
      }
     },
     "0eb48761de0f4b61a3a47cd4e23d3d78": {
      "model_module": "@jupyter-widgets/controls",
      "model_module_version": "1.0.0",
      "model_name": "HTMLModel",
      "state": {
       "layout": "IPY_MODEL_52afb885b771498dbc1b928ee3caa6eb",
       "style": "IPY_MODEL_5b7f7a79442f427a970d316d6e343b63",
       "value": "100% 4/4 [00:09&lt;00:00,  2.41s/it]"
      }
     },
     "0f8ea297840549e38a9b2f0aa14f6735": {
      "model_module": "@jupyter-widgets/controls",
      "model_module_version": "1.0.0",
      "model_name": "HTMLModel",
      "state": {
       "layout": "IPY_MODEL_12e4d74bc4734588b860acbad51d0ade",
       "style": "IPY_MODEL_df0f42f37d3e4b78921e2f50896fa3d5",
       "value": "  0% 0/3 [00:00&lt;?, ?it/s]"
      }
     },
     "109241a6da174a8585e058c5c9b99a21": {
      "model_module": "@jupyter-widgets/controls",
      "model_module_version": "1.0.0",
      "model_name": "HBoxModel",
      "state": {
       "children": [
        "IPY_MODEL_c1bbb5bf37764416a4f79473c44cebe6",
        "IPY_MODEL_0eb48761de0f4b61a3a47cd4e23d3d78"
       ],
       "layout": "IPY_MODEL_f26a7140d22d4649abb6f0154eaf2781"
      }
     },
     "12e2aab651864b31b5f238a966f81993": {
      "model_module": "@jupyter-widgets/controls",
      "model_module_version": "1.0.0",
      "model_name": "HBoxModel",
      "state": {
       "children": [
        "IPY_MODEL_c0ad3e12c25641c6a9b2c9dc0ba85612",
        "IPY_MODEL_5446ae6ee69d457ea7ca49f8442f600f"
       ],
       "layout": "IPY_MODEL_9af349455eb24a2899b0ec3bb327dd1b"
      }
     },
     "12e4d74bc4734588b860acbad51d0ade": {
      "model_module": "@jupyter-widgets/base",
      "model_module_version": "1.0.0",
      "model_name": "LayoutModel",
      "state": {}
     },
     "139b332c2c8540dea334664fa63dd62c": {
      "model_module": "@jupyter-widgets/base",
      "model_module_version": "1.0.0",
      "model_name": "LayoutModel",
      "state": {}
     },
     "14fb4b74d8e64b57abf703d2ac692ce2": {
      "model_module": "@jupyter-widgets/base",
      "model_module_version": "1.0.0",
      "model_name": "LayoutModel",
      "state": {}
     },
     "150325e3f5764eb39210b96df6b480fd": {
      "model_module": "@jupyter-widgets/controls",
      "model_module_version": "1.0.0",
      "model_name": "HTMLModel",
      "state": {
       "layout": "IPY_MODEL_793f820130524be8a2008e76e0872dd0",
       "style": "IPY_MODEL_641484b4947b4ec99be6dba8a441694f",
       "value": "  0% 0/3 [00:00&lt;?, ?it/s]"
      }
     },
     "164bba8af13f47d6acaa034aac23705b": {
      "model_module": "@jupyter-widgets/controls",
      "model_module_version": "1.0.0",
      "model_name": "DescriptionStyleModel",
      "state": {
       "description_width": ""
      }
     },
     "16b652d2d35e40d184da29fdf27bbc91": {
      "model_module": "@jupyter-widgets/controls",
      "model_module_version": "1.0.0",
      "model_name": "DescriptionStyleModel",
      "state": {
       "description_width": ""
      }
     },
     "184c0946704347feb8536bc5d8719a66": {
      "model_module": "@jupyter-widgets/base",
      "model_module_version": "1.0.0",
      "model_name": "LayoutModel",
      "state": {}
     },
     "1877f67bd8f1451d8a67d166d153b825": {
      "model_module": "@jupyter-widgets/controls",
      "model_module_version": "1.0.0",
      "model_name": "IntProgressModel",
      "state": {
       "bar_style": "success",
       "layout": "IPY_MODEL_e61b698556694d569b8b83cc5ec889b1",
       "max": 3,
       "style": "IPY_MODEL_f5e465f3985b4d2c8ffa1fe7a1d03d4d",
       "value": 3
      }
     },
     "1963471cfb734976b1e5409cf8b0d063": {
      "model_module": "@jupyter-widgets/base",
      "model_module_version": "1.0.0",
      "model_name": "LayoutModel",
      "state": {}
     },
     "1caf7263940545dcbd1075d2f1fb13cd": {
      "model_module": "@jupyter-widgets/controls",
      "model_module_version": "1.0.0",
      "model_name": "HBoxModel",
      "state": {
       "children": [
        "IPY_MODEL_efd7424d6c2e4c158d16695c61a9e9b7",
        "IPY_MODEL_b5a8015152a443179cac63ce6ae6a21f"
       ],
       "layout": "IPY_MODEL_7e38267d2bd84e84b399cc579281e980"
      }
     },
     "1df8f1de9ba3405cae2476f41f5694c3": {
      "model_module": "@jupyter-widgets/controls",
      "model_module_version": "1.0.0",
      "model_name": "DescriptionStyleModel",
      "state": {
       "description_width": ""
      }
     },
     "1f3026d382874ce3a6127aee2da63886": {
      "model_module": "@jupyter-widgets/controls",
      "model_module_version": "1.0.0",
      "model_name": "HBoxModel",
      "state": {
       "children": [
        "IPY_MODEL_a750b82774bb44f7a5c35581606d5388",
        "IPY_MODEL_fa851ba79a484d9ca8727ed9b82598c1"
       ],
       "layout": "IPY_MODEL_062b6305f56943668c86dc73bca6dac1"
      }
     },
     "1f31a4a68a9e47e8a2f39ad171a0b17c": {
      "model_module": "@jupyter-widgets/controls",
      "model_module_version": "1.0.0",
      "model_name": "HTMLModel",
      "state": {
       "layout": "IPY_MODEL_648d05c2d8e648498b34d35752aa24a7",
       "style": "IPY_MODEL_dad6d607ef174a19a9a5d58e57c85f35",
       "value": "100% 3/3 [00:05&lt;00:00,  1.77s/it]"
      }
     },
     "1f65cb6ffaf0416b83651c782168fac0": {
      "model_module": "@jupyter-widgets/controls",
      "model_module_version": "1.0.0",
      "model_name": "HBoxModel",
      "state": {
       "children": [
        "IPY_MODEL_55bcebb301c44563bc0e4634ee6ec729",
        "IPY_MODEL_5761af112f0e45328a6ec50831485d0a"
       ],
       "layout": "IPY_MODEL_6a410acd165a4907b6e7fe002a8e0e79"
      }
     },
     "1fa771c1581f429f9c4262d13afce235": {
      "model_module": "@jupyter-widgets/controls",
      "model_module_version": "1.0.0",
      "model_name": "DescriptionStyleModel",
      "state": {
       "description_width": ""
      }
     },
     "240e3dff301448ef90bf850562f199d3": {
      "model_module": "@jupyter-widgets/controls",
      "model_module_version": "1.0.0",
      "model_name": "HBoxModel",
      "state": {
       "children": [
        "IPY_MODEL_1877f67bd8f1451d8a67d166d153b825",
        "IPY_MODEL_6715e9c4d2da41bdbc4360bfe27acf0f"
       ],
       "layout": "IPY_MODEL_cf3dc27d2ffd4e479c2ff4dbe24e6265"
      }
     },
     "25676c50bb74432dbaaef85b7955228b": {
      "model_module": "@jupyter-widgets/controls",
      "model_module_version": "1.0.0",
      "model_name": "HBoxModel",
      "state": {
       "children": [
        "IPY_MODEL_4d8c79182c904d1c94bc14f6a646def1",
        "IPY_MODEL_0f8ea297840549e38a9b2f0aa14f6735"
       ],
       "layout": "IPY_MODEL_ec0d47d4136f4ae0a4d49a630a1886b7"
      }
     },
     "274d7b1ae80d42528beb94636efea690": {
      "model_module": "@jupyter-widgets/base",
      "model_module_version": "1.0.0",
      "model_name": "LayoutModel",
      "state": {}
     },
     "2aa521bc7d0d426aa7a3ca490e58b02f": {
      "model_module": "@jupyter-widgets/controls",
      "model_module_version": "1.0.0",
      "model_name": "HBoxModel",
      "state": {
       "children": [
        "IPY_MODEL_b5b7a8eb28af4b9c8562d95a017e08d9",
        "IPY_MODEL_978235b3a625417cb8ddb0f798dd85df"
       ],
       "layout": "IPY_MODEL_fe813ab306bc4362904fd53bc2d152fd"
      }
     },
     "2d3aed1ecfbb4f25af2a28c03db28772": {
      "model_module": "@jupyter-widgets/controls",
      "model_module_version": "1.0.0",
      "model_name": "IntProgressModel",
      "state": {
       "bar_style": "success",
       "layout": "IPY_MODEL_6cf92c6ab0ee47f59cd97c0a2751fcd9",
       "max": 4,
       "style": "IPY_MODEL_3fc2f22a4ba4491dad49b837e8dcf9ae",
       "value": 4
      }
     },
     "3040ae54540a44d08436597034743133": {
      "model_module": "@jupyter-widgets/controls",
      "model_module_version": "1.0.0",
      "model_name": "ProgressStyleModel",
      "state": {
       "description_width": ""
      }
     },
     "3103d8bc177346b8abee73e816f98ca3": {
      "model_module": "@jupyter-widgets/controls",
      "model_module_version": "1.0.0",
      "model_name": "DescriptionStyleModel",
      "state": {
       "description_width": ""
      }
     },
     "3b4190343c994663948453f3f46d1a4a": {
      "model_module": "@jupyter-widgets/base",
      "model_module_version": "1.0.0",
      "model_name": "LayoutModel",
      "state": {}
     },
     "3c1265fea225420d8ea33096fe8efef6": {
      "model_module": "@jupyter-widgets/controls",
      "model_module_version": "1.0.0",
      "model_name": "ProgressStyleModel",
      "state": {
       "description_width": ""
      }
     },
     "3c3bdea7d20c4eee9a58a11f6e106d47": {
      "model_module": "@jupyter-widgets/controls",
      "model_module_version": "1.0.0",
      "model_name": "DescriptionStyleModel",
      "state": {
       "description_width": ""
      }
     },
     "3e9adf6fa0c7455eb33077cd3ae190aa": {
      "model_module": "@jupyter-widgets/controls",
      "model_module_version": "1.0.0",
      "model_name": "HBoxModel",
      "state": {
       "children": [
        "IPY_MODEL_8f1ae4abebec40b19416016e62605f33",
        "IPY_MODEL_efef7a33e8854dfe9b10858cc5d5f24e"
       ],
       "layout": "IPY_MODEL_274d7b1ae80d42528beb94636efea690"
      }
     },
     "3f23352cb3104c05ae53bf33adeb1e2a": {
      "model_module": "@jupyter-widgets/controls",
      "model_module_version": "1.0.0",
      "model_name": "ProgressStyleModel",
      "state": {
       "description_width": ""
      }
     },
     "3fc2f22a4ba4491dad49b837e8dcf9ae": {
      "model_module": "@jupyter-widgets/controls",
      "model_module_version": "1.0.0",
      "model_name": "ProgressStyleModel",
      "state": {
       "description_width": ""
      }
     },
     "43cd7b45eadd43219af02671b814af61": {
      "model_module": "@jupyter-widgets/controls",
      "model_module_version": "1.0.0",
      "model_name": "IntProgressModel",
      "state": {
       "bar_style": "danger",
       "layout": "IPY_MODEL_0cb43b339cf64892a2ecb60c9b44bfe1",
       "max": 3,
       "style": "IPY_MODEL_7b97094e964e4a708cb0f0d332d3da15"
      }
     },
     "43ecd88e50464a219b6e0ff0b12c73c8": {
      "model_module": "@jupyter-widgets/base",
      "model_module_version": "1.0.0",
      "model_name": "LayoutModel",
      "state": {}
     },
     "443d9caee3754175b63c8c97b09b40ba": {
      "model_module": "@jupyter-widgets/controls",
      "model_module_version": "1.0.0",
      "model_name": "HBoxModel",
      "state": {
       "children": [
        "IPY_MODEL_43cd7b45eadd43219af02671b814af61",
        "IPY_MODEL_96fcf593b8cb4a85bdc92f5f8309b2d0"
       ],
       "layout": "IPY_MODEL_8ac8b6caa66c485b964d137d477b51c6"
      }
     },
     "48f49d1e2f08471882c2ae32e4ad7a2b": {
      "model_module": "@jupyter-widgets/base",
      "model_module_version": "1.0.0",
      "model_name": "LayoutModel",
      "state": {}
     },
     "4ad3b72a76ca48f09865d322144f2f31": {
      "model_module": "@jupyter-widgets/controls",
      "model_module_version": "1.0.0",
      "model_name": "IntProgressModel",
      "state": {
       "bar_style": "success",
       "layout": "IPY_MODEL_56db5d7ef45d4a6faf462a59c51ff6d4",
       "max": 4,
       "style": "IPY_MODEL_3c1265fea225420d8ea33096fe8efef6",
       "value": 4
      }
     },
     "4b5210e21c3340d98fbdb0fd093100ff": {
      "model_module": "@jupyter-widgets/controls",
      "model_module_version": "1.0.0",
      "model_name": "DescriptionStyleModel",
      "state": {
       "description_width": ""
      }
     },
     "4d8c79182c904d1c94bc14f6a646def1": {
      "model_module": "@jupyter-widgets/controls",
      "model_module_version": "1.0.0",
      "model_name": "IntProgressModel",
      "state": {
       "bar_style": "danger",
       "layout": "IPY_MODEL_139b332c2c8540dea334664fa63dd62c",
       "max": 3,
       "style": "IPY_MODEL_5cf2acf03eee4066b2f762dd55714744"
      }
     },
     "4e30d659e14842a5861cf24289638cbb": {
      "model_module": "@jupyter-widgets/controls",
      "model_module_version": "1.0.0",
      "model_name": "ProgressStyleModel",
      "state": {
       "description_width": ""
      }
     },
     "52afb885b771498dbc1b928ee3caa6eb": {
      "model_module": "@jupyter-widgets/base",
      "model_module_version": "1.0.0",
      "model_name": "LayoutModel",
      "state": {}
     },
     "5446ae6ee69d457ea7ca49f8442f600f": {
      "model_module": "@jupyter-widgets/controls",
      "model_module_version": "1.0.0",
      "model_name": "HTMLModel",
      "state": {
       "layout": "IPY_MODEL_14fb4b74d8e64b57abf703d2ac692ce2",
       "style": "IPY_MODEL_1df8f1de9ba3405cae2476f41f5694c3",
       "value": "100% 4/4 [00:08&lt;00:00,  2.07s/it]"
      }
     },
     "55bcebb301c44563bc0e4634ee6ec729": {
      "model_module": "@jupyter-widgets/controls",
      "model_module_version": "1.0.0",
      "model_name": "IntProgressModel",
      "state": {
       "bar_style": "danger",
       "layout": "IPY_MODEL_e6d191bc80084d7696f84b5eabfb5f74",
       "max": 3,
       "style": "IPY_MODEL_a7d642deb79d4182b7590951febd8bef"
      }
     },
     "56db5d7ef45d4a6faf462a59c51ff6d4": {
      "model_module": "@jupyter-widgets/base",
      "model_module_version": "1.0.0",
      "model_name": "LayoutModel",
      "state": {}
     },
     "5761af112f0e45328a6ec50831485d0a": {
      "model_module": "@jupyter-widgets/controls",
      "model_module_version": "1.0.0",
      "model_name": "HTMLModel",
      "state": {
       "layout": "IPY_MODEL_9e5a010f5c6d4848b4b08a11fb5bcd80",
       "style": "IPY_MODEL_16b652d2d35e40d184da29fdf27bbc91",
       "value": "  0% 0/3 [00:00&lt;?, ?it/s]"
      }
     },
     "59c5d7e4c92e4ae28644681e6d3dd20a": {
      "model_module": "@jupyter-widgets/controls",
      "model_module_version": "1.0.0",
      "model_name": "DescriptionStyleModel",
      "state": {
       "description_width": ""
      }
     },
     "5b7f7a79442f427a970d316d6e343b63": {
      "model_module": "@jupyter-widgets/controls",
      "model_module_version": "1.0.0",
      "model_name": "DescriptionStyleModel",
      "state": {
       "description_width": ""
      }
     },
     "5b908db719d24ea7837035d8ffacfb38": {
      "model_module": "@jupyter-widgets/controls",
      "model_module_version": "1.0.0",
      "model_name": "DescriptionStyleModel",
      "state": {
       "description_width": ""
      }
     },
     "5cf2acf03eee4066b2f762dd55714744": {
      "model_module": "@jupyter-widgets/controls",
      "model_module_version": "1.0.0",
      "model_name": "ProgressStyleModel",
      "state": {
       "description_width": ""
      }
     },
     "641484b4947b4ec99be6dba8a441694f": {
      "model_module": "@jupyter-widgets/controls",
      "model_module_version": "1.0.0",
      "model_name": "DescriptionStyleModel",
      "state": {
       "description_width": ""
      }
     },
     "648d05c2d8e648498b34d35752aa24a7": {
      "model_module": "@jupyter-widgets/base",
      "model_module_version": "1.0.0",
      "model_name": "LayoutModel",
      "state": {}
     },
     "6715e9c4d2da41bdbc4360bfe27acf0f": {
      "model_module": "@jupyter-widgets/controls",
      "model_module_version": "1.0.0",
      "model_name": "HTMLModel",
      "state": {
       "layout": "IPY_MODEL_48f49d1e2f08471882c2ae32e4ad7a2b",
       "style": "IPY_MODEL_bd33a19a4f974ac088da8ecfaeb8340d",
       "value": "100% 3/3 [00:07&lt;00:00,  2.49s/it]"
      }
     },
     "69d3e1d0ccea428ab311bdab492f975d": {
      "model_module": "@jupyter-widgets/controls",
      "model_module_version": "1.0.0",
      "model_name": "HBoxModel",
      "state": {
       "children": [
        "IPY_MODEL_a5444db153ce4f7b887017574e40a7be",
        "IPY_MODEL_ea0c7b055d3e4ef4899d5e3f3213011f"
       ],
       "layout": "IPY_MODEL_999b77d7578a4dfb8a5f4b4c6e5a2a23"
      }
     },
     "69d42e1c309940c398ea51dd9c7af500": {
      "model_module": "@jupyter-widgets/controls",
      "model_module_version": "1.0.0",
      "model_name": "HBoxModel",
      "state": {
       "children": [
        "IPY_MODEL_8faea6f879d84a10a53f4e91cadf4fd1",
        "IPY_MODEL_150325e3f5764eb39210b96df6b480fd"
       ],
       "layout": "IPY_MODEL_b2c1522953f04f72a5149a5357756d0a"
      }
     },
     "6a410acd165a4907b6e7fe002a8e0e79": {
      "model_module": "@jupyter-widgets/base",
      "model_module_version": "1.0.0",
      "model_name": "LayoutModel",
      "state": {}
     },
     "6c6803a437aa4ad186afb092e33fea15": {
      "model_module": "@jupyter-widgets/base",
      "model_module_version": "1.0.0",
      "model_name": "LayoutModel",
      "state": {}
     },
     "6cdd03d5f76642e4b75036c073d3f960": {
      "model_module": "@jupyter-widgets/base",
      "model_module_version": "1.0.0",
      "model_name": "LayoutModel",
      "state": {}
     },
     "6cf92c6ab0ee47f59cd97c0a2751fcd9": {
      "model_module": "@jupyter-widgets/base",
      "model_module_version": "1.0.0",
      "model_name": "LayoutModel",
      "state": {}
     },
     "6db6a5a93aed425980de2ed3012171bb": {
      "model_module": "@jupyter-widgets/controls",
      "model_module_version": "1.0.0",
      "model_name": "IntProgressModel",
      "state": {
       "bar_style": "success",
       "layout": "IPY_MODEL_7fdab032727846c98a191642ce33a57c",
       "max": 3,
       "style": "IPY_MODEL_d5caa2c2cfb94a978253550dd947642c",
       "value": 3
      }
     },
     "6f435eb45b6d48e19b17a3b55c78167c": {
      "model_module": "@jupyter-widgets/base",
      "model_module_version": "1.0.0",
      "model_name": "LayoutModel",
      "state": {}
     },
     "70fa509d367c4706bcdee3bf373e63e7": {
      "model_module": "@jupyter-widgets/controls",
      "model_module_version": "1.0.0",
      "model_name": "HBoxModel",
      "state": {
       "children": [
        "IPY_MODEL_b7dd71bd90994bceb99b0e54debc758c",
        "IPY_MODEL_ad9bf2e11336450aae88ffa1c8a12ec5"
       ],
       "layout": "IPY_MODEL_43ecd88e50464a219b6e0ff0b12c73c8"
      }
     },
     "7216ca985a054e77956edea44f1ca133": {
      "model_module": "@jupyter-widgets/base",
      "model_module_version": "1.0.0",
      "model_name": "LayoutModel",
      "state": {}
     },
     "75731f019e204553a992f8e96563095a": {
      "model_module": "@jupyter-widgets/base",
      "model_module_version": "1.0.0",
      "model_name": "LayoutModel",
      "state": {}
     },
     "787810f1f3ae4c6194e407f805020a61": {
      "model_module": "@jupyter-widgets/base",
      "model_module_version": "1.0.0",
      "model_name": "LayoutModel",
      "state": {}
     },
     "793f820130524be8a2008e76e0872dd0": {
      "model_module": "@jupyter-widgets/base",
      "model_module_version": "1.0.0",
      "model_name": "LayoutModel",
      "state": {}
     },
     "7b256cdb3e0e4a8c9366b009a49edb0a": {
      "model_module": "@jupyter-widgets/base",
      "model_module_version": "1.0.0",
      "model_name": "LayoutModel",
      "state": {}
     },
     "7b97094e964e4a708cb0f0d332d3da15": {
      "model_module": "@jupyter-widgets/controls",
      "model_module_version": "1.0.0",
      "model_name": "ProgressStyleModel",
      "state": {
       "description_width": ""
      }
     },
     "7de71cb3c1ff4b44aaca7d7255556b7f": {
      "model_module": "@jupyter-widgets/controls",
      "model_module_version": "1.0.0",
      "model_name": "HTMLModel",
      "state": {
       "layout": "IPY_MODEL_7216ca985a054e77956edea44f1ca133",
       "style": "IPY_MODEL_3c3bdea7d20c4eee9a58a11f6e106d47",
       "value": "100% 4/4 [00:10&lt;00:00,  2.54s/it]"
      }
     },
     "7e38267d2bd84e84b399cc579281e980": {
      "model_module": "@jupyter-widgets/base",
      "model_module_version": "1.0.0",
      "model_name": "LayoutModel",
      "state": {}
     },
     "7fbdb0e435e74c5ca9c6ac3694c6bf05": {
      "model_module": "@jupyter-widgets/base",
      "model_module_version": "1.0.0",
      "model_name": "LayoutModel",
      "state": {}
     },
     "7fdab032727846c98a191642ce33a57c": {
      "model_module": "@jupyter-widgets/base",
      "model_module_version": "1.0.0",
      "model_name": "LayoutModel",
      "state": {}
     },
     "80b36791c9774605b3c45af4e64a8dd9": {
      "model_module": "@jupyter-widgets/controls",
      "model_module_version": "1.0.0",
      "model_name": "DescriptionStyleModel",
      "state": {
       "description_width": ""
      }
     },
     "81cb58a4455c41d7afad88dd42c395d8": {
      "model_module": "@jupyter-widgets/base",
      "model_module_version": "1.0.0",
      "model_name": "LayoutModel",
      "state": {}
     },
     "832f1d9eabcf47cdb6fc44505ead059c": {
      "model_module": "@jupyter-widgets/controls",
      "model_module_version": "1.0.0",
      "model_name": "DescriptionStyleModel",
      "state": {
       "description_width": ""
      }
     },
     "87c4d6d6b2584f1d80a56c4a5f084d07": {
      "model_module": "@jupyter-widgets/base",
      "model_module_version": "1.0.0",
      "model_name": "LayoutModel",
      "state": {}
     },
     "8995e0538d2e4435b6fa8238a989e6ff": {
      "model_module": "@jupyter-widgets/base",
      "model_module_version": "1.0.0",
      "model_name": "LayoutModel",
      "state": {}
     },
     "8ac8b6caa66c485b964d137d477b51c6": {
      "model_module": "@jupyter-widgets/base",
      "model_module_version": "1.0.0",
      "model_name": "LayoutModel",
      "state": {}
     },
     "8c6528f1e289499a9aa6d332ae796b1f": {
      "model_module": "@jupyter-widgets/base",
      "model_module_version": "1.0.0",
      "model_name": "LayoutModel",
      "state": {}
     },
     "8cc123bf5cb5456287416958769b21e6": {
      "model_module": "@jupyter-widgets/controls",
      "model_module_version": "1.0.0",
      "model_name": "ProgressStyleModel",
      "state": {
       "description_width": ""
      }
     },
     "8cf1476a95314e7998eaf64ecbcf0ac1": {
      "model_module": "@jupyter-widgets/base",
      "model_module_version": "1.0.0",
      "model_name": "LayoutModel",
      "state": {}
     },
     "8f1ae4abebec40b19416016e62605f33": {
      "model_module": "@jupyter-widgets/controls",
      "model_module_version": "1.0.0",
      "model_name": "IntProgressModel",
      "state": {
       "bar_style": "success",
       "layout": "IPY_MODEL_dac5eb6247c24599afd31901f101e681",
       "max": 3,
       "style": "IPY_MODEL_bc2e8ea17c4d4d71b9a71c0e39980a36",
       "value": 3
      }
     },
     "8f2b4b47a5a04c09a6b7b43d586ab169": {
      "model_module": "@jupyter-widgets/base",
      "model_module_version": "1.0.0",
      "model_name": "LayoutModel",
      "state": {}
     },
     "8faea6f879d84a10a53f4e91cadf4fd1": {
      "model_module": "@jupyter-widgets/controls",
      "model_module_version": "1.0.0",
      "model_name": "IntProgressModel",
      "state": {
       "bar_style": "danger",
       "layout": "IPY_MODEL_fd2733d321534caea79ad1260d7b8ed8",
       "max": 3,
       "style": "IPY_MODEL_4e30d659e14842a5861cf24289638cbb"
      }
     },
     "93edac268ff244d8bd3b54d9c5400b91": {
      "model_module": "@jupyter-widgets/controls",
      "model_module_version": "1.0.0",
      "model_name": "ProgressStyleModel",
      "state": {
       "description_width": ""
      }
     },
     "959fc3a280e04379ba9235b101ede437": {
      "model_module": "@jupyter-widgets/controls",
      "model_module_version": "1.0.0",
      "model_name": "HTMLModel",
      "state": {
       "layout": "IPY_MODEL_bcd7d206d0114b76a4adf3468e2b66f3",
       "style": "IPY_MODEL_e40d51cda6474bc3b0be9798b8b8a96c",
       "value": "  0% 0/3 [00:00&lt;?, ?it/s]"
      }
     },
     "96fcf593b8cb4a85bdc92f5f8309b2d0": {
      "model_module": "@jupyter-widgets/controls",
      "model_module_version": "1.0.0",
      "model_name": "HTMLModel",
      "state": {
       "layout": "IPY_MODEL_6c6803a437aa4ad186afb092e33fea15",
       "style": "IPY_MODEL_1fa771c1581f429f9c4262d13afce235",
       "value": "  0% 0/3 [00:00&lt;?, ?it/s]"
      }
     },
     "978235b3a625417cb8ddb0f798dd85df": {
      "model_module": "@jupyter-widgets/controls",
      "model_module_version": "1.0.0",
      "model_name": "HTMLModel",
      "state": {
       "layout": "IPY_MODEL_c8ca13032c4c465abbd0c59d91282c74",
       "style": "IPY_MODEL_59c5d7e4c92e4ae28644681e6d3dd20a",
       "value": "  0% 0/3 [00:00&lt;?, ?it/s]"
      }
     },
     "9812a5cfa6f74802a25a7438a35f950c": {
      "model_module": "@jupyter-widgets/base",
      "model_module_version": "1.0.0",
      "model_name": "LayoutModel",
      "state": {}
     },
     "999b77d7578a4dfb8a5f4b4c6e5a2a23": {
      "model_module": "@jupyter-widgets/base",
      "model_module_version": "1.0.0",
      "model_name": "LayoutModel",
      "state": {}
     },
     "9ac4eb0c4e73472f8627d9ab971ebf28": {
      "model_module": "@jupyter-widgets/base",
      "model_module_version": "1.0.0",
      "model_name": "LayoutModel",
      "state": {}
     },
     "9af349455eb24a2899b0ec3bb327dd1b": {
      "model_module": "@jupyter-widgets/base",
      "model_module_version": "1.0.0",
      "model_name": "LayoutModel",
      "state": {}
     },
     "9e5a010f5c6d4848b4b08a11fb5bcd80": {
      "model_module": "@jupyter-widgets/base",
      "model_module_version": "1.0.0",
      "model_name": "LayoutModel",
      "state": {}
     },
     "9f68a4de733a42298f5a7120e106421d": {
      "model_module": "@jupyter-widgets/controls",
      "model_module_version": "1.0.0",
      "model_name": "ProgressStyleModel",
      "state": {
       "description_width": ""
      }
     },
     "a22beb54fa9e40b6a87e9e0b8ebb063a": {
      "model_module": "@jupyter-widgets/controls",
      "model_module_version": "1.0.0",
      "model_name": "HBoxModel",
      "state": {
       "children": [
        "IPY_MODEL_6db6a5a93aed425980de2ed3012171bb",
        "IPY_MODEL_ef1032bc1e5f463eb3f4950d9381941e"
       ],
       "layout": "IPY_MODEL_7fbdb0e435e74c5ca9c6ac3694c6bf05"
      }
     },
     "a374a7521df24b2795ae7908d0736ab7": {
      "model_module": "@jupyter-widgets/controls",
      "model_module_version": "1.0.0",
      "model_name": "HBoxModel",
      "state": {
       "children": [
        "IPY_MODEL_042f2c50e9334b8e99b371eabfb3dd42",
        "IPY_MODEL_0805604ec5984f3fbd1a462099e49fcc"
       ],
       "layout": "IPY_MODEL_f97f34ee50794c5cbf7317588fd5c0ae"
      }
     },
     "a5347f7c27204191a85797377b5d87af": {
      "model_module": "@jupyter-widgets/base",
      "model_module_version": "1.0.0",
      "model_name": "LayoutModel",
      "state": {}
     },
     "a5444db153ce4f7b887017574e40a7be": {
      "model_module": "@jupyter-widgets/controls",
      "model_module_version": "1.0.0",
      "model_name": "IntProgressModel",
      "state": {
       "bar_style": "danger",
       "layout": "IPY_MODEL_8f2b4b47a5a04c09a6b7b43d586ab169",
       "max": 3,
       "style": "IPY_MODEL_d87212ac876c451b8958408b62e229eb"
      }
     },
     "a750b82774bb44f7a5c35581606d5388": {
      "model_module": "@jupyter-widgets/controls",
      "model_module_version": "1.0.0",
      "model_name": "IntProgressModel",
      "state": {
       "bar_style": "danger",
       "layout": "IPY_MODEL_8c6528f1e289499a9aa6d332ae796b1f",
       "max": 3,
       "style": "IPY_MODEL_3f23352cb3104c05ae53bf33adeb1e2a"
      }
     },
     "a7be3708fbc543cca0ea5ca14b90df8b": {
      "model_module": "@jupyter-widgets/controls",
      "model_module_version": "1.0.0",
      "model_name": "ProgressStyleModel",
      "state": {
       "description_width": ""
      }
     },
     "a7d642deb79d4182b7590951febd8bef": {
      "model_module": "@jupyter-widgets/controls",
      "model_module_version": "1.0.0",
      "model_name": "ProgressStyleModel",
      "state": {
       "description_width": ""
      }
     },
     "a9918d2f85674506b78ef06a07af9a21": {
      "model_module": "@jupyter-widgets/base",
      "model_module_version": "1.0.0",
      "model_name": "LayoutModel",
      "state": {}
     },
     "ad9bf2e11336450aae88ffa1c8a12ec5": {
      "model_module": "@jupyter-widgets/controls",
      "model_module_version": "1.0.0",
      "model_name": "HTMLModel",
      "state": {
       "layout": "IPY_MODEL_75731f019e204553a992f8e96563095a",
       "style": "IPY_MODEL_80b36791c9774605b3c45af4e64a8dd9",
       "value": "  0% 0/3 [00:00&lt;?, ?it/s]"
      }
     },
     "ae1dc9f93c0a43468b87f7cd1e8ca65a": {
      "model_module": "@jupyter-widgets/controls",
      "model_module_version": "1.0.0",
      "model_name": "IntProgressModel",
      "state": {
       "bar_style": "success",
       "layout": "IPY_MODEL_81cb58a4455c41d7afad88dd42c395d8",
       "max": 3,
       "style": "IPY_MODEL_c982c2619e644a0b9d01e2f5529f849a",
       "value": 3
      }
     },
     "b0fc29e8cd32428ab38b85d9e7fe2b13": {
      "model_module": "@jupyter-widgets/controls",
      "model_module_version": "1.0.0",
      "model_name": "IntProgressModel",
      "state": {
       "bar_style": "danger",
       "layout": "IPY_MODEL_a5347f7c27204191a85797377b5d87af",
       "max": 3,
       "style": "IPY_MODEL_8cc123bf5cb5456287416958769b21e6"
      }
     },
     "b2c1522953f04f72a5149a5357756d0a": {
      "model_module": "@jupyter-widgets/base",
      "model_module_version": "1.0.0",
      "model_name": "LayoutModel",
      "state": {}
     },
     "b2c55cf398994e4ea10df0add6b3bb16": {
      "model_module": "@jupyter-widgets/controls",
      "model_module_version": "1.0.0",
      "model_name": "ProgressStyleModel",
      "state": {
       "description_width": ""
      }
     },
     "b5a8015152a443179cac63ce6ae6a21f": {
      "model_module": "@jupyter-widgets/controls",
      "model_module_version": "1.0.0",
      "model_name": "HTMLModel",
      "state": {
       "layout": "IPY_MODEL_ebcf55e9c7cf4f77a40a3f55b4725a35",
       "style": "IPY_MODEL_164bba8af13f47d6acaa034aac23705b",
       "value": "100% 3/3 [00:06&lt;00:00,  2.16s/it]"
      }
     },
     "b5b7a8eb28af4b9c8562d95a017e08d9": {
      "model_module": "@jupyter-widgets/controls",
      "model_module_version": "1.0.0",
      "model_name": "IntProgressModel",
      "state": {
       "bar_style": "danger",
       "layout": "IPY_MODEL_6f435eb45b6d48e19b17a3b55c78167c",
       "max": 3,
       "style": "IPY_MODEL_9f68a4de733a42298f5a7120e106421d"
      }
     },
     "b62b5050c4b741a1b37f702fa231d5e2": {
      "model_module": "@jupyter-widgets/controls",
      "model_module_version": "1.0.0",
      "model_name": "DescriptionStyleModel",
      "state": {
       "description_width": ""
      }
     },
     "b7dd71bd90994bceb99b0e54debc758c": {
      "model_module": "@jupyter-widgets/controls",
      "model_module_version": "1.0.0",
      "model_name": "IntProgressModel",
      "state": {
       "bar_style": "danger",
       "layout": "IPY_MODEL_8cf1476a95314e7998eaf64ecbcf0ac1",
       "max": 3,
       "style": "IPY_MODEL_a7be3708fbc543cca0ea5ca14b90df8b"
      }
     },
     "bc2e8ea17c4d4d71b9a71c0e39980a36": {
      "model_module": "@jupyter-widgets/controls",
      "model_module_version": "1.0.0",
      "model_name": "ProgressStyleModel",
      "state": {
       "description_width": ""
      }
     },
     "bcd7d206d0114b76a4adf3468e2b66f3": {
      "model_module": "@jupyter-widgets/base",
      "model_module_version": "1.0.0",
      "model_name": "LayoutModel",
      "state": {}
     },
     "bd33a19a4f974ac088da8ecfaeb8340d": {
      "model_module": "@jupyter-widgets/controls",
      "model_module_version": "1.0.0",
      "model_name": "DescriptionStyleModel",
      "state": {
       "description_width": ""
      }
     },
     "c0ad3e12c25641c6a9b2c9dc0ba85612": {
      "model_module": "@jupyter-widgets/controls",
      "model_module_version": "1.0.0",
      "model_name": "IntProgressModel",
      "state": {
       "bar_style": "success",
       "layout": "IPY_MODEL_dba183b7199342c4b91fa6737f90b40f",
       "max": 4,
       "style": "IPY_MODEL_93edac268ff244d8bd3b54d9c5400b91",
       "value": 4
      }
     },
     "c1bbb5bf37764416a4f79473c44cebe6": {
      "model_module": "@jupyter-widgets/controls",
      "model_module_version": "1.0.0",
      "model_name": "IntProgressModel",
      "state": {
       "bar_style": "success",
       "layout": "IPY_MODEL_9ac4eb0c4e73472f8627d9ab971ebf28",
       "max": 4,
       "style": "IPY_MODEL_e98a72a08bc8421fa16a0f0e639b8e8e",
       "value": 4
      }
     },
     "c8ca13032c4c465abbd0c59d91282c74": {
      "model_module": "@jupyter-widgets/base",
      "model_module_version": "1.0.0",
      "model_name": "LayoutModel",
      "state": {}
     },
     "c982c2619e644a0b9d01e2f5529f849a": {
      "model_module": "@jupyter-widgets/controls",
      "model_module_version": "1.0.0",
      "model_name": "ProgressStyleModel",
      "state": {
       "description_width": ""
      }
     },
     "ca25a08a1f8a4a77a5d2c661f3820703": {
      "model_module": "@jupyter-widgets/base",
      "model_module_version": "1.0.0",
      "model_name": "LayoutModel",
      "state": {}
     },
     "cf3dc27d2ffd4e479c2ff4dbe24e6265": {
      "model_module": "@jupyter-widgets/base",
      "model_module_version": "1.0.0",
      "model_name": "LayoutModel",
      "state": {}
     },
     "d3966afa19a24f39b757a36c5af2c229": {
      "model_module": "@jupyter-widgets/controls",
      "model_module_version": "1.0.0",
      "model_name": "HBoxModel",
      "state": {
       "children": [
        "IPY_MODEL_b0fc29e8cd32428ab38b85d9e7fe2b13",
        "IPY_MODEL_959fc3a280e04379ba9235b101ede437"
       ],
       "layout": "IPY_MODEL_787810f1f3ae4c6194e407f805020a61"
      }
     },
     "d5c41a64dcdb4eddaeb2122b79ebd07a": {
      "model_module": "@jupyter-widgets/controls",
      "model_module_version": "1.0.0",
      "model_name": "HBoxModel",
      "state": {
       "children": [
        "IPY_MODEL_2d3aed1ecfbb4f25af2a28c03db28772",
        "IPY_MODEL_0442c81e979e4415b9381bb3bc7d2b3c"
       ],
       "layout": "IPY_MODEL_8995e0538d2e4435b6fa8238a989e6ff"
      }
     },
     "d5caa2c2cfb94a978253550dd947642c": {
      "model_module": "@jupyter-widgets/controls",
      "model_module_version": "1.0.0",
      "model_name": "ProgressStyleModel",
      "state": {
       "description_width": ""
      }
     },
     "d87212ac876c451b8958408b62e229eb": {
      "model_module": "@jupyter-widgets/controls",
      "model_module_version": "1.0.0",
      "model_name": "ProgressStyleModel",
      "state": {
       "description_width": ""
      }
     },
     "d88d46f987a044148569be94a53dd075": {
      "model_module": "@jupyter-widgets/base",
      "model_module_version": "1.0.0",
      "model_name": "LayoutModel",
      "state": {}
     },
     "dac5eb6247c24599afd31901f101e681": {
      "model_module": "@jupyter-widgets/base",
      "model_module_version": "1.0.0",
      "model_name": "LayoutModel",
      "state": {}
     },
     "dad6d607ef174a19a9a5d58e57c85f35": {
      "model_module": "@jupyter-widgets/controls",
      "model_module_version": "1.0.0",
      "model_name": "DescriptionStyleModel",
      "state": {
       "description_width": ""
      }
     },
     "dba183b7199342c4b91fa6737f90b40f": {
      "model_module": "@jupyter-widgets/base",
      "model_module_version": "1.0.0",
      "model_name": "LayoutModel",
      "state": {}
     },
     "dc031d52ef9c4de496ee94e56592b3c5": {
      "model_module": "@jupyter-widgets/controls",
      "model_module_version": "1.0.0",
      "model_name": "HBoxModel",
      "state": {
       "children": [
        "IPY_MODEL_ae1dc9f93c0a43468b87f7cd1e8ca65a",
        "IPY_MODEL_1f31a4a68a9e47e8a2f39ad171a0b17c"
       ],
       "layout": "IPY_MODEL_3b4190343c994663948453f3f46d1a4a"
      }
     },
     "dd188379b2cd4ed0be4e0e9493171ee8": {
      "model_module": "@jupyter-widgets/controls",
      "model_module_version": "1.0.0",
      "model_name": "HBoxModel",
      "state": {
       "children": [
        "IPY_MODEL_4ad3b72a76ca48f09865d322144f2f31",
        "IPY_MODEL_7de71cb3c1ff4b44aaca7d7255556b7f"
       ],
       "layout": "IPY_MODEL_ca25a08a1f8a4a77a5d2c661f3820703"
      }
     },
     "df0f42f37d3e4b78921e2f50896fa3d5": {
      "model_module": "@jupyter-widgets/controls",
      "model_module_version": "1.0.0",
      "model_name": "DescriptionStyleModel",
      "state": {
       "description_width": ""
      }
     },
     "e40d51cda6474bc3b0be9798b8b8a96c": {
      "model_module": "@jupyter-widgets/controls",
      "model_module_version": "1.0.0",
      "model_name": "DescriptionStyleModel",
      "state": {
       "description_width": ""
      }
     },
     "e61b698556694d569b8b83cc5ec889b1": {
      "model_module": "@jupyter-widgets/base",
      "model_module_version": "1.0.0",
      "model_name": "LayoutModel",
      "state": {}
     },
     "e6d191bc80084d7696f84b5eabfb5f74": {
      "model_module": "@jupyter-widgets/base",
      "model_module_version": "1.0.0",
      "model_name": "LayoutModel",
      "state": {}
     },
     "e98a72a08bc8421fa16a0f0e639b8e8e": {
      "model_module": "@jupyter-widgets/controls",
      "model_module_version": "1.0.0",
      "model_name": "ProgressStyleModel",
      "state": {
       "description_width": ""
      }
     },
     "ea0c7b055d3e4ef4899d5e3f3213011f": {
      "model_module": "@jupyter-widgets/controls",
      "model_module_version": "1.0.0",
      "model_name": "HTMLModel",
      "state": {
       "layout": "IPY_MODEL_7b256cdb3e0e4a8c9366b009a49edb0a",
       "style": "IPY_MODEL_3103d8bc177346b8abee73e816f98ca3",
       "value": "  0% 0/3 [00:00&lt;?, ?it/s]"
      }
     },
     "ebcf55e9c7cf4f77a40a3f55b4725a35": {
      "model_module": "@jupyter-widgets/base",
      "model_module_version": "1.0.0",
      "model_name": "LayoutModel",
      "state": {}
     },
     "ec0d47d4136f4ae0a4d49a630a1886b7": {
      "model_module": "@jupyter-widgets/base",
      "model_module_version": "1.0.0",
      "model_name": "LayoutModel",
      "state": {}
     },
     "ef1032bc1e5f463eb3f4950d9381941e": {
      "model_module": "@jupyter-widgets/controls",
      "model_module_version": "1.0.0",
      "model_name": "HTMLModel",
      "state": {
       "layout": "IPY_MODEL_87c4d6d6b2584f1d80a56c4a5f084d07",
       "style": "IPY_MODEL_832f1d9eabcf47cdb6fc44505ead059c",
       "value": "100% 3/3 [00:07&lt;00:00,  2.50s/it]"
      }
     },
     "efd7424d6c2e4c158d16695c61a9e9b7": {
      "model_module": "@jupyter-widgets/controls",
      "model_module_version": "1.0.0",
      "model_name": "IntProgressModel",
      "state": {
       "bar_style": "success",
       "layout": "IPY_MODEL_184c0946704347feb8536bc5d8719a66",
       "max": 3,
       "style": "IPY_MODEL_b2c55cf398994e4ea10df0add6b3bb16",
       "value": 3
      }
     },
     "efef7a33e8854dfe9b10858cc5d5f24e": {
      "model_module": "@jupyter-widgets/controls",
      "model_module_version": "1.0.0",
      "model_name": "HTMLModel",
      "state": {
       "layout": "IPY_MODEL_1963471cfb734976b1e5409cf8b0d063",
       "style": "IPY_MODEL_0dfd280d4f3847a99c63e4db44d4a229",
       "value": "100% 3/3 [00:07&lt;00:00,  2.56s/it]"
      }
     },
     "f26a7140d22d4649abb6f0154eaf2781": {
      "model_module": "@jupyter-widgets/base",
      "model_module_version": "1.0.0",
      "model_name": "LayoutModel",
      "state": {}
     },
     "f5e465f3985b4d2c8ffa1fe7a1d03d4d": {
      "model_module": "@jupyter-widgets/controls",
      "model_module_version": "1.0.0",
      "model_name": "ProgressStyleModel",
      "state": {
       "description_width": ""
      }
     },
     "f97f34ee50794c5cbf7317588fd5c0ae": {
      "model_module": "@jupyter-widgets/base",
      "model_module_version": "1.0.0",
      "model_name": "LayoutModel",
      "state": {}
     },
     "fa851ba79a484d9ca8727ed9b82598c1": {
      "model_module": "@jupyter-widgets/controls",
      "model_module_version": "1.0.0",
      "model_name": "HTMLModel",
      "state": {
       "layout": "IPY_MODEL_6cdd03d5f76642e4b75036c073d3f960",
       "style": "IPY_MODEL_4b5210e21c3340d98fbdb0fd093100ff",
       "value": "  0% 0/3 [00:00&lt;?, ?it/s]"
      }
     },
     "fd2733d321534caea79ad1260d7b8ed8": {
      "model_module": "@jupyter-widgets/base",
      "model_module_version": "1.0.0",
      "model_name": "LayoutModel",
      "state": {}
     },
     "fe813ab306bc4362904fd53bc2d152fd": {
      "model_module": "@jupyter-widgets/base",
      "model_module_version": "1.0.0",
      "model_name": "LayoutModel",
      "state": {}
     }
    },
    "version_major": 2,
    "version_minor": 0
   }
  }
 },
 "nbformat": 4,
 "nbformat_minor": 2
}
