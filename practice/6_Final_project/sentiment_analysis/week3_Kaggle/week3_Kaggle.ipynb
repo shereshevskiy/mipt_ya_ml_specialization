{
 "cells": [
  {
   "cell_type": "markdown",
   "metadata": {},
   "source": [
    "# <center> Соревнование на Kaggle"
   ]
  },
  {
   "cell_type": "markdown",
   "metadata": {},
   "source": [
    "Задание:   \n",
    "необходимо воспользоваться опытом предыдущих недель и побить бейзлайн в соревновании по сентимент-анализу отзывов на товары на Kaggle Inclass:\n",
    "\n",
    "https://inclass.kaggle.com/c/product-reviews-sentiment-analysis-light"
   ]
  },
  {
   "cell_type": "code",
   "execution_count": 1,
   "metadata": {
    "collapsed": true
   },
   "outputs": [],
   "source": [
    "from __future__ import division, print_function\n",
    "# отключим всякие предупреждения Anaconda\n",
    "import numpy as np\n",
    "import pandas as pd\n",
    "import nltk\n",
    "from sklearn.feature_extraction.text import CountVectorizer, TfidfVectorizer, TfidfTransformer\n",
    "from sklearn.pipeline import Pipeline\n",
    "from sklearn.model_selection import cross_val_score, GridSearchCV\n",
    "from sklearn.linear_model import LogisticRegression, SGDClassifier\n",
    "from sklearn.svm import LinearSVC\n",
    "import xgboost as xgb\n",
    "\n",
    "%matplotlib inline\n",
    "from matplotlib import pyplot as plt"
   ]
  },
  {
   "cell_type": "code",
   "execution_count": 2,
   "metadata": {
    "collapsed": true
   },
   "outputs": [],
   "source": [
    "from nltk.corpus import stopwords\n",
    "from nltk.stem import SnowballStemmer\n",
    "import re"
   ]
  },
  {
   "cell_type": "code",
   "execution_count": 3,
   "metadata": {
    "collapsed": true
   },
   "outputs": [],
   "source": [
    "# функция для записи submission  в папку data\n",
    "def write_submission(filename, pred):\n",
    "    pd.DataFrame(pred, columns=['y']).to_csv(path_or_buf='data/' + filename, index_label='Id')"
   ]
  },
  {
   "cell_type": "code",
   "execution_count": 4,
   "metadata": {
    "collapsed": true
   },
   "outputs": [],
   "source": [
    "train = pd.read_csv('data/products_sentiment_train.tsv', sep='\\t', header=None, names=['text', 'target'])"
   ]
  },
  {
   "cell_type": "code",
   "execution_count": 15,
   "metadata": {},
   "outputs": [
    {
     "data": {
      "text/html": [
       "<div>\n",
       "<style>\n",
       "    .dataframe thead tr:only-child th {\n",
       "        text-align: right;\n",
       "    }\n",
       "\n",
       "    .dataframe thead th {\n",
       "        text-align: left;\n",
       "    }\n",
       "\n",
       "    .dataframe tbody tr th {\n",
       "        vertical-align: top;\n",
       "    }\n",
       "</style>\n",
       "<table border=\"1\" class=\"dataframe\">\n",
       "  <thead>\n",
       "    <tr style=\"text-align: right;\">\n",
       "      <th></th>\n",
       "      <th>text</th>\n",
       "      <th>target</th>\n",
       "    </tr>\n",
       "  </thead>\n",
       "  <tbody>\n",
       "    <tr>\n",
       "      <th>0</th>\n",
       "      <td>2 . take around 10,000 640x480 pictures .</td>\n",
       "      <td>1</td>\n",
       "    </tr>\n",
       "    <tr>\n",
       "      <th>1</th>\n",
       "      <td>i downloaded a trial version of computer assoc...</td>\n",
       "      <td>1</td>\n",
       "    </tr>\n",
       "    <tr>\n",
       "      <th>2</th>\n",
       "      <td>the wrt54g plus the hga7t is a perfect solutio...</td>\n",
       "      <td>1</td>\n",
       "    </tr>\n",
       "    <tr>\n",
       "      <th>3</th>\n",
       "      <td>i dont especially like how music files are uns...</td>\n",
       "      <td>0</td>\n",
       "    </tr>\n",
       "    <tr>\n",
       "      <th>4</th>\n",
       "      <td>i was using the cheapie pail ... and it worked...</td>\n",
       "      <td>1</td>\n",
       "    </tr>\n",
       "  </tbody>\n",
       "</table>\n",
       "</div>"
      ],
      "text/plain": [
       "                                                text  target\n",
       "0          2 . take around 10,000 640x480 pictures .       1\n",
       "1  i downloaded a trial version of computer assoc...       1\n",
       "2  the wrt54g plus the hga7t is a perfect solutio...       1\n",
       "3  i dont especially like how music files are uns...       0\n",
       "4  i was using the cheapie pail ... and it worked...       1"
      ]
     },
     "execution_count": 15,
     "metadata": {},
     "output_type": "execute_result"
    }
   ],
   "source": [
    "train.head()"
   ]
  },
  {
   "cell_type": "code",
   "execution_count": 5,
   "metadata": {
    "collapsed": true
   },
   "outputs": [],
   "source": [
    "test = pd.read_csv('data/products_sentiment_test.tsv', sep='\\t', header=0, names=['text'])"
   ]
  },
  {
   "cell_type": "code",
   "execution_count": 19,
   "metadata": {},
   "outputs": [
    {
     "data": {
      "text/html": [
       "<div>\n",
       "<style>\n",
       "    .dataframe thead tr:only-child th {\n",
       "        text-align: right;\n",
       "    }\n",
       "\n",
       "    .dataframe thead th {\n",
       "        text-align: left;\n",
       "    }\n",
       "\n",
       "    .dataframe tbody tr th {\n",
       "        vertical-align: top;\n",
       "    }\n",
       "</style>\n",
       "<table border=\"1\" class=\"dataframe\">\n",
       "  <thead>\n",
       "    <tr style=\"text-align: right;\">\n",
       "      <th></th>\n",
       "      <th>text</th>\n",
       "    </tr>\n",
       "  </thead>\n",
       "  <tbody>\n",
       "    <tr>\n",
       "      <th>0</th>\n",
       "      <td>so , why the small digital elph , rather than ...</td>\n",
       "    </tr>\n",
       "    <tr>\n",
       "      <th>1</th>\n",
       "      <td>3/4 way through the first disk we played on it...</td>\n",
       "    </tr>\n",
       "    <tr>\n",
       "      <th>2</th>\n",
       "      <td>better for the zen micro is outlook compatibil...</td>\n",
       "    </tr>\n",
       "    <tr>\n",
       "      <th>3</th>\n",
       "      <td>6 . play gameboy color games on it with goboy .</td>\n",
       "    </tr>\n",
       "    <tr>\n",
       "      <th>4</th>\n",
       "      <td>likewise , i 've heard norton 2004 professiona...</td>\n",
       "    </tr>\n",
       "  </tbody>\n",
       "</table>\n",
       "</div>"
      ],
      "text/plain": [
       "                                                text\n",
       "0  so , why the small digital elph , rather than ...\n",
       "1  3/4 way through the first disk we played on it...\n",
       "2  better for the zen micro is outlook compatibil...\n",
       "3    6 . play gameboy color games on it with goboy .\n",
       "4  likewise , i 've heard norton 2004 professiona..."
      ]
     },
     "execution_count": 19,
     "metadata": {},
     "output_type": "execute_result"
    }
   ],
   "source": [
    "test.head()"
   ]
  },
  {
   "cell_type": "markdown",
   "metadata": {},
   "source": [
    "Выпишем итоги предыдущих недель, когда мы настраивали параметры:\n",
    "1. **vectorizer**: CountVectorizer() / TfidfVectorizer(): 0.841 / 0.821 --> **CountVectorizer()**\n",
    "2. **min_df** у CountVectorizer: 1 (default) / 10 / 50: 0.841/0.839/0.813 --> **1 (default)**\n",
    "3. **классификатор**: LogisticRegression / LinearSVC / SGDClassifier: 0.841 / 0.833 / 0.784 --> **LogisticRegression**\n",
    "4. **стоп-слова**: nltk.corpus.stopwords.words('english') / 'english': 0.8415 / 0,839 --> **nltk.corpus.stopwords.words('english')**\n",
    "5. **ngramm**: (1, 2), analyzer='word' (default) / (3, 5), analyzer='char_wb': 0.853 / 0.82 --> **(1, 2), analyzer='word'** (default)\n",
    "\n",
    "Сделаем предсказание с учетом этих параметров и отошлем на **Kaggle**"
   ]
  },
  {
   "cell_type": "code",
   "execution_count": 24,
   "metadata": {},
   "outputs": [
    {
     "name": "stdout",
     "output_type": "stream",
     "text": [
      "Wall time: 843 ms\n"
     ]
    }
   ],
   "source": [
    "%%time\n",
    "CountVect = CountVectorizer(stop_words=stopwords.words('english'), ngram_range=(1, 2))\n",
    "logit = LogisticRegression()\n",
    "CountVect_logit = Pipeline([('CountVect', CountVect), ('logit', logit)])\n",
    "pred = CountVect_logit.fit(train['text'], train['target']).predict(test['text'])"
   ]
  },
  {
   "cell_type": "code",
   "execution_count": 33,
   "metadata": {
    "collapsed": true
   },
   "outputs": [],
   "source": [
    "write_submission('submiss_param_week12.csv', pred)"
   ]
  },
  {
   "cell_type": "markdown",
   "metadata": {},
   "source": [
    "**Kaggle:** 0.77749    \n",
    "Ок, отправная точка ясна )   \n",
    "\n",
    "Будем подбирать параметры"
   ]
  },
  {
   "cell_type": "markdown",
   "metadata": {},
   "source": [
    "Для начала посмотрим, чему равна **accuracy** на **кросс-валидации** при выбранных выше параметрах"
   ]
  },
  {
   "cell_type": "code",
   "execution_count": 83,
   "metadata": {},
   "outputs": [
    {
     "name": "stdout",
     "output_type": "stream",
     "text": [
      "cv_acc_score = 0.748498134363\n",
      "Wall time: 825 ms\n"
     ]
    }
   ],
   "source": [
    "%%time\n",
    "CountVect = CountVectorizer(stop_words=stopwords.words('english'), ngram_range=(1, 2))\n",
    "logit = LogisticRegression()\n",
    "CountVect_logit = Pipeline([('CountVect', CountVect), ('logit', logit)])\n",
    "cv_acc_score = cross_val_score(CountVect_logit, train['text'], train['target'], cv=5).mean()\n",
    "print('cv_acc_score =', cv_acc_score)"
   ]
  },
  {
   "cell_type": "markdown",
   "metadata": {},
   "source": [
    "Попробуем **ngram_range=(1, 3)**:"
   ]
  },
  {
   "cell_type": "code",
   "execution_count": 84,
   "metadata": {},
   "outputs": [
    {
     "name": "stdout",
     "output_type": "stream",
     "text": [
      "cv_acc_score = 0.747495634348\n",
      "Wall time: 1.22 s\n"
     ]
    }
   ],
   "source": [
    "%%time\n",
    "CountVect = CountVectorizer(stop_words=stopwords.words('english'), ngram_range=(1, 3))\n",
    "logit = LogisticRegression()\n",
    "CountVect_logit = Pipeline([('CountVect', CountVect), ('logit', logit)])\n",
    "cv_acc_score = cross_val_score(CountVect_logit, train['text'], train['target'], cv=5).mean()\n",
    "print('cv_acc_score =', cv_acc_score)"
   ]
  },
  {
   "cell_type": "markdown",
   "metadata": {},
   "source": [
    "Эффекта нет"
   ]
  },
  {
   "cell_type": "markdown",
   "metadata": {},
   "source": [
    "Попробуем подбор параметров с помощью **hyperopt** (хотя здесь, наверное, и **GreadSearch** хватило бы)"
   ]
  },
  {
   "cell_type": "code",
   "execution_count": 41,
   "metadata": {
    "collapsed": true
   },
   "outputs": [],
   "source": [
    "from hyperopt import fmin, tpe, hp, STATUS_OK, Trials"
   ]
  },
  {
   "cell_type": "code",
   "execution_count": 112,
   "metadata": {},
   "outputs": [
    {
     "name": "stdout",
     "output_type": "stream",
     "text": [
      "{'C': 0.425966259859712} accuracy_hyp = 0.7524943937149609\n",
      "Wall time: 44 s\n"
     ]
    }
   ],
   "source": [
    "%%time\n",
    "\n",
    "# задаем предобработку и классификатор\n",
    "CountVect = CountVectorizer(stop_words=stopwords.words('english'), ngram_range=(1, 2))\n",
    "logit = LogisticRegression()\n",
    "CountVect_logit = Pipeline([('CountVect', CountVect), ('logit', logit)])\n",
    "\n",
    "# задаем функцию для опримизации\n",
    "def hyperopt_objective(params):\n",
    "    cv_acc_score = cross_val_score(CountVect_logit.set_params(logit__C=params['C']), train['text'], train['target'], cv=5).mean()\n",
    "    \n",
    "    return {'loss': - cv_acc_score, 'status': STATUS_OK}\n",
    "\n",
    "# задаем диапазоны подбора параметров\n",
    "params_space = {\n",
    "    'C': hp.loguniform('C', -4, 4), # default = 1.0\n",
    "                }\n",
    "\n",
    "# запускаем подбор\n",
    "trials = Trials()\n",
    "\n",
    "best_params = fmin(\n",
    "    hyperopt_objective,\n",
    "    space=params_space,\n",
    "    algo=tpe.suggest,\n",
    "    max_evals=50,\n",
    "    trials=trials\n",
    ")\n",
    "\n",
    "accuracy_hyp = - trials.best_trial['result']['loss']\n",
    "print(best_params, 'accuracy_hyp =', accuracy_hyp)"
   ]
  },
  {
   "cell_type": "markdown",
   "metadata": {},
   "source": [
    "**accuracy** немного улучшилась. Применим полученные параметры и сделаем посылку на **Kaggle**:"
   ]
  },
  {
   "cell_type": "code",
   "execution_count": 113,
   "metadata": {},
   "outputs": [
    {
     "name": "stdout",
     "output_type": "stream",
     "text": [
      "Wall time: 201 ms\n"
     ]
    }
   ],
   "source": [
    "%%time\n",
    "CountVect = CountVectorizer(stop_words=stopwords.words('english'), ngram_range=(1, 2))\n",
    "logit = LogisticRegression()\n",
    "CountVect_logit = Pipeline([('CountVect', CountVect), ('logit', logit)])\n",
    "pred = CountVect_logit.set_params(logit__C=best_params['C']).fit(train['text'], train['target']).predict(test['text'])\n",
    "write_submission('submiss_C_hyper.csv', pred)"
   ]
  },
  {
   "cell_type": "markdown",
   "metadata": {},
   "source": [
    "**Kaggle:** 0.77750    \n",
    "Особого улучшения пока нет"
   ]
  },
  {
   "cell_type": "markdown",
   "metadata": {},
   "source": [
    "Пробуем **TfidfVectorizer** с **analyzer='char', ngram_range=(3, 7)** и подбираем параметры через **GridSearchCV**"
   ]
  },
  {
   "cell_type": "code",
   "execution_count": 223,
   "metadata": {},
   "outputs": [
    {
     "name": "stdout",
     "output_type": "stream",
     "text": [
      "{'C': 8.8899999999999988} best accuracy = 0.7755\n",
      "Wall time: 1min 13s\n"
     ]
    }
   ],
   "source": [
    "%%time\n",
    "\n",
    "# задаем предобработку и классификатор\n",
    "vectorizer = TfidfVectorizer(stop_words=stopwords.words('english'), analyzer='char', ngram_range=(3, 7))\n",
    "X_train = vectorizer.fit_transform(train['text'])\n",
    "y_train = train['target']\n",
    "clf = LogisticRegression()\n",
    "\n",
    "param_grid = {\n",
    "              'C': np.linspace(0.01, 10, 100)             \n",
    "             }\n",
    "\n",
    "gridsearch = GridSearchCV(clf, param_grid, scoring='accuracy')\n",
    "gridsearch.fit(X_train, y_train)\n",
    "\n",
    "print(gridsearch.best_params_, 'best accuracy =', gridsearch.best_score_)"
   ]
  },
  {
   "cell_type": "code",
   "execution_count": 224,
   "metadata": {},
   "outputs": [
    {
     "name": "stdout",
     "output_type": "stream",
     "text": [
      "Wall time: 357 ms\n"
     ]
    }
   ],
   "source": [
    "%%time\n",
    "X_test = vectorizer.transform(test['text'])\n",
    "pred = gridsearch.best_estimator_.predict(X_test)\n",
    "write_submission('submiss_Tfidf_LR_C.csv', pred)"
   ]
  },
  {
   "cell_type": "markdown",
   "metadata": {
    "collapsed": true
   },
   "source": [
    "**Kaggle:** 0.80500   \n",
    "ну вот и хорошо, **Simple benchmark** прошли!"
   ]
  },
  {
   "cell_type": "markdown",
   "metadata": {},
   "source": [
    "Посмотрим балансировку классов:"
   ]
  },
  {
   "cell_type": "code",
   "execution_count": 6,
   "metadata": {},
   "outputs": [
    {
     "data": {
      "text/plain": [
       "1    1274\n",
       "0     726\n",
       "Name: target, dtype: int64"
      ]
     },
     "execution_count": 6,
     "metadata": {},
     "output_type": "execute_result"
    }
   ],
   "source": [
    "train['target'].value_counts()"
   ]
  },
  {
   "cell_type": "markdown",
   "metadata": {},
   "source": [
    "Подберем параметры более аккуратно, учтя при этом **балансировку** классов:"
   ]
  },
  {
   "cell_type": "code",
   "execution_count": 7,
   "metadata": {},
   "outputs": [
    {
     "name": "stdout",
     "output_type": "stream",
     "text": [
      "{'C': 0.0025950242113997372} best accuracy = 0.791\n",
      "Wall time: 7min 39s\n"
     ]
    }
   ],
   "source": [
    "%%time\n",
    "\n",
    "# задаем предобработку и классификатор\n",
    "vectorizer = CountVectorizer(stop_words=stopwords.words('english'), analyzer='char', ngram_range=(3, 10))\n",
    "X_train = vectorizer.fit_transform(train['text'])\n",
    "y_train = train['target']\n",
    "clf = LogisticRegression(class_weight='balanced', random_state=17)\n",
    "\n",
    "param_grid = {\n",
    "              'C': np.logspace(-4, 3, 100)             \n",
    "             }\n",
    "\n",
    "gridsearch = GridSearchCV(clf, param_grid, scoring='accuracy', n_jobs=-1)\n",
    "gridsearch.fit(X_train, y_train)\n",
    "\n",
    "print(gridsearch.best_params_, 'best accuracy =', gridsearch.best_score_)"
   ]
  },
  {
   "cell_type": "markdown",
   "metadata": {},
   "source": [
    "Что еще можно сделать:\n",
    "- xgboost\n",
    "- предобработка текста"
   ]
  },
  {
   "cell_type": "code",
   "execution_count": 9,
   "metadata": {},
   "outputs": [
    {
     "name": "stderr",
     "output_type": "stream",
     "text": [
      "C:\\ProgramData\\Anaconda3\\lib\\site-packages\\sklearn\\linear_model\\stochastic_gradient.py:117: DeprecationWarning: n_iter parameter is deprecated in 0.19 and will be removed in 0.21. Use max_iter and tol instead.\n",
      "  DeprecationWarning)\n",
      "C:\\ProgramData\\Anaconda3\\lib\\site-packages\\sklearn\\linear_model\\stochastic_gradient.py:117: DeprecationWarning: n_iter parameter is deprecated in 0.19 and will be removed in 0.21. Use max_iter and tol instead.\n",
      "  DeprecationWarning)\n",
      "C:\\ProgramData\\Anaconda3\\lib\\site-packages\\sklearn\\linear_model\\stochastic_gradient.py:117: DeprecationWarning: n_iter parameter is deprecated in 0.19 and will be removed in 0.21. Use max_iter and tol instead.\n",
      "  DeprecationWarning)\n",
      "C:\\ProgramData\\Anaconda3\\lib\\site-packages\\sklearn\\linear_model\\stochastic_gradient.py:117: DeprecationWarning: n_iter parameter is deprecated in 0.19 and will be removed in 0.21. Use max_iter and tol instead.\n",
      "  DeprecationWarning)\n",
      "C:\\ProgramData\\Anaconda3\\lib\\site-packages\\sklearn\\linear_model\\stochastic_gradient.py:117: DeprecationWarning: n_iter parameter is deprecated in 0.19 and will be removed in 0.21. Use max_iter and tol instead.\n",
      "  DeprecationWarning)\n"
     ]
    },
    {
     "name": "stdout",
     "output_type": "stream",
     "text": [
      "accuracy_text = 0.744995609348\n"
     ]
    }
   ],
   "source": [
    "vectorizer = CountVectorizer(stop_words=stopwords.words('english'), analyzer='char', ngram_range=(3, 10))\n",
    "transformer = TfidfTransformer()\n",
    "clf = SGDClassifier(loss='hinge', penalty='l2', alpha=1e-3, n_iter=5, random_state=17)\n",
    "text_clf = Pipeline([('vectorizer', vectorizer),\n",
    "                     ('transformer', transformer),\n",
    "                     ('clf', clf)])\n",
    "\n",
    "accuracy_text = cross_val_score(text_clf, train['text'], train['target'], cv=5).mean()\n",
    "print('accuracy_text =', accuracy_text)"
   ]
  },
  {
   "cell_type": "markdown",
   "metadata": {},
   "source": [
    "Сделаем посылку с полученным **последним наилучшим результатом:    \n",
    "{'C': 0.0025950242113997372} best accuracy = 0.791**"
   ]
  },
  {
   "cell_type": "code",
   "execution_count": 11,
   "metadata": {},
   "outputs": [
    {
     "name": "stdout",
     "output_type": "stream",
     "text": [
      "Wall time: 7.79 s\n"
     ]
    }
   ],
   "source": [
    "%%time\n",
    "vectorizer = CountVectorizer(stop_words=stopwords.words('english'), analyzer='char', ngram_range=(3, 10))\n",
    "X_train = vectorizer.fit_transform(train['text'])\n",
    "X_test = vectorizer.transform(test['text'])\n",
    "y_train = train['target']\n",
    "clf = LogisticRegression(class_weight='balanced', C=0.093260334688321997, random_state=17)\n",
    "\n",
    "pred = clf.fit(X_train, y_train).predict(X_test)\n",
    "write_submission('submiss_LR_C093_bal_corr.csv', pred)"
   ]
  },
  {
   "cell_type": "markdown",
   "metadata": {},
   "source": [
    "Крайний вариант дал **Kaggle: 0.82250**   \n",
    "\n",
    "**Краткий анализ того, что получилось.**  \n",
    "Максимальный результат на сегодня получился при подборе 'С' без баланса, но при посылке на Kaggle при этом баланс **учитывали**. \n",
    "\n",
    "Этому предшествовали:    \n",
    "подбор на \"балансе\" дал `cv_score` **выше** подбора без баланса (**0.791** против **0.784**), но результат на Kaggle при этом получился **хуже** (**0.80750** против **0.81000**). А такая вот \"перекрестная\" посылка оказалась лучше! Вот такой неожиданный вывод."
   ]
  },
  {
   "cell_type": "markdown",
   "metadata": {},
   "source": [
    "## Поработаем с предобработкой текста"
   ]
  },
  {
   "cell_type": "markdown",
   "metadata": {},
   "source": [
    "Для этого импортируем пакет для **стемминга**, то есть приведения всех слов к стандартному виду"
   ]
  },
  {
   "cell_type": "code",
   "execution_count": 17,
   "metadata": {},
   "outputs": [
    {
     "name": "stdout",
     "output_type": "stream",
     "text": [
      "danish dutch english finnish french german hungarian italian norwegian porter portuguese romanian russian spanish swedish\n"
     ]
    }
   ],
   "source": [
    "from nltk.stem import SnowballStemmer\n",
    "print(\" \".join(SnowballStemmer.languages))"
   ]
  },
  {
   "cell_type": "code",
   "execution_count": 34,
   "metadata": {},
   "outputs": [
    {
     "name": "stdout",
     "output_type": "stream",
     "text": [
      "сделаем посылку с^ : полученным последним наилучшим результат\n"
     ]
    }
   ],
   "source": [
    "# пробуем\n",
    "stemmer_ru = SnowballStemmer('russian')\n",
    "print(stemmer_ru.stem('Сделаем посылку с^ : полученным последним наилучшим результатом'))"
   ]
  },
  {
   "cell_type": "code",
   "execution_count": 38,
   "metadata": {},
   "outputs": [
    {
     "name": "stdout",
     "output_type": "stream",
     "text": [
      "{'C': 0.035111917342151307} best accuracy = 0.7835\n",
      "Wall time: 6min 9s\n"
     ]
    }
   ],
   "source": [
    "%%time\n",
    "\n",
    "# задаем предобработку и классификатор\n",
    "vectorizer = CountVectorizer(stop_words=stopwords.words('english'), analyzer='char', ngram_range=(3, 10))\n",
    "stemmer = SnowballStemmer('english') # создаем класс для приведения слов к стандартному виду\n",
    "X_train = vectorizer.fit_transform(train['text'].apply(lambda s: stemmer.stem(s)))\n",
    "y_train = train['target']\n",
    "clf = LogisticRegression(random_state=17)\n",
    "\n",
    "param_grid = {\n",
    "              'C': np.logspace(-4, 3, 100)             \n",
    "             }\n",
    "\n",
    "gridsearch = GridSearchCV(clf, param_grid, scoring='accuracy', n_jobs=-1)\n",
    "gridsearch.fit(X_train, y_train)\n",
    "\n",
    "print(gridsearch.best_params_, 'best accuracy =', gridsearch.best_score_)"
   ]
  },
  {
   "cell_type": "markdown",
   "metadata": {},
   "source": [
    "Да..., пока стемминг улучшений не внес..."
   ]
  },
  {
   "cell_type": "markdown",
   "metadata": {},
   "source": [
    "Попробуем убрать знаки препинания (некоторые, не все:   \n",
    "**)(!?** - оставляем, они могут тоже выражать настроение)"
   ]
  },
  {
   "cell_type": "code",
   "execution_count": 102,
   "metadata": {},
   "outputs": [
    {
     "data": {
      "text/plain": [
       "0                take around           x    pictures  \n",
       "1    i downloaded a trial version of computer assoc...\n",
       "Name: text, dtype: object"
      ]
     },
     "execution_count": 102,
     "metadata": {},
     "output_type": "execute_result"
    }
   ],
   "source": [
    "import re\n",
    "# тестируем\n",
    "train['text'].head(2).apply(lambda s: re.sub(r'[0-9.,:/)(#\\']', ' ', s))\n",
    "# train['text'].head(2).apply(lambda s: re.sub('\\w', '', s))"
   ]
  },
  {
   "cell_type": "code",
   "execution_count": 91,
   "metadata": {},
   "outputs": [
    {
     "name": "stdout",
     "output_type": "stream",
     "text": [
      "{'C': 0.048626015800653531} best accuracy = 0.7825\n",
      "Wall time: 6min 15s\n"
     ]
    }
   ],
   "source": [
    "%%time\n",
    "\n",
    "# задаем предобработку и классификатор\n",
    "vectorizer = CountVectorizer(stop_words=stopwords.words('english'), analyzer='char', ngram_range=(3, 10))\n",
    "stemmer = SnowballStemmer('english') # создаем класс для приведения слов к стандартному виду\n",
    "X_train = vectorizer.fit_transform(train['text'].apply(lambda s: stemmer.stem(re.sub(r'[.,:/#\\']', '', s))))\n",
    "y_train = train['target']\n",
    "clf = LogisticRegression(random_state=17)\n",
    "\n",
    "param_grid = {\n",
    "              'C': np.logspace(-4, 3, 100)             \n",
    "             }\n",
    "\n",
    "gridsearch = GridSearchCV(clf, param_grid, scoring='accuracy', n_jobs=-1)\n",
    "gridsearch.fit(X_train, y_train)\n",
    "\n",
    "print(gridsearch.best_params_, 'best accuracy =', gridsearch.best_score_)"
   ]
  },
  {
   "cell_type": "markdown",
   "metadata": {},
   "source": [
    "## Поработаем с XGBoost"
   ]
  },
  {
   "cell_type": "code",
   "execution_count": 98,
   "metadata": {},
   "outputs": [
    {
     "name": "stdout",
     "output_type": "stream",
     "text": [
      "accuracy_text = 0.73001037019\n",
      "Wall time: 3min 58s\n"
     ]
    }
   ],
   "source": [
    "%%time\n",
    "# задаем предобработку и классификатор\n",
    "vectorizer = CountVectorizer(stop_words=stopwords.words('english'), analyzer='char', ngram_range=(3, 10))\n",
    "X_train = vectorizer.fit_transform(train['text'])\n",
    "y_train = train['target']\n",
    "clf = xgb.XGBClassifier(random_state=17)\n",
    "\n",
    "accuracy_text = cross_val_score(clf, X_train, y_train).mean()\n",
    "print('accuracy_text =', accuracy_text)"
   ]
  },
  {
   "cell_type": "markdown",
   "metadata": {},
   "source": [
    "На дефолтных параметрах результат невысокий и считается достаточно долго ==> подбор будет тоже долгий. Пока оставим как есть.   \n",
    "**Итого:**   \n",
    "максимальный результат на **Kaggle - 0.82250** (это скорректированный, изначально был 0.81000)    \n",
    "Скриншот соревнования на **Kaggle:** https://prnt.sc/ie5baj"
   ]
  },
  {
   "cell_type": "markdown",
   "metadata": {},
   "source": [
    "## Попробуем НАИВНЫЙ БАЙЕС"
   ]
  },
  {
   "cell_type": "code",
   "execution_count": 12,
   "metadata": {
    "collapsed": true
   },
   "outputs": [],
   "source": [
    "from sklearn.naive_bayes import MultinomialNB"
   ]
  },
  {
   "cell_type": "code",
   "execution_count": 17,
   "metadata": {},
   "outputs": [
    {
     "name": "stdout",
     "output_type": "stream",
     "text": [
      "accuracy_text = 0.792497895197\n",
      "Wall time: 5.74 s\n"
     ]
    }
   ],
   "source": [
    "%%time\n",
    "# задаем предобработку и классификатор\n",
    "vectorizer = CountVectorizer(stop_words=stopwords.words('english'), analyzer='char', ngram_range=(3, 10))\n",
    "X_train = vectorizer.fit_transform(train['text'])\n",
    "y_train = train['target']\n",
    "clf = MultinomialNB(fit_prior=True)\n",
    "\n",
    "accuracy_text = cross_val_score(clf, X_train, y_train).mean()\n",
    "print('accuracy_text =', accuracy_text)"
   ]
  },
  {
   "cell_type": "markdown",
   "metadata": {},
   "source": [
    "То же, с **предобработкой текста**"
   ]
  },
  {
   "cell_type": "code",
   "execution_count": 103,
   "metadata": {},
   "outputs": [
    {
     "name": "stdout",
     "output_type": "stream",
     "text": [
      "accuracy_text = 0.79149614382\n",
      "Wall time: 5.9 s\n"
     ]
    }
   ],
   "source": [
    "%%time\n",
    "# задаем предобработку и классификатор\n",
    "vectorizer = CountVectorizer(stop_words=stopwords.words('english'), analyzer='char', ngram_range=(3, 10))\n",
    "stemmer = SnowballStemmer('english') # создаем класс для приведения слов к стандартному виду\n",
    "X_train = vectorizer.fit_transform(train['text'].apply(lambda s: stemmer.stem(re.sub(r'[.,:/#\\'%@$^&*-+<>]', ' ', s))))\n",
    "y_train = train['target']\n",
    "clf = MultinomialNB(fit_prior=True)\n",
    "\n",
    "accuracy_text = cross_val_score(clf, X_train, y_train).mean()\n",
    "print('accuracy_text =', accuracy_text)"
   ]
  },
  {
   "cell_type": "markdown",
   "metadata": {},
   "source": [
    "Не улучшился"
   ]
  },
  {
   "cell_type": "markdown",
   "metadata": {},
   "source": [
    "**Вспомогательная функция для отрисовки кривых валидации после запуска GridSearchCV (или RandomizedCV)**"
   ]
  },
  {
   "cell_type": "code",
   "execution_count": 18,
   "metadata": {
    "collapsed": true
   },
   "outputs": [],
   "source": [
    "def plot_validation_curves(param_values, grid_cv_results_):\n",
    "    train_mu, train_std = grid_cv_results_['mean_train_score'], grid_cv_results_['std_train_score']\n",
    "    valid_mu, valid_std = grid_cv_results_['mean_test_score'], grid_cv_results_['std_test_score']\n",
    "    train_line = plt.plot(param_values, train_mu, '-', label='train', color='green')\n",
    "    valid_line = plt.plot(param_values, valid_mu, '-', label='test', color='red')\n",
    "    plt.fill_between(param_values, train_mu - train_std, train_mu + train_std, edgecolor='none',\n",
    "                     facecolor=train_line[0].get_color(), alpha=0.2)\n",
    "    plt.fill_between(param_values, valid_mu - valid_std, valid_mu + valid_std, edgecolor='none',\n",
    "                     facecolor=valid_line[0].get_color(), alpha=0.2)\n",
    "    plt.legend()"
   ]
  },
  {
   "cell_type": "code",
   "execution_count": 42,
   "metadata": {},
   "outputs": [
    {
     "name": "stdout",
     "output_type": "stream",
     "text": [
      "{'alpha': 0.96551724143103457} best accuracy = 0.792\n",
      "Wall time: 22.9 s\n"
     ]
    }
   ],
   "source": [
    "%%time\n",
    "\n",
    "# задаем предобработку и классификатор\n",
    "vectorizer = CountVectorizer(stop_words=stopwords.words('english'), analyzer='char', ngram_range=(3, 10))\n",
    "# stemmer = SnowballStemmer('english') # создаем класс для приведения слов к стандартному виду\n",
    "# X_train = vectorizer.fit_transform(train['text'].apply(lambda s: stemmer.stem(re.sub(r'[.,:/#\\']', '', s))))\n",
    "X_train = vectorizer.fit_transform(train['text'])\n",
    "y_train = train['target']\n",
    "clf = MultinomialNB()\n",
    "\n",
    "param_grid = {\n",
    "              'alpha': np.linspace(1e-10, 2, 30)             \n",
    "             }\n",
    "\n",
    "gridsearch = GridSearchCV(clf, param_grid, scoring='accuracy', return_train_score = True)\n",
    "gridsearch.fit(X_train, y_train)\n",
    "\n",
    "print(gridsearch.best_params_, 'best accuracy =', gridsearch.best_score_)"
   ]
  },
  {
   "cell_type": "code",
   "execution_count": 43,
   "metadata": {},
   "outputs": [
    {
     "data": {
      "image/png": "[encoded data removed]",
      "text/plain": [
       "<matplotlib.figure.Figure at 0x1ae833decf8>"
      ]
     },
     "metadata": {},
     "output_type": "display_data"
    }
   ],
   "source": [
    "plot_validation_curves(param_grid['alpha'], gridsearch.cv_results_)"
   ]
  },
  {
   "cell_type": "markdown",
   "metadata": {},
   "source": [
    "**Вывод по Наивному Байесу:**    \n",
    "Результат выше, чем у других классификаторов, наилучшее значение - при дефолтных параметрах.    \n",
    "Делаем посылку на Kaggle"
   ]
  },
  {
   "cell_type": "code",
   "execution_count": 37,
   "metadata": {},
   "outputs": [
    {
     "name": "stdout",
     "output_type": "stream",
     "text": [
      "Wall time: 6.07 s\n"
     ]
    }
   ],
   "source": [
    "%%time\n",
    "vectorizer = CountVectorizer(stop_words=stopwords.words('english'), analyzer='char', ngram_range=(3, 10))\n",
    "X_train = vectorizer.fit_transform(train['text'])\n",
    "X_test = vectorizer.transform(test['text'])\n",
    "y_train = train['target']\n",
    "clf = MultinomialNB()\n",
    "\n",
    "pred = clf.fit(X_train, y_train).predict(X_test)\n",
    "write_submission('submiss_NB_def.csv', pred)"
   ]
  },
  {
   "cell_type": "markdown",
   "metadata": {},
   "source": [
    "**Kaggle:** 0.78250"
   ]
  },
  {
   "cell_type": "markdown",
   "metadata": {},
   "source": [
    "#### потестируем замену в регулярных выражениях"
   ]
  },
  {
   "cell_type": "code",
   "execution_count": 134,
   "metadata": {},
   "outputs": [
    {
     "data": {
      "text/plain": [
       "'    snakeproject ru rubric article php art python reg exp'"
      ]
     },
     "execution_count": 134,
     "metadata": {},
     "output_type": "execute_result"
    }
   ],
   "source": [
    "re.sub(re.compile(r'http|[/:?.,_=]'), ' ', 'http://snakeproject.ru/rubric/article.php?art=python_reg_exp')"
   ]
  },
  {
   "cell_type": "markdown",
   "metadata": {},
   "source": [
    "здесь:    \n",
    "\"|\" в compile означает \"или\": или то, что слева (то есть http), или то что справа (то есть любой из символов в квадратных скобках)"
   ]
  },
  {
   "cell_type": "code",
   "execution_count": 135,
   "metadata": {},
   "outputs": [
    {
     "name": "stdout",
     "output_type": "stream",
     "text": [
      "1\\n2\n"
     ]
    }
   ],
   "source": [
    "print(r'1\\n2') # префикс r - сырые данные (то есть \"как есть\", не учитывая метасимволы)"
   ]
  },
  {
   "cell_type": "code",
   "execution_count": 3,
   "metadata": {},
   "outputs": [
    {
     "name": "stdout",
     "output_type": "stream",
     "text": [
      "1\n",
      "2\n"
     ]
    }
   ],
   "source": [
    "print('1\\n2')"
   ]
  },
  {
   "cell_type": "code",
   "execution_count": 18,
   "metadata": {},
   "outputs": [
    {
     "name": "stdout",
     "output_type": "stream",
     "text": [
      "False\n"
     ]
    }
   ],
   "source": [
    "a = None # в ифе - как Фальш\n",
    "if a:\n",
    "    print(True)\n",
    "else:\n",
    "    print(False)"
   ]
  }
 ],
 "metadata": {
  "kernelspec": {
   "display_name": "Python 3",
   "language": "python",
   "name": "python3"
  },
  "language_info": {
   "codemirror_mode": {
    "name": "ipython",
    "version": 3
   },
   "file_extension": ".py",
   "mimetype": "text/x-python",
   "name": "python",
   "nbconvert_exporter": "python",
   "pygments_lexer": "ipython3",
   "version": "3.6.3"
  }
 },
 "nbformat": 4,
 "nbformat_minor": 2
}
