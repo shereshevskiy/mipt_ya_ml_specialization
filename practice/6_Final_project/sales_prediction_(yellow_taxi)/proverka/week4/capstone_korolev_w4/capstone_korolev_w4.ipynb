{
 "cells": [
  {
   "cell_type": "code",
   "execution_count": 62,
   "metadata": {},
   "outputs": [],
   "source": [
    "%matplotlib inline\n",
    "import pandas as pd\n",
    "import numpy as np\n",
    "from statsmodels.tsa.statespace.sarimax import SARIMAXResults\n",
    "from sklearn.cluster import AgglomerativeClustering\n",
    "from sklearn.linear_model import  LinearRegression\n",
    "from numpy.linalg.linalg import LinAlgError\n",
    "from sklearn.decomposition import PCA\n",
    "from datetime import datetime\n",
    "from itertools import product\n",
    "from pylab import rcParams\n",
    "from scipy import stats\n",
    "from tqdm import tqdm \n",
    "import statsmodels.tsa.api as tsa\n",
    "from matplotlib import pyplot as plt\n",
    "from statsmodels import api as sm\n",
    "rcParams['figure.figsize'] = 18, 8"
   ]
  },
  {
   "cell_type": "markdown",
   "metadata": {},
   "source": [
    "Составьте из данных о поездках прямоугольную таблицу так, чтобы по строкам было время, а по столбцам идентификатор ячейки (возьмите только те, которые были отобраны на второй неделе."
   ]
  },
  {
   "cell_type": "code",
   "execution_count": 63,
   "metadata": {},
   "outputs": [
    {
     "data": {
      "text/html": [
       "<div>\n",
       "<style scoped>\n",
       "    .dataframe tbody tr th:only-of-type {\n",
       "        vertical-align: middle;\n",
       "    }\n",
       "\n",
       "    .dataframe tbody tr th {\n",
       "        vertical-align: top;\n",
       "    }\n",
       "\n",
       "    .dataframe thead th {\n",
       "        text-align: right;\n",
       "    }\n",
       "</style>\n",
       "<table border=\"1\" class=\"dataframe\">\n",
       "  <thead>\n",
       "    <tr style=\"text-align: right;\">\n",
       "      <th></th>\n",
       "      <th>1075</th>\n",
       "      <th>1076</th>\n",
       "      <th>1077</th>\n",
       "      <th>1125</th>\n",
       "      <th>1126</th>\n",
       "      <th>1127</th>\n",
       "      <th>1128</th>\n",
       "      <th>1129</th>\n",
       "      <th>1130</th>\n",
       "      <th>1131</th>\n",
       "      <th>...</th>\n",
       "      <th>1630</th>\n",
       "      <th>1684</th>\n",
       "      <th>1733</th>\n",
       "      <th>1734</th>\n",
       "      <th>1783</th>\n",
       "      <th>2068</th>\n",
       "      <th>2069</th>\n",
       "      <th>2118</th>\n",
       "      <th>2119</th>\n",
       "      <th>2168</th>\n",
       "    </tr>\n",
       "  </thead>\n",
       "  <tbody>\n",
       "    <tr>\n",
       "      <th>2016-01-01 00:00:00</th>\n",
       "      <td>80.0</td>\n",
       "      <td>144.0</td>\n",
       "      <td>50.0</td>\n",
       "      <td>77.0</td>\n",
       "      <td>319.0</td>\n",
       "      <td>402.0</td>\n",
       "      <td>531.0</td>\n",
       "      <td>617.0</td>\n",
       "      <td>846.0</td>\n",
       "      <td>267.0</td>\n",
       "      <td>...</td>\n",
       "      <td>12.0</td>\n",
       "      <td>0.0</td>\n",
       "      <td>2.0</td>\n",
       "      <td>44.0</td>\n",
       "      <td>5.0</td>\n",
       "      <td>41.0</td>\n",
       "      <td>4.0</td>\n",
       "      <td>70.0</td>\n",
       "      <td>7.0</td>\n",
       "      <td>66.0</td>\n",
       "    </tr>\n",
       "    <tr>\n",
       "      <th>2016-01-01 01:00:00</th>\n",
       "      <td>91.0</td>\n",
       "      <td>211.0</td>\n",
       "      <td>49.0</td>\n",
       "      <td>134.0</td>\n",
       "      <td>404.0</td>\n",
       "      <td>420.0</td>\n",
       "      <td>370.0</td>\n",
       "      <td>453.0</td>\n",
       "      <td>594.0</td>\n",
       "      <td>224.0</td>\n",
       "      <td>...</td>\n",
       "      <td>29.0</td>\n",
       "      <td>0.0</td>\n",
       "      <td>5.0</td>\n",
       "      <td>2.0</td>\n",
       "      <td>2.0</td>\n",
       "      <td>4.0</td>\n",
       "      <td>0.0</td>\n",
       "      <td>47.0</td>\n",
       "      <td>1.0</td>\n",
       "      <td>29.0</td>\n",
       "    </tr>\n",
       "    <tr>\n",
       "      <th>2016-01-01 02:00:00</th>\n",
       "      <td>90.0</td>\n",
       "      <td>146.0</td>\n",
       "      <td>23.0</td>\n",
       "      <td>110.0</td>\n",
       "      <td>393.0</td>\n",
       "      <td>425.0</td>\n",
       "      <td>313.0</td>\n",
       "      <td>366.0</td>\n",
       "      <td>377.0</td>\n",
       "      <td>138.0</td>\n",
       "      <td>...</td>\n",
       "      <td>47.0</td>\n",
       "      <td>0.0</td>\n",
       "      <td>3.0</td>\n",
       "      <td>0.0</td>\n",
       "      <td>4.0</td>\n",
       "      <td>0.0</td>\n",
       "      <td>0.0</td>\n",
       "      <td>69.0</td>\n",
       "      <td>1.0</td>\n",
       "      <td>14.0</td>\n",
       "    </tr>\n",
       "    <tr>\n",
       "      <th>2016-01-01 03:00:00</th>\n",
       "      <td>32.0</td>\n",
       "      <td>87.0</td>\n",
       "      <td>16.0</td>\n",
       "      <td>62.0</td>\n",
       "      <td>252.0</td>\n",
       "      <td>399.0</td>\n",
       "      <td>324.0</td>\n",
       "      <td>309.0</td>\n",
       "      <td>327.0</td>\n",
       "      <td>166.0</td>\n",
       "      <td>...</td>\n",
       "      <td>46.0</td>\n",
       "      <td>0.0</td>\n",
       "      <td>2.0</td>\n",
       "      <td>4.0</td>\n",
       "      <td>5.0</td>\n",
       "      <td>1.0</td>\n",
       "      <td>0.0</td>\n",
       "      <td>21.0</td>\n",
       "      <td>0.0</td>\n",
       "      <td>9.0</td>\n",
       "    </tr>\n",
       "    <tr>\n",
       "      <th>2016-01-01 04:00:00</th>\n",
       "      <td>24.0</td>\n",
       "      <td>43.0</td>\n",
       "      <td>10.0</td>\n",
       "      <td>53.0</td>\n",
       "      <td>145.0</td>\n",
       "      <td>254.0</td>\n",
       "      <td>264.0</td>\n",
       "      <td>333.0</td>\n",
       "      <td>318.0</td>\n",
       "      <td>145.0</td>\n",
       "      <td>...</td>\n",
       "      <td>43.0</td>\n",
       "      <td>0.0</td>\n",
       "      <td>0.0</td>\n",
       "      <td>1.0</td>\n",
       "      <td>1.0</td>\n",
       "      <td>0.0</td>\n",
       "      <td>0.0</td>\n",
       "      <td>26.0</td>\n",
       "      <td>1.0</td>\n",
       "      <td>6.0</td>\n",
       "    </tr>\n",
       "  </tbody>\n",
       "</table>\n",
       "<p>5 rows × 102 columns</p>\n",
       "</div>"
      ],
      "text/plain": [
       "                     1075   1076  1077   1125   1126   1127   1128   1129  \\\n",
       "2016-01-01 00:00:00  80.0  144.0  50.0   77.0  319.0  402.0  531.0  617.0   \n",
       "2016-01-01 01:00:00  91.0  211.0  49.0  134.0  404.0  420.0  370.0  453.0   \n",
       "2016-01-01 02:00:00  90.0  146.0  23.0  110.0  393.0  425.0  313.0  366.0   \n",
       "2016-01-01 03:00:00  32.0   87.0  16.0   62.0  252.0  399.0  324.0  309.0   \n",
       "2016-01-01 04:00:00  24.0   43.0  10.0   53.0  145.0  254.0  264.0  333.0   \n",
       "\n",
       "                      1130   1131  ...   1630  1684  1733  1734  1783  2068  \\\n",
       "2016-01-01 00:00:00  846.0  267.0  ...   12.0   0.0   2.0  44.0   5.0  41.0   \n",
       "2016-01-01 01:00:00  594.0  224.0  ...   29.0   0.0   5.0   2.0   2.0   4.0   \n",
       "2016-01-01 02:00:00  377.0  138.0  ...   47.0   0.0   3.0   0.0   4.0   0.0   \n",
       "2016-01-01 03:00:00  327.0  166.0  ...   46.0   0.0   2.0   4.0   5.0   1.0   \n",
       "2016-01-01 04:00:00  318.0  145.0  ...   43.0   0.0   0.0   1.0   1.0   0.0   \n",
       "\n",
       "                     2069  2118  2119  2168  \n",
       "2016-01-01 00:00:00   4.0  70.0   7.0  66.0  \n",
       "2016-01-01 01:00:00   0.0  47.0   1.0  29.0  \n",
       "2016-01-01 02:00:00   0.0  69.0   1.0  14.0  \n",
       "2016-01-01 03:00:00   0.0  21.0   0.0   9.0  \n",
       "2016-01-01 04:00:00   0.0  26.0   1.0   6.0  \n",
       "\n",
       "[5 rows x 102 columns]"
      ]
     },
     "execution_count": 63,
     "metadata": {},
     "output_type": "execute_result"
    }
   ],
   "source": [
    "df = pd.read_csv('train_w4.csv', index_col=0, parse_dates=[0])\n",
    "df.head()"
   ]
  },
  {
   "cell_type": "markdown",
   "metadata": {},
   "source": [
    "Перед проведением кластеризации стандартизуйте столбцы (вычтите выборочное среднее и поделите на выборочную дисперсию). Это необходимо, поскольку при выборе модели ARIMA имеет значение только форма ряда, но не его средний уровень и размах колебаний."
   ]
  },
  {
   "cell_type": "code",
   "execution_count": 4,
   "metadata": {},
   "outputs": [
    {
     "data": {
      "text/html": [
       "<div>\n",
       "<style scoped>\n",
       "    .dataframe tbody tr th:only-of-type {\n",
       "        vertical-align: middle;\n",
       "    }\n",
       "\n",
       "    .dataframe tbody tr th {\n",
       "        vertical-align: top;\n",
       "    }\n",
       "\n",
       "    .dataframe thead th {\n",
       "        text-align: right;\n",
       "    }\n",
       "</style>\n",
       "<table border=\"1\" class=\"dataframe\">\n",
       "  <thead>\n",
       "    <tr style=\"text-align: right;\">\n",
       "      <th></th>\n",
       "      <th>1075</th>\n",
       "      <th>1076</th>\n",
       "      <th>1077</th>\n",
       "      <th>1125</th>\n",
       "      <th>1126</th>\n",
       "      <th>1127</th>\n",
       "      <th>1128</th>\n",
       "      <th>1129</th>\n",
       "      <th>1130</th>\n",
       "      <th>1131</th>\n",
       "      <th>...</th>\n",
       "      <th>1630</th>\n",
       "      <th>1684</th>\n",
       "      <th>1733</th>\n",
       "      <th>1734</th>\n",
       "      <th>1783</th>\n",
       "      <th>2068</th>\n",
       "      <th>2069</th>\n",
       "      <th>2118</th>\n",
       "      <th>2119</th>\n",
       "      <th>2168</th>\n",
       "    </tr>\n",
       "  </thead>\n",
       "  <tbody>\n",
       "    <tr>\n",
       "      <th>2016-01-01 00:00:00</th>\n",
       "      <td>0.534241</td>\n",
       "      <td>0.178268</td>\n",
       "      <td>-0.565290</td>\n",
       "      <td>0.271008</td>\n",
       "      <td>1.423365</td>\n",
       "      <td>0.941171</td>\n",
       "      <td>1.327459</td>\n",
       "      <td>1.324730</td>\n",
       "      <td>1.906584</td>\n",
       "      <td>1.834661</td>\n",
       "      <td>...</td>\n",
       "      <td>1.550964</td>\n",
       "      <td>-0.883553</td>\n",
       "      <td>-0.571816</td>\n",
       "      <td>-1.047599</td>\n",
       "      <td>-1.251690</td>\n",
       "      <td>-0.786630</td>\n",
       "      <td>-0.681784</td>\n",
       "      <td>-0.821134</td>\n",
       "      <td>-0.855567</td>\n",
       "      <td>0.031375</td>\n",
       "    </tr>\n",
       "    <tr>\n",
       "      <th>2016-01-01 01:00:00</th>\n",
       "      <td>0.823251</td>\n",
       "      <td>1.005466</td>\n",
       "      <td>-0.582498</td>\n",
       "      <td>1.673565</td>\n",
       "      <td>2.292532</td>\n",
       "      <td>1.069110</td>\n",
       "      <td>0.407537</td>\n",
       "      <td>0.529737</td>\n",
       "      <td>0.846772</td>\n",
       "      <td>1.255014</td>\n",
       "      <td>...</td>\n",
       "      <td>5.252046</td>\n",
       "      <td>-0.883553</td>\n",
       "      <td>-0.069227</td>\n",
       "      <td>-1.325488</td>\n",
       "      <td>-1.275612</td>\n",
       "      <td>-1.423584</td>\n",
       "      <td>-1.171799</td>\n",
       "      <td>-1.125064</td>\n",
       "      <td>-1.089196</td>\n",
       "      <td>-0.930987</td>\n",
       "    </tr>\n",
       "    <tr>\n",
       "      <th>2016-01-01 02:00:00</th>\n",
       "      <td>0.796978</td>\n",
       "      <td>0.202960</td>\n",
       "      <td>-1.029900</td>\n",
       "      <td>1.083015</td>\n",
       "      <td>2.180052</td>\n",
       "      <td>1.104649</td>\n",
       "      <td>0.081851</td>\n",
       "      <td>0.108003</td>\n",
       "      <td>-0.065844</td>\n",
       "      <td>0.095721</td>\n",
       "      <td>...</td>\n",
       "      <td>9.170839</td>\n",
       "      <td>-0.883553</td>\n",
       "      <td>-0.404286</td>\n",
       "      <td>-1.338721</td>\n",
       "      <td>-1.259664</td>\n",
       "      <td>-1.492444</td>\n",
       "      <td>-1.171799</td>\n",
       "      <td>-0.834348</td>\n",
       "      <td>-1.089196</td>\n",
       "      <td>-1.321133</td>\n",
       "    </tr>\n",
       "    <tr>\n",
       "      <th>2016-01-01 03:00:00</th>\n",
       "      <td>-0.726896</td>\n",
       "      <td>-0.525467</td>\n",
       "      <td>-1.150354</td>\n",
       "      <td>-0.098086</td>\n",
       "      <td>0.738257</td>\n",
       "      <td>0.919848</td>\n",
       "      <td>0.144702</td>\n",
       "      <td>-0.168306</td>\n",
       "      <td>-0.276125</td>\n",
       "      <td>0.473165</td>\n",
       "      <td>...</td>\n",
       "      <td>8.953128</td>\n",
       "      <td>-0.883553</td>\n",
       "      <td>-0.571816</td>\n",
       "      <td>-1.312255</td>\n",
       "      <td>-1.251690</td>\n",
       "      <td>-1.475229</td>\n",
       "      <td>-1.171799</td>\n",
       "      <td>-1.468637</td>\n",
       "      <td>-1.128134</td>\n",
       "      <td>-1.451182</td>\n",
       "    </tr>\n",
       "    <tr>\n",
       "      <th>2016-01-01 04:00:00</th>\n",
       "      <td>-0.937086</td>\n",
       "      <td>-1.068702</td>\n",
       "      <td>-1.253601</td>\n",
       "      <td>-0.319543</td>\n",
       "      <td>-0.355871</td>\n",
       "      <td>-0.110772</td>\n",
       "      <td>-0.198126</td>\n",
       "      <td>-0.051966</td>\n",
       "      <td>-0.313975</td>\n",
       "      <td>0.190082</td>\n",
       "      <td>...</td>\n",
       "      <td>8.299996</td>\n",
       "      <td>-0.883553</td>\n",
       "      <td>-0.906875</td>\n",
       "      <td>-1.332105</td>\n",
       "      <td>-1.283586</td>\n",
       "      <td>-1.492444</td>\n",
       "      <td>-1.171799</td>\n",
       "      <td>-1.402566</td>\n",
       "      <td>-1.089196</td>\n",
       "      <td>-1.529211</td>\n",
       "    </tr>\n",
       "  </tbody>\n",
       "</table>\n",
       "<p>5 rows × 102 columns</p>\n",
       "</div>"
      ],
      "text/plain": [
       "                         1075      1076      1077      1125      1126  \\\n",
       "2016-01-01 00:00:00  0.534241  0.178268 -0.565290  0.271008  1.423365   \n",
       "2016-01-01 01:00:00  0.823251  1.005466 -0.582498  1.673565  2.292532   \n",
       "2016-01-01 02:00:00  0.796978  0.202960 -1.029900  1.083015  2.180052   \n",
       "2016-01-01 03:00:00 -0.726896 -0.525467 -1.150354 -0.098086  0.738257   \n",
       "2016-01-01 04:00:00 -0.937086 -1.068702 -1.253601 -0.319543 -0.355871   \n",
       "\n",
       "                         1127      1128      1129      1130      1131  \\\n",
       "2016-01-01 00:00:00  0.941171  1.327459  1.324730  1.906584  1.834661   \n",
       "2016-01-01 01:00:00  1.069110  0.407537  0.529737  0.846772  1.255014   \n",
       "2016-01-01 02:00:00  1.104649  0.081851  0.108003 -0.065844  0.095721   \n",
       "2016-01-01 03:00:00  0.919848  0.144702 -0.168306 -0.276125  0.473165   \n",
       "2016-01-01 04:00:00 -0.110772 -0.198126 -0.051966 -0.313975  0.190082   \n",
       "\n",
       "                       ...         1630      1684      1733      1734  \\\n",
       "2016-01-01 00:00:00    ...     1.550964 -0.883553 -0.571816 -1.047599   \n",
       "2016-01-01 01:00:00    ...     5.252046 -0.883553 -0.069227 -1.325488   \n",
       "2016-01-01 02:00:00    ...     9.170839 -0.883553 -0.404286 -1.338721   \n",
       "2016-01-01 03:00:00    ...     8.953128 -0.883553 -0.571816 -1.312255   \n",
       "2016-01-01 04:00:00    ...     8.299996 -0.883553 -0.906875 -1.332105   \n",
       "\n",
       "                         1783      2068      2069      2118      2119  \\\n",
       "2016-01-01 00:00:00 -1.251690 -0.786630 -0.681784 -0.821134 -0.855567   \n",
       "2016-01-01 01:00:00 -1.275612 -1.423584 -1.171799 -1.125064 -1.089196   \n",
       "2016-01-01 02:00:00 -1.259664 -1.492444 -1.171799 -0.834348 -1.089196   \n",
       "2016-01-01 03:00:00 -1.251690 -1.475229 -1.171799 -1.468637 -1.128134   \n",
       "2016-01-01 04:00:00 -1.283586 -1.492444 -1.171799 -1.402566 -1.089196   \n",
       "\n",
       "                         2168  \n",
       "2016-01-01 00:00:00  0.031375  \n",
       "2016-01-01 01:00:00 -0.930987  \n",
       "2016-01-01 02:00:00 -1.321133  \n",
       "2016-01-01 03:00:00 -1.451182  \n",
       "2016-01-01 04:00:00 -1.529211  \n",
       "\n",
       "[5 rows x 102 columns]"
      ]
     },
     "execution_count": 4,
     "metadata": {},
     "output_type": "execute_result"
    }
   ],
   "source": [
    "df = (df - df.mean()) / df.std()\n",
    "df.head()"
   ]
  },
  {
   "cell_type": "markdown",
   "metadata": {},
   "source": [
    "Кластеризуйте географические зоны по значениям стандартизованных рядов. Подберите число кластеров так, чтобы оно было не слишком большим, но ряды внутри кластеров имели похожую форму. Постройте графики стандартизованных рядов каждого кластера, чтобы в этом убедиться."
   ]
  },
  {
   "cell_type": "code",
   "execution_count": 5,
   "metadata": {},
   "outputs": [],
   "source": [
    "pca = PCA(n_components=2).fit(df.T.values)\n",
    "result = pca.transform(df.T.values)"
   ]
  },
  {
   "cell_type": "code",
   "execution_count": 79,
   "metadata": {},
   "outputs": [],
   "source": [
    "x = result[:, :-1].flatten()\n",
    "y = result[:, -1:].flatten()"
   ]
  },
  {
   "cell_type": "code",
   "execution_count": 77,
   "metadata": {},
   "outputs": [],
   "source": [
    "aggclust = AgglomerativeClustering(n_clusters=4)\n",
    "clusters = ac.fit_predict(df.T.values)"
   ]
  },
  {
   "cell_type": "code",
   "execution_count": 80,
   "metadata": {},
   "outputs": [
    {
     "data": {
      "image/png": "[encoded data removed]",
      "text/plain": [
       "<matplotlib.figure.Figure at 0x14e808c43c8>"
      ]
     },
     "metadata": {},
     "output_type": "display_data"
    }
   ],
   "source": [
    "kl = plt.scatter(x, y, c=clusters)"
   ]
  },
  {
   "cell_type": "markdown",
   "metadata": {},
   "source": [
    "В каждом кластере выберите наиболее типичный ряд (например, это может быть ряд, соответствующий центру кластера)."
   ]
  },
  {
   "cell_type": "code",
   "execution_count": 81,
   "metadata": {},
   "outputs": [
    {
     "data": {
      "text/html": [
       "<div>\n",
       "<style scoped>\n",
       "    .dataframe tbody tr th:only-of-type {\n",
       "        vertical-align: middle;\n",
       "    }\n",
       "\n",
       "    .dataframe tbody tr th {\n",
       "        vertical-align: top;\n",
       "    }\n",
       "\n",
       "    .dataframe thead th {\n",
       "        text-align: right;\n",
       "    }\n",
       "</style>\n",
       "<table border=\"1\" class=\"dataframe\">\n",
       "  <thead>\n",
       "    <tr style=\"text-align: right;\">\n",
       "      <th></th>\n",
       "      <th>cluster</th>\n",
       "      <th>x</th>\n",
       "      <th>y</th>\n",
       "    </tr>\n",
       "  </thead>\n",
       "  <tbody>\n",
       "    <tr>\n",
       "      <th>0</th>\n",
       "      <td>1</td>\n",
       "      <td>-24.516313</td>\n",
       "      <td>-17.431448</td>\n",
       "    </tr>\n",
       "    <tr>\n",
       "      <th>1</th>\n",
       "      <td>0</td>\n",
       "      <td>-31.403477</td>\n",
       "      <td>-3.760618</td>\n",
       "    </tr>\n",
       "    <tr>\n",
       "      <th>2</th>\n",
       "      <td>1</td>\n",
       "      <td>-30.069664</td>\n",
       "      <td>2.830651</td>\n",
       "    </tr>\n",
       "    <tr>\n",
       "      <th>3</th>\n",
       "      <td>1</td>\n",
       "      <td>-19.320497</td>\n",
       "      <td>-16.837401</td>\n",
       "    </tr>\n",
       "    <tr>\n",
       "      <th>4</th>\n",
       "      <td>0</td>\n",
       "      <td>-18.176169</td>\n",
       "      <td>-18.141138</td>\n",
       "    </tr>\n",
       "  </tbody>\n",
       "</table>\n",
       "</div>"
      ],
      "text/plain": [
       "   cluster          x          y\n",
       "0        1 -24.516313 -17.431448\n",
       "1        0 -31.403477  -3.760618\n",
       "2        1 -30.069664   2.830651\n",
       "3        1 -19.320497 -16.837401\n",
       "4        0 -18.176169 -18.141138"
      ]
     },
     "execution_count": 81,
     "metadata": {},
     "output_type": "execute_result"
    }
   ],
   "source": [
    "cluster_df = pd.DataFrame({'x': x, 'y':y, 'cluster':clusters})\n",
    "cluster_df.head()"
   ]
  },
  {
   "cell_type": "code",
   "execution_count": 82,
   "metadata": {},
   "outputs": [],
   "source": [
    "gruped = cluster_df.groupby('cluster')\n",
    "\n",
    "group_dict = {}\n",
    "\n",
    "for g in gruped.groups.keys():\n",
    "    means = gruped.get_group(g).mean()\n",
    "    center = np.array([means['x'], means['y']])\n",
    "    \n",
    "    s = pd.Series()\n",
    "    \n",
    "    for row in gruped.get_group(g).iterrows():\n",
    "        s[str(row[0])] = np.linalg.norm(center - np.array([row[1]['x'], row[1]['y']]))\n",
    "        \n",
    "    group_dict[g] = int(s.sort_values().index[0])"
   ]
  },
  {
   "cell_type": "code",
   "execution_count": 83,
   "metadata": {},
   "outputs": [
    {
     "data": {
      "image/png": "[encoded data removed]",
      "text/plain": [
       "<matplotlib.figure.Figure at 0x14e80527208>"
      ]
     },
     "metadata": {},
     "output_type": "display_data"
    }
   ],
   "source": [
    "fig = plt.figure()\n",
    "ax = fig.add_subplot(111)\n",
    "\n",
    "scatter = ax.scatter(x, y, c=clusters)\n",
    "for k in group_dict:\n",
    "    i = x[group_dict[k]]\n",
    "    j = y[group_dict[k]]\n",
    "    ax.scatter(i,j, s=200, c='red',marker='+')\n",
    "    text = 'cl {} id {}'.format(k, group_dict[k])\n",
    "    ax.annotate(text, (i + 1, j + 1))"
   ]
  },
  {
   "cell_type": "markdown",
   "metadata": {},
   "source": [
    "Для выбранных географических зон подберите на исходных рядах оптимальную структуру моделей — набор регрессионных признаков и значения гиперпараметров p,d,q,P,D,Q — так, как это делалось на прошлой неделе. Не используйте данные за последний имеющийся месяц — май и июнь 2016!"
   ]
  },
  {
   "cell_type": "code",
   "execution_count": 69,
   "metadata": {},
   "outputs": [
    {
     "data": {
      "text/html": [
       "<div>\n",
       "<style scoped>\n",
       "    .dataframe tbody tr th:only-of-type {\n",
       "        vertical-align: middle;\n",
       "    }\n",
       "\n",
       "    .dataframe tbody tr th {\n",
       "        vertical-align: top;\n",
       "    }\n",
       "\n",
       "    .dataframe thead th {\n",
       "        text-align: right;\n",
       "    }\n",
       "</style>\n",
       "<table border=\"1\" class=\"dataframe\">\n",
       "  <thead>\n",
       "    <tr style=\"text-align: right;\">\n",
       "      <th></th>\n",
       "      <th>1172</th>\n",
       "      <th>1179</th>\n",
       "      <th>1272</th>\n",
       "      <th>1332</th>\n",
       "    </tr>\n",
       "  </thead>\n",
       "  <tbody>\n",
       "    <tr>\n",
       "      <th>2016-01-01 00:00:00</th>\n",
       "      <td>16.0</td>\n",
       "      <td>759.0</td>\n",
       "      <td>51.0</td>\n",
       "      <td>567.0</td>\n",
       "    </tr>\n",
       "    <tr>\n",
       "      <th>2016-01-01 01:00:00</th>\n",
       "      <td>38.0</td>\n",
       "      <td>518.0</td>\n",
       "      <td>93.0</td>\n",
       "      <td>689.0</td>\n",
       "    </tr>\n",
       "    <tr>\n",
       "      <th>2016-01-01 02:00:00</th>\n",
       "      <td>31.0</td>\n",
       "      <td>401.0</td>\n",
       "      <td>100.0</td>\n",
       "      <td>538.0</td>\n",
       "    </tr>\n",
       "    <tr>\n",
       "      <th>2016-01-01 03:00:00</th>\n",
       "      <td>28.0</td>\n",
       "      <td>391.0</td>\n",
       "      <td>52.0</td>\n",
       "      <td>363.0</td>\n",
       "    </tr>\n",
       "    <tr>\n",
       "      <th>2016-01-01 04:00:00</th>\n",
       "      <td>8.0</td>\n",
       "      <td>388.0</td>\n",
       "      <td>26.0</td>\n",
       "      <td>194.0</td>\n",
       "    </tr>\n",
       "  </tbody>\n",
       "</table>\n",
       "</div>"
      ],
      "text/plain": [
       "                     1172   1179   1272   1332\n",
       "2016-01-01 00:00:00  16.0  759.0   51.0  567.0\n",
       "2016-01-01 01:00:00  38.0  518.0   93.0  689.0\n",
       "2016-01-01 02:00:00  31.0  401.0  100.0  538.0\n",
       "2016-01-01 03:00:00  28.0  391.0   52.0  363.0\n",
       "2016-01-01 04:00:00   8.0  388.0   26.0  194.0"
      ]
     },
     "execution_count": 69,
     "metadata": {},
     "output_type": "execute_result"
    }
   ],
   "source": [
    "region_df = df.iloc[:, [11, 18, 38, 54]]\n",
    "region_df.head()"
   ]
  },
  {
   "cell_type": "code",
   "execution_count": 84,
   "metadata": {},
   "outputs": [
    {
     "data": {
      "image/png": "[encoded data removed]",
      "text/plain": [
       "<matplotlib.figure.Figure at 0x14e9a0577b8>"
      ]
     },
     "metadata": {},
     "output_type": "display_data"
    }
   ],
   "source": [
    "_, ax = plt.subplots(2, 1, sharex=True)\n",
    "sm.graphics.tsa.plot_acf(region_df['1172'].values.squeeze(), lags=48, ax=ax[0])\n",
    "sm.graphics.tsa.plot_pacf(region_df['1172'].values.squeeze(), lags=48, ax=ax[1])\n",
    "plt.show()"
   ]
  },
  {
   "cell_type": "code",
   "execution_count": 71,
   "metadata": {},
   "outputs": [],
   "source": [
    "p = range(2)\n",
    "q = range(2)\n",
    "P = range(2)\n",
    "Q = range(2)\n",
    "d, D = 1, 1\n",
    "parameters = list(product(p, q, P, Q))"
   ]
  },
  {
   "cell_type": "code",
   "execution_count": 70,
   "metadata": {},
   "outputs": [],
   "source": [
    "train_dict = {0: '1172', 1: '1179', 2: '1272', 3: '1332'}\n",
    "params_dict = {}\n",
    "best_model_dict = {}"
   ]
  },
  {
   "cell_type": "code",
   "execution_count": 17,
   "metadata": {},
   "outputs": [
    {
     "name": "stderr",
     "output_type": "stream",
     "text": [
      " 25%|████████████████████▊                                                              | 1/4 [03:59<11:57, 239.31s/it]E:\\program\\ANA\\lib\\site-packages\\statsmodels\\base\\model.py:496: ConvergenceWarning: Maximum Likelihood optimization failed to converge. Check mle_retvals\n",
      "  \"Check mle_retvals\", ConvergenceWarning)\n",
      "100%|███████████████████████████████████████████████████████████████████████████████████| 4/4 [14:54<00:00, 223.69s/it]\n"
     ]
    }
   ],
   "source": [
    "for c in tqdm(np.unique(clusters)):\n",
    "    best_aic = float(\"inf\")\n",
    "\n",
    "    for param in parameters:\n",
    "        try:\n",
    "            model=sm.tsa.statespace.SARIMAX(region_df[train_dict[c]], order=(param[0], d, param[1]), \n",
    "                                            seasonal_order=(param[2], D, param[3], 24)).fit(disp=-1)\n",
    "        except LinAlgError:\n",
    "            continue\n",
    "        except ValueError:\n",
    "            continue\n",
    "\n",
    "        aic = model.aic\n",
    "        if aic < best_aic:\n",
    "            best_aic = aic\n",
    "            params_dict[c] = param"
   ]
  },
  {
   "cell_type": "markdown",
   "metadata": {},
   "source": [
    "Для каждой из R географических зон настройте на данных до апреля 2016 включительно модель ARIMA с гиперпараметрами, соответствующими кластеру этой зоны. Для каждого конца истории от 2016.04.30 23:00 до 2016.05.31 17:00 постройте прогноз на 6 часов вперёд и посчитайте в ноутбуке ошибку прогноза по следующему функционалу:\n",
    "$$Q_{june} = {1 \\over R * 715 * 6} +\\sum_{r=1}^{R} \\sum_{2016.04.30\\ 23:00}^{2016.05.31\\ 17:00}\\sum_{i=1}^{6} |\\hat{y}_{T|T+i} - y^r_{T+i}|$$"
   ]
  },
  {
   "cell_type": "code",
   "execution_count": 18,
   "metadata": {},
   "outputs": [],
   "source": [
    "hours_in_day = 24\n",
    "\n",
    "sin_day = np.sin(np.array(range(1, hours_in_day + 1)) * 2 * np.pi / (hours_in_day))\n",
    "sin_day = np.tile(sin_day, int(df.shape[0] / len(sin_day) + 1))\n",
    "\n",
    "hours_in_week = 7 * 24\n",
    "sin_week = np.sin(np.array(range(1, hours_in_week + 1)) * 2 * np.pi / (hours_in_week))\n",
    "sin_week = np.tile(sin_week, int(df.shape[0] / len(sin_week) + 2))\n",
    "\n",
    "days = {'sin_day_%d' % i: sin_day[i: df.shape[0] + i] for i in range(hours_in_day)}\n",
    "weeks = {'sin_week_%d' % i: sin_week[i: df.shape[0] + i] for i in range(hours_in_week)}\n",
    "\n",
    "sin_df = pd.DataFrame({**days, **weeks})"
   ]
  },
  {
   "cell_type": "code",
   "execution_count": 19,
   "metadata": {},
   "outputs": [],
   "source": [
    "test_05_df = pd.read_csv('train_05.csv', index_col=0)"
   ]
  },
  {
   "cell_type": "code",
   "execution_count": 20,
   "metadata": {},
   "outputs": [],
   "source": [
    "may_start_period = datetime(2016, 4, 30, 23, 0, 0)\n",
    "may_end_period = datetime(2016, 5, 31, 23, 0, 0)\n",
    "offset = pd.DateOffset(hours=5)\n",
    "X = sin_df.values"
   ]
  },
  {
   "cell_type": "code",
   "execution_count": 23,
   "metadata": {},
   "outputs": [
    {
     "name": "stderr",
     "output_type": "stream",
     "text": [
      "  9%|███████▏                                                                          | 9/102 [03:18<34:08, 22.03s/it]E:\\program\\ANA\\lib\\site-packages\\statsmodels\\base\\model.py:496: ConvergenceWarning: Maximum Likelihood optimization failed to converge. Check mle_retvals\n",
      "  \"Check mle_retvals\", ConvergenceWarning)\n",
      "100%|████████████████████████████████████████████████████████████████████████████████| 102/102 [34:31<00:00, 20.31s/it]\n"
     ]
    }
   ],
   "source": [
    "linea_pred_df = pd.DataFrame()\n",
    "sarimax_pred_df = pd.DataFrame()\n",
    "\n",
    "for c in tqdm(df.columns):\n",
    "    \n",
    "    p, q, P, Q = params_dict[clusters[df.columns.values.tolist().index(c)]]\n",
    "    model = sm.tsa.statespace.SARIMAX(df[c], order=(p, d, q), seasonal_order=(P, D, Q, 24),\n",
    "                                     enforce_invertibility=False, enforce_stationarity=False).fit(disp=-1)\n",
    "        \n",
    "    lr = LinearRegression().fit(X, df[c].values - model.fittedvalues)\n",
    "    \n",
    "    linea_pred_df[c] = lr.predict(X[:745])\n",
    "    sarimax_pred_df[c] = model.predict(start=may_start_period, end=may_end_period).values"
   ]
  },
  {
   "cell_type": "code",
   "execution_count": 24,
   "metadata": {},
   "outputs": [],
   "source": [
    "linea_pred_df.to_csv('may_linear_prediction.csv')\n",
    "sarimax_pred_df.to_csv('may_sarimax_prediction.csv')"
   ]
  },
  {
   "cell_type": "code",
   "execution_count": 47,
   "metadata": {},
   "outputs": [],
   "source": [
    "tmp_train_df = pd.read_csv('train_02.csv', index_col=0, parse_dates=[0])\n",
    "tmp_df = ((tmp_train_df - tmp_train_df.mean()) / tmp_train_df.std()).fillna(0)"
   ]
  },
  {
   "cell_type": "code",
   "execution_count": 48,
   "metadata": {},
   "outputs": [],
   "source": [
    "hours_in_day = 24\n",
    "\n",
    "sin_day = np.sin(np.array(range(1, hours_in_day + 1)) * 2 * np.pi / (hours_in_day))\n",
    "sin_day = np.tile(sin_day, int(tmp_train_df.shape[0] / len(sin_day) + 1))\n",
    "\n",
    "hours_in_week = 7 * 24\n",
    "sin_week = np.sin(np.array(range(1, hours_in_week + 1)) * 2 * np.pi / (hours_in_week))\n",
    "sin_week = np.tile(sin_week, int(tmp_train_df.shape[0] / len(sin_week) + 2))\n",
    "\n",
    "days = {'sin_day_%d' % i: sin_day[i: tmp_train_df.shape[0] + i] for i in range(hours_in_day)}\n",
    "weeks = {'sin_week_%d' % i: sin_week[i: tmp_train_df.shape[0] + i] for i in range(hours_in_week)}\n",
    "\n",
    "tmp_sin_df = pd.DataFrame({**days, **weeks})"
   ]
  },
  {
   "cell_type": "code",
   "execution_count": 49,
   "metadata": {},
   "outputs": [
    {
     "name": "stderr",
     "output_type": "stream",
     "text": [
      " 64%|███████████████████████████████████████████████████▌                             | 65/102 [05:37<03:12,  5.19s/it]E:\\program\\ANA\\lib\\site-packages\\statsmodels\\base\\model.py:496: ConvergenceWarning: Maximum Likelihood optimization failed to converge. Check mle_retvals\n",
      "  \"Check mle_retvals\", ConvergenceWarning)\n",
      "100%|████████████████████████████████████████████████████████████████████████████████| 102/102 [09:24<00:00,  5.53s/it]\n"
     ]
    }
   ],
   "source": [
    "june_start_period = datetime(2016, 5, 31, 23, 0, 0)\n",
    "june_end_period = datetime(2016, 6, 30, 23, 0, 0)\n",
    "\n",
    "X = tmp_sin_df.values\n",
    "\n",
    "linea_pred_df = pd.DataFrame()\n",
    "sarimax_pred_df = pd.DataFrame()\n",
    "\n",
    "for c in tqdm(tmp_train_df.columns):\n",
    "    \n",
    "    p, q, P, Q = params_dict[clusters[tmp_train_df.columns.values.tolist().index(c)]]\n",
    "    model = sm.tsa.statespace.SARIMAX(tmp_df[c], order=(p, d, q), seasonal_order=(P, D, Q, 24),\n",
    "                                     enforce_invertibility=False, enforce_stationarity=False).fit(disp=-1)\n",
    "        \n",
    "    lr = LinearRegression().fit(X, tmp_df[c].values - model.fittedvalues)\n",
    "    \n",
    "    linea_pred_df[c] = lr.predict(X[:721])\n",
    "    sarimax_pred_df[c] = model.predict(start=june_start_period, end=june_end_period).values"
   ]
  },
  {
   "cell_type": "code",
   "execution_count": 50,
   "metadata": {},
   "outputs": [],
   "source": [
    "linea_pred_df.to_csv('june_linear_prediction.csv')\n",
    "sarimax_pred_df.to_csv('june_sarimax_prediction.csv')"
   ]
  },
  {
   "cell_type": "code",
   "execution_count": 76,
   "metadata": {},
   "outputs": [],
   "source": [
    "linea_pred_df = pd.read_csv('may_linear_prediction.csv', index_col=0).loc[1:]\n",
    "sarimax_pred_df = pd.read_csv('may_sarimax_prediction.csv', index_col=0).loc[1:]"
   ]
  },
  {
   "cell_type": "code",
   "execution_count": 52,
   "metadata": {},
   "outputs": [],
   "source": [
    "prediction_df = (sarimax_pred_df + linea_pred_df) * df.std() + df.mean()"
   ]
  },
  {
   "cell_type": "code",
   "execution_count": 53,
   "metadata": {},
   "outputs": [],
   "source": [
    "def rolling_window(a, window):\n",
    "    shape = a.shape[:-1] + (a.shape[-1] - window + 1, window)\n",
    "    strides = a.strides + (a.strides[-1],)\n",
    "    return np.lib.stride_tricks.as_strided(a, shape=shape, strides=strides)"
   ]
  },
  {
   "cell_type": "code",
   "execution_count": 54,
   "metadata": {},
   "outputs": [
    {
     "name": "stderr",
     "output_type": "stream",
     "text": [
      "100%|██████████████████████████████████████████████████████████████████████████████| 102/102 [00:00<00:00, 1463.21it/s]\n"
     ]
    }
   ],
   "source": [
    "error = 0\n",
    "for c in tqdm(prediction_df.columns):\n",
    "    error += sum(sum(abs(rolling_window(prediction_df[c], 6) - rolling_window(test_05_df[c], 6)))) / (6 * 739 * prediction_df.shape[1])"
   ]
  },
  {
   "cell_type": "markdown",
   "metadata": {},
   "source": [
    "Для каждой из RR географических зон настройте на данных до мая 2016 включительно модель ARIMA с гиперпараметрами, соответствующими кластеру этой зоны. Для каждого конца истории от 2016.05.31 23:00 до 2016.06.30 17:00 постройте прогноз на 6 часов вперёд и запишите все прогнозы в файл в формате id,y, где столбец id состоит из склеенных через подчёркивание идентификатора географической зоны, даты конца истории, часа конца истории и номера отсчёта, на который делается предсказание (1-6); столбец y — ваш прогноз."
   ]
  },
  {
   "cell_type": "code",
   "execution_count": 55,
   "metadata": {},
   "outputs": [],
   "source": [
    "start_period = june_start_period - pd.DateOffset(hours=5)\n",
    "dates = [start_period + pd.DateOffset(hours=i) for i in range(721)]"
   ]
  },
  {
   "cell_type": "code",
   "execution_count": 56,
   "metadata": {},
   "outputs": [],
   "source": [
    "linea_pred_df = pd.read_csv('june_linear_prediction.csv', index_col=0).iloc[:-7]\n",
    "sarimax_pred_df = pd.read_csv('june_sarimax_prediction.csv', index_col=0).iloc[:-7]"
   ]
  },
  {
   "cell_type": "code",
   "execution_count": 72,
   "metadata": {},
   "outputs": [],
   "source": [
    "prediction_df = (sarimax_pred_df + linea_pred_df) * df.std() + df.mean()"
   ]
  },
  {
   "cell_type": "code",
   "execution_count": 73,
   "metadata": {},
   "outputs": [],
   "source": [
    "index = []\n",
    "values = []"
   ]
  },
  {
   "cell_type": "code",
   "execution_count": 74,
   "metadata": {},
   "outputs": [
    {
     "name": "stderr",
     "output_type": "stream",
     "text": [
      "100%|███████████████████████████████████████████████████████████████████████████████| 102/102 [00:00<00:00, 112.56it/s]\n"
     ]
    }
   ],
   "source": [
    "for c in tqdm(prediction_df.columns):\n",
    "    t = rolling_window(prediction_df[c], 6)\n",
    "    for idx, x in enumerate(t):\n",
    "        for off, i in enumerate(x):\n",
    "            tm = dates[idx + off]\n",
    "            index.append('{}_2016-{:02}-{:02}_{}_{}'.format(c, tm.month, tm.day, tm.hour, 6 - off))\n",
    "            values.append(int(i))"
   ]
  },
  {
   "cell_type": "code",
   "execution_count": 75,
   "metadata": {},
   "outputs": [],
   "source": [
    "result_df = pd.DataFrame(values, index=index)\n",
    "result_df.columns = ['y']\n",
    "result_df.index.name = 'id'\n",
    "result_df.to_csv('result.csv')"
   ]
  }
 ],
 "metadata": {
  "kernelspec": {
   "display_name": "Python 3",
   "language": "python",
   "name": "python3"
  },
  "language_info": {
   "codemirror_mode": {
    "name": "ipython",
    "version": 3
   },
   "file_extension": ".py",
   "mimetype": "text/x-python",
   "name": "python",
   "nbconvert_exporter": "python",
   "pygments_lexer": "ipython3",
   "version": "3.6.4"
  }
 },
 "nbformat": 4,
 "nbformat_minor": 2
}
