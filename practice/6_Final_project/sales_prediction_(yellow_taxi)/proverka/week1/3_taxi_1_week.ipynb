{
 "cells": [
  {
   "cell_type": "markdown",
   "metadata": {},
   "source": [
    "Сырые данные о поездках в жёлтом такси можно найти на сайте TLC: www.nyc.gov/html/tlc/html/about/trip_record_data.shtml Эти данные разбиты на файлы по месяцам. В каждом из файлов содержится следующая информация о поездках:\n",
    "\n",
    "время начала поездки\n",
    "время окончания поездки\n",
    "долгота и широта точки начала поездки\n",
    "долгота и широта точки окончания поездки\n",
    "количество пассажиров\n",
    "расстояние по счётчику\n",
    "тип тарифа (одна из шести категорий)\n",
    "способ оплаты (одна из шести категорий)\n",
    "стоимость поездки по счётчику\n",
    "налог на счётчик\n",
    "доплата за поездки в пиковые часы и ночью\n",
    "доплата за проезд по платным дорогам\n",
    "доплата за проезд, взимаемая с каждой поездки с января 2015\n",
    "размер чаевых\n",
    "общая стоимость поездки\n",
    "провайдер данных (одна из двух категорий)\n",
    "бинарный флаг, показывающий, были ли данные о поезде получены немедленно после её окончания, или какое-то время хранились в памяти автомобиля.\n",
    "Подробнее: http://www.nyc.gov/html/tlc/downloads/pdf/data_dictionary_trip_records_yellow.pdf\n",
    "\n",
    "Задача проекта — научиться предсказывать количество поездок в ближайшие часы в каждом районе Нью-Йорка; для простоты мы определим прямоугольные районы. Для того, чтобы её решить, сырые данные необходимо агрегировать по часам и районам. Агрегированные данные будут представлять собой почасовые временные ряды с количествами поездок из каждого района.\n",
    "\n",
    "Задачу прогнозирования таких рядов можно решать с помощью авторегрессионных моделей, прогнозируя каждый ряд независимо. Ряды явно имеют сложную сезонность — суточную, недельную и годовую, поэтому для их моделирования понадобится использовать модель ARIMA с дополнительной регрессией на внешние признаки."
   ]
  },
  {
   "cell_type": "markdown",
   "metadata": {},
   "source": [
    "Данные выложены в файлах по месяцам. Скачайте так много данных жёлтого такси, как сможете; чем больше вы будете использовать данных, тем точнее получатся ваши прогнозы. Если вы решите использовать не все данные, а только часть, выбирайте её по времени с конца. Абсолютный минимум необходимых данных — 6 месяцев: один, последний месяц, вам понадобится для тестирования, предшествующие 5 — для обучения. По 5 месяцам можно построить прогнозы, учитывающие дневную и недельную сезонности, но в данных есть и годовая. Чтобы её учесть, необходимы данные как минимум за 2 года.\n",
    "\n"
   ]
  },
  {
   "cell_type": "markdown",
   "metadata": {},
   "source": [
    "Обработайте сырые данные по следующей схеме.\n",
    "\n",
    "- Почистите данные от ошибок и аномалий.\n",
    "- Отбросьте минуты и секунды во времени начала поездки.\n",
    "- Нью-Йорк вписан в прямоугольник от -74.25559 до -73.70001 градусов долготы и от 40.49612 до 40.91553 широты. - Разбейте этот прямоугольник на 2500 одинаковых прямоугольных областей — по 50 интервалов вдоль каждой оси.\n",
    "- Посчитайте количество поездок за каждый час из каждой области. Не забудьте, что если в сырых данных для какой-то пары час-область нет ни одной записи, то в агрегированных данных для неё должен стоять 0.\n",
    "- В дальнейшем, когда вы будете предсказывать получившиеся ряды, нужно будет загружать ваши прогнозы на kaggle, поэтому нужно, чтобы идентификаторы ячеек были определены однозначно. В следующем файле даны идентификаторы ячеек, которые вам нужно использовать, и географические координаты их границ:\n",
    "\n",
    "regions.csv"
   ]
  },
  {
   "cell_type": "markdown",
   "metadata": {},
   "source": [
    "Для сдачи задания этой недели вам нужно агрегировать только данные за май 2016, но, когда задание будет сдано, не забудьте запустить ваш агрегирующий скрипт на всех остальных месяцах, которые вы собираетесь использовать при прогнозировании.\n",
    "\n",
    "Чтобы сдать задание, выполните следующую последовательность действий.\n",
    "\n",
    "1. Загрузите данные за май 2016 года.\n",
    "\n",
    "2. Проведите фильтрацию: удалите поездки с\n",
    "\n",
    "- нулевой длительностью\n",
    "- нулевым количеством пассажиров\n",
    "- нулевым расстоянием поездки по счётчику\n",
    "- координатами начала, не попадающими в прямоугольник Нью-Йорка\n",
    "- Можно придумать ещё какие-то критерии для фильтрации данных; тем не менее, не стоит применять дополнительные фильтры: начиная с четвёртой недели вам предстоит сравнивать качество ваших прогнозов с качеством прогнозов других слушателей, и, чтобы это сравнение было корректным, нужно, чтобы данные у всех были предобработаны одинаково.\n",
    "\n",
    "3. Агрегируйте данные за май 2016 года по часам и областям (можно использовать функцию stats.binned_statistic_2d, с которой вы сталкивались в заданиях четвёртого курса). Не забудьте проверить, что идентификаторы, которые вы присваиваете ячейкам, соответствуют приложенному выше файлу.\n",
    "\n",
    "4. Выведите первые строки полученной таблицы с указанием времени, идентификатора зоны и количества поездок.\n",
    "\n",
    "5. Постройте график количества поездок жёлтого такси из ячейки, содержащей Empire State Building.\n",
    "\n",
    "6. Посчитайте, сколько в мае 2016 было пар час-ячейка, для которых не было совершено ни одной поездки.\n",
    "\n",
    "7. Загрузите ноутбук в форму ниже\n",
    "\n",
    "Review criteria\n",
    "В качестве ответа в этом задании вам нужно загрузить ноутбук; убедитесь, что ход анализа, который вы провели, описан достаточно подробно для того, чтобы ваши сокурсники поняли, что вы делали и почему."
   ]
  },
  {
   "cell_type": "code",
   "execution_count": 1,
   "metadata": {},
   "outputs": [
    {
     "name": "stdout",
     "output_type": "stream",
     "text": [
      "Populating the interactive namespace from numpy and matplotlib\n"
     ]
    },
    {
     "name": "stderr",
     "output_type": "stream",
     "text": [
      "/home/kira/prog/anaconda2/lib/python2.7/site-packages/IPython/core/magics/pylab.py:161: UserWarning: pylab import has clobbered these variables: ['plt']\n",
      "`%matplotlib` prevents importing * from pylab and numpy\n",
      "  \"\\n`%matplotlib` prevents importing * from pylab and numpy\"\n"
     ]
    }
   ],
   "source": [
    "#Загрузите данные за май 2016 года.\n",
    "import numpy as np\n",
    "import pandas as pd\n",
    "from scipy.stats import binned_statistic_2d\n",
    "import datetime\n",
    "import matplotlib.pylab as plt\n",
    "%pylab inline"
   ]
  },
  {
   "cell_type": "code",
   "execution_count": 2,
   "metadata": {
    "collapsed": true
   },
   "outputs": [],
   "source": [
    "df= pd.read_csv('taxi_may_2016_after1task.csv')"
   ]
  },
  {
   "cell_type": "code",
   "execution_count": 2,
   "metadata": {},
   "outputs": [
    {
     "data": {
      "text/html": [
       "<div>\n",
       "<style>\n",
       "    .dataframe thead tr:only-child th {\n",
       "        text-align: right;\n",
       "    }\n",
       "\n",
       "    .dataframe thead th {\n",
       "        text-align: left;\n",
       "    }\n",
       "\n",
       "    .dataframe tbody tr th {\n",
       "        vertical-align: top;\n",
       "    }\n",
       "</style>\n",
       "<table border=\"1\" class=\"dataframe\">\n",
       "  <thead>\n",
       "    <tr style=\"text-align: right;\">\n",
       "      <th></th>\n",
       "      <th>VendorID</th>\n",
       "      <th>tpep_pickup_datetime</th>\n",
       "      <th>tpep_dropoff_datetime</th>\n",
       "      <th>passenger_count</th>\n",
       "      <th>trip_distance</th>\n",
       "      <th>pickup_longitude</th>\n",
       "      <th>pickup_latitude</th>\n",
       "      <th>RatecodeID</th>\n",
       "      <th>store_and_fwd_flag</th>\n",
       "      <th>dropoff_longitude</th>\n",
       "      <th>dropoff_latitude</th>\n",
       "      <th>payment_type</th>\n",
       "      <th>fare_amount</th>\n",
       "      <th>extra</th>\n",
       "      <th>mta_tax</th>\n",
       "      <th>tip_amount</th>\n",
       "      <th>tolls_amount</th>\n",
       "      <th>improvement_surcharge</th>\n",
       "      <th>total_amount</th>\n",
       "    </tr>\n",
       "  </thead>\n",
       "  <tbody>\n",
       "    <tr>\n",
       "      <th>0</th>\n",
       "      <td>1</td>\n",
       "      <td>2016-05-01 00:00:00</td>\n",
       "      <td>2016-05-01 00:17:31</td>\n",
       "      <td>1</td>\n",
       "      <td>3.60</td>\n",
       "      <td>-73.985901</td>\n",
       "      <td>40.768040</td>\n",
       "      <td>1</td>\n",
       "      <td>N</td>\n",
       "      <td>-73.983986</td>\n",
       "      <td>40.730099</td>\n",
       "      <td>1</td>\n",
       "      <td>15.0</td>\n",
       "      <td>0.5</td>\n",
       "      <td>0.5</td>\n",
       "      <td>1.50</td>\n",
       "      <td>0.0</td>\n",
       "      <td>0.3</td>\n",
       "      <td>17.80</td>\n",
       "    </tr>\n",
       "    <tr>\n",
       "      <th>1</th>\n",
       "      <td>2</td>\n",
       "      <td>2016-05-01 00:00:00</td>\n",
       "      <td>2016-05-01 00:07:31</td>\n",
       "      <td>1</td>\n",
       "      <td>1.68</td>\n",
       "      <td>-73.991577</td>\n",
       "      <td>40.744751</td>\n",
       "      <td>1</td>\n",
       "      <td>N</td>\n",
       "      <td>-73.975700</td>\n",
       "      <td>40.765469</td>\n",
       "      <td>1</td>\n",
       "      <td>7.5</td>\n",
       "      <td>0.5</td>\n",
       "      <td>0.5</td>\n",
       "      <td>0.88</td>\n",
       "      <td>0.0</td>\n",
       "      <td>0.3</td>\n",
       "      <td>9.68</td>\n",
       "    </tr>\n",
       "    <tr>\n",
       "      <th>2</th>\n",
       "      <td>2</td>\n",
       "      <td>2016-05-01 00:00:00</td>\n",
       "      <td>2016-05-01 00:07:01</td>\n",
       "      <td>6</td>\n",
       "      <td>1.09</td>\n",
       "      <td>-73.993073</td>\n",
       "      <td>40.741573</td>\n",
       "      <td>1</td>\n",
       "      <td>N</td>\n",
       "      <td>-73.980995</td>\n",
       "      <td>40.744633</td>\n",
       "      <td>1</td>\n",
       "      <td>6.5</td>\n",
       "      <td>0.5</td>\n",
       "      <td>0.5</td>\n",
       "      <td>1.56</td>\n",
       "      <td>0.0</td>\n",
       "      <td>0.3</td>\n",
       "      <td>9.36</td>\n",
       "    </tr>\n",
       "    <tr>\n",
       "      <th>3</th>\n",
       "      <td>2</td>\n",
       "      <td>2016-05-01 00:00:00</td>\n",
       "      <td>2016-05-01 00:19:47</td>\n",
       "      <td>1</td>\n",
       "      <td>4.21</td>\n",
       "      <td>-73.991943</td>\n",
       "      <td>40.684601</td>\n",
       "      <td>1</td>\n",
       "      <td>N</td>\n",
       "      <td>-74.002258</td>\n",
       "      <td>40.733002</td>\n",
       "      <td>1</td>\n",
       "      <td>17.0</td>\n",
       "      <td>0.5</td>\n",
       "      <td>0.5</td>\n",
       "      <td>3.66</td>\n",
       "      <td>0.0</td>\n",
       "      <td>0.3</td>\n",
       "      <td>21.96</td>\n",
       "    </tr>\n",
       "    <tr>\n",
       "      <th>4</th>\n",
       "      <td>2</td>\n",
       "      <td>2016-05-01 00:00:00</td>\n",
       "      <td>2016-05-01 00:06:39</td>\n",
       "      <td>1</td>\n",
       "      <td>0.56</td>\n",
       "      <td>-74.005280</td>\n",
       "      <td>40.740192</td>\n",
       "      <td>1</td>\n",
       "      <td>N</td>\n",
       "      <td>-73.997498</td>\n",
       "      <td>40.737564</td>\n",
       "      <td>1</td>\n",
       "      <td>6.0</td>\n",
       "      <td>0.5</td>\n",
       "      <td>0.5</td>\n",
       "      <td>1.46</td>\n",
       "      <td>0.0</td>\n",
       "      <td>0.3</td>\n",
       "      <td>8.76</td>\n",
       "    </tr>\n",
       "  </tbody>\n",
       "</table>\n",
       "</div>"
      ],
      "text/plain": [
       "   VendorID tpep_pickup_datetime tpep_dropoff_datetime  passenger_count  \\\n",
       "0         1  2016-05-01 00:00:00   2016-05-01 00:17:31                1   \n",
       "1         2  2016-05-01 00:00:00   2016-05-01 00:07:31                1   \n",
       "2         2  2016-05-01 00:00:00   2016-05-01 00:07:01                6   \n",
       "3         2  2016-05-01 00:00:00   2016-05-01 00:19:47                1   \n",
       "4         2  2016-05-01 00:00:00   2016-05-01 00:06:39                1   \n",
       "\n",
       "   trip_distance  pickup_longitude  pickup_latitude  RatecodeID  \\\n",
       "0           3.60        -73.985901        40.768040           1   \n",
       "1           1.68        -73.991577        40.744751           1   \n",
       "2           1.09        -73.993073        40.741573           1   \n",
       "3           4.21        -73.991943        40.684601           1   \n",
       "4           0.56        -74.005280        40.740192           1   \n",
       "\n",
       "  store_and_fwd_flag  dropoff_longitude  dropoff_latitude  payment_type  \\\n",
       "0                  N         -73.983986         40.730099             1   \n",
       "1                  N         -73.975700         40.765469             1   \n",
       "2                  N         -73.980995         40.744633             1   \n",
       "3                  N         -74.002258         40.733002             1   \n",
       "4                  N         -73.997498         40.737564             1   \n",
       "\n",
       "   fare_amount  extra  mta_tax  tip_amount  tolls_amount  \\\n",
       "0         15.0    0.5      0.5        1.50           0.0   \n",
       "1          7.5    0.5      0.5        0.88           0.0   \n",
       "2          6.5    0.5      0.5        1.56           0.0   \n",
       "3         17.0    0.5      0.5        3.66           0.0   \n",
       "4          6.0    0.5      0.5        1.46           0.0   \n",
       "\n",
       "   improvement_surcharge  total_amount  \n",
       "0                    0.3         17.80  \n",
       "1                    0.3          9.68  \n",
       "2                    0.3          9.36  \n",
       "3                    0.3         21.96  \n",
       "4                    0.3          8.76  "
      ]
     },
     "execution_count": 2,
     "metadata": {},
     "output_type": "execute_result"
    }
   ],
   "source": [
    "may = pd.read_csv(\"yellow_tripdata_2016-05.csv\")\n",
    "may.head()"
   ]
  },
  {
   "cell_type": "code",
   "execution_count": 4,
   "metadata": {},
   "outputs": [
    {
     "data": {
      "text/plain": [
       "VendorID                 0\n",
       "tpep_pickup_datetime     0\n",
       "tpep_dropoff_datetime    0\n",
       "passenger_count          0\n",
       "trip_distance            0\n",
       "pickup_longitude         0\n",
       "pickup_latitude          0\n",
       "RatecodeID               0\n",
       "store_and_fwd_flag       0\n",
       "dropoff_longitude        0\n",
       "dropoff_latitude         0\n",
       "payment_type             0\n",
       "fare_amount              0\n",
       "extra                    0\n",
       "mta_tax                  0\n",
       "tip_amount               0\n",
       "tolls_amount             0\n",
       "improvement_surcharge    0\n",
       "total_amount             0\n",
       "dtype: int64"
      ]
     },
     "execution_count": 4,
     "metadata": {},
     "output_type": "execute_result"
    }
   ],
   "source": [
    "# Почистите данные от ошибок и аномалий.\n",
    "# NaN'ов нет\n",
    "may.isnull().sum()"
   ]
  },
  {
   "cell_type": "markdown",
   "metadata": {},
   "source": [
    "\n",
    "import datetime\n",
    "d1 = datetime.datetime.strptime(\"2016-05-01 00:00:00\", \"%Y-%m-%d %H:%M:%S\")\n",
    "d2 = datetime.datetime.strptime(\"2016-05-01 00:00:00\", \"%Y-%m-%d %H:%M:%S\")\n",
    "print (d2 - d1)"
   ]
  },
  {
   "cell_type": "code",
   "execution_count": 3,
   "metadata": {
    "collapsed": true
   },
   "outputs": [],
   "source": [
    "# Проведите фильтрацию: удалите поездки с\n",
    "# нулевой длительностью\n",
    "df = may.drop(may[may.tpep_pickup_datetime==may.tpep_dropoff_datetime].index)"
   ]
  },
  {
   "cell_type": "code",
   "execution_count": 4,
   "metadata": {},
   "outputs": [
    {
     "name": "stdout",
     "output_type": "stream",
     "text": [
      "(11836853, 19) (11824585, 19)\n"
     ]
    }
   ],
   "source": [
    "print may.shape, df.shape"
   ]
  },
  {
   "cell_type": "raw",
   "metadata": {},
   "source": [
    "#Отбросьте минуты и секунды во времени начала поездки.\n",
    "s=\"2016-05-01 00:00:00\"\n",
    "s[:-5]\n",
    "df.tpep_pickup_datetime.replace(to_replace = \":\\w\\w:\\w\\w\",value=\":00:00\",inplace=True)"
   ]
  },
  {
   "cell_type": "code",
   "execution_count": null,
   "metadata": {
    "collapsed": true
   },
   "outputs": [],
   "source": [
    "df['hour'] = pd.to_datetime(df.tpep_pickup_datetime).apply(lambda x: pd.Timestamp(x.year, x.month, x.day, x.hour, 0, 0))\n",
    "#ar =ar.values"
   ]
  },
  {
   "cell_type": "markdown",
   "metadata": {},
   "source": [
    "arr = np.zeros(len(ar))\n",
    "for i in range(len(ar)):\n",
    "    arr[i]=pd.to_datetime(ar[i])"
   ]
  },
  {
   "cell_type": "code",
   "execution_count": 10,
   "metadata": {},
   "outputs": [
    {
     "data": {
      "text/html": [
       "<div>\n",
       "<style>\n",
       "    .dataframe thead tr:only-child th {\n",
       "        text-align: right;\n",
       "    }\n",
       "\n",
       "    .dataframe thead th {\n",
       "        text-align: left;\n",
       "    }\n",
       "\n",
       "    .dataframe tbody tr th {\n",
       "        vertical-align: top;\n",
       "    }\n",
       "</style>\n",
       "<table border=\"1\" class=\"dataframe\">\n",
       "  <thead>\n",
       "    <tr style=\"text-align: right;\">\n",
       "      <th></th>\n",
       "      <th>VendorID</th>\n",
       "      <th>tpep_pickup_datetime</th>\n",
       "      <th>tpep_dropoff_datetime</th>\n",
       "      <th>passenger_count</th>\n",
       "      <th>trip_distance</th>\n",
       "      <th>pickup_longitude</th>\n",
       "      <th>pickup_latitude</th>\n",
       "      <th>RatecodeID</th>\n",
       "      <th>store_and_fwd_flag</th>\n",
       "      <th>dropoff_longitude</th>\n",
       "      <th>dropoff_latitude</th>\n",
       "      <th>payment_type</th>\n",
       "      <th>fare_amount</th>\n",
       "      <th>extra</th>\n",
       "      <th>mta_tax</th>\n",
       "      <th>tip_amount</th>\n",
       "      <th>tolls_amount</th>\n",
       "      <th>improvement_surcharge</th>\n",
       "      <th>total_amount</th>\n",
       "      <th>hour</th>\n",
       "    </tr>\n",
       "  </thead>\n",
       "  <tbody>\n",
       "    <tr>\n",
       "      <th>11836848</th>\n",
       "      <td>2</td>\n",
       "      <td>2016-05-27 12:24:58</td>\n",
       "      <td>2016-05-27 12:39:38</td>\n",
       "      <td>1</td>\n",
       "      <td>0.0</td>\n",
       "      <td>0.0</td>\n",
       "      <td>0.0</td>\n",
       "      <td>1</td>\n",
       "      <td>N</td>\n",
       "      <td>0.0</td>\n",
       "      <td>0.0</td>\n",
       "      <td>2</td>\n",
       "      <td>9.5</td>\n",
       "      <td>0.5</td>\n",
       "      <td>0.5</td>\n",
       "      <td>0.0</td>\n",
       "      <td>0.0</td>\n",
       "      <td>0.3</td>\n",
       "      <td>10.8</td>\n",
       "      <td>2016-05-27 12:00:00</td>\n",
       "    </tr>\n",
       "    <tr>\n",
       "      <th>11836849</th>\n",
       "      <td>2</td>\n",
       "      <td>2016-05-27 12:44:54</td>\n",
       "      <td>2016-05-27 12:48:17</td>\n",
       "      <td>1</td>\n",
       "      <td>0.0</td>\n",
       "      <td>0.0</td>\n",
       "      <td>0.0</td>\n",
       "      <td>1</td>\n",
       "      <td>N</td>\n",
       "      <td>0.0</td>\n",
       "      <td>0.0</td>\n",
       "      <td>2</td>\n",
       "      <td>4.0</td>\n",
       "      <td>0.5</td>\n",
       "      <td>0.5</td>\n",
       "      <td>0.0</td>\n",
       "      <td>0.0</td>\n",
       "      <td>0.3</td>\n",
       "      <td>5.3</td>\n",
       "      <td>2016-05-27 12:00:00</td>\n",
       "    </tr>\n",
       "    <tr>\n",
       "      <th>11836850</th>\n",
       "      <td>2</td>\n",
       "      <td>2016-05-27 12:48:51</td>\n",
       "      <td>2016-05-27 13:40:56</td>\n",
       "      <td>1</td>\n",
       "      <td>0.0</td>\n",
       "      <td>0.0</td>\n",
       "      <td>0.0</td>\n",
       "      <td>1</td>\n",
       "      <td>N</td>\n",
       "      <td>0.0</td>\n",
       "      <td>0.0</td>\n",
       "      <td>2</td>\n",
       "      <td>28.5</td>\n",
       "      <td>0.5</td>\n",
       "      <td>0.5</td>\n",
       "      <td>0.0</td>\n",
       "      <td>0.0</td>\n",
       "      <td>0.3</td>\n",
       "      <td>29.8</td>\n",
       "      <td>2016-05-27 12:00:00</td>\n",
       "    </tr>\n",
       "    <tr>\n",
       "      <th>11836851</th>\n",
       "      <td>2</td>\n",
       "      <td>2016-05-27 14:18:21</td>\n",
       "      <td>2016-05-27 14:38:13</td>\n",
       "      <td>1</td>\n",
       "      <td>0.0</td>\n",
       "      <td>0.0</td>\n",
       "      <td>0.0</td>\n",
       "      <td>1</td>\n",
       "      <td>N</td>\n",
       "      <td>0.0</td>\n",
       "      <td>0.0</td>\n",
       "      <td>2</td>\n",
       "      <td>12.0</td>\n",
       "      <td>0.5</td>\n",
       "      <td>0.5</td>\n",
       "      <td>0.0</td>\n",
       "      <td>0.0</td>\n",
       "      <td>0.3</td>\n",
       "      <td>13.3</td>\n",
       "      <td>2016-05-27 14:00:00</td>\n",
       "    </tr>\n",
       "    <tr>\n",
       "      <th>11836852</th>\n",
       "      <td>2</td>\n",
       "      <td>2016-05-27 14:38:36</td>\n",
       "      <td>2016-05-27 15:10:15</td>\n",
       "      <td>1</td>\n",
       "      <td>0.0</td>\n",
       "      <td>0.0</td>\n",
       "      <td>0.0</td>\n",
       "      <td>1</td>\n",
       "      <td>N</td>\n",
       "      <td>0.0</td>\n",
       "      <td>0.0</td>\n",
       "      <td>2</td>\n",
       "      <td>4886.0</td>\n",
       "      <td>0.5</td>\n",
       "      <td>0.5</td>\n",
       "      <td>0.0</td>\n",
       "      <td>0.0</td>\n",
       "      <td>0.3</td>\n",
       "      <td>4887.3</td>\n",
       "      <td>2016-05-27 14:00:00</td>\n",
       "    </tr>\n",
       "  </tbody>\n",
       "</table>\n",
       "</div>"
      ],
      "text/plain": [
       "          VendorID tpep_pickup_datetime tpep_dropoff_datetime  \\\n",
       "11836848         2  2016-05-27 12:24:58   2016-05-27 12:39:38   \n",
       "11836849         2  2016-05-27 12:44:54   2016-05-27 12:48:17   \n",
       "11836850         2  2016-05-27 12:48:51   2016-05-27 13:40:56   \n",
       "11836851         2  2016-05-27 14:18:21   2016-05-27 14:38:13   \n",
       "11836852         2  2016-05-27 14:38:36   2016-05-27 15:10:15   \n",
       "\n",
       "          passenger_count  trip_distance  pickup_longitude  pickup_latitude  \\\n",
       "11836848                1            0.0               0.0              0.0   \n",
       "11836849                1            0.0               0.0              0.0   \n",
       "11836850                1            0.0               0.0              0.0   \n",
       "11836851                1            0.0               0.0              0.0   \n",
       "11836852                1            0.0               0.0              0.0   \n",
       "\n",
       "          RatecodeID store_and_fwd_flag  dropoff_longitude  dropoff_latitude  \\\n",
       "11836848           1                  N                0.0               0.0   \n",
       "11836849           1                  N                0.0               0.0   \n",
       "11836850           1                  N                0.0               0.0   \n",
       "11836851           1                  N                0.0               0.0   \n",
       "11836852           1                  N                0.0               0.0   \n",
       "\n",
       "          payment_type  fare_amount  extra  mta_tax  tip_amount  tolls_amount  \\\n",
       "11836848             2          9.5    0.5      0.5         0.0           0.0   \n",
       "11836849             2          4.0    0.5      0.5         0.0           0.0   \n",
       "11836850             2         28.5    0.5      0.5         0.0           0.0   \n",
       "11836851             2         12.0    0.5      0.5         0.0           0.0   \n",
       "11836852             2       4886.0    0.5      0.5         0.0           0.0   \n",
       "\n",
       "          improvement_surcharge  total_amount                hour  \n",
       "11836848                    0.3          10.8 2016-05-27 12:00:00  \n",
       "11836849                    0.3           5.3 2016-05-27 12:00:00  \n",
       "11836850                    0.3          29.8 2016-05-27 12:00:00  \n",
       "11836851                    0.3          13.3 2016-05-27 14:00:00  \n",
       "11836852                    0.3        4887.3 2016-05-27 14:00:00  "
      ]
     },
     "execution_count": 10,
     "metadata": {},
     "output_type": "execute_result"
    }
   ],
   "source": [
    "#print arr\n",
    "#df['hour']=arr\n",
    "df.tail()"
   ]
  },
  {
   "cell_type": "markdown",
   "metadata": {},
   "source": [
    "type(df.tpep_pickup_datetime.iloc[2])"
   ]
  },
  {
   "cell_type": "markdown",
   "metadata": {},
   "source": [
    "for i in range(df.shape[0]):\n",
    "    df.tpep_pickup_datetime.iloc[i]=\"%s\"%df.tpep_pickup_datetime.iloc[i].split(':')[0] + \":00:00\""
   ]
  },
  {
   "cell_type": "code",
   "execution_count": 11,
   "metadata": {},
   "outputs": [
    {
     "name": "stdout",
     "output_type": "stream",
     "text": [
      "(11763422, 20)\n"
     ]
    }
   ],
   "source": [
    "#Проведите фильтрацию: удалите поездки с\n",
    "#нулевой длительностью\n",
    "#нулевым количеством пассажиров\n",
    "#нулевым расстоянием поездки по счётчику\n",
    "df = df.drop(df[(df.tpep_pickup_datetime==df.tpep_dropoff_datetime)|(df.passenger_count==0)|(df.trip_distance==0)].index)\n",
    "print df.shape"
   ]
  },
  {
   "cell_type": "code",
   "execution_count": 12,
   "metadata": {},
   "outputs": [
    {
     "name": "stdout",
     "output_type": "stream",
     "text": [
      "(11626521, 20)\n"
     ]
    }
   ],
   "source": [
    "#координатами начала, не попадающими в прямоугольник Нью-Йорка\n",
    "#Нью-Йорк вписан в прямоугольник от -74.25559 до -73.70001 градусов долготы и от 40.49612 до 40.91553 широты\n",
    "df = df.drop(df[(df.pickup_longitude<=-74.25559)|(df.pickup_longitude>=-73.70001)|(df.pickup_latitude<=40.49612)|(df.pickup_latitude>=40.91553)].index)\n",
    "print df.shape"
   ]
  },
  {
   "cell_type": "code",
   "execution_count": 13,
   "metadata": {},
   "outputs": [
    {
     "data": {
      "text/html": [
       "<div>\n",
       "<style>\n",
       "    .dataframe thead tr:only-child th {\n",
       "        text-align: right;\n",
       "    }\n",
       "\n",
       "    .dataframe thead th {\n",
       "        text-align: left;\n",
       "    }\n",
       "\n",
       "    .dataframe tbody tr th {\n",
       "        vertical-align: top;\n",
       "    }\n",
       "</style>\n",
       "<table border=\"1\" class=\"dataframe\">\n",
       "  <thead>\n",
       "    <tr style=\"text-align: right;\">\n",
       "      <th></th>\n",
       "      <th>region</th>\n",
       "      <th>west</th>\n",
       "      <th>east</th>\n",
       "      <th>south</th>\n",
       "      <th>north</th>\n",
       "    </tr>\n",
       "  </thead>\n",
       "  <tbody>\n",
       "    <tr>\n",
       "      <th>0</th>\n",
       "      <td>1</td>\n",
       "      <td>-74.25559</td>\n",
       "      <td>-74.244478</td>\n",
       "      <td>40.496120</td>\n",
       "      <td>40.504508</td>\n",
       "    </tr>\n",
       "    <tr>\n",
       "      <th>1</th>\n",
       "      <td>2</td>\n",
       "      <td>-74.25559</td>\n",
       "      <td>-74.244478</td>\n",
       "      <td>40.504508</td>\n",
       "      <td>40.512896</td>\n",
       "    </tr>\n",
       "    <tr>\n",
       "      <th>2</th>\n",
       "      <td>3</td>\n",
       "      <td>-74.25559</td>\n",
       "      <td>-74.244478</td>\n",
       "      <td>40.512896</td>\n",
       "      <td>40.521285</td>\n",
       "    </tr>\n",
       "    <tr>\n",
       "      <th>3</th>\n",
       "      <td>4</td>\n",
       "      <td>-74.25559</td>\n",
       "      <td>-74.244478</td>\n",
       "      <td>40.521285</td>\n",
       "      <td>40.529673</td>\n",
       "    </tr>\n",
       "    <tr>\n",
       "      <th>4</th>\n",
       "      <td>5</td>\n",
       "      <td>-74.25559</td>\n",
       "      <td>-74.244478</td>\n",
       "      <td>40.529673</td>\n",
       "      <td>40.538061</td>\n",
       "    </tr>\n",
       "  </tbody>\n",
       "</table>\n",
       "</div>"
      ],
      "text/plain": [
       "   region      west       east      south      north\n",
       "0       1 -74.25559 -74.244478  40.496120  40.504508\n",
       "1       2 -74.25559 -74.244478  40.504508  40.512896\n",
       "2       3 -74.25559 -74.244478  40.512896  40.521285\n",
       "3       4 -74.25559 -74.244478  40.521285  40.529673\n",
       "4       5 -74.25559 -74.244478  40.529673  40.538061"
      ]
     },
     "execution_count": 13,
     "metadata": {},
     "output_type": "execute_result"
    }
   ],
   "source": [
    "#Агрегируйте данные за май 2016 года по часам и областям (можно использовать функцию stats.binned_statistic_2d,\n",
    "#с которой вы сталкивались в заданиях четвёртого курса). Не забудьте проверить, что идентификаторы, \n",
    "#которые вы присваиваете ячейкам, соответствуют приложенному выше файлу.\n",
    "#Выведите первые строки полученной таблицы с указанием времени, идентификатора зоны и количества поездок.\n",
    "bins = pd.read_csv(\"regions.csv\",sep=';')\n",
    "bins.head()"
   ]
  },
  {
   "cell_type": "code",
   "execution_count": 37,
   "metadata": {},
   "outputs": [
    {
     "data": {
      "text/plain": [
       "array([-74.25559  , -74.2444784, -74.2333668, -74.2222552, -74.2111436,\n",
       "       -74.200032 , -74.1889204, -74.1778088, -74.1666972, -74.1555856,\n",
       "       -74.144474 , -74.1333624, -74.1222508, -74.1111392, -74.1000276,\n",
       "       -74.088916 , -74.0778044, -74.0666928, -74.0555812, -74.0444696,\n",
       "       -74.033358 , -74.0222464, -74.0111348, -74.0000232, -73.9889116,\n",
       "       -73.9778   , -73.9666884, -73.9555768, -73.9444652, -73.9333536,\n",
       "       -73.922242 , -73.9111304, -73.9000188, -73.8889072, -73.8777956,\n",
       "       -73.866684 , -73.8555724, -73.8444608, -73.8333492, -73.8222376,\n",
       "       -73.811126 , -73.8000144, -73.7889028, -73.7777912, -73.7666796,\n",
       "       -73.755568 , -73.7444564, -73.7333448, -73.7222332, -73.7111216])"
      ]
     },
     "execution_count": 37,
     "metadata": {},
     "output_type": "execute_result"
    }
   ],
   "source": [
    "bins['west'].unique()"
   ]
  },
  {
   "cell_type": "code",
   "execution_count": 38,
   "metadata": {},
   "outputs": [
    {
     "data": {
      "text/plain": [
       "array([-74.2444784, -74.2333668, -74.2222552, -74.2111436, -74.200032 ,\n",
       "       -74.1889204, -74.1778088, -74.1666972, -74.1555856, -74.144474 ,\n",
       "       -74.1333624, -74.1222508, -74.1111392, -74.1000276, -74.088916 ,\n",
       "       -74.0778044, -74.0666928, -74.0555812, -74.0444696, -74.033358 ,\n",
       "       -74.0222464, -74.0111348, -74.0000232, -73.9889116, -73.9778   ,\n",
       "       -73.9666884, -73.9555768, -73.9444652, -73.9333536, -73.922242 ,\n",
       "       -73.9111304, -73.9000188, -73.8889072, -73.8777956, -73.866684 ,\n",
       "       -73.8555724, -73.8444608, -73.8333492, -73.8222376, -73.811126 ,\n",
       "       -73.8000144, -73.7889028, -73.7777912, -73.7666796, -73.755568 ,\n",
       "       -73.7444564, -73.7333448, -73.7222332, -73.7111216, -73.70001  ])"
      ]
     },
     "execution_count": 38,
     "metadata": {},
     "output_type": "execute_result"
    }
   ],
   "source": [
    "bins['east'].unique()"
   ]
  },
  {
   "cell_type": "markdown",
   "metadata": {},
   "source": [
    "yb = np.zeros(len(bins['west'].unique())+1)\n",
    "yb[0:-1]=bins['west'].unique()\n",
    "yb[-1]=bins['east'].unique()[-1]"
   ]
  },
  {
   "cell_type": "markdown",
   "metadata": {
    "collapsed": true
   },
   "source": [
    "xb = np.zeros(len(bins['south'].unique())+1)\n",
    "xb[0:-1]=bins['south'].unique()\n",
    "xb[-1]=bins['north'].unique()[-1]"
   ]
  },
  {
   "cell_type": "markdown",
   "metadata": {},
   "source": [
    "ret =binned_statistic_2d(df.pickup_latitude, df.pickup_longitude, None, 'count', bins=[xb,yb])\n",
    "ret.statistic"
   ]
  },
  {
   "cell_type": "markdown",
   "metadata": {},
   "source": [
    "ret.statistic.shape"
   ]
  },
  {
   "cell_type": "markdown",
   "metadata": {},
   "source": [
    "len(ret.binnumber)"
   ]
  },
  {
   "cell_type": "markdown",
   "metadata": {
    "collapsed": true
   },
   "source": [
    "df['region']= ret.binnumber"
   ]
  },
  {
   "cell_type": "code",
   "execution_count": 26,
   "metadata": {
    "collapsed": true
   },
   "outputs": [],
   "source": [
    "#границы\n",
    "west = -74.25559\n",
    "east = -73.70001\n",
    "south = 40.49612\n",
    "north = 40.91553\n",
    "n=50\n",
    "def longitude_number (x):\n",
    "    return int(np.floor(n*(x-west)/(east-west)))\n",
    "def latitude_number (x):\n",
    "    return int(np.floor(n*(x-south)/(north-south)))\n",
    "def region_number (longitude, latitude):\n",
    "    return 1+n*longitude_number(longitude)+latitude_number(latitude)\n",
    "df['region'] = df[['pickup_longitude','pickup_latitude']].apply(lambda x: region_number(*x), axis=1)"
   ]
  },
  {
   "cell_type": "code",
   "execution_count": 20,
   "metadata": {},
   "outputs": [
    {
     "data": {
      "text/html": [
       "<div>\n",
       "<style>\n",
       "    .dataframe thead tr:only-child th {\n",
       "        text-align: right;\n",
       "    }\n",
       "\n",
       "    .dataframe thead th {\n",
       "        text-align: left;\n",
       "    }\n",
       "\n",
       "    .dataframe tbody tr th {\n",
       "        vertical-align: top;\n",
       "    }\n",
       "</style>\n",
       "<table border=\"1\" class=\"dataframe\">\n",
       "  <thead>\n",
       "    <tr style=\"text-align: right;\">\n",
       "      <th>region</th>\n",
       "      <th>15</th>\n",
       "      <th>16</th>\n",
       "      <th>25</th>\n",
       "      <th>27</th>\n",
       "      <th>32</th>\n",
       "      <th>45</th>\n",
       "      <th>49</th>\n",
       "      <th>61</th>\n",
       "      <th>77</th>\n",
       "      <th>80</th>\n",
       "      <th>...</th>\n",
       "      <th>2476</th>\n",
       "      <th>2478</th>\n",
       "      <th>2479</th>\n",
       "      <th>2481</th>\n",
       "      <th>2482</th>\n",
       "      <th>2483</th>\n",
       "      <th>2484</th>\n",
       "      <th>2485</th>\n",
       "      <th>2486</th>\n",
       "      <th>2487</th>\n",
       "    </tr>\n",
       "    <tr>\n",
       "      <th>hour</th>\n",
       "      <th></th>\n",
       "      <th></th>\n",
       "      <th></th>\n",
       "      <th></th>\n",
       "      <th></th>\n",
       "      <th></th>\n",
       "      <th></th>\n",
       "      <th></th>\n",
       "      <th></th>\n",
       "      <th></th>\n",
       "      <th></th>\n",
       "      <th></th>\n",
       "      <th></th>\n",
       "      <th></th>\n",
       "      <th></th>\n",
       "      <th></th>\n",
       "      <th></th>\n",
       "      <th></th>\n",
       "      <th></th>\n",
       "      <th></th>\n",
       "      <th></th>\n",
       "    </tr>\n",
       "  </thead>\n",
       "  <tbody>\n",
       "    <tr>\n",
       "      <th>2016-05-01</th>\n",
       "      <td>0</td>\n",
       "      <td>0</td>\n",
       "      <td>0</td>\n",
       "      <td>0</td>\n",
       "      <td>0</td>\n",
       "      <td>0</td>\n",
       "      <td>0</td>\n",
       "      <td>0</td>\n",
       "      <td>0</td>\n",
       "      <td>0</td>\n",
       "      <td>...</td>\n",
       "      <td>0</td>\n",
       "      <td>0</td>\n",
       "      <td>0</td>\n",
       "      <td>0</td>\n",
       "      <td>0</td>\n",
       "      <td>0</td>\n",
       "      <td>0</td>\n",
       "      <td>0</td>\n",
       "      <td>0</td>\n",
       "      <td>0</td>\n",
       "    </tr>\n",
       "    <tr>\n",
       "      <th>2016-05-01 00:00:00</th>\n",
       "      <td>0</td>\n",
       "      <td>0</td>\n",
       "      <td>0</td>\n",
       "      <td>0</td>\n",
       "      <td>0</td>\n",
       "      <td>0</td>\n",
       "      <td>0</td>\n",
       "      <td>0</td>\n",
       "      <td>0</td>\n",
       "      <td>0</td>\n",
       "      <td>...</td>\n",
       "      <td>0</td>\n",
       "      <td>0</td>\n",
       "      <td>0</td>\n",
       "      <td>0</td>\n",
       "      <td>0</td>\n",
       "      <td>0</td>\n",
       "      <td>0</td>\n",
       "      <td>0</td>\n",
       "      <td>0</td>\n",
       "      <td>0</td>\n",
       "    </tr>\n",
       "    <tr>\n",
       "      <th>2016-05-01 01:00:00</th>\n",
       "      <td>0</td>\n",
       "      <td>0</td>\n",
       "      <td>0</td>\n",
       "      <td>0</td>\n",
       "      <td>0</td>\n",
       "      <td>0</td>\n",
       "      <td>0</td>\n",
       "      <td>0</td>\n",
       "      <td>0</td>\n",
       "      <td>0</td>\n",
       "      <td>...</td>\n",
       "      <td>0</td>\n",
       "      <td>0</td>\n",
       "      <td>0</td>\n",
       "      <td>0</td>\n",
       "      <td>0</td>\n",
       "      <td>0</td>\n",
       "      <td>0</td>\n",
       "      <td>0</td>\n",
       "      <td>0</td>\n",
       "      <td>0</td>\n",
       "    </tr>\n",
       "    <tr>\n",
       "      <th>2016-05-01 02:00:00</th>\n",
       "      <td>0</td>\n",
       "      <td>0</td>\n",
       "      <td>0</td>\n",
       "      <td>0</td>\n",
       "      <td>0</td>\n",
       "      <td>0</td>\n",
       "      <td>0</td>\n",
       "      <td>0</td>\n",
       "      <td>0</td>\n",
       "      <td>0</td>\n",
       "      <td>...</td>\n",
       "      <td>0</td>\n",
       "      <td>0</td>\n",
       "      <td>0</td>\n",
       "      <td>0</td>\n",
       "      <td>0</td>\n",
       "      <td>0</td>\n",
       "      <td>0</td>\n",
       "      <td>0</td>\n",
       "      <td>0</td>\n",
       "      <td>0</td>\n",
       "    </tr>\n",
       "    <tr>\n",
       "      <th>2016-05-01 03:00:00</th>\n",
       "      <td>0</td>\n",
       "      <td>0</td>\n",
       "      <td>0</td>\n",
       "      <td>0</td>\n",
       "      <td>0</td>\n",
       "      <td>0</td>\n",
       "      <td>0</td>\n",
       "      <td>0</td>\n",
       "      <td>0</td>\n",
       "      <td>0</td>\n",
       "      <td>...</td>\n",
       "      <td>0</td>\n",
       "      <td>0</td>\n",
       "      <td>0</td>\n",
       "      <td>0</td>\n",
       "      <td>0</td>\n",
       "      <td>0</td>\n",
       "      <td>0</td>\n",
       "      <td>0</td>\n",
       "      <td>0</td>\n",
       "      <td>0</td>\n",
       "    </tr>\n",
       "  </tbody>\n",
       "</table>\n",
       "<p>5 rows × 1217 columns</p>\n",
       "</div>"
      ],
      "text/plain": [
       "region               15    16    25    27    32    45    49    61    77    \\\n",
       "hour                                                                        \n",
       "2016-05-01              0     0     0     0     0     0     0     0     0   \n",
       "2016-05-01 00:00:00     0     0     0     0     0     0     0     0     0   \n",
       "2016-05-01 01:00:00     0     0     0     0     0     0     0     0     0   \n",
       "2016-05-01 02:00:00     0     0     0     0     0     0     0     0     0   \n",
       "2016-05-01 03:00:00     0     0     0     0     0     0     0     0     0   \n",
       "\n",
       "region               80    ...   2476  2478  2479  2481  2482  2483  2484  \\\n",
       "hour                       ...                                              \n",
       "2016-05-01              0  ...      0     0     0     0     0     0     0   \n",
       "2016-05-01 00:00:00     0  ...      0     0     0     0     0     0     0   \n",
       "2016-05-01 01:00:00     0  ...      0     0     0     0     0     0     0   \n",
       "2016-05-01 02:00:00     0  ...      0     0     0     0     0     0     0   \n",
       "2016-05-01 03:00:00     0  ...      0     0     0     0     0     0     0   \n",
       "\n",
       "region               2485  2486  2487  \n",
       "hour                                   \n",
       "2016-05-01              0     0     0  \n",
       "2016-05-01 00:00:00     0     0     0  \n",
       "2016-05-01 01:00:00     0     0     0  \n",
       "2016-05-01 02:00:00     0     0     0  \n",
       "2016-05-01 03:00:00     0     0     0  \n",
       "\n",
       "[5 rows x 1217 columns]"
      ]
     },
     "execution_count": 20,
     "metadata": {},
     "output_type": "execute_result"
    }
   ],
   "source": [
    "##Выведите первые строки полученной таблицы с указанием времени, идентификатора зоны и количества поездок.\n",
    "pd.crosstab(df.hour,df.region ).head()"
   ]
  },
  {
   "cell_type": "markdown",
   "metadata": {},
   "source": [
    "#Постройте график количества поездок жёлтого такси из ячейки, содержащей Empire State Building.\n",
    "#Координаты\t40.744, -73.9721\n",
    "\n",
    "cell =np.where((bins.south>=40.744) & (bins.west>=-73.9721))[0][0]"
   ]
  },
  {
   "cell_type": "code",
   "execution_count": 29,
   "metadata": {
    "collapsed": true
   },
   "outputs": [],
   "source": [
    "cros =pd.crosstab(df.hour,df.region )"
   ]
  },
  {
   "cell_type": "code",
   "execution_count": 8,
   "metadata": {
    "collapsed": true
   },
   "outputs": [],
   "source": [
    "# вставляем пропущенные регионы и заполняем нулями\n",
    "n=50\n",
    "#rr = np.zeros(range(n*n))\n",
    "binreg = np.zeros([int(n)**2])\n",
    "binreg[np.array(df['region'].unique(),dtype=int)] =1\n",
    "bins_hours = pd.date_range(start=df['hour'].iloc[0],end=df['hour'].iloc[-1], freq='H')\n",
    "newd1 = pd.DataFrame(index=list(np.where(binreg==0)),columns =bins_hours)\n",
    "newd1.fillna(0, inplace = True)\n",
    "cros1 =pd.crosstab(df.region,df.hour)\n",
    "cros1 =cros1.append(newd1).sort_index()\n",
    "cros1.fillna(0, inplace = True)\n",
    "cros2 = np.array(cros1)"
   ]
  },
  {
   "cell_type": "code",
   "execution_count": 10,
   "metadata": {},
   "outputs": [
    {
     "data": {
      "text/plain": [
       "(array([  15,   16,   25, ..., 2486, 2487, 2487]),\n",
       " array([478, 547,  86, ..., 235, 290, 535]))"
      ]
     },
     "execution_count": 10,
     "metadata": {},
     "output_type": "execute_result"
    }
   ],
   "source": [
    "cros2.nonzero()"
   ]
  },
  {
   "cell_type": "code",
   "execution_count": 33,
   "metadata": {},
   "outputs": [
    {
     "data": {
      "text/plain": [
       "hour\n",
       "2016-05-01 00:00:00    881\n",
       "2016-05-01 01:00:00    713\n",
       "2016-05-01 02:00:00    533\n",
       "2016-05-01 03:00:00    418\n",
       "2016-05-01 04:00:00    353\n",
       "Name: 1231, dtype: int64"
      ]
     },
     "execution_count": 33,
     "metadata": {},
     "output_type": "execute_result"
    }
   ],
   "source": [
    "#Постройте график количества поездок жёлтого такси из ячейки, содержащей Empire State Building.\n",
    "empire_longitude = -73.9857\n",
    "empire_latitude = 40.7484\n",
    "empire = cros[region_number(empire_longitude,empire_latitude)]\n",
    "empire.head()"
   ]
  },
  {
   "cell_type": "code",
   "execution_count": 34,
   "metadata": {},
   "outputs": [
    {
     "data": {
      "text/plain": [
       "[<matplotlib.lines.Line2D at 0x7f1e38a33250>]"
      ]
     },
     "execution_count": 34,
     "metadata": {},
     "output_type": "execute_result"
    },
    {
     "data": {
      "image/png": "[encoded data removed]",
      "text/plain": [
       "<matplotlib.figure.Figure at 0x7f1e368781d0>"
      ]
     },
     "metadata": {},
     "output_type": "display_data"
    }
   ],
   "source": [
    "#Постройте график количества поездок жёлтого такси из ячейки, содержащей Empire State Building.\n",
    "plt.plot(empire)"
   ]
  },
  {
   "cell_type": "code",
   "execution_count": 18,
   "metadata": {},
   "outputs": [
    {
     "name": "stdout",
     "output_type": "stream",
     "text": [
      "144032\n",
      "2987500\n",
      "2843468\n",
      "Ответ:\n"
     ]
    },
    {
     "data": {
      "text/plain": [
       "2843468"
      ]
     },
     "execution_count": 18,
     "metadata": {},
     "output_type": "execute_result"
    }
   ],
   "source": [
    "#Посчитайте, сколько в мае 2016 было пар час-ячейка, для которых не было совершено ни одной поездки.\n",
    "#\n",
    "print np.count_nonzero(cros2)\n",
    "print cros2.size\n",
    "print cros2.size - np.count_nonzero(cros2)\n",
    "print \"Ответ:\"\n",
    "len(cros2[cros2==0])"
   ]
  },
  {
   "cell_type": "code",
   "execution_count": 37,
   "metadata": {
    "collapsed": true
   },
   "outputs": [],
   "source": [
    "# Сохраним\n",
    "df.to_csv('taxi_may_2016_after1task.csv')"
   ]
  },
  {
   "cell_type": "code",
   "execution_count": 19,
   "metadata": {
    "collapsed": true
   },
   "outputs": [],
   "source": [
    "cros1.to_csv('may_2016_agg.csv')"
   ]
  },
  {
   "cell_type": "code",
   "execution_count": null,
   "metadata": {
    "collapsed": true
   },
   "outputs": [],
   "source": []
  }
 ],
 "metadata": {
  "kernelspec": {
   "display_name": "Python 3",
   "language": "python",
   "name": "python3"
  },
  "language_info": {
   "codemirror_mode": {
    "name": "ipython",
    "version": 3
   },
   "file_extension": ".py",
   "mimetype": "text/x-python",
   "name": "python",
   "nbconvert_exporter": "python",
   "pygments_lexer": "ipython3",
   "version": "3.6.3"
  }
 },
 "nbformat": 4,
 "nbformat_minor": 2
}
