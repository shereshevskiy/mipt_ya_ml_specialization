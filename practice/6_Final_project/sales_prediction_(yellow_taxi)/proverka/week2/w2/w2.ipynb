{
 "cells": [
  {
   "cell_type": "code",
   "execution_count": 28,
   "metadata": {
    "collapsed": true
   },
   "outputs": [],
   "source": [
    "import os\n",
    "import folium\n",
    "import pandas as pd\n",
    "import numpy as np\n",
    "import geojson\n",
    "\n",
    "%matplotlib inline"
   ]
  },
  {
   "cell_type": "code",
   "execution_count": 29,
   "metadata": {
    "collapsed": true
   },
   "outputs": [],
   "source": [
    "FILTERED_DATA_DIR = '/datadrive/taxi_data/filtered'\n",
    "DATA_DIR = '/datadrive/taxi_data'"
   ]
  },
  {
   "cell_type": "code",
   "execution_count": 30,
   "metadata": {
    "collapsed": true
   },
   "outputs": [],
   "source": [
    "data = pd.read_csv(os.path.join(FILTERED_DATA_DIR, 'yellow_tripdata_2016-05.csv'), usecols=['tpep_pickup_date',\n",
    "                                                                                            'pickup_longitude',\n",
    "                                                                                            'pickup_latitude',\n",
    "                                                                                            'region'])"
   ]
  },
  {
   "cell_type": "code",
   "execution_count": 31,
   "metadata": {
    "collapsed": true
   },
   "outputs": [],
   "source": [
    "# done for aggregating purposes\n",
    "data['id'] = 1"
   ]
  },
  {
   "cell_type": "code",
   "execution_count": 32,
   "metadata": {},
   "outputs": [
    {
     "data": {
      "text/html": [
       "<div>\n",
       "<style>\n",
       "    .dataframe thead tr:only-child th {\n",
       "        text-align: right;\n",
       "    }\n",
       "\n",
       "    .dataframe thead th {\n",
       "        text-align: left;\n",
       "    }\n",
       "\n",
       "    .dataframe tbody tr th {\n",
       "        vertical-align: top;\n",
       "    }\n",
       "</style>\n",
       "<table border=\"1\" class=\"dataframe\">\n",
       "  <thead>\n",
       "    <tr style=\"text-align: right;\">\n",
       "      <th></th>\n",
       "      <th>pickup_longitude</th>\n",
       "      <th>pickup_latitude</th>\n",
       "      <th>tpep_pickup_date</th>\n",
       "      <th>region</th>\n",
       "      <th>id</th>\n",
       "    </tr>\n",
       "  </thead>\n",
       "  <tbody>\n",
       "    <tr>\n",
       "      <th>0</th>\n",
       "      <td>-73.985901</td>\n",
       "      <td>40.768040</td>\n",
       "      <td>2016-05-01 00:00:00</td>\n",
       "      <td>1233</td>\n",
       "      <td>1</td>\n",
       "    </tr>\n",
       "    <tr>\n",
       "      <th>1</th>\n",
       "      <td>-73.991577</td>\n",
       "      <td>40.744751</td>\n",
       "      <td>2016-05-01 00:00:00</td>\n",
       "      <td>1180</td>\n",
       "      <td>1</td>\n",
       "    </tr>\n",
       "    <tr>\n",
       "      <th>2</th>\n",
       "      <td>-73.993073</td>\n",
       "      <td>40.741573</td>\n",
       "      <td>2016-05-01 00:00:00</td>\n",
       "      <td>1180</td>\n",
       "      <td>1</td>\n",
       "    </tr>\n",
       "    <tr>\n",
       "      <th>3</th>\n",
       "      <td>-73.991943</td>\n",
       "      <td>40.684601</td>\n",
       "      <td>2016-05-01 00:00:00</td>\n",
       "      <td>1173</td>\n",
       "      <td>1</td>\n",
       "    </tr>\n",
       "    <tr>\n",
       "      <th>4</th>\n",
       "      <td>-74.005280</td>\n",
       "      <td>40.740192</td>\n",
       "      <td>2016-05-01 00:00:00</td>\n",
       "      <td>1130</td>\n",
       "      <td>1</td>\n",
       "    </tr>\n",
       "  </tbody>\n",
       "</table>\n",
       "</div>"
      ],
      "text/plain": [
       "   pickup_longitude  pickup_latitude     tpep_pickup_date  region  id\n",
       "0        -73.985901        40.768040  2016-05-01 00:00:00    1233   1\n",
       "1        -73.991577        40.744751  2016-05-01 00:00:00    1180   1\n",
       "2        -73.993073        40.741573  2016-05-01 00:00:00    1180   1\n",
       "3        -73.991943        40.684601  2016-05-01 00:00:00    1173   1\n",
       "4        -74.005280        40.740192  2016-05-01 00:00:00    1130   1"
      ]
     },
     "execution_count": 32,
     "metadata": {},
     "output_type": "execute_result"
    }
   ],
   "source": [
    "data.head()"
   ]
  },
  {
   "cell_type": "code",
   "execution_count": 33,
   "metadata": {},
   "outputs": [
    {
     "data": {
      "text/html": [
       "<div>\n",
       "<style>\n",
       "    .dataframe thead tr:only-child th {\n",
       "        text-align: right;\n",
       "    }\n",
       "\n",
       "    .dataframe thead th {\n",
       "        text-align: left;\n",
       "    }\n",
       "\n",
       "    .dataframe tbody tr th {\n",
       "        vertical-align: top;\n",
       "    }\n",
       "</style>\n",
       "<table border=\"1\" class=\"dataframe\">\n",
       "  <thead>\n",
       "    <tr style=\"text-align: right;\">\n",
       "      <th></th>\n",
       "      <th>region</th>\n",
       "      <th>west</th>\n",
       "      <th>east</th>\n",
       "      <th>south</th>\n",
       "      <th>north</th>\n",
       "    </tr>\n",
       "  </thead>\n",
       "  <tbody>\n",
       "    <tr>\n",
       "      <th>0</th>\n",
       "      <td>1</td>\n",
       "      <td>-74.25559</td>\n",
       "      <td>-74.244478</td>\n",
       "      <td>40.496120</td>\n",
       "      <td>40.504508</td>\n",
       "    </tr>\n",
       "    <tr>\n",
       "      <th>1</th>\n",
       "      <td>2</td>\n",
       "      <td>-74.25559</td>\n",
       "      <td>-74.244478</td>\n",
       "      <td>40.504508</td>\n",
       "      <td>40.512896</td>\n",
       "    </tr>\n",
       "    <tr>\n",
       "      <th>2</th>\n",
       "      <td>3</td>\n",
       "      <td>-74.25559</td>\n",
       "      <td>-74.244478</td>\n",
       "      <td>40.512896</td>\n",
       "      <td>40.521285</td>\n",
       "    </tr>\n",
       "    <tr>\n",
       "      <th>3</th>\n",
       "      <td>4</td>\n",
       "      <td>-74.25559</td>\n",
       "      <td>-74.244478</td>\n",
       "      <td>40.521285</td>\n",
       "      <td>40.529673</td>\n",
       "    </tr>\n",
       "    <tr>\n",
       "      <th>4</th>\n",
       "      <td>5</td>\n",
       "      <td>-74.25559</td>\n",
       "      <td>-74.244478</td>\n",
       "      <td>40.529673</td>\n",
       "      <td>40.538061</td>\n",
       "    </tr>\n",
       "  </tbody>\n",
       "</table>\n",
       "</div>"
      ],
      "text/plain": [
       "   region      west       east      south      north\n",
       "0       1 -74.25559 -74.244478  40.496120  40.504508\n",
       "1       2 -74.25559 -74.244478  40.504508  40.512896\n",
       "2       3 -74.25559 -74.244478  40.512896  40.521285\n",
       "3       4 -74.25559 -74.244478  40.521285  40.529673\n",
       "4       5 -74.25559 -74.244478  40.529673  40.538061"
      ]
     },
     "execution_count": 33,
     "metadata": {},
     "output_type": "execute_result"
    }
   ],
   "source": [
    "regions = pd.read_csv(os.path.join(DATA_DIR, 'regions.csv'), delimiter=';')\n",
    "regions.head()"
   ]
  },
  {
   "cell_type": "code",
   "execution_count": 34,
   "metadata": {
    "collapsed": true
   },
   "outputs": [],
   "source": [
    "# compute region centers\n",
    "regions['long'] = (regions.west + regions.east) / 2\n",
    "regions['lat'] = (regions.south + regions.north) / 2"
   ]
  },
  {
   "cell_type": "code",
   "execution_count": 35,
   "metadata": {
    "collapsed": true
   },
   "outputs": [],
   "source": [
    "# compute mapping from region code to its coordinates\n",
    "mapping = dict(list(map(lambda r: (int(r[0]), (r[1], r[2])),\n",
    "              np.array(regions[['region', 'lat', 'long']]))))"
   ]
  },
  {
   "cell_type": "code",
   "execution_count": 36,
   "metadata": {
    "collapsed": true
   },
   "outputs": [],
   "source": [
    "def region_to_lat_long(row):\n",
    "    return mapping[row['region']]"
   ]
  },
  {
   "cell_type": "markdown",
   "metadata": {},
   "source": [
    "## 1"
   ]
  },
  {
   "cell_type": "code",
   "execution_count": 37,
   "metadata": {
    "collapsed": true
   },
   "outputs": [],
   "source": [
    "# AGGREGATE DATA BY REGION AND HOUR\n",
    "agg_data = data[['region', 'tpep_pickup_date', 'id']].groupby(['tpep_pickup_date', 'region']).aggregate('count').reset_index()"
   ]
  },
  {
   "cell_type": "code",
   "execution_count": 38,
   "metadata": {},
   "outputs": [
    {
     "data": {
      "text/plain": [
       "(1217,)"
      ]
     },
     "execution_count": 38,
     "metadata": {},
     "output_type": "execute_result"
    }
   ],
   "source": [
    "# amount of cells with at least one ride\n",
    "rides_per_cell = agg_data[['region', 'id']].groupby('region').aggregate('sum').reset_index()\n",
    "rides_per_cell[rides_per_cell.id > 0].region.unique().shape"
   ]
  },
  {
   "cell_type": "code",
   "execution_count": 39,
   "metadata": {},
   "outputs": [
    {
     "data": {
      "text/plain": [
       "1283"
      ]
     },
     "execution_count": 39,
     "metadata": {},
     "output_type": "execute_result"
    }
   ],
   "source": [
    "# So there are 2500 - 1217 regions with no rides\n",
    "2500 - 1217"
   ]
  },
  {
   "cell_type": "markdown",
   "metadata": {},
   "source": [
    "## 2"
   ]
  },
  {
   "cell_type": "code",
   "execution_count": 46,
   "metadata": {},
   "outputs": [
    {
     "data": {
      "text/plain": [
       "<folium.map.Marker at 0x7f7324894588>"
      ]
     },
     "execution_count": 46,
     "metadata": {},
     "output_type": "execute_result"
    }
   ],
   "source": [
    "map_osm = folium.Map(location=[40.7128, -74.0059])\n",
    "folium.Marker([40.7484, -73.9857], popup='Empire state building').add_to(map_osm)"
   ]
  },
  {
   "cell_type": "markdown",
   "metadata": {},
   "source": [
    "##  3"
   ]
  },
  {
   "cell_type": "code",
   "execution_count": 50,
   "metadata": {},
   "outputs": [],
   "source": [
    "data_aggregated_total = data[['region', 'id']].groupby('region').aggregate('count').reset_index()"
   ]
  },
  {
   "cell_type": "code",
   "execution_count": 53,
   "metadata": {},
   "outputs": [],
   "source": [
    "lat_long = data_aggregated_total.apply(region_to_lat_long, axis=1)\n",
    "lat_long_reshped = np.array(list(zip(*zip(*lat_long))))\n",
    "data_aggregated_total['lat'] = lat_long_reshped[:, 0]\n",
    "data_aggregated_total['long'] = lat_long_reshped[:, 1]"
   ]
  },
  {
   "cell_type": "code",
   "execution_count": 54,
   "metadata": {},
   "outputs": [
    {
     "data": {
      "text/html": [
       "<div style=\"width:100%;\"><div style=\"position:relative;width:100%;height:0;padding-bottom:60%;\"><iframe src=\"data:text/html;charset=utf-8;base64,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\" style=\"position:absolute;width:100%;height:100%;left:0;top:0;border:none !important;\" allowfullscreen webkitallowfullscreen mozallowfullscreen></iframe></div></div>"
      ],
      "text/plain": [
       "<folium.folium.Map at 0x7f7324894400>"
      ]
     },
     "execution_count": 54,
     "metadata": {},
     "output_type": "execute_result"
    }
   ],
   "source": [
    "plugins.HeatMap(np.array(agg_filtered_data[['lat', 'long','id']]), radius=9).add_to(map_osm)\n",
    "map_osm"
   ]
  },
  {
   "cell_type": "markdown",
   "metadata": {},
   "source": [
    "## 4"
   ]
  },
  {
   "cell_type": "code",
   "execution_count": 55,
   "metadata": {},
   "outputs": [
    {
     "data": {
      "text/plain": [
       "<folium.map.Marker at 0x7f73248ca6d8>"
      ]
     },
     "execution_count": 55,
     "metadata": {},
     "output_type": "execute_result"
    }
   ],
   "source": [
    "map_osm = folium.Map(location=[40.7128, -74.0059])\n",
    "folium.Marker([40.6892, -74.0445], popup='Statue of Liberty').add_to(map_osm)"
   ]
  },
  {
   "cell_type": "markdown",
   "metadata": {},
   "source": [
    "## 5 and 6"
   ]
  },
  {
   "cell_type": "code",
   "execution_count": 57,
   "metadata": {
    "collapsed": true
   },
   "outputs": [],
   "source": [
    "# get regions with amount fo rider per hour less than 5\n",
    "rare_regions_df = agg_data[['region', 'id']].groupby('region').aggregate('mean').reset_index()\n",
    "rare_regions = rare_regions_df[rare_regions_df.id <= 5].region.unique()"
   ]
  },
  {
   "cell_type": "code",
   "execution_count": 75,
   "metadata": {
    "collapsed": true
   },
   "outputs": [],
   "source": [
    "# filter out rare regions. Sum all rides for whole month per each region\n",
    "agg_filtered_data = agg_data[~agg_data.region.isin(rare_regions)][['region', 'id']] \\\n",
    "    .groupby('region') \\\n",
    "    .aggregate('mean') \\\n",
    "    .reset_index()"
   ]
  },
  {
   "cell_type": "code",
   "execution_count": 70,
   "metadata": {
    "collapsed": true
   },
   "outputs": [],
   "source": [
    "# add coordinates for each record in dataframe ( for visulization)\n",
    "lat_long = agg_filtered_data.apply(region_to_lat_long, axis=1)\n",
    "lat_long_reshped = np.array(list(zip(*zip(*lat_long))))\n",
    "agg_filtered_data['lat'] = lat_long_reshped[:, 0]\n",
    "agg_filtered_data['long'] = lat_long_reshped[:, 1]"
   ]
  },
  {
   "cell_type": "code",
   "execution_count": 71,
   "metadata": {
    "scrolled": false
   },
   "outputs": [
    {
     "data": {
      "text/html": [
       "<div>\n",
       "<style>\n",
       "    .dataframe thead tr:only-child th {\n",
       "        text-align: right;\n",
       "    }\n",
       "\n",
       "    .dataframe thead th {\n",
       "        text-align: left;\n",
       "    }\n",
       "\n",
       "    .dataframe tbody tr th {\n",
       "        vertical-align: top;\n",
       "    }\n",
       "</style>\n",
       "<table border=\"1\" class=\"dataframe\">\n",
       "  <thead>\n",
       "    <tr style=\"text-align: right;\">\n",
       "      <th></th>\n",
       "      <th>region</th>\n",
       "      <th>id</th>\n",
       "    </tr>\n",
       "  </thead>\n",
       "  <tbody>\n",
       "    <tr>\n",
       "      <th>94</th>\n",
       "      <td>1683</td>\n",
       "      <td>5.251724</td>\n",
       "    </tr>\n",
       "    <tr>\n",
       "      <th>95</th>\n",
       "      <td>1684</td>\n",
       "      <td>18.693676</td>\n",
       "    </tr>\n",
       "    <tr>\n",
       "      <th>96</th>\n",
       "      <td>1733</td>\n",
       "      <td>6.371248</td>\n",
       "    </tr>\n",
       "    <tr>\n",
       "      <th>97</th>\n",
       "      <td>1734</td>\n",
       "      <td>224.497191</td>\n",
       "    </tr>\n",
       "    <tr>\n",
       "      <th>98</th>\n",
       "      <td>1783</td>\n",
       "      <td>209.171946</td>\n",
       "    </tr>\n",
       "    <tr>\n",
       "      <th>99</th>\n",
       "      <td>2068</td>\n",
       "      <td>100.172805</td>\n",
       "    </tr>\n",
       "    <tr>\n",
       "      <th>100</th>\n",
       "      <td>2069</td>\n",
       "      <td>12.015314</td>\n",
       "    </tr>\n",
       "    <tr>\n",
       "      <th>101</th>\n",
       "      <td>2118</td>\n",
       "      <td>146.490591</td>\n",
       "    </tr>\n",
       "    <tr>\n",
       "      <th>102</th>\n",
       "      <td>2119</td>\n",
       "      <td>39.166920</td>\n",
       "    </tr>\n",
       "    <tr>\n",
       "      <th>103</th>\n",
       "      <td>2168</td>\n",
       "      <td>73.153515</td>\n",
       "    </tr>\n",
       "  </tbody>\n",
       "</table>\n",
       "</div>"
      ],
      "text/plain": [
       "     region          id\n",
       "94     1683    5.251724\n",
       "95     1684   18.693676\n",
       "96     1733    6.371248\n",
       "97     1734  224.497191\n",
       "98     1783  209.171946\n",
       "99     2068  100.172805\n",
       "100    2069   12.015314\n",
       "101    2118  146.490591\n",
       "102    2119   39.166920\n",
       "103    2168   73.153515"
      ]
     },
     "execution_count": 71,
     "metadata": {},
     "output_type": "execute_result"
    }
   ],
   "source": [
    "agg_filtered_data[['region', 'id']].tail(10)"
   ]
  },
  {
   "cell_type": "code",
   "execution_count": 73,
   "metadata": {},
   "outputs": [
    {
     "data": {
      "text/html": [
       "<div style=\"width:100%;\"><div style=\"position:relative;width:100%;height:0;padding-bottom:60%;\"><iframe src=\"data:text/html;charset=utf-8;base64,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\" style=\"position:absolute;width:100%;height:100%;left:0;top:0;border:none !important;\" allowfullscreen webkitallowfullscreen mozallowfullscreen></iframe></div></div>"
      ],
      "text/plain": [
       "<folium.folium.Map at 0x7f7324763048>"
      ]
     },
     "execution_count": 73,
     "metadata": {},
     "output_type": "execute_result"
    }
   ],
   "source": [
    "# plot heatmap with color propotrional to amount of rides\n",
    "from folium import plugins\n",
    "plugins.HeatMap(np.array(agg_filtered_data[['lat', 'long','id']]), radius=9).add_to(map_osm)\n",
    "map_osm"
   ]
  }
 ],
 "metadata": {
  "kernelspec": {
   "display_name": "py35",
   "language": "python",
   "name": "py35"
  },
  "language_info": {
   "codemirror_mode": {
    "name": "ipython",
    "version": 3
   },
   "file_extension": ".py",
   "mimetype": "text/x-python",
   "name": "python",
   "nbconvert_exporter": "python",
   "pygments_lexer": "ipython3",
   "version": "3.5.3"
  }
 },
 "nbformat": 4,
 "nbformat_minor": 2
}
