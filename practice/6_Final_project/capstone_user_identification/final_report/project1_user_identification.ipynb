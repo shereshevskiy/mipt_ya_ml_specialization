{
 "cells": [
  {
   "cell_type": "markdown",
   "metadata": {},
   "source": [
    "<center> <img src=\"https://habrastorage.org/web/677/8e1/337/6778e1337c3d4b159d7e99df94227cb2.jpg\"/>    \n",
    "<table>\n",
    "    <th><font size=5>Специализация \"Машинное обучение и анализ данных\" от:</font></th>\n",
    "    <th><img src=\"https://d3njjcbhbojbot.cloudfront.net/api/utilities/v1/imageproxy/https://d15cw65ipctsrr.cloudfront.net/11/ae0000b18911e5965623dd71776f15/mipt.png?auto=format%2Ccompress&dpr=1&w=200&h=100&fit=clip\"/> </th>\n",
    "    <th><img src=\"https://d3njjcbhbojbot.cloudfront.net/api/utilities/v1/imageproxy/https://d15cw65ipctsrr.cloudfront.net/fe/ab6f503b2b11e796ddbfacaf40b9e6/Yandex.jpg?auto=format%2Ccompress&dpr=1&w=200&h=100&fit=clip\"/></th>\n",
    "</table>\n",
    "# <center>ОТЧЕТ \n",
    "# <center>о выполненном Проекте\n",
    "# <center> ПРОЕКТ: Идентификация пользователей по посещенным веб-страницам\n",
    "# <center> АВТОР ПРОЕКТА: Дмитрий Шерешевский, к.ф.-м.н."
   ]
  },
  {
   "cell_type": "markdown",
   "metadata": {},
   "source": [
    "## <center> ПРЕДИСЛОВИЕ\n",
    "\n",
    "Настоящий Отчет представляет собой сокращенное изложение Проекта \"Идентификация пользователей по посещенным веб-страницам\", выполненного в рамках Специализации **\"Машинное обучение и анализ данных. Типовые задачи машинного обучения и анализа данных и методы их решения\"** от авторов - **MIPT** и **Yandex**. Автор исходного материала проекта - программист-исследователь Mail.ru Group, старший преподаватель Факультета Компьютерных Наук ВШЭ Юрий Кашницкий.\n",
    "\n",
    "Полную версию выполненной работы можно посмотреть [здесь](https://github.com/shereshevskiy/mipt_ya_ml_spec_final_report1_user_identification/tree/master/capstone_user_identification_fullversion)\n",
    "\n",
    "Отчет содержит все основные разработки, сделанные в ходе выполнения Проекта, а также выводы, итоги и анализ промежуточных результатов.    \n",
    "### Отчет содержит:\n",
    "- цели и задачи проекта, описание исходных и обработанных данных и признаков\n",
    "- первичный анализ признаков\n",
    "- первичный визуальный анализ признаков\n",
    "- некоторые \"инсайтам\", и обнаруженные закономерности\n",
    "- описание предобработки данных\n",
    "- описание признаков и процесса их создания\n",
    "- кросс-валидация, построение кривых валидации и обучения\n",
    "- оценка модели с описанием выбранной метрики: (простыми словами) качество модели, как она может применяться\n",
    "- выводы: как построенная модель может применяться на практике, какие бизнес-задачи решать. Итог, что еще можно сделать, а что сделать не удалось."
   ]
  },
  {
   "cell_type": "markdown",
   "metadata": {},
   "source": [
    "# <center>Часть 1.\n",
    "## <center> Цели и задачи проекта, описание исходных и обработанных данных и признаков.\n",
    "## <center> 1.1. Цели и задачи проекта\n",
    "\n",
    "В этом проекте решается задача идентификации пользователя по его поведению в сети Интернет. Это сложная и интересная задача на стыке анализа данных и поведенческой психологии. В качестве примера, компания Яндекс решает задачу идентификации взломщика почтового ящика по его поведению. Если в двух словах, взломщик будет себя вести не так, как владелец ящика: он может не удалять сообщения сразу по прочтении, как это делал хозяин, он будет по-другому ставить флажки сообщениям и даже по-своему двигать мышкой. Тогда такого злоумышленника можно идентифицировать и \"выкинуть\" из почтового ящика, предложив хозяину войти по SMS-коду. Этот пилотный проект описан в [статье](https://habrahabr.ru/company/yandex/blog/230583/) на Хабрахабре. Похожие вещи делаются, например, в Google Analytics и описываются в научных статьях, найти можно многое по фразам \"Traversal Pattern Mining\" и \"Sequential Pattern Mining\".\n",
    "\n",
    "<img src='http://smartcity.eletsonline.com/wp-content/uploads/2017/04/digitalindia.png'>\n",
    "\n",
    "Мы будем решать похожую задачу: по последовательности из нескольких веб-сайтов, посещенных подряд одним и тем же человеком, мы будем идентифицировать этого человека. **Идея такая**: пользователи Интернета по-разному переходят по ссылкам, и это может помогать их идентифицировать (кто-то сначала в почту, потом про футбол почитать, затем новости, контакт, потом наконец – работать, кто-то – сразу работать).\n",
    "\n",
    "## <center>1.2. Описание исходных данных\n",
    "\n",
    "Будем использовать данные из [статьи](http://ceur-ws.org/Vol-1703/paper12.pdf) \"A Tool for Classification of Sequential Data\". И хотя мы не можем рекомендовать эту статью (описанные методы далеки от state-of-the-art, лучше обращаться к [книге](http://www.charuaggarwal.net/freqbook.pdf) \"Frequent Pattern Mining\" и последним статьям с ICDM), но данные там собраны аккуратно и представляют интерес.\n",
    "\n",
    "Имеются данные с прокси-серверов Университета Блеза Паскаля, они имеют очень простой вид. Для каждого пользователя заведен csv-файл с названием **user\\*\\*\\*\\*.csv** (где вместо звездочек – 4 цифры, соответствующие ID пользователя), а в нем посещения сайтов записаны в следующем формате: <br>\n",
    "\n",
    "<center>*timestamp (время), посещенный веб-сайт*</center>\n",
    "\n",
    "Скачать исходные данные можно по ссылке в статье, там же описание.\n",
    "    На первом этапе мы будем разрабатывать и тестировать необходимые программы для идентификации пользователе. Поэтому нам удобнее будет использовать данные не по всем 3000 пользователям, а по 10 и 150. [Ссылка](https://drive.google.com/open?id=11AqEDEITiodB8fcB8IZvp_5odfZuqAsS) на архив *capstone_user_identification* (~7 Mb, в развернутом виде ~ 60 Mb). \n",
    "\n",
    "Многие вычисления достаточно ресурсозатратны и требуют много времени, поэтому мы будем использовать параллельно 2 выборки: по 10 пользователям и по 150. Для 10 пользователей будем писать и отлаживать код, для 150 – будет рабочая версия. \n",
    "\n",
    "Создадим три каталога:\n",
    "\n",
    " - В каталоге 10users лежат 10 csv-файлов с названием вида \"user[USER_ID].csv\", где [USER_ID] – ID пользователя;\n",
    " - Аналогично для каталога 150users – там 150 файлов;\n",
    " - В каталоге 3users – игрушечный пример из 3 файлов, это для отладки кода предобработки, который мы напишем в ходе проекта.\n",
    "\n",
    "На финальной стадии проекта мы продемонстрируем разработанные возможности идентификации в ходе публичного  [соревнования](https://www.kaggle.com/c/catch-me-if-you-can-intruder-detection-through-webpage-session-tracking2) Kaggle Inclass, которое организовано специально для подобных предсказательных систем. \n",
    "\n",
    "## <center> 1.3. Подготовка данных к анализу и построению моделей\n",
    "\n",
    "Первая часть проекта посвящена подготовке данных для дальнейшего описательного анализа и построения прогнозных моделей. Будет написан код для предобработки данных (исходно посещенные веб-сайты указаны для каждого пользователя в отдельном файле) и формирования единой обучающей выборки. Также в этой части мы применим разреженный формат данных (матрицы `Scipy.sparse`), который хорошо подходит для данной задачи."
   ]
  },
  {
   "cell_type": "code",
   "execution_count": 1,
   "metadata": {
    "collapsed": true
   },
   "outputs": [],
   "source": [
    "from glob import glob\n",
    "import os\n",
    "import pickle\n",
    "#pip install tqdm\n",
    "from tqdm import tqdm_notebook\n",
    "import numpy as np\n",
    "import pandas as pd\n",
    "from scipy.sparse import csr_matrix\n",
    "from scipy import stats\n",
    "from statsmodels.stats.proportion import proportion_confint\n",
    "%matplotlib inline\n",
    "from matplotlib import pyplot as plt\n",
    "pd.set_option('display.max.columns', 25)\n",
    "import pickle\n",
    "import seaborn as sns\n",
    "from sklearn.model_selection import train_test_split, cross_val_score, StratifiedKFold, GridSearchCV\n",
    "from sklearn.linear_model import LogisticRegression, SGDClassifier\n",
    "from sklearn.preprocessing import LabelEncoder\n",
    "from sklearn.metrics import accuracy_score, f1_score, roc_auc_score"
   ]
  },
  {
   "cell_type": "code",
   "execution_count": 2,
   "metadata": {
    "collapsed": true
   },
   "outputs": [],
   "source": [
    "# Путь к данным\n",
    "PATH_TO_DATA = ('../data' )"
   ]
  },
  {
   "cell_type": "markdown",
   "metadata": {},
   "source": [
    "**Чтобы продемонстрировать, как выглядят исходные данные, посмотрим на один из файлов с данными о посещенных неким пользователем номер 31 веб-страниц:**"
   ]
  },
  {
   "cell_type": "code",
   "execution_count": 3,
   "metadata": {
    "collapsed": true
   },
   "outputs": [],
   "source": [
    "user31_data = pd.read_csv(os.path.join(PATH_TO_DATA, \n",
    "                                       '10users/user0031.csv'))"
   ]
  },
  {
   "cell_type": "code",
   "execution_count": 4,
   "metadata": {},
   "outputs": [
    {
     "data": {
      "text/html": [
       "<div>\n",
       "<style>\n",
       "    .dataframe thead tr:only-child th {\n",
       "        text-align: right;\n",
       "    }\n",
       "\n",
       "    .dataframe thead th {\n",
       "        text-align: left;\n",
       "    }\n",
       "\n",
       "    .dataframe tbody tr th {\n",
       "        vertical-align: top;\n",
       "    }\n",
       "</style>\n",
       "<table border=\"1\" class=\"dataframe\">\n",
       "  <thead>\n",
       "    <tr style=\"text-align: right;\">\n",
       "      <th></th>\n",
       "      <th>timestamp</th>\n",
       "      <th>site</th>\n",
       "    </tr>\n",
       "  </thead>\n",
       "  <tbody>\n",
       "    <tr>\n",
       "      <th>0</th>\n",
       "      <td>2013-11-15 08:12:07</td>\n",
       "      <td>fpdownload2.macromedia.com</td>\n",
       "    </tr>\n",
       "    <tr>\n",
       "      <th>1</th>\n",
       "      <td>2013-11-15 08:12:17</td>\n",
       "      <td>laposte.net</td>\n",
       "    </tr>\n",
       "    <tr>\n",
       "      <th>2</th>\n",
       "      <td>2013-11-15 08:12:17</td>\n",
       "      <td>www.laposte.net</td>\n",
       "    </tr>\n",
       "    <tr>\n",
       "      <th>3</th>\n",
       "      <td>2013-11-15 08:12:17</td>\n",
       "      <td>www.google.com</td>\n",
       "    </tr>\n",
       "    <tr>\n",
       "      <th>4</th>\n",
       "      <td>2013-11-15 08:12:18</td>\n",
       "      <td>www.laposte.net</td>\n",
       "    </tr>\n",
       "  </tbody>\n",
       "</table>\n",
       "</div>"
      ],
      "text/plain": [
       "             timestamp                        site\n",
       "0  2013-11-15 08:12:07  fpdownload2.macromedia.com\n",
       "1  2013-11-15 08:12:17                 laposte.net\n",
       "2  2013-11-15 08:12:17             www.laposte.net\n",
       "3  2013-11-15 08:12:17              www.google.com\n",
       "4  2013-11-15 08:12:18             www.laposte.net"
      ]
     },
     "execution_count": 4,
     "metadata": {},
     "output_type": "execute_result"
    }
   ],
   "source": [
    "user31_data.head()"
   ]
  },
  {
   "cell_type": "markdown",
   "metadata": {},
   "source": [
    "** Чтобы идентифицировать пользователя, поставим задачу классификации следующим образом: идентифицировать пользователя по сессии из 10 подряд посещенных сайтов.**    \n",
    "Объектом в этой задаче будет сессия из 10 сайтов, последовательно посещенных одним и тем же пользователем, признаками – индексы этих 10 сайтов (чуть позже здесь появится \"мешок\" сайтов, подход Bag of Words). Целевым классом будет id пользователя."
   ]
  },
  {
   "cell_type": "markdown",
   "metadata": {},
   "source": [
    "## <center>1.4. Подготовка обучающей выборки\n",
    "\n",
    "Реализуем функцию *prepare_train_set*, которая принимает на вход путь к каталогу с csv-файлами *path_to_csv_files* и параметр *session_length* – длину сессии, а возвращает 2 объекта:\n",
    "- DataFrame, в котором строки соответствуют уникальным сессиям из *session_length* сайтов, *session_length* столбцов – индексам этих *session_length* сайтов и последний столбец – ID пользователя\n",
    "- частотный словарь сайтов вида {'site_string': [site_id, site_freq]}, например для недавнего игрушечного примера это будет {'vk.com': (1, 2), 'google.com': (2, 2), 'yandex.ru': (3, 3), 'facebook.com': (4, 1)}\n",
    "\n",
    "Детали:\n",
    "- Для обхода файлов в каталоге будем использовать `glob`. Список файлов можно также отсортировать лексикографически. Для удобства применим `tqdm_notebook` для отслеживания числа выполненных итераций цикла\n",
    "- Создадим частотный словарь уникальных сайтов (вида {'site_string': (site_id, site_freq)}) и заполним его по ходу чтения файлов (начнем с 1)\n",
    "- По возможности меньшие индексы будем давать более часто попадающимся сайтам (приницип наименьшего описания)\n",
    "- Пока для упрощения не будем делать entity recognition, то есть будем считать *google.com*, *http://www.google.com* и *www.google.com* разными сайтами (подключить entity recognition можно будет в дальнейшем)\n",
    "- Скорее всего в файле число записей не кратно числу *session_length*. Тогда последняя сессия будет короче. Остаток заполним нулями. То есть если в файле 24 записи и сессии длины 10, то 3 сессия будет состоять из 4 сайтов, и ей мы сопоставим вектор [*site1_id*, *site2_id*, *site3_id*, *site4_id*, 0, 0, 0, 0, 0, 0, *user_id*] \n",
    "- В итоге некоторые сессии могут повторяться – оставим как есть, без удаления дубликатов. Если в двух сессиях все сайты одинаковы, но сессии принадлежат разным пользователям, то тоже оставим как есть, это естественная неопределенность в данных\n",
    "- Не будем оставлять в частотном словаре сайт 0 (уже в конце, когда функция возвращает этот словарь)."
   ]
  },
  {
   "cell_type": "code",
   "execution_count": 5,
   "metadata": {
    "collapsed": true
   },
   "outputs": [],
   "source": [
    "def prepare_train_set(path_to_csv_files, session_length=10):\n",
    "    '''\n",
    "    Функция принимает на вход путь к каталогу с csv-файлами path_to_csv_files и параметр session_length – длину сессии, \n",
    "    а возвращает 2 объекта:\n",
    "        - DataFrame, в котором строки соответствуют уникальным сессиям из session_length сайтов, session_length столбцов – \n",
    "        индексам этих session_length сайтов и последний столбец – ID пользователя;\n",
    "        - частотный словарь сайтов вида {'site_string': [site_id, site_freq]}, например для недавнего игрушечного примера это \n",
    "        будет {'vk.com': (1, 2), 'google.com': (2, 2), 'yandex.ru': (3, 3), 'facebook.com': (4, 1)}\n",
    "    '''\n",
    "    # инициализация\n",
    "    freq_vocabulary = {} # частотный словарь\n",
    "        \n",
    "    # заготовка для массива уникальных сессий\n",
    "    array_toy = np.zeros(session_length + 1).reshape(1, session_length + 1)\n",
    "       \n",
    "    # подготовим пути для обхода и обойдем:\n",
    "    for path in tqdm_notebook(glob(os.path.join(path_to_csv_files, 'user*.csv'))):\n",
    "\n",
    "        user_id = int(path[-8:-4]) # id пользователя\n",
    "        \n",
    "        # считаем файл\n",
    "        data_readed = pd.read_csv(path, header=0, index_col=0)\n",
    "        data = data_readed['site'].values.copy() # и скопируем его в numpy-массив\n",
    "        \n",
    "        # формируем частотный словарь и сразу перекодируем сайты в их site_id\n",
    "        data_site_ids = []\n",
    "        for site_string in data:\n",
    "            site_id = freq_vocabulary.setdefault(site_string, [len(freq_vocabulary) + 1, 0])[0]\n",
    "            freq_vocabulary[site_string][1] += 1\n",
    "            data_site_ids.append(site_id)\n",
    "        \n",
    "        # переведем в numpy-массив, чтобы применить resize\n",
    "        data_site_ids = np.array(data_site_ids)\n",
    "        \n",
    "        # формируем массив уникальных сессий через resize                        \n",
    "        row = int(len(data_site_ids) / session_length) + 1 if len(data_site_ids) % session_length != 0 \\\n",
    "                                                               else int(len(data_site_ids) / session_length)\n",
    "        data_site_ids.resize((row, session_length))\n",
    "        \n",
    "        \n",
    "        \n",
    "        # добавим колонку с user_id\n",
    "        col_user_id = np.zeros([len(data_site_ids), 1]) + user_id # forming columns with user_id\n",
    "        data_site_ids = np.hstack((data_site_ids, col_user_id))\n",
    "        \n",
    "        # накапливаем сессии\n",
    "        array_toy = np.vstack((array_toy, data_site_ids))   \n",
    "            \n",
    "    # готовим датафрейм сессий на выдачу\n",
    "    data_toy = pd.DataFrame(array_toy[1:]) # убираем 1 нулевую строку                           \n",
    "    data_toy.columns = ['site{}'.format(i) for i in range(1, session_length + 1)] + ['user_id']\n",
    "                                        \n",
    "    return data_toy.applymap(int), freq_vocabulary"
   ]
  },
  {
   "cell_type": "markdown",
   "metadata": {},
   "source": [
    "Применим функцию к \"игрушечному\" примеру и посмотрим, как выглядят сформированные из исходных данных сессии, которые будут в дальнейшем объектом распознавания, и словарь сайтов с частотами."
   ]
  },
  {
   "cell_type": "code",
   "execution_count": 9,
   "metadata": {},
   "outputs": [
    {
     "data": {
      "application/vnd.jupyter.widget-view+json": {
       "model_id": "fc4ca176beb047a6882caf145d220c82",
       "version_major": 2,
       "version_minor": 0
      },
      "text/plain": [
       "A Jupyter Widget"
      ]
     },
     "metadata": {},
     "output_type": "display_data"
    },
    {
     "name": "stdout",
     "output_type": "stream",
     "text": [
      "\n"
     ]
    }
   ],
   "source": [
    "train_data_toy, site_freq_3users = prepare_train_set(os.path.join(PATH_TO_DATA, '3users'), \n",
    "                                                     session_length=10)"
   ]
  },
  {
   "cell_type": "code",
   "execution_count": 10,
   "metadata": {},
   "outputs": [
    {
     "data": {
      "text/html": [
       "<div>\n",
       "<style>\n",
       "    .dataframe thead tr:only-child th {\n",
       "        text-align: right;\n",
       "    }\n",
       "\n",
       "    .dataframe thead th {\n",
       "        text-align: left;\n",
       "    }\n",
       "\n",
       "    .dataframe tbody tr th {\n",
       "        vertical-align: top;\n",
       "    }\n",
       "</style>\n",
       "<table border=\"1\" class=\"dataframe\">\n",
       "  <thead>\n",
       "    <tr style=\"text-align: right;\">\n",
       "      <th></th>\n",
       "      <th>site1</th>\n",
       "      <th>site2</th>\n",
       "      <th>site3</th>\n",
       "      <th>site4</th>\n",
       "      <th>site5</th>\n",
       "      <th>site6</th>\n",
       "      <th>site7</th>\n",
       "      <th>site8</th>\n",
       "      <th>site9</th>\n",
       "      <th>site10</th>\n",
       "      <th>user_id</th>\n",
       "    </tr>\n",
       "  </thead>\n",
       "  <tbody>\n",
       "    <tr>\n",
       "      <th>0</th>\n",
       "      <td>1</td>\n",
       "      <td>2</td>\n",
       "      <td>2</td>\n",
       "      <td>3</td>\n",
       "      <td>2</td>\n",
       "      <td>4</td>\n",
       "      <td>5</td>\n",
       "      <td>6</td>\n",
       "      <td>7</td>\n",
       "      <td>8</td>\n",
       "      <td>1</td>\n",
       "    </tr>\n",
       "    <tr>\n",
       "      <th>1</th>\n",
       "      <td>1</td>\n",
       "      <td>4</td>\n",
       "      <td>4</td>\n",
       "      <td>4</td>\n",
       "      <td>0</td>\n",
       "      <td>0</td>\n",
       "      <td>0</td>\n",
       "      <td>0</td>\n",
       "      <td>0</td>\n",
       "      <td>0</td>\n",
       "      <td>1</td>\n",
       "    </tr>\n",
       "    <tr>\n",
       "      <th>2</th>\n",
       "      <td>1</td>\n",
       "      <td>2</td>\n",
       "      <td>9</td>\n",
       "      <td>9</td>\n",
       "      <td>2</td>\n",
       "      <td>0</td>\n",
       "      <td>0</td>\n",
       "      <td>0</td>\n",
       "      <td>0</td>\n",
       "      <td>0</td>\n",
       "      <td>2</td>\n",
       "    </tr>\n",
       "    <tr>\n",
       "      <th>3</th>\n",
       "      <td>10</td>\n",
       "      <td>4</td>\n",
       "      <td>2</td>\n",
       "      <td>4</td>\n",
       "      <td>2</td>\n",
       "      <td>4</td>\n",
       "      <td>4</td>\n",
       "      <td>6</td>\n",
       "      <td>11</td>\n",
       "      <td>10</td>\n",
       "      <td>3</td>\n",
       "    </tr>\n",
       "    <tr>\n",
       "      <th>4</th>\n",
       "      <td>10</td>\n",
       "      <td>4</td>\n",
       "      <td>2</td>\n",
       "      <td>0</td>\n",
       "      <td>0</td>\n",
       "      <td>0</td>\n",
       "      <td>0</td>\n",
       "      <td>0</td>\n",
       "      <td>0</td>\n",
       "      <td>0</td>\n",
       "      <td>3</td>\n",
       "    </tr>\n",
       "  </tbody>\n",
       "</table>\n",
       "</div>"
      ],
      "text/plain": [
       "   site1  site2  site3  site4  site5  site6  site7  site8  site9  site10  \\\n",
       "0      1      2      2      3      2      4      5      6      7       8   \n",
       "1      1      4      4      4      0      0      0      0      0       0   \n",
       "2      1      2      9      9      2      0      0      0      0       0   \n",
       "3     10      4      2      4      2      4      4      6     11      10   \n",
       "4     10      4      2      0      0      0      0      0      0       0   \n",
       "\n",
       "   user_id  \n",
       "0        1  \n",
       "1        1  \n",
       "2        2  \n",
       "3        3  \n",
       "4        3  "
      ]
     },
     "execution_count": 10,
     "metadata": {},
     "output_type": "execute_result"
    }
   ],
   "source": [
    "train_data_toy"
   ]
  },
  {
   "cell_type": "code",
   "execution_count": 11,
   "metadata": {},
   "outputs": [
    {
     "data": {
      "text/plain": [
       "{'accounts.google.com': [5, 1],\n",
       " 'apis.google.com': [7, 1],\n",
       " 'football.kulichki.ru': [9, 2],\n",
       " 'geo.mozilla.org': [3, 1],\n",
       " 'google.com': [4, 9],\n",
       " 'mail.google.com': [6, 2],\n",
       " 'meduza.io': [10, 3],\n",
       " 'oracle.com': [2, 8],\n",
       " 'plus.google.com': [8, 1],\n",
       " 'vk.com': [1, 3],\n",
       " 'yandex.ru': [11, 1]}"
      ]
     },
     "execution_count": 11,
     "metadata": {},
     "output_type": "execute_result"
    }
   ],
   "source": [
    "site_freq_3users"
   ]
  },
  {
   "cell_type": "markdown",
   "metadata": {},
   "source": [
    "**Применим полученную функцию к данным по 150 пользователям**"
   ]
  },
  {
   "cell_type": "code",
   "execution_count": 15,
   "metadata": {},
   "outputs": [
    {
     "data": {
      "application/vnd.jupyter.widget-view+json": {
       "model_id": "60efb3f15de743b38767f9536cf0008d",
       "version_major": 2,
       "version_minor": 0
      },
      "text/plain": [
       "A Jupyter Widget"
      ]
     },
     "metadata": {},
     "output_type": "display_data"
    },
    {
     "name": "stdout",
     "output_type": "stream",
     "text": [
      "\n",
      "Wall time: 9.88 s\n"
     ]
    }
   ],
   "source": [
    "%%time\n",
    "train_data_150users, site_freq_150users = prepare_train_set(os.path.join(PATH_TO_DATA, '150users'), \n",
    "                                                            session_length=10)"
   ]
  },
  {
   "cell_type": "markdown",
   "metadata": {},
   "source": [
    "**Посмотрим, сколько всего уникальных сайтов в выборке из 150 пользователей: **"
   ]
  },
  {
   "cell_type": "code",
   "execution_count": 16,
   "metadata": {},
   "outputs": [
    {
     "data": {
      "text/plain": [
       "27797"
      ]
     },
     "execution_count": 16,
     "metadata": {},
     "output_type": "execute_result"
    }
   ],
   "source": [
    "len(site_freq_150users)"
   ]
  },
  {
   "cell_type": "markdown",
   "metadata": {},
   "source": [
    "**Выведем топ-10 самых популярных сайтов среди посещенных 150 пользователями.**"
   ]
  },
  {
   "cell_type": "code",
   "execution_count": 17,
   "metadata": {
    "collapsed": true
   },
   "outputs": [],
   "source": [
    "top10_popular = list(map(lambda x: x[0], sorted(site_freq_150users.items(), key=lambda x: x[1][1], reverse=True)))[:10]"
   ]
  },
  {
   "cell_type": "code",
   "execution_count": 18,
   "metadata": {},
   "outputs": [
    {
     "data": {
      "text/plain": [
       "['www.google.fr',\n",
       " 'www.google.com',\n",
       " 'www.facebook.com',\n",
       " 'apis.google.com',\n",
       " 's.youtube.com',\n",
       " 'clients1.google.com',\n",
       " 'mail.google.com',\n",
       " 'plus.google.com',\n",
       " 'safebrowsing-cache.google.com',\n",
       " 'www.youtube.com']"
      ]
     },
     "execution_count": 18,
     "metadata": {},
     "output_type": "execute_result"
    }
   ],
   "source": [
    "top10_popular"
   ]
  },
  {
   "cell_type": "markdown",
   "metadata": {},
   "source": [
    "**Для дальнейшего анализа запишем полученные объекты DataFrame в csv-файлы.**"
   ]
  },
  {
   "cell_type": "code",
   "execution_count": 32,
   "metadata": {
    "collapsed": true
   },
   "outputs": [],
   "source": [
    "train_data_10users.to_csv(os.path.join(PATH_TO_DATA, \n",
    "                                       'train_data_10users.csv'), \n",
    "                        index_label='session_id', float_format='%d')\n",
    "train_data_150users.to_csv(os.path.join(PATH_TO_DATA, \n",
    "                                        'train_data_150users.csv'), \n",
    "                         index_label='session_id', float_format='%d')"
   ]
  },
  {
   "cell_type": "markdown",
   "metadata": {},
   "source": [
    "## <center> 1.5. Работа с разреженным форматом данных"
   ]
  },
  {
   "cell_type": "markdown",
   "metadata": {},
   "source": [
    "Если так подумать, то полученные признаки *site1*, ..., *site10* смысла не имеют как признаки в задаче классификации. А вот если воспользоваться идеей мешка слов из анализа текстов – это другое дело. Создадим новые матрицы, в которых строкам будут соответствовать сессии из 10 сайтов, а столбцам – индексы сайтов. На пересечении строки $i$ и столбца $j$ будет стоять число $n_{ij}$ – cколько раз сайт $j$ встретился в сессии номер $i$. Делать это будем с помощью разреженных матриц Scipy – [csr_matrix](https://docs.scipy.org/doc/scipy-0.18.1/reference/generated/scipy.sparse.csr_matrix.html). Создадим такие матрицы для наших данных.    \n",
    "Обратим внимание, что в коротких сессиях, меньше 10 сайтов, у нас остались нули, так что первый признак (сколько раз попался 0) по смыслу отличен от остальных (сколько раз попался сайт с индексом $i$). Поэтому первый столбец разреженной матрицы удалим. "
   ]
  },
  {
   "cell_type": "code",
   "execution_count": 61,
   "metadata": {},
   "outputs": [
    {
     "data": {
      "text/plain": [
       "matrix([[1, 3, 1, 1, 1, 1, 1, 1, 0, 0, 0],\n",
       "        [1, 0, 0, 3, 0, 0, 0, 0, 0, 0, 0],\n",
       "        [1, 2, 0, 0, 0, 0, 0, 0, 2, 0, 0],\n",
       "        [0, 2, 0, 4, 0, 1, 0, 0, 0, 2, 1],\n",
       "        [0, 1, 0, 1, 0, 0, 0, 0, 0, 1, 0]], dtype=int32)"
      ]
     },
     "execution_count": 61,
     "metadata": {},
     "output_type": "execute_result"
    }
   ],
   "source": [
    "X_sparse_toy.todense()"
   ]
  },
  {
   "cell_type": "code",
   "execution_count": 62,
   "metadata": {
    "collapsed": true
   },
   "outputs": [],
   "source": [
    "X_10users, y_10users = train_data_10users.iloc[:, :-1].values, \\\n",
    "                       train_data_10users.iloc[:, -1].values\n",
    "X_150users, y_150users = train_data_150users.iloc[:, :-1].values, \\\n",
    "                         train_data_150users.iloc[:, -1].values"
   ]
  },
  {
   "cell_type": "code",
   "execution_count": 63,
   "metadata": {
    "collapsed": true
   },
   "outputs": [],
   "source": [
    "X_sparse_10users = csr_matrix(((np.ones(X_10users.size), \n",
    "                            X_10users.ravel(), \n",
    "                            np.arange(X_10users.shape[0] + 1) * X_10users.shape[1])), dtype=int)[:, 1:]\n",
    "X_sparse_150users = csr_matrix(((np.ones(X_150users.size), \n",
    "                            X_150users.ravel(), \n",
    "                            np.arange(X_150users.shape[0] + 1) * X_150users.shape[1])), dtype=int)[:, 1:]"
   ]
  },
  {
   "cell_type": "markdown",
   "metadata": {},
   "source": [
    "**Сохраним эти разреженные матрицы с помощью [pickle](https://docs.python.org/2/library/pickle.html) (сериализация в Python), также сохраним вектора *y_10users, y_150users* – целевые значения (id пользователя)  в выборках из 10 и 150 пользователей. На этих данных мы будем проверять первые модели классификации.\n",
    "Сохраним также и частотные словари сайтов для 3, 10 и 150 пользователей.**"
   ]
  },
  {
   "cell_type": "code",
   "execution_count": 64,
   "metadata": {
    "collapsed": true
   },
   "outputs": [],
   "source": [
    "with open(os.path.join(PATH_TO_DATA, 'X_sparse_10users.pkl'), 'wb') as X10_pkl:\n",
    "    pickle.dump(X_sparse_10users, X10_pkl, protocol=2)\n",
    "with open(os.path.join(PATH_TO_DATA, 'y_10users.pkl'), 'wb') as y10_pkl:\n",
    "    pickle.dump(y_10users, y10_pkl, protocol=2)\n",
    "with open(os.path.join(PATH_TO_DATA, 'X_sparse_150users.pkl'), 'wb') as X150_pkl:\n",
    "    pickle.dump(X_sparse_150users, X150_pkl, protocol=2)\n",
    "with open(os.path.join(PATH_TO_DATA, 'y_150users.pkl'), 'wb') as y150_pkl:\n",
    "    pickle.dump(y_150users, y150_pkl, protocol=2)\n",
    "with open(os.path.join(PATH_TO_DATA, 'site_freq_3users.pkl'), 'wb') as site_freq_3users_pkl:\n",
    "    pickle.dump(site_freq_3users, site_freq_3users_pkl, protocol=2)\n",
    "with open(os.path.join(PATH_TO_DATA, 'site_freq_10users.pkl'), 'wb') as site_freq_10users_pkl:\n",
    "    pickle.dump(site_freq_10users, site_freq_10users_pkl, protocol=2)\n",
    "with open(os.path.join(PATH_TO_DATA, 'site_freq_150users.pkl'), 'wb') as site_freq_150users_pkl:\n",
    "    pickle.dump(site_freq_150users, site_freq_150users_pkl, protocol=2)"
   ]
  },
  {
   "cell_type": "markdown",
   "metadata": {},
   "source": [
    "# <center>Часть 2. \n",
    "# <center>Подготовка и первичный анализ данных\n",
    "## <center> Введение\n",
    "\n",
    "Во второй части мы продолжим подготавливать данные для дальнейшего анализа и построения прогнозных моделей. Конкретно, раньше мы определили что сессия – это последовательность из 10 посещенных пользователем сайтов, теперь сделаем длину сессии параметром, и потом при обучении прогнозных моделей выберем лучшую длину сессии.\n",
    "Также мы познакомимся с предобработанными данными и статистически проверим первые гипотезы, связанные с нашими наблюдениями. "
   ]
  },
  {
   "cell_type": "markdown",
   "metadata": {},
   "source": [
    "## <center> 2.1. Подготовка нескольких обучающих выборок для сравнения\n",
    "\n",
    "Пока мы брали последовательности из 10 сайтов, и это было наобум. Давайте сделаем число сайтов в сессии параметром, чтоб в дальнейшем сравнить модели классификации, обученные на разных выборках – с 5, 7, 10 и 15 сайтами в сессии. Более того, пока мы брали по 10 сайтов подряд, без пересечения. Теперь давайте применим идею скользящего окна – сессии будут перекрываться. "
   ]
  },
  {
   "cell_type": "markdown",
   "metadata": {},
   "source": [
    "Реализуем функцию *prepare_sparse_train_set_window*.\n",
    "\n",
    "Аргументы:\n",
    "- *path_to_csv_files* – путь к каталогу с csv-файлами\n",
    "- *site_freq_path* – путь к pickle-файлу с частотным словарем, полученным в 1 части проекта\n",
    "- *session_length* – длина сессии (параметр)\n",
    "- *window_size* – ширина окна (параметр) \n",
    "\n",
    "Функция будет возвращать 2 объекта:\n",
    "- разреженную матрицу *X_sparse* (двухмерная Scipy.sparse.csr_matrix), в которой строки соответствуют сессиям из *session_length* сайтов, а *max(site_id)* столбцов – количеству посещений *site_id* в сессии. \n",
    "- вектор *y* (Numpy array) \"ответов\" в виде ID пользователей, которым принадлежат сессии из *X_sparse*\n",
    "\n",
    "Детали:\n",
    "- Модифицируем созданную в 1 части функцию *prepare_train_set*\n",
    "- Некоторые сессии могут повторяться – оставим как есть, без удаления дубликатов\n",
    "- Замерим время выполнения итераций цикла с помощью *time* из *time*, *tqdm* из *tqdm* или с помощью виджета [log_progress](https://github.com/alexanderkuk/log-progress) ([статья](https://habrahabr.ru/post/276725/) о нем на Хабрахабре)\n",
    "- Добьемся, чтобы 150 файлов из *capstone_websites_data/150users/* обрабатывались за несколько секунд (в зависимости от входных параметров)."
   ]
  },
  {
   "cell_type": "code",
   "execution_count": 3,
   "metadata": {
    "collapsed": true
   },
   "outputs": [],
   "source": [
    "def prepare_sparse_train_set_window(path_to_csv_files, site_freq_path, \n",
    "                                    session_length=10, window_size=10):\n",
    "    ''' \n",
    "    Функция возвращает 2 объекта:\n",
    "      - разреженную матрицу X_sparse (двухмерная Scipy.sparse.csr_matrix), в которой строки соответствуют сессиям из \n",
    "        session_length сайтов, а max(site_id) столбцов – количеству посещений site_id в сессии.\n",
    "      - вектор y (Numpy array) \"ответов\" в виде ID пользователей, которым принадлежат сессии из X_sparse\n",
    "    \n",
    "    '''\n",
    "    # инициализация\n",
    "    y = np.array([0]).reshape(1, 1) # вектор ответов\n",
    "    data_mod = []    # модифицированный список закодированных сайтов с учетом окна\n",
    "        \n",
    "    # считываем частотный словарь\n",
    "    with open(site_freq_path, 'rb') as pkl_file:\n",
    "        freq_vocabulary = pickle.load(pkl_file)\n",
    "            \n",
    "    # подготовим пути для обхода и обойдем:\n",
    "    for path in tqdm_notebook(glob(os.path.join(path_to_csv_files, 'user*.csv'))):\n",
    "              \n",
    "        # считаем файл с данными\n",
    "        data_pd = pd.read_csv(path, header=0, index_col=0)\n",
    "                \n",
    "        # перекодируем site_string в site_id\n",
    "        data = data_pd['site'].apply(lambda x: freq_vocabulary[x][0]).values.reshape(-1, 1)\n",
    "        \n",
    "        # формируем модифицированные данные с учетом окна для 1 текущего юзера data_mod_user_id\n",
    "        row = int(data.size / window_size) + 1 if data.size % window_size != 0 \\\n",
    "                                                               else int(data.size / window_size)\n",
    "        # добавим сразу нули\n",
    "        data = np.vstack((data, np.zeros([session_length, 1])))\n",
    "        data_mod_user_id = [data[w * window_size + sess, 0] for w in range(row) for sess in range(session_length)]   \n",
    "                \n",
    "        # накапливаем модифицированный список закодированных сайтов с учетом окна\n",
    "        data_mod.extend(data_mod_user_id)\n",
    "                \n",
    "        # сформируем и накопим вектор y \"ответов\", то есть user_id\n",
    "        user_id = int(path[-8:-4]) # id пользователя\n",
    "        col_user_id = np.zeros([1, row]) + user_id # forming columns with user_id\n",
    "        y = np.hstack((y, col_user_id))\n",
    "        \n",
    "            \n",
    "    # формируем разреженную матрицу X_sparse\n",
    "    X_sparse = csr_matrix((np.ones(len(data_mod)), \n",
    "                           data_mod, \n",
    "                           np.arange(int(len(data_mod) / session_length) + 1) * session_length), dtype=int)[:, 1:]\n",
    "                           \n",
    "    # нулевой столбец, который отвечает за нули, исключаем\n",
    "    \n",
    "    return X_sparse, y[0, 1:].astype(int) # исключаем нулевой нуль"
   ]
  },
  {
   "cell_type": "markdown",
   "metadata": {},
   "source": [
    "**Запустим созданную функцию 16 раз с помощью циклов по числу пользователей num_users (10 или 150), значениям параметра *session_length* (15, 10, 7 или 5) и значениям параметра *window_size* (10, 7 или 5). Сериализуем все 16 разреженных матриц (обучающие выборки) и векторов (метки целевого класса – ID пользователя) в файлы `X_sparse_{num_users}users_s{session_length}_w{window_size}.pkl` и `y_{num_users}users_s{session_length}_w{window_size}.pkl`.**"
   ]
  },
  {
   "cell_type": "code",
   "execution_count": 4,
   "metadata": {},
   "outputs": [
    {
     "name": "stdout",
     "output_type": "stream",
     "text": [
      "Wall time: 1min 19s\n"
     ]
    }
   ],
   "source": [
    "%%time\n",
    "import itertools\n",
    "\n",
    "data_lengths = []\n",
    "\n",
    "for num_users in [10, 150]:\n",
    "    for window_size, session_length in itertools.product([10, 7, 5], [15, 10, 7, 5]):\n",
    "        if window_size <= session_length and (window_size, session_length) != (10, 10):\n",
    "            X_sparse, y = prepare_sparse_train_set_window(os.path.join(PATH_TO_DATA,'{}users'.format(num_users)), \n",
    "                                                       os.path.join(PATH_TO_DATA,'site_freq_{}users.pkl'.format(num_users)),\n",
    "                                                       session_length=session_length, window_size=window_size)\n",
    "            with open(os.path.join(PATH_TO_DATA, \n",
    "                                'X_sparse_{}users_s{}_w{}.pkl'.format(num_users, session_length, window_size)), 'wb') as X_pkl:\n",
    "                pickle.dump(X_sparse, X_pkl, protocol=2)\n",
    "            with open(os.path.join(PATH_TO_DATA, \n",
    "                                   'y_{}users_s{}_w{}.pkl'.format(num_users, session_length, window_size)), 'wb') as y_pkl:\n",
    "                pickle.dump(y, y_pkl, protocol=2)\n",
    "\n",
    "            data_lengths.append(X_sparse.shape[0])"
   ]
  },
  {
   "cell_type": "markdown",
   "metadata": {},
   "source": [
    "**Посмотрим для контроля на числа из списка *data_lengths* (через пробел).**"
   ]
  },
  {
   "cell_type": "code",
   "execution_count": 9,
   "metadata": {},
   "outputs": [
    {
     "data": {
      "text/plain": [
       "'14061 20087 20087 20087 28118 28118 28118 28118 137019 195712 195712 195712 273957 273957 273957 273957'"
      ]
     },
     "execution_count": 9,
     "metadata": {},
     "output_type": "execute_result"
    }
   ],
   "source": [
    "' '.join(np.array(data_lengths).astype(str))"
   ]
  },
  {
   "cell_type": "markdown",
   "metadata": {},
   "source": [
    "## <center> 2.2. Первичный анализ данных, проверка гипотез"
   ]
  },
  {
   "cell_type": "markdown",
   "metadata": {},
   "source": [
    "**Считаем в DataFrame подготовленный в 1 части файл `train_data_10users.csv`. Далее будем работать с ним.**"
   ]
  },
  {
   "cell_type": "code",
   "execution_count": 25,
   "metadata": {
    "collapsed": true
   },
   "outputs": [],
   "source": [
    "train_df = pd.read_csv(os.path.join(PATH_TO_DATA, 'train_data_10users.csv'), \n",
    "                       index_col='session_id')"
   ]
  },
  {
   "cell_type": "code",
   "execution_count": 26,
   "metadata": {},
   "outputs": [
    {
     "data": {
      "text/html": [
       "<div>\n",
       "<style>\n",
       "    .dataframe thead tr:only-child th {\n",
       "        text-align: right;\n",
       "    }\n",
       "\n",
       "    .dataframe thead th {\n",
       "        text-align: left;\n",
       "    }\n",
       "\n",
       "    .dataframe tbody tr th {\n",
       "        vertical-align: top;\n",
       "    }\n",
       "</style>\n",
       "<table border=\"1\" class=\"dataframe\">\n",
       "  <thead>\n",
       "    <tr style=\"text-align: right;\">\n",
       "      <th></th>\n",
       "      <th>site1</th>\n",
       "      <th>site2</th>\n",
       "      <th>site3</th>\n",
       "      <th>site4</th>\n",
       "      <th>site5</th>\n",
       "      <th>site6</th>\n",
       "      <th>site7</th>\n",
       "      <th>site8</th>\n",
       "      <th>site9</th>\n",
       "      <th>site10</th>\n",
       "      <th>user_id</th>\n",
       "    </tr>\n",
       "    <tr>\n",
       "      <th>session_id</th>\n",
       "      <th></th>\n",
       "      <th></th>\n",
       "      <th></th>\n",
       "      <th></th>\n",
       "      <th></th>\n",
       "      <th></th>\n",
       "      <th></th>\n",
       "      <th></th>\n",
       "      <th></th>\n",
       "      <th></th>\n",
       "      <th></th>\n",
       "    </tr>\n",
       "  </thead>\n",
       "  <tbody>\n",
       "    <tr>\n",
       "      <th>0</th>\n",
       "      <td>1</td>\n",
       "      <td>2</td>\n",
       "      <td>3</td>\n",
       "      <td>4</td>\n",
       "      <td>3</td>\n",
       "      <td>3</td>\n",
       "      <td>4</td>\n",
       "      <td>3</td>\n",
       "      <td>5</td>\n",
       "      <td>3</td>\n",
       "      <td>31</td>\n",
       "    </tr>\n",
       "    <tr>\n",
       "      <th>1</th>\n",
       "      <td>6</td>\n",
       "      <td>7</td>\n",
       "      <td>8</td>\n",
       "      <td>9</td>\n",
       "      <td>3</td>\n",
       "      <td>10</td>\n",
       "      <td>11</td>\n",
       "      <td>12</td>\n",
       "      <td>13</td>\n",
       "      <td>14</td>\n",
       "      <td>31</td>\n",
       "    </tr>\n",
       "    <tr>\n",
       "      <th>2</th>\n",
       "      <td>14</td>\n",
       "      <td>4</td>\n",
       "      <td>14</td>\n",
       "      <td>14</td>\n",
       "      <td>15</td>\n",
       "      <td>16</td>\n",
       "      <td>6</td>\n",
       "      <td>17</td>\n",
       "      <td>18</td>\n",
       "      <td>14</td>\n",
       "      <td>31</td>\n",
       "    </tr>\n",
       "    <tr>\n",
       "      <th>3</th>\n",
       "      <td>19</td>\n",
       "      <td>20</td>\n",
       "      <td>19</td>\n",
       "      <td>14</td>\n",
       "      <td>14</td>\n",
       "      <td>14</td>\n",
       "      <td>14</td>\n",
       "      <td>21</td>\n",
       "      <td>22</td>\n",
       "      <td>23</td>\n",
       "      <td>31</td>\n",
       "    </tr>\n",
       "    <tr>\n",
       "      <th>4</th>\n",
       "      <td>24</td>\n",
       "      <td>14</td>\n",
       "      <td>15</td>\n",
       "      <td>25</td>\n",
       "      <td>26</td>\n",
       "      <td>27</td>\n",
       "      <td>28</td>\n",
       "      <td>29</td>\n",
       "      <td>30</td>\n",
       "      <td>29</td>\n",
       "      <td>31</td>\n",
       "    </tr>\n",
       "  </tbody>\n",
       "</table>\n",
       "</div>"
      ],
      "text/plain": [
       "            site1  site2  site3  site4  site5  site6  site7  site8  site9  \\\n",
       "session_id                                                                  \n",
       "0               1      2      3      4      3      3      4      3      5   \n",
       "1               6      7      8      9      3     10     11     12     13   \n",
       "2              14      4     14     14     15     16      6     17     18   \n",
       "3              19     20     19     14     14     14     14     21     22   \n",
       "4              24     14     15     25     26     27     28     29     30   \n",
       "\n",
       "            site10  user_id  \n",
       "session_id                   \n",
       "0                3       31  \n",
       "1               14       31  \n",
       "2               14       31  \n",
       "3               23       31  \n",
       "4               29       31  "
      ]
     },
     "execution_count": 26,
     "metadata": {},
     "output_type": "execute_result"
    }
   ],
   "source": [
    "train_df.head()"
   ]
  },
  {
   "cell_type": "markdown",
   "metadata": {},
   "source": [
    "**Распределение целевого класса:**"
   ]
  },
  {
   "cell_type": "code",
   "execution_count": 28,
   "metadata": {},
   "outputs": [
    {
     "data": {
      "text/plain": [
       "128    2796\n",
       "39     2204\n",
       "207    1868\n",
       "127    1712\n",
       "237    1643\n",
       "33     1022\n",
       "50      802\n",
       "31      760\n",
       "100     720\n",
       "241     534\n",
       "Name: user_id, dtype: int64"
      ]
     },
     "execution_count": 28,
     "metadata": {},
     "output_type": "execute_result"
    }
   ],
   "source": [
    "train_df['user_id'].value_counts()"
   ]
  },
  {
   "cell_type": "markdown",
   "metadata": {},
   "source": [
    "**Посчитаем распределение числа уникальных сайтов в каждой сессии из 10 посещенных подряд сайтов.**"
   ]
  },
  {
   "cell_type": "code",
   "execution_count": 29,
   "metadata": {
    "collapsed": true
   },
   "outputs": [],
   "source": [
    "num_unique_sites = [np.unique(train_df.values[i, :-1]).shape[0] \n",
    "                    for i in range(train_df.shape[0])]"
   ]
  },
  {
   "cell_type": "code",
   "execution_count": 30,
   "metadata": {},
   "outputs": [
    {
     "data": {
      "text/plain": [
       "7     2308\n",
       "6     2197\n",
       "8     2046\n",
       "5     1735\n",
       "9     1394\n",
       "2     1246\n",
       "4     1163\n",
       "3      894\n",
       "10     651\n",
       "1      427\n",
       "dtype: int64"
      ]
     },
     "execution_count": 30,
     "metadata": {},
     "output_type": "execute_result"
    }
   ],
   "source": [
    "pd.Series(num_unique_sites).value_counts()"
   ]
  },
  {
   "cell_type": "code",
   "execution_count": 31,
   "metadata": {},
   "outputs": [
    {
     "data": {
      "image/png": "[encoded data removed]",
      "text/plain": [
       "<matplotlib.figure.Figure at 0x1ddb1ef1320>"
      ]
     },
     "metadata": {},
     "output_type": "display_data"
    }
   ],
   "source": [
    "pd.Series(num_unique_sites).hist();"
   ]
  },
  {
   "cell_type": "markdown",
   "metadata": {},
   "source": [
    "**Проверим с помощью QQ-плота и критерия Шапиро-Уилка, что эта величина распределена нормально. Сделайте вывод. Ответом на второй вопрос в тесте будет файл со словом \"YES\" или \"NO\" в зависимости от того, распределено ли нормально число уникальных сайтов в сессии.**"
   ]
  },
  {
   "cell_type": "code",
   "execution_count": 32,
   "metadata": {},
   "outputs": [
    {
     "data": {
      "image/png": "[encoded data removed]",
      "text/plain": [
       "<matplotlib.figure.Figure at 0x1ddb1d9e208>"
      ]
     },
     "metadata": {},
     "output_type": "display_data"
    }
   ],
   "source": [
    "plt.figure(figsize=(6,4))\n",
    "stats.probplot(pd.Series(num_unique_sites), dist=\"norm\", plot=plt)\n",
    "plt.show()"
   ]
  },
  {
   "cell_type": "code",
   "execution_count": 33,
   "metadata": {},
   "outputs": [
    {
     "name": "stdout",
     "output_type": "stream",
     "text": [
      "Shapiro-Wilk normality test, W-statistic: 0.954693, p-value: 0.000000\n"
     ]
    }
   ],
   "source": [
    "print(\"Shapiro-Wilk normality test, W-statistic: %f, p-value: %f\" % stats.shapiro(pd.Series(num_unique_sites)))"
   ]
  },
  {
   "cell_type": "markdown",
   "metadata": {},
   "source": [
    "**ВЫВОД:**   \n",
    "Видим, что согласно графического теста **Ку-Ку-график** и критерия **Шапиро-Уилка** у распределения числа уникальных сайтов в сессии нормальность **не наблюдается** (p-value << 0.05).   \n",
    "Это дает основание предполагать, что этот параметр для различных пользователей имеет высокую степень **уникальности** и, следовательно, может быть достаточно **информативным признаком** в задаче идентификации пользователя."
   ]
  },
  {
   "cell_type": "markdown",
   "metadata": {},
   "source": [
    "**Проверим гипотезу о том, что пользователь хотя бы раз зайдет на сайт, который он уже ранее посетил в сессии из 10 сайтов. Для этого проверим с помощью биномиального критерия для доли, что доля случаев, когда пользователь повторно посетил какой-то сайт (то есть число уникальных сайтов в сессии < 10) велика: больше 95% (обратим внимание, что альтернатива тому, что доля равна 95% –  одностороняя). Ответом на 3 вопрос в тесте будет полученное p-value.**"
   ]
  },
  {
   "cell_type": "code",
   "execution_count": 37,
   "metadata": {},
   "outputs": [
    {
     "data": {
      "text/plain": [
       "0.95370172818433963"
      ]
     },
     "execution_count": 37,
     "metadata": {},
     "output_type": "execute_result"
    }
   ],
   "source": [
    "has_two_similar = (np.array(num_unique_sites) < 10).astype('int')\n",
    "has_two_similar.mean()"
   ]
  },
  {
   "cell_type": "code",
   "execution_count": 39,
   "metadata": {},
   "outputs": [
    {
     "data": {
      "text/plain": [
       "0.022076537690726782"
      ]
     },
     "execution_count": 39,
     "metadata": {},
     "output_type": "execute_result"
    }
   ],
   "source": [
    "pi_val = stats.binom_test(has_two_similar.sum(), n=has_two_similar.shape[0], p=0.95, alternative = 'greater')\n",
    "pi_val"
   ]
  },
  {
   "cell_type": "markdown",
   "metadata": {
    "collapsed": true
   },
   "source": [
    "Поскольку **p-value < 0.05**, то на уровне **0.05** гипотеза **отвергается**."
   ]
  },
  {
   "cell_type": "markdown",
   "metadata": {},
   "source": [
    "**Для наглядности построим для этой доли 95% доверительный интервал Уилсона.**"
   ]
  },
  {
   "cell_type": "code",
   "execution_count": 41,
   "metadata": {},
   "outputs": [
    {
     "name": "stdout",
     "output_type": "stream",
     "text": [
      "[0.95 0.957]\n"
     ]
    }
   ],
   "source": [
    "wilson_interval = proportion_confint(has_two_similar.sum(), has_two_similar.shape[0], method = 'wilson')\n",
    "print('[{} {}]'.format(round(wilson_interval[0], 3),\n",
    "                                   round(wilson_interval[1], 3)))"
   ]
  },
  {
   "cell_type": "markdown",
   "metadata": {},
   "source": [
    "**Построим распределение частоты посещения сайтов (сколько раз тот или иной сайт попадается в выборке) для сайтов, которые были посещены как минимум 1000 раз.**"
   ]
  },
  {
   "cell_type": "code",
   "execution_count": 45,
   "metadata": {
    "collapsed": true
   },
   "outputs": [],
   "source": [
    "site_freqs = pd.Series(train_df.drop('user_id', axis=1).values.ravel()).value_counts()"
   ]
  },
  {
   "cell_type": "code",
   "execution_count": 46,
   "metadata": {},
   "outputs": [
    {
     "data": {
      "image/png": "[encoded data removed]",
      "text/plain": [
       "<matplotlib.figure.Figure at 0x1ddb235f518>"
      ]
     },
     "metadata": {},
     "output_type": "display_data"
    }
   ],
   "source": [
    "site_freqs[site_freqs >= 1000].hist();"
   ]
  },
  {
   "cell_type": "markdown",
   "metadata": {},
   "source": [
    "**Построим 95% доверительный интервал для средней частоты появления сайта в выборке (во всей, уже не только для тех сайтов, что были посещены как минимум 1000 раз) на основе bootstrap. Будем использовать столько же bootstrap-подвыборок, сколько сайтов оказалось в исходной выборке по 10 пользователям. Подвыборки возьмем из посчитанного списка частот посещений сайтов. Учтем, что частоту появления нуля (сайт с индексом 0 появлялся там, где сессии были короче 10 сайтов) включать не надо. Округлим границы интервала до 3 знаков после запятой.**"
   ]
  },
  {
   "cell_type": "code",
   "execution_count": 47,
   "metadata": {
    "collapsed": true
   },
   "outputs": [],
   "source": [
    "def get_bootstrap_samples(data, n_samples, random_seed=17):\n",
    "    np.random.seed(random_seed)\n",
    "    indices = np.random.randint(0, len(data), (n_samples, len(data)))\n",
    "    samples = data[indices]\n",
    "    return samples"
   ]
  },
  {
   "cell_type": "code",
   "execution_count": 48,
   "metadata": {
    "collapsed": true
   },
   "outputs": [],
   "source": [
    "def stat_intervals(stat, alpha):\n",
    "    boundaries = np.percentile(stat, \n",
    "                 [100 * alpha / 2., 100 * (1 - alpha / 2.)])\n",
    "    return boundaries"
   ]
  },
  {
   "cell_type": "code",
   "execution_count": 51,
   "metadata": {},
   "outputs": [
    {
     "name": "stdout",
     "output_type": "stream",
     "text": [
      "95% confidence interval: [ 22.514  35.756]\n"
     ]
    }
   ],
   "source": [
    "data = site_freqs.values\n",
    "n_samples = site_freqs.index.max()\n",
    "\n",
    "median_scores = list(map(np.mean, get_bootstrap_samples(data, n_samples, random_seed=17)))\n",
    "boundaries = stat_intervals(median_scores, 0.05).round(3)\n",
    "\n",
    "print(\"95% confidence interval:\",  boundaries)"
   ]
  },
  {
   "cell_type": "markdown",
   "metadata": {},
   "source": [
    "## Что еще можно сделать\n",
    "\n",
    "- можно дополнительно рассматривать сессии с параметром – длиной сессии по времени. И составить выборки, скажем, для 5-, 10-, 15- и 20-минутных сессий (это может пригодится в [соревновании](https://inclass.kaggle.com/c/catch-me-if-you-can-intruder-detection-through-webpage-session-tracking2) Kaggle Inclass)\n",
    "- можно провести больше первичного анализа и проверять прочие интересные гипотезы (а больше их появится после создания признаков в следующей части)\n",
    "\n",
    "В 3 части мы займемся визуальным анализом данных и построением признаков."
   ]
  },
  {
   "cell_type": "markdown",
   "metadata": {},
   "source": [
    "# <center>Часть 3. \n",
    "# <center>Визуальный анализ данных и построение признаков\n",
    "## <center>Введение\n",
    "\n",
    "В 3 части мы займемся визуальным анализом данных и построением признаков. Сначала мы построим и проанализируем несколько более очевидных признаков, а потом займемся \"придумыванием\" и анализом дополнительных признаков. Описание сделаем в виде Peer-Review, которое предполагает достаточную степень творчества.\n",
    "\n",
    "**Темы 3 части:**\n",
    " - Построение признаков\n",
    " - Визуальный анализ данных\n",
    " - Дальнейшее построение признаков\n",
    " - Проверка построенных признаков"
   ]
  },
  {
   "cell_type": "markdown",
   "metadata": {},
   "source": [
    "## <center> 3.1. Построение признаков"
   ]
  },
  {
   "cell_type": "markdown",
   "metadata": {},
   "source": [
    "**Создадим на основе функций *prepare_train_set* и *prepare_sparse_train_set_window* из 2 части  новую – *prepare_train_set_with_fe*, (от \"feature engineering\"), которая из входящих данных создает следующие признаки:**\n",
    "- `session_timespan` – продолжительность сессии (разница между максимальным и минимальным временем посещения сайтов в сессии, в секундах)\n",
    "- `#unique_sites` – число уникальных сайтов в сессии \n",
    "- `start_hour` – час начала сессии (то есть час в записи минимального timestamp среди десяти)\n",
    "- `day_of_week` – день недели (то есть день недели в записи минимального timestamp среди десяти)\n",
    "\n",
    "Функция будет возвращать новый DataFrame (как возвращала функция *prepare_train_set*), только признаков будет на 4 больше. Они будут идти в следующем порядке: *site1*, ... *site10*, *session_timespan*, *#unique_sites*, *start_hour*, *day_of_week* и *user_id*."
   ]
  },
  {
   "cell_type": "markdown",
   "metadata": {},
   "source": [
    "**Обратим внимание, что прежние блоки в функции также немного модифицированы и оптимизированы.**   \n",
    "В частности, для удобства сделаем часть аргументов необязательными. Например, новая функция сможет работать как с готовым словарем, так и БЕЗ него."
   ]
  },
  {
   "cell_type": "code",
   "execution_count": 4,
   "metadata": {
    "collapsed": true
   },
   "outputs": [],
   "source": [
    "def prepare_train_set_with_fe(path_to_csv_files, site_freq_path=None, feature_names=None,\n",
    "                                    session_length=10, window_size=None):\n",
    "    ''' \n",
    "    Функция должна возвращать новый DataFrame.\n",
    "    Признаки: site1, ... site10, session_timespan, #unique_sites, start_hour, day_of_week и user_id \n",
    "    '''\n",
    "    # инициализация\n",
    "    freq_vocabulary = {}    # словарь id сайтов\n",
    "    data_mod = []    # модифицированный список закодированных сайтов с учетом окна\n",
    "    data_datetime = []   # базовые данные с метками времени для формирования из них всех остальных временных признаков\n",
    "    y = []      # целевая переменная (id пользователей)\n",
    "    \n",
    "    if site_freq_path is not None:            # если путь к словарю указан - считываем его\n",
    "        # считываем частотный словарь\n",
    "        with open(site_freq_path, 'rb') as pkl_file:\n",
    "            freq_vocabulary = pickle.load(pkl_file)\n",
    "    \n",
    "    # подготовим пути для обхода и обойдем:\n",
    "    for path in tqdm_notebook(glob(os.path.join(path_to_csv_files, 'user*.csv'))):\n",
    "              \n",
    "        # считаем файл с данными\n",
    "        data_df = pd.read_csv(path, header=0)\n",
    "        \n",
    "        # если считан словарь - используем его для перекодировки, иначе - формируем словарь и параллельно перекодируем\n",
    "        if site_freq_path is not None:\n",
    "            # перекодировка с готовым словарём\n",
    "            data = data_df['site'].apply(lambda x: freq_vocabulary[x][0])\n",
    "        else:        \n",
    "            # сформируем словарь и перекодируем site_string в site_id\n",
    "            data = []\n",
    "            for site_string in data_df['site']:\n",
    "                id_freq = freq_vocabulary.setdefault(site_string, [len(freq_vocabulary) + 1, 0])[0]\n",
    "                freq_vocabulary[site_string][1] += 1\n",
    "                data.append(id_freq)\n",
    "        \n",
    "        # рассчитаем число рядов (row) для текущего пользователя\n",
    "        window_size_actual = window_size if window_size is not None else session_length\n",
    "        row = len(data) // window_size_actual + 1 if len(data) % window_size_actual != 0 \\\n",
    "                                                            else len(data) // window_size_actual\n",
    "        \n",
    "        ###################################################################################################################\n",
    "        # формирование сессий для текущих значений session_length и window_size\n",
    "        def sessions_forming(data, row, session_length, window_size):\n",
    "            data = list(data)\n",
    "            if window_size is not None:\n",
    "                # добавляем нужное количество нанов (с ними удобнее, потом заменим нулями)\n",
    "                data.extend([np.nan] * session_length)\n",
    "                data_mod = []            \n",
    "                for i in range(row):\n",
    "                    data_mod.extend(data[(window_size * i):(window_size * i + session_length)])\n",
    "                    \n",
    "            else:\n",
    "                # добавляем нужное количество нанов (с ними удобнее, потом заменим нулями)\n",
    "                n_ext = session_length - len(data) % session_length if len(data) % session_length !=0 else 0\n",
    "                data.extend([np.nan] * n_ext)\n",
    "                data_mod = data\n",
    "            \n",
    "            return data_mod\n",
    "        ####################################################################################################################\n",
    "        \n",
    "        # формируем и накапливаем модифицированный список закодированных сайтов с учетом окна\n",
    "        data_mod_user_id = sessions_forming(data, row, session_length, window_size)\n",
    "        data_mod.extend(data_mod_user_id)\n",
    "                                 \n",
    "        # формируем и накапливаем блок с временными данными аналогично сайтовому блоку\n",
    "        data_datetime_id = sessions_forming(data_df['timestamp'].apply(pd.to_datetime), \n",
    "                                             row, session_length, window_size)\n",
    "        data_datetime.extend(data_datetime_id)\n",
    "                \n",
    "        # сформируем и накопим вектор y \"ответов\", то есть user_id\n",
    "        user_id = int(path[-8:-4]) # id пользователя\n",
    "        col_user_id = [user_id] * row # forming columns with user_id\n",
    "        y.extend(col_user_id)\n",
    "        \n",
    "    # расчитаем общее количество рядов в признаках\n",
    "    rows = len(data_mod) // session_length\n",
    "    \n",
    "    # сформируем признаки site1, ... siteNN\n",
    "    data_mod = np.array(data_mod)\n",
    "    data_mod.resize((rows, session_length))\n",
    "    data_mod_df = pd.DataFrame(data_mod, columns=['site' + str(i) for i in range(1, session_length + 1)])\n",
    "    \n",
    "    # формируем датафрейм с datetime (базовые данные для работа с временными метками)\n",
    "    data_datetime = np.array(data_datetime)\n",
    "    data_datetime.resize((rows, session_length))\n",
    "    data_datetime_df = pd.DataFrame(data_datetime, columns=['datetime' + str(i) for i in range(1, session_length + 1)])\n",
    "\n",
    "    # датафрейм с timestamp-метками\n",
    "    data_timestamp_df = data_datetime_df.applymap(lambda x: pd.datetime.timestamp(x) \n",
    "                                                  if type(x) == pd._libs.tslib.Timestamp else np.nan)\n",
    "    \n",
    "    ###################### начинаем готовить датафрейм с признаками на выдачу    \n",
    "    df = pd.DataFrame()\n",
    "    \n",
    "    # колонки с сайтами\n",
    "    df[['site' + str(i) for i in range(1, session_length + 1)]] = \\\n",
    "                                    data_mod_df[['site' + str(i) for i in range(1, session_length + 1)]]\n",
    "    \n",
    "    # колонки с дельтой между заходами на сайты внутри сессии\n",
    "    for j in range(1, session_length):\n",
    "        df['time_diff' + str(j)] = data_timestamp_df.iloc[:, j] - data_timestamp_df.iloc[:, j - 1]\n",
    "\n",
    "    # остальные признаки\n",
    "    df['session_timespan'] = data_timestamp_df.max(axis=1, skipna=True) - data_timestamp_df.min(axis=1, skipna=True)\n",
    "    df['#unique_sites'] = data_mod_df[['site' + str(i) for i in range(1, session_length + 1)]].nunique(axis=1, dropna=True)\n",
    "    df['start_hour'] = data_datetime_df['datetime1'].apply(lambda x: x.hour)\n",
    "    df['day_of_week'] = data_datetime_df['datetime1'].apply(lambda x: x.weekday())\n",
    "    \n",
    "    df['target'] = y # целевая переменная\n",
    "    \n",
    "    if feature_names is not None:\n",
    "        df = df[feature_names]\n",
    "    \n",
    "    return df.fillna(0).astype(int)"
   ]
  },
  {
   "cell_type": "markdown",
   "metadata": {},
   "source": [
    "**Применим функцию *prepare_train_set_with_fe* к данным по 10 пользователям, укажем *session_length*=10.**"
   ]
  },
  {
   "cell_type": "code",
   "execution_count": 8,
   "metadata": {},
   "outputs": [
    {
     "data": {
      "application/vnd.jupyter.widget-view+json": {
       "model_id": "952462f48c884eb986a6554d45f282b9",
       "version_major": 2,
       "version_minor": 0
      },
      "text/plain": [
       "A Jupyter Widget"
      ]
     },
     "metadata": {},
     "output_type": "display_data"
    },
    {
     "name": "stdout",
     "output_type": "stream",
     "text": [
      "\n",
      "Wall time: 17.3 s\n"
     ]
    }
   ],
   "source": [
    "%%time\n",
    "train_data_10users = prepare_train_set_with_fe(os.path.join(PATH_TO_DATA, \n",
    "                                                         '10users'), \n",
    "                     site_freq_path=os.path.join(PATH_TO_DATA, \n",
    "                                              'site_freq_10users.pkl'),\n",
    "                     feature_names=feature_names, session_length=10)"
   ]
  },
  {
   "cell_type": "code",
   "execution_count": 9,
   "metadata": {},
   "outputs": [
    {
     "data": {
      "text/html": [
       "<div>\n",
       "<style>\n",
       "    .dataframe thead tr:only-child th {\n",
       "        text-align: right;\n",
       "    }\n",
       "\n",
       "    .dataframe thead th {\n",
       "        text-align: left;\n",
       "    }\n",
       "\n",
       "    .dataframe tbody tr th {\n",
       "        vertical-align: top;\n",
       "    }\n",
       "</style>\n",
       "<table border=\"1\" class=\"dataframe\">\n",
       "  <thead>\n",
       "    <tr style=\"text-align: right;\">\n",
       "      <th></th>\n",
       "      <th>site1</th>\n",
       "      <th>site2</th>\n",
       "      <th>site3</th>\n",
       "      <th>site4</th>\n",
       "      <th>site5</th>\n",
       "      <th>site6</th>\n",
       "      <th>site7</th>\n",
       "      <th>site8</th>\n",
       "      <th>site9</th>\n",
       "      <th>site10</th>\n",
       "      <th>time_diff1</th>\n",
       "      <th>time_diff2</th>\n",
       "      <th>time_diff3</th>\n",
       "      <th>time_diff4</th>\n",
       "      <th>time_diff5</th>\n",
       "      <th>time_diff6</th>\n",
       "      <th>time_diff7</th>\n",
       "      <th>time_diff8</th>\n",
       "      <th>time_diff9</th>\n",
       "      <th>session_timespan</th>\n",
       "      <th>#unique_sites</th>\n",
       "      <th>start_hour</th>\n",
       "      <th>day_of_week</th>\n",
       "      <th>target</th>\n",
       "    </tr>\n",
       "  </thead>\n",
       "  <tbody>\n",
       "    <tr>\n",
       "      <th>0</th>\n",
       "      <td>1</td>\n",
       "      <td>2</td>\n",
       "      <td>3</td>\n",
       "      <td>4</td>\n",
       "      <td>3</td>\n",
       "      <td>3</td>\n",
       "      <td>4</td>\n",
       "      <td>3</td>\n",
       "      <td>5</td>\n",
       "      <td>3</td>\n",
       "      <td>10</td>\n",
       "      <td>0</td>\n",
       "      <td>0</td>\n",
       "      <td>1</td>\n",
       "      <td>20</td>\n",
       "      <td>1</td>\n",
       "      <td>0</td>\n",
       "      <td>1</td>\n",
       "      <td>0</td>\n",
       "      <td>33</td>\n",
       "      <td>5</td>\n",
       "      <td>8</td>\n",
       "      <td>4</td>\n",
       "      <td>31</td>\n",
       "    </tr>\n",
       "    <tr>\n",
       "      <th>1</th>\n",
       "      <td>6</td>\n",
       "      <td>7</td>\n",
       "      <td>8</td>\n",
       "      <td>9</td>\n",
       "      <td>3</td>\n",
       "      <td>10</td>\n",
       "      <td>11</td>\n",
       "      <td>12</td>\n",
       "      <td>13</td>\n",
       "      <td>14</td>\n",
       "      <td>1</td>\n",
       "      <td>0</td>\n",
       "      <td>163</td>\n",
       "      <td>105</td>\n",
       "      <td>0</td>\n",
       "      <td>1</td>\n",
       "      <td>3</td>\n",
       "      <td>3</td>\n",
       "      <td>8</td>\n",
       "      <td>284</td>\n",
       "      <td>10</td>\n",
       "      <td>8</td>\n",
       "      <td>4</td>\n",
       "      <td>31</td>\n",
       "    </tr>\n",
       "    <tr>\n",
       "      <th>2</th>\n",
       "      <td>14</td>\n",
       "      <td>4</td>\n",
       "      <td>14</td>\n",
       "      <td>14</td>\n",
       "      <td>15</td>\n",
       "      <td>16</td>\n",
       "      <td>6</td>\n",
       "      <td>17</td>\n",
       "      <td>18</td>\n",
       "      <td>14</td>\n",
       "      <td>0</td>\n",
       "      <td>14</td>\n",
       "      <td>1</td>\n",
       "      <td>242</td>\n",
       "      <td>0</td>\n",
       "      <td>0</td>\n",
       "      <td>1</td>\n",
       "      <td>0</td>\n",
       "      <td>0</td>\n",
       "      <td>258</td>\n",
       "      <td>7</td>\n",
       "      <td>8</td>\n",
       "      <td>4</td>\n",
       "      <td>31</td>\n",
       "    </tr>\n",
       "    <tr>\n",
       "      <th>3</th>\n",
       "      <td>19</td>\n",
       "      <td>20</td>\n",
       "      <td>19</td>\n",
       "      <td>14</td>\n",
       "      <td>14</td>\n",
       "      <td>14</td>\n",
       "      <td>14</td>\n",
       "      <td>21</td>\n",
       "      <td>22</td>\n",
       "      <td>23</td>\n",
       "      <td>2</td>\n",
       "      <td>1</td>\n",
       "      <td>0</td>\n",
       "      <td>1</td>\n",
       "      <td>25</td>\n",
       "      <td>1</td>\n",
       "      <td>0</td>\n",
       "      <td>0</td>\n",
       "      <td>0</td>\n",
       "      <td>30</td>\n",
       "      <td>6</td>\n",
       "      <td>8</td>\n",
       "      <td>4</td>\n",
       "      <td>31</td>\n",
       "    </tr>\n",
       "    <tr>\n",
       "      <th>4</th>\n",
       "      <td>24</td>\n",
       "      <td>14</td>\n",
       "      <td>15</td>\n",
       "      <td>25</td>\n",
       "      <td>26</td>\n",
       "      <td>27</td>\n",
       "      <td>28</td>\n",
       "      <td>29</td>\n",
       "      <td>30</td>\n",
       "      <td>29</td>\n",
       "      <td>1</td>\n",
       "      <td>0</td>\n",
       "      <td>1</td>\n",
       "      <td>1</td>\n",
       "      <td>1</td>\n",
       "      <td>0</td>\n",
       "      <td>1</td>\n",
       "      <td>1</td>\n",
       "      <td>0</td>\n",
       "      <td>6</td>\n",
       "      <td>9</td>\n",
       "      <td>8</td>\n",
       "      <td>4</td>\n",
       "      <td>31</td>\n",
       "    </tr>\n",
       "  </tbody>\n",
       "</table>\n",
       "</div>"
      ],
      "text/plain": [
       "   site1  site2  site3  site4  site5  site6  site7  site8  site9  site10  \\\n",
       "0      1      2      3      4      3      3      4      3      5       3   \n",
       "1      6      7      8      9      3     10     11     12     13      14   \n",
       "2     14      4     14     14     15     16      6     17     18      14   \n",
       "3     19     20     19     14     14     14     14     21     22      23   \n",
       "4     24     14     15     25     26     27     28     29     30      29   \n",
       "\n",
       "   time_diff1  time_diff2  time_diff3  time_diff4  time_diff5  time_diff6  \\\n",
       "0          10           0           0           1          20           1   \n",
       "1           1           0         163         105           0           1   \n",
       "2           0          14           1         242           0           0   \n",
       "3           2           1           0           1          25           1   \n",
       "4           1           0           1           1           1           0   \n",
       "\n",
       "   time_diff7  time_diff8  time_diff9  session_timespan  #unique_sites  \\\n",
       "0           0           1           0                33              5   \n",
       "1           3           3           8               284             10   \n",
       "2           1           0           0               258              7   \n",
       "3           0           0           0                30              6   \n",
       "4           1           1           0                 6              9   \n",
       "\n",
       "   start_hour  day_of_week  target  \n",
       "0           8            4      31  \n",
       "1           8            4      31  \n",
       "2           8            4      31  \n",
       "3           8            4      31  \n",
       "4           8            4      31  "
      ]
     },
     "execution_count": 9,
     "metadata": {},
     "output_type": "execute_result"
    }
   ],
   "source": [
    "train_data_10users.head()"
   ]
  },
  {
   "cell_type": "markdown",
   "metadata": {},
   "source": [
    "**Примените функцию *prepare_train_set_with_fe* к данным по 150 пользователям, укажем *session_length*=10.**"
   ]
  },
  {
   "cell_type": "code",
   "execution_count": 10,
   "metadata": {},
   "outputs": [
    {
     "data": {
      "application/vnd.jupyter.widget-view+json": {
       "model_id": "77a5f40c227240f4950f8bd4ae3c0cbf",
       "version_major": 2,
       "version_minor": 0
      },
      "text/plain": [
       "A Jupyter Widget"
      ]
     },
     "metadata": {},
     "output_type": "display_data"
    },
    {
     "name": "stdout",
     "output_type": "stream",
     "text": [
      "\n",
      "Wall time: 2min 45s\n"
     ]
    }
   ],
   "source": [
    "%%time\n",
    "train_data_150users = prepare_train_set_with_fe(os.path.join(PATH_TO_DATA, \n",
    "                                                         '150users'), \n",
    "                      site_freq_path=os.path.join(PATH_TO_DATA, \n",
    "                                              'site_freq_150users.pkl'),\n",
    "                      feature_names=feature_names, session_length=10)"
   ]
  },
  {
   "cell_type": "markdown",
   "metadata": {},
   "source": [
    "**Сохраним в pickle-файлы признаки *session_timespan*, *#unique_sites*, *start_hour* и *day_of_week* для 10 и 150 пользователей.**"
   ]
  },
  {
   "cell_type": "code",
   "execution_count": 11,
   "metadata": {
    "collapsed": true
   },
   "outputs": [],
   "source": [
    "new_features_10users = train_data_10users[['session_timespan', '#unique_sites', 'start_hour', 'day_of_week']]\n",
    "new_features_150users = train_data_150users[['session_timespan', '#unique_sites', 'start_hour', 'day_of_week']]"
   ]
  },
  {
   "cell_type": "code",
   "execution_count": 12,
   "metadata": {
    "collapsed": true
   },
   "outputs": [],
   "source": [
    "with open(os.path.join(PATH_TO_DATA, \n",
    "                       'new_features_10users.pkl'), 'wb') as new_features_10users_pkl:\n",
    "    pickle.dump(new_features_10users, new_features_10users_pkl)\n",
    "with open(os.path.join(PATH_TO_DATA, \n",
    "                       'new_features_150users.pkl'), 'wb') as new_features_150users_pkl:\n",
    "    pickle.dump(new_features_150users, new_features_150users_pkl)"
   ]
  },
  {
   "cell_type": "markdown",
   "metadata": {},
   "source": [
    "## <center> 3.2. Визуальный анализ данных"
   ]
  },
  {
   "cell_type": "markdown",
   "metadata": {},
   "source": [
    "**Для наглядности дадим пользователям имена и ассоциируем с ними цвета.**"
   ]
  },
  {
   "cell_type": "code",
   "execution_count": 13,
   "metadata": {
    "collapsed": true
   },
   "outputs": [],
   "source": [
    "id_name_dict = {128: 'Mary-Kate', 39: 'Ashley', 207: 'Lindsey', 127: 'Naomi', 237: 'Avril',\n",
    "               33: 'Bob', 50: 'Bill', 31: 'John', 100: 'Dick', 241: 'Ed'}\n",
    "train_data_10users['user_id'] = train_data_10users['target'].map(id_name_dict)"
   ]
  },
  {
   "cell_type": "code",
   "execution_count": 14,
   "metadata": {
    "collapsed": true
   },
   "outputs": [],
   "source": [
    "color_dic = {'Mary-Kate': 'pink', 'Ashley': 'darkviolet', 'Lindsey':'blueviolet', \n",
    "             'Naomi': 'hotpink', 'Avril': 'orchid', \n",
    "             'Bob': 'firebrick', 'Bill': 'gold', 'John': 'forestgreen', \n",
    "             'Dick': 'slategrey', 'Ed':'brown'}"
   ]
  },
  {
   "cell_type": "markdown",
   "metadata": {},
   "source": [
    "**Построим гистограмму распределения длины сессии в секундах (*session_timespan*). Ограничим по *x* значением 200 (иначе слишком тяжелый хвост). Выберем цвет *darkviolet*, и подпишем оси.**"
   ]
  },
  {
   "cell_type": "code",
   "execution_count": 15,
   "metadata": {},
   "outputs": [
    {
     "data": {
      "image/png": "[encoded data removed]",
      "text/plain": [
       "<matplotlib.figure.Figure at 0x26baed0aeb8>"
      ]
     },
     "metadata": {},
     "output_type": "display_data"
    }
   ],
   "source": [
    "train_data_10users['session_timespan'][train_data_10users['session_timespan'] <= 200].hist(color='darkviolet', bins=20)\n",
    "plt.xlabel('Длина сессии в секундах')\n",
    "plt.ylabel('Количество сессий');"
   ]
  },
  {
   "cell_type": "markdown",
   "metadata": {},
   "source": [
    "**Построим гистограмму распределения числа уникальных сайтов в сессии (*#unique_sites*). Выберем цвет *aqua*, подпишем оси.**"
   ]
  },
  {
   "cell_type": "code",
   "execution_count": 16,
   "metadata": {},
   "outputs": [
    {
     "data": {
      "image/png": "[encoded data removed]",
      "text/plain": [
       "<matplotlib.figure.Figure at 0x26bae8a6c88>"
      ]
     },
     "metadata": {},
     "output_type": "display_data"
    }
   ],
   "source": [
    "train_data_10users['#unique_sites'].hist(color='aqua', bins=10)\n",
    "plt.xlabel('Число уникальных сайтов в сессии')\n",
    "plt.ylabel('Количество сессий');"
   ]
  },
  {
   "cell_type": "markdown",
   "metadata": {},
   "source": [
    "**Построим гистограммы распределения числа уникальных сайтов в сессии (*#unique_sites*) для каждого из 10 пользователей по отдельности. Применим *subplots*, чтоб разместить все 10 картинок на одной большой. Пометим легендой каждую картинку, на легенде напишем имя пользователя. Для каждого пользователя раскрасим гистограмму его/ее цветом (*color_dic*). Подпишем оси по-русски в каждой из 10 гистограмм.**"
   ]
  },
  {
   "cell_type": "code",
   "execution_count": 17,
   "metadata": {},
   "outputs": [
    {
     "data": {
      "image/png": "[encoded data removed]",
      "text/plain": [
       "<matplotlib.figure.Figure at 0x26bb03ccf60>"
      ]
     },
     "metadata": {},
     "output_type": "display_data"
    }
   ],
   "source": [
    "fig, axes = plt.subplots(nrows=3, ncols=4, figsize=(16, 10))\n",
    "\n",
    "# как вариант, можно и по-другому\n",
    "for idx, (user, sub_df) in  enumerate(pd.groupby(train_data_10users, 'user_id')): \n",
    "    col = '#unique_sites'\n",
    "    sub_df[col].hist(ax=axes[idx // 4, idx % 4], color=color_dic[user], label=user,\n",
    "                               bins=(sub_df[col].max() - sub_df[col].min() + 1))\n",
    "    axes[idx // 4, idx % 4].legend()\n",
    "    axes[idx // 4, idx % 4].set_xlim([1, 10])\n",
    "    axes[idx // 4, idx % 4].set_xlabel('Число уникальных сайтов в сессии')\n",
    "    axes[idx // 4, idx % 4].set_ylabel('Количество сессий')"
   ]
  },
  {
   "cell_type": "markdown",
   "metadata": {},
   "source": [
    "**Построим гистограмму распределения часа начала сессии (*start_hour*). Сделаем гистограмму цвета *darkgreen*, подпишем оси по-русски.**"
   ]
  },
  {
   "cell_type": "code",
   "execution_count": 18,
   "metadata": {},
   "outputs": [
    {
     "data": {
      "image/png": "[encoded data removed]",
      "text/plain": [
       "<matplotlib.figure.Figure at 0x26bb03da668>"
      ]
     },
     "metadata": {},
     "output_type": "display_data"
    }
   ],
   "source": [
    "train_data_10users['start_hour'].hist(color='darkgreen', \n",
    "                                      bins=(sub_df['start_hour'].max() - sub_df['start_hour'].min() + 1))\n",
    "plt.xlim([0, 24])\n",
    "plt.xlabel('Час начала сессии')\n",
    "plt.ylabel('Количество сессий');"
   ]
  },
  {
   "cell_type": "markdown",
   "metadata": {},
   "source": [
    "**Построим гистограммы распределения часа начала сессии (*start_hour*) для каждого из 10 пользователей по отдельности. Применим *subplots*, чтоб разместить все 10 картинок на одной большой. Пометим легендой каждую картинку, на легенде напишем имя пользователя. Для каждого пользователя раскрасим гистограмму его/ее цветом (*color_dic*). Подпишем оси по-русски в каждой из 10 гистограмм.**"
   ]
  },
  {
   "cell_type": "code",
   "execution_count": 19,
   "metadata": {},
   "outputs": [
    {
     "data": {
      "image/png": "[encoded data removed]",
      "text/plain": [
       "<matplotlib.figure.Figure at 0x26bb6fa8390>"
      ]
     },
     "metadata": {},
     "output_type": "display_data"
    }
   ],
   "source": [
    "fig, axes = plt.subplots(nrows=3, ncols=4, figsize=(16, 10))\n",
    "\n",
    "# как вариант, можно и по-другому\n",
    "for idx, (user, sub_df) in  enumerate(pd.groupby(train_data_10users, 'user_id')): \n",
    "    col = 'start_hour'\n",
    "    sub_df[col].hist(ax=axes[idx // 4, idx % 4], color=color_dic[user], label=user,\n",
    "                               bins=(sub_df[col].max() - sub_df[col].min() + 1))\n",
    "    axes[idx // 4, idx % 4].legend()\n",
    "    axes[idx // 4, idx % 4].set_xlim([0, 24])\n",
    "    axes[idx // 4, idx % 4].set_xlabel('Час начала сессии')\n",
    "    axes[idx // 4, idx % 4].set_ylabel('Количество сессий')"
   ]
  },
  {
   "cell_type": "markdown",
   "metadata": {},
   "source": [
    "**Построим гистограмму распределения дня недели, в который началась сессия (*day_of_week*). Сделаем гистограмму цвета *sienna*, подпишем оси по-русски.**"
   ]
  },
  {
   "cell_type": "code",
   "execution_count": 20,
   "metadata": {},
   "outputs": [
    {
     "data": {
      "image/png": "[encoded data removed]",
      "text/plain": [
       "<matplotlib.figure.Figure at 0x26baebb60f0>"
      ]
     },
     "metadata": {},
     "output_type": "display_data"
    }
   ],
   "source": [
    "train_data_10users['day_of_week'].hist(color='sienna', bins=7)\n",
    "#plt.xlim([-0, 6])\n",
    "plt.xlabel('День недели начала сессии')\n",
    "plt.ylabel('Количество сессий');"
   ]
  },
  {
   "cell_type": "markdown",
   "metadata": {},
   "source": [
    "**Построим гистограммы распределения дня недели, в который началась сессия (*day_of_week*) для каждого из 10 пользователей по отдельности. Применим *subplots*, чтоб разместить все 10 картинок на одной большой. Изменим метки по оси *X* на ['Пн', 'Вт', 'Ср', 'Чт', 'Пт', 'Сб', 'Вс'] – метод *set_xticklabels*. Пометим легендой каждую картинку, на легенде напишем имя пользователя. Для каждого пользователя раскрасим гистограмму его/ее цветом (*color_dic*). Подпишем по-русски название каждой из 10 гистограмм.**"
   ]
  },
  {
   "cell_type": "code",
   "execution_count": 21,
   "metadata": {},
   "outputs": [
    {
     "data": {
      "image/png": "[encoded data removed]",
      "text/plain": [
       "<matplotlib.figure.Figure at 0x26bbb3cac50>"
      ]
     },
     "metadata": {},
     "output_type": "display_data"
    }
   ],
   "source": [
    "fig, axes = plt.subplots(nrows=3, ncols=4, figsize=(16, 10))\n",
    "\n",
    "# как вариант, можно и по-другому\n",
    "for idx, (user, sub_df) in  enumerate(pd.groupby(train_data_10users, 'user_id')):\n",
    "    col = 'day_of_week'\n",
    "    sub_df[col].hist(ax=axes[idx // 4, idx % 4], color=color_dic[user], label=user,\n",
    "                               bins=(sub_df[col].max() - sub_df[col].min() + 1))\n",
    "    axes[idx // 4, idx % 4].legend()\n",
    "    axes[idx // 4, idx % 4].set_xticklabels(['Пн', 'Вт', 'Ср', 'Чт', 'Пт', 'Сб', 'Вс'])\n",
    "    axes[idx // 4, idx % 4].set_xlim([0, 6])\n",
    "    axes[idx // 4, idx % 4].set_xlabel('День недели начала сессии')\n",
    "    axes[idx // 4, idx % 4].set_ylabel('Количество сессий')"
   ]
  },
  {
   "cell_type": "markdown",
   "metadata": {},
   "source": [
    "**Сделаем ВЫВОДЫ про каждого пользователя по построенным графикам.**"
   ]
  },
  {
   "cell_type": "markdown",
   "metadata": {},
   "source": [
    "Распределения рассмотренных выше величин для пользователей **различаются** и могут служить в соответствующей степени их **характеристиками**. \n",
    "- В частности, сравнивая визуально гистограмму распределения числа уникальных сайтов в сессии (**#unique_sites**) с соответствущими распределениями отдельных пользователей видно, что **отдельные распределения отличаются от усредненного**. Усредненное имеет глобальный пик **на 7** и **локальный пик на 2**, в то время как для локальных имеет место:\n",
    "    - **Ashley**: пик на 1 и 8\n",
    "\n",
    "    - **Avril**: пик на 6\n",
    "\n",
    "    - **Bill**: пик на 1 и 8\n",
    "\n",
    "    - **Bob**: пик на 6\n",
    "\n",
    "    - **Dick**: пик на 2 и 7 (слабо выраженый)\n",
    "\n",
    "    - **Ed**: пик на 7\n",
    "\n",
    "    - **John**: пик на 7\n",
    "\n",
    "    - **Lindsey**: пик на 7\n",
    "\n",
    "    - **Mary-Kate**: пик на 2\n",
    "\n",
    "    - **Naomi**: пик на 6\n",
    "\n",
    "\n",
    "- аналогично, сравнивая визуально гистограмму распределения часа начала сессии (**start_hour**) с соответствущими распределениями отдельных пользователей видно, что **отдельные распределения отличаются от усредненного**. Усредненное имеет глобальный пик **на 14** и **локальный пик на 10**, в то время как для локальных имеет место:\n",
    "    - **Ashley**: пик на 10 и 14\n",
    "\n",
    "    - **Avril**: пик на 13 и 17\n",
    "\n",
    "    - **Bill**: пик на 9 и 15\n",
    "\n",
    "    - **Bob**: пик на 10 и 15\n",
    "\n",
    "    - **Dick**: 3 пика - на 10, 14 и 21\n",
    "\n",
    "    - **Ed**: пик на 16\n",
    "\n",
    "    - **John**: пик на 12 и 15\n",
    "\n",
    "    - **Lindsey**: пик на 12 и 14\n",
    "\n",
    "    - **Mary-Kate**: пик на 10 и 19\n",
    "\n",
    "    - **Naomi**: пик на 14\n",
    "\n",
    "\n",
    "- и то же справедливо для дня начала сессии (**day_of_week**): усредненное распределение (**пик на 2**) достаточно сильно отличается от распределений индивидуальных пользователей:\n",
    "    - **Ashley**: пик на ср.    \n",
    "\n",
    "    - **Avril**: пик на вт. и вс.\n",
    "\n",
    "    - **Bill**: пик на пн.\n",
    "\n",
    "    - **Bob**: пик на вт. и пт.\n",
    "\n",
    "    - **Dick**: пик на ср. и сб.\n",
    "\n",
    "    - **Ed**: пик на ср. и сб.\n",
    "\n",
    "    - **John**: пик на пт (выходные - провал)\n",
    "\n",
    "    - **Lindsey**: пик на вт.\n",
    "\n",
    "    - **Mary-Kate**: пик на выходные\n",
    "\n",
    "    - **Naomi**: пик на чт.\n"
   ]
  },
  {
   "cell_type": "markdown",
   "metadata": {},
   "source": [
    "**Загрузим сохраненный ранее в pickle-файл частотный словарь сайтов для 10 пользователей. **"
   ]
  },
  {
   "cell_type": "code",
   "execution_count": 22,
   "metadata": {
    "collapsed": true
   },
   "outputs": [],
   "source": [
    "with open(os.path.join(PATH_TO_DATA,'site_freq_10users.pkl'), 'rb') as pkl_file:\n",
    "        site_freq_10users = pickle.load(pkl_file)"
   ]
  },
  {
   "cell_type": "markdown",
   "metadata": {},
   "source": [
    "**Определим топ-10 самых посещаемых сайтов (*top10_sites*) и соответствующие кол-ва посещений (*top10_freqs*).**"
   ]
  },
  {
   "cell_type": "code",
   "execution_count": 23,
   "metadata": {
    "collapsed": true
   },
   "outputs": [],
   "source": [
    "top10_freqs = list(map(lambda x: x[1][1], sorted(site_freq_10users.items(), key=lambda x: x[1][1], reverse=True)))[:10]\n",
    "top10_sites = list(map(lambda x: x[0], sorted(site_freq_10users.items(), key=lambda x: x[1][1], reverse=True)))[:10]"
   ]
  },
  {
   "cell_type": "markdown",
   "metadata": {},
   "source": [
    "**Нарисуем *seaborn barplot*, показывающий частоты посещений топ-10 сайтов. Сделайте подписи сайтов вертикальными, иначе они сольются (*xticks*).**"
   ]
  },
  {
   "cell_type": "code",
   "execution_count": 24,
   "metadata": {},
   "outputs": [
    {
     "data": {
      "image/png": "[encoded data removed]",
      "text/plain": [
       "<matplotlib.figure.Figure at 0x26bb6fc0978>"
      ]
     },
     "metadata": {},
     "output_type": "display_data"
    }
   ],
   "source": [
    "sns.barplot(top10_sites, top10_freqs)\n",
    "plt.title('Топ-10 самых посещаемых сайтов')\n",
    "plt.ylabel('Частота')\n",
    "plt.xticks(rotation=90);"
   ]
  },
  {
   "cell_type": "markdown",
   "metadata": {},
   "source": [
    "## <center> 3.4. Дальнейшее построение признаков"
   ]
  },
  {
   "cell_type": "markdown",
   "metadata": {},
   "source": [
    "Этот раздел творческий, тут мы собираемся придумать, как еще учесть время посещения веб-страниц и прочие признаки. \n",
    "\n",
    "В следующей части мы будем использовать \"мешок\" сайтов  для классификации сессий по принадлежности разным пользователям, а эти новые признаки, которые мы сейчас создадим, потом добавим и посмотрим, улучшается ли модель. Поэтому создадим их в виде отдельных матриц и сохранить также отдельно.  \n",
    "\n",
    "В этом разделе мы построим и визуально исследуем самые разные признаки (попробуем привлечь фантазию), в том числе:\n",
    "- год, месяц и день начала сессии\n",
    "- час начала сессии (с учетом года, месяца и дня)\n",
    "- время суток\n",
    "- среднее время пребывания на сайте, посчитать можно, скажем, для топ-30 популярных сайтов\n",
    "- индикаторы посещения популярных сайтов (скажем, тоже для топ-30 популярных сайтов)\n",
    "- частота посещения Facebook\n",
    "- ..."
   ]
  },
  {
   "cell_type": "markdown",
   "metadata": {},
   "source": [
    "**Для этого напишем функцию, создающую новые признаки, и применим ее к исходным данным – каталогам с 10 и 150 файлами. Сделаем это только для набора данных, полученного с параметрами *session_length=10* и *window_size=10*. Сериализуем полученные матрицы с помощью pickle. Функция сможет возвращать как только новые признаки, так и старые с новыми.**"
   ]
  },
  {
   "cell_type": "code",
   "execution_count": 29,
   "metadata": {
    "collapsed": true
   },
   "outputs": [],
   "source": [
    "def feature_engineering(path_to_csv_files, site_freq_path=None, feature_names=None, \n",
    "                        old_features=False, session_length=10, window_size=None):\n",
    "    ''' \n",
    "    Возвращает Датафрейм с фичами.\n",
    "    \n",
    "    path_to_csv_files - путь к папке с сессиями пользователей.\n",
    "    \n",
    "    site_freq_path - путь к готовому словарю. Если None - словарь создается по-новому.\n",
    "    \n",
    "    feature_names - список выводимых фич. Если None - выводятся все рассчитанные фичи. \n",
    "        Этот список может содержать только следующие элементы:\n",
    "            новые фичи - \n",
    "        ['start_year', 'start_month', 'start_day', 'time_of_day', 'mean_site_time',\n",
    "         'freq_top30_0_4', 'freq_top30_1_2', 'freq_top30_2_1', ...(и т.д. по всем топ30 сайтов, \n",
    "         последняя цифра в названии элемента - код сайта, может меняться),\n",
    "         'weekend']\n",
    "           \n",
    "           старые фичи (выводятся только если old_features=True) -\n",
    "       ['site1', 'site2', 'site3', 'site4', 'site5', 'site6', 'site7', 'site8', 'site9', 'site10',\n",
    "       'time_diff1', 'time_diff2', 'time_diff3', 'time_diff4', 'time_diff5',\n",
    "       'time_diff6', 'time_diff7', 'time_diff8', 'time_diff9',\n",
    "       'session_timespan', '#unique_sites', 'start_hour', 'day_of_week',\n",
    "       'target']\n",
    "    \n",
    "    old_features - выводить или не выводить старые фичи.\n",
    "    \n",
    "    session_length - размер сессии.\n",
    "    \n",
    "    window_size - размер окна. Если None - окна как такового нет, все режется только на сессии (аналогично \n",
    "        как если бы window_size = session_length)\n",
    "    \n",
    "    '''\n",
    "    # инициализация\n",
    "    freq_vocabulary = {}    # словарь id сайтов\n",
    "    data_mod = []    # модифицированный список закодированных сайтов с учетом окна\n",
    "    data_datetime = []   # базовые данные с метками времени для формирования из них всех остальных временных признаков\n",
    "    y = []      # целевая переменная (id пользователей)\n",
    "    \n",
    "    if site_freq_path is not None:            # если путь к словарю указан - считываем его\n",
    "        # считываем частотный словарь\n",
    "        with open(site_freq_path, 'rb') as pkl_file:\n",
    "            freq_vocabulary = pickle.load(pkl_file)\n",
    "    \n",
    "    # подготовим пути для обхода и обойдем:\n",
    "    for path in tqdm_notebook(glob(os.path.join(path_to_csv_files, 'user*.csv'))):\n",
    "              \n",
    "        # считаем файл с данными\n",
    "        data_df = pd.read_csv(path, header=0)\n",
    "        \n",
    "        # если считан словарь - используем его для перекодировки, иначе - формируем словарь и параллельно перекодируем\n",
    "        if site_freq_path is not None:\n",
    "            # перекодировка с готовым словарём\n",
    "            data = data_df['site'].apply(lambda x: freq_vocabulary[x][0])\n",
    "        else:        \n",
    "            # сформируем словарь и перекодируем site_string в site_id\n",
    "            data = []\n",
    "            for site_string in data_df['site']:\n",
    "                id_freq = freq_vocabulary.setdefault(site_string, [len(freq_vocabulary) + 1, 0])[0]\n",
    "                freq_vocabulary[site_string][1] += 1\n",
    "                data.append(id_freq)\n",
    "        \n",
    "        # рассчитаем число рядов (row) для текущего пользователя\n",
    "        window_size_actual = window_size if window_size is not None else session_length\n",
    "        row = len(data) // window_size_actual + 1 if len(data) % window_size_actual != 0 \\\n",
    "                                                            else len(data) // window_size_actual\n",
    "        \n",
    "        ###################################################################################################################\n",
    "        # формирование сессий для текущих значений session_length и window_size\n",
    "        def sessions_forming(data, row, session_length, window_size):\n",
    "            data = list(data)\n",
    "            if window_size is not None:\n",
    "                # добавляем нужное количество нанов (с ними удобнее, потом заменим нулями)\n",
    "                data.extend([np.nan] * session_length)\n",
    "                data_mod = []            \n",
    "                for i in range(row):\n",
    "                    data_mod.extend(data[(window_size * i):(window_size * i + session_length)])\n",
    "                    \n",
    "            else:\n",
    "                # добавляем нужное количество нанов (с ними удобнее, потом заменим нулями)\n",
    "                n_ext = session_length - len(data) % session_length if len(data) % session_length !=0 else 0\n",
    "                data.extend([np.nan] * n_ext)\n",
    "                data_mod = data\n",
    "            \n",
    "            return data_mod\n",
    "        ####################################################################################################################\n",
    "        \n",
    "        # формируем и накапливаем модифицированный список закодированных сайтов с учетом окна\n",
    "        data_mod_user_id = sessions_forming(data, row, session_length, window_size)\n",
    "        data_mod.extend(data_mod_user_id)\n",
    "                                 \n",
    "        # формируем и накапливаем блок с временными данными аналогично сайтовому блоку\n",
    "        data_datetime_id = sessions_forming(data_df['timestamp'].apply(lambda x: pd.to_datetime(x)), \n",
    "                                             row, session_length, window_size)\n",
    "        data_datetime.extend(data_datetime_id)\n",
    "                \n",
    "        # сформируем и накопим вектор y \"ответов\", то есть user_id\n",
    "        user_id = int(path[-8:-4]) # id пользователя\n",
    "        col_user_id = [user_id] * row # forming columns with user_id\n",
    "        y.extend(col_user_id)\n",
    "        \n",
    "    # рассчитаем общее количество рядов в признаках\n",
    "    rows = len(data_mod) // session_length\n",
    "    \n",
    "    # сформируем признаки site1, ... siteNN\n",
    "    data_mod = np.array(data_mod)\n",
    "    data_mod.resize((rows, session_length))\n",
    "    data_mod_df = pd.DataFrame(data_mod, columns=['site' + str(i) for i in range(1, session_length + 1)])\n",
    "    \n",
    "    # формируем датафрейм с datetime (базовые данные для работа с временными метками)\n",
    "    data_datetime = np.array(data_datetime)\n",
    "    data_datetime.resize((rows, session_length))\n",
    "    data_datetime_df = pd.DataFrame(data_datetime, columns=['datetime' + str(i) for i in range(1, session_length + 1)])\n",
    "\n",
    "    # датафрейм с timestamp-метками\n",
    "    data_timestamp_df = data_datetime_df.applymap(lambda x: pd.datetime.timestamp(x) \n",
    "                                                  if type(x) == pd._libs.tslib.Timestamp else np.nan)\n",
    "    \n",
    "    ###################### начинаем готовить датафрейм с признаками на выдачу   \n",
    "    df = pd.DataFrame()\n",
    "    \n",
    "    # год начала сессии\n",
    "    df['start_year'] = data_datetime_df['datetime1'].apply(lambda x: x.year)\n",
    "    \n",
    "    # месяц начала сессии\n",
    "    df['start_month'] = data_datetime_df['datetime1'].apply(lambda x: x.month)\n",
    "    \n",
    "    # день начала сессии\n",
    "    df['start_day'] = data_datetime_df['datetime1'].apply(lambda x: x.day)\n",
    "    \n",
    "    # время суток (06-12 - утро(1), 12-19 - день(2), 19-24 - вечер(3), 00-06 - ночь(4))\n",
    "    df['time_of_day'] = data_datetime_df['datetime1'].apply(lambda x:  1 if x.hour >  6 and x.hour <= 12 else \n",
    "                                                                       2 if x.hour > 12 and x.hour <= 19 else\n",
    "                                                                       3 if x.hour > 19 and x.hour <= 24 else\n",
    "                                                                       4)\n",
    "    \n",
    "    # среднее время пребывания на сайте для топ-30 популярных сайтов (усредненное по всем топ-30)\n",
    "    top30_sites_id = list(map(lambda x: x[1][0], sorted(freq_vocabulary.items(), key=lambda x: x[1][1], reverse=True)))[:30]\n",
    "    top30_index = data_mod_df.iloc[:, :-1].applymap(lambda x: x in top30_sites_id)\n",
    "    top30_index.columns = ['time_diff' + str(j) for j in range(1, session_length)]\n",
    "    \n",
    "    time_diff_df = pd.DataFrame()\n",
    "    for j in range(1, session_length):\n",
    "        time_diff_df['time_diff' + str(j)] = data_timestamp_df.iloc[:, j] - data_timestamp_df.iloc[:, j - 1]\n",
    "        \n",
    "    df['mean_site_time'] = time_diff_df[top30_index].mean(axis=1, skipna=True)\n",
    "    \n",
    "    # частота посещения топ-30 популярных сайтов\n",
    "    for i, id_ in enumerate(top30_sites_id):\n",
    "        df['freq_top30_{}_{}'.format(i, id_)] = data_mod_df.applymap(lambda x: x == id_).sum(axis=1)\n",
    "        \n",
    "    # индикатор уикэнда в день начала сессии\n",
    "    df['weekend'] = data_datetime_df['datetime1'].apply(lambda x: 1 if x.weekday() in [5, 6] else 0)\n",
    "   \n",
    "    #################### блок со СТАРЫМИ фичами\n",
    "    if old_features:     \n",
    "        # колонки с сайтами\n",
    "        df[['site' + str(i) for i in range(1, session_length + 1)]] = \\\n",
    "                                       data_mod_df[['site' + str(i) for i in range(1, session_length + 1)]]\n",
    "\n",
    "        # колонки с дельтой между заходами на сайты внутри сессии\n",
    "        df = pd.concat([df, time_diff_df], axis=1)\n",
    "#         for j in range(1, session_length):\n",
    "#             df['time_diff' + str(j)] = data_timestamp_df.iloc[:, j] - data_timestamp_df.iloc[:, j - 1]\n",
    "\n",
    "        # остальные признаки\n",
    "        df['session_timespan'] = data_timestamp_df.max(axis=1, skipna=True) - data_timestamp_df.min(axis=1, skipna=True)\n",
    "\n",
    "        df['#unique_sites'] = data_mod_df[['site' + str(i) for i in range(1, session_length + 1)]].nunique(axis=1, dropna=True)\n",
    "\n",
    "        df['start_hour'] = data_datetime_df['datetime1'].apply(lambda x: x.hour)\n",
    "\n",
    "        df['day_of_week'] = data_datetime_df['datetime1'].apply(lambda x: x.weekday())\n",
    "\n",
    "\n",
    "    df['target'] = y\n",
    "    \n",
    "    if feature_names is not None:\n",
    "        df = df[feature_names]\n",
    "\n",
    "    return df.fillna(0).astype(int)"
   ]
  },
  {
   "cell_type": "markdown",
   "metadata": {},
   "source": [
    "#### Посчитаем новые фичи для 10 и 150 пользователей."
   ]
  },
  {
   "cell_type": "code",
   "execution_count": 32,
   "metadata": {},
   "outputs": [
    {
     "data": {
      "application/vnd.jupyter.widget-view+json": {
       "model_id": "bf1cdb3d980d428ca92341b7e32636ff",
       "version_major": 2,
       "version_minor": 0
      },
      "text/plain": [
       "A Jupyter Widget"
      ]
     },
     "metadata": {},
     "output_type": "display_data"
    },
    {
     "name": "stdout",
     "output_type": "stream",
     "text": [
      "\n",
      "Wall time: 17.9 s\n"
     ]
    }
   ],
   "source": [
    "%%time\n",
    "new_features_10users = feature_engineering(os.path.join(PATH_TO_DATA, '10users'))"
   ]
  },
  {
   "cell_type": "code",
   "execution_count": 33,
   "metadata": {},
   "outputs": [
    {
     "data": {
      "text/html": [
       "<div>\n",
       "<style>\n",
       "    .dataframe thead tr:only-child th {\n",
       "        text-align: right;\n",
       "    }\n",
       "\n",
       "    .dataframe thead th {\n",
       "        text-align: left;\n",
       "    }\n",
       "\n",
       "    .dataframe tbody tr th {\n",
       "        vertical-align: top;\n",
       "    }\n",
       "</style>\n",
       "<table border=\"1\" class=\"dataframe\">\n",
       "  <thead>\n",
       "    <tr style=\"text-align: right;\">\n",
       "      <th></th>\n",
       "      <th>start_year</th>\n",
       "      <th>start_month</th>\n",
       "      <th>start_day</th>\n",
       "      <th>time_of_day</th>\n",
       "      <th>mean_site_time</th>\n",
       "      <th>freq_top30_0_210</th>\n",
       "      <th>freq_top30_1_51</th>\n",
       "      <th>freq_top30_2_4</th>\n",
       "      <th>freq_top30_3_183</th>\n",
       "      <th>freq_top30_4_15</th>\n",
       "      <th>freq_top30_5_52</th>\n",
       "      <th>freq_top30_6_700</th>\n",
       "      <th>...</th>\n",
       "      <th>freq_top30_20_185</th>\n",
       "      <th>freq_top30_21_70</th>\n",
       "      <th>freq_top30_22_191</th>\n",
       "      <th>freq_top30_23_576</th>\n",
       "      <th>freq_top30_24_1026</th>\n",
       "      <th>freq_top30_25_1602</th>\n",
       "      <th>freq_top30_26_186</th>\n",
       "      <th>freq_top30_27_1949</th>\n",
       "      <th>freq_top30_28_972</th>\n",
       "      <th>freq_top30_29_188</th>\n",
       "      <th>weekend</th>\n",
       "      <th>target</th>\n",
       "    </tr>\n",
       "  </thead>\n",
       "  <tbody>\n",
       "    <tr>\n",
       "      <th>0</th>\n",
       "      <td>2013</td>\n",
       "      <td>11</td>\n",
       "      <td>15</td>\n",
       "      <td>1</td>\n",
       "      <td>0</td>\n",
       "      <td>0</td>\n",
       "      <td>0</td>\n",
       "      <td>2</td>\n",
       "      <td>0</td>\n",
       "      <td>0</td>\n",
       "      <td>0</td>\n",
       "      <td>0</td>\n",
       "      <td>...</td>\n",
       "      <td>0</td>\n",
       "      <td>0</td>\n",
       "      <td>0</td>\n",
       "      <td>0</td>\n",
       "      <td>0</td>\n",
       "      <td>0</td>\n",
       "      <td>0</td>\n",
       "      <td>0</td>\n",
       "      <td>0</td>\n",
       "      <td>0</td>\n",
       "      <td>0</td>\n",
       "      <td>31</td>\n",
       "    </tr>\n",
       "    <tr>\n",
       "      <th>1</th>\n",
       "      <td>2013</td>\n",
       "      <td>11</td>\n",
       "      <td>15</td>\n",
       "      <td>1</td>\n",
       "      <td>0</td>\n",
       "      <td>0</td>\n",
       "      <td>0</td>\n",
       "      <td>0</td>\n",
       "      <td>0</td>\n",
       "      <td>0</td>\n",
       "      <td>0</td>\n",
       "      <td>0</td>\n",
       "      <td>...</td>\n",
       "      <td>0</td>\n",
       "      <td>0</td>\n",
       "      <td>0</td>\n",
       "      <td>0</td>\n",
       "      <td>0</td>\n",
       "      <td>0</td>\n",
       "      <td>0</td>\n",
       "      <td>0</td>\n",
       "      <td>0</td>\n",
       "      <td>0</td>\n",
       "      <td>0</td>\n",
       "      <td>31</td>\n",
       "    </tr>\n",
       "    <tr>\n",
       "      <th>2</th>\n",
       "      <td>2013</td>\n",
       "      <td>11</td>\n",
       "      <td>15</td>\n",
       "      <td>1</td>\n",
       "      <td>7</td>\n",
       "      <td>0</td>\n",
       "      <td>0</td>\n",
       "      <td>1</td>\n",
       "      <td>0</td>\n",
       "      <td>1</td>\n",
       "      <td>0</td>\n",
       "      <td>0</td>\n",
       "      <td>...</td>\n",
       "      <td>0</td>\n",
       "      <td>0</td>\n",
       "      <td>0</td>\n",
       "      <td>0</td>\n",
       "      <td>0</td>\n",
       "      <td>0</td>\n",
       "      <td>0</td>\n",
       "      <td>0</td>\n",
       "      <td>0</td>\n",
       "      <td>0</td>\n",
       "      <td>0</td>\n",
       "      <td>31</td>\n",
       "    </tr>\n",
       "    <tr>\n",
       "      <th>3</th>\n",
       "      <td>2013</td>\n",
       "      <td>11</td>\n",
       "      <td>15</td>\n",
       "      <td>1</td>\n",
       "      <td>0</td>\n",
       "      <td>0</td>\n",
       "      <td>0</td>\n",
       "      <td>0</td>\n",
       "      <td>0</td>\n",
       "      <td>0</td>\n",
       "      <td>0</td>\n",
       "      <td>0</td>\n",
       "      <td>...</td>\n",
       "      <td>0</td>\n",
       "      <td>0</td>\n",
       "      <td>0</td>\n",
       "      <td>0</td>\n",
       "      <td>0</td>\n",
       "      <td>0</td>\n",
       "      <td>0</td>\n",
       "      <td>0</td>\n",
       "      <td>0</td>\n",
       "      <td>0</td>\n",
       "      <td>0</td>\n",
       "      <td>31</td>\n",
       "    </tr>\n",
       "    <tr>\n",
       "      <th>4</th>\n",
       "      <td>2013</td>\n",
       "      <td>11</td>\n",
       "      <td>15</td>\n",
       "      <td>1</td>\n",
       "      <td>1</td>\n",
       "      <td>0</td>\n",
       "      <td>0</td>\n",
       "      <td>0</td>\n",
       "      <td>0</td>\n",
       "      <td>1</td>\n",
       "      <td>0</td>\n",
       "      <td>0</td>\n",
       "      <td>...</td>\n",
       "      <td>0</td>\n",
       "      <td>0</td>\n",
       "      <td>0</td>\n",
       "      <td>0</td>\n",
       "      <td>0</td>\n",
       "      <td>0</td>\n",
       "      <td>0</td>\n",
       "      <td>0</td>\n",
       "      <td>0</td>\n",
       "      <td>0</td>\n",
       "      <td>0</td>\n",
       "      <td>31</td>\n",
       "    </tr>\n",
       "  </tbody>\n",
       "</table>\n",
       "<p>5 rows × 37 columns</p>\n",
       "</div>"
      ],
      "text/plain": [
       "   start_year  start_month  start_day  time_of_day  mean_site_time  \\\n",
       "0        2013           11         15            1               0   \n",
       "1        2013           11         15            1               0   \n",
       "2        2013           11         15            1               7   \n",
       "3        2013           11         15            1               0   \n",
       "4        2013           11         15            1               1   \n",
       "\n",
       "   freq_top30_0_210  freq_top30_1_51  freq_top30_2_4  freq_top30_3_183  \\\n",
       "0                 0                0               2                 0   \n",
       "1                 0                0               0                 0   \n",
       "2                 0                0               1                 0   \n",
       "3                 0                0               0                 0   \n",
       "4                 0                0               0                 0   \n",
       "\n",
       "   freq_top30_4_15  freq_top30_5_52  freq_top30_6_700   ...    \\\n",
       "0                0                0                 0   ...     \n",
       "1                0                0                 0   ...     \n",
       "2                1                0                 0   ...     \n",
       "3                0                0                 0   ...     \n",
       "4                1                0                 0   ...     \n",
       "\n",
       "   freq_top30_20_185  freq_top30_21_70  freq_top30_22_191  freq_top30_23_576  \\\n",
       "0                  0                 0                  0                  0   \n",
       "1                  0                 0                  0                  0   \n",
       "2                  0                 0                  0                  0   \n",
       "3                  0                 0                  0                  0   \n",
       "4                  0                 0                  0                  0   \n",
       "\n",
       "   freq_top30_24_1026  freq_top30_25_1602  freq_top30_26_186  \\\n",
       "0                   0                   0                  0   \n",
       "1                   0                   0                  0   \n",
       "2                   0                   0                  0   \n",
       "3                   0                   0                  0   \n",
       "4                   0                   0                  0   \n",
       "\n",
       "   freq_top30_27_1949  freq_top30_28_972  freq_top30_29_188  weekend  target  \n",
       "0                   0                  0                  0        0      31  \n",
       "1                   0                  0                  0        0      31  \n",
       "2                   0                  0                  0        0      31  \n",
       "3                   0                  0                  0        0      31  \n",
       "4                   0                  0                  0        0      31  \n",
       "\n",
       "[5 rows x 37 columns]"
      ]
     },
     "execution_count": 33,
     "metadata": {},
     "output_type": "execute_result"
    }
   ],
   "source": [
    "new_features_10users.head()"
   ]
  },
  {
   "cell_type": "code",
   "execution_count": 34,
   "metadata": {},
   "outputs": [
    {
     "data": {
      "application/vnd.jupyter.widget-view+json": {
       "model_id": "0d4e200b7eaa41bfaccbee9f1f52a65e",
       "version_major": 2,
       "version_minor": 0
      },
      "text/plain": [
       "A Jupyter Widget"
      ]
     },
     "metadata": {},
     "output_type": "display_data"
    },
    {
     "name": "stdout",
     "output_type": "stream",
     "text": [
      "\n",
      "Wall time: 2min 51s\n"
     ]
    }
   ],
   "source": [
    "%%time\n",
    "new_features_150users = feature_engineering(os.path.join(PATH_TO_DATA, '150users'))"
   ]
  },
  {
   "cell_type": "code",
   "execution_count": 35,
   "metadata": {},
   "outputs": [
    {
     "data": {
      "text/html": [
       "<div>\n",
       "<style>\n",
       "    .dataframe thead tr:only-child th {\n",
       "        text-align: right;\n",
       "    }\n",
       "\n",
       "    .dataframe thead th {\n",
       "        text-align: left;\n",
       "    }\n",
       "\n",
       "    .dataframe tbody tr th {\n",
       "        vertical-align: top;\n",
       "    }\n",
       "</style>\n",
       "<table border=\"1\" class=\"dataframe\">\n",
       "  <thead>\n",
       "    <tr style=\"text-align: right;\">\n",
       "      <th></th>\n",
       "      <th>start_year</th>\n",
       "      <th>start_month</th>\n",
       "      <th>start_day</th>\n",
       "      <th>time_of_day</th>\n",
       "      <th>mean_site_time</th>\n",
       "      <th>freq_top30_0_1</th>\n",
       "      <th>freq_top30_1_3</th>\n",
       "      <th>freq_top30_2_41</th>\n",
       "      <th>freq_top30_3_2</th>\n",
       "      <th>freq_top30_4_181</th>\n",
       "      <th>freq_top30_5_214</th>\n",
       "      <th>freq_top30_6_28</th>\n",
       "      <th>...</th>\n",
       "      <th>freq_top30_20_182</th>\n",
       "      <th>freq_top30_21_1201</th>\n",
       "      <th>freq_top30_22_6</th>\n",
       "      <th>freq_top30_23_2165</th>\n",
       "      <th>freq_top30_24_244</th>\n",
       "      <th>freq_top30_25_180</th>\n",
       "      <th>freq_top30_26_1463</th>\n",
       "      <th>freq_top30_27_106</th>\n",
       "      <th>freq_top30_28_253</th>\n",
       "      <th>freq_top30_29_2707</th>\n",
       "      <th>weekend</th>\n",
       "      <th>target</th>\n",
       "    </tr>\n",
       "  </thead>\n",
       "  <tbody>\n",
       "    <tr>\n",
       "      <th>0</th>\n",
       "      <td>2013</td>\n",
       "      <td>11</td>\n",
       "      <td>15</td>\n",
       "      <td>1</td>\n",
       "      <td>7</td>\n",
       "      <td>4</td>\n",
       "      <td>2</td>\n",
       "      <td>0</td>\n",
       "      <td>2</td>\n",
       "      <td>0</td>\n",
       "      <td>0</td>\n",
       "      <td>0</td>\n",
       "      <td>...</td>\n",
       "      <td>0</td>\n",
       "      <td>0</td>\n",
       "      <td>0</td>\n",
       "      <td>0</td>\n",
       "      <td>0</td>\n",
       "      <td>0</td>\n",
       "      <td>0</td>\n",
       "      <td>0</td>\n",
       "      <td>0</td>\n",
       "      <td>0</td>\n",
       "      <td>0</td>\n",
       "      <td>6</td>\n",
       "    </tr>\n",
       "    <tr>\n",
       "      <th>1</th>\n",
       "      <td>2013</td>\n",
       "      <td>11</td>\n",
       "      <td>15</td>\n",
       "      <td>1</td>\n",
       "      <td>0</td>\n",
       "      <td>0</td>\n",
       "      <td>1</td>\n",
       "      <td>0</td>\n",
       "      <td>0</td>\n",
       "      <td>0</td>\n",
       "      <td>0</td>\n",
       "      <td>0</td>\n",
       "      <td>...</td>\n",
       "      <td>0</td>\n",
       "      <td>0</td>\n",
       "      <td>1</td>\n",
       "      <td>0</td>\n",
       "      <td>0</td>\n",
       "      <td>0</td>\n",
       "      <td>0</td>\n",
       "      <td>0</td>\n",
       "      <td>0</td>\n",
       "      <td>0</td>\n",
       "      <td>0</td>\n",
       "      <td>6</td>\n",
       "    </tr>\n",
       "    <tr>\n",
       "      <th>2</th>\n",
       "      <td>2013</td>\n",
       "      <td>11</td>\n",
       "      <td>15</td>\n",
       "      <td>1</td>\n",
       "      <td>16</td>\n",
       "      <td>5</td>\n",
       "      <td>1</td>\n",
       "      <td>0</td>\n",
       "      <td>0</td>\n",
       "      <td>0</td>\n",
       "      <td>0</td>\n",
       "      <td>0</td>\n",
       "      <td>...</td>\n",
       "      <td>0</td>\n",
       "      <td>0</td>\n",
       "      <td>0</td>\n",
       "      <td>0</td>\n",
       "      <td>0</td>\n",
       "      <td>0</td>\n",
       "      <td>0</td>\n",
       "      <td>0</td>\n",
       "      <td>0</td>\n",
       "      <td>0</td>\n",
       "      <td>0</td>\n",
       "      <td>6</td>\n",
       "    </tr>\n",
       "    <tr>\n",
       "      <th>3</th>\n",
       "      <td>2013</td>\n",
       "      <td>11</td>\n",
       "      <td>15</td>\n",
       "      <td>1</td>\n",
       "      <td>2</td>\n",
       "      <td>4</td>\n",
       "      <td>0</td>\n",
       "      <td>0</td>\n",
       "      <td>0</td>\n",
       "      <td>0</td>\n",
       "      <td>0</td>\n",
       "      <td>0</td>\n",
       "      <td>...</td>\n",
       "      <td>0</td>\n",
       "      <td>0</td>\n",
       "      <td>0</td>\n",
       "      <td>0</td>\n",
       "      <td>0</td>\n",
       "      <td>0</td>\n",
       "      <td>0</td>\n",
       "      <td>0</td>\n",
       "      <td>0</td>\n",
       "      <td>0</td>\n",
       "      <td>0</td>\n",
       "      <td>6</td>\n",
       "    </tr>\n",
       "    <tr>\n",
       "      <th>4</th>\n",
       "      <td>2013</td>\n",
       "      <td>11</td>\n",
       "      <td>15</td>\n",
       "      <td>1</td>\n",
       "      <td>2</td>\n",
       "      <td>3</td>\n",
       "      <td>0</td>\n",
       "      <td>0</td>\n",
       "      <td>0</td>\n",
       "      <td>0</td>\n",
       "      <td>0</td>\n",
       "      <td>0</td>\n",
       "      <td>...</td>\n",
       "      <td>0</td>\n",
       "      <td>0</td>\n",
       "      <td>0</td>\n",
       "      <td>0</td>\n",
       "      <td>0</td>\n",
       "      <td>0</td>\n",
       "      <td>0</td>\n",
       "      <td>0</td>\n",
       "      <td>0</td>\n",
       "      <td>0</td>\n",
       "      <td>0</td>\n",
       "      <td>6</td>\n",
       "    </tr>\n",
       "  </tbody>\n",
       "</table>\n",
       "<p>5 rows × 37 columns</p>\n",
       "</div>"
      ],
      "text/plain": [
       "   start_year  start_month  start_day  time_of_day  mean_site_time  \\\n",
       "0        2013           11         15            1               7   \n",
       "1        2013           11         15            1               0   \n",
       "2        2013           11         15            1              16   \n",
       "3        2013           11         15            1               2   \n",
       "4        2013           11         15            1               2   \n",
       "\n",
       "   freq_top30_0_1  freq_top30_1_3  freq_top30_2_41  freq_top30_3_2  \\\n",
       "0               4               2                0               2   \n",
       "1               0               1                0               0   \n",
       "2               5               1                0               0   \n",
       "3               4               0                0               0   \n",
       "4               3               0                0               0   \n",
       "\n",
       "   freq_top30_4_181  freq_top30_5_214  freq_top30_6_28   ...    \\\n",
       "0                 0                 0                0   ...     \n",
       "1                 0                 0                0   ...     \n",
       "2                 0                 0                0   ...     \n",
       "3                 0                 0                0   ...     \n",
       "4                 0                 0                0   ...     \n",
       "\n",
       "   freq_top30_20_182  freq_top30_21_1201  freq_top30_22_6  freq_top30_23_2165  \\\n",
       "0                  0                   0                0                   0   \n",
       "1                  0                   0                1                   0   \n",
       "2                  0                   0                0                   0   \n",
       "3                  0                   0                0                   0   \n",
       "4                  0                   0                0                   0   \n",
       "\n",
       "   freq_top30_24_244  freq_top30_25_180  freq_top30_26_1463  \\\n",
       "0                  0                  0                   0   \n",
       "1                  0                  0                   0   \n",
       "2                  0                  0                   0   \n",
       "3                  0                  0                   0   \n",
       "4                  0                  0                   0   \n",
       "\n",
       "   freq_top30_27_106  freq_top30_28_253  freq_top30_29_2707  weekend  target  \n",
       "0                  0                  0                   0        0       6  \n",
       "1                  0                  0                   0        0       6  \n",
       "2                  0                  0                   0        0       6  \n",
       "3                  0                  0                   0        0       6  \n",
       "4                  0                  0                   0        0       6  \n",
       "\n",
       "[5 rows x 37 columns]"
      ]
     },
     "execution_count": 35,
     "metadata": {},
     "output_type": "execute_result"
    }
   ],
   "source": [
    "new_features_150users.head()"
   ]
  },
  {
   "cell_type": "markdown",
   "metadata": {},
   "source": [
    "#### Попробуем то же, но с другим окном:  \n",
    "session_length=10, window_size=7"
   ]
  },
  {
   "cell_type": "code",
   "execution_count": 36,
   "metadata": {},
   "outputs": [
    {
     "data": {
      "application/vnd.jupyter.widget-view+json": {
       "model_id": "d99028a21ef141109fb1d94a435a6f51",
       "version_major": 2,
       "version_minor": 0
      },
      "text/plain": [
       "A Jupyter Widget"
      ]
     },
     "metadata": {},
     "output_type": "display_data"
    },
    {
     "name": "stdout",
     "output_type": "stream",
     "text": [
      "\n",
      "Wall time: 19.1 s\n"
     ]
    }
   ],
   "source": [
    "%%time\n",
    "new_features_10users_s10_w7 = feature_engineering(os.path.join(PATH_TO_DATA, '10users'), session_length=10, window_size=7)"
   ]
  },
  {
   "cell_type": "markdown",
   "metadata": {},
   "source": [
    "**Проанализируем новые признаки.**"
   ]
  },
  {
   "cell_type": "markdown",
   "metadata": {},
   "source": [
    "Не будем перегружать отчет кодом и графиками новых признаков, при необходимости это можно будет посмотреть в [полной версии работы](https://github.com/shereshevskiy/mipt_ya_ml_spec_final_report1_user_identification/tree/master/capstone_user_identification_fullversion). Здесь отметим основные выводы.    \n",
    "\n",
    "Анализ делается аналогичным предыдущему разделу способом. Делаем это в цикле (приведем только код):"
   ]
  },
  {
   "cell_type": "markdown",
   "metadata": {
    "scrolled": true
   },
   "source": [
    "``` python\n",
    "for feature in new_features_10users.columns[:-2]:\n",
    "    new_features_10users[feature].hist(color='aqua', bins=10)\n",
    "    plt.title('Усредненный по пользователям признак ' + feature)\n",
    "    plt.xlabel(feature)\n",
    "    plt.ylabel('Количество сессий')\n",
    "    plt.show()\n",
    "\n",
    "    print('Распределение признака ' + feature + ' для каждого пользователя')\n",
    "\n",
    "    fig, axes = plt.subplots(nrows=3, ncols=4, figsize=(16, 10))\n",
    "\n",
    "    # как вариант, можно и по-другому\n",
    "    for idx, (user, sub_df) in  enumerate(pd.groupby(new_features_10users, 'user_id')): \n",
    "        col = feature\n",
    "        sub_df[col].hist(ax=axes[idx // 4, idx % 4], color=color_dic[user], label=user, bins=20)\n",
    "#                                    bins=(sub_df[col].max() - sub_df[col].min() + 1))\n",
    "        axes[idx // 4, idx % 4].legend()\n",
    "    #     axes[idx // 4, idx % 4].set_xlim([1, 10])\n",
    "        axes[idx // 4, idx % 4].set_xlabel(feature)\n",
    "        axes[idx // 4, idx % 4].set_ylabel('Количество сессий')\n",
    "\n",
    "    plt.show()\n",
    "```"
   ]
  },
  {
   "cell_type": "markdown",
   "metadata": {
    "scrolled": true
   },
   "source": [
    "```python\n",
    "for feature in new_features_10users_s10_w7.columns[:-2]:\n",
    "    new_features_10users[feature].hist(color='aqua', bins=10)\n",
    "    plt.title('Усредненный по пользователям признак ' + feature)\n",
    "    plt.xlabel(feature)\n",
    "    plt.ylabel('Количество сессий')\n",
    "    plt.show()\n",
    "\n",
    "    print('Распределение признака ' + feature + ' для каждого пользователя')\n",
    "\n",
    "    fig, axes = plt.subplots(nrows=3, ncols=4, figsize=(16, 10))\n",
    "\n",
    "    # как вариант, можно и по-другому\n",
    "    for idx, (user, sub_df) in  enumerate(pd.groupby(new_features_10users, 'user_id')): \n",
    "        col = feature\n",
    "        sub_df[col].hist(ax=axes[idx // 4, idx % 4], color=color_dic[user], label=user, bins=20)\n",
    "#                                    bins=(sub_df[col].max() - sub_df[col].min() + 1))\n",
    "        axes[idx // 4, idx % 4].legend()\n",
    "    #     axes[idx // 4, idx % 4].set_xlim([1, 10])\n",
    "        axes[idx // 4, idx % 4].set_xlabel(feature)\n",
    "        axes[idx // 4, idx % 4].set_ylabel('Количество сессий')\n",
    "\n",
    "    plt.show()\n",
    "    ```"
   ]
  },
  {
   "cell_type": "markdown",
   "metadata": {},
   "source": [
    "**АНАЛИЗ:**   \n",
    "Из исследуемых признаков, все признаки, кроме **mean_site_time** - более-менее адекватны. Этот признак, по крайней мере как он выглядит сейчас, пока не внушает доверия. В частности, там иногда встречаются аномально большие значения (как если бы пользователь включил компьютер, зашел на сайт и уехал, например, на работу). Скорее всего, большие значения здесь - следствие того, что сюда вклинилось время **между** сессиями, поэтому в таком виде признак мало информативен. В будущем это можно учесть, если соответствующим образом обработать это обстоятельство.    \n",
    "\n",
    "А пока для более грубой оценки просто посмотрим на этот признак **еще раз** внимательнее, ограничив правый хвост **на 200**:"
   ]
  },
  {
   "cell_type": "code",
   "execution_count": 44,
   "metadata": {
    "scrolled": false
   },
   "outputs": [
    {
     "data": {
      "image/png": "[encoded data removed]",
      "text/plain": [
       "<matplotlib.figure.Figure at 0x26bbaef1860>"
      ]
     },
     "metadata": {},
     "output_type": "display_data"
    },
    {
     "name": "stdout",
     "output_type": "stream",
     "text": [
      "Распределение признака mean_site_time для каждого пользователя\n"
     ]
    },
    {
     "data": {
      "image/png": "[encoded data removed]",
      "text/plain": [
       "<matplotlib.figure.Figure at 0x26bbb0fab38>"
      ]
     },
     "metadata": {},
     "output_type": "display_data"
    }
   ],
   "source": [
    "feature = 'mean_site_time'\n",
    "new_features_10users[feature][new_features_10users[feature] < 200].hist(color='darkviolet', bins=10)\n",
    "plt.title('Усредненный по пользователям признак ' + feature)\n",
    "plt.xlabel(feature)\n",
    "plt.ylabel('Количество сессий')\n",
    "plt.show()\n",
    "\n",
    "print('Распределение признака ' + feature + ' для каждого пользователя')\n",
    "\n",
    "fig, axes = plt.subplots(nrows=3, ncols=4, figsize=(16, 10))\n",
    "\n",
    "# как вариант, можно и по-другому\n",
    "for idx, (user, sub_df) in  enumerate(pd.groupby(new_features_10users, 'user_id')): \n",
    "    col = feature\n",
    "    sub_df[col][sub_df[col] < 200].hist(ax=axes[idx // 4, idx % 4], color=color_dic[user], label=user, bins=20)\n",
    "#                                    bins=(sub_df[col].max() - sub_df[col].min() + 1))\n",
    "    axes[idx // 4, idx % 4].legend()\n",
    "#     axes[idx // 4, idx % 4].set_xlim([1, 10])\n",
    "    axes[idx // 4, idx % 4].set_xlabel(feature)\n",
    "    axes[idx // 4, idx % 4].set_ylabel('Количество сессий')\n",
    "\n",
    "plt.show()"
   ]
  },
  {
   "cell_type": "markdown",
   "metadata": {},
   "source": [
    "**Вывод по \"mean_site_time\"**:   \n",
    "на мой взгляд, этот признак одинаков для разных пользователей и по этой причине не информативен. **Исключим его**."
   ]
  },
  {
   "cell_type": "markdown",
   "metadata": {
    "collapsed": true
   },
   "source": [
    "**ОБЩИЙ ВЫВОД ПО НОВЫМ ПРИЗНАКАМ:**   \n",
    "Признак \"**mean_site_time**\" - не информативен и исключается.   \n",
    "Остальные признаки более или менее характеризуют целевой признак. На этом этапе пока не вижу необходимости на основе визуального анализа что-то еще убирать. Возможно, дальше будет понятнее."
   ]
  },
  {
   "cell_type": "markdown",
   "metadata": {},
   "source": [
    "**В конце сохраним в pickle-файлы только те признаки, которые, как мы пока предполагаем, помогут идентифицировать пользователя более точно. Это касается и признаков, которые мы создали в начале (*session_timespan, #unique_sites, start_hour, day_of_week*), и дополнительных, созданных позже.**"
   ]
  },
  {
   "cell_type": "code",
   "execution_count": 45,
   "metadata": {
    "collapsed": true
   },
   "outputs": [],
   "source": [
    "selected_features_10users_list = list(new_features_10users.columns) # список для отбора фич\n",
    "selected_features_10users_list.remove('mean_site_time') # удаляем фичу 'mean_site_time'\n",
    "\n",
    "selected_features_150users_list = list(new_features_150users.columns) # список для отбора фич\n",
    "selected_features_150users_list.remove('mean_site_time') # удаляем фичу 'mean_site_time'"
   ]
  },
  {
   "cell_type": "code",
   "execution_count": 46,
   "metadata": {
    "collapsed": true
   },
   "outputs": [],
   "source": [
    "# сохраняем отобранные признаки\n",
    "selected_features_10users = new_features_10users[selected_features_10users_list].iloc[:, :-2]\n",
    "selected_features_150users = new_features_150users[selected_features_150users_list].iloc[:, :-1]"
   ]
  },
  {
   "cell_type": "code",
   "execution_count": 47,
   "metadata": {
    "collapsed": true
   },
   "outputs": [],
   "source": [
    "with open(os.path.join(PATH_TO_DATA, \n",
    "                       'selected_features_10users.pkl'), 'wb') as selected_features_10users_pkl:\n",
    "    pickle.dump(selected_features_10users, selected_features_10users_pkl, \n",
    "                protocol=2)\n",
    "with open(os.path.join(PATH_TO_DATA, \n",
    "                       'selected_features_150users.pkl'), 'wb') as selected_features_150users_pkl:\n",
    "    pickle.dump(selected_features_150users, selected_features_150users_pkl, \n",
    "                protocol=2)"
   ]
  },
  {
   "cell_type": "markdown",
   "metadata": {},
   "source": [
    "## Что еще можно сделать\n",
    "Что еще можно добавить по 3 части проекта:\n",
    "- IPython-widgets, интерактив и анимация (стоящие статьи по этому ремеслу – [раз](https://habrahabr.ru/post/308162/) и  [два](https://habrahabr.ru/company/ods/blog/323210/))\n",
    "- можно попробовать изобразить исходные данные в некотором пространстве, например, Word2Vec, потом выделить главные компоненты или t-SNE  (только пользуйтесь эффективными реализациями типа [Multicore-TSNE](https://github.com/DmitryUlyanov/Multicore-TSNE), не Sklearn) и раскрасить по целевому классу. Но нет гарантий, что получится что-то значимо отличающееся от каши\n",
    "\n",
    "Кое что мы попробуем в дальнейшем, и в следующей части мы наконец приступим к обучению моделей классификации. "
   ]
  },
  {
   "cell_type": "markdown",
   "metadata": {},
   "source": [
    "# <center>Часть 4. \n",
    "# <center>Сравнение алгоритмов классификации\n",
    "## <center>Введение\n",
    "\n",
    "Теперь мы наконец подойдем к обучению моделей классификации, сравним на кросс-валидации несколько алгоритмов, разберемся, какие параметры длины сессии (*session_length* и *window_size*) лучше использовать. Также для выбранного алгоритма построим кривые валидации (как качество классификации зависит от одного из гиперпараметров алгоритма) и кривые обучения (как качество классификации зависит от объема выборки).\n",
    "\n",
    "**Темы 4 части:**\n",
    "- Сравнение нескольких алгоритмов на сессиях из 10 сайтов\n",
    "- Выбор параметров – длины сессии и ширины окна\n",
    "- Идентификация  конкретного пользователя и кривые обучения"
   ]
  },
  {
   "cell_type": "markdown",
   "metadata": {},
   "source": [
    "## <center>4.1. Сравнение нескольких алгоритмов на сессиях из 10 сайтов"
   ]
  },
  {
   "cell_type": "markdown",
   "metadata": {},
   "source": [
    "**Загрузим сериализованные ранее объекты *X_sparse_10users* и *y_10users*, соответствующие обучающей выборке для 10 пользователей.**"
   ]
  },
  {
   "cell_type": "code",
   "execution_count": 3,
   "metadata": {
    "collapsed": true
   },
   "outputs": [],
   "source": [
    "with open(os.path.join(PATH_TO_DATA, \n",
    "         'X_sparse_10users.pkl'), 'rb') as X_sparse_10users_pkl:\n",
    "    X_sparse_10users = pickle.load(X_sparse_10users_pkl)\n",
    "with open(os.path.join(PATH_TO_DATA, \n",
    "                       'y_10users.pkl'), 'rb') as y_10users_pkl:\n",
    "    y_10users = pickle.load(y_10users_pkl)"
   ]
  },
  {
   "cell_type": "markdown",
   "metadata": {},
   "source": [
    "**Здесь более 14 тысяч сессий и почти 5 тысяч уникальных посещенных сайтов:**"
   ]
  },
  {
   "cell_type": "code",
   "execution_count": 4,
   "metadata": {},
   "outputs": [
    {
     "data": {
      "text/plain": [
       "(14061, 4913)"
      ]
     },
     "execution_count": 4,
     "metadata": {},
     "output_type": "execute_result"
    }
   ],
   "source": [
    "X_sparse_10users.shape"
   ]
  },
  {
   "cell_type": "markdown",
   "metadata": {},
   "source": [
    "**Разобьем выборку на 2 части. На одной будем проводить кросс-валидацию, на второй – оценивать модель, обученную после кросс-валидации.**"
   ]
  },
  {
   "cell_type": "code",
   "execution_count": 5,
   "metadata": {
    "collapsed": true
   },
   "outputs": [],
   "source": [
    "X_train, X_valid, y_train, y_valid = train_test_split(X_sparse_10users, y_10users, \n",
    "                                                      test_size=0.3, \n",
    "                                                     random_state=17, stratify=y_10users)"
   ]
  },
  {
   "cell_type": "markdown",
   "metadata": {},
   "source": [
    "**Зададим заранее тип кросс-валидации: 3-кратная, с перемешиванием, параметр random_state=17 – для воспроизводимости.**"
   ]
  },
  {
   "cell_type": "code",
   "execution_count": 6,
   "metadata": {
    "collapsed": true
   },
   "outputs": [],
   "source": [
    "skf = StratifiedKFold(n_splits=3, shuffle=True, random_state=17)"
   ]
  },
  {
   "cell_type": "markdown",
   "metadata": {},
   "source": [
    "**Вспомогательная функция для отрисовки кривых валидации после запуска GridSearchCV (можно также RandomizedCV).**"
   ]
  },
  {
   "cell_type": "code",
   "execution_count": 7,
   "metadata": {
    "collapsed": true
   },
   "outputs": [],
   "source": [
    "def plot_validation_curves(param_values, grid_cv_results_):\n",
    "    train_mu, train_std = grid_cv_results_['mean_train_score'], grid_cv_results_['std_train_score']\n",
    "    valid_mu, valid_std = grid_cv_results_['mean_test_score'], grid_cv_results_['std_test_score']\n",
    "    train_line = plt.plot(param_values, train_mu, '-', label='train', color='green')\n",
    "    valid_line = plt.plot(param_values, valid_mu, '-', label='test', color='red')\n",
    "    plt.fill_between(param_values, train_mu - train_std, train_mu + train_std, edgecolor='none',\n",
    "                     facecolor=train_line[0].get_color(), alpha=0.2)\n",
    "    plt.fill_between(param_values, valid_mu - valid_std, valid_mu + valid_std, edgecolor='none',\n",
    "                     facecolor=valid_line[0].get_color(), alpha=0.2)\n",
    "    plt.legend()"
   ]
  },
  {
   "cell_type": "markdown",
   "metadata": {},
   "source": [
    "**1. Обучим `KNeighborsClassifier` со 100 ближайшими соседями (остальные параметры оставим по умолчанию, только `n_jobs`=-1 для распараллеливания) и посмотрим на долю правильных ответов на 3-кратной кросс-валидации (ради воспроизводимости используем для этого объект `StratifiedKFold` `skf`) по выборке `(X_train, y_train)` и отдельно на выборке `(X_valid, y_valid)`.**"
   ]
  },
  {
   "cell_type": "code",
   "execution_count": 8,
   "metadata": {
    "collapsed": true
   },
   "outputs": [],
   "source": [
    "from sklearn.neighbors import KNeighborsClassifier"
   ]
  },
  {
   "cell_type": "code",
   "execution_count": 11,
   "metadata": {},
   "outputs": [
    {
     "name": "stdout",
     "output_type": "stream",
     "text": [
      "0.564718887006\n",
      "Wall time: 20.1 s\n"
     ]
    }
   ],
   "source": [
    "%%time\n",
    "knn = KNeighborsClassifier(n_neighbors=100, n_jobs=-1)\n",
    "accuracy_cv_train = cross_val_score(knn, X_train, y_train, scoring='accuracy', cv=skf, n_jobs=-1).mean()\n",
    "print(accuracy_cv_train)"
   ]
  },
  {
   "cell_type": "code",
   "execution_count": 12,
   "metadata": {},
   "outputs": [
    {
     "name": "stdout",
     "output_type": "stream",
     "text": [
      "0.584024650391\n",
      "Wall time: 18.1 s\n"
     ]
    }
   ],
   "source": [
    "%%time\n",
    "knn = KNeighborsClassifier(n_neighbors=100, n_jobs=-1)\n",
    "knn.fit(X_train, y_train)\n",
    "accuracy_valid = accuracy_score(y_valid, knn.predict(X_valid))\n",
    "print(accuracy_valid)"
   ]
  },
  {
   "cell_type": "markdown",
   "metadata": {},
   "source": [
    "**2. Обучим случайный лес (`RandomForestClassifier`) из 100 деревьев (для воспроизводимости `random_state`=17). Посмотрим на OOB-оценку (для этого установим `oob_score`=True) и на долю правильных ответов на выборке `(X_valid, y_valid)`. Для распараллеливания зададим `n_jobs`=-1.**"
   ]
  },
  {
   "cell_type": "code",
   "execution_count": 18,
   "metadata": {
    "collapsed": true
   },
   "outputs": [],
   "source": [
    "from sklearn.ensemble import RandomForestClassifier"
   ]
  },
  {
   "cell_type": "code",
   "execution_count": 19,
   "metadata": {},
   "outputs": [
    {
     "name": "stdout",
     "output_type": "stream",
     "text": [
      "Wall time: 9.74 s\n"
     ]
    }
   ],
   "source": [
    "%%time\n",
    "forest = RandomForestClassifier(n_estimators=100, oob_score=True, random_state=17, n_jobs=-1)\n",
    "forest.fit(X_train, y_train)"
   ]
  },
  {
   "cell_type": "code",
   "execution_count": 20,
   "metadata": {},
   "outputs": [
    {
     "data": {
      "text/plain": [
       "0.72251574883153835"
      ]
     },
     "execution_count": 20,
     "metadata": {},
     "output_type": "execute_result"
    }
   ],
   "source": [
    "forest.oob_score_"
   ]
  },
  {
   "cell_type": "code",
   "execution_count": 21,
   "metadata": {},
   "outputs": [
    {
     "name": "stdout",
     "output_type": "stream",
     "text": [
      "0.735008295805\n"
     ]
    }
   ],
   "source": [
    "accuracy_valid = accuracy_score(y_valid, forest.predict(X_valid))\n",
    "print(accuracy_valid)"
   ]
  },
  {
   "cell_type": "markdown",
   "metadata": {},
   "source": [
    "**3. Обучим логистическую регрессию (`LogisticRegression`) с параметром `C` по умолчанию и `random_state`=17 (для воспроизводимости). Посмотрим на долю правильных ответов на кросс-валидации (воспользуемся объектом `skf`, созданным ранее) и на выборке `(X_valid, y_valid)`. Для распараллеливания зададим `n_jobs=-1`.**"
   ]
  },
  {
   "cell_type": "code",
   "execution_count": 24,
   "metadata": {
    "collapsed": true
   },
   "outputs": [],
   "source": [
    "from sklearn.linear_model import LogisticRegression, LogisticRegressionCV"
   ]
  },
  {
   "cell_type": "code",
   "execution_count": 25,
   "metadata": {},
   "outputs": [
    {
     "name": "stdout",
     "output_type": "stream",
     "text": [
      "0.761026754367\n",
      "Wall time: 24.4 s\n"
     ]
    }
   ],
   "source": [
    "%%time\n",
    "logit = LogisticRegression(random_state=17)\n",
    "accuracy_cv_train = cross_val_score(logit, X_train, y_train, scoring='accuracy', cv=skf, n_jobs=-1).mean()\n",
    "print(accuracy_cv_train)"
   ]
  },
  {
   "cell_type": "code",
   "execution_count": 26,
   "metadata": {},
   "outputs": [
    {
     "name": "stdout",
     "output_type": "stream",
     "text": [
      "0.781701825077\n",
      "Wall time: 1.25 s\n"
     ]
    }
   ],
   "source": [
    "%%time\n",
    "logit = LogisticRegression(random_state=17, n_jobs=-1)\n",
    "logit.fit(X_train, y_train)\n",
    "accuracy_valid = accuracy_score(y_valid, logit.predict(X_valid))\n",
    "print(accuracy_valid)"
   ]
  },
  {
   "cell_type": "markdown",
   "metadata": {},
   "source": [
    "**С помощью `LogisticRegressionCV` подберем параметр `C` для `LogisticRegression` сначала в широком диапазоне: 10 значений от 1e-4 до 1e2, воспользуемся `logspace` из `NumPy`. Укажем у `LogisticRegressionCV` параметры `multi_class`='multinomial' и `random_state`=17. Для кросс-валидации воспользуемся объектом `skf`, созданным ранее. Для распараллеливания зададим `n_jobs=-1`.**\n",
    "\n",
    "**Нарисуем кривые валидации по параметру `C`.**"
   ]
  },
  {
   "cell_type": "code",
   "execution_count": 27,
   "metadata": {},
   "outputs": [
    {
     "name": "stdout",
     "output_type": "stream",
     "text": [
      "Wall time: 46.2 s\n"
     ]
    }
   ],
   "source": [
    "%%time\n",
    "logit_c_values1 = np.logspace(-4, 2, 10)\n",
    "\n",
    "logit_grid_searcher1 = LogisticRegressionCV(Cs=logit_c_values1, cv=skf, multi_class='multinomial', n_jobs=-1, random_state=17)\n",
    "logit_grid_searcher1.fit(X_train, y_train)"
   ]
  },
  {
   "cell_type": "markdown",
   "metadata": {},
   "source": [
    "Средние значения доли правильных ответов на кросс-валидации по каждому из 10 параметров `C`."
   ]
  },
  {
   "cell_type": "code",
   "execution_count": 28,
   "metadata": {},
   "outputs": [
    {
     "data": {
      "text/plain": [
       "array([ 0.31822225,  0.47337913,  0.55273512,  0.65119285,  0.71297117,\n",
       "        0.75137565,  0.75940213,  0.75666107,  0.75015821,  0.73928787])"
      ]
     },
     "execution_count": 28,
     "metadata": {},
     "output_type": "execute_result"
    }
   ],
   "source": [
    "logit_mean_cv_scores1 = list(logit_grid_searcher1.scores_.values())[0].mean(axis=0)\n",
    "logit_mean_cv_scores1"
   ]
  },
  {
   "cell_type": "markdown",
   "metadata": {},
   "source": [
    "Выведем лучшее значение доли правильных ответов на кросс-валидации и соответствующее значение `C`."
   ]
  },
  {
   "cell_type": "code",
   "execution_count": 29,
   "metadata": {},
   "outputs": [
    {
     "name": "stdout",
     "output_type": "stream",
     "text": [
      "best_score1 = 0.759402129583\n",
      "best_Cs1 = 1.0\n"
     ]
    }
   ],
   "source": [
    "best_logit_mean_cv_scores1 = max(logit_mean_cv_scores1)\n",
    "best_Cs1 = logit_grid_searcher1.Cs_[np.argmax(logit_mean_cv_scores1)]\n",
    "\n",
    "print('best_score1 =', best_logit_mean_cv_scores1)\n",
    "print('best_Cs1 =', best_Cs1)"
   ]
  },
  {
   "cell_type": "markdown",
   "metadata": {},
   "source": [
    "Нарисуем график зависимости доли правильных ответов на кросс-валидации от `C`."
   ]
  },
  {
   "cell_type": "code",
   "execution_count": 119,
   "metadata": {},
   "outputs": [
    {
     "data": {
      "image/png": "[encoded data removed]",
      "text/plain": [
       "<matplotlib.figure.Figure at 0x22d8c8f90b8>"
      ]
     },
     "metadata": {},
     "output_type": "display_data"
    }
   ],
   "source": [
    "plt.plot(logit_c_values1, logit_mean_cv_scores1);"
   ]
  },
  {
   "cell_type": "markdown",
   "metadata": {},
   "source": [
    "**Теперь то же самое, только значения параметра `C` перебирайте в диапазоне `np.linspace`(3, 7, 20). Опять нарисуем кривые валидации и определим максимальное значение доли правильных ответов на кросс-валидации.**"
   ]
  },
  {
   "cell_type": "code",
   "execution_count": 129,
   "metadata": {},
   "outputs": [
    {
     "name": "stdout",
     "output_type": "stream",
     "text": [
      "Wall time: 1min 9s\n"
     ]
    }
   ],
   "source": [
    "%%time\n",
    "logit_c_values2 = np.linspace(3, 7, 20)\n",
    "\n",
    "logit_grid_searcher2 = LogisticRegressionCV(Cs=logit_c_values2, cv=skf, multi_class='multinomial', n_jobs=-1, random_state=17)\n",
    "logit_grid_searcher2.fit(X_train, y_train)"
   ]
  },
  {
   "cell_type": "markdown",
   "metadata": {},
   "source": [
    "Средние значения доли правильных ответов на кросс-валидации по каждому из 10 параметров `C`."
   ]
  },
  {
   "cell_type": "code",
   "execution_count": 130,
   "metadata": {},
   "outputs": [
    {
     "data": {
      "text/plain": [
       "array([ 0.75960708,  0.75706708,  0.75727142,  0.75727111,  0.75666147,\n",
       "        0.7565601 ,  0.75615369,  0.7560524 ,  0.75554439,  0.75595111,\n",
       "        0.75554548,  0.75493634,  0.75483484,  0.75473377,  0.75453067,\n",
       "        0.75453086,  0.75463236,  0.75463236,  0.75402294,  0.75371788])"
      ]
     },
     "execution_count": 130,
     "metadata": {},
     "output_type": "execute_result"
    }
   ],
   "source": [
    "logit_mean_cv_scores2 = list(logit_grid_searcher2.scores_.values())[0].mean(axis=0)\n",
    "logit_mean_cv_scores2"
   ]
  },
  {
   "cell_type": "markdown",
   "metadata": {},
   "source": [
    "Выведем лучшее значение доли правильных ответов на кросс-валидации и соответствующее значение `C`."
   ]
  },
  {
   "cell_type": "code",
   "execution_count": 135,
   "metadata": {},
   "outputs": [
    {
     "name": "stdout",
     "output_type": "stream",
     "text": [
      "best_score2 = 0.759607084457\n",
      "best_Cs2 = 3.0\n"
     ]
    }
   ],
   "source": [
    "best_logit_mean_cv_scores2 = max(logit_mean_cv_scores2)\n",
    "best_Cs2 = logit_grid_searcher2.Cs_[np.argmax(logit_mean_cv_scores2)]\n",
    "\n",
    "print('best_score2 =', best_logit_mean_cv_scores2)\n",
    "print('best_Cs2 =', best_Cs2)"
   ]
  },
  {
   "cell_type": "markdown",
   "metadata": {},
   "source": [
    "Нарисуем график зависимости доли правильных ответов на кросс-валидации от `C`."
   ]
  },
  {
   "cell_type": "code",
   "execution_count": 132,
   "metadata": {},
   "outputs": [
    {
     "data": {
      "image/png": "[encoded data removed]",
      "text/plain": [
       "<matplotlib.figure.Figure at 0x22df5d675f8>"
      ]
     },
     "metadata": {},
     "output_type": "display_data"
    }
   ],
   "source": [
    "plt.plot(logit_c_values2, logit_mean_cv_scores2);"
   ]
  },
  {
   "cell_type": "markdown",
   "metadata": {},
   "source": [
    "Выведем долю правильных ответов на выборке `(X_valid, y_valid)` для логистической регрессии с лучшим найденным значением `C`."
   ]
  },
  {
   "cell_type": "code",
   "execution_count": 136,
   "metadata": {},
   "outputs": [
    {
     "name": "stdout",
     "output_type": "stream",
     "text": [
      "0.784309077981\n"
     ]
    }
   ],
   "source": [
    "logit = LogisticRegression(C=best_Cs2, random_state=17, n_jobs=-1)\n",
    "logit.fit(X_train, y_train)\n",
    "logit_cv_acc = accuracy_score(y_valid, logit.predict(X_valid))\n",
    "print(logit_cv_acc)"
   ]
  },
  {
   "cell_type": "code",
   "execution_count": 137,
   "metadata": {},
   "outputs": [
    {
     "name": "stdout",
     "output_type": "stream",
     "text": [
      "0.761027744765\n"
     ]
    }
   ],
   "source": [
    "logit = LogisticRegression(C=best_Cs2, random_state=17, n_jobs=-1)\n",
    "accuracy_cv_train = cross_val_score(logit, X_train, y_train, scoring='accuracy', cv=skf, n_jobs=-1).mean()\n",
    "print(accuracy_cv_train)"
   ]
  },
  {
   "cell_type": "markdown",
   "metadata": {},
   "source": [
    "**4. Обучим линейный SVM (`LinearSVC`) с параметром `C`=1 и `random_state`=17 (для воспроизводимости). Посмотрим на долю правильных ответов на кросс-валидации (воспользуемся объектом `skf`, созданным ранее) и на выборке `(X_valid, y_valid)`.**"
   ]
  },
  {
   "cell_type": "code",
   "execution_count": 144,
   "metadata": {
    "collapsed": true
   },
   "outputs": [],
   "source": [
    "from sklearn.svm import LinearSVC"
   ]
  },
  {
   "cell_type": "code",
   "execution_count": 146,
   "metadata": {},
   "outputs": [
    {
     "name": "stdout",
     "output_type": "stream",
     "text": [
      "0.752797672301\n",
      "Wall time: 8.11 s\n"
     ]
    }
   ],
   "source": [
    "%%time\n",
    "svm = LinearSVC(C=1, random_state=17)\n",
    "accuracy_cv_train = cross_val_score(svm, X_train, y_train, scoring='accuracy', cv = skf).mean()\n",
    "print(accuracy_cv_train)"
   ]
  },
  {
   "cell_type": "markdown",
   "metadata": {},
   "source": [
    "**С помощью `GridSearchCV` подберем параметр `C` для SVM сначала в широком диапазоне: 10 значений от 1e-4 до 1e4, используем `linspace` из NumPy. Нарисуем кривые валидации.**"
   ]
  },
  {
   "cell_type": "code",
   "execution_count": 147,
   "metadata": {},
   "outputs": [
    {
     "name": "stdout",
     "output_type": "stream",
     "text": [
      "Wall time: 1min 9s\n"
     ]
    }
   ],
   "source": [
    "%%time\n",
    "svm_params1 = {'C': np.linspace(1e-4, 1e4, 10)}\n",
    "\n",
    "svm_grid_searcher1 = GridSearchCV(svm, param_grid=svm_params1, scoring='accuracy', n_jobs=-1, cv=skf)\n",
    "svm_grid_searcher1.fit(X_train, y_train)"
   ]
  },
  {
   "cell_type": "markdown",
   "metadata": {},
   "source": [
    "Выведем лучшее значение доли правильных ответов на кросс-валидации и соответствующее значение `C`."
   ]
  },
  {
   "cell_type": "code",
   "execution_count": 154,
   "metadata": {},
   "outputs": [
    {
     "name": "stdout",
     "output_type": "stream",
     "text": [
      "best_accuracy1 = 0.68451534241\n",
      "best_C1 = {'C': 3333.3334000000004}\n"
     ]
    }
   ],
   "source": [
    "best_accuracy1 = svm_grid_searcher1.best_score_\n",
    "best_C1 = svm_grid_searcher1.best_params_\n",
    "\n",
    "print('best_accuracy1 =', best_accuracy1)\n",
    "print('best_C1 =', best_C1)"
   ]
  },
  {
   "cell_type": "markdown",
   "metadata": {},
   "source": [
    "Нарисуем график зависимости доли правильных ответов на кросс-валидации от `C`."
   ]
  },
  {
   "cell_type": "code",
   "execution_count": 150,
   "metadata": {},
   "outputs": [
    {
     "data": {
      "image/png": "[encoded data removed]",
      "text/plain": [
       "<matplotlib.figure.Figure at 0x22d8c3643c8>"
      ]
     },
     "metadata": {},
     "output_type": "display_data"
    }
   ],
   "source": [
    "plot_validation_curves(svm_params1['C'], svm_grid_searcher1.cv_results_)"
   ]
  },
  {
   "cell_type": "markdown",
   "metadata": {},
   "source": [
    "**Однако вспомним, что с параметром регуляризации по умолчанию (С=1) на кросс-валидации доля правильных ответов была выше. Это тот случай (не редкий), когда можно ошибиться и перебирать параметры не в том диапазоне (причина в том, что мы взяли равномерную сетку на большом интервале и упустили действительно хороший интервал значений `C`). Здесь намного осмысленней подбирать `C` в районе 1, к тому же так модель быстрее обучается, чем при больших `C`. **\n",
    "\n",
    "**С помощью `GridSearchCV` подберем параметр `C` для SVM в диапазоне (1e-3, 1), 30 значений, воспользуемся `linspace` из NumPy. Нарисуем кривые валидации.**"
   ]
  },
  {
   "cell_type": "code",
   "execution_count": 151,
   "metadata": {},
   "outputs": [
    {
     "name": "stdout",
     "output_type": "stream",
     "text": [
      "Wall time: 1min 23s\n"
     ]
    }
   ],
   "source": [
    "%%time\n",
    "svm_params2 = {'C': np.linspace(1e-3, 1, 30)}\n",
    "\n",
    "svm_grid_searcher2 = GridSearchCV(svm, param_grid=svm_params2, scoring='accuracy', n_jobs=-1, cv=skf)\n",
    "svm_grid_searcher2.fit(X_train, y_train)"
   ]
  },
  {
   "cell_type": "markdown",
   "metadata": {},
   "source": [
    "Выведем лучшее значение доли правильных ответов на кросс-валидации и соответствующее значение `C`."
   ]
  },
  {
   "cell_type": "code",
   "execution_count": 155,
   "metadata": {},
   "outputs": [
    {
     "name": "stdout",
     "output_type": "stream",
     "text": [
      "best_accuracy2 = 0.764681975208\n",
      "best_C2 = {'C': 0.10434482758620689}\n"
     ]
    }
   ],
   "source": [
    "best_accuracy2 = svm_grid_searcher2.best_score_\n",
    "best_C2 = svm_grid_searcher2.best_params_\n",
    "\n",
    "print('best_accuracy2 =', best_accuracy2)\n",
    "print('best_C2 =', best_C2)"
   ]
  },
  {
   "cell_type": "markdown",
   "metadata": {},
   "source": [
    "Нарисуем график зависимости доли правильных ответов на кросс-валидации от С."
   ]
  },
  {
   "cell_type": "code",
   "execution_count": 153,
   "metadata": {},
   "outputs": [
    {
     "data": {
      "image/png": "[encoded data removed]",
      "text/plain": [
       "<matplotlib.figure.Figure at 0x22d8c933ac8>"
      ]
     },
     "metadata": {},
     "output_type": "display_data"
    }
   ],
   "source": [
    "plot_validation_curves(svm_params2['C'], svm_grid_searcher2.cv_results_)"
   ]
  },
  {
   "cell_type": "markdown",
   "metadata": {},
   "source": [
    "Выведем долю правильных ответов на выборке `(X_valid, y_valid)` для `LinearSVC` с лучшим найденным значением `C`."
   ]
  },
  {
   "cell_type": "code",
   "execution_count": 167,
   "metadata": {},
   "outputs": [
    {
     "data": {
      "text/plain": [
       "0.78075373311211183"
      ]
     },
     "execution_count": 167,
     "metadata": {},
     "output_type": "execute_result"
    }
   ],
   "source": [
    "svm_cv_acc = accuracy_score(y_valid, svm_grid_searcher2.best_estimator_.predict(X_valid))\n",
    "svm_cv_acc"
   ]
  },
  {
   "cell_type": "markdown",
   "metadata": {},
   "source": [
    "## <center> 4.2. Выбор параметров – длины сессии и ширины окна"
   ]
  },
  {
   "cell_type": "markdown",
   "metadata": {},
   "source": [
    "**Возьмем `LinearSVC`, показавший лучшее качество на кросс-валидации (см. выше), и проверим его работу еще на 8 выборках для 10 пользователей (с разными сочетаниями параметров *session_length* и *window_size*). Поскольку тут уже вычислений побольше, мы не будем каждый раз заново подбирать параметр регуляризации `C`.**\n",
    "\n",
    "**Определим функцию `model_assessment`, ее документация описана ниже. Обратим внимание на все детали. Например, на то, что разбиение  выборки с `train_test_split` должно быть стратифицированным. Укажем, где надо, `random_state`.**"
   ]
  },
  {
   "cell_type": "code",
   "execution_count": 215,
   "metadata": {
    "collapsed": true
   },
   "outputs": [],
   "source": [
    "def model_assessment(estimator, path_to_X_pickle, path_to_y_pickle, cv, random_state=17, test_size=0.3):\n",
    "    '''\n",
    "    Estimates CV-accuracy for (1 - test_size) share of (X_sparse, y) \n",
    "    loaded from path_to_X_pickle and path_to_y_pickle and holdout accuracy for (test_size) share of (X_sparse, y).\n",
    "    The split is made with stratified train_test_split with params random_state and test_size.\n",
    "    \n",
    "    :param estimator – Scikit-learn estimator (classifier or regressor)\n",
    "    :param path_to_X_pickle – path to pickled sparse X (instances and their features)\n",
    "    :param path_to_y_pickle – path to pickled y (responses)\n",
    "    :param cv – cross-validation as in cross_val_score (use StratifiedKFold here)\n",
    "    :param random_state –  for train_test_split\n",
    "    :param test_size –  for train_test_split\n",
    "    \n",
    "    :returns mean CV-accuracy for (X_train, y_train) and accuracy for (X_valid, y_valid) where (X_train, y_train)\n",
    "    and (X_valid, y_valid) are (1 - test_size) and (testsize) shares of (X_sparse, y).\n",
    "    '''\n",
    "    start_time = time()\n",
    "    \n",
    "    # Загрузим сериализованные ранее объекты X_sparse и y\n",
    "    with open(path_to_X_pickle, 'rb') as X_sparse_pkl:\n",
    "        X_sparse = pickle.load(X_sparse_pkl)\n",
    "    with open(path_to_y_pickle, 'rb') as y_pkl:\n",
    "        y = pickle.load(y_pkl)\n",
    "    \n",
    "    # Разобьем выборку на 2 части. Учтем, что разбиение выборки с train_test_split должно быть стратифицированным\n",
    "    X_train, X_valid, y_train, y_valid = train_test_split(X_sparse, y, \n",
    "                                                          test_size=test_size, \n",
    "                                                          random_state=random_state, stratify=y)\n",
    "    \n",
    "    accuracy = accuracy_score(estimator.fit(X_train, y_train).predict(X_valid), y_valid)\n",
    "    mean_CV_accuracy = cross_val_score(estimator, X_train, y_train, cv=cv, scoring='accuracy').mean()\n",
    "    \n",
    "    return mean_CV_accuracy, accuracy, str(int(time() - start_time) // 60) + ' m  ' + \\\n",
    "                                       str(round((time() - start_time) % 60, 1)) + ' s' "
   ]
  },
  {
   "cell_type": "markdown",
   "metadata": {},
   "source": [
    "**Применим функцию *model_assessment* для лучшего алгоритма из предыдущей части (а именно, `svm_grid_searcher2.best_estimator_`) и 9 выборок вида с разными сочетаниями параметров *session_length* и *window_size* для 10 пользователей. Выведем в цикле параметры *session_length* и *window_size*, а также результат вывода функции *model_assessment*. \n",
    "Удобно сделать так, чтобы *model_assessment* возвращала 3-им элементом время, за которое она выполнилась.**"
   ]
  },
  {
   "cell_type": "markdown",
   "metadata": {},
   "source": [
    "Здесь для удобства стоит создать копии ранее созданных pickle-файлов X_sparse_10users.pkl, X_sparse_150users.pkl, y_10users.pkl и y_150users.pkl, добавив к их названиям s10_w10, что означает длину сессии 10 и ширину окна 10. "
   ]
  },
  {
   "cell_type": "code",
   "execution_count": 178,
   "metadata": {
    "collapsed": true
   },
   "outputs": [],
   "source": [
    "!cp $PATH_TO_DATA/X_sparse_10users.pkl $PATH_TO_DATA/X_sparse_10users_s10_w10.pkl \n",
    "!cp $PATH_TO_DATA/X_sparse_150users.pkl $PATH_TO_DATA/X_sparse_150users_s10_w10.pkl \n",
    "!cp $PATH_TO_DATA/y_10users.pkl $PATH_TO_DATA/y_10users_s10_w10.pkl \n",
    "!cp $PATH_TO_DATA/y_150users.pkl $PATH_TO_DATA/y_150users_s10_w10.pkl "
   ]
  },
  {
   "cell_type": "code",
   "execution_count": 205,
   "metadata": {},
   "outputs": [
    {
     "name": "stdout",
     "output_type": "stream",
     "text": [
      "Для 10 пользователей:\n",
      "\n",
      "session_length = 15       window_size = 10    (0.82382149552781048, 0.84048352690210948, '6.7 s')\n",
      "session_length = 10       window_size = 10    (0.76468532445509807, 0.78075373311211183, '3.8 s')\n",
      "session_length = 15       window_size = 7    (0.84794037698440983, 0.85432221669155473, '9.2 s')\n",
      "session_length = 10       window_size = 7    (0.79701614637346518, 0.80736684917869583, '5.1 s')\n",
      "session_length = 7       window_size = 7    (0.75298911148303416, 0.76173884187821472, '3.2 s')\n",
      "session_length = 15       window_size = 5    (0.86800137255434695, 0.87529634898055952, '12.5 s')\n",
      "session_length = 10       window_size = 5    (0.81592472053180387, 0.82456140350877194, '7.1 s')\n",
      "session_length = 7       window_size = 5    (0.77405867456322597, 0.78532479848269321, '4.4 s')\n",
      "session_length = 5       window_size = 5    (0.72528306503988282, 0.73624940730203892, '2.9 s')\n",
      "Wall time: 54.9 s\n"
     ]
    }
   ],
   "source": [
    "%%time\n",
    "estimator = svm_grid_searcher2.best_estimator_\n",
    "\n",
    "print('Для 10 пользователей:\\n')\n",
    "for window_size, session_length in itertools.product([10, 7, 5], [15, 10, 7, 5]):\n",
    "    if window_size <= session_length:\n",
    "        path_to_X_pkl = os.path.join(PATH_TO_DATA, 'X_sparse_10users_s{}_w{}.pkl'.format(session_length, window_size))\n",
    "        path_to_y_pkl = os.path.join(PATH_TO_DATA, 'y_10users_s{}_w{}.pkl'.format(session_length, window_size))\n",
    "        print('session_length =', session_length, ' '*5, 'window_size =', window_size, '  ',\n",
    "              model_assessment(estimator, path_to_X_pkl, path_to_y_pkl, skf))"
   ]
  },
  {
   "cell_type": "markdown",
   "metadata": {},
   "source": [
    "**Запишем доли правильных ответов для `LinearSVC` с настроенным параметром `C` и выборки `X_sparse_10users_s15_w5`. Укажем доли правильных ответов на кросс-валидации и на отложенной выборке, округлив каждое до 3 знаков после запятой.**"
   ]
  },
  {
   "cell_type": "code",
   "execution_count": 203,
   "metadata": {},
   "outputs": [
    {
     "name": "stdout",
     "output_type": "stream",
     "text": [
      "12.3 s\n",
      "0.868 0.875\n"
     ]
    }
   ],
   "source": [
    "session_length, window_size = 15, 5\n",
    "\n",
    "path_to_X_pkl = os.path.join(PATH_TO_DATA, 'X_sparse_10users_s{}_w{}.pkl'.format(session_length, window_size))\n",
    "path_to_y_pkl = os.path.join(PATH_TO_DATA, 'y_10users_s{}_w{}.pkl'.format(session_length, window_size))\n",
    "\n",
    "acc_cv, acc_val, time_ = model_assessment(estimator, path_to_X_pkl, path_to_y_pkl, skf)\n",
    "\n",
    "print(time_)\n",
    "print('{:.3f} {:.3f}'.format(acc_cv, acc_val, 3))"
   ]
  },
  {
   "cell_type": "code",
   "execution_count": 218,
   "metadata": {},
   "outputs": [
    {
     "name": "stdout",
     "output_type": "stream",
     "text": [
      "Для 150 пользователей:\n",
      "\n",
      "session_length = 5       window_size = 5    (0.40858659509908596, 0.42171606560568453, '9 m  21.6 s')\n",
      "session_length = 7       window_size = 7    (0.43638649409423974, 0.45295840855673264, '8 m  11.7 s')\n",
      "session_length = 10       window_size = 10    (0.46125889994279129, 0.48362769425388019, '8 m  5.6 s')\n",
      "Wall time: 25min 38s\n"
     ]
    }
   ],
   "source": [
    "%%time\n",
    "estimator = svm_grid_searcher2.best_estimator_\n",
    "\n",
    "print('Для 150 пользователей:\\n')\n",
    "for window_size, session_length in [(5,5), (7,7), (10,10)]:\n",
    "    path_to_X_pkl = os.path.join(PATH_TO_DATA, 'X_sparse_150users_s{}_w{}.pkl'.format(session_length, window_size))\n",
    "    path_to_y_pkl = os.path.join(PATH_TO_DATA, 'y_150users_s{}_w{}.pkl'.format(session_length, window_size))\n",
    "    print('session_length =', session_length, ' '*5, 'window_size =', window_size, '  ',\n",
    "          model_assessment(estimator, path_to_X_pkl, path_to_y_pkl, skf))"
   ]
  },
  {
   "cell_type": "markdown",
   "metadata": {},
   "source": [
    "**ВЫВОД:**    \n",
    "С **ростом** ширины окна качество классификации **растет**. При этом вычислительная сложность (время рассчета) значимо **не увеличивается**.     \n",
    "**Максимальный** результат получился при **(session_length = 15,** **window_size = 5)**, он на **10%** **превышает** результат на сочетании **(10, 10)**, который, в свою очередь, среди проверенных сочетаний параметров (session_length, window_size) является **средним**."
   ]
  },
  {
   "cell_type": "markdown",
   "metadata": {},
   "source": [
    "## <center> 4.3. Идентификация  конкретного пользователя и кривые обучения"
   ]
  },
  {
   "cell_type": "markdown",
   "metadata": {},
   "source": [
    "**Поскольку может разочаровать, что многоклассовая доля правильных ответов на выборке из 150 пользовалей невелика, порадуемся тому, что конкретного пользователя можно идентифицировать достаточно хорошо. **"
   ]
  },
  {
   "cell_type": "markdown",
   "metadata": {},
   "source": [
    "**Загрузим сериализованные ранее объекты *X_sparse_150users* и *y_150users*, соответствующие обучающей выборке для 150 пользователей с параметрами (*session_length, window_size*) = (10,10). Так же точно разобьем их на 70% и 30%.**"
   ]
  },
  {
   "cell_type": "code",
   "execution_count": 220,
   "metadata": {
    "collapsed": true
   },
   "outputs": [],
   "source": [
    "with open(os.path.join(PATH_TO_DATA, 'X_sparse_150users.pkl'), 'rb') as X_sparse_150users_pkl:\n",
    "     X_sparse_150users = pickle.load(X_sparse_150users_pkl)\n",
    "with open(os.path.join(PATH_TO_DATA, 'y_150users.pkl'), 'rb') as y_150users_pkl:\n",
    "    y_150users = pickle.load(y_150users_pkl)"
   ]
  },
  {
   "cell_type": "code",
   "execution_count": 221,
   "metadata": {
    "collapsed": true
   },
   "outputs": [],
   "source": [
    "X_train_150, X_valid_150, y_train_150, y_valid_150 = train_test_split(X_sparse_150users, \n",
    "                                                                      y_150users, test_size=0.3, \n",
    "                                                     random_state=17, stratify=y_150users)"
   ]
  },
  {
   "cell_type": "markdown",
   "metadata": {},
   "source": [
    "**Обучим `LogisticRegressionCV` для одного значения параметра `C` (лучшего на кросс-валидации в 1 части). Теперь будем решать 150 задач \"Один-против-Всех\", поэтому укажем аргумент `multi_class`='ovr'. Как всегда, где возможно, указываем `n_jobs=-1` и `random_state`=17.**"
   ]
  },
  {
   "cell_type": "code",
   "execution_count": 235,
   "metadata": {},
   "outputs": [
    {
     "name": "stdout",
     "output_type": "stream",
     "text": [
      "Wall time: 13min 15s\n"
     ]
    }
   ],
   "source": [
    "%%time\n",
    "logit_cv_150users = LogisticRegressionCV(Cs=[best_Cs2], multi_class='ovr', cv=skf, \n",
    "                                         scoring='accuracy', n_jobs=-1, random_state=17)\n",
    "logit_cv_150users.fit(X_train_150, y_train_150)"
   ]
  },
  {
   "cell_type": "markdown",
   "metadata": {},
   "source": [
    "**Посмотрим на средние доли правильных ответов на кросс-валидации в задаче идентификации каждого пользователя по отдельности.**"
   ]
  },
  {
   "cell_type": "code",
   "execution_count": null,
   "metadata": {
    "collapsed": true
   },
   "outputs": [],
   "source": [
    "cv_scores_by_user = {}\n",
    "for user_id in logit_cv_150users.scores_:\n",
    "    print('User {}, CV score: {}'.format(user_id, logit_cv_150users.scores_[user_id].mean()))\n",
    "    cv_scores_by_user[user_id] = logit_cv_150users.scores_[user_id].mean(axis=0)"
   ]
  },
  {
   "cell_type": "markdown",
   "metadata": {},
   "source": [
    "**Приведем здесь только несколько строк из результата этого кода, остальные - аналогичны:**   \n",
    "User 780, CV score: 0.9964864855898773   \n",
    "User 784, CV score: 0.9965802404005265   \n",
    "User 785, CV score: 0.9969243550752823   \n",
    "User 797, CV score: 0.9957150531207951   "
   ]
  },
  {
   "cell_type": "markdown",
   "metadata": {},
   "source": [
    "**Результаты кажутся впечатляющими, но не забудем про дисбаланс классов. Высокую долю правильных ответов можно получить константным прогнозом. Посчитаем для каждого пользователя разницу между долей правильных ответов на кросс-валидации (только что посчитанную с помощью `LogisticRegressionCV`) и долей меток в *y_train_150*, отличных от ID \n",
    " этого пользователя (именно такую долю правильных ответов можно получить, если классификатор всегда \"говорит\", что это не пользователь с номером $i$ в задаче классификации $i$-vs-All).**"
   ]
  },
  {
   "cell_type": "code",
   "execution_count": 259,
   "metadata": {
    "collapsed": true
   },
   "outputs": [],
   "source": [
    "class_distr = np.bincount(y_train_150.astype('int'))\n",
    "\n",
    "acc_diff_vs_constant = {}\n",
    "for user_id in np.unique(y_train_150):\n",
    "    acc_diff_vs_constant[user_id] = cv_scores_by_user[user_id] - (1 - class_distr[user_id] / len(y_train_150))"
   ]
  },
  {
   "cell_type": "markdown",
   "metadata": {},
   "source": [
    "**Запишем общее число и долю пользователей, для которых логистическая регрессия на кросс-валидации дает прогноз лучше константного, округлив до 3 знаков после запятой. **"
   ]
  },
  {
   "cell_type": "code",
   "execution_count": 260,
   "metadata": {},
   "outputs": [
    {
     "data": {
      "text/plain": [
       "124"
      ]
     },
     "execution_count": 260,
     "metadata": {},
     "output_type": "execute_result"
    }
   ],
   "source": [
    "num_better_than_default = (np.array(list(acc_diff_vs_constant.values())) > 0).sum()\n",
    "num_better_than_default"
   ]
  },
  {
   "cell_type": "code",
   "execution_count": 265,
   "metadata": {},
   "outputs": [
    {
     "name": "stdout",
     "output_type": "stream",
     "text": [
      "0.807\n"
     ]
    }
   ],
   "source": [
    "print(round((num_better_than_default)  / len(acc_diff_vs_constant), 3))"
   ]
  },
  {
   "cell_type": "markdown",
   "metadata": {},
   "source": [
    "**Дальше будем строить кривые обучения для конкретного пользователя, допустим, для 128-го. Составим новый бинарный вектор на основе *y_150users*, его значения будут 1 или 0 в зависимости от того, равен ли ID-шник пользователя 128.**"
   ]
  },
  {
   "cell_type": "code",
   "execution_count": 270,
   "metadata": {
    "collapsed": true
   },
   "outputs": [],
   "source": [
    "y_binary_128 = (y_150users == 128).astype(int)"
   ]
  },
  {
   "cell_type": "code",
   "execution_count": 272,
   "metadata": {
    "collapsed": true
   },
   "outputs": [],
   "source": [
    "from sklearn.model_selection import learning_curve\n",
    "\n",
    "def plot_learning_curve(val_train, val_test, train_sizes, \n",
    "                        xlabel='Training Set Size', ylabel='score'):\n",
    "    def plot_with_err(x, data, **kwargs):\n",
    "        mu, std = data.mean(1), data.std(1)\n",
    "        lines = plt.plot(x, mu, '-', **kwargs)\n",
    "        plt.fill_between(x, mu - std, mu + std, edgecolor='none',\n",
    "                         facecolor=lines[0].get_color(), alpha=0.2)\n",
    "    plot_with_err(train_sizes, val_train, label='train')\n",
    "    plot_with_err(train_sizes, val_test, label='valid')\n",
    "    plt.xlabel(xlabel); plt.ylabel(ylabel)\n",
    "    plt.legend(loc='lower right');"
   ]
  },
  {
   "cell_type": "markdown",
   "metadata": {},
   "source": [
    "**Посчитаем доли правильных ответов на кросс-валидации в задаче классификации \"user128-vs-All\" в зависимости от размера выборки. Для деталей смотрим встроенную документацию для *learning_curve*.**"
   ]
  },
  {
   "cell_type": "code",
   "execution_count": 275,
   "metadata": {},
   "outputs": [
    {
     "name": "stdout",
     "output_type": "stream",
     "text": [
      "Wall time: 38.8 s\n"
     ]
    }
   ],
   "source": [
    "%%time\n",
    "train_sizes = np.linspace(0.25, 1, 20)\n",
    "estimator = svm_grid_searcher2.best_estimator_\n",
    "n_train, val_train, val_test = learning_curve(estimator, X_sparse_150users, y_binary_128, \n",
    "                                              train_sizes=train_sizes, cv=skf, scoring='accuracy')"
   ]
  },
  {
   "cell_type": "code",
   "execution_count": 276,
   "metadata": {},
   "outputs": [
    {
     "data": {
      "image/png": "[encoded data removed]",
      "text/plain": [
       "<matplotlib.figure.Figure at 0x22d8ccd5f60>"
      ]
     },
     "metadata": {},
     "output_type": "display_data"
    }
   ],
   "source": [
    "plot_learning_curve(val_train, val_test, n_train, \n",
    "                    xlabel='train_size', ylabel='accuracy')"
   ]
  },
  {
   "cell_type": "markdown",
   "metadata": {},
   "source": [
    "**ВЫВОД:**   \n",
    "По кривой обучения видно, что значение метрики на обучающей и отложенной выборки практически **сравнялись**. Это означает, что величина выборки **достаточная** и дальнейшее ее пополнение размеченными данными не приведет к улучшению результата."
   ]
  },
  {
   "cell_type": "markdown",
   "metadata": {},
   "source": [
    "## Что еще можно сделать\n",
    "Что еще можно добавить по 4 части проекта:\n",
    "- конечно, можно проверить еще кучу алгоритмов, например, Xgboost, но в такой задаче очень маловероятно, что что-то справится лучше линейных методов\n",
    "- можно проверить качество алгоритма на данных, где сессии выделялись не по количеству посещенных сайтов, а по времени, например, 5, 7, 10 и 15 минут. Отметим также соответствующее [соревнование на **Kaggle**](https://inclass.kaggle.com/c/catch-me-if-you-can-intruder-detection-through-webpage-session-tracking2) \n",
    "- можно проверить, насколько хорошо можно решить задачу для 3000 пользователей (это, однако, потребует соответствующих ресурсов или времени)\n",
    "\n",
    "В следующей части мы вспомним про линейные модели, обучаемые стохастическим градиентным спуском, и порадуемся тому, насколько быстрее они работают. Также сделаем первые (в этом проекте) посылки в [соревновании](https://inclass.kaggle.com/c/catch-me-if-you-can-intruder-detection-through-webpage-session-tracking2) Kaggle Inclass."
   ]
  },
  {
   "cell_type": "markdown",
   "metadata": {},
   "source": [
    "# <center>Часть 5.  \n",
    "# <center>Соревнование Kaggle \"Catch Me If You Can\"\n",
    "## <center>Введение\n",
    "\n",
    "В этой части мы вспомним про концепцию стохастического градиентного спуска и опробуем классификатор Scikit-learn SGDClassifier, который работает намного быстрее на больших выборках, чем алгоритмы, которые мы тестировали в 4 части. Также мы познакомимся с данными [соревнования](https://inclass.kaggle.com/c/catch-me-if-you-can-intruder-detection-through-webpage-session-tracking2) Kaggle по идентификации пользователей и сделаем в нем свои посылки. Попробуем добиться хорошего результата."
   ]
  },
  {
   "cell_type": "markdown",
   "metadata": {},
   "source": [
    "## <center> 5.1. Получение результата и подготовка первой посылки на Kaggle"
   ]
  },
  {
   "cell_type": "markdown",
   "metadata": {},
   "source": [
    "**Считаем данные [соревнования](https://inclass.kaggle.com/c/catch-me-if-you-can-intruder-detection-through-webpage-session-tracking2) в DataFrame train_df и test_df (обучающая и тестовая выборки).**"
   ]
  },
  {
   "cell_type": "code",
   "execution_count": 3,
   "metadata": {
    "collapsed": true
   },
   "outputs": [],
   "source": [
    "train_df = pd.read_csv(os.path.join(PATH_TO_DATA, 'train_sessions.csv'),\n",
    "                       index_col='session_id')\n",
    "test_df = pd.read_csv(os.path.join(PATH_TO_DATA, 'test_sessions.csv'),\n",
    "                      index_col='session_id')"
   ]
  },
  {
   "cell_type": "code",
   "execution_count": 4,
   "metadata": {},
   "outputs": [
    {
     "data": {
      "text/html": [
       "<div>\n",
       "<style>\n",
       "    .dataframe thead tr:only-child th {\n",
       "        text-align: right;\n",
       "    }\n",
       "\n",
       "    .dataframe thead th {\n",
       "        text-align: left;\n",
       "    }\n",
       "\n",
       "    .dataframe tbody tr th {\n",
       "        vertical-align: top;\n",
       "    }\n",
       "</style>\n",
       "<table border=\"1\" class=\"dataframe\">\n",
       "  <thead>\n",
       "    <tr style=\"text-align: right;\">\n",
       "      <th></th>\n",
       "      <th>site1</th>\n",
       "      <th>time1</th>\n",
       "      <th>site2</th>\n",
       "      <th>time2</th>\n",
       "      <th>site3</th>\n",
       "      <th>time3</th>\n",
       "      <th>site4</th>\n",
       "      <th>time4</th>\n",
       "      <th>site5</th>\n",
       "      <th>time5</th>\n",
       "      <th>...</th>\n",
       "      <th>time6</th>\n",
       "      <th>site7</th>\n",
       "      <th>time7</th>\n",
       "      <th>site8</th>\n",
       "      <th>time8</th>\n",
       "      <th>site9</th>\n",
       "      <th>time9</th>\n",
       "      <th>site10</th>\n",
       "      <th>time10</th>\n",
       "      <th>target</th>\n",
       "    </tr>\n",
       "    <tr>\n",
       "      <th>session_id</th>\n",
       "      <th></th>\n",
       "      <th></th>\n",
       "      <th></th>\n",
       "      <th></th>\n",
       "      <th></th>\n",
       "      <th></th>\n",
       "      <th></th>\n",
       "      <th></th>\n",
       "      <th></th>\n",
       "      <th></th>\n",
       "      <th></th>\n",
       "      <th></th>\n",
       "      <th></th>\n",
       "      <th></th>\n",
       "      <th></th>\n",
       "      <th></th>\n",
       "      <th></th>\n",
       "      <th></th>\n",
       "      <th></th>\n",
       "      <th></th>\n",
       "      <th></th>\n",
       "    </tr>\n",
       "  </thead>\n",
       "  <tbody>\n",
       "    <tr>\n",
       "      <th>1</th>\n",
       "      <td>718</td>\n",
       "      <td>2014-02-20 10:02:45</td>\n",
       "      <td>NaN</td>\n",
       "      <td>NaN</td>\n",
       "      <td>NaN</td>\n",
       "      <td>NaN</td>\n",
       "      <td>NaN</td>\n",
       "      <td>NaN</td>\n",
       "      <td>NaN</td>\n",
       "      <td>NaN</td>\n",
       "      <td>...</td>\n",
       "      <td>NaN</td>\n",
       "      <td>NaN</td>\n",
       "      <td>NaN</td>\n",
       "      <td>NaN</td>\n",
       "      <td>NaN</td>\n",
       "      <td>NaN</td>\n",
       "      <td>NaN</td>\n",
       "      <td>NaN</td>\n",
       "      <td>NaN</td>\n",
       "      <td>0</td>\n",
       "    </tr>\n",
       "    <tr>\n",
       "      <th>2</th>\n",
       "      <td>890</td>\n",
       "      <td>2014-02-22 11:19:50</td>\n",
       "      <td>941.0</td>\n",
       "      <td>2014-02-22 11:19:50</td>\n",
       "      <td>3847.0</td>\n",
       "      <td>2014-02-22 11:19:51</td>\n",
       "      <td>941.0</td>\n",
       "      <td>2014-02-22 11:19:51</td>\n",
       "      <td>942.0</td>\n",
       "      <td>2014-02-22 11:19:51</td>\n",
       "      <td>...</td>\n",
       "      <td>2014-02-22 11:19:51</td>\n",
       "      <td>3847.0</td>\n",
       "      <td>2014-02-22 11:19:52</td>\n",
       "      <td>3846.0</td>\n",
       "      <td>2014-02-22 11:19:52</td>\n",
       "      <td>1516.0</td>\n",
       "      <td>2014-02-22 11:20:15</td>\n",
       "      <td>1518.0</td>\n",
       "      <td>2014-02-22 11:20:16</td>\n",
       "      <td>0</td>\n",
       "    </tr>\n",
       "    <tr>\n",
       "      <th>3</th>\n",
       "      <td>14769</td>\n",
       "      <td>2013-12-16 16:40:17</td>\n",
       "      <td>39.0</td>\n",
       "      <td>2013-12-16 16:40:18</td>\n",
       "      <td>14768.0</td>\n",
       "      <td>2013-12-16 16:40:19</td>\n",
       "      <td>14769.0</td>\n",
       "      <td>2013-12-16 16:40:19</td>\n",
       "      <td>37.0</td>\n",
       "      <td>2013-12-16 16:40:19</td>\n",
       "      <td>...</td>\n",
       "      <td>2013-12-16 16:40:19</td>\n",
       "      <td>14768.0</td>\n",
       "      <td>2013-12-16 16:40:20</td>\n",
       "      <td>14768.0</td>\n",
       "      <td>2013-12-16 16:40:21</td>\n",
       "      <td>14768.0</td>\n",
       "      <td>2013-12-16 16:40:22</td>\n",
       "      <td>14768.0</td>\n",
       "      <td>2013-12-16 16:40:24</td>\n",
       "      <td>0</td>\n",
       "    </tr>\n",
       "    <tr>\n",
       "      <th>4</th>\n",
       "      <td>782</td>\n",
       "      <td>2014-03-28 10:52:12</td>\n",
       "      <td>782.0</td>\n",
       "      <td>2014-03-28 10:52:42</td>\n",
       "      <td>782.0</td>\n",
       "      <td>2014-03-28 10:53:12</td>\n",
       "      <td>782.0</td>\n",
       "      <td>2014-03-28 10:53:42</td>\n",
       "      <td>782.0</td>\n",
       "      <td>2014-03-28 10:54:12</td>\n",
       "      <td>...</td>\n",
       "      <td>2014-03-28 10:54:42</td>\n",
       "      <td>782.0</td>\n",
       "      <td>2014-03-28 10:55:12</td>\n",
       "      <td>782.0</td>\n",
       "      <td>2014-03-28 10:55:42</td>\n",
       "      <td>782.0</td>\n",
       "      <td>2014-03-28 10:56:12</td>\n",
       "      <td>782.0</td>\n",
       "      <td>2014-03-28 10:56:42</td>\n",
       "      <td>0</td>\n",
       "    </tr>\n",
       "    <tr>\n",
       "      <th>5</th>\n",
       "      <td>22</td>\n",
       "      <td>2014-02-28 10:53:05</td>\n",
       "      <td>177.0</td>\n",
       "      <td>2014-02-28 10:55:22</td>\n",
       "      <td>175.0</td>\n",
       "      <td>2014-02-28 10:55:22</td>\n",
       "      <td>178.0</td>\n",
       "      <td>2014-02-28 10:55:23</td>\n",
       "      <td>177.0</td>\n",
       "      <td>2014-02-28 10:55:23</td>\n",
       "      <td>...</td>\n",
       "      <td>2014-02-28 10:55:59</td>\n",
       "      <td>175.0</td>\n",
       "      <td>2014-02-28 10:55:59</td>\n",
       "      <td>177.0</td>\n",
       "      <td>2014-02-28 10:55:59</td>\n",
       "      <td>177.0</td>\n",
       "      <td>2014-02-28 10:57:06</td>\n",
       "      <td>178.0</td>\n",
       "      <td>2014-02-28 10:57:11</td>\n",
       "      <td>0</td>\n",
       "    </tr>\n",
       "  </tbody>\n",
       "</table>\n",
       "<p>5 rows × 21 columns</p>\n",
       "</div>"
      ],
      "text/plain": [
       "            site1                time1  site2                time2    site3  \\\n",
       "session_id                                                                    \n",
       "1             718  2014-02-20 10:02:45    NaN                  NaN      NaN   \n",
       "2             890  2014-02-22 11:19:50  941.0  2014-02-22 11:19:50   3847.0   \n",
       "3           14769  2013-12-16 16:40:17   39.0  2013-12-16 16:40:18  14768.0   \n",
       "4             782  2014-03-28 10:52:12  782.0  2014-03-28 10:52:42    782.0   \n",
       "5              22  2014-02-28 10:53:05  177.0  2014-02-28 10:55:22    175.0   \n",
       "\n",
       "                          time3    site4                time4  site5  \\\n",
       "session_id                                                             \n",
       "1                           NaN      NaN                  NaN    NaN   \n",
       "2           2014-02-22 11:19:51    941.0  2014-02-22 11:19:51  942.0   \n",
       "3           2013-12-16 16:40:19  14769.0  2013-12-16 16:40:19   37.0   \n",
       "4           2014-03-28 10:53:12    782.0  2014-03-28 10:53:42  782.0   \n",
       "5           2014-02-28 10:55:22    178.0  2014-02-28 10:55:23  177.0   \n",
       "\n",
       "                          time5  ...                  time6    site7  \\\n",
       "session_id                       ...                                   \n",
       "1                           NaN  ...                    NaN      NaN   \n",
       "2           2014-02-22 11:19:51  ...    2014-02-22 11:19:51   3847.0   \n",
       "3           2013-12-16 16:40:19  ...    2013-12-16 16:40:19  14768.0   \n",
       "4           2014-03-28 10:54:12  ...    2014-03-28 10:54:42    782.0   \n",
       "5           2014-02-28 10:55:23  ...    2014-02-28 10:55:59    175.0   \n",
       "\n",
       "                          time7    site8                time8    site9  \\\n",
       "session_id                                                               \n",
       "1                           NaN      NaN                  NaN      NaN   \n",
       "2           2014-02-22 11:19:52   3846.0  2014-02-22 11:19:52   1516.0   \n",
       "3           2013-12-16 16:40:20  14768.0  2013-12-16 16:40:21  14768.0   \n",
       "4           2014-03-28 10:55:12    782.0  2014-03-28 10:55:42    782.0   \n",
       "5           2014-02-28 10:55:59    177.0  2014-02-28 10:55:59    177.0   \n",
       "\n",
       "                          time9   site10               time10 target  \n",
       "session_id                                                            \n",
       "1                           NaN      NaN                  NaN      0  \n",
       "2           2014-02-22 11:20:15   1518.0  2014-02-22 11:20:16      0  \n",
       "3           2013-12-16 16:40:22  14768.0  2013-12-16 16:40:24      0  \n",
       "4           2014-03-28 10:56:12    782.0  2014-03-28 10:56:42      0  \n",
       "5           2014-02-28 10:57:06    178.0  2014-02-28 10:57:11      0  \n",
       "\n",
       "[5 rows x 21 columns]"
      ]
     },
     "execution_count": 4,
     "metadata": {},
     "output_type": "execute_result"
    }
   ],
   "source": [
    "train_df.head()"
   ]
  },
  {
   "cell_type": "markdown",
   "metadata": {},
   "source": [
    "**Объединим обучающую и тестовую выборки – это понадобится, чтоб вместе потом привести их к разреженному формату.**"
   ]
  },
  {
   "cell_type": "code",
   "execution_count": 5,
   "metadata": {
    "collapsed": true
   },
   "outputs": [],
   "source": [
    "train_test_df = pd.concat([train_df, test_df])"
   ]
  },
  {
   "cell_type": "markdown",
   "metadata": {},
   "source": [
    "В обучающей выборке видим следующие признаки:\n",
    "    - site1 – индекс первого посещенного сайта в сессии\n",
    "    - time1 – время посещения первого сайта в сессии\n",
    "    - ...\n",
    "    - site10 – индекс 10-го посещенного сайта в сессии\n",
    "    - time10 – время посещения 10-го сайта в сессии\n",
    "    - user_id – ID пользователя\n",
    "    \n",
    "Сессии пользователей выделены таким образом, что они не могут быть длинее получаса или 10 сайтов. То есть сессия считается оконченной либо когда пользователь посетил 10 сайтов подряд, либо когда сессия заняла по времени более 30 минут. "
   ]
  },
  {
   "cell_type": "markdown",
   "metadata": {},
   "source": [
    "**Посмотрим на статистику признаков.**\n",
    "\n",
    "Пропуски возникают там, где сессии короткие (менее 10 сайтов). Скажем, если человек 1 января 2015 года посетил *vk.com* в 20:01, потом *yandex.ru* в 20:29, затем *google.com* в 20:33, то первая его сессия будет состоять только из двух сайтов (site1 – ID сайта *vk.com*, time1 – 2015-01-01 20:01:00, site2 – ID сайта  *yandex.ru*, time2 – 2015-01-01 20:29:00, остальные признаки – NaN), а начиная с *google.com* пойдет новая сессия, потому что уже прошло более 30 минут с момента посещения *vk.com*."
   ]
  },
  {
   "cell_type": "markdown",
   "metadata": {},
   "source": [
    "**В обучающей выборке – 2297 сессий одного пользователя (Alice) и 251264 сессий – других пользователей, не Элис. Дисбаланс классов очень сильный, и смотреть на долю верных ответов (accuracy) непоказательно.**"
   ]
  },
  {
   "cell_type": "code",
   "execution_count": 9,
   "metadata": {},
   "outputs": [
    {
     "data": {
      "text/plain": [
       "0    251264\n",
       "1      2297\n",
       "Name: target, dtype: int64"
      ]
     },
     "execution_count": 9,
     "metadata": {},
     "output_type": "execute_result"
    }
   ],
   "source": [
    "train_df['target'].value_counts()"
   ]
  },
  {
   "cell_type": "markdown",
   "metadata": {},
   "source": [
    "**Пока для прогноза будем использовать только индексы посещенных сайтов. Индексы нумеровались с 1, так что заменим пропуски на нули.**"
   ]
  },
  {
   "cell_type": "code",
   "execution_count": 10,
   "metadata": {
    "collapsed": true
   },
   "outputs": [],
   "source": [
    "train_test_df_sites = train_test_df[['site%d' % i for i in range(1, 11)]].fillna(0).astype(int)"
   ]
  },
  {
   "cell_type": "code",
   "execution_count": 11,
   "metadata": {},
   "outputs": [
    {
     "data": {
      "text/html": [
       "<div>\n",
       "<style>\n",
       "    .dataframe thead tr:only-child th {\n",
       "        text-align: right;\n",
       "    }\n",
       "\n",
       "    .dataframe thead th {\n",
       "        text-align: left;\n",
       "    }\n",
       "\n",
       "    .dataframe tbody tr th {\n",
       "        vertical-align: top;\n",
       "    }\n",
       "</style>\n",
       "<table border=\"1\" class=\"dataframe\">\n",
       "  <thead>\n",
       "    <tr style=\"text-align: right;\">\n",
       "      <th></th>\n",
       "      <th>site1</th>\n",
       "      <th>site2</th>\n",
       "      <th>site3</th>\n",
       "      <th>site4</th>\n",
       "      <th>site5</th>\n",
       "      <th>site6</th>\n",
       "      <th>site7</th>\n",
       "      <th>site8</th>\n",
       "      <th>site9</th>\n",
       "      <th>site10</th>\n",
       "    </tr>\n",
       "    <tr>\n",
       "      <th>session_id</th>\n",
       "      <th></th>\n",
       "      <th></th>\n",
       "      <th></th>\n",
       "      <th></th>\n",
       "      <th></th>\n",
       "      <th></th>\n",
       "      <th></th>\n",
       "      <th></th>\n",
       "      <th></th>\n",
       "      <th></th>\n",
       "    </tr>\n",
       "  </thead>\n",
       "  <tbody>\n",
       "    <tr>\n",
       "      <th>1</th>\n",
       "      <td>718</td>\n",
       "      <td>0</td>\n",
       "      <td>0</td>\n",
       "      <td>0</td>\n",
       "      <td>0</td>\n",
       "      <td>0</td>\n",
       "      <td>0</td>\n",
       "      <td>0</td>\n",
       "      <td>0</td>\n",
       "      <td>0</td>\n",
       "    </tr>\n",
       "    <tr>\n",
       "      <th>2</th>\n",
       "      <td>890</td>\n",
       "      <td>941</td>\n",
       "      <td>3847</td>\n",
       "      <td>941</td>\n",
       "      <td>942</td>\n",
       "      <td>3846</td>\n",
       "      <td>3847</td>\n",
       "      <td>3846</td>\n",
       "      <td>1516</td>\n",
       "      <td>1518</td>\n",
       "    </tr>\n",
       "    <tr>\n",
       "      <th>3</th>\n",
       "      <td>14769</td>\n",
       "      <td>39</td>\n",
       "      <td>14768</td>\n",
       "      <td>14769</td>\n",
       "      <td>37</td>\n",
       "      <td>39</td>\n",
       "      <td>14768</td>\n",
       "      <td>14768</td>\n",
       "      <td>14768</td>\n",
       "      <td>14768</td>\n",
       "    </tr>\n",
       "    <tr>\n",
       "      <th>4</th>\n",
       "      <td>782</td>\n",
       "      <td>782</td>\n",
       "      <td>782</td>\n",
       "      <td>782</td>\n",
       "      <td>782</td>\n",
       "      <td>782</td>\n",
       "      <td>782</td>\n",
       "      <td>782</td>\n",
       "      <td>782</td>\n",
       "      <td>782</td>\n",
       "    </tr>\n",
       "    <tr>\n",
       "      <th>5</th>\n",
       "      <td>22</td>\n",
       "      <td>177</td>\n",
       "      <td>175</td>\n",
       "      <td>178</td>\n",
       "      <td>177</td>\n",
       "      <td>178</td>\n",
       "      <td>175</td>\n",
       "      <td>177</td>\n",
       "      <td>177</td>\n",
       "      <td>178</td>\n",
       "    </tr>\n",
       "    <tr>\n",
       "      <th>6</th>\n",
       "      <td>570</td>\n",
       "      <td>21</td>\n",
       "      <td>570</td>\n",
       "      <td>21</td>\n",
       "      <td>21</td>\n",
       "      <td>0</td>\n",
       "      <td>0</td>\n",
       "      <td>0</td>\n",
       "      <td>0</td>\n",
       "      <td>0</td>\n",
       "    </tr>\n",
       "    <tr>\n",
       "      <th>7</th>\n",
       "      <td>803</td>\n",
       "      <td>23</td>\n",
       "      <td>5956</td>\n",
       "      <td>17513</td>\n",
       "      <td>37</td>\n",
       "      <td>21</td>\n",
       "      <td>803</td>\n",
       "      <td>17514</td>\n",
       "      <td>17514</td>\n",
       "      <td>17514</td>\n",
       "    </tr>\n",
       "    <tr>\n",
       "      <th>8</th>\n",
       "      <td>22</td>\n",
       "      <td>21</td>\n",
       "      <td>29</td>\n",
       "      <td>5041</td>\n",
       "      <td>14422</td>\n",
       "      <td>23</td>\n",
       "      <td>21</td>\n",
       "      <td>5041</td>\n",
       "      <td>14421</td>\n",
       "      <td>14421</td>\n",
       "    </tr>\n",
       "    <tr>\n",
       "      <th>9</th>\n",
       "      <td>668</td>\n",
       "      <td>940</td>\n",
       "      <td>942</td>\n",
       "      <td>941</td>\n",
       "      <td>941</td>\n",
       "      <td>942</td>\n",
       "      <td>940</td>\n",
       "      <td>23</td>\n",
       "      <td>21</td>\n",
       "      <td>22</td>\n",
       "    </tr>\n",
       "    <tr>\n",
       "      <th>10</th>\n",
       "      <td>3700</td>\n",
       "      <td>229</td>\n",
       "      <td>570</td>\n",
       "      <td>21</td>\n",
       "      <td>229</td>\n",
       "      <td>21</td>\n",
       "      <td>21</td>\n",
       "      <td>21</td>\n",
       "      <td>2336</td>\n",
       "      <td>2044</td>\n",
       "    </tr>\n",
       "  </tbody>\n",
       "</table>\n",
       "</div>"
      ],
      "text/plain": [
       "            site1  site2  site3  site4  site5  site6  site7  site8  site9  \\\n",
       "session_id                                                                  \n",
       "1             718      0      0      0      0      0      0      0      0   \n",
       "2             890    941   3847    941    942   3846   3847   3846   1516   \n",
       "3           14769     39  14768  14769     37     39  14768  14768  14768   \n",
       "4             782    782    782    782    782    782    782    782    782   \n",
       "5              22    177    175    178    177    178    175    177    177   \n",
       "6             570     21    570     21     21      0      0      0      0   \n",
       "7             803     23   5956  17513     37     21    803  17514  17514   \n",
       "8              22     21     29   5041  14422     23     21   5041  14421   \n",
       "9             668    940    942    941    941    942    940     23     21   \n",
       "10           3700    229    570     21    229     21     21     21   2336   \n",
       "\n",
       "            site10  \n",
       "session_id          \n",
       "1                0  \n",
       "2             1518  \n",
       "3            14768  \n",
       "4              782  \n",
       "5              178  \n",
       "6                0  \n",
       "7            17514  \n",
       "8            14421  \n",
       "9               22  \n",
       "10            2044  "
      ]
     },
     "execution_count": 11,
     "metadata": {},
     "output_type": "execute_result"
    }
   ],
   "source": [
    "train_test_df_sites.head(10)"
   ]
  },
  {
   "cell_type": "markdown",
   "metadata": {},
   "source": [
    "**Создадим разреженные матрицы *X_train_sparse* и *X_test_sparse* аналогично тому, как мы это делали ранее. Используем объединенную матрицу *train_test_df_sites*, потом разделим обратно на обучающую и тестовую части.**\n",
    "\n",
    "Обратим внимание на то, что в  сессиях меньше 10 сайтов  у нас остались нули, так что первый признак (сколько раз попался 0) по смыслу отличен от остальных (сколько раз попался сайт с индексом $i$). Поэтому первый столбец разреженной матрицы надо будет удалить.\n",
    "\n",
    "**Выделим в отдельный вектор *y* ответы на обучающей выборке.**"
   ]
  },
  {
   "cell_type": "code",
   "execution_count": 12,
   "metadata": {
    "collapsed": true
   },
   "outputs": [],
   "source": [
    "train_test_sparse = csr_matrix((np.ones(train_test_df_sites.values.size), \n",
    "                                train_test_df_sites.values.ravel(), \n",
    "                                np.arange(train_test_df_sites.values.shape[0] + 1) * \n",
    "                                train_test_df_sites.values.shape[1]), dtype=int)[:, 1:]\n",
    "\n",
    "X_train_sparse = train_test_sparse[:train_df.shape[0]]\n",
    "X_test_sparse = train_test_sparse[train_df.shape[0]:]\n",
    "y = train_df['target'].values"
   ]
  },
  {
   "cell_type": "markdown",
   "metadata": {},
   "source": [
    "**Разобьем обучающую выборку на 2 части в пропорции 7/3, причем не перемешивая. Исходные данные упорядочены по времени, тестовая выборка по времени четко отделена от обучающей, это же соблюдем и здесь.**"
   ]
  },
  {
   "cell_type": "code",
   "execution_count": 15,
   "metadata": {
    "collapsed": true
   },
   "outputs": [],
   "source": [
    "train_share = int(.7 * X_train_sparse.shape[0])\n",
    "X_train, y_train = X_train_sparse[:train_share, :], y[:train_share]\n",
    "X_valid, y_valid  = X_train_sparse[train_share:, :], y[train_share:]"
   ]
  },
  {
   "cell_type": "markdown",
   "metadata": {
    "collapsed": true
   },
   "source": [
    "**Создадим объект `sklearn.linear_model.SGDClassifier` с логистической функцией потерь и параметром *random_state*=17. Остальные параметры оставим по умолчанию, разве что *n_jobs*=-1 никогда не помешает. Обучим  модель на выборке `(X_train, y_train)`.**"
   ]
  },
  {
   "cell_type": "code",
   "execution_count": 16,
   "metadata": {},
   "outputs": [
    {
     "data": {
      "text/plain": [
       "SGDClassifier(alpha=0.0001, average=False, class_weight=None, epsilon=0.1,\n",
       "       eta0=0.0, fit_intercept=True, l1_ratio=0.15,\n",
       "       learning_rate='optimal', loss='log', max_iter=None, n_iter=None,\n",
       "       n_jobs=-1, penalty='l2', power_t=0.5, random_state=17, shuffle=True,\n",
       "       tol=None, verbose=0, warm_start=False)"
      ]
     },
     "execution_count": 16,
     "metadata": {},
     "output_type": "execute_result"
    }
   ],
   "source": [
    "sgd_logit = SGDClassifier(loss='log', n_jobs=-1, random_state=17)\n",
    "sgd_logit.fit(X_train, y_train)"
   ]
  },
  {
   "cell_type": "markdown",
   "metadata": {},
   "source": [
    "**Сделаем прогноз в виде предсказанных вероятностей того, что это сессия Элис, на отложенной выборке *(X_valid, y_valid)*.**"
   ]
  },
  {
   "cell_type": "code",
   "execution_count": 17,
   "metadata": {
    "collapsed": true
   },
   "outputs": [],
   "source": [
    "logit_valid_pred_proba = sgd_logit.predict_proba(X_valid)"
   ]
  },
  {
   "cell_type": "markdown",
   "metadata": {},
   "source": [
    "**Посмотрим на ROC AUC логистической регрессии, обученной с помощью стохастического градиентного спуска, на отложенной выборке, округлив до 3 знаков после разделителя.**"
   ]
  },
  {
   "cell_type": "code",
   "execution_count": 18,
   "metadata": {},
   "outputs": [
    {
     "name": "stdout",
     "output_type": "stream",
     "text": [
      "ROC AUC = 0.934\n"
     ]
    }
   ],
   "source": [
    "print('ROC AUC =', round(roc_auc_score(y_valid, logit_valid_pred_proba[:, 1]), 3))"
   ]
  },
  {
   "cell_type": "markdown",
   "metadata": {},
   "source": [
    "**Сделаем прогноз в виде предсказанных вероятностей отнесения к классу 1 для тестовой выборки с помощью той же *sgd_logit*, обученной уже на всей обучающей выборке (а не на 70%).**"
   ]
  },
  {
   "cell_type": "code",
   "execution_count": 19,
   "metadata": {},
   "outputs": [
    {
     "name": "stdout",
     "output_type": "stream",
     "text": [
      "Wall time: 676 ms\n"
     ]
    }
   ],
   "source": [
    "%%time\n",
    "sgd_logit = SGDClassifier(loss='log', n_jobs=-1, random_state=17)\n",
    "logit_test_pred_proba = sgd_logit.fit(X_train_sparse, y).predict_proba(X_test_sparse)[:, 1]"
   ]
  },
  {
   "cell_type": "markdown",
   "metadata": {},
   "source": [
    "**Запишем ответы в файл и сделайте посылку на Kaggle. Название команды на Kaggle в этом [соревновании](https://inclass.kaggle.com/c/catch-me-if-you-can-intruder-detection-through-webpage-session-tracking2/leaderboard/public) –**    \n",
    "### [YDF & MIPT] Dmitry Shereshevskiy   "
   ]
  },
  {
   "cell_type": "code",
   "execution_count": 20,
   "metadata": {
    "collapsed": true
   },
   "outputs": [],
   "source": [
    "def write_to_submission_file(predicted_labels, out_file,\n",
    "                             target='target', index_label=\"session_id\"):\n",
    "    # turn predictions into data frame and save as csv file\n",
    "    predicted_df = pd.DataFrame(predicted_labels,\n",
    "                                index = np.arange(1, predicted_labels.shape[0] + 1),\n",
    "                                columns=[target])\n",
    "    predicted_df.to_csv(out_file, index_label=index_label)"
   ]
  },
  {
   "cell_type": "code",
   "execution_count": 21,
   "metadata": {
    "collapsed": true
   },
   "outputs": [],
   "source": [
    "write_to_submission_file(logit_test_pred_proba, os.path.join(PATH_TO_DATA, '[YDF & MIPT]_Coursera_sgd_logit.csv'))"
   ]
  },
  {
   "cell_type": "markdown",
   "metadata": {},
   "source": [
    "**Результат, который мы только что получили, соответствует бейзлайну \"SGDCLassifer\" на лидерборде. Поставим себе задачу - максимально улучшить его.**"
   ]
  },
  {
   "cell_type": "markdown",
   "metadata": {
    "collapsed": true
   },
   "source": [
    "## Пути улучшения\n",
    "Что можно попробовать:\n",
    " - Использовать ранее построенные признаки для улучшения модели (проверить их можно на меньшей выборке по 150 пользователям, отделив одного из пользователей от остальных – это быстрее)\n",
    " - Настроить параметры моделей (например, коэффициенты регуляризации)\n",
    " - Если позволят мощности (или хватит терпения), можно попробовать смешивание (блендинг) ответов бустинга и линейной модели. [Вот](http://mlwave.com/kaggle-ensembling-guide/) один из самых известных тьюториалов по смешиванию ответов алгоритмов, также хороша [статья](https://alexanderdyakonov.wordpress.com/2017/03/10/cтекинг-stacking-и-блендинг-blending) Александра Дьяконова\n",
    " - Обратим внимание, что в соревновании также даны исходные данные о посещенных веб-страницах Элис и остальными 1557 пользователями (*train.zip*). По этим данным можно сформировать свою обучающую выборку. \n",
    "\n",
    "В 6 части мы разберем пакет **Vowpal Wabbit** и попробуем его в деле, на данных соревнования."
   ]
  },
  {
   "cell_type": "markdown",
   "metadata": {},
   "source": [
    "## <center>5.2. Работа по улучшению результата на Kaggle\n",
    "### <center>5.2.1. Линейный классификатор"
   ]
  },
  {
   "cell_type": "markdown",
   "metadata": {},
   "source": [
    "Для **улучшения результата в соревновании на Kaggle**, да и в общем для **улучшения качества модели** идентификации пользователя, которую мы разрабатываем в этом проекте, сделаем следующие дополнения к уже имеющейся модели.\n",
    "\n",
    "Сформируем новые **дополнительные признаки** из исходных даннных. Для этого модифицируем функцию, которая формирует итоговые признаки, загружаемые непосредственно в классификатор. Исходя из опыта и предварительного исследования, будем придерживаться следующего при формировании признаков:\n",
    "- все признаки, которые формируются из временных меток, соответствущих времени захода на сайт - **категориальные** (несмотря на то, что по форме выглядят как вещественные)\n",
    "- исходя из этого считаем **категориальным признаком**:\n",
    "    - час начала сессии\n",
    "    - день недели начала сессии\n",
    "    - число уникальных сайтов в сессии\n",
    "    - было ли начало сессии в уикэнд\n",
    "    - время суток (4 значения)\n",
    "    \n",
    "- длительность сессии разобьем на 7 периодов (по длительности) и также сделаем категориальным\n",
    "- все получившиеся категориальные признаки закодируем с применением техники **`one hot encoding`**\n",
    "- списки сайтов-сессий будем учитывать по методике **`мешка слов`** и закодируем их с использованием методологии **Tf-idf**-кодирования.\n",
    "\n",
    "В соответствие с этими положениями сделаем **новую функцию** (модифицированную из ранее сформированных)) для обработки данных и **формирования признаков**. В соответствие с данными соревнования, функция **принимает на вход**:\n",
    "- списки сайтов, разбитые по **сессиям из 10 сайтов** (напомним, ранее мы уже делали функцию, которая формирует такие списки из исходных \"сырых\" данных) - **train_df**. Причем на вход может приниматься как только **обучающие данные с разметкой**, так и обучающие данные **вместе с тестовыми** - **test_df**. \n",
    "\n",
    "**На выходе**, в зависимости от входных данных, мы получаем:\n",
    "- матрицу признаков **обучающей выборки** в формате `sparse`, которая содержит сайты в виде закодированного через **TF-idf** **мешка слов** и вектор **целевого признака** - **X_train_sparse** и **y**.\n",
    "- или в дополнение к этому еще и соответствующую матрицу признаков **тестовой выборки** (естественно, уже без разметки) - **X_test_sparse**"
   ]
  },
  {
   "cell_type": "markdown",
   "metadata": {},
   "source": [
    "**Далее, теперь будем учитывать обстоятельство, что большинство дополнительных фич у нас по сути КАТЕГОРИАЛЬНЫЕ, и для них нужно делать определенную предобработку**.\n",
    "Мы уже обсуждали это ранее. Как мы отмечали, для корректности категориальные признаки надо **бинаризовать**. Более правильно это сделать с применением техники **'one hot coding'** или  **Tf-idf**-кодирования. Сделаем это ниже, а пока попробуем **упрощенный вариант** - просто поделим пространства значений признаков на 2 части и примем значение признака равно **1**, если он принадлежит к одной из половин, и **0**, если он к ней не принадлежит."
   ]
  },
  {
   "cell_type": "code",
   "execution_count": 18,
   "metadata": {
    "collapsed": true
   },
   "outputs": [],
   "source": [
    "from sklearn.preprocessing import OneHotEncoder\n",
    "from sklearn.feature_extraction.text import TfidfVectorizer"
   ]
  },
  {
   "cell_type": "code",
   "execution_count": 13,
   "metadata": {
    "collapsed": true
   },
   "outputs": [],
   "source": [
    "def feature_engineering_df_OHE_Tfidf(train_df, test_df=None, features=None):\n",
    "    '''\n",
    "    features = ['#unique_sites', 'session_timespan', 'start_hour', 'day_of_week', 'time_of_day', 'weekend']\n",
    "    '''\n",
    "    if features is None:\n",
    "        features = ['#unique_sites', 'session_timespan', 'start_hour', 'day_of_week', 'time_of_day', 'weekend']\n",
    "    \n",
    "    if test_df is None:\n",
    "        df = train_df\n",
    "    else:\n",
    "        df = pd.concat([train_df, test_df])\n",
    "    \n",
    "    # выделим отдельно сайты\n",
    "    df_sites = df[['site%d' % i for i in range(1, 11)]] # не забыть заполнить нули\n",
    "    \n",
    "    # подготовим временнЫе метки\n",
    "    df[['time%d' % i for i in range(1, 11)]] = df[['time%d' % i for i in range(1, 11)]].applymap(pd.to_datetime)\n",
    "    timestamp_df = df[['time%d' % i for i in range(1, 11)]].applymap(lambda x: pd.datetime.timestamp(x) \n",
    "                                                                  if type(x) == pd._libs.tslib.Timestamp else np.nan)\n",
    "    # добавляем признаки\n",
    "    if '#unique_sites' in features:\n",
    "        df['#unique_sites'] = df[['site' + str(i) for i in range(1, 11)]].nunique(axis=1, dropna=True)\n",
    "    if 'session_timespan' in features:\n",
    "        df['session_timespan'] = timestamp_df.max(axis=1, skipna=True) - timestamp_df.min(axis=1, skipna=True)\n",
    "        df['session_timespan'] = df['session_timespan'].apply(lambda x: x // 30 if x < 210 else 7)\n",
    "#         df['session_timespan'] = df['session_timespan'].apply(lambda x: int(np.log2(x)) if x > 1 else 0)\n",
    "    if 'start_hour' in features:    \n",
    "        df['start_hour'] = df['time1'].apply(lambda x: x.hour)\n",
    "    if 'day_of_week' in features:    \n",
    "        df['day_of_week'] = df['time1'].apply(lambda x: x.weekday())\n",
    "    if 'time_of_day' in features:    \n",
    "        # время суток (06-12 - утро(1), 12-19 - день(2), 19-24 - вечер(3), 00-06 - ночь(4))\n",
    "        df['time_of_day'] = df['time1'].apply(lambda x:  1 if x.hour >  6 and x.hour <= 12 else \n",
    "                                                                     2 if x.hour > 12 and x.hour <= 19 else\n",
    "                                                                     3 if x.hour > 19 and x.hour <= 24 else \n",
    "                                                                     4)\n",
    "    if 'weekend' in features:\n",
    "        # индикатор уикэнда в день начала сессии\n",
    "        df['weekend'] = df['time1'].apply(lambda x: 1 if x.weekday() in [5, 6] else 0)\n",
    "        \n",
    "#     X_new_sparse = csr_matrix(df[features].values)\n",
    "    encoder = OneHotEncoder()\n",
    "    X_new_sparse = encoder.fit_transform(df[features].values)\n",
    "    \n",
    "    df_sites = df_sites.fillna(0).astype(int)\n",
    "#     train_sparse = csr_matrix((np.ones(df_sites.values.size), \n",
    "#                                 df_sites.values.ravel(), \n",
    "#                                 np.arange(df_sites.values.shape[0] + 1) * \n",
    "#                                 df_sites.values.shape[1]), dtype=int)[:, 1:]\n",
    "\n",
    "    # готовим блок с сайтами для кодирования посредством TfidfVectorizer()\n",
    "    df_sites = df_sites.astype(str)\n",
    "    sites_text = df_sites['site1']\n",
    "    for i in range(2, 11):\n",
    "        sites_text += ' ' + df_sites['site{}'.format(i)]\n",
    "    # кодируем подготовленный блок с сайтами\n",
    "    Tfidf_Vectorizer = TfidfVectorizer()    \n",
    "    train_sparse = Tfidf_Vectorizer.fit_transform(sites_text.values)\n",
    "   \n",
    "    X_sparse = sparse.hstack([train_sparse, X_new_sparse]).tocsr()\n",
    "    X_train_sparse = X_sparse[:train_df.shape[0]]\n",
    "    X_test_sparse = X_sparse[train_df.shape[0]:]\n",
    "    \n",
    "    y_train = df['target'].values[:train_df.shape[0]]\n",
    "    \n",
    "    return (X_train_sparse, y_train) if test_df is None else (X_train_sparse, y_train, X_test_sparse)"
   ]
  },
  {
   "cell_type": "markdown",
   "metadata": {},
   "source": [
    "Для автоматизации и оптимизации процесса исследования признаков также создадим еше одну **вспомогательную функцию:**\n",
    "- на вход функция принимает классификатор, обучающую выборку в виде **матрицы признаков** и вектора **целевой функции**, а на выходе дает метрику **roc_auc**, рассчитанную на **кросс-валидации**."
   ]
  },
  {
   "cell_type": "code",
   "execution_count": 64,
   "metadata": {
    "collapsed": true
   },
   "outputs": [],
   "source": [
    "def CV_score(estimator, X_train_sparse, y, cv=None, random_state=17, test_size=0.3):\n",
    "    '''\n",
    "    обучение и расчет метрики на отложенной выборке\n",
    "    '''\n",
    "    mean_CV_score = cross_val_score(estimator, X_train, y_train, cv=cv, scoring='roc_auc', n_jobs=-1).mean()\n",
    " \n",
    "    return mean_CV_score"
   ]
  },
  {
   "cell_type": "markdown",
   "metadata": {},
   "source": [
    "Применим сделанные функции для получения улучшенных признаков и рассчета предварительной метрики **roc_auc** на кросс-валидации. Учтем следующее:    \n",
    "- сразу сделаем **балансировку классов**, поскольку, как мы видели ранее, классы в выборке силно несбалансированы, и предварительный анализ показал, что в данной выборке балансировка классов **улучшает результат**\n",
    "- отметим, что подбор параметра **alpha** в SGDClassifier при предварительном анализе не привел к улучшению результата, поэтому оставим его значение по-умолчанию."
   ]
  },
  {
   "cell_type": "code",
   "execution_count": 388,
   "metadata": {},
   "outputs": [
    {
     "name": "stdout",
     "output_type": "stream",
     "text": [
      "0.97748485306\n",
      "Wall time: 3min 31s\n"
     ]
    }
   ],
   "source": [
    "%%time\n",
    "X_train_sparse_ohe_tfidf, y_train_ohe, X_test_sparse_ohe_tfidf = feature_engineering_df_OHE_Tfidf(train_df, test_df)\n",
    "estimator = SGDClassifier(loss='log', n_jobs=-1, class_weight='balanced', random_state=17)\n",
    "auc = CV_score(estimator, X_train_sparse_ohe_tfidf, y_train_ohe, cv=skf)\n",
    "print(auc)"
   ]
  },
  {
   "cell_type": "markdown",
   "metadata": {},
   "source": [
    "Предварительный результат довольно приличный. Попробуем на **Kaggle**:"
   ]
  },
  {
   "cell_type": "code",
   "execution_count": 389,
   "metadata": {},
   "outputs": [
    {
     "name": "stdout",
     "output_type": "stream",
     "text": [
      "Wall time: 1.65 s\n"
     ]
    }
   ],
   "source": [
    "%%time\n",
    "estimator = SGDClassifier(loss='log', n_jobs=-1, class_weight='balanced', random_state=17)\n",
    "test_pred_proba = estimator.fit(X_train_sparse_ohe_tfidf, y_train_ohe).predict_proba(X_test_sparse_ohe_tfidf)[:, 1]\n",
    "    \n",
    "write_to_submission_file(test_pred_proba, os.path.join(PATH_TO_DATA, '[YDF & MIPT]_Coursera_sgd_allfeatures_OHE_bal_tfidf.csv'))"
   ]
  },
  {
   "cell_type": "markdown",
   "metadata": {},
   "source": [
    "**Kaggle: 0.94773**   \n",
    "Отлично! Результат на Kaggle, хоть и ниже предварительного, то тоже довольно **высокий**. "
   ]
  },
  {
   "cell_type": "markdown",
   "metadata": {},
   "source": [
    "### <center> 5.2.2. Бустинг"
   ]
  },
  {
   "cell_type": "markdown",
   "metadata": {},
   "source": [
    "**Рассмотрим возможность применить CatBoost и  XGBoost**.   \n",
    "\n",
    "Приведем сразу **РЕЗЮМЕ:**   \n",
    "- **CatBoost** - хороший пакет, умеет продвинуто работать с категориальными признаками. Но, к сожалению, **не умеет работать с `sparse`-форматом**, а без этого с нашим набором данных не справиться, даже не удалось попробовать.\n",
    "- **XGBoost** - другое дело, он со **`sparse`-форматом работает** без проблем. Но результат получается существенно **ниже**, чем у **SGDClisifier**. Это было **ожидаемо**, потому что с такого рода задачами линейные методы справляются, как правило, лучше деревьев.\n",
    "\n",
    "Перейдем сразу к **смешиванию** алгоритмов."
   ]
  },
  {
   "cell_type": "markdown",
   "metadata": {},
   "source": [
    "### <center> 5.2.3. Cмешивание алгоритмов\n",
    "Будем делать это по схеме **блендинга**, которая представляет из себя разновидность **стекинга**, описаную в <a href='https://alexanderdyakonov.wordpress.com/2017/03/10/c%D1%82%D0%B5%D0%BA%D0%B8%D0%BD%D0%B3-stacking-%D0%B8-%D0%B1%D0%BB%D0%B5%D0%BD%D0%B4%D0%B8%D0%BD%D0%B3-blending/'>статье</a> на сайте **Александра Дьяконова**.   \n",
    "   \n",
    "А именно:  \n",
    "- делим обучающую выборку на две части\n",
    "- на первой настраиваем два алгоритма и делаем предсказания на второй\n",
    "- получаем два метапризнака\n",
    "- таким же образом получаем два метапризнака на тестовой выборке\n",
    "- далее, на полученных метапризнаках из второй части обучающей выборки настраиваем линейный классификатор и делаем предсказания на тестовых метапризнаках"
   ]
  },
  {
   "cell_type": "code",
   "execution_count": 22,
   "metadata": {
    "collapsed": true
   },
   "outputs": [],
   "source": [
    "import xgboost as xgb"
   ]
  },
  {
   "cell_type": "markdown",
   "metadata": {},
   "source": [
    "Формируем признаки для **обучающей** и **тестовой** выборки с использованием подготовленной ранее функии:"
   ]
  },
  {
   "cell_type": "code",
   "execution_count": 19,
   "metadata": {},
   "outputs": [
    {
     "name": "stdout",
     "output_type": "stream",
     "text": [
      "Wall time: 7min\n"
     ]
    }
   ],
   "source": [
    "%%time\n",
    "X_train_sparse_ohe_tfidf, y_train_ohe, X_test_sparse_ohe_tfidf = feature_engineering_df_OHE_Tfidf(train_df, test_df)"
   ]
  },
  {
   "cell_type": "markdown",
   "metadata": {},
   "source": [
    "Обучающую выборку **делим пополам**: одна половина будет использоваться для формирования **метапризнаков**, на второй половине метапризнаки будут обучаться."
   ]
  },
  {
   "cell_type": "code",
   "execution_count": 32,
   "metadata": {
    "collapsed": true
   },
   "outputs": [],
   "source": [
    "X_train, X_valid, y_train, y_valid = train_test_split(X_train_sparse_ohe_tfidf, y_train_ohe, \n",
    "                                                      test_size=0.5, \n",
    "                                                      random_state=17, stratify=y_train_ohe)"
   ]
  },
  {
   "cell_type": "markdown",
   "metadata": {},
   "source": [
    "Для компактности соберем все в **одну ячейку** и организуем **измерение времени** отдельных этапов."
   ]
  },
  {
   "cell_type": "markdown",
   "metadata": {},
   "source": [
    "Предварительный анализ показал, что небольшая глубина деревьев в бустинге дает результат лучше. Это можно объяснить тем, что  для градиентного бустинга (в отличие от случайного леса) свойственно **переобучение**.  \n",
    "\n",
    "Поэтому сделаем **максимальную глубину** деревьев в **xgboost** небольшой. Не забудем про **балансировку** в линейном классификаторе."
   ]
  },
  {
   "cell_type": "code",
   "execution_count": 67,
   "metadata": {
    "collapsed": true
   },
   "outputs": [],
   "source": [
    "import datetime"
   ]
  },
  {
   "cell_type": "code",
   "execution_count": 70,
   "metadata": {},
   "outputs": [
    {
     "name": "stdout",
     "output_type": "stream",
     "text": [
      "Time for sgd_pred_proba: 0:00:00.343441\n",
      "Time for xgb_pred_proba: 0:00:25.080256\n",
      "Time for X_metafeature_test: 0:00:43.124767\n",
      "Time for write_to_submission_file: 0:00:00.929278\n"
     ]
    }
   ],
   "source": [
    "start_time = datetime.datetime.now() # фиксируем время для измерения времени этапа\n",
    "\n",
    "# делаем первый метапризнак на линейном алгоритме\n",
    "sgd_logit = SGDClassifier(loss='log', n_jobs=-1, class_weight='balanced', random_state=17)\n",
    "sgd_pred_proba = sgd_logit.fit(X_train, y_train).predict_proba(X_valid)[:, 1]\n",
    "print('Time for sgd_pred_proba:', datetime.datetime.now() - start_time) # время этапа\n",
    "\n",
    "# делаем второй метапризнак нв xgboost\n",
    "start_time = datetime.datetime.now() # фиксируем время для измерения времени этапа\n",
    "# инициализируем параметры\n",
    "params = {\n",
    "    'objective': 'binary:logistic',\n",
    "    'max_depth': 5,\n",
    "    'learning_rate': 0.5,\n",
    "    'silent': 1.0,\n",
    "    'n_estimators': 170\n",
    "}\n",
    "xgb_classifier = xgb.XGBClassifier(n_jobs=-1, random_state=17, **params)\n",
    "xgb_pred_proba = xgb_classifier.fit(X_train, y_train).predict_proba(X_valid)[:, 1]\n",
    "print('Time for xgb_pred_proba:', datetime.datetime.now() - start_time) # время этапа\n",
    "\n",
    "# соединяем вместе два сформированных метапризнака для обучающей выборки\n",
    "X_metafeature = np.hstack([sgd_pred_proba.reshape((-1, 1)), xgb_pred_proba.reshape((-1, 1))])\n",
    "\n",
    "# вычисляем метапризнаки на тестовой выборке\n",
    "start_time = datetime.datetime.now() # фиксируем время для измерения времени этапа\n",
    "X_metafeature_test = np.hstack([sgd_logit.fit(X_train_sparse_ohe_tfidf, \n",
    "                                              y_train_ohe).predict_proba(X_test_sparse_ohe_tfidf)[:, 1].reshape((-1, 1)), \n",
    "                                xgb_classifier.fit(X_train_sparse_ohe_tfidf, \n",
    "                                                   y_train_ohe).predict_proba(X_test_sparse_ohe_tfidf)[:, 1].reshape((-1, 1))])\n",
    "print('Time for X_metafeature_test:', datetime.datetime.now() - start_time) # время этапа\n",
    "\n",
    "# обучаем алгоритм на метапризнаках обучающей выборки\n",
    "start_time = datetime.datetime.now() # фиксируем время для измерения времени этапа\n",
    "meta_sgd_logit = SGDClassifier(loss='log', n_jobs=-1, class_weight='balanced', random_state=17)\n",
    "\n",
    "# делаем предсказание на метапризнаках тестовой выборки\n",
    "test_pred_proba = meta_sgd_logit.fit(X_metafeature, y_valid).predict_proba(X_metafeature_test)[:, 1]\n",
    "    \n",
    "# формируем посылку на Kaggle\n",
    "write_to_submission_file(test_pred_proba, os.path.join(PATH_TO_DATA, \n",
    "                                                       '[YDF & MIPT]_Coursera_allfeatures_OHE_bal_tfidf_meta2.csv'))\n",
    "print('Time for write_to_submission_file:', datetime.datetime.now() - start_time) # время этапа"
   ]
  },
  {
   "cell_type": "markdown",
   "metadata": {},
   "source": [
    "**Kaggle: 0.94739**    \n",
    "Неплохо, как мы и ожидали, результат **вырос** при **уменьшении глубины** деревьев, но все же по-прежнему немного **уступает** самому лучшему результату, полученному выше на **линейном** классификаторе **SGDCclassifier**.   \n",
    "Тем не менее опыт интересный.    \n",
    "Как известно, **xgboost** любит хорошую настройку. Возможно, при более тщательном подборе гиперпараметров в **xgboost**, например, с использованием библиотеки **hyperopt**, мы смогли бы добиться более высокого результата."
   ]
  },
  {
   "cell_type": "markdown",
   "metadata": {},
   "source": [
    "**РЕЗЮМЕ:**   \n",
    "Итак, финальный результат этой этой части проекта - **результат в [соревновании на Kaggle](https://www.kaggle.com/c/catch-me-if-you-can-intruder-detection-through-webpage-session-tracking2/leaderboard): 0.94773**.   \n",
    "На момент его получени это - **63-я** позиция на **Public Leaderboard**, команда в соревновании - **[YDF & MIPT] Dmitry Shereshevskiy**.   \n",
    "\n",
    "По результатам работы видно, что:\n",
    "- корректная **предобработка категориальных признаков** дает существенный прирост результата предсказания, и чем таких признаков **больше** - тем лучше\n",
    "- балансировка классов при их дисбалансе - **важна**\n",
    "- в этой задаче **линейные методы** показали результат лучше, чем деревья\n",
    "- можно **смешивать** разные алгоритмы и это тоже дает хороший результат"
   ]
  },
  {
   "cell_type": "markdown",
   "metadata": {},
   "source": [
    "# <center>Часть 6.  Vowpal Wabbit\n",
    "## <center>Введение\n",
    "В этой части мы применим популярную библиотеку **Vowpal Wabbit** и попробуем ее на данных соревнования. Перед этим поработаем с  [данными](http://scikit-learn.org/stable/datasets/twenty_newsgroups.html) Scikit-learn по новостям, сначала в режиме бинарной классификации, затем – в многоклассовом режиме. Затем будем классифицировать рецензии к фильмам с сайта IMDB. Наконец, применим Vowpal Wabbit к данным по веб-сессиям. Vowpal Wabbit - отличная библиотека!\n",
    "<img src='http://www.i.baraholka.com.ru/files/1/2/1273150.jpg'>\n",
    "\n",
    "**План 6 части:**\n",
    "- 6.1. Статья по Vowpal Wabbit\n",
    "- 6.2. Vowpal Wabbit в соревновании\n",
    " - Введение\n",
    " - 2.1. Функция для подготовки признаков из \"сырых\" данных\n",
    " - 2.2. Валидация по отложенной выборке\n",
    " - 2.3. Подбор гиперпараметров"
   ]
  },
  {
   "cell_type": "markdown",
   "metadata": {},
   "source": [
    "## <center>6.1. Статья про Vowpal Wabbit\n",
    "Краткая обзорная статья по Vowpal Wabbit на Хабре из серии открытого курса OpenDataScience по машинному обучению [здесь](https://habrahabr.ru/company/ods/blog/326418/). Можно скачать [ноутбук](https://github.com/Yorko/mlcourse_open/blob/master/jupyter_russian/topic08_sgd_hashing_vowpal_wabbit/topic8_sgd_hashing_vowpal_wabbit.ipynb), прилагаемый к статье, и попробовать на практике разобраться с Vowpal Wabbit."
   ]
  },
  {
   "cell_type": "markdown",
   "metadata": {},
   "source": [
    "## <center> 6.2. Vowpal Wabbit в соревновании"
   ]
  },
  {
   "cell_type": "markdown",
   "metadata": {},
   "source": [
    "### Загружаем данные"
   ]
  },
  {
   "cell_type": "markdown",
   "metadata": {},
   "source": [
    "Применим **Vowpal Wabbit** для получения результата в [соревновании](https://inclass.kaggle.com/c/catch-me-if-you-can-intruder-detection-through-webpage-session-tracking2), в котором мы участвовали в 5 части Проекта. Сравним полученный здесь результат с работой других классификаторов, с которыми мы работали в 5 части."
   ]
  },
  {
   "cell_type": "markdown",
   "metadata": {},
   "source": [
    "**Еще раз считаем данные [соревнования](https://inclass.kaggle.com/c/catch-me-if-you-can-intruder-detection-through-webpage-session-tracking2) в DataFrame train_df и test_df (обучающая и тестовая выборки).**"
   ]
  },
  {
   "cell_type": "code",
   "execution_count": 6,
   "metadata": {
    "collapsed": true
   },
   "outputs": [],
   "source": [
    "train_df = pd.read_csv(os.path.join(PATH_TO_DATA, 'train_sessions.csv'),\n",
    "                       index_col='session_id')\n",
    "test_df = pd.read_csv(os.path.join(PATH_TO_DATA, 'test_sessions.csv'),\n",
    "                      index_col='session_id')"
   ]
  },
  {
   "cell_type": "code",
   "execution_count": 7,
   "metadata": {},
   "outputs": [
    {
     "data": {
      "text/html": [
       "<div>\n",
       "<style>\n",
       "    .dataframe thead tr:only-child th {\n",
       "        text-align: right;\n",
       "    }\n",
       "\n",
       "    .dataframe thead th {\n",
       "        text-align: left;\n",
       "    }\n",
       "\n",
       "    .dataframe tbody tr th {\n",
       "        vertical-align: top;\n",
       "    }\n",
       "</style>\n",
       "<table border=\"1\" class=\"dataframe\">\n",
       "  <thead>\n",
       "    <tr style=\"text-align: right;\">\n",
       "      <th></th>\n",
       "      <th>site1</th>\n",
       "      <th>time1</th>\n",
       "      <th>site2</th>\n",
       "      <th>time2</th>\n",
       "      <th>site3</th>\n",
       "      <th>time3</th>\n",
       "      <th>site4</th>\n",
       "      <th>time4</th>\n",
       "      <th>site5</th>\n",
       "      <th>time5</th>\n",
       "      <th>...</th>\n",
       "      <th>time6</th>\n",
       "      <th>site7</th>\n",
       "      <th>time7</th>\n",
       "      <th>site8</th>\n",
       "      <th>time8</th>\n",
       "      <th>site9</th>\n",
       "      <th>time9</th>\n",
       "      <th>site10</th>\n",
       "      <th>time10</th>\n",
       "      <th>target</th>\n",
       "    </tr>\n",
       "    <tr>\n",
       "      <th>session_id</th>\n",
       "      <th></th>\n",
       "      <th></th>\n",
       "      <th></th>\n",
       "      <th></th>\n",
       "      <th></th>\n",
       "      <th></th>\n",
       "      <th></th>\n",
       "      <th></th>\n",
       "      <th></th>\n",
       "      <th></th>\n",
       "      <th></th>\n",
       "      <th></th>\n",
       "      <th></th>\n",
       "      <th></th>\n",
       "      <th></th>\n",
       "      <th></th>\n",
       "      <th></th>\n",
       "      <th></th>\n",
       "      <th></th>\n",
       "      <th></th>\n",
       "      <th></th>\n",
       "    </tr>\n",
       "  </thead>\n",
       "  <tbody>\n",
       "    <tr>\n",
       "      <th>1</th>\n",
       "      <td>718</td>\n",
       "      <td>2014-02-20 10:02:45</td>\n",
       "      <td>NaN</td>\n",
       "      <td>NaN</td>\n",
       "      <td>NaN</td>\n",
       "      <td>NaN</td>\n",
       "      <td>NaN</td>\n",
       "      <td>NaN</td>\n",
       "      <td>NaN</td>\n",
       "      <td>NaN</td>\n",
       "      <td>...</td>\n",
       "      <td>NaN</td>\n",
       "      <td>NaN</td>\n",
       "      <td>NaN</td>\n",
       "      <td>NaN</td>\n",
       "      <td>NaN</td>\n",
       "      <td>NaN</td>\n",
       "      <td>NaN</td>\n",
       "      <td>NaN</td>\n",
       "      <td>NaN</td>\n",
       "      <td>0</td>\n",
       "    </tr>\n",
       "    <tr>\n",
       "      <th>2</th>\n",
       "      <td>890</td>\n",
       "      <td>2014-02-22 11:19:50</td>\n",
       "      <td>941.0</td>\n",
       "      <td>2014-02-22 11:19:50</td>\n",
       "      <td>3847.0</td>\n",
       "      <td>2014-02-22 11:19:51</td>\n",
       "      <td>941.0</td>\n",
       "      <td>2014-02-22 11:19:51</td>\n",
       "      <td>942.0</td>\n",
       "      <td>2014-02-22 11:19:51</td>\n",
       "      <td>...</td>\n",
       "      <td>2014-02-22 11:19:51</td>\n",
       "      <td>3847.0</td>\n",
       "      <td>2014-02-22 11:19:52</td>\n",
       "      <td>3846.0</td>\n",
       "      <td>2014-02-22 11:19:52</td>\n",
       "      <td>1516.0</td>\n",
       "      <td>2014-02-22 11:20:15</td>\n",
       "      <td>1518.0</td>\n",
       "      <td>2014-02-22 11:20:16</td>\n",
       "      <td>0</td>\n",
       "    </tr>\n",
       "    <tr>\n",
       "      <th>3</th>\n",
       "      <td>14769</td>\n",
       "      <td>2013-12-16 16:40:17</td>\n",
       "      <td>39.0</td>\n",
       "      <td>2013-12-16 16:40:18</td>\n",
       "      <td>14768.0</td>\n",
       "      <td>2013-12-16 16:40:19</td>\n",
       "      <td>14769.0</td>\n",
       "      <td>2013-12-16 16:40:19</td>\n",
       "      <td>37.0</td>\n",
       "      <td>2013-12-16 16:40:19</td>\n",
       "      <td>...</td>\n",
       "      <td>2013-12-16 16:40:19</td>\n",
       "      <td>14768.0</td>\n",
       "      <td>2013-12-16 16:40:20</td>\n",
       "      <td>14768.0</td>\n",
       "      <td>2013-12-16 16:40:21</td>\n",
       "      <td>14768.0</td>\n",
       "      <td>2013-12-16 16:40:22</td>\n",
       "      <td>14768.0</td>\n",
       "      <td>2013-12-16 16:40:24</td>\n",
       "      <td>0</td>\n",
       "    </tr>\n",
       "    <tr>\n",
       "      <th>4</th>\n",
       "      <td>782</td>\n",
       "      <td>2014-03-28 10:52:12</td>\n",
       "      <td>782.0</td>\n",
       "      <td>2014-03-28 10:52:42</td>\n",
       "      <td>782.0</td>\n",
       "      <td>2014-03-28 10:53:12</td>\n",
       "      <td>782.0</td>\n",
       "      <td>2014-03-28 10:53:42</td>\n",
       "      <td>782.0</td>\n",
       "      <td>2014-03-28 10:54:12</td>\n",
       "      <td>...</td>\n",
       "      <td>2014-03-28 10:54:42</td>\n",
       "      <td>782.0</td>\n",
       "      <td>2014-03-28 10:55:12</td>\n",
       "      <td>782.0</td>\n",
       "      <td>2014-03-28 10:55:42</td>\n",
       "      <td>782.0</td>\n",
       "      <td>2014-03-28 10:56:12</td>\n",
       "      <td>782.0</td>\n",
       "      <td>2014-03-28 10:56:42</td>\n",
       "      <td>0</td>\n",
       "    </tr>\n",
       "    <tr>\n",
       "      <th>5</th>\n",
       "      <td>22</td>\n",
       "      <td>2014-02-28 10:53:05</td>\n",
       "      <td>177.0</td>\n",
       "      <td>2014-02-28 10:55:22</td>\n",
       "      <td>175.0</td>\n",
       "      <td>2014-02-28 10:55:22</td>\n",
       "      <td>178.0</td>\n",
       "      <td>2014-02-28 10:55:23</td>\n",
       "      <td>177.0</td>\n",
       "      <td>2014-02-28 10:55:23</td>\n",
       "      <td>...</td>\n",
       "      <td>2014-02-28 10:55:59</td>\n",
       "      <td>175.0</td>\n",
       "      <td>2014-02-28 10:55:59</td>\n",
       "      <td>177.0</td>\n",
       "      <td>2014-02-28 10:55:59</td>\n",
       "      <td>177.0</td>\n",
       "      <td>2014-02-28 10:57:06</td>\n",
       "      <td>178.0</td>\n",
       "      <td>2014-02-28 10:57:11</td>\n",
       "      <td>0</td>\n",
       "    </tr>\n",
       "  </tbody>\n",
       "</table>\n",
       "<p>5 rows × 21 columns</p>\n",
       "</div>"
      ],
      "text/plain": [
       "            site1                time1  site2                time2    site3  \\\n",
       "session_id                                                                    \n",
       "1             718  2014-02-20 10:02:45    NaN                  NaN      NaN   \n",
       "2             890  2014-02-22 11:19:50  941.0  2014-02-22 11:19:50   3847.0   \n",
       "3           14769  2013-12-16 16:40:17   39.0  2013-12-16 16:40:18  14768.0   \n",
       "4             782  2014-03-28 10:52:12  782.0  2014-03-28 10:52:42    782.0   \n",
       "5              22  2014-02-28 10:53:05  177.0  2014-02-28 10:55:22    175.0   \n",
       "\n",
       "                          time3    site4                time4  site5  \\\n",
       "session_id                                                             \n",
       "1                           NaN      NaN                  NaN    NaN   \n",
       "2           2014-02-22 11:19:51    941.0  2014-02-22 11:19:51  942.0   \n",
       "3           2013-12-16 16:40:19  14769.0  2013-12-16 16:40:19   37.0   \n",
       "4           2014-03-28 10:53:12    782.0  2014-03-28 10:53:42  782.0   \n",
       "5           2014-02-28 10:55:22    178.0  2014-02-28 10:55:23  177.0   \n",
       "\n",
       "                          time5  ...                  time6    site7  \\\n",
       "session_id                       ...                                   \n",
       "1                           NaN  ...                    NaN      NaN   \n",
       "2           2014-02-22 11:19:51  ...    2014-02-22 11:19:51   3847.0   \n",
       "3           2013-12-16 16:40:19  ...    2013-12-16 16:40:19  14768.0   \n",
       "4           2014-03-28 10:54:12  ...    2014-03-28 10:54:42    782.0   \n",
       "5           2014-02-28 10:55:23  ...    2014-02-28 10:55:59    175.0   \n",
       "\n",
       "                          time7    site8                time8    site9  \\\n",
       "session_id                                                               \n",
       "1                           NaN      NaN                  NaN      NaN   \n",
       "2           2014-02-22 11:19:52   3846.0  2014-02-22 11:19:52   1516.0   \n",
       "3           2013-12-16 16:40:20  14768.0  2013-12-16 16:40:21  14768.0   \n",
       "4           2014-03-28 10:55:12    782.0  2014-03-28 10:55:42    782.0   \n",
       "5           2014-02-28 10:55:59    177.0  2014-02-28 10:55:59    177.0   \n",
       "\n",
       "                          time9   site10               time10 target  \n",
       "session_id                                                            \n",
       "1                           NaN      NaN                  NaN      0  \n",
       "2           2014-02-22 11:20:15   1518.0  2014-02-22 11:20:16      0  \n",
       "3           2013-12-16 16:40:22  14768.0  2013-12-16 16:40:24      0  \n",
       "4           2014-03-28 10:56:12    782.0  2014-03-28 10:56:42      0  \n",
       "5           2014-02-28 10:57:06    178.0  2014-02-28 10:57:11      0  \n",
       "\n",
       "[5 rows x 21 columns]"
      ]
     },
     "execution_count": 7,
     "metadata": {},
     "output_type": "execute_result"
    }
   ],
   "source": [
    "train_df.head()"
   ]
  },
  {
   "cell_type": "markdown",
   "metadata": {},
   "source": [
    "Отметим, что для работы с Vowpal Wabbit благодаря **хешированию** объединять обучающую и тестовую выборки нам нет необходимости."
   ]
  },
  {
   "cell_type": "markdown",
   "metadata": {},
   "source": [
    "### <center> 6.2.1. Функция для подготовки признаков из \"сырых\" данных"
   ]
  },
  {
   "cell_type": "markdown",
   "metadata": {},
   "source": [
    "Сделаем функцию, формирующую из загруженных выше \"сырых\" данных признаки, которые мы впоследствии преобразуем к **формату для Vowpal Wabbit**.    \n",
    "За основу возьмем уже протестированную в 5 части функцию. \n",
    "\n",
    "На вход она будет принимать \"сырой\" датафрейм с данными, а на выходе должен быть датафрейм с признаками и целевой вектор `y`, адапрированный по Vowpal Wabbit, то есть принимающий зачения [-1, 1]. Пропуски заменим на 0."
   ]
  },
  {
   "cell_type": "code",
   "execution_count": 9,
   "metadata": {
    "collapsed": true
   },
   "outputs": [],
   "source": [
    "def feature_engineering_df_vw(train_df, test=False, features=None):\n",
    "    '''\n",
    "    features = ['#unique_sites', 'session_timespan', 'start_hour', 'day_of_week', 'time_of_day', 'weekend']\n",
    "    '''\n",
    "    if features is None:\n",
    "        features = ['#unique_sites', 'session_timespan', 'start_hour', 'day_of_week', 'time_of_day', 'weekend']\n",
    "    \n",
    "    df = train_df\n",
    "    if test:\n",
    "        df['target'] = 1\n",
    "    else:\n",
    "        df['target'] = df['target'].map({1:1, 0:-1})\n",
    "    \n",
    "    \n",
    "    # подготовим временнЫе метки\n",
    "    df[['time%d' % i for i in range(1, 11)]] = df[['time%d' % i for i in range(1, 11)]].applymap(pd.to_datetime)\n",
    "    timestamp_df = df[['time%d' % i for i in range(1, 11)]].applymap(lambda x: pd.datetime.timestamp(x) \n",
    "                                                                  if type(x) == pd._libs.tslib.Timestamp else np.nan)\n",
    "    # добавляем признаки\n",
    "    if '#unique_sites' in features:\n",
    "        df['#unique_sites'] = df[['site' + str(i) for i in range(1, 11)]].nunique(axis=1, dropna=True)\n",
    "    if 'session_timespan' in features:\n",
    "        df['session_timespan'] = timestamp_df.max(axis=1, skipna=True) - timestamp_df.min(axis=1, skipna=True)\n",
    "        df['session_timespan'] = df['session_timespan'].apply(lambda x: int(x // 30) if x < 210 else 7)\n",
    "    if 'start_hour' in features:    \n",
    "        df['start_hour'] = df['time1'].apply(lambda x: x.hour)\n",
    "    if 'day_of_week' in features:    \n",
    "        df['day_of_week'] = df['time1'].apply(lambda x: x.weekday())\n",
    "    if 'time_of_day' in features:    \n",
    "        # время суток (06-12 - утро(1), 12-19 - день(2), 19-24 - вечер(3), 00-06 - ночь(4))\n",
    "        df['time_of_day'] = df['time1'].apply(lambda x:  1 if x.hour >  6 and x.hour <= 12 else \n",
    "                                                                     2 if x.hour > 12 and x.hour <= 19 else\n",
    "                                                                     3 if x.hour > 19 and x.hour <= 24 else \n",
    "                                                                     4)\n",
    "    if 'weekend' in features:\n",
    "        # индикатор уикэнда в день начала сессии\n",
    "        df['weekend'] = df['time1'].apply(lambda x: 1 if x.weekday() in [5, 6] else 0)\n",
    "        \n",
    "    col = ['site%d' % i for i in range(1, 11)] + features\n",
    "    \n",
    "    return (df[col].fillna(0).astype(int), df['target'].values.astype(int)) if not test else df[col].fillna(0).astype(int)"
   ]
  },
  {
   "cell_type": "markdown",
   "metadata": {},
   "source": [
    "Применим функцию к обучающей и тестовой выборкам."
   ]
  },
  {
   "cell_type": "code",
   "execution_count": 13,
   "metadata": {},
   "outputs": [
    {
     "name": "stdout",
     "output_type": "stream",
     "text": [
      "Wall time: 4min 47s\n"
     ]
    }
   ],
   "source": [
    "%%time\n",
    "train_for_vw, y_for_vw = feature_engineering_df_vw(train_df)"
   ]
  },
  {
   "cell_type": "code",
   "execution_count": 14,
   "metadata": {},
   "outputs": [
    {
     "name": "stdout",
     "output_type": "stream",
     "text": [
      "Wall time: 1min 34s\n"
     ]
    }
   ],
   "source": [
    "%%time\n",
    "test_for_vw = feature_engineering_df_vw(test_df, test=True)"
   ]
  },
  {
   "cell_type": "code",
   "execution_count": 15,
   "metadata": {},
   "outputs": [
    {
     "data": {
      "text/html": [
       "<div>\n",
       "<style>\n",
       "    .dataframe thead tr:only-child th {\n",
       "        text-align: right;\n",
       "    }\n",
       "\n",
       "    .dataframe thead th {\n",
       "        text-align: left;\n",
       "    }\n",
       "\n",
       "    .dataframe tbody tr th {\n",
       "        vertical-align: top;\n",
       "    }\n",
       "</style>\n",
       "<table border=\"1\" class=\"dataframe\">\n",
       "  <thead>\n",
       "    <tr style=\"text-align: right;\">\n",
       "      <th></th>\n",
       "      <th>site1</th>\n",
       "      <th>site2</th>\n",
       "      <th>site3</th>\n",
       "      <th>site4</th>\n",
       "      <th>site5</th>\n",
       "      <th>site6</th>\n",
       "      <th>site7</th>\n",
       "      <th>site8</th>\n",
       "      <th>site9</th>\n",
       "      <th>site10</th>\n",
       "      <th>#unique_sites</th>\n",
       "      <th>session_timespan</th>\n",
       "      <th>start_hour</th>\n",
       "      <th>day_of_week</th>\n",
       "      <th>time_of_day</th>\n",
       "      <th>weekend</th>\n",
       "    </tr>\n",
       "    <tr>\n",
       "      <th>session_id</th>\n",
       "      <th></th>\n",
       "      <th></th>\n",
       "      <th></th>\n",
       "      <th></th>\n",
       "      <th></th>\n",
       "      <th></th>\n",
       "      <th></th>\n",
       "      <th></th>\n",
       "      <th></th>\n",
       "      <th></th>\n",
       "      <th></th>\n",
       "      <th></th>\n",
       "      <th></th>\n",
       "      <th></th>\n",
       "      <th></th>\n",
       "      <th></th>\n",
       "    </tr>\n",
       "  </thead>\n",
       "  <tbody>\n",
       "    <tr>\n",
       "      <th>1</th>\n",
       "      <td>718</td>\n",
       "      <td>0</td>\n",
       "      <td>0</td>\n",
       "      <td>0</td>\n",
       "      <td>0</td>\n",
       "      <td>0</td>\n",
       "      <td>0</td>\n",
       "      <td>0</td>\n",
       "      <td>0</td>\n",
       "      <td>0</td>\n",
       "      <td>1</td>\n",
       "      <td>0</td>\n",
       "      <td>10</td>\n",
       "      <td>3</td>\n",
       "      <td>1</td>\n",
       "      <td>0</td>\n",
       "    </tr>\n",
       "    <tr>\n",
       "      <th>2</th>\n",
       "      <td>890</td>\n",
       "      <td>941</td>\n",
       "      <td>3847</td>\n",
       "      <td>941</td>\n",
       "      <td>942</td>\n",
       "      <td>3846</td>\n",
       "      <td>3847</td>\n",
       "      <td>3846</td>\n",
       "      <td>1516</td>\n",
       "      <td>1518</td>\n",
       "      <td>7</td>\n",
       "      <td>0</td>\n",
       "      <td>11</td>\n",
       "      <td>5</td>\n",
       "      <td>1</td>\n",
       "      <td>1</td>\n",
       "    </tr>\n",
       "    <tr>\n",
       "      <th>3</th>\n",
       "      <td>14769</td>\n",
       "      <td>39</td>\n",
       "      <td>14768</td>\n",
       "      <td>14769</td>\n",
       "      <td>37</td>\n",
       "      <td>39</td>\n",
       "      <td>14768</td>\n",
       "      <td>14768</td>\n",
       "      <td>14768</td>\n",
       "      <td>14768</td>\n",
       "      <td>4</td>\n",
       "      <td>0</td>\n",
       "      <td>16</td>\n",
       "      <td>0</td>\n",
       "      <td>2</td>\n",
       "      <td>0</td>\n",
       "    </tr>\n",
       "    <tr>\n",
       "      <th>4</th>\n",
       "      <td>782</td>\n",
       "      <td>782</td>\n",
       "      <td>782</td>\n",
       "      <td>782</td>\n",
       "      <td>782</td>\n",
       "      <td>782</td>\n",
       "      <td>782</td>\n",
       "      <td>782</td>\n",
       "      <td>782</td>\n",
       "      <td>782</td>\n",
       "      <td>1</td>\n",
       "      <td>7</td>\n",
       "      <td>10</td>\n",
       "      <td>4</td>\n",
       "      <td>1</td>\n",
       "      <td>0</td>\n",
       "    </tr>\n",
       "    <tr>\n",
       "      <th>5</th>\n",
       "      <td>22</td>\n",
       "      <td>177</td>\n",
       "      <td>175</td>\n",
       "      <td>178</td>\n",
       "      <td>177</td>\n",
       "      <td>178</td>\n",
       "      <td>175</td>\n",
       "      <td>177</td>\n",
       "      <td>177</td>\n",
       "      <td>178</td>\n",
       "      <td>4</td>\n",
       "      <td>7</td>\n",
       "      <td>10</td>\n",
       "      <td>4</td>\n",
       "      <td>1</td>\n",
       "      <td>0</td>\n",
       "    </tr>\n",
       "  </tbody>\n",
       "</table>\n",
       "</div>"
      ],
      "text/plain": [
       "            site1  site2  site3  site4  site5  site6  site7  site8  site9  \\\n",
       "session_id                                                                  \n",
       "1             718      0      0      0      0      0      0      0      0   \n",
       "2             890    941   3847    941    942   3846   3847   3846   1516   \n",
       "3           14769     39  14768  14769     37     39  14768  14768  14768   \n",
       "4             782    782    782    782    782    782    782    782    782   \n",
       "5              22    177    175    178    177    178    175    177    177   \n",
       "\n",
       "            site10  #unique_sites  session_timespan  start_hour  day_of_week  \\\n",
       "session_id                                                                     \n",
       "1                0              1                 0          10            3   \n",
       "2             1518              7                 0          11            5   \n",
       "3            14768              4                 0          16            0   \n",
       "4              782              1                 7          10            4   \n",
       "5              178              4                 7          10            4   \n",
       "\n",
       "            time_of_day  weekend  \n",
       "session_id                        \n",
       "1                     1        0  \n",
       "2                     1        1  \n",
       "3                     2        0  \n",
       "4                     1        0  \n",
       "5                     1        0  "
      ]
     },
     "execution_count": 15,
     "metadata": {},
     "output_type": "execute_result"
    }
   ],
   "source": [
    "train_for_vw.head()"
   ]
  },
  {
   "cell_type": "markdown",
   "metadata": {},
   "source": [
    "Реализуем функцию, **`dataframe_to_vw`**, переводящую обучающую или тестовую выборку в формат **Vowpal Wabbit.**\n",
    "\n",
    "Вход:\n",
    " - df – датафрейм `DataFrame` (обучающая выборка)\n",
    " - y (необяз.) - вектор ответов (`NumPy`). Необязателен, поскольку тестовую матрицу будем обрабатывать этой же функцией\n",
    " - out_file – путь к файлу .vw, в который будет произведена запись\n",
    " \n",
    "Детали:\n",
    "- надо пройтись по всем строкам датафрейма `df` и записать через пробел все значения, предварительно добавив вперед нужную метку класса из вектора `y` и знак-разделитель `|`\n",
    "- в тестовой выборке на месте меток целевого класса можно писать произвольные, допустим, 1"
   ]
  },
  {
   "cell_type": "code",
   "execution_count": 21,
   "metadata": {
    "collapsed": true
   },
   "outputs": [],
   "source": [
    "def dataframe_to_vw(df, y=None, out_file=os.path.join(PATH_TO_DATA,'tmp.vw')):\n",
    "    df = df.astype(str)\n",
    "    sites = ['site%d' % i for i in range(1, 11)]\n",
    "    if y is None:\n",
    "        y = ['1'] * df.shape[0]\n",
    "    with open(out_file, 'w') as vw_data:\n",
    "        for (_, row), target in zip(df.iterrows(), y):\n",
    "            sample = str(target) + \\\n",
    "                    ' |a_sites ' + ' '.join([row[site] for site in sites if row[site] != '0']) + \\\n",
    "                    ''.join([' |' + col + ' ' + row[col] for col in row.index if col not in sites]) + \\\n",
    "                    '\\n'\n",
    "            vw_data.write(sample)\n",
    "    pass"
   ]
  },
  {
   "cell_type": "markdown",
   "metadata": {},
   "source": [
    "### <center> 6.2.2. Валидация по отложенной выборке"
   ]
  },
  {
   "cell_type": "markdown",
   "metadata": {},
   "source": [
    "Выделим обучающую (70%) и отложенную (30%) части исходной обучающей выборки. Данные не перемешиваем, учитываем, что сессии отсортированы по времени."
   ]
  },
  {
   "cell_type": "code",
   "execution_count": 19,
   "metadata": {
    "collapsed": true
   },
   "outputs": [],
   "source": [
    "train_share = int(.7 * train_for_vw.shape[0])\n",
    "train_for_vw_part = train_for_vw.iloc[:train_share, :]\n",
    "valid_for_vw = train_for_vw.iloc[train_share:, :]"
   ]
  },
  {
   "cell_type": "code",
   "execution_count": 20,
   "metadata": {
    "collapsed": true
   },
   "outputs": [],
   "source": [
    "y_train_part_for_vw = y_for_vw[:train_share]\n",
    "y_valid_for_vw = y_for_vw[train_share:]"
   ]
  },
  {
   "cell_type": "markdown",
   "metadata": {},
   "source": [
    "Сохраним вектор целевого признака для **валидации**, это может потребоваться в дальнейшем при подборе параметров."
   ]
  },
  {
   "cell_type": "code",
   "execution_count": 22,
   "metadata": {
    "collapsed": true
   },
   "outputs": [],
   "source": [
    "np.save(os.path.join(PATH_TO_DATA,'vw_y_valid_for_vw.npy'), y_valid_for_vw)"
   ]
  },
  {
   "cell_type": "markdown",
   "metadata": {},
   "source": [
    "#### Применим написанную функцию к части обучащей выборки (train_df_part, y_train_part_for_vw), к отложенной выборке (valid_df, y_valid_for_vw), ко всей обучающей выборке и ко всей тестовой выборке - всего 4 вызова."
   ]
  },
  {
   "cell_type": "code",
   "execution_count": 43,
   "metadata": {},
   "outputs": [
    {
     "name": "stdout",
     "output_type": "stream",
     "text": [
      "Wall time: 5min 4s\n"
     ]
    }
   ],
   "source": [
    "%%time\n",
    "dataframe_to_vw(train_for_vw_part, y_train_part_for_vw, out_file=os.path.join(PATH_TO_DATA,'vw_train_part.vw'))\n",
    "dataframe_to_vw(valid_for_vw, y_valid_for_vw, out_file=os.path.join(PATH_TO_DATA,'vw_valid_part.vw'))\n",
    "dataframe_to_vw(train_for_vw, y_for_vw, out_file=os.path.join(PATH_TO_DATA,'vw_train.vw'))\n",
    "dataframe_to_vw(test_for_vw, out_file=os.path.join(PATH_TO_DATA,'vw_test.vw'))"
   ]
  },
  {
   "cell_type": "markdown",
   "metadata": {},
   "source": [
    "Проверим:"
   ]
  },
  {
   "cell_type": "code",
   "execution_count": 44,
   "metadata": {},
   "outputs": [
    {
     "name": "stdout",
     "output_type": "stream",
     "text": [
      "-1 |a_sites 3000 32 33 35 3000 5302 23 21 5302 21 |#unique_sites 7 |session_timespan 3 |start_hour 13 |day_of_week 2 |time_of_day 2 |weekend 0\n",
      "-1 |a_sites 21 39 676 812 23 679 570 814 21 39 |#unique_sites 8 |session_timespan 1 |start_hour 11 |day_of_week 1 |time_of_day 1 |weekend 0\n",
      "-1 |a_sites 786 786 782 782 782 786 786 782 782 782 |#unique_sites 2 |session_timespan 1 |start_hour 8 |day_of_week 3 |time_of_day 1 |weekend 0\n"
     ]
    }
   ],
   "source": [
    "!head -3 $PATH_TO_DATA/vw_valid_part.vw"
   ]
  },
  {
   "cell_type": "markdown",
   "metadata": {},
   "source": [
    "**Обучим модель Vowpal Wabbit на выборке `vw_train_part.vw`. Укажем, что решается задача бинарной классификации (`--binary`), сделаем 3 прохода по выборке (`--passes`). Поскольку для вычисления `roc_auc` нам потребуются вероятности, то функцию потерь (параметр `--loss_function`) возьмем `logistic`. Зададим некоторый кэш-файл (флаг `-c`), так VW будет быстрее делать все следующие после первого проходы по выборке (прошлый кэш-файл удалим с помощью аргумента `-k`). Также укажите значение параметра `b`=26. Это число бит, используемых для хэширования, попробуем больше, чем 18 по умолчанию. Укажите `random_seed`=17. Остальные параметры пока оставим по умолчанию. Далее, возможно, имеет смысл попробовать другие функции потерь.**"
   ]
  },
  {
   "cell_type": "code",
   "execution_count": 45,
   "metadata": {},
   "outputs": [
    {
     "name": "stdout",
     "output_type": "stream",
     "text": [
      "Wall time: 3.29 s\n"
     ]
    },
    {
     "name": "stderr",
     "output_type": "stream",
     "text": [
      "final_regressor = data/vw_model_bin1.vw\n",
      "Num weight bits = 26\n",
      "learning rate = 0.5\n",
      "initial_t = 0\n",
      "power_t = 0.5\n",
      "decay_learning_rate = 1\n",
      "creating cache_file = data/vw_train_part.vw.cache\n",
      "Reading datafile = data/vw_train_part.vw\n",
      "num sources = 1\n",
      "average  since         example        example  current  current  current\n",
      "loss     last          counter         weight    label  predict features\n",
      "0.000000 0.000000            1            1.0  -1.0000  -1.0000        8\n",
      "0.000000 0.000000            2            2.0  -1.0000  -1.0000       17\n",
      "0.000000 0.000000            4            4.0  -1.0000  -1.0000       17\n",
      "0.000000 0.000000            8            8.0  -1.0000  -1.0000       17\n",
      "0.000000 0.000000           16           16.0  -1.0000  -1.0000       17\n",
      "0.000000 0.000000           32           32.0  -1.0000  -1.0000       17\n",
      "0.000000 0.000000           64           64.0  -1.0000  -1.0000       17\n",
      "0.000000 0.000000          128          128.0  -1.0000  -1.0000       17\n",
      "0.003906 0.007813          256          256.0  -1.0000  -1.0000       17\n",
      "0.003906 0.003906          512          512.0  -1.0000  -1.0000       17\n",
      "0.006836 0.009766         1024         1024.0  -1.0000  -1.0000       17\n",
      "0.005859 0.004883         2048         2048.0  -1.0000  -1.0000       17\n",
      "0.007080 0.008301         4096         4096.0  -1.0000  -1.0000       17\n",
      "0.008667 0.010254         8192         8192.0  -1.0000  -1.0000       17\n",
      "0.008484 0.008301        16384        16384.0  -1.0000  -1.0000       17\n",
      "0.009216 0.009949        32768        32768.0  -1.0000  -1.0000       17\n",
      "0.008286 0.007355        65536        65536.0  -1.0000  -1.0000       17\n",
      "0.007729 0.007172       131072       131072.0  -1.0000  -1.0000       17\n",
      "0.007347 0.007347       262144       262144.0  -1.0000  -1.0000       17 h\n",
      "\n",
      "finished run\n",
      "number of examples per pass = 159743\n",
      "passes used = 3\n",
      "weighted example sum = 479229.000000\n",
      "weighted label sum = -470517.000000\n",
      "average loss = 0.006874 h\n",
      "best constant = -4.691493\n",
      "best constant's loss = 0.051775\n",
      "total feature number = 7914627\n"
     ]
    }
   ],
   "source": [
    "%%time\n",
    "!vw --binary -d $PATH_TO_DATA/vw_train_part.vw --passes 3 -c -k --loss_function logistic \\\n",
    "-f $PATH_TO_DATA/vw_model_bin1.vw -b 26 --random_seed 17"
   ]
  },
  {
   "cell_type": "markdown",
   "metadata": {},
   "source": [
    "Сделаем предсказание и запишем прогнозы в **`vw_bin_train_part1.vw`**"
   ]
  },
  {
   "cell_type": "code",
   "execution_count": 46,
   "metadata": {},
   "outputs": [
    {
     "name": "stdout",
     "output_type": "stream",
     "text": [
      "Wall time: 764 ms\n"
     ]
    },
    {
     "name": "stderr",
     "output_type": "stream",
     "text": [
      "only testing\n",
      "predictions = data/vw_valid_bin_pred1.csv\n",
      "Num weight bits = 26\n",
      "learning rate = 0.5\n",
      "initial_t = 0\n",
      "power_t = 0.5\n",
      "using no cache\n",
      "Reading datafile = data/vw_valid_part.vw\n",
      "num sources = 1\n",
      "average  since         example        example  current  current  current\n",
      "loss     last          counter         weight    label  predict features\n",
      "9.543870 9.543870            1            1.0  -1.0000  -4.0893       17\n",
      "125.824303 242.104736            2            2.0  -1.0000 -16.5597       17\n",
      "168.263796 210.703289            4            4.0  -1.0000 -12.0331       17\n",
      "159.823450 151.383103            8            8.0  -1.0000 -11.2454       17\n",
      "130.448373 101.073297           16           16.0  -1.0000 -11.2036       17\n",
      "140.540938 150.633502           32           32.0  -1.0000  -7.7768       17\n",
      "140.709853 140.878769           64           64.0  -1.0000 -10.0703       12\n",
      "141.077516 141.445178          128          128.0  -1.0000 -11.6037       17\n",
      "160.197752 179.317989          256          256.0  -1.0000 -20.5312       17\n",
      "171.764806 183.331860          512          512.0  -1.0000 -17.7864       17\n",
      "169.899550 168.034294         1024         1024.0  -1.0000 -22.6130       17\n",
      "169.889586 169.879622         2048         2048.0  -1.0000 -21.2035       17\n",
      "169.891023 169.892461         4096         4096.0  -1.0000  -6.1336       17\n",
      "170.296363 170.701702         8192         8192.0  -1.0000 -12.0736       17\n",
      "170.964194 171.632025        16384        16384.0  -1.0000 -18.1700       17\n",
      "168.732449 166.500705        32768        32768.0  -1.0000 -12.9648       17\n",
      "168.568497 168.404545        65536        65536.0  -1.0000 -12.9090       17\n",
      "\n",
      "finished run\n",
      "number of examples per pass = 76069\n",
      "passes used = 1\n",
      "weighted example sum = 76069.000000\n",
      "weighted label sum = -74685.000000\n",
      "average loss = 169.053846\n",
      "best constant = -0.981806\n",
      "best constant's loss = 0.036057\n",
      "total feature number = 1256496\n"
     ]
    }
   ],
   "source": [
    "%%time\n",
    "!vw -t -i $PATH_TO_DATA/vw_model_bin1.vw \\\n",
    "-d $PATH_TO_DATA/vw_valid_part.vw \\\n",
    "-p $PATH_TO_DATA/vw_valid_bin_pred1.csv --random_seed 17"
   ]
  },
  {
   "cell_type": "markdown",
   "metadata": {},
   "source": [
    "Считаем предсказания и посчитаем **roc_auc**"
   ]
  },
  {
   "cell_type": "code",
   "execution_count": 47,
   "metadata": {
    "collapsed": true
   },
   "outputs": [],
   "source": [
    "vw_valid_bin_pred1 = np.loadtxt(os.path.join(PATH_TO_DATA,'vw_valid_bin_pred1.csv'))"
   ]
  },
  {
   "cell_type": "code",
   "execution_count": 49,
   "metadata": {},
   "outputs": [
    {
     "data": {
      "text/plain": [
       "0.98484476413398214"
      ]
     },
     "execution_count": 49,
     "metadata": {},
     "output_type": "execute_result"
    }
   ],
   "source": [
    "roc_auc_score(y_valid_for_vw, vw_valid_bin_pred1)"
   ]
  },
  {
   "cell_type": "markdown",
   "metadata": {},
   "source": [
    "Сделаем посылку на **Kaggle** по результатам работы **Vowpal Wabbit**."
   ]
  },
  {
   "cell_type": "code",
   "execution_count": 90,
   "metadata": {
    "collapsed": true
   },
   "outputs": [],
   "source": [
    "# function for Kaggle submission\n",
    "def write_to_submission_file(predicted_labels, out_file,\n",
    "                             target='target', index_label=\"session_id\"):\n",
    "    # turn predictions into data frame and save as csv file\n",
    "    predicted_df = pd.DataFrame(predicted_labels,\n",
    "                                index = np.arange(1, predicted_labels.shape[0] + 1),\n",
    "                                columns=[target])\n",
    "    predicted_df.to_csv(out_file, index_label=index_label)"
   ]
  },
  {
   "cell_type": "code",
   "execution_count": 336,
   "metadata": {},
   "outputs": [
    {
     "name": "stdout",
     "output_type": "stream",
     "text": [
      "Wall time: 7.56 s\n"
     ]
    }
   ],
   "source": [
    "%%time\n",
    "# ПОСЫЛКА НА Kaggle\n",
    "\n",
    "# обучем на всей обучающей выборке\n",
    "!vw --binary -d $PATH_TO_DATA/vw_train.vw --passes 3 -c -k --loss_function logistic \\\n",
    "-f $PATH_TO_DATA/vw_model_bin_train_all1.vw -b 26 --random_seed 17 --quiet\n",
    "\n",
    "# предсказываем на тесте\n",
    "!vw -t -i $PATH_TO_DATA/vw_model_bin_train_all1.vw \\\n",
    "-d $PATH_TO_DATA/vw_test.vw \\\n",
    "-p $PATH_TO_DATA/vw_test_bin_pred1.csv --random_seed 17 --quiet\n",
    "\n",
    "# считываем предсказания\n",
    "vw_test_bin_pred1 = np.loadtxt(os.path.join(PATH_TO_DATA,'vw_test_bin_pred1.csv'))\n",
    "\n",
    "# формируем файл посылки на Kaggle\n",
    "write_to_submission_file(vw_test_bin_pred1, os.path.join(PATH_TO_DATA, '[YDF & MIPT]_Coursera_vw_logistic1.csv'))"
   ]
  },
  {
   "cell_type": "markdown",
   "metadata": {},
   "source": [
    "**Kaggle: 0.94275**.    \n",
    "Результат получился неплохой. А если учесть **небольшое** время работы алгоритма - то плюсы очевидны!"
   ]
  },
  {
   "cell_type": "markdown",
   "metadata": {},
   "source": [
    "### <center> 6.2.3. Подбор гиперпараметров"
   ]
  },
  {
   "cell_type": "markdown",
   "metadata": {},
   "source": [
    "### 1 этап: Делаем подбор некоторых параметров вручную"
   ]
  },
  {
   "cell_type": "markdown",
   "metadata": {},
   "source": [
    "Для удобства скомпануем код **более компактно**, сформировав некий **блок валидации** для **тестирования** некоторых параметров, вывод текущей информации тоже уберем."
   ]
  },
  {
   "cell_type": "code",
   "execution_count": 3,
   "metadata": {
    "collapsed": true
   },
   "outputs": [],
   "source": [
    "# при необходимости считаем вектор ответов для валидации\n",
    "y_valid_for_vw = np.load(os.path.join(PATH_TO_DATA,'vw_y_valid_for_vw.npy'))"
   ]
  },
  {
   "cell_type": "code",
   "execution_count": 10,
   "metadata": {},
   "outputs": [
    {
     "name": "stdout",
     "output_type": "stream",
     "text": [
      "roc_auc: 0.987711989314\n",
      "Wall time: 9.56 s\n"
     ]
    }
   ],
   "source": [
    "%%time\n",
    "# БЛОК ВАЛИДАЦИИ\n",
    "\n",
    "# обучение на train_part\n",
    "!vw --binary -d $PATH_TO_DATA/vw_train_part.vw --passes 9 -c -k --loss_function logistic \\\n",
    "-f $PATH_TO_DATA/vw_model_bin_tmp.vw -b 26 --random_seed 17 --quiet -q as\n",
    "\n",
    "# предсказание на valid_part\n",
    "!vw -t -i $PATH_TO_DATA/vw_model_bin_tmp.vw \\\n",
    "-d $PATH_TO_DATA/vw_valid_part.vw \\\n",
    "-p $PATH_TO_DATA/vw_valid_bin_pred_tmp.csv --random_seed 17 --quiet\n",
    "\n",
    "# считаем предсказания и вычислим roc_auc\n",
    "vw_valid_bin_pred_tmp = np.loadtxt(os.path.join(PATH_TO_DATA,'vw_valid_bin_pred_tmp.csv'))\n",
    "print('roc_auc:', roc_auc_score(y_valid_for_vw, vw_valid_bin_pred_tmp))"
   ]
  },
  {
   "cell_type": "markdown",
   "metadata": {},
   "source": [
    "Пробуем вручную параметры:\n",
    "- **--passes**: улучшение при повышении до 9, далее изменения уже не видны.\n",
    "- **--loss_function**: **hinge** дает результат не очень хороший, оставляем **logistic**\n",
    "- **-b** 28 сильно **перегружает** ресурсы и особенно память, а результат не увеличивает. Оставляем **26**\n",
    "- **--ngram**: улучшения нет\n",
    "- **-q**: as - немного улучшило\n",
    "\n",
    "На этом ручной подбор в считаем исчерпаным, далее будем подбирать с помощью библиотеки **hyperopt**."
   ]
  },
  {
   "cell_type": "markdown",
   "metadata": {},
   "source": [
    "### 2 этап: подбор гиперпараметров с помощью модуля `hyperopt`"
   ]
  },
  {
   "cell_type": "markdown",
   "metadata": {},
   "source": [
    "Импортируем нужные элементы библиотеки **hyperopt**"
   ]
  },
  {
   "cell_type": "code",
   "execution_count": 4,
   "metadata": {
    "collapsed": true
   },
   "outputs": [],
   "source": [
    "from hyperopt import fmin, tpe, hp, STATUS_OK, Trials"
   ]
  },
  {
   "cell_type": "code",
   "execution_count": 94,
   "metadata": {},
   "outputs": [
    {
     "name": "stdout",
     "output_type": "stream",
     "text": [
      "Wall time: 23min 9s\n"
     ]
    }
   ],
   "source": [
    "%%time\n",
    "def hyperopt_objective(params):\n",
    "    # обучение на train_part\n",
    "    !vw --binary -d $PATH_TO_DATA/vw_train_part.vw --passes 9 -c -k --loss_function logistic \\\n",
    "    -f $PATH_TO_DATA/vw_model_bin_tmp.vw -b 26 --random_seed 17 --quiet -q as \\\n",
    "    --learning_rate { } \\\n",
    "    --power_t {params['power_t']} \\\n",
    "    --initial_t {params['initial_t']} \\\n",
    "    --l1 {params['l1']} \\\n",
    "    --l2 {params['l2']}\n",
    "    \n",
    "    # предсказание на valid_part\n",
    "    !vw -t -i $PATH_TO_DATA/vw_model_bin_tmp.vw \\\n",
    "    -d $PATH_TO_DATA/vw_valid_part.vw \\\n",
    "    -p $PATH_TO_DATA/vw_valid_bin_pred_tmp.csv --random_seed 17 --quiet\n",
    "      \n",
    "    # scoring roc_auc\n",
    "    vw_valid_bin_pred_tmp = np.loadtxt(os.path.join(PATH_TO_DATA,'vw_valid_bin_pred_tmp.csv'))\n",
    "    roc_auc_scoring = roc_auc_score(y_valid_for_vw, vw_valid_bin_pred_tmp)\n",
    "    \n",
    "    return 1 - roc_auc_scoring\n",
    "\n",
    "# задаем диапазоны подбора параметров\n",
    "params_space = {\n",
    "    'learning_rate': hp.uniform('learning_rate', 0., 2.0), # default = 0.5\n",
    "    'power_t': hp.uniform('power_t', 0., 2.0), # default = 0.5\n",
    "    'initial_t': hp.loguniform('initial_t', -100, 1), # default = 0\n",
    "    'l1': hp.loguniform('l1', -100, -10), # default = 0\n",
    "    'l2': hp.loguniform('l2', -100, -10) # default = 0\n",
    "                }\n",
    "\n",
    "# запускаем подбор\n",
    "trials = Trials()\n",
    "\n",
    "best_params = fmin(\n",
    "    hyperopt_objective,\n",
    "    space=params_space,\n",
    "    algo=tpe.suggest,\n",
    "    max_evals=100,\n",
    "    trials=trials\n",
    ")"
   ]
  },
  {
   "cell_type": "code",
   "execution_count": 95,
   "metadata": {},
   "outputs": [
    {
     "data": {
      "text/plain": [
       "{'initial_t': 1.1505114803794776e-29,\n",
       " 'l1': 1.8335143745961346e-31,\n",
       " 'l2': 8.016379503987476e-29,\n",
       " 'learning_rate': 0.42659194007671675,\n",
       " 'power_t': 0.3974167436688515}"
      ]
     },
     "execution_count": 95,
     "metadata": {},
     "output_type": "execute_result"
    }
   ],
   "source": [
    "best_params"
   ]
  },
  {
   "cell_type": "markdown",
   "metadata": {},
   "source": [
    "Проверим подобранные параметры на отложенной выборке:"
   ]
  },
  {
   "cell_type": "code",
   "execution_count": 96,
   "metadata": {},
   "outputs": [
    {
     "name": "stdout",
     "output_type": "stream",
     "text": [
      "roc_auc: 0.988443332364\n",
      "Wall time: 19.1 s\n"
     ]
    }
   ],
   "source": [
    "%%time\n",
    "# БЛОК ВАЛИДАЦИИ\n",
    "\n",
    "# обучение на train_part\n",
    "!vw --binary -d $PATH_TO_DATA/vw_train_part.vw --passes 9 -c -k --loss_function logistic \\\n",
    "-f $PATH_TO_DATA/vw_model_bin_tmp.vw -b 26 --random_seed 17 --quiet -q as \\\n",
    "--learning_rate {best_params['learning_rate']} \\\n",
    "--power_t {best_params['power_t']} \\\n",
    "--initial_t {best_params['initial_t']} \\\n",
    "--l1 {best_params['l1']} \\\n",
    "--l2 {best_params['l2']}\n",
    "\n",
    "# предсказание на valid_part\n",
    "!vw -t -i $PATH_TO_DATA/vw_model_bin_tmp.vw \\\n",
    "-d $PATH_TO_DATA/vw_valid_part.vw \\\n",
    "-p $PATH_TO_DATA/vw_valid_bin_pred_tmp.csv --quiet\n",
    "\n",
    "# считаем предсказания и вычислим roc_auc\n",
    "vw_valid_bin_pred_tmp = np.loadtxt(os.path.join(PATH_TO_DATA,'vw_valid_bin_pred_tmp.csv'))\n",
    "print('roc_auc:', roc_auc_score(y_valid_for_vw, vw_valid_bin_pred_tmp))"
   ]
  },
  {
   "cell_type": "markdown",
   "metadata": {},
   "source": [
    "Как и ожидалось, подбор параметров дал свой результат и метрика **roc_auc** на **валидации** заметно выросла.    \n",
    "\n",
    "Сделаем обучение/предсказание на **всей** обучающей выборке и сделаем посылку на **Kaggle**. Практика показывает, что улучшение метрики на валидации не всегда приводит к улучшению метрики на **Kaggle**."
   ]
  },
  {
   "cell_type": "code",
   "execution_count": 97,
   "metadata": {},
   "outputs": [
    {
     "name": "stdout",
     "output_type": "stream",
     "text": [
      "Wall time: 22.2 s\n"
     ]
    }
   ],
   "source": [
    "%%time\n",
    "# ПОСЫЛКА НА Kaggle\n",
    "\n",
    "# обучем на всей обучающей выборке\n",
    "!vw --binary -d $PATH_TO_DATA/vw_train.vw --passes 9 -c -k --loss_function logistic \\\n",
    "-f $PATH_TO_DATA/vw_model_bin_train_param.vw -b 26 --random_seed 17 --quiet -q as \\\n",
    "--learning_rate {best_params['learning_rate']} \\\n",
    "--power_t {best_params['power_t']} \\\n",
    "--initial_t {best_params['initial_t']} \\\n",
    "--l1 {best_params['l1']} \\\n",
    "--l2 {best_params['l2']}\n",
    "\n",
    "# предсказываем на тесте\n",
    "!vw -t -i $PATH_TO_DATA/vw_model_bin_train_param.vw \\\n",
    "-d $PATH_TO_DATA/vw_test.vw \\\n",
    "-p $PATH_TO_DATA/vw_model_bin_train_param_pred.csv --quiet\n",
    "\n",
    "# считываем предсказания\n",
    "vw_model_bin_train_param_pred = np.loadtxt(os.path.join(PATH_TO_DATA,'vw_model_bin_train_param_pred.csv'))\n",
    "\n",
    "# формируем файл посылки на Kaggle\n",
    "write_to_submission_file(vw_model_bin_train_param_pred, os.path.join(PATH_TO_DATA, \n",
    "                                                                     '[YDF & MIPT]_Coursera_vw_logistic_hyperopt2.csv'))"
   ]
  },
  {
   "cell_type": "markdown",
   "metadata": {},
   "source": [
    "**Kaggle:** 0.93547"
   ]
  },
  {
   "cell_type": "markdown",
   "metadata": {},
   "source": [
    "Как мы увидели, результат на **Kaggle** не увеличился, даже немного уменьшился. Так иногда бывает. Возможно, это связано с особенностями тестовой выборки по сравнению с валидационной.\n",
    "\n",
    "**РЕЗЮМЕ:**   \n",
    "- **Vowpal Wabbit** - достаточно эффективная и быстрая библиотека\n",
    "- **hyperopt** - удобный модуль для подбора гиперпараметров"
   ]
  },
  {
   "cell_type": "markdown",
   "metadata": {},
   "source": [
    "# <center>Часть 7.  Выводы"
   ]
  },
  {
   "cell_type": "markdown",
   "metadata": {},
   "source": [
    "**План 7 части:**\n",
    "- 7.1. Оценка модели с описанием выбранной метрики\n",
    "- 7.2. Применение на практике\n",
    "- В заключение"
   ]
  },
  {
   "cell_type": "markdown",
   "metadata": {},
   "source": [
    "## <center>7.1. Оценка модели с описанием выбранной метрики\n",
    "\n",
    "В ходе выполнения настоящего Проекта была разработана модель идентификации пользователя в сети интернет по его поведению. Как уже отмечалось, это сложная и интересная задача **на стыке анализа данных и поведенческой психологии**. Выявляя особенности поведения конкретного пользователя - как, в каком порядке, с какими временными интервалам, когда и т.д. - мы можем отличить одного пользователя от другого. В этом Проекте мы настраивали модели и признаки таким образом, чтобы делать это автоматически.\n",
    "\n",
    "Для оценки модели и сравнения алгоритмов друг с другом необходимо использовать какую-либо метрику, численно характеризующую качество идентификации. Особенностью данных этого проекта является сильная несбалансированность выборки по целевому признаку при бинарной классификации. В этих условиях использовать в качестве метрики долю правильных ответов - **accuracy** - было бы непоказательно. Поэтому в качестве метрики была выбрана площадь под ROC-кривой - **roc_auc**, которая в такой ситуации достаточно адекватно характеризует качество алгоритма.\n",
    "\n",
    "В данной задаче идентификации, как и в большинстве задач **Data Science**, огромную роль играет предобработка данных и построение признаков. В данной модели была использована модель **\"мешок слов\"** с последующим кодированием в частотные или **Tf-idf** векторы. Это уже дает неплохие результаты на валидации и в соревновании на **Kaggle**. Однако корректное добавление дополнительных признаков значительно улучшает качество модели. В данном проекте дополнительные признаки конструировались из временн**_ы_**х меток, соответствующих данным. Хотелось бы отметить, что то, как мы учитываем дополнительную информацию в признаках, сильно влияет на результат. В частности, опыт этого проекта еще раз показал, что нужно хорошо отличать числовые признаки от категориальных. Некоторые признаки внешне могут выглядеть как числовые, в то время как по сути являться категориальными, что объективно подтвеждает метрика при идентификации на отложенной выборке. В данном проекте особенно нагляден в этом мысле признак **session_timespan** (продолжительность сессии). Являясь по форме числовым, и даже с некоторым отношением порядка внутри признака, тем не менее он дает значительно более высокий результат, когда мы его разбиваем на интервалы и учитываем как **категориальный**, в то время как без этого результат, наоборот, ухудшается.\n",
    "\n",
    "В данном проекте использовались и сравнивались несколько алгоритмов классификации и их реализации, а именно:\n",
    "- линейные:\n",
    "    - SGDClassifier\n",
    "    - LogisticRegression\n",
    "    - LinearSVC\n",
    "    - Vowpal Wabbit\n",
    "- не являющиеся линейными:\n",
    "    - RandomForest\n",
    "    - XGBoost\n",
    "    - KNeighborsClassifier\n",
    "- смешивание SGDClassifier и XGBoost\n",
    "\n",
    "Как и ожидалось, линейные алгоритмы справились с задачей лучше и быстрее остальных. При этом наибольшее значение метрики показал **SGDClassifier**, а наиболее быстрым, при сравнимом качестве, стал **Vowpal Wabbit**. Отметим, что хорошее качество также показало **смешивание** алгоритмов SGDClassifier и XGBoost."
   ]
  },
  {
   "cell_type": "markdown",
   "metadata": {},
   "source": [
    "## <center>7.2. Применение на практике\n",
    "\n",
    "Задача идентификации пользователя в интернете, решаемае в настоящем проекте, может имет важное практическое значение.   \n",
    "Сейчас роль интернета в деловой жизни общества все более повышается. Множество услуг уходит в интернет, люди пользуются своими аккаунтами, через которые получают услуги. А качество услуги во многом зависит от **безопасности**, которую может обеспечить провайдер услуги, насколько эффективно он может противодействовать взлому аккаунтов своих пользователей. И вот мы уже пришли к задаче идентификации в интернете. Это может быть идентификация пользователей:\n",
    "- почтовых аккаунтов\n",
    "- аккаунтов при банковском онлайн-обслуживании\n",
    "- пользователи соцсетей\n",
    "- пользователи других онлайн-сервисов.\n",
    "Все это - задачи, аналогичные той, которая решалась в ходе данного Проекта. Для разных сервисов могут быть свои особенности при построении признаков или учете каких-то еще особенностей работы этих сервисов. В зависимости от ситуации, это может быть бинарная или многоклассовая классификация.\n",
    "\n",
    "### В заключение\n",
    "Хотелось бы отметить, что в целом работой над проектом удовлетворен, было протестировано **несколько алгоритмов**, освоена работа с пакетом **Vowpal Wabbit**, имующем уже хорошее практическое применение. Были прокачены навыки **подбора гиперпараметров**, в том числе с применением более продвинутой библиотеки **hyperopt**. Улучшены умения построения признаков из \"сырых\" данных, исследованы разные варианты построения признаков. Освоены и улучшены навыки работы с **вменн_ы_ми** данными и соответствующими библиотеками.\n",
    "\n",
    "Для проработки на дальнейшее остались, возможно: \n",
    "- освоение более качественного подбора гиперпараметров для алгоритмов. \n",
    "- А также, как всегда, нет предела творчеству и совершенству в предобработке данных и построению дополнительных признаков."
   ]
  }
 ],
 "metadata": {
  "anaconda-cloud": {},
  "kernelspec": {
   "display_name": "Python 3",
   "language": "python",
   "name": "python3"
  },
  "language_info": {
   "codemirror_mode": {
    "name": "ipython",
    "version": 3
   },
   "file_extension": ".py",
   "mimetype": "text/x-python",
   "name": "python",
   "nbconvert_exporter": "python",
   "pygments_lexer": "ipython3",
   "version": "3.6.3"
  }
 },
 "nbformat": 4,
 "nbformat_minor": 1
}
