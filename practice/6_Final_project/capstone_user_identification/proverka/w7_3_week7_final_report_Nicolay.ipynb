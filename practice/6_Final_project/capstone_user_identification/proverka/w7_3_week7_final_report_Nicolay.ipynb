{
 "cells": [
  {
   "cell_type": "markdown",
   "metadata": {},
   "source": [
    "# Задача идентификации пользователя по посещенным веб-страницам"
   ]
  },
  {
   "cell_type": "markdown",
   "metadata": {},
   "source": [
    "### 1. Постановка задачи"
   ]
  },
  {
   "cell_type": "markdown",
   "metadata": {},
   "source": [
    "В интернете каждый пользователь ведет себя по-разному. Некоторые пользователи в начале дня посещают информационные и новостные ресурсы, другие сразу принимаются за работу и только вечером посещают развлекательные ресурсы, третьи используют интернет в основном для общения и обмена медиа-информацией.\n",
    "\n",
    "Даже при работе с одним ресурсом, поведение пользователей довольно сильно отличается. Таким образом кажется возможным по поведению пользователя в сети определять типично ли оно для определенного пользователя или нет.\n",
    "\n",
    "Задача представляет особый интерес в рамках доступа к песональным данным, банковским счетам, рабочим документам. Отслеживая поведение пользователя в сети или на конкретном ресурсе, и обнаружив отклонение от тичиного, владельцы ресурса получают возможность связаться с пользователем для уточнения, или просто заставить пользователя ответить на контрольные вопросы, чтобы убедиться, что именно этот пользователь использует ресурс.\n",
    "\n",
    "<b>Цель: По цепочке посещенных ресурсов (веб-страниц) как можно точнее отвечать на вопрос принадлежит ли эта цепочка отслеживаемому пользователю или нет.</b>"
   ]
  },
  {
   "cell_type": "markdown",
   "metadata": {},
   "source": [
    "### 2. Исходные данные"
   ]
  },
  {
   "cell_type": "markdown",
   "metadata": {},
   "source": [
    "Для анализа будем использовать данные, полученные с прокси-серверов Университета Блеза Паскаля. Они имеют очень простой вид. Для каждого пользователя заведен csv-файл с названием user\\*\\*\\*\\*.csv (где вместо звездочек – 4 цифры, соответствующие ID пользователя), а в нем посещения сайтов записаны в следующем формате:"
   ]
  },
  {
   "cell_type": "markdown",
   "metadata": {},
   "source": [
    "<center><i>timestamp, посещенный веб-сайт</i></center>"
   ]
  },
  {
   "cell_type": "markdown",
   "metadata": {},
   "source": [
    "Для анализа нам доступно приблизительно ~ 1500 файлов с сессиями разных пользователей."
   ]
  },
  {
   "cell_type": "markdown",
   "metadata": {},
   "source": [
    "### 3. Первичный анализ данных и предобработка"
   ]
  },
  {
   "cell_type": "code",
   "execution_count": 1,
   "metadata": {
    "collapsed": true
   },
   "outputs": [],
   "source": [
    "from glob import glob\n",
    "import numpy as np\n",
    "import os\n",
    "import pandas as pd\n",
    "import re\n",
    "import seaborn as sns\n",
    "\n",
    "from sklearn.model_selection import train_test_split, cross_val_score, StratifiedKFold, GridSearchCV\n",
    "from sklearn.linear_model import LogisticRegression\n",
    "from sklearn.neighbors import KNeighborsClassifier\n",
    "from sklearn.ensemble import RandomForestClassifier\n",
    "from sklearn.linear_model import SGDClassifier\n",
    "from sklearn.metrics import accuracy_score\n",
    "\n",
    "from scipy.sparse import csr_matrix, hstack\n",
    "\n",
    "from matplotlib import pyplot as plt\n",
    "%matplotlib inline\n",
    "\n",
    "pd.options.mode.chained_assignment = None"
   ]
  },
  {
   "cell_type": "markdown",
   "metadata": {},
   "source": [
    "Посмотрим на содержимое файлов:"
   ]
  },
  {
   "cell_type": "code",
   "execution_count": 2,
   "metadata": {
    "collapsed": true
   },
   "outputs": [],
   "source": [
    "PATH_TO_DATA = '/Users/ngorovoy/Python/Coursera/Course6/10data/'"
   ]
  },
  {
   "cell_type": "code",
   "execution_count": 3,
   "metadata": {},
   "outputs": [
    {
     "name": "stdout",
     "output_type": "stream",
     "text": [
      "timestamp,site\r\n",
      "2013-11-15 08:01:09,www.google.fr\r\n",
      "2013-11-15 08:01:10,www.google.fr\r\n",
      "2013-11-15 08:01:11,apis.google.com\r\n",
      "2013-11-15 08:01:12,www.google.com\r\n"
     ]
    }
   ],
   "source": [
    "!head -5 $PATH_TO_DATA/user0006.csv"
   ]
  },
  {
   "cell_type": "markdown",
   "metadata": {},
   "source": [
    "Для подготовки к анализу данных введем понятие сессии. <b>Сессией будем считать некоторый упорядоченный набор посещенных пользователем веб-страниц с указанием времени посещения</b>. При этом не будем пока накладывать ограничения на длину сессии как по количеству посещений так и по длительности. В будущем попытаемся использовать эти ограничения как дополнительные параметры для обучения.\n",
    "\n",
    "Определим вспомогательные функции чтения данных из файлов:"
   ]
  },
  {
   "cell_type": "code",
   "execution_count": 4,
   "metadata": {},
   "outputs": [],
   "source": [
    "# Возвращает идентификатор пользователя по пути до файла\n",
    "def get_user_id_from_filename(filename):\n",
    "    m = re.search('^user(\\d+).csv$', os.path.split(filename)[-1])\n",
    "    return int(m.group(1))\n",
    "\n",
    "# Читает файл в dataframe\n",
    "def read_datafeame_from_file(filename):\n",
    "    return pd.read_csv(filename)\n",
    "\n",
    "# Возвращает список файлов заданной директории\n",
    "def get_files_in_directory(directory, pattern = 'user*.csv'):\n",
    "    return glob(os.path.join(directory, pattern))"
   ]
  },
  {
   "cell_type": "markdown",
   "metadata": {},
   "source": [
    "Каждому сайту из выборки поставим в соответствие идентификатор. При этом идентификатор тем меньше, чем чаще сайт встречается в выборке. Словарь будет иметь вид: {id: (site, frequency}, ...}"
   ]
  },
  {
   "cell_type": "code",
   "execution_count": 5,
   "metadata": {
    "collapsed": true
   },
   "outputs": [],
   "source": [
    "# Строит словарь частот встречаемости сайтов\n",
    "def build_sites_frequency(directory):\n",
    "    sites_frequency = {}\n",
    "    for filename in get_files_in_directory(directory):\n",
    "        dataframe = read_datafeame_from_file(filename)\n",
    "        for site in dataframe['site']:\n",
    "            if not site in sites_frequency:\n",
    "                sites_frequency[site] = 0\n",
    "            sites_frequency[site] += 1\n",
    "            \n",
    "    frequency_list = [(k, v) for k, v in sites_frequency.iteritems()]\n",
    "    sorted_frequency = sorted(frequency_list, key = lambda x: x[1], reverse = True)\n",
    "    \n",
    "    result = {}\n",
    "    for idx, row in enumerate(sorted_frequency):\n",
    "        result[row[0]] = (idx + 1, row[1])\n",
    "    \n",
    "    return result"
   ]
  },
  {
   "cell_type": "code",
   "execution_count": 21,
   "metadata": {},
   "outputs": [],
   "source": [
    "frequency = build_sites_frequency(PATH_TO_DATA)"
   ]
  },
  {
   "cell_type": "markdown",
   "metadata": {},
   "source": [
    "Определим функции, собирающие данные в сесcии"
   ]
  },
  {
   "cell_type": "code",
   "execution_count": 6,
   "metadata": {},
   "outputs": [],
   "source": [
    "# Построение сессий пользователей по количеству сайтов в сессии\n",
    "def build_sessions_by_size(directory, frequency, size = 10, offset = 10):\n",
    "    rows = []\n",
    "    \n",
    "    for filename in get_files_in_directory(directory):\n",
    "        user_id = get_user_id_from_filename(filename)\n",
    "        dataframe = read_datafeame_from_file(filename)\n",
    "        \n",
    "        sites_row = []\n",
    "        timestamps_row = []\n",
    "        \n",
    "        for _, row in dataframe.iterrows():\n",
    "            sites_row.append(frequency[row['site']][0])\n",
    "            timestamps_row.append(row['timestamp'])\n",
    "            \n",
    "            if len(sites_row) == size:\n",
    "                row = sites_row + timestamps_row + [user_id]\n",
    "                rows.append(row)\n",
    "\n",
    "                sites_row = sites_row[size - (size - offset):]\n",
    "                timestamps_row = timestamps_row[size - (size - offset):]\n",
    "            \n",
    "        while len(sites_row):\n",
    "            fake_sites = sites_row + [0] * (size - len(sites_row))\n",
    "            fake_timestamps = timestamps_row + [''] * (size - len(timestamps_row))\n",
    "            row = fake_sites + fake_timestamps + [user_id]\n",
    "            rows.append(row)\n",
    "            \n",
    "            sites_row = sites_row[size - (size - offset):]\n",
    "            timestamps_row = timestamps_row[size - (size - offset):]\n",
    "            \n",
    "    site_columns = ['site_' + str(x) for x in range(1, size + 1)]\n",
    "    timestamp_columns = ['timestamp_' + str(x) for x in range(1, size + 1)]\n",
    "    columns = site_columns + timestamp_columns + ['user_id']\n",
    "    \n",
    "    return pd.DataFrame(data = rows, columns = columns)"
   ]
  },
  {
   "cell_type": "code",
   "execution_count": 7,
   "metadata": {},
   "outputs": [],
   "source": [
    "# Построение сессий пользователей по продолжительности сессии\n",
    "def build_sessions_by_timespan(directory, frequency, length = 30 * 60):\n",
    "    rows = []\n",
    "    max_length = 0\n",
    "    for filename in get_files_in_directory(directory):\n",
    "        user_id = get_user_id_from_filename(filename)\n",
    "        dataframe = read_datafeame_from_file(filename)\n",
    "        dataframe['timestamp'] = pd.to_datetime(dataframe['timestamp'])\n",
    "        \n",
    "        sites = []\n",
    "        timestamps = []\n",
    "        start_time = False\n",
    "        for idx, row in dataframe.iterrows():\n",
    "            if not start_time:\n",
    "                start_time = row['timestamp']\n",
    "                sites.append(frequency[row['site']][0])\n",
    "                timestamps.append(row['timestamp'])\n",
    "                continue\n",
    "            \n",
    "            current_time = row['timestamp']\n",
    "            if (current_time - start_time).seconds > length:\n",
    "                rows.append((sites, timestamps, user_id))\n",
    "                if max_length < len(sites):\n",
    "                    max_length = len(sites)\n",
    "                sites = []\n",
    "                timestamps = []\n",
    "                start_time = current_time\n",
    "                \n",
    "            sites.append(frequency[row['site']][0])\n",
    "            timestamps.append(row['timestamp'])\n",
    "        \n",
    "        rows.append((sites, timestamps, user_id))\n",
    "        if max_length < len(sites):\n",
    "            max_length = len(sites)\n",
    "        \n",
    "    data = []\n",
    "    for row in rows:\n",
    "        sites = row[0] + [0] * (max_length - len(row[0]))\n",
    "        timestamps = row[1] + [''] * (max_length - len(row[1]))\n",
    "        data.append(sites + timestamps + [row[2]])\n",
    "    \n",
    "    site_columns = ['site_' + str(x) for x in range(1, max_length + 1)]\n",
    "    timestamp_columns = ['timestamp_' + str(x) for x in range(1, max_length + 1)]\n",
    "    columns = site_columns + timestamp_columns + ['user_id']\n",
    "    \n",
    "    return pd.DataFrame(data = data, columns = columns)"
   ]
  },
  {
   "cell_type": "markdown",
   "metadata": {},
   "source": [
    "Для дальнейшей работы построим два dataframe'a по-умолчанию: один с ограничением на длину сессии по количеству посещений ресурсов в ней, второй с ограничением длины сессии в 30 секунд."
   ]
  },
  {
   "cell_type": "code",
   "execution_count": 22,
   "metadata": {},
   "outputs": [],
   "source": [
    "sessions_length_10_10 = build_sessions_by_size(PATH_TO_DATA, frequency)\n",
    "sessions_time_30 = build_sessions_by_timespan(PATH_TO_DATA, frequency, 30)"
   ]
  },
  {
   "cell_type": "markdown",
   "metadata": {},
   "source": [
    "### 4. Первое решение задачи"
   ]
  },
  {
   "cell_type": "markdown",
   "metadata": {},
   "source": [
    "Данные в подготовленном выше виде не подходят для обработки алгоритмами машинного обучения. Нам необходимо перевести данные в вид, понятный таким алгоритмам. Попробуем переработать посещенные пользователями сайты в Compressed Sparse Row matrix и уже на полученных данных выполнить первую классификацию."
   ]
  },
  {
   "cell_type": "code",
   "execution_count": 8,
   "metadata": {},
   "outputs": [],
   "source": [
    "# Возвращает размерность по количеству сайтов в dataframe\n",
    "def get_sites_count(dataframe):\n",
    "    result = 0\n",
    "    for row_name in dataframe:\n",
    "        m = re.search('^site_(\\d+)$', row_name)\n",
    "        if m and int(m.group(1)) > result:\n",
    "            result = int(m.group(1))\n",
    "    return result"
   ]
  },
  {
   "cell_type": "code",
   "execution_count": 9,
   "metadata": {
    "collapsed": true
   },
   "outputs": [],
   "source": [
    "# Возвращает Compressed Sparse Row matrix на основании переданного dataframe\n",
    "def get_csr_matrix(dataframe):\n",
    "    data = []\n",
    "    row = []\n",
    "    col = []\n",
    "\n",
    "    for i, session in enumerate(dataframe):\n",
    "        for site in session:\n",
    "            site = int(site)\n",
    "            if site == 0:\n",
    "                continue\n",
    "\n",
    "            data.append(1)\n",
    "            row.append(i)\n",
    "            col.append(site - 1)\n",
    "    \n",
    "    return csr_matrix((data, (row, col)))"
   ]
  },
  {
   "cell_type": "markdown",
   "metadata": {},
   "source": [
    "Построим csr_matrix для данных на основании длины сессии"
   ]
  },
  {
   "cell_type": "code",
   "execution_count": 155,
   "metadata": {},
   "outputs": [],
   "source": [
    "s_l_10_10_sites = sessions_length_10_10[['site_%d' % i for i in range(1, get_sites_count(sessions_length_10_10) + 1)]]\n",
    "s_l_10_10_csr = get_csr_matrix(s_l_10_10_sites.values)"
   ]
  },
  {
   "cell_type": "markdown",
   "metadata": {},
   "source": [
    "Теперь построим csr_matrix для данных на основании продолжительности сессии"
   ]
  },
  {
   "cell_type": "code",
   "execution_count": 156,
   "metadata": {
    "collapsed": true
   },
   "outputs": [],
   "source": [
    "s_t_30_sites = sessions_time_30[['site_%d' % i for i in range(1, get_sites_count(sessions_time_30) + 1)]]\n",
    "s_t_30_csr = get_csr_matrix(s_t_30_sites.values)"
   ]
  },
  {
   "cell_type": "markdown",
   "metadata": {},
   "source": [
    "Проверим, что при разрежении мы получили одинаковую размерность по количеству столбцов"
   ]
  },
  {
   "cell_type": "code",
   "execution_count": 157,
   "metadata": {},
   "outputs": [
    {
     "data": {
      "text/plain": [
       "'4319 == 4319'"
      ]
     },
     "execution_count": 157,
     "metadata": {},
     "output_type": "execute_result"
    }
   ],
   "source": [
    "'{} == {}'.format(s_l_10_10_csr.shape[1], s_t_30_csr.shape[1])"
   ]
  },
  {
   "cell_type": "markdown",
   "metadata": {},
   "source": [
    "Создадим dataframe'ы с ответами:"
   ]
  },
  {
   "cell_type": "code",
   "execution_count": 158,
   "metadata": {
    "collapsed": true
   },
   "outputs": [],
   "source": [
    "y_l_10_10 = sessions_length_10_10['user_id']\n",
    "y_t_30 = sessions_time_30['user_id']"
   ]
  },
  {
   "cell_type": "markdown",
   "metadata": {},
   "source": [
    "Для анализа качества обучения будем использовать кросс-валидацию:"
   ]
  },
  {
   "cell_type": "code",
   "execution_count": 11,
   "metadata": {
    "collapsed": true
   },
   "outputs": [],
   "source": [
    "skf = StratifiedKFold(n_splits=3, shuffle=False, random_state=17)"
   ]
  },
  {
   "cell_type": "markdown",
   "metadata": {},
   "source": [
    "Разделим данные в выборках на train и test:"
   ]
  },
  {
   "cell_type": "code",
   "execution_count": 24,
   "metadata": {
    "collapsed": true
   },
   "outputs": [],
   "source": [
    "X_train_l_10_10, X_test_l_10_10, y_train_l_l0_10, y_test_l_10_10 = train_test_split(\n",
    "    s_l_10_10_sites,\n",
    "    y_l_10_10,\n",
    "    test_size = 0.3, \n",
    "    random_state = 17,\n",
    "    stratify = y_l_10_10\n",
    ")"
   ]
  },
  {
   "cell_type": "code",
   "execution_count": 25,
   "metadata": {
    "collapsed": true
   },
   "outputs": [],
   "source": [
    "X_train_t_30, X_test_t_30, y_train_t_30, y_test_t_30 = train_test_split(\n",
    "    s_t_30_sites,\n",
    "    y_t_30,\n",
    "    test_size = 0.3, \n",
    "    random_state = 17,\n",
    "    stratify = y_t_30\n",
    ")"
   ]
  },
  {
   "cell_type": "markdown",
   "metadata": {},
   "source": [
    "Обучим несколько классификаторов на получившихся входных данных и проверим качество обучения:"
   ]
  },
  {
   "cell_type": "code",
   "execution_count": 10,
   "metadata": {
    "collapsed": true
   },
   "outputs": [],
   "source": [
    "knn = KNeighborsClassifier(n_neighbors = 100, n_jobs = -1)"
   ]
  },
  {
   "cell_type": "code",
   "execution_count": 13,
   "metadata": {
    "collapsed": true
   },
   "outputs": [],
   "source": [
    "l_acc = cross_val_score(knn, X_train_l_10_10, y_train_l_l0_10, cv = skf).mean()\n",
    "t_acc = cross_val_score(knn, X_train_t_30, y_train_t_30, cv = skf).mean()"
   ]
  },
  {
   "cell_type": "code",
   "execution_count": 27,
   "metadata": {},
   "outputs": [
    {
     "name": "stdout",
     "output_type": "stream",
     "text": [
      "l = 0.294365145575, t = 0.352637344466\n"
     ]
    }
   ],
   "source": [
    "print('l = {}, t = {}'.format(l_acc, t_acc))"
   ]
  },
  {
   "cell_type": "code",
   "execution_count": 11,
   "metadata": {
    "collapsed": true
   },
   "outputs": [],
   "source": [
    "rfc = RandomForestClassifier(n_estimators = 100, random_state = 17, oob_score = True, n_jobs = -1)"
   ]
  },
  {
   "cell_type": "code",
   "execution_count": 14,
   "metadata": {
    "collapsed": true
   },
   "outputs": [],
   "source": [
    "l_acc = cross_val_score(rfc, X_train_l_10_10, y_train_l_l0_10, cv = skf).mean()\n",
    "t_acc = cross_val_score(rfc, X_train_t_30, y_train_t_30, cv = skf).mean()"
   ]
  },
  {
   "cell_type": "code",
   "execution_count": 29,
   "metadata": {},
   "outputs": [
    {
     "name": "stdout",
     "output_type": "stream",
     "text": [
      "l = 0.537933433743, t = 0.507755932047\n"
     ]
    }
   ],
   "source": [
    "print('l = {}, t = {}'.format(l_acc, t_acc))"
   ]
  },
  {
   "cell_type": "code",
   "execution_count": 12,
   "metadata": {
    "collapsed": true
   },
   "outputs": [],
   "source": [
    "lr = LogisticRegression(random_state = 17, n_jobs = -1)"
   ]
  },
  {
   "cell_type": "code",
   "execution_count": 15,
   "metadata": {},
   "outputs": [],
   "source": [
    "l_acc = cross_val_score(lr, X_train_l_10_10, y_train_l_l0_10, cv = skf).mean()\n",
    "t_acc = cross_val_score(lr, X_train_t_30, y_train_t_30, cv = skf).mean()"
   ]
  },
  {
   "cell_type": "code",
   "execution_count": 31,
   "metadata": {},
   "outputs": [
    {
     "name": "stdout",
     "output_type": "stream",
     "text": [
      "l = 0.22145894417, t = 0.198821116635\n"
     ]
    }
   ],
   "source": [
    "print('l = {}, t = {}'.format(l_acc, t_acc))"
   ]
  },
  {
   "cell_type": "markdown",
   "metadata": {},
   "source": [
    "Проверим качество обучения на отложенной выборке:"
   ]
  },
  {
   "cell_type": "code",
   "execution_count": 32,
   "metadata": {},
   "outputs": [
    {
     "data": {
      "text/plain": [
       "0.2880449317999465"
      ]
     },
     "execution_count": 32,
     "metadata": {},
     "output_type": "execute_result"
    }
   ],
   "source": [
    "knn.fit(X_train_l_10_10, y_train_l_l0_10).score(X_test_l_10_10, y_test_l_10_10)"
   ]
  },
  {
   "cell_type": "code",
   "execution_count": 33,
   "metadata": {},
   "outputs": [
    {
     "data": {
      "text/plain": [
       "0.56539181599358113"
      ]
     },
     "execution_count": 33,
     "metadata": {},
     "output_type": "execute_result"
    }
   ],
   "source": [
    "rfc.fit(X_train_l_10_10, y_train_l_l0_10).score(X_test_l_10_10, y_test_l_10_10)"
   ]
  },
  {
   "cell_type": "code",
   "execution_count": 34,
   "metadata": {},
   "outputs": [
    {
     "data": {
      "text/plain": [
       "0.22225193902112864"
      ]
     },
     "execution_count": 34,
     "metadata": {},
     "output_type": "execute_result"
    }
   ],
   "source": [
    "lr.fit(X_train_l_10_10, y_train_l_l0_10).score(X_test_l_10_10, y_test_l_10_10)"
   ]
  },
  {
   "cell_type": "markdown",
   "metadata": {},
   "source": [
    "### 5. Переход к  tf-idf"
   ]
  },
  {
   "cell_type": "markdown",
   "metadata": {},
   "source": [
    "Первоначальный подход к построению матрицы для решения показывает сколько раз пользователь в рамках одной сессии посетил каждый сайт. Данный подход не учитывает сессии других пользователей. Данного недостатка лишен подход построения обучающей выборки с помощью tf-idf. Попробуем применить этот подход к задаче:"
   ]
  },
  {
   "cell_type": "code",
   "execution_count": 13,
   "metadata": {
    "collapsed": true
   },
   "outputs": [],
   "source": [
    "from sklearn.feature_extraction.text import TfidfVectorizer"
   ]
  },
  {
   "cell_type": "code",
   "execution_count": 161,
   "metadata": {
    "collapsed": true
   },
   "outputs": [],
   "source": [
    "tfidf = TfidfVectorizer(ngram_range=(1, 1), min_df=0, token_pattern=r\"\\b\\w+\\b\", sublinear_tf=True)"
   ]
  },
  {
   "cell_type": "code",
   "execution_count": 162,
   "metadata": {},
   "outputs": [],
   "source": [
    "texts_l_10_10 = [\" \".join(['' if pd.isnull(site) else str(int(site)) for site in i[1]])  for i in s_l_10_10_sites.iterrows()]\n",
    "tfidf_l_10_10 = tfidf.fit_transform(texts_l_10_10)"
   ]
  },
  {
   "cell_type": "code",
   "execution_count": 163,
   "metadata": {
    "collapsed": true
   },
   "outputs": [],
   "source": [
    "texts_t_30 = [\" \".join(['' if pd.isnull(site) else str(int(site)) for site in i[1]])  for i in s_t_30_sites.iterrows()]\n",
    "tfidf_t_30 = tfidf.fit_transform(texts_t_30)"
   ]
  },
  {
   "cell_type": "code",
   "execution_count": 39,
   "metadata": {},
   "outputs": [],
   "source": [
    "X_train_l_10_10, X_test_l_10_10, y_train_l_l0_10, y_test_l_10_10 = train_test_split(\n",
    "    tfidf_l_10_10,\n",
    "    y_l_10_10,\n",
    "    test_size = 0.3, \n",
    "    random_state = 17,\n",
    "    stratify = y_l_10_10\n",
    ")"
   ]
  },
  {
   "cell_type": "code",
   "execution_count": 40,
   "metadata": {
    "collapsed": true
   },
   "outputs": [],
   "source": [
    "X_train_t_30, X_test_t_30, y_train_t_30, y_test_t_30 = train_test_split(\n",
    "    tfidf_t_30,\n",
    "    y_t_30,\n",
    "    test_size = 0.3, \n",
    "    random_state = 17,\n",
    "    stratify = y_t_30\n",
    ")"
   ]
  },
  {
   "cell_type": "code",
   "execution_count": 41,
   "metadata": {},
   "outputs": [],
   "source": [
    "l_acc = cross_val_score(knn, X_train_l_10_10, y_train_l_l0_10, cv = skf).mean()\n",
    "t_acc = cross_val_score(knn, X_train_t_30, y_train_t_30, cv = skf).mean()"
   ]
  },
  {
   "cell_type": "code",
   "execution_count": 42,
   "metadata": {},
   "outputs": [
    {
     "name": "stdout",
     "output_type": "stream",
     "text": [
      "l = 0.703117254644, t = 0.598089469607\n"
     ]
    }
   ],
   "source": [
    "print('l = {}, t = {}'.format(l_acc, t_acc))"
   ]
  },
  {
   "cell_type": "code",
   "execution_count": 43,
   "metadata": {
    "collapsed": true
   },
   "outputs": [],
   "source": [
    "l_acc = cross_val_score(rfc, X_train_l_10_10, y_train_l_l0_10, cv = skf).mean()\n",
    "t_acc = cross_val_score(rfc, X_train_t_30, y_train_t_30, cv = skf).mean()"
   ]
  },
  {
   "cell_type": "code",
   "execution_count": 44,
   "metadata": {},
   "outputs": [
    {
     "name": "stdout",
     "output_type": "stream",
     "text": [
      "l = 0.804559135357, t = 0.699717536494\n"
     ]
    }
   ],
   "source": [
    "print('l = {}, t = {}'.format(l_acc, t_acc))"
   ]
  },
  {
   "cell_type": "code",
   "execution_count": 45,
   "metadata": {
    "collapsed": true
   },
   "outputs": [],
   "source": [
    "l_acc = cross_val_score(lr, X_train_l_10_10, y_train_l_l0_10, cv = skf).mean()\n",
    "t_acc = cross_val_score(lr, X_train_t_30, y_train_t_30, cv = skf).mean()"
   ]
  },
  {
   "cell_type": "code",
   "execution_count": 46,
   "metadata": {},
   "outputs": [
    {
     "name": "stdout",
     "output_type": "stream",
     "text": [
      "l = 0.812812509806, t = 0.680958125265\n"
     ]
    }
   ],
   "source": [
    "print('l = {}, t = {}'.format(l_acc, t_acc))"
   ]
  },
  {
   "cell_type": "code",
   "execution_count": 47,
   "metadata": {},
   "outputs": [
    {
     "data": {
      "text/plain": [
       "0.71783899438352505"
      ]
     },
     "execution_count": 47,
     "metadata": {},
     "output_type": "execute_result"
    }
   ],
   "source": [
    "knn.fit(X_train_l_10_10, y_train_l_l0_10).score(X_test_l_10_10, y_test_l_10_10)"
   ]
  },
  {
   "cell_type": "code",
   "execution_count": 48,
   "metadata": {},
   "outputs": [
    {
     "data": {
      "text/plain": [
       "0.82000534902380318"
      ]
     },
     "execution_count": 48,
     "metadata": {},
     "output_type": "execute_result"
    }
   ],
   "source": [
    "rfc.fit(X_train_l_10_10, y_train_l_l0_10).score(X_test_l_10_10, y_test_l_10_10)"
   ]
  },
  {
   "cell_type": "code",
   "execution_count": 49,
   "metadata": {},
   "outputs": [
    {
     "data": {
      "text/plain": [
       "0.83123829901043056"
      ]
     },
     "execution_count": 49,
     "metadata": {},
     "output_type": "execute_result"
    }
   ],
   "source": [
    "lr.fit(X_train_l_10_10, y_train_l_l0_10).score(X_test_l_10_10, y_test_l_10_10)"
   ]
  },
  {
   "cell_type": "markdown",
   "metadata": {},
   "source": [
    "Качество всех моделей значительно улучшилось при применении tf-idf. Далее не будем использовать подход с разреженной матрицей, описанный ваше."
   ]
  },
  {
   "cell_type": "markdown",
   "metadata": {},
   "source": [
    "### 6. CountVectorizer"
   ]
  },
  {
   "cell_type": "markdown",
   "metadata": {},
   "source": [
    "Попробуем добавить к нашим данным CountVectorizer и посмотреть как он повлияет на результат обучения."
   ]
  },
  {
   "cell_type": "code",
   "execution_count": 14,
   "metadata": {
    "collapsed": true
   },
   "outputs": [],
   "source": [
    "from sklearn.feature_extraction.text import CountVectorizer"
   ]
  },
  {
   "cell_type": "code",
   "execution_count": 165,
   "metadata": {
    "collapsed": true
   },
   "outputs": [],
   "source": [
    "cv = CountVectorizer(ngram_range=(1, 2), min_df=0, token_pattern=r\"\\b\\w+\\b\")"
   ]
  },
  {
   "cell_type": "code",
   "execution_count": 166,
   "metadata": {
    "collapsed": true
   },
   "outputs": [],
   "source": [
    "cv_l_10_10 = cv.fit_transform(texts_l_10_10)"
   ]
  },
  {
   "cell_type": "code",
   "execution_count": 167,
   "metadata": {
    "collapsed": true
   },
   "outputs": [],
   "source": [
    "cv_t_30 = cv.fit_transform(texts_t_30)"
   ]
  },
  {
   "cell_type": "markdown",
   "metadata": {},
   "source": [
    "Объединим полученные матрицы с tf-idf:"
   ]
  },
  {
   "cell_type": "code",
   "execution_count": 168,
   "metadata": {},
   "outputs": [],
   "source": [
    "tfcv_l_10_10 = hstack([tfidf_l_10_10, cv_l_10_10], format = 'csr')\n",
    "tfcv_t_30 = hstack([tfidf_t_30, cv_t_30], format = 'csr')"
   ]
  },
  {
   "cell_type": "code",
   "execution_count": 55,
   "metadata": {
    "collapsed": true
   },
   "outputs": [],
   "source": [
    "X_train_l_10_10, X_test_l_10_10, y_train_l_l0_10, y_test_l_10_10 = train_test_split(\n",
    "    tfcv_l_10_10,\n",
    "    y_l_10_10,\n",
    "    test_size = 0.3, \n",
    "    random_state = 17,\n",
    "    stratify = y_l_10_10\n",
    ")"
   ]
  },
  {
   "cell_type": "code",
   "execution_count": 56,
   "metadata": {
    "collapsed": true
   },
   "outputs": [],
   "source": [
    "X_train_t_30, X_test_t_30, y_train_t_30, y_test_t_30 = train_test_split(\n",
    "    tfcv_t_30,\n",
    "    y_t_30,\n",
    "    test_size = 0.3, \n",
    "    random_state = 17,\n",
    "    stratify = y_t_30\n",
    ")"
   ]
  },
  {
   "cell_type": "code",
   "execution_count": 57,
   "metadata": {},
   "outputs": [
    {
     "name": "stdout",
     "output_type": "stream",
     "text": [
      "l = 0.651766584762, t = 0.466408508902\n"
     ]
    }
   ],
   "source": [
    "l_acc = cross_val_score(knn, X_train_l_10_10, y_train_l_l0_10, cv = skf).mean()\n",
    "t_acc = cross_val_score(knn, X_train_t_30, y_train_t_30, cv = skf).mean()\n",
    "print('l = {}, t = {}'.format(l_acc, t_acc))"
   ]
  },
  {
   "cell_type": "code",
   "execution_count": 58,
   "metadata": {},
   "outputs": [
    {
     "name": "stdout",
     "output_type": "stream",
     "text": [
      "l = 0.797111921339, t = 0.687566522673\n"
     ]
    }
   ],
   "source": [
    "l_acc = cross_val_score(rfc, X_train_l_10_10, y_train_l_l0_10, cv = skf).mean()\n",
    "t_acc = cross_val_score(rfc, X_train_t_30, y_train_t_30, cv = skf).mean()\n",
    "print('l = {}, t = {}'.format(l_acc, t_acc))"
   ]
  },
  {
   "cell_type": "code",
   "execution_count": 59,
   "metadata": {},
   "outputs": [
    {
     "name": "stdout",
     "output_type": "stream",
     "text": [
      "l = 0.82759506558, t = 0.704692144602\n"
     ]
    }
   ],
   "source": [
    "l_acc = cross_val_score(lr, X_train_l_10_10, y_train_l_l0_10, cv = skf).mean()\n",
    "t_acc = cross_val_score(lr, X_train_t_30, y_train_t_30, cv = skf).mean()\n",
    "print('l = {}, t = {}'.format(l_acc, t_acc))"
   ]
  },
  {
   "cell_type": "code",
   "execution_count": 60,
   "metadata": {},
   "outputs": [
    {
     "data": {
      "text/plain": [
       "0.688954265846483"
      ]
     },
     "execution_count": 60,
     "metadata": {},
     "output_type": "execute_result"
    }
   ],
   "source": [
    "knn.fit(X_train_l_10_10, y_train_l_l0_10).score(X_test_l_10_10, y_test_l_10_10)"
   ]
  },
  {
   "cell_type": "code",
   "execution_count": 61,
   "metadata": {},
   "outputs": [
    {
     "data": {
      "text/plain": [
       "0.81091200855843804"
      ]
     },
     "execution_count": 61,
     "metadata": {},
     "output_type": "execute_result"
    }
   ],
   "source": [
    "rfc.fit(X_train_l_10_10, y_train_l_l0_10).score(X_test_l_10_10, y_test_l_10_10)"
   ]
  },
  {
   "cell_type": "code",
   "execution_count": 62,
   "metadata": {},
   "outputs": [
    {
     "data": {
      "text/plain": [
       "0.85557635731479009"
      ]
     },
     "execution_count": 62,
     "metadata": {},
     "output_type": "execute_result"
    }
   ],
   "source": [
    "lr.fit(X_train_l_10_10, y_train_l_l0_10).score(X_test_l_10_10, y_test_l_10_10)"
   ]
  },
  {
   "cell_type": "markdown",
   "metadata": {},
   "source": [
    "В некоторых случаях CountVectorizer дает увеличение качества обучения. Будем использовать его в дальнейшем."
   ]
  },
  {
   "cell_type": "markdown",
   "metadata": {},
   "source": [
    "### 7. Добавление новых признаков"
   ]
  },
  {
   "cell_type": "markdown",
   "metadata": {},
   "source": [
    "На данный момент для прогноза использовались только признаки посещенных сайтов. Попробуем добавить дополнительные признаки для того, чтобы повлиять на качество обучения моделей."
   ]
  },
  {
   "cell_type": "code",
   "execution_count": 23,
   "metadata": {},
   "outputs": [],
   "source": [
    "# Выедилим временные признаки и установим для них тип datetime\n",
    "s_l_10_10_times = sessions_length_10_10[['timestamp_%d' % i for i in range(1, get_sites_count(sessions_length_10_10) + 1)]]\n",
    "for column in s_l_10_10_times:\n",
    "    s_l_10_10_times[column] = pd.to_datetime(s_l_10_10_times[column])"
   ]
  },
  {
   "cell_type": "markdown",
   "metadata": {},
   "source": [
    "<b>Количество уникальных сайтов в сессии</b>"
   ]
  },
  {
   "cell_type": "code",
   "execution_count": 78,
   "metadata": {},
   "outputs": [],
   "source": [
    "unique_sites = [len(list(set([0 if pd.isnull(site) else int(site) for site in i[1]]))) for i in s_l_10_10_sites.iterrows()]"
   ]
  },
  {
   "cell_type": "markdown",
   "metadata": {},
   "source": [
    "<b>Количество сайтов из ТОП-10 в сессии</b>"
   ]
  },
  {
   "cell_type": "code",
   "execution_count": 24,
   "metadata": {},
   "outputs": [],
   "source": [
    "def get_top_sites_count(dataframe, top = 10):\n",
    "    result = []\n",
    "    for idx, row in dataframe.iterrows():\n",
    "        result.append(len(filter(lambda x: x <= top, row.values)))\n",
    "    return result"
   ]
  },
  {
   "cell_type": "code",
   "execution_count": null,
   "metadata": {
    "collapsed": true
   },
   "outputs": [],
   "source": [
    "top_sites = get_top_sites_count(s_l_10_10_sites)"
   ]
  },
  {
   "cell_type": "markdown",
   "metadata": {},
   "source": [
    "<b>Длина сессии в секундах</b>"
   ]
  },
  {
   "cell_type": "code",
   "execution_count": 25,
   "metadata": {},
   "outputs": [],
   "source": [
    "def get_timespan(dataframe):\n",
    "    result = []\n",
    "    for idx, row in dataframe.iterrows():\n",
    "        start = end = row[0]\n",
    "        for timestamp in row:\n",
    "            if pd.isnull(timestamp):\n",
    "                break\n",
    "            end = timestamp\n",
    "        result.append((end-start).seconds)\n",
    "    return result"
   ]
  },
  {
   "cell_type": "code",
   "execution_count": null,
   "metadata": {
    "collapsed": true
   },
   "outputs": [],
   "source": [
    "timespan = get_timespan(s_l_10_10_times)"
   ]
  },
  {
   "cell_type": "markdown",
   "metadata": {},
   "source": [
    "<b>Час начала сессии</b>"
   ]
  },
  {
   "cell_type": "code",
   "execution_count": 26,
   "metadata": {
    "collapsed": true
   },
   "outputs": [],
   "source": [
    "def get_start_hour(dataframe):\n",
    "    result = []\n",
    "    for idx, row in dataframe.iterrows():\n",
    "        result.append(row[0].hour)\n",
    "    return result"
   ]
  },
  {
   "cell_type": "code",
   "execution_count": null,
   "metadata": {
    "collapsed": true
   },
   "outputs": [],
   "source": [
    "start_hour = get_start_hour(s_l_10_10_times)"
   ]
  },
  {
   "cell_type": "markdown",
   "metadata": {},
   "source": [
    "<b>День недели начала сесии</b>"
   ]
  },
  {
   "cell_type": "code",
   "execution_count": 27,
   "metadata": {
    "collapsed": true
   },
   "outputs": [],
   "source": [
    "def get_day_of_week(dataframe):\n",
    "    result = []\n",
    "    for idx, row in dataframe.iterrows():\n",
    "        result.append(row[0].dayofweek)\n",
    "    return result"
   ]
  },
  {
   "cell_type": "code",
   "execution_count": null,
   "metadata": {
    "collapsed": true
   },
   "outputs": [],
   "source": [
    "day_of_week = get_day_of_week(s_l_10_10_times)"
   ]
  },
  {
   "cell_type": "markdown",
   "metadata": {},
   "source": [
    "<b>Проанализируем полученные признаки</b>"
   ]
  },
  {
   "cell_type": "code",
   "execution_count": 121,
   "metadata": {},
   "outputs": [],
   "source": [
    "features = pd.DataFrame({\n",
    "    'unique_sites': unique_sites,\n",
    "    'top_sites': top_sites,\n",
    "    'timespan': timespan,\n",
    "    'start_hour': start_hour,\n",
    "    'day_of_week': day_of_week,\n",
    "    'user_id': list(y_l_10_10.values)\n",
    "})"
   ]
  },
  {
   "cell_type": "markdown",
   "metadata": {},
   "source": [
    "Убедимся, что все признаки заполнены и в них нет пропусков"
   ]
  },
  {
   "cell_type": "code",
   "execution_count": 117,
   "metadata": {},
   "outputs": [
    {
     "name": "stdout",
     "output_type": "stream",
     "text": [
      "<class 'pandas.core.frame.DataFrame'>\n",
      "RangeIndex: 12463 entries, 0 to 12462\n",
      "Data columns (total 6 columns):\n",
      "day_of_week     12463 non-null int64\n",
      "start_hour      12463 non-null int64\n",
      "timespan        12463 non-null int64\n",
      "top_sites       12463 non-null int64\n",
      "unique_sites    12463 non-null int64\n",
      "user_id         12463 non-null int64\n",
      "dtypes: int64(6)\n",
      "memory usage: 584.3 KB\n"
     ]
    }
   ],
   "source": [
    "features.info()"
   ]
  },
  {
   "cell_type": "markdown",
   "metadata": {},
   "source": [
    "Построим график взаимной корреляции признаков"
   ]
  },
  {
   "cell_type": "code",
   "execution_count": 123,
   "metadata": {},
   "outputs": [
    {
     "data": {
      "image/png": "[encoded data removed]",
      "text/plain": [
       "<matplotlib.figure.Figure at 0x12b0e55d0>"
      ]
     },
     "metadata": {},
     "output_type": "display_data"
    }
   ],
   "source": [
    "corr_matrix = features[['unique_sites', 'top_sites', 'timespan', 'start_hour', 'day_of_week']].corr()\n",
    "sns.heatmap(corr_matrix);"
   ]
  },
  {
   "cell_type": "markdown",
   "metadata": {},
   "source": [
    "Из графика видно, что никакие признаки не коррелируют между собой, поэтому для дальнейшего анализа оставим их все."
   ]
  },
  {
   "cell_type": "markdown",
   "metadata": {},
   "source": [
    "Построим гистограммы распределения признаков для каждого пользователя:"
   ]
  },
  {
   "cell_type": "code",
   "execution_count": 127,
   "metadata": {},
   "outputs": [
    {
     "data": {
      "image/png": "[encoded data removed]",
      "text/plain": [
       "<matplotlib.figure.Figure at 0x115ab8c50>"
      ]
     },
     "metadata": {},
     "output_type": "display_data"
    }
   ],
   "source": [
    "fig, axes = plt.subplots(nrows=3, ncols=4, figsize=(16, 10))\n",
    "\n",
    "for idx, (user, sub_df) in  enumerate(pd.groupby(features, 'user_id')): \n",
    "    ax = axes[idx / 4, idx % 4]\n",
    "    ax.hist(sub_df['unique_sites'])\n",
    "    ax.legend([user])\n",
    "    ax.set_xlabel(u'Кол-во уникальных сайтов')\n",
    "    ax.set_ylabel(u'Частота')"
   ]
  },
  {
   "cell_type": "code",
   "execution_count": 131,
   "metadata": {},
   "outputs": [
    {
     "data": {
      "image/png": "[encoded data removed]",
      "text/plain": [
       "<matplotlib.figure.Figure at 0x12cf0a810>"
      ]
     },
     "metadata": {},
     "output_type": "display_data"
    }
   ],
   "source": [
    "fig, axes = plt.subplots(nrows=3, ncols=4, figsize=(16, 10))\n",
    "\n",
    "for idx, (user, sub_df) in  enumerate(pd.groupby(features, 'user_id')): \n",
    "    ax = axes[idx / 4, idx % 4]\n",
    "    ax.hist(sub_df['top_sites'])\n",
    "    ax.legend([user])\n",
    "    ax.set_xlabel(u'Кол-во топ-10 сайтов')\n",
    "    ax.set_ylabel(u'Частота')"
   ]
  },
  {
   "cell_type": "code",
   "execution_count": 132,
   "metadata": {},
   "outputs": [
    {
     "data": {
      "image/png": "[encoded data removed]",
      "text/plain": [
       "<matplotlib.figure.Figure at 0x12de3ca10>"
      ]
     },
     "metadata": {},
     "output_type": "display_data"
    }
   ],
   "source": [
    "fig, axes = plt.subplots(nrows=3, ncols=4, figsize=(16, 10))\n",
    "\n",
    "for idx, (user, sub_df) in  enumerate(pd.groupby(features, 'user_id')): \n",
    "    ax = axes[idx / 4, idx % 4]\n",
    "    ax.hist(sub_df[sub_df.timespan < 100].timespan, color = 'darkviolet')\n",
    "    ax.legend([user])\n",
    "    ax.set_xlabel(u'Длина сессии')\n",
    "    ax.set_ylabel(u'Частота')"
   ]
  },
  {
   "cell_type": "code",
   "execution_count": 133,
   "metadata": {},
   "outputs": [
    {
     "data": {
      "image/png": "[encoded data removed]",
      "text/plain": [
       "<matplotlib.figure.Figure at 0x12dc9bb10>"
      ]
     },
     "metadata": {},
     "output_type": "display_data"
    }
   ],
   "source": [
    "fig, axes = plt.subplots(nrows=3, ncols=4, figsize=(16, 10))\n",
    "\n",
    "for idx, (user, sub_df) in  enumerate(pd.groupby(features, 'user_id')): \n",
    "    ax = axes[idx / 4, idx % 4]\n",
    "    ax.hist(sub_df['start_hour'], color = 'blueviolet')\n",
    "    ax.legend([user])\n",
    "    ax.set_xlabel(u'Час начала сессии')\n",
    "    ax.set_ylabel(u'Частота')"
   ]
  },
  {
   "cell_type": "code",
   "execution_count": 134,
   "metadata": {},
   "outputs": [
    {
     "data": {
      "image/png": "[encoded data removed]",
      "text/plain": [
       "<matplotlib.figure.Figure at 0x12d891190>"
      ]
     },
     "metadata": {},
     "output_type": "display_data"
    }
   ],
   "source": [
    "fig, axes = plt.subplots(nrows=3, ncols=4, figsize=(16, 10))\n",
    "\n",
    "for idx, (user, sub_df) in  enumerate(pd.groupby(features, 'user_id')): \n",
    "    ax = axes[idx / 4, idx % 4]\n",
    "    ax.hist(sub_df['day_of_week'], color = 'hotpink')\n",
    "    ax.legend([user])\n",
    "    ax.set_xlabel(u'День недели начала сессии')\n",
    "    ax.set_ylabel(u'Частота')"
   ]
  },
  {
   "cell_type": "markdown",
   "metadata": {},
   "source": [
    "Из графиков видно, что признаки \"Количество уникальных сайтов\" и \"Количество сайтов из топ-10\" хотя и не сильно отличаются для разных пользователей, но для некоторых пользователей являются достаточно индивидуальными. Такие признаки помогут лучше отделать пользователей от всех остальных.\n",
    "\n",
    "Признак \"Продолжительность сессии в секундах\" имеет примерно одинаковое распределение для всех пользователей.\n",
    "\n",
    "Признаки \"Час начала сессии\" и \"День недели начала сессии\" распределены по-разному для пользователей и, вероятно, улучшат качество обучения."
   ]
  },
  {
   "cell_type": "markdown",
   "metadata": {},
   "source": [
    "### 8. Обучение моделей"
   ]
  },
  {
   "cell_type": "markdown",
   "metadata": {},
   "source": [
    "Определим две функции, которые будут отдавать полный набор признаков, готовый для обучения."
   ]
  },
  {
   "cell_type": "code",
   "execution_count": 28,
   "metadata": {
    "collapsed": true
   },
   "outputs": [],
   "source": [
    "# Строит признаки по длине сессии\n",
    "def build_features_by_size(directory, frequency, size = 10, offset = 10):\n",
    "    sessions = build_sessions_by_size(directory, frequency, size, offset)\n",
    "    \n",
    "    #sites, timestamps\n",
    "    sites = sessions[['site_%d' % i for i in range(1, get_sites_count(sessions) + 1)]]\n",
    "    timestamps = sessions[['timestamp_%d' % i for i in range(1, get_sites_count(sessions) + 1)]]\n",
    "    for column in timestamps:\n",
    "        timestamps[column] = pd.to_datetime(timestamps[column])\n",
    "    \n",
    "    #tf-idf\n",
    "    tfidf = TfidfVectorizer(ngram_range=(1, 1), min_df=0, token_pattern=r\"\\b\\w+\\b\", sublinear_tf=True)\n",
    "    texts = [\" \".join(['' if pd.isnull(site) else str(int(site)) for site in i[1]])  for i in sites.iterrows()]\n",
    "    tfidf_features = tfidf.fit_transform(texts)\n",
    "    \n",
    "    #ConuntVectorizer\n",
    "    cv = CountVectorizer(ngram_range=(1, 2), min_df=0, token_pattern=r\"\\b\\w+\\b\")\n",
    "    cv_features = cv.fit_transform(texts)\n",
    "    \n",
    "    #additional features\n",
    "    unique_sites = [len(list(set([0 if pd.isnull(site) else int(site) for site in i[1]]))) for i in sites.iterrows()]\n",
    "    top_sites = get_top_sites_count(sites)\n",
    "    timespan = get_timespan(timestamps)\n",
    "    start_hour = get_start_hour(timestamps)\n",
    "    day_of_week = get_day_of_week(timestamps)\n",
    "    \n",
    "    return hstack([\n",
    "        tfidf_features,\n",
    "        cv_features,\n",
    "        np.array(unique_sites).reshape(len(unique_sites),1),\n",
    "        np.array(top_sites).reshape(len(top_sites), 1),\n",
    "        np.array(timespan).reshape(len(timespan), 1),\n",
    "        np.array(start_hour).reshape(len(start_hour), 1),\n",
    "        np.array(day_of_week).reshape(len(day_of_week), 1),\n",
    "        np.array(list(sessions['user_id'].values)).reshape(len(unique_sites), 1)\n",
    "    ], format='csr')"
   ]
  },
  {
   "cell_type": "code",
   "execution_count": 29,
   "metadata": {
    "collapsed": true
   },
   "outputs": [],
   "source": [
    "# Строит признаки по продолжительности сессии\n",
    "def build_features_by_timespan(directory, frequency, length = 30 * 60):\n",
    "    sessions = build_sessions_by_timespan(directory, frequency, length)\n",
    "    \n",
    "    #sites, timestamps\n",
    "    sites = sessions[['site_%d' % i for i in range(1, get_sites_count(sessions) + 1)]]\n",
    "    timestamps = sessions[['timestamp_%d' % i for i in range(1, get_sites_count(sessions) + 1)]]\n",
    "    for column in timestamps:\n",
    "        timestamps[column] = pd.to_datetime(timestamps[column])\n",
    "    \n",
    "    #tf-idf\n",
    "    tfidf = TfidfVectorizer(ngram_range=(1, 1), min_df=0, token_pattern=r\"\\b\\w+\\b\", sublinear_tf=True)\n",
    "    texts = [\" \".join(['' if pd.isnull(site) else str(int(site)) for site in i[1]])  for i in sites.iterrows()]\n",
    "    tfidf_features = tfidf.fit_transform(texts)\n",
    "    \n",
    "    #ConuntVectorizer\n",
    "    cv = CountVectorizer(ngram_range=(1, 2), min_df=0, token_pattern=r\"\\b\\w+\\b\")\n",
    "    cv_features = cv.fit_transform(texts)\n",
    "    \n",
    "    #additional features\n",
    "    unique_sites = [len(list(set([0 if pd.isnull(site) else int(site) for site in i[1]]))) for i in sites.iterrows()]\n",
    "    top_sites = get_top_sites_count(sites)\n",
    "    timespan = get_timespan(timestamps)\n",
    "    start_hour = get_start_hour(timestamps)\n",
    "    day_of_week = get_day_of_week(timestamps)\n",
    "    \n",
    "    return hstack([\n",
    "        tfidf_features,\n",
    "        cv_features,\n",
    "        np.array(unique_sites).reshape(len(unique_sites),1),\n",
    "        np.array(top_sites).reshape(len(top_sites), 1),\n",
    "        np.array(timespan).reshape(len(timespan), 1),\n",
    "        np.array(start_hour).reshape(len(start_hour), 1),\n",
    "        np.array(day_of_week).reshape(len(day_of_week), 1),\n",
    "        np.array(list(sessions['user_id'].values)).reshape(len(unique_sites), 1)\n",
    "    ], format='csr')"
   ]
  },
  {
   "cell_type": "markdown",
   "metadata": {},
   "source": [
    "Лучшее качество обучения на данных, построенных с помощью tf-idf показала линейная регрессия. Оценим с помощью нее построение выборок на основании разных параметров длины сессии в сайтах и секундах."
   ]
  },
  {
   "cell_type": "code",
   "execution_count": 30,
   "metadata": {
    "collapsed": true
   },
   "outputs": [],
   "source": [
    "# Возвращает качество обучения модели на тренировочных данных, проверенное на тестовых данных\n",
    "def get_model_score(model, data):\n",
    "    data = data.toarray()\n",
    "    X = data[:,:-1]\n",
    "    Y = data[:,-1]\n",
    "    X_train, X_test, y_train, y_test = train_test_split(\n",
    "        X,\n",
    "        Y,\n",
    "        test_size = 0.3, \n",
    "        random_state = 17,\n",
    "        stratify = Y\n",
    "    )\n",
    "    return model.fit(X_train, y_train).score(X_test, y_test)"
   ]
  },
  {
   "cell_type": "code",
   "execution_count": 34,
   "metadata": {},
   "outputs": [
    {
     "data": {
      "text/plain": [
       "0.8202487628728099"
      ]
     },
     "execution_count": 34,
     "metadata": {},
     "output_type": "execute_result"
    }
   ],
   "source": [
    "get_model_score(lr, build_features_by_size(PATH_TO_DATA, frequency, 5, 5))"
   ]
  },
  {
   "cell_type": "code",
   "execution_count": 33,
   "metadata": {},
   "outputs": [
    {
     "data": {
      "text/plain": [
       "0.90089608131603582"
      ]
     },
     "execution_count": 33,
     "metadata": {},
     "output_type": "execute_result"
    }
   ],
   "source": [
    "get_model_score(lr, build_features_by_size(PATH_TO_DATA, frequency, 10, 5))"
   ]
  },
  {
   "cell_type": "code",
   "execution_count": 26,
   "metadata": {},
   "outputs": [
    {
     "data": {
      "text/plain": [
       "0.85450655255415886"
      ]
     },
     "execution_count": 26,
     "metadata": {},
     "output_type": "execute_result"
    }
   ],
   "source": [
    "get_model_score(lr, build_features_by_size(PATH_TO_DATA, frequency, 10, 10))"
   ]
  },
  {
   "cell_type": "code",
   "execution_count": 27,
   "metadata": {},
   "outputs": [
    {
     "data": {
      "text/plain": [
       "0.94984619499799383"
      ]
     },
     "execution_count": 27,
     "metadata": {},
     "output_type": "execute_result"
    }
   ],
   "source": [
    "get_model_score(lr, build_features_by_size(PATH_TO_DATA, frequency, 15, 5))"
   ]
  },
  {
   "cell_type": "code",
   "execution_count": 28,
   "metadata": {},
   "outputs": [
    {
     "data": {
      "text/plain": [
       "0.91254346081840065"
      ]
     },
     "execution_count": 28,
     "metadata": {},
     "output_type": "execute_result"
    }
   ],
   "source": [
    "get_model_score(lr, build_features_by_size(PATH_TO_DATA, frequency, 15, 10))"
   ]
  },
  {
   "cell_type": "code",
   "execution_count": 29,
   "metadata": {},
   "outputs": [
    {
     "data": {
      "text/plain": [
       "0.85960689931809064"
      ]
     },
     "execution_count": 29,
     "metadata": {},
     "output_type": "execute_result"
    }
   ],
   "source": [
    "get_model_score(lr, build_features_by_size(PATH_TO_DATA, frequency, 15, 15))"
   ]
  },
  {
   "cell_type": "code",
   "execution_count": 30,
   "metadata": {},
   "outputs": [
    {
     "data": {
      "text/plain": [
       "0.73246642506928161"
      ]
     },
     "execution_count": 30,
     "metadata": {},
     "output_type": "execute_result"
    }
   ],
   "source": [
    "get_model_score(lr, build_features_by_timespan(PATH_TO_DATA, frequency, 5))"
   ]
  },
  {
   "cell_type": "code",
   "execution_count": 31,
   "metadata": {},
   "outputs": [
    {
     "data": {
      "text/plain": [
       "0.75013706140350878"
      ]
     },
     "execution_count": 31,
     "metadata": {},
     "output_type": "execute_result"
    }
   ],
   "source": [
    "get_model_score(lr, build_features_by_timespan(PATH_TO_DATA, frequency, 10))"
   ]
  },
  {
   "cell_type": "code",
   "execution_count": 32,
   "metadata": {},
   "outputs": [
    {
     "data": {
      "text/plain": [
       "0.73230631837463722"
      ]
     },
     "execution_count": 32,
     "metadata": {},
     "output_type": "execute_result"
    }
   ],
   "source": [
    "get_model_score(lr, build_features_by_timespan(PATH_TO_DATA, frequency, 30))"
   ]
  },
  {
   "cell_type": "markdown",
   "metadata": {},
   "source": [
    "Исходя из полученных результатов далее будем улучшать качество на сессиях длиной 15 со смещением 5"
   ]
  },
  {
   "cell_type": "code",
   "execution_count": 31,
   "metadata": {
    "collapsed": true
   },
   "outputs": [],
   "source": [
    "features = build_features_by_size(PATH_TO_DATA, frequency, 15, 5)"
   ]
  },
  {
   "cell_type": "markdown",
   "metadata": {},
   "source": [
    "<b>К сожалению, если запускать поиск через GridSearchCV - процесс упирается в объем памяти, поэтому далее будем обучать по дному классификатору за раз</b>"
   ]
  },
  {
   "cell_type": "markdown",
   "metadata": {},
   "source": [
    "<b>Случайный лес:</b>"
   ]
  },
  {
   "cell_type": "code",
   "execution_count": 37,
   "metadata": {},
   "outputs": [
    {
     "data": {
      "text/plain": [
       "0.94182158619767287"
      ]
     },
     "execution_count": 37,
     "metadata": {},
     "output_type": "execute_result"
    }
   ],
   "source": [
    "get_model_score(RandomForestClassifier(n_estimators=100, oob_score=True, n_jobs=-1, random_state=17), features)"
   ]
  },
  {
   "cell_type": "code",
   "execution_count": 38,
   "metadata": {},
   "outputs": [
    {
     "data": {
      "text/plain": [
       "0.94957870803798317"
      ]
     },
     "execution_count": 38,
     "metadata": {},
     "output_type": "execute_result"
    }
   ],
   "source": [
    "get_model_score(RandomForestClassifier(n_estimators=500, oob_score=True, n_jobs=-1, random_state=17), features)"
   ]
  },
  {
   "cell_type": "code",
   "execution_count": 39,
   "metadata": {},
   "outputs": [
    {
     "data": {
      "text/plain": [
       "0.94984619499799383"
      ]
     },
     "execution_count": 39,
     "metadata": {},
     "output_type": "execute_result"
    }
   ],
   "source": [
    "get_model_score(RandomForestClassifier(n_estimators=1000, oob_score=True, n_jobs=-1, random_state=17), features)"
   ]
  },
  {
   "cell_type": "markdown",
   "metadata": {},
   "source": [
    "Лучший результат показывает случайный лес с n_estimators = 1000 (0.94984619499799383)"
   ]
  },
  {
   "cell_type": "markdown",
   "metadata": {},
   "source": [
    "<b>Логистическая регрессия:</b>"
   ]
  },
  {
   "cell_type": "code",
   "execution_count": 26,
   "metadata": {},
   "outputs": [
    {
     "data": {
      "text/plain": [
       "0.94984619499799383"
      ]
     },
     "execution_count": 26,
     "metadata": {},
     "output_type": "execute_result"
    }
   ],
   "source": [
    "get_model_score(LogisticRegression(C=1, n_jobs=-1, random_state=17), features)"
   ]
  },
  {
   "cell_type": "code",
   "execution_count": 27,
   "metadata": {},
   "outputs": [
    {
     "data": {
      "text/plain": [
       "0.73920021398956803"
      ]
     },
     "execution_count": 27,
     "metadata": {},
     "output_type": "execute_result"
    }
   ],
   "source": [
    "get_model_score(LogisticRegression(C=0.001, n_jobs=-1, random_state=17), features)"
   ]
  },
  {
   "cell_type": "code",
   "execution_count": 28,
   "metadata": {},
   "outputs": [
    {
     "data": {
      "text/plain": [
       "0.86371539387454865"
      ]
     },
     "execution_count": 28,
     "metadata": {},
     "output_type": "execute_result"
    }
   ],
   "source": [
    "get_model_score(LogisticRegression(C=0.01, n_jobs=-1, random_state=17), features)"
   ]
  },
  {
   "cell_type": "code",
   "execution_count": 29,
   "metadata": {},
   "outputs": [
    {
     "data": {
      "text/plain": [
       "0.92670857295706832"
      ]
     },
     "execution_count": 29,
     "metadata": {},
     "output_type": "execute_result"
    }
   ],
   "source": [
    "get_model_score(LogisticRegression(C=0.1, n_jobs=-1, random_state=17), features)"
   ]
  },
  {
   "cell_type": "code",
   "execution_count": 30,
   "metadata": {},
   "outputs": [
    {
     "data": {
      "text/plain": [
       "0.95639962551825597"
      ]
     },
     "execution_count": 30,
     "metadata": {},
     "output_type": "execute_result"
    }
   ],
   "source": [
    "get_model_score(LogisticRegression(C=10, n_jobs=-1, random_state=17), features)"
   ]
  },
  {
   "cell_type": "code",
   "execution_count": 31,
   "metadata": {},
   "outputs": [
    {
     "data": {
      "text/plain": [
       "0.95546342115821858"
      ]
     },
     "execution_count": 31,
     "metadata": {},
     "output_type": "execute_result"
    }
   ],
   "source": [
    "get_model_score(LogisticRegression(C=100, n_jobs=-1, random_state=17), features)"
   ]
  },
  {
   "cell_type": "code",
   "execution_count": 32,
   "metadata": {},
   "outputs": [
    {
     "data": {
      "text/plain": [
       "0.95639962551825597"
      ]
     },
     "execution_count": 32,
     "metadata": {},
     "output_type": "execute_result"
    }
   ],
   "source": [
    "get_model_score(LogisticRegression(C=1000, n_jobs=-1, random_state=17), features)"
   ]
  },
  {
   "cell_type": "markdown",
   "metadata": {},
   "source": [
    "Лучший результат достигается на параметре С = 10 (0.95639962551825597), при этом он превосходит случайный лес"
   ]
  },
  {
   "cell_type": "markdown",
   "metadata": {},
   "source": [
    "<b>SGD классификатор:</b>"
   ]
  },
  {
   "cell_type": "code",
   "execution_count": 36,
   "metadata": {
    "collapsed": true
   },
   "outputs": [],
   "source": [
    "def sgd_best_scores(features, alpha, l1_ratio):\n",
    "    best = 0\n",
    "    best_alpha = 0\n",
    "    best_l1 = 0\n",
    "    for a in alpha:\n",
    "        for l1 in l1_ratio:\n",
    "            model = SGDClassifier(alpha = a, l1_ratio = l1, loss='log', penalty='elasticnet', random_state=17, n_jobs=-1)\n",
    "            current = get_model_score(model, features)\n",
    "            if current > best:\n",
    "                best = current\n",
    "                best_aplha = a\n",
    "                best_l1 = l1\n",
    "                \n",
    "    return (best, best_aplha, best_l1)"
   ]
  },
  {
   "cell_type": "code",
   "execution_count": 37,
   "metadata": {},
   "outputs": [
    {
     "data": {
      "text/plain": [
       "(0.32793901297311756, 0.01, 1)"
      ]
     },
     "execution_count": 37,
     "metadata": {},
     "output_type": "execute_result"
    }
   ],
   "source": [
    "sgd_best_scores(features, [10 ** x for x in range(-6, 1)], [0, 0.05, 0.1, 0.2, 0.5, 0.8, 0.9, 0.95, 1])"
   ]
  },
  {
   "cell_type": "markdown",
   "metadata": {},
   "source": [
    "Лучший результат достигается с параметрами: alpha = 0.01, l1_ratio = 1 (0.32793901297311756)"
   ]
  },
  {
   "cell_type": "markdown",
   "metadata": {},
   "source": [
    "### 9. Выводы"
   ]
  },
  {
   "cell_type": "markdown",
   "metadata": {},
   "source": [
    "В процессе работы были использованы следующие подходы:\n",
    "- csr_matrix (разреженная матрица), не используется из-за более низкого качества обучения\n",
    "- tf-idf, используется, так как значительно повышает качество обучения\n",
    "- countVectorizer, используется, но незначительно повышает качество обучения\n",
    "- дополнительные признаки: количество уникальных сайтов в сессии, количество сайтов из топ-10, час начала сессии, день недели начала сессии и продолжительность сессии. Признаки дают повышение качества обучения модели\n",
    "\n",
    "В резульате лучший результат на задаче многоклассовой классификации показала логистическая регрессия с параметром С = 10: 0.95639962551825597, что является достаточно хорошим результатом для задачи \"Все против всех\".\n",
    "\n",
    "В дальнейшем можно попробовать обучить смешанные модели, например XGBoost. В задаче \"Один против всех\" данная модель показала значительные результаты."
   ]
  }
 ],
 "metadata": {
  "kernelspec": {
   "display_name": "Python 3",
   "language": "python",
   "name": "python3"
  },
  "language_info": {
   "codemirror_mode": {
    "name": "ipython",
    "version": 3
   },
   "file_extension": ".py",
   "mimetype": "text/x-python",
   "name": "python",
   "nbconvert_exporter": "python",
   "pygments_lexer": "ipython3",
   "version": "3.6.3"
  }
 },
 "nbformat": 4,
 "nbformat_minor": 2
}
